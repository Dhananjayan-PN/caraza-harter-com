{
 "cells": [
  {
   "cell_type": "markdown",
   "metadata": {},
   "source": [
    "# Web 1 \n",
    "- requests module\n",
    "    - download content from the Internet using HTTP"
   ]
  },
  {
   "cell_type": "code",
   "execution_count": 1,
   "metadata": {},
   "outputs": [
    {
     "data": {
      "text/html": [
       "<style>.container { width:100% !important; }</style>"
      ],
      "text/plain": [
       "<IPython.core.display.HTML object>"
      ]
     },
     "metadata": {},
     "output_type": "display_data"
    }
   ],
   "source": [
    "from IPython.core.display import display, HTML\n",
    "display(HTML(\"<style>.container { width:100% !important; }</style>\"))"
   ]
  },
  {
   "cell_type": "code",
   "execution_count": 2,
   "metadata": {},
   "outputs": [],
   "source": [
    "# import statements"
   ]
  },
  {
   "cell_type": "markdown",
   "metadata": {},
   "source": [
    "# requests module"
   ]
  },
  {
   "cell_type": "markdown",
   "metadata": {},
   "source": [
    "### HTTP Status Codes overview\n",
    "- 1XX : Informational\n",
    "- 2XX : Successful\n",
    "- 3XX : Redirection\n",
    "- 4XX : Client Error\n",
    "- 5XX : Server Error\n",
    "    \n",
    "https://en.wikipedia.org/wiki/List_of_HTTP_status_codes"
   ]
  },
  {
   "cell_type": "markdown",
   "metadata": {},
   "source": [
    "## DEMO 1: Simple string example\n",
    "- URL: https://www.msyamkumar.com/hello.txt"
   ]
  },
  {
   "cell_type": "code",
   "execution_count": null,
   "metadata": {},
   "outputs": [],
   "source": [
    "url = \"https://www.msyamkumar.com/hello.txt\"\n"
   ]
  },
  {
   "cell_type": "code",
   "execution_count": null,
   "metadata": {},
   "outputs": [],
   "source": [
    "typo_url = \"https://www.msyamkumar.com/hello.txttttttt\"\n"
   ]
  },
  {
   "cell_type": "markdown",
   "metadata": {},
   "source": [
    "## DEMO 2: JSON file example\n",
    "- URL: https://www.msyamkumar.com/scores.json\n",
    "- json.load(FILE_OBJECT)\n",
    "- json.loads(STRING)"
   ]
  },
  {
   "cell_type": "code",
   "execution_count": null,
   "metadata": {},
   "outputs": [],
   "source": [
    "url = \"https://www.msyamkumar.com/scores.json\"\n",
    "r = requests.get(url)\n",
    "r.raise_for_status()\n",
    "urltext = r.text\n",
    "\n"
   ]
  },
  {
   "cell_type": "markdown",
   "metadata": {},
   "source": [
    "## Good GET Etiquette\n",
    "\n",
    "Don't make a lot of requests to the same server all at once.\n",
    " - Requests use up the server's time\n",
    " - Major websites will often ban users who make too many requests\n",
    " - You can break a server....similar to DDoS attacks (DON'T DO THIS)\n",
    " \n",
    "In CS220 we will usually give you a link to a copied file to avoid overloading the site."
   ]
  },
  {
   "cell_type": "markdown",
   "metadata": {},
   "source": [
    "## DEMO 3: reddit json processing\n",
    "- URL: https://www.msyamkumar.com/cs220/f21/materials/lectureDemo_code/lec-31/examples/UWMadison.json\n",
    "- <b>(Please don't use this!)</b> Original URL: https://www.reddit.com/r/UWMadison.json "
   ]
  },
  {
   "cell_type": "code",
   "execution_count": null,
   "metadata": {},
   "outputs": [],
   "source": [
    "url = \"https://www.msyamkumar.com/cs220/f21/materials/lectureDemo_code/lec-31/examples/UWMadison.json\"\n",
    "r = requests.get(url)\n",
    "r.raise_for_status()\n",
    "\n"
   ]
  },
  {
   "cell_type": "markdown",
   "metadata": {},
   "source": [
    "### How to explore an unknown JSON?\n",
    "- If you run into a dict, try .keys() functions to look at the keys of the dictionary\n",
    "- If you run into a list, iterate over the list and print each item"
   ]
  },
  {
   "cell_type": "code",
   "execution_count": null,
   "metadata": {},
   "outputs": [],
   "source": []
  },
  {
   "cell_type": "code",
   "execution_count": null,
   "metadata": {},
   "outputs": [],
   "source": []
  },
  {
   "cell_type": "code",
   "execution_count": null,
   "metadata": {},
   "outputs": [],
   "source": []
  },
  {
   "cell_type": "code",
   "execution_count": null,
   "metadata": {},
   "outputs": [],
   "source": []
  },
  {
   "cell_type": "markdown",
   "metadata": {},
   "source": [
    "## DEMO 4: State populations\n",
    "- URL: https://www.msyamkumar.com/cs220/f21/materials/lectureDemo_code/lec-31/examples/data/state_files.txt"
   ]
  },
  {
   "cell_type": "code",
   "execution_count": null,
   "metadata": {},
   "outputs": [],
   "source": [
    "prefix_URL = \"https://www.msyamkumar.com/cs220/f21/materials/lectureDemo_code/lec-31/examples/data/\"\n",
    "r = requests.get(prefix_URL + \"state_files.txt\")\n",
    "r.raise_for_status()\n",
    "\n"
   ]
  },
  {
   "cell_type": "code",
   "execution_count": null,
   "metadata": {},
   "outputs": [],
   "source": []
  },
  {
   "cell_type": "code",
   "execution_count": null,
   "metadata": {},
   "outputs": [],
   "source": []
  },
  {
   "cell_type": "code",
   "execution_count": null,
   "metadata": {},
   "outputs": [],
   "source": []
  },
  {
   "cell_type": "code",
   "execution_count": null,
   "metadata": {},
   "outputs": [],
   "source": []
  },
  {
   "cell_type": "code",
   "execution_count": null,
   "metadata": {},
   "outputs": [],
   "source": []
  },
  {
   "cell_type": "code",
   "execution_count": null,
   "metadata": {},
   "outputs": [],
   "source": []
  }
 ],
 "metadata": {
  "kernelspec": {
   "display_name": "Python 3",
   "language": "python",
   "name": "python3"
  },
  "language_info": {
   "codemirror_mode": {
    "name": "ipython",
    "version": 3
   },
   "file_extension": ".py",
   "mimetype": "text/x-python",
   "name": "python",
   "nbconvert_exporter": "python",
   "pygments_lexer": "ipython3",
   "version": "3.8.8"
  }
 },
 "nbformat": 4,
 "nbformat_minor": 2
}
