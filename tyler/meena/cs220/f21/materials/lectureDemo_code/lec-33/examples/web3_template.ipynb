{
 "cells": [
  {
   "cell_type": "markdown",
   "metadata": {},
   "source": [
    "# Web 3\n",
    "- HTML parsing using BeautifulSoup"
   ]
  },
  {
   "cell_type": "code",
   "execution_count": null,
   "metadata": {},
   "outputs": [],
   "source": [
    "from IPython.core.display import display, HTML\n",
    "display(HTML(\"<style>.container { width:100% !important; }</style>\"))"
   ]
  },
  {
   "cell_type": "code",
   "execution_count": null,
   "metadata": {},
   "outputs": [],
   "source": []
  },
  {
   "cell_type": "markdown",
   "metadata": {},
   "source": [
    "# STAGE 1: extract all state URLs from the states page\n",
    "## Stage 1 pseudocode\n",
    "1. Use requests module to send a GET request to https://simple.wikipedia.org/wiki/List_of_U.S._states\n",
    "2. Don't forget to raise_for_status to ensure you are getting 200 OK status code\n",
    "3. Explore what r.text gives you"
   ]
  },
  {
   "cell_type": "code",
   "execution_count": null,
   "metadata": {},
   "outputs": [],
   "source": [
    "url = \"https://simple.wikipedia.org/wiki/List_of_U.S._states\"\n",
    "r = requests.get(url)\n",
    "r.raise_for_status()"
   ]
  },
  {
   "cell_type": "markdown",
   "metadata": {},
   "source": [
    "## Stage 1 pseudocode continued...\n",
    "4. Check out what type you are getting from r.text"
   ]
  },
  {
   "cell_type": "code",
   "execution_count": null,
   "metadata": {},
   "outputs": [],
   "source": []
  },
  {
   "cell_type": "markdown",
   "metadata": {},
   "source": [
    "## Stage 1 pseudocode continued...\n",
    "5. Create BeautifulSoup object by passing r.text, \"html.parser\" as arguments and capture return value into a variable called doc\n",
    "6. Try prettify() method call --- still not that pretty, right?"
   ]
  },
  {
   "cell_type": "code",
   "execution_count": null,
   "metadata": {},
   "outputs": [],
   "source": []
  },
  {
   "cell_type": "markdown",
   "metadata": {},
   "source": [
    "## Stage 1 pseudocode continued...\n",
    "7. (Not a code step) Open \"https://simple.wikipedia.org/wiki/List_of_U.S._states\" on Google Chrome.\n",
    "    - Right click on one of the state pages\n",
    "    - Click on \"Inspect\" --- this opens developer tools\n",
    "    - This tool let's you explore the html source code\n",
    "    - Explore the \\<table\\> and sub tags like \\<th\\>, \\<tr\\>, \\<td\\>\n",
    "    - Let's go back to coding"
   ]
  },
  {
   "cell_type": "markdown",
   "metadata": {},
   "source": [
    "## Stage 1 pseudocode continued...\n",
    "7. Find all \"table\" elements in the document by using doc.find_all(...) function and capture return value into a variable \"tables\"\n",
    "    - explore the length of the value returned from find_all(...) function\n",
    "    - check out the type of the value returned from find_all(...) function\n",
    "8. Add an assert to check that there is only one table - futuristic assert to make sure the html format hasn't changed on the website\n",
    "9. Extract the first table into tbl variable\n",
    "    - explore type of tbl\n",
    "    - try printing the content of tb1 --- looks like just a string"
   ]
  },
  {
   "cell_type": "code",
   "execution_count": null,
   "metadata": {},
   "outputs": [],
   "source": []
  },
  {
   "cell_type": "code",
   "execution_count": null,
   "metadata": {},
   "outputs": [],
   "source": []
  },
  {
   "cell_type": "markdown",
   "metadata": {},
   "source": [
    "## Stage 1 pseudocode continued...\n",
    "10. Find all the tr elements by using tbl.find_all(...) function and capture return value into a variable tr.\n",
    "    - explore length of trs, type of trs\n",
    "    - Add an assert checking that length of trs is at least 50 (For 50 US states)"
   ]
  },
  {
   "cell_type": "code",
   "execution_count": null,
   "metadata": {},
   "outputs": [],
   "source": []
  },
  {
   "cell_type": "markdown",
   "metadata": {},
   "source": [
    "## Stage 1 pseudocode continued...\n",
    "11. Iterate over each item in trs (going to be a lengthy step!)\n",
    "    - print each item (tr tag)\n",
    "    - call tr.find(..) to find \"th\" elements --- this finds th element for every tr element.\n",
    "    - capture return value into a variable called th\n",
    "    - print th and explore what you are getting.\n",
    "    - find each hyperlinks within each th element: call th.find_all(\"a\") and capture return value into a variable called links\n",
    "    - explore length of links by printing it --- some of the states have 2 links; go back and explore why that is the case and figure out which link you want\n",
    "        - some have 0 links, skip over those entries!\n",
    "        - extract first of the hyperlinks into a variable called link\n",
    "        - print link to confirm you are able to extract the correct link\n",
    "        - explore type of link\n",
    "        - print link.get_text() method and get attrs of link by saying link.attrs\n",
    "        - capture link.get_text() into a variable state\n",
    "        - capture link.attrs into a variable state_url --- we need a full URL. Define a prefix variable holding \"https://simple.wikipedia.org\" and concatenate prefix + link.attrs\n",
    "        - create a new dictionary called state_links --- we are going to use this dict to track each state and its URL. Think carefully about where you have to create this empty dict.\n",
    "\n",
    "#### Congrats :) stage 1 is done"
   ]
  },
  {
   "cell_type": "code",
   "execution_count": null,
   "metadata": {},
   "outputs": [],
   "source": []
  },
  {
   "cell_type": "markdown",
   "metadata": {},
   "source": [
    "# STAGE 2: download the html page for each state\n",
    "## Stage 2 pseudocode\n",
    "1. Create a directory called \"html_files_for_states\". Make sure to use try except block to catch FileExistsError exception\n",
    "2. Initially convert the keys of state_links dict into a list and work with just first 3 items in the list of keys\n",
    "3. Iterate over each key (initially just use 3):\n",
    "    1. If key is \"postal abbs.\", skip processing. What keyword allows you to skip current iteration of the loop?\n",
    "    2. To create each state's html file name, concatenate the directory name \"html_files_for_states\" with current key and add a \".html\" to the end.\n",
    "    3. Add the html file name into a new dictionary called \"state_files\". Think carefully about where you have to create this empty dict.\n",
    "    4. Use requests module get(...) function call to download the contents of the state URL page.\n",
    "    5. Open the state html file in write mode and write r.text into the state html file.\n",
    "    \n",
    "#### Congrats :) stage 2 is done"
   ]
  },
  {
   "cell_type": "code",
   "execution_count": null,
   "metadata": {},
   "outputs": [],
   "source": [
    "html_dir = \"html_files_for_states\"\n",
    "state_files = {} #KEY: state; VALUE: state file\n",
    "\n",
    "try:\n",
    "    os.mkdir(html_dir)\n",
    "except FileExistsError:\n",
    "    pass\n",
    "\n"
   ]
  },
  {
   "cell_type": "markdown",
   "metadata": {},
   "source": [
    "# STAGE 3: extract details from each state page\n",
    "## Stage 3 pseudocode\n",
    "1. Write a function state_stats. Input path to 1 state file. Output dict of stats for that state\n",
    "2. Open state html file, read its content.\n",
    "3. Create a BeautifulSoup object called doc.\n",
    "4. doc.find_all(\"tr\") - capture return value into a variable called trs\n",
    "5. Iterate over each tr element\n",
    "    1. You can retrieve a pair of elements by saying: cells = tr.find_all([\"th\", \"td\"])\n",
    "    2. Explore length of the cells. Notice that there are some entries have length > 2. Let's skip over those. \n",
    "    3. Create a dict called stats, where key is the th element's text and the value is td element's text\n",
    "6. Don't forget to return the stats dict\n",
    "7. Call state_stats with state_files[\"Wisconsin\"]"
   ]
  },
  {
   "cell_type": "code",
   "execution_count": null,
   "metadata": {},
   "outputs": [],
   "source": []
  },
  {
   "cell_type": "markdown",
   "metadata": {},
   "source": [
    "## Stage 3 pseudocode continued\n",
    "- Iterate over all the state files, call state_stats function, and save the return value into a variable.\n",
    "- Keep track of each state's stats in a dict called state_details\n",
    "- Create a pandas DataFrame from the state_details dict\n",
    "- Explore the DataFrame."
   ]
  },
  {
   "cell_type": "code",
   "execution_count": null,
   "metadata": {},
   "outputs": [],
   "source": []
  },
  {
   "cell_type": "code",
   "execution_count": null,
   "metadata": {},
   "outputs": [],
   "source": []
  },
  {
   "cell_type": "code",
   "execution_count": null,
   "metadata": {},
   "outputs": [],
   "source": []
  },
  {
   "cell_type": "code",
   "execution_count": null,
   "metadata": {},
   "outputs": [],
   "source": []
  }
 ],
 "metadata": {
  "kernelspec": {
   "display_name": "Python 3",
   "language": "python",
   "name": "python3"
  },
  "language_info": {
   "codemirror_mode": {
    "name": "ipython",
    "version": 3
   },
   "file_extension": ".py",
   "mimetype": "text/x-python",
   "name": "python",
   "nbconvert_exporter": "python",
   "pygments_lexer": "ipython3",
   "version": "3.8.8"
  }
 },
 "nbformat": 4,
 "nbformat_minor": 2
}
