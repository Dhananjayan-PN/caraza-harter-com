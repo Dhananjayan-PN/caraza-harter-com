{
 "cells": [
  {
   "cell_type": "code",
   "execution_count": 1,
   "metadata": {},
   "outputs": [
    {
     "data": {
      "text/html": [
       "<style>em { color: red; }</style> <style>.container {width:100% !important; }</style>"
      ],
      "text/plain": [
       "<IPython.core.display.HTML object>"
      ]
     },
     "execution_count": 1,
     "metadata": {},
     "output_type": "execute_result"
    }
   ],
   "source": [
    "# This cell just makes juypter notebook use the full width of the screen and changes \n",
    "# some of the text to red.  You can ignore this cell\n",
    "from IPython.core.display import HTML\n",
    "HTML('<style>em { color: red; }</style> <style>.container {width:100% !important; }</style>')"
   ]
  },
  {
   "cell_type": "markdown",
   "metadata": {},
   "source": [
    "### What is the type of: {}\n",
    "<p>  1. set</p>\n",
    "<p>  2 dict</p>"
   ]
  },
  {
   "cell_type": "code",
   "execution_count": null,
   "metadata": {},
   "outputs": [],
   "source": []
  },
  {
   "cell_type": "markdown",
   "metadata": {},
   "source": [
    "### If S is a string and L is a list, which line definitely fails?\n",
    "<p>  1. S[-1] = \".\"</p>\n",
    "<p>  2. L[len(S)] = S</p>"
   ]
  },
  {
   "cell_type": "code",
   "execution_count": null,
   "metadata": {},
   "outputs": [],
   "source": []
  },
  {
   "cell_type": "markdown",
   "metadata": {},
   "source": [
    "### Which type is immutable?\n",
    "<p>  1. str</p>\n",
    "<p>  2. list</p>\n",
    "<p>  3. dict</p>"
   ]
  },
  {
   "cell_type": "code",
   "execution_count": null,
   "metadata": {},
   "outputs": [],
   "source": []
  },
  {
   "cell_type": "markdown",
   "metadata": {},
   "source": [
    "### What are the key features of tuples?"
   ]
  },
  {
   "cell_type": "code",
   "execution_count": null,
   "metadata": {},
   "outputs": [],
   "source": []
  },
  {
   "cell_type": "markdown",
   "metadata": {},
   "source": [
    "### Experiment below creating a tuple.  Try creating a tuple of size 1"
   ]
  },
  {
   "cell_type": "code",
   "execution_count": null,
   "metadata": {},
   "outputs": [],
   "source": []
  },
  {
   "cell_type": "markdown",
   "metadata": {},
   "source": [
    "### Hello Alice Anderson - dict version\n",
    "Can you spot the bug?"
   ]
  },
  {
   "cell_type": "code",
   "execution_count": null,
   "metadata": {},
   "outputs": [],
   "source": []
  },
  {
   "cell_type": "markdown",
   "metadata": {},
   "source": [
    "### Hello Bob Baker - tuple version\n",
    "Can you spot the bug?"
   ]
  },
  {
   "cell_type": "code",
   "execution_count": null,
   "metadata": {},
   "outputs": [],
   "source": []
  },
  {
   "cell_type": "markdown",
   "metadata": {},
   "source": [
    "### What are the key features of namedtuples"
   ]
  },
  {
   "cell_type": "code",
   "execution_count": null,
   "metadata": {},
   "outputs": [],
   "source": []
  },
  {
   "cell_type": "markdown",
   "metadata": {},
   "source": [
    "### Try creating a namedtuple to track some hurricane data. Remember to import namedtuple. Then create a subtype of namedtuple called Hurricane. This new type should have attributes name, year, and speed."
   ]
  },
  {
   "cell_type": "code",
   "execution_count": 2,
   "metadata": {},
   "outputs": [],
   "source": []
  },
  {
   "cell_type": "markdown",
   "metadata": {},
   "source": [
    "### If you were successful then the cell below should run without errors"
   ]
  },
  {
   "cell_type": "code",
   "execution_count": null,
   "metadata": {},
   "outputs": [],
   "source": [
    "H = Hurricane(name = \"Hugo\", speed = 160, year = 1989)\n",
    "print(\"In \"+str(H.year)+\" hurricane \"+H.name+\" experienced a top speed of \"+str(H.speed)+\" mph.\")"
   ]
  },
  {
   "cell_type": "markdown",
   "metadata": {},
   "source": [
    "### Copy the examples below into Python Tutor and trace the code"
   ]
  },
  {
   "cell_type": "code",
   "execution_count": null,
   "metadata": {},
   "outputs": [],
   "source": [
    "# Example 1: Reassigning parameters\n",
    "def f(x):\n",
    "  x *= 3\n",
    "  print(\"f:\", x)\n",
    "\n",
    "num = 10\n",
    "f(num)\n",
    "print(\"after:\", num)"
   ]
  },
  {
   "cell_type": "code",
   "execution_count": null,
   "metadata": {},
   "outputs": [],
   "source": [
    "# Example 2: Modifying a list\n",
    "def f(items):\n",
    "  items.append(\"!!!\")\n",
    "  print(\"f:\", items)\n",
    "\n",
    "words = ['hello', 'world']\n",
    "f(words)\n",
    "print(\"after:\", words)"
   ]
  },
  {
   "cell_type": "code",
   "execution_count": null,
   "metadata": {},
   "outputs": [],
   "source": [
    "# Example 3: Reassign new list\n",
    "def f(items):\n",
    "  items = items + [\"!!!\"]\n",
    "  print(\"f:\", items)\n",
    "\n",
    "words = ['hello', 'world']\n",
    "f(words)\n",
    "print(\"after:\", words)\n"
   ]
  },
  {
   "cell_type": "code",
   "execution_count": null,
   "metadata": {},
   "outputs": [],
   "source": [
    "# Example 4: in-place sort\n",
    "def first(items):\n",
    "    return items[0]\n",
    "\n",
    "def smallest(items):\n",
    "    items.sort()\n",
    "    return items[0]\n",
    "\n",
    "numbers\t= [4,5,3,2,1]\n",
    "print(\"first:\", first(numbers))\n",
    "print(\"smallest:\", smallest(numbers))\n",
    "print(\"first:\", first(numbers))\n"
   ]
  },
  {
   "cell_type": "code",
   "execution_count": null,
   "metadata": {},
   "outputs": [],
   "source": [
    "# Example 5: sorted sort\n",
    "def first(items):\n",
    "    return items[0]\n",
    "\n",
    "def smallest(items):\n",
    "    items = sorted(items)\n",
    "    return items[0]\n",
    "\n",
    "numbers\t= [4,5,3,2,1]\n",
    "print(\"first:\", first(numbers))\n",
    "print(\"smallest:\", smallest(numbers))\n",
    "print(\"first:\", first(numbers))\n"
   ]
  },
  {
   "cell_type": "markdown",
   "metadata": {},
   "source": [
    "### Experiment with == and is.  Try the \"ha\" * 10 vs \"ha\" * 1000 vs \"ha\" * 1 examples."
   ]
  },
  {
   "cell_type": "code",
   "execution_count": null,
   "metadata": {},
   "outputs": [],
   "source": []
  }
 ],
 "metadata": {
  "kernelspec": {
   "display_name": "Python 3",
   "language": "python",
   "name": "python3"
  },
  "language_info": {
   "codemirror_mode": {
    "name": "ipython",
    "version": 3
   },
   "file_extension": ".py",
   "mimetype": "text/x-python",
   "name": "python",
   "nbconvert_exporter": "python",
   "pygments_lexer": "ipython3",
   "version": "3.8.5"
  }
 },
 "nbformat": 4,
 "nbformat_minor": 4
}
