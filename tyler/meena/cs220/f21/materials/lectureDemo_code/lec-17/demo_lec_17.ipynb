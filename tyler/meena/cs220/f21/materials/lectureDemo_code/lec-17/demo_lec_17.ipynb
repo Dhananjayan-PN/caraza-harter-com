{
 "cells": [
  {
   "cell_type": "code",
   "execution_count": 1,
   "metadata": {},
   "outputs": [
    {
     "name": "stdout",
     "output_type": "stream",
     "text": [
      "['elephant', 'RHINO', 'badger', 'DOG']\n",
      "['RHINO', 'DOG']\n",
      "['elephant', 'badger', 'RHINO', 'DOG']\n",
      "['badger', 'RHINO', 'DOG']\n"
     ]
    }
   ],
   "source": [
    "#Try this example out using PyTutor\n",
    "\n",
    "L = [\"elephant\", \"RHINO\", \"badger\", \"DOG\"]\n",
    "print(L)\n",
    "\n",
    "#Goal: remove any animals which is not all caps\n",
    "#L.remove(val) : removes first matching value\n",
    "#L.pop(index): removes the value at the index\n",
    "\n",
    "#Bad version\n",
    "for val in L:\n",
    "    if val.upper() != val: # Do we want to remove the value?\n",
    "        L.remove(val)\n",
    "        \n",
    "print(L)\n",
    "#Looks like it might work, but wait for it ....\n",
    "\n",
    "L = [\"elephant\", \"badger\", \"RHINO\", \"DOG\"]\n",
    "print(L)\n",
    "\n",
    "#Bad version\n",
    "for val in L:\n",
    "    if val.upper() != val: # Do we want to remove the value?\n",
    "        L.remove(val)\n",
    "        \n",
    "print(L)\n",
    "\n",
    "#LESSON: Never add / delete to / from a list while iterating over it"
   ]
  },
  {
   "cell_type": "code",
   "execution_count": 2,
   "metadata": {},
   "outputs": [
    {
     "name": "stdout",
     "output_type": "stream",
     "text": [
      "['elephant', 'badger', 'RHINO', 'DOG']\n",
      "['RHINO', 'DOG']\n"
     ]
    }
   ],
   "source": [
    "#Correct version\n",
    "#Try this example out using PyTutor\n",
    "\n",
    "L = [\"elephant\", \"badger\", \"RHINO\", \"DOG\"]\n",
    "print(L)\n",
    "\n",
    "tmp = []\n",
    "#Bad version\n",
    "for val in L:\n",
    "    if val.upper() == val: # Do we want to keep the value?\n",
    "        tmp.append(val)\n",
    "  \n",
    "L = tmp\n",
    "print(L)"
   ]
  },
  {
   "cell_type": "code",
   "execution_count": 3,
   "metadata": {},
   "outputs": [
    {
     "name": "stdout",
     "output_type": "stream",
     "text": [
      "81\n",
      "5\n"
     ]
    }
   ],
   "source": [
    "#Try this example out using PyTutor\n",
    "\n",
    "L = [4, 1, 2, -2, 6, 81, 44, 1]\n",
    "\n",
    "#Goal: to find the max item and its index in the list L\n",
    "\n",
    "maxVal = None\n",
    "maxVal_index = None\n",
    "\n",
    "for index in range(len(L)):\n",
    "    num = L[index]\n",
    "    if maxVal == None or num > maxVal:\n",
    "        maxVal = num\n",
    "        maxVal_index = index\n",
    "\n",
    "print(maxVal)\n",
    "print(maxVal_index)"
   ]
  },
  {
   "cell_type": "code",
   "execution_count": 4,
   "metadata": {},
   "outputs": [
    {
     "name": "stdout",
     "output_type": "stream",
     "text": [
      "-2\n",
      "3\n"
     ]
    }
   ],
   "source": [
    "#Try this example out using PyTutor\n",
    "#Goal: to find the min item and its index in the list L\n",
    "\n",
    "minVal = None\n",
    "minVal_index = None\n",
    "\n",
    "for index in range(len(L)):\n",
    "    num = L[index]\n",
    "    if minVal == None or num < minVal:\n",
    "        minVal = num\n",
    "        minVal_index = index\n",
    "\n",
    "print(minVal)\n",
    "print(minVal_index)"
   ]
  },
  {
   "cell_type": "code",
   "execution_count": null,
   "metadata": {},
   "outputs": [],
   "source": []
  }
 ],
 "metadata": {
  "kernelspec": {
   "display_name": "Python 3",
   "language": "python",
   "name": "python3"
  },
  "language_info": {
   "codemirror_mode": {
    "name": "ipython",
    "version": 3
   },
   "file_extension": ".py",
   "mimetype": "text/x-python",
   "name": "python",
   "nbconvert_exporter": "python",
   "pygments_lexer": "ipython3",
   "version": "3.8.8"
  }
 },
 "nbformat": 4,
 "nbformat_minor": 2
}
