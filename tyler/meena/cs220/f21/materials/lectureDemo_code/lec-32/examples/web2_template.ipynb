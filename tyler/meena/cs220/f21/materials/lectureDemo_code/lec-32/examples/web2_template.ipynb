{
 "cells": [
  {
   "cell_type": "code",
   "execution_count": null,
   "metadata": {},
   "outputs": [],
   "source": [
    "from IPython.core.display import display, HTML\n",
    "display(HTML(\"<style>.container { width:100% !important; }</style>\"))\n"
   ]
  },
  {
   "cell_type": "code",
   "execution_count": 1,
   "metadata": {},
   "outputs": [],
   "source": [
    "import csv\n",
    "import os"
   ]
  },
  {
   "cell_type": "code",
   "execution_count": null,
   "metadata": {},
   "outputs": [],
   "source": [
    "# copied from https://automatetheboringstuff.com/2e/chapter16/\n",
    "def process_csv(filename):\n",
    "    exampleFile = open(filename)\n",
    "    exampleReader = csv.reader(exampleFile)\n",
    "    exampleData = list(exampleReader)\n",
    "    return exampleData"
   ]
  },
  {
   "cell_type": "markdown",
   "metadata": {},
   "source": [
    "## Example 1: List Visualization\n",
    "### Write a gen_html function\n",
    "- Input: shopping_list and path to shopping.html\n",
    "- Outcome: create shopping.html file\n",
    "\n",
    "### Pseudocode\n",
    "1. Open \"shopping.html\" in write mode.\n",
    "2. Write \\<ul\\> tag into the html file\n",
    "3. Iterate over each item in shopping list.\n",
    "4. Write each item with \\<li\\> tag.\n",
    "5. After you are done iterating, write \\</ul\\> tag.\n",
    "6. Close the file object."
   ]
  },
  {
   "cell_type": "code",
   "execution_count": 2,
   "metadata": {},
   "outputs": [],
   "source": []
  },
  {
   "cell_type": "markdown",
   "metadata": {},
   "source": [
    "## Example 2: Dictionary Visualization\n",
    "### Write a csv_to_html function\n",
    "- Input: path to review1.csv and path to reviews.html\n",
    "- Outcome 1: create a html file for each review \n",
    "- Outcome 2: create reviews.html file containing link to a html file for each review\n",
    "\n",
    "### Pseudocode\n",
    "1. Create data_html folder using os.mkdir. Make sure to use try ... except blocks to catch FileExistsError\n",
    "2. Use process_csv function to read csv data and split the header and the data\n",
    "3. For each review, extract review id, review title, review text.\n",
    "4. generate the \\<rid\\>.html for each review inside data_html folder.\n",
    "   - Open \\<rid\\>.html in write mode\n",
    "   - Add review title using \\<h1\\> tag\n",
    "   - Add review text inside\\<p\\> tag\n",
    "   - Close \\<rid\\>.html file object\n",
    "5. generate a reviews.html file which has link to each review html page \\<rid\\>.html\n",
    "   - Open reviews.html file in write mode\n",
    "   - Add each \\<rid\\>.html as hyperlink using \\<a\\> tag.\n",
    "   - Close reviews.html file"
   ]
  },
  {
   "cell_type": "code",
   "execution_count": 5,
   "metadata": {},
   "outputs": [],
   "source": []
  },
  {
   "cell_type": "code",
   "execution_count": null,
   "metadata": {},
   "outputs": [],
   "source": []
  }
 ],
 "metadata": {
  "kernelspec": {
   "display_name": "Python 3",
   "language": "python",
   "name": "python3"
  },
  "language_info": {
   "codemirror_mode": {
    "name": "ipython",
    "version": 3
   },
   "file_extension": ".py",
   "mimetype": "text/x-python",
   "name": "python",
   "nbconvert_exporter": "python",
   "pygments_lexer": "ipython3",
   "version": "3.8.8"
  }
 },
 "nbformat": 4,
 "nbformat_minor": 2
}
