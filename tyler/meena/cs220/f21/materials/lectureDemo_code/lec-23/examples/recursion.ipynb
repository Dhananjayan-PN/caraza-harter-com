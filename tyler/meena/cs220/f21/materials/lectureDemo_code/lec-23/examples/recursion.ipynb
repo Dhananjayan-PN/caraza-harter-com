{
 "cells": [
  {
   "cell_type": "markdown",
   "metadata": {},
   "source": [
    "# Recursion"
   ]
  },
  {
   "cell_type": "markdown",
   "metadata": {},
   "source": [
    "## Copying review\n",
    "- Copy-paste the below code in PyTutor. \n",
    "- Uncomment each copy type and look at the visualization of the objects."
   ]
  },
  {
   "cell_type": "code",
   "execution_count": 1,
   "metadata": {},
   "outputs": [],
   "source": [
    "import copy\n",
    "\n",
    "x = [ [ [\"hello\", \"world\"] ] ]\n",
    "\n",
    "#y = x                # ref copy (0 new objects)\n",
    "#y = copy.copy(x)     # shallow copy (1 new object)\n",
    "#y = copy.deepcopy(x) # deep copy (all new objects)"
   ]
  },
  {
   "cell_type": "markdown",
   "metadata": {},
   "source": [
    "## Example: Pretty Print"
   ]
  },
  {
   "cell_type": "markdown",
   "metadata": {},
   "source": [
    "### What is the simplest example for this problem? This determines the base case"
   ]
  },
  {
   "cell_type": "code",
   "execution_count": 2,
   "metadata": {},
   "outputs": [],
   "source": [
    "# Single-dimensional list passed as argument to pretty_print function."
   ]
  },
  {
   "cell_type": "markdown",
   "metadata": {},
   "source": [
    "### How can you define self-reference here?"
   ]
  },
  {
   "cell_type": "code",
   "execution_count": 3,
   "metadata": {},
   "outputs": [],
   "source": [
    "# Passing nested list as argument to pretty_print function."
   ]
  },
  {
   "cell_type": "markdown",
   "metadata": {},
   "source": [
    "### Let's write the code for the recursive function."
   ]
  },
  {
   "cell_type": "code",
   "execution_count": 4,
   "metadata": {},
   "outputs": [
    {
     "name": "stdout",
     "output_type": "stream",
     "text": [
      "* A\n",
      "* 1\n",
      "* 2\n",
      "* 3\n",
      "* B\n",
      "* 4\n",
      "* i\n",
      "* ii\n"
     ]
    }
   ],
   "source": [
    "def pretty_print_v1(items):\n",
    "    for v in items:\n",
    "        if type(v) == list:\n",
    "            # Recursive case\n",
    "            pretty_print_v1(v)\n",
    "        else:\n",
    "            # Base case\n",
    "            print(\"* \" + v)\n",
    "    \n",
    "#data = [\"A\", \"B\", \"C\"]\n",
    "data = [\"A\", [\"1\", \"2\", \"3\",], \"B\", [\"4\", [\"i\", \"ii\"]]]\n",
    "pretty_print_v1(data)"
   ]
  },
  {
   "cell_type": "markdown",
   "metadata": {},
   "source": [
    "### How can we handle indent for nesting here?"
   ]
  },
  {
   "cell_type": "code",
   "execution_count": 5,
   "metadata": {},
   "outputs": [],
   "source": [
    "#Defining a new parameter called \"indent\" to take care of nesting level."
   ]
  },
  {
   "cell_type": "code",
   "execution_count": 6,
   "metadata": {},
   "outputs": [
    {
     "name": "stdout",
     "output_type": "stream",
     "text": [
      "* A\n",
      " * 1\n",
      " * 2\n",
      " * 3\n",
      "* B\n",
      " * 4\n",
      "  * i\n",
      "  * ii\n"
     ]
    }
   ],
   "source": [
    "def pretty_print_v2(items, indent = 0):\n",
    "    for v in items:\n",
    "        if type(v) == list:\n",
    "            #Recursive case\n",
    "            pretty_print_v2(v, indent + 1)\n",
    "        else:\n",
    "            #Base case\n",
    "            spaces = \" \" * indent\n",
    "            print(spaces + \"* \" + str(v))\n",
    "\n",
    "#data = [\"A\", \"B\", \"C\"]\n",
    "data = [\"A\", [\"1\", \"2\", \"3\",], \"B\", [\"4\", [\"i\", \"ii\"]]]\n",
    "pretty_print_v2(data)"
   ]
  },
  {
   "cell_type": "markdown",
   "metadata": {},
   "source": [
    "## Practice: Recursive List Search"
   ]
  },
  {
   "cell_type": "code",
   "execution_count": 7,
   "metadata": {},
   "outputs": [
    {
     "name": "stdout",
     "output_type": "stream",
     "text": [
      "* 1\n",
      "* 2\n",
      " * 4\n",
      "   * 3\n",
      "   * 8\n",
      "   * 9\n",
      " * 5\n",
      " * 6\n",
      "0 False\n",
      "1 True\n",
      "2 True\n",
      "3 True\n",
      "4 True\n",
      "5 True\n",
      "6 True\n",
      "7 False\n",
      "8 True\n",
      "9 True\n",
      "10 False\n",
      "11 False\n",
      "12 False\n"
     ]
    }
   ],
   "source": [
    "def contains(n, numbers):\n",
    "    for i in numbers:\n",
    "        if type(i) == list:\n",
    "            if contains(n, i):\n",
    "                return True\n",
    "        else:\n",
    "            if n == i:\n",
    "                return True\n",
    "    return False\n",
    "\n",
    "data = [1, 2, [4, [[3], [8, 9]], 5, 6]]\n",
    "pretty_print_v2(data)\n",
    "\n",
    "for i in range(13):\n",
    "    print(i, contains(i, data))"
   ]
  },
  {
   "cell_type": "code",
   "execution_count": null,
   "metadata": {},
   "outputs": [],
   "source": []
  }
 ],
 "metadata": {
  "kernelspec": {
   "display_name": "Python 3",
   "language": "python",
   "name": "python3"
  },
  "language_info": {
   "codemirror_mode": {
    "name": "ipython",
    "version": 3
   },
   "file_extension": ".py",
   "mimetype": "text/x-python",
   "name": "python",
   "nbconvert_exporter": "python",
   "pygments_lexer": "ipython3",
   "version": "3.8.8"
  }
 },
 "nbformat": 4,
 "nbformat_minor": 4
}
