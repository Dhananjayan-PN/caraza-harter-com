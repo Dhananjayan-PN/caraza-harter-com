{
 "cells": [
  {
   "cell_type": "markdown",
   "metadata": {},
   "source": [
    "# Function references"
   ]
  },
  {
   "cell_type": "markdown",
   "metadata": {},
   "source": [
    "### Example 1: slide deck example introducing function object references\n",
    "#### Use PyTutor to step through this example"
   ]
  },
  {
   "cell_type": "code",
   "execution_count": 1,
   "metadata": {},
   "outputs": [
    {
     "name": "stdout",
     "output_type": "stream",
     "text": [
      "3\n"
     ]
    }
   ],
   "source": [
    "l1 = [1, 2, 3]\n",
    "l2 = l1\n",
    "\n",
    "def f(l):\n",
    "    return l[-1]\n",
    "\n",
    "g = f\n",
    "\n",
    "num = f(l2)\n",
    "print(num)"
   ]
  },
  {
   "cell_type": "markdown",
   "metadata": {},
   "source": [
    "### Example 2: simple example to demonstrate how to use function references\n",
    "#### Use PyTutor to step through this example"
   ]
  },
  {
   "cell_type": "code",
   "execution_count": 2,
   "metadata": {},
   "outputs": [
    {
     "name": "stdout",
     "output_type": "stream",
     "text": [
      "Hello there!\n",
      "Hello there!\n",
      "Wash your hands and stay well, bye!\n",
      "Wash your hands and stay well, bye!\n",
      "Wash your hands and stay well, bye!\n"
     ]
    }
   ],
   "source": [
    "def say_hi():\n",
    "    print(\"Hello there!\")\n",
    "\n",
    "def say_bye():\n",
    "    print(\"Wash your hands and stay well, bye!\")\n",
    "   \n",
    "f = say_hi\n",
    "f()\n",
    "f()\n",
    "f = say_bye\n",
    "f()\n",
    "f()\n",
    "f()"
   ]
  },
  {
   "cell_type": "code",
   "execution_count": 3,
   "metadata": {},
   "outputs": [
    {
     "name": "stdout",
     "output_type": "stream",
     "text": [
      "Hello there!\n",
      "Hello there!\n",
      "Wash your hands and stay well, bye!\n",
      "Wash your hands and stay well, bye!\n",
      "Wash your hands and stay well, bye!\n"
     ]
    }
   ],
   "source": [
    "for i in range(2):\n",
    "    say_hi()\n",
    "\n",
    "for i in range(3):\n",
    "    say_bye()"
   ]
  },
  {
   "cell_type": "code",
   "execution_count": 4,
   "metadata": {},
   "outputs": [
    {
     "name": "stdout",
     "output_type": "stream",
     "text": [
      "Hello there!\n",
      "Hello there!\n",
      "Wash your hands and stay well, bye!\n",
      "Wash your hands and stay well, bye!\n",
      "Wash your hands and stay well, bye!\n"
     ]
    }
   ],
   "source": [
    "def call_n_times(f, n):\n",
    "    for i in range(n):\n",
    "        f()\n",
    "\n",
    "call_n_times(say_hi, 2)\n",
    "call_n_times(say_bye, 3)"
   ]
  },
  {
   "cell_type": "markdown",
   "metadata": {},
   "source": [
    "### Example 3: Apply various transformations to all items on a list"
   ]
  },
  {
   "cell_type": "code",
   "execution_count": 5,
   "metadata": {},
   "outputs": [],
   "source": [
    "L = [\"1\", \"23\", \"456\"]"
   ]
  },
  {
   "cell_type": "markdown",
   "metadata": {},
   "source": [
    "#### Write apply_to_each function"
   ]
  },
  {
   "cell_type": "code",
   "execution_count": 6,
   "metadata": {},
   "outputs": [],
   "source": [
    "# a. Input: list object reference, function object\n",
    "# b. Output: new list reference to transformed object\n",
    "# c. Pseudocode:\n",
    "#        1. Initiliaze new empty list for output - we don't want to modify the input list!      \n",
    "#        2. Process each item in input list\n",
    "#        3. Apply the function passed as arugment to 2nd parameter\n",
    "#        4. And the transformed item into output list\n",
    "#        5. return output list\n",
    "\n",
    "def apply_to_each(original_L, f):\n",
    "    new_vals = []\n",
    "    for val in original_L:\n",
    "        new_vals.append(f(val))\n",
    "    return new_vals"
   ]
  },
  {
   "cell_type": "markdown",
   "metadata": {},
   "source": [
    "### Apply int function to list L using apply_to_each function"
   ]
  },
  {
   "cell_type": "code",
   "execution_count": 7,
   "metadata": {},
   "outputs": [
    {
     "data": {
      "text/plain": [
       "[1, 23, 456]"
      ]
     },
     "execution_count": 7,
     "metadata": {},
     "output_type": "execute_result"
    }
   ],
   "source": [
    "vals = apply_to_each(L, int)\n",
    "vals"
   ]
  },
  {
   "cell_type": "markdown",
   "metadata": {},
   "source": [
    "#### Write strip_dollar function"
   ]
  },
  {
   "cell_type": "code",
   "execution_count": 8,
   "metadata": {},
   "outputs": [],
   "source": [
    "# a. Input: string value\n",
    "# b. Output: transformed string value\n",
    "# c. Pseudocode: \n",
    "#.       1. Check whether input string begins with $ - what string method do you need here?\n",
    "#        2. If so remove it\n",
    "\n",
    "def strip_dollar(s):\n",
    "    #Remove the beginning $ sign from string s\n",
    "    if s.startswith(\"$\"):\n",
    "        s = s[1:]\n",
    "    return s"
   ]
  },
  {
   "cell_type": "markdown",
   "metadata": {},
   "source": [
    "### Apply strip_dollar function and then apply int function"
   ]
  },
  {
   "cell_type": "code",
   "execution_count": 9,
   "metadata": {},
   "outputs": [
    {
     "name": "stdout",
     "output_type": "stream",
     "text": [
      "['1', '23', '456']\n",
      "[1, 23, 456]\n"
     ]
    }
   ],
   "source": [
    "L = [\"$1\", \"23\", \"$456\"]\n",
    "vals = apply_to_each(L, strip_dollar)\n",
    "print(vals)\n",
    "vals = apply_to_each(vals, int)\n",
    "print(vals)"
   ]
  },
  {
   "cell_type": "markdown",
   "metadata": {},
   "source": [
    "### Apply upper method call to the below list L by using apply_to_each function"
   ]
  },
  {
   "cell_type": "code",
   "execution_count": 10,
   "metadata": {},
   "outputs": [
    {
     "name": "stdout",
     "output_type": "stream",
     "text": [
      "['AAA', 'BBB', 'CCC']\n"
     ]
    }
   ],
   "source": [
    "L = [\"aaa\", \"bbb\", \"ccc\"]\n",
    "vals = apply_to_each(L, str.upper)\n",
    "print(vals)"
   ]
  },
  {
   "cell_type": "markdown",
   "metadata": {},
   "source": [
    "### Example 4: Custom sort a list of dictionaries"
   ]
  },
  {
   "cell_type": "code",
   "execution_count": 11,
   "metadata": {},
   "outputs": [],
   "source": [
    "hurricanes = [\n",
    "    {\"name\": \"A\", \"year\": 2000, \"speed\": 150},\n",
    "    {\"name\": \"B\", \"year\": 1980, \"speed\": 100},\n",
    "    {\"name\": \"C\", \"year\": 1990, \"speed\": 250},\n",
    "]"
   ]
  },
  {
   "cell_type": "markdown",
   "metadata": {},
   "source": [
    "#### Extract hurricane at index 0"
   ]
  },
  {
   "cell_type": "code",
   "execution_count": 12,
   "metadata": {},
   "outputs": [
    {
     "data": {
      "text/plain": [
       "{'name': 'A', 'year': 2000, 'speed': 150}"
      ]
     },
     "execution_count": 12,
     "metadata": {},
     "output_type": "execute_result"
    }
   ],
   "source": [
    "hurricanes[0]"
   ]
  },
  {
   "cell_type": "markdown",
   "metadata": {},
   "source": [
    "#### Extract hurricane at index 1"
   ]
  },
  {
   "cell_type": "code",
   "execution_count": 13,
   "metadata": {},
   "outputs": [
    {
     "data": {
      "text/plain": [
       "{'name': 'B', 'year': 1980, 'speed': 100}"
      ]
     },
     "execution_count": 13,
     "metadata": {},
     "output_type": "execute_result"
    }
   ],
   "source": [
    "hurricanes[1]"
   ]
  },
  {
   "cell_type": "markdown",
   "metadata": {},
   "source": [
    "#### Can you compare hurricane at index 0 and hurricane at index 1 using \"<\" operator?"
   ]
  },
  {
   "cell_type": "code",
   "execution_count": 14,
   "metadata": {},
   "outputs": [],
   "source": [
    "# hurricanes[0] < hurricanes[1] #uncomment to see TypeError"
   ]
  },
  {
   "cell_type": "markdown",
   "metadata": {},
   "source": [
    "#### What about calling sorted method by passing hurricanes as argument?"
   ]
  },
  {
   "cell_type": "code",
   "execution_count": 15,
   "metadata": {},
   "outputs": [],
   "source": [
    "# sorted(hurricanes) # Doesn't work because there isn't a defined \"first\" key in a dict.\n",
    "# Unlike tuple, where the first item can be considered \"first\" by ordering."
   ]
  },
  {
   "cell_type": "markdown",
   "metadata": {},
   "source": [
    "#### Define get_year function"
   ]
  },
  {
   "cell_type": "code",
   "execution_count": 16,
   "metadata": {},
   "outputs": [
    {
     "name": "stdout",
     "output_type": "stream",
     "text": [
      "DEBUG: Calling get_year function for: {'name': 'A', 'year': 2000, 'speed': 150}\n",
      "DEBUG: Calling get_year function for: {'name': 'B', 'year': 1980, 'speed': 100}\n",
      "DEBUG: Calling get_year function for: {'name': 'C', 'year': 1990, 'speed': 250}\n"
     ]
    },
    {
     "data": {
      "text/plain": [
       "[{'name': 'B', 'year': 1980, 'speed': 100},\n",
       " {'name': 'C', 'year': 1990, 'speed': 250},\n",
       " {'name': 'A', 'year': 2000, 'speed': 150}]"
      ]
     },
     "execution_count": 16,
     "metadata": {},
     "output_type": "execute_result"
    }
   ],
   "source": [
    "# a. Input: single hurricane's dict\n",
    "# b. Output: return \"year\" value from the dict\n",
    "\n",
    "def get_year(hurricane):\n",
    "    print(\"DEBUG: Calling get_year function for:\", hurricane)\n",
    "    return hurricane[\"year\"]\n",
    "\n",
    "sorted(hurricanes, key = get_year)"
   ]
  },
  {
   "cell_type": "markdown",
   "metadata": {},
   "source": [
    "### Sort hurricanes in ascending order of their year"
   ]
  },
  {
   "cell_type": "code",
   "execution_count": 17,
   "metadata": {},
   "outputs": [
    {
     "name": "stdout",
     "output_type": "stream",
     "text": [
      "DEBUG: Calling get_year function for: {'name': 'A', 'year': 2000, 'speed': 150}\n",
      "DEBUG: Calling get_year function for: {'name': 'B', 'year': 1980, 'speed': 100}\n",
      "DEBUG: Calling get_year function for: {'name': 'C', 'year': 1990, 'speed': 250}\n"
     ]
    },
    {
     "data": {
      "text/plain": [
       "[{'name': 'B', 'year': 1980, 'speed': 100},\n",
       " {'name': 'C', 'year': 1990, 'speed': 250},\n",
       " {'name': 'A', 'year': 2000, 'speed': 150}]"
      ]
     },
     "execution_count": 17,
     "metadata": {},
     "output_type": "execute_result"
    }
   ],
   "source": [
    "sorted(hurricanes, key = get_year)"
   ]
  },
  {
   "cell_type": "markdown",
   "metadata": {},
   "source": [
    "### Sort hurricanes in descending order of their year"
   ]
  },
  {
   "cell_type": "code",
   "execution_count": 18,
   "metadata": {},
   "outputs": [
    {
     "name": "stdout",
     "output_type": "stream",
     "text": [
      "DEBUG: Calling get_year function for: {'name': 'A', 'year': 2000, 'speed': 150}\n",
      "DEBUG: Calling get_year function for: {'name': 'B', 'year': 1980, 'speed': 100}\n",
      "DEBUG: Calling get_year function for: {'name': 'C', 'year': 1990, 'speed': 250}\n"
     ]
    },
    {
     "data": {
      "text/plain": [
       "[{'name': 'A', 'year': 2000, 'speed': 150},\n",
       " {'name': 'C', 'year': 1990, 'speed': 250},\n",
       " {'name': 'B', 'year': 1980, 'speed': 100}]"
      ]
     },
     "execution_count": 18,
     "metadata": {},
     "output_type": "execute_result"
    }
   ],
   "source": [
    "sorted(hurricanes, key = get_year, reverse = True) \n",
    "# alternatively get_year function could return negative of year --- that produces the same result\n",
    "#                                                                   as passing True as argument \n",
    "#                                                                   to reverse parameter"
   ]
  },
  {
   "cell_type": "markdown",
   "metadata": {},
   "source": [
    "#### Define get_speed function"
   ]
  },
  {
   "cell_type": "code",
   "execution_count": 19,
   "metadata": {},
   "outputs": [],
   "source": [
    "def get_speed(hurricane):\n",
    "    return hurricane.get(\"speed\", 0)"
   ]
  },
  {
   "cell_type": "markdown",
   "metadata": {},
   "source": [
    "#### Sort hurricanes in ascending order of their speed"
   ]
  },
  {
   "cell_type": "code",
   "execution_count": 20,
   "metadata": {},
   "outputs": [
    {
     "data": {
      "text/plain": [
       "[{'name': 'C', 'year': 1990},\n",
       " {'name': 'B', 'year': 1980, 'speed': 100},\n",
       " {'name': 'A', 'year': 2000, 'speed': 150}]"
      ]
     },
     "execution_count": 20,
     "metadata": {},
     "output_type": "execute_result"
    }
   ],
   "source": [
    "hurricanes = [\n",
    "    {\"name\": \"A\", \"year\": 2000, \"speed\": 150},\n",
    "    {\"name\": \"B\", \"year\": 1980, \"speed\": 100},\n",
    "    {\"name\": \"C\", \"year\": 1990}, # notice the missing speed key\n",
    "]\n",
    "\n",
    "sorted(hurricanes, key = get_speed)"
   ]
  },
  {
   "cell_type": "markdown",
   "metadata": {},
   "source": [
    "### Example 5: How can you pass string method to sorted function?"
   ]
  },
  {
   "cell_type": "code",
   "execution_count": 21,
   "metadata": {},
   "outputs": [
    {
     "data": {
      "text/plain": [
       "['A', 'C', 'b', 'd']"
      ]
     },
     "execution_count": 21,
     "metadata": {},
     "output_type": "execute_result"
    }
   ],
   "source": [
    "sorted([\"A\", \"b\", \"C\", \"d\"])"
   ]
  },
  {
   "cell_type": "code",
   "execution_count": 22,
   "metadata": {},
   "outputs": [
    {
     "data": {
      "text/plain": [
       "['A', 'b', 'C', 'd']"
      ]
     },
     "execution_count": 22,
     "metadata": {},
     "output_type": "execute_result"
    }
   ],
   "source": [
    "sorted([\"A\", \"b\", \"C\", \"d\"], key = str.upper)"
   ]
  },
  {
   "cell_type": "markdown",
   "metadata": {},
   "source": [
    "## Sorting dictionary by keys using lambda\n",
    "- lambda functions are a way to abstract a function reference\n",
    "- lambdas are simple functions with:\n",
    "    - multiple possible parameters\n",
    "    - single expression line as the function body\n",
    "- lambdas are useful abstractions for:\n",
    "    - mathematical functions\n",
    "    - lookup operations\n",
    "- lambdas are often associated with a collection of values within a list\n",
    "- Syntax: *lambda* arguments: expression"
   ]
  },
  {
   "cell_type": "markdown",
   "metadata": {},
   "source": [
    "### Example 6: sorting dictionaries"
   ]
  },
  {
   "cell_type": "code",
   "execution_count": 23,
   "metadata": {},
   "outputs": [
    {
     "data": {
      "text/plain": [
       "{'bob': 20, 'alice': 8, 'alex': 9}"
      ]
     },
     "execution_count": 23,
     "metadata": {},
     "output_type": "execute_result"
    }
   ],
   "source": [
    "players = {\"bob\": 20, \"alice\": 8, \"alex\": 9}\n",
    "players"
   ]
  },
  {
   "cell_type": "markdown",
   "metadata": {},
   "source": [
    "#### This only returns a list of sorted keys. What if we want to create a new sorted dictionary object directly using sorted function?"
   ]
  },
  {
   "cell_type": "code",
   "execution_count": 24,
   "metadata": {},
   "outputs": [
    {
     "data": {
      "text/plain": [
       "['alex', 'alice', 'bob']"
      ]
     },
     "execution_count": 24,
     "metadata": {},
     "output_type": "execute_result"
    }
   ],
   "source": [
    "sorted(players) "
   ]
  },
  {
   "cell_type": "markdown",
   "metadata": {},
   "source": [
    "### Let's learn about items method on a dictionary\n",
    "- returns a list of tuples\n",
    "- each tuple item contains two items: key and value"
   ]
  },
  {
   "cell_type": "code",
   "execution_count": 25,
   "metadata": {},
   "outputs": [
    {
     "data": {
      "text/plain": [
       "dict_items([('bob', 20), ('alice', 8), ('alex', 9)])"
      ]
     },
     "execution_count": 25,
     "metadata": {},
     "output_type": "execute_result"
    }
   ],
   "source": [
    "players.items()"
   ]
  },
  {
   "cell_type": "code",
   "execution_count": 26,
   "metadata": {},
   "outputs": [
    {
     "data": {
      "text/plain": [
       "{'alex': 9, 'alice': 8, 'bob': 20}"
      ]
     },
     "execution_count": 26,
     "metadata": {},
     "output_type": "execute_result"
    }
   ],
   "source": [
    "dict(sorted(players.items(), key = lambda item: item[0]))"
   ]
  },
  {
   "cell_type": "markdown",
   "metadata": {},
   "source": [
    "### What about sorting dictionary by values using lambda?"
   ]
  },
  {
   "cell_type": "code",
   "execution_count": 27,
   "metadata": {},
   "outputs": [
    {
     "data": {
      "text/plain": [
       "{'alice': 8, 'alex': 9, 'bob': 20}"
      ]
     },
     "execution_count": 27,
     "metadata": {},
     "output_type": "execute_result"
    }
   ],
   "source": [
    "dict(sorted(players.items(), key = lambda item: item[1]))"
   ]
  },
  {
   "cell_type": "markdown",
   "metadata": {},
   "source": [
    "### Practice: sort a list of tuples"
   ]
  },
  {
   "cell_type": "code",
   "execution_count": 28,
   "metadata": {},
   "outputs": [],
   "source": [
    "badgers_in_nfl = [ (\"Jonathan\", \"Taylor\", 22), # tuple storing (first name, last name, age)\n",
    "                   (\"Russel\", \"Wilson\", 32), \n",
    "                   (\"Melvin\", \"Gordon\", 27), \n",
    "                   (\"JJ\", \"Watt\", 31)\n",
    "                 ]"
   ]
  },
  {
   "cell_type": "markdown",
   "metadata": {},
   "source": [
    "#### Define functions that will enable extraction of item at each tuple index position\n",
    "#### These functions only deal with a single tuple processing"
   ]
  },
  {
   "cell_type": "code",
   "execution_count": 29,
   "metadata": {},
   "outputs": [],
   "source": [
    "def select0(some_tuple):  # function must have exactly one parameter\n",
    "    return some_tuple[0]\n",
    "\n",
    "def select1(some_tuple):\n",
    "    return some_tuple[1]\n",
    "\n",
    "def select2(some_tuple):\n",
    "    return some_tuple[2]"
   ]
  },
  {
   "cell_type": "markdown",
   "metadata": {},
   "source": [
    "### Sort players by their first name"
   ]
  },
  {
   "cell_type": "code",
   "execution_count": 30,
   "metadata": {},
   "outputs": [
    {
     "data": {
      "text/plain": [
       "[('JJ', 'Watt', 31),\n",
       " ('Jonathan', 'Taylor', 22),\n",
       " ('Melvin', 'Gordon', 27),\n",
       " ('Russel', 'Wilson', 32)]"
      ]
     },
     "execution_count": 30,
     "metadata": {},
     "output_type": "execute_result"
    }
   ],
   "source": [
    "sorted(badgers_in_nfl, key = select0) "
   ]
  },
  {
   "cell_type": "markdown",
   "metadata": {},
   "source": [
    "### Sort players by their last name"
   ]
  },
  {
   "cell_type": "code",
   "execution_count": 31,
   "metadata": {},
   "outputs": [
    {
     "data": {
      "text/plain": [
       "[('Melvin', 'Gordon', 27),\n",
       " ('Jonathan', 'Taylor', 22),\n",
       " ('JJ', 'Watt', 31),\n",
       " ('Russel', 'Wilson', 32)]"
      ]
     },
     "execution_count": 31,
     "metadata": {},
     "output_type": "execute_result"
    }
   ],
   "source": [
    "sorted(badgers_in_nfl, key = select1) "
   ]
  },
  {
   "cell_type": "markdown",
   "metadata": {},
   "source": [
    "### Sort players by their age"
   ]
  },
  {
   "cell_type": "code",
   "execution_count": 32,
   "metadata": {},
   "outputs": [
    {
     "data": {
      "text/plain": [
       "[('Jonathan', 'Taylor', 22),\n",
       " ('Melvin', 'Gordon', 27),\n",
       " ('JJ', 'Watt', 31),\n",
       " ('Russel', 'Wilson', 32)]"
      ]
     },
     "execution_count": 32,
     "metadata": {},
     "output_type": "execute_result"
    }
   ],
   "source": [
    "sorted(badgers_in_nfl, key = select2) "
   ]
  },
  {
   "cell_type": "markdown",
   "metadata": {},
   "source": [
    "### Use lambdas to solve the above three sorting questions"
   ]
  },
  {
   "cell_type": "code",
   "execution_count": 33,
   "metadata": {},
   "outputs": [
    {
     "data": {
      "text/plain": [
       "[('JJ', 'Watt', 31),\n",
       " ('Jonathan', 'Taylor', 22),\n",
       " ('Melvin', 'Gordon', 27),\n",
       " ('Russel', 'Wilson', 32)]"
      ]
     },
     "execution_count": 33,
     "metadata": {},
     "output_type": "execute_result"
    }
   ],
   "source": [
    "sorted(badgers_in_nfl, key = lambda  t : t[0])"
   ]
  },
  {
   "cell_type": "code",
   "execution_count": 34,
   "metadata": {},
   "outputs": [
    {
     "data": {
      "text/plain": [
       "[('Melvin', 'Gordon', 27),\n",
       " ('Jonathan', 'Taylor', 22),\n",
       " ('JJ', 'Watt', 31),\n",
       " ('Russel', 'Wilson', 32)]"
      ]
     },
     "execution_count": 34,
     "metadata": {},
     "output_type": "execute_result"
    }
   ],
   "source": [
    "sorted(badgers_in_nfl, key = lambda  t : t[1])"
   ]
  },
  {
   "cell_type": "code",
   "execution_count": 35,
   "metadata": {},
   "outputs": [
    {
     "data": {
      "text/plain": [
       "[('Jonathan', 'Taylor', 22),\n",
       " ('Melvin', 'Gordon', 27),\n",
       " ('JJ', 'Watt', 31),\n",
       " ('Russel', 'Wilson', 32)]"
      ]
     },
     "execution_count": 35,
     "metadata": {},
     "output_type": "execute_result"
    }
   ],
   "source": [
    "sorted(badgers_in_nfl, key = lambda  t : t[-1])"
   ]
  },
  {
   "cell_type": "code",
   "execution_count": null,
   "metadata": {},
   "outputs": [],
   "source": []
  }
 ],
 "metadata": {
  "kernelspec": {
   "display_name": "Python 3",
   "language": "python",
   "name": "python3"
  },
  "language_info": {
   "codemirror_mode": {
    "name": "ipython",
    "version": 3
   },
   "file_extension": ".py",
   "mimetype": "text/x-python",
   "name": "python",
   "nbconvert_exporter": "python",
   "pygments_lexer": "ipython3",
   "version": "3.8.8"
  }
 },
 "nbformat": 4,
 "nbformat_minor": 2
}
