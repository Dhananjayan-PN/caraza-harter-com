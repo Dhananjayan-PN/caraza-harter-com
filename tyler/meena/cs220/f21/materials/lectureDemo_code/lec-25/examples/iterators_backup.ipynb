{
 "cells": [
  {
   "cell_type": "code",
   "execution_count": 1,
   "metadata": {},
   "outputs": [
    {
     "data": {
      "text/html": [
       "<style>.container { width:100% !important; }</style>"
      ],
      "text/plain": [
       "<IPython.core.display.HTML object>"
      ]
     },
     "metadata": {},
     "output_type": "display_data"
    }
   ],
   "source": [
    "from IPython.core.display import display, HTML\n",
    "display(HTML(\"<style>.container { width:100% !important; }</style>\"))"
   ]
  },
  {
   "cell_type": "code",
   "execution_count": 2,
   "metadata": {},
   "outputs": [],
   "source": [
    "import math"
   ]
  },
  {
   "cell_type": "code",
   "execution_count": 3,
   "metadata": {},
   "outputs": [],
   "source": [
    "# Example 1: mystery(x, y) is the same x ** y\n",
    "def mystery(x, y):\n",
    "    if y == 1:\n",
    "        return x\n",
    "    return x * mystery(x, y-1)"
   ]
  },
  {
   "cell_type": "code",
   "execution_count": 4,
   "metadata": {},
   "outputs": [
    {
     "data": {
      "text/plain": [
       "2"
      ]
     },
     "execution_count": 4,
     "metadata": {},
     "output_type": "execute_result"
    }
   ],
   "source": [
    "mystery(2, 1)"
   ]
  },
  {
   "cell_type": "code",
   "execution_count": 5,
   "metadata": {},
   "outputs": [
    {
     "data": {
      "text/plain": [
       "4"
      ]
     },
     "execution_count": 5,
     "metadata": {},
     "output_type": "execute_result"
    }
   ],
   "source": [
    "mystery(2, 2)\n",
    "# x = 2\n",
    "# y = 2\n",
    "# 2 * mystery(2, 1) ===> 2 * 2"
   ]
  },
  {
   "cell_type": "code",
   "execution_count": 6,
   "metadata": {},
   "outputs": [
    {
     "data": {
      "text/plain": [
       "8"
      ]
     },
     "execution_count": 6,
     "metadata": {},
     "output_type": "execute_result"
    }
   ],
   "source": [
    "mystery(2, 3)\n",
    "# 2 * mystery(2, 2) ===> 2 * 4"
   ]
  },
  {
   "cell_type": "code",
   "execution_count": 7,
   "metadata": {},
   "outputs": [
    {
     "data": {
      "text/plain": [
       "16"
      ]
     },
     "execution_count": 7,
     "metadata": {},
     "output_type": "execute_result"
    }
   ],
   "source": [
    "mystery(2, 4) # ===> x ** y can be expressed as x * (x ** y - 1)"
   ]
  },
  {
   "cell_type": "code",
   "execution_count": 8,
   "metadata": {},
   "outputs": [
    {
     "data": {
      "text/plain": [
       "[10, 1000, 100, 10000]"
      ]
     },
     "execution_count": 8,
     "metadata": {},
     "output_type": "execute_result"
    }
   ],
   "source": [
    "# Example 2\n",
    "def raise10(exp):\n",
    "    return mystery(10, exp)\n",
    "\n",
    "# WANT: [x, y, z] => [10**x, 10**y, 10**z]\n",
    "list(map(raise10, [1, 3, 2, 4]))"
   ]
  },
  {
   "cell_type": "code",
   "execution_count": 9,
   "metadata": {},
   "outputs": [
    {
     "data": {
      "text/plain": [
       "(1, 2, 3)"
      ]
     },
     "execution_count": 9,
     "metadata": {},
     "output_type": "execute_result"
    }
   ],
   "source": [
    "x = [1,2,3] # x is ONLY iterable\n",
    "it = iter(x)\n",
    "# val = next(x) # x is not an interator\n",
    "next(it), next(it), next(it)\n",
    "#One more call of next(it) throws StopIteration exception"
   ]
  },
  {
   "cell_type": "code",
   "execution_count": 10,
   "metadata": {},
   "outputs": [
    {
     "name": "stdout",
     "output_type": "stream",
     "text": [
      "(0, 'A')\n",
      "(1, 'B')\n",
      "(2, 'C')\n"
     ]
    }
   ],
   "source": [
    "y = enumerate([1,2,3]) # y is iterable and iterator\n",
    "y = enumerate([\"A\", \"B\", \"C\"]) # y is iterable and iterator\n",
    "it = iter(y)\n",
    "print(next(y))\n",
    "print(next(y))\n",
    "print(next(y))"
   ]
  },
  {
   "cell_type": "code",
   "execution_count": 11,
   "metadata": {},
   "outputs": [],
   "source": [
    "z = 3 #neither an iterator nor an iterable\n",
    "# it = iter(z) # uncomment to see error"
   ]
  },
  {
   "cell_type": "code",
   "execution_count": 12,
   "metadata": {},
   "outputs": [],
   "source": [
    "z = 3\n",
    "# val = next(z) # uncomment to see error"
   ]
  },
  {
   "cell_type": "markdown",
   "metadata": {},
   "source": [
    "## List comprehensions\n",
    "\n",
    "- concise way of generating a new list based on existing list item manipulation \n",
    "- short syntax - easier to read, very difficult to debug\n",
    "\n",
    "<pre>\n",
    "new_list = [expression for val in iterable if conditional_expression]\n",
    "</pre>\n",
    "- iteratble: reference to any iterable object instance\n",
    "- conditional_expression: filters the values in the original list based on a specific requirement\n",
    "- expression: can simply be val or some other transformation of val\n",
    "\n",
    "Best approach:\n",
    "- write for clause first\n",
    "- if condition expression next\n",
    "- expression in front of for clause last"
   ]
  },
  {
   "cell_type": "markdown",
   "metadata": {},
   "source": [
    "### Which animals are in all caps?"
   ]
  },
  {
   "cell_type": "code",
   "execution_count": 13,
   "metadata": {},
   "outputs": [
    {
     "name": "stdout",
     "output_type": "stream",
     "text": [
      "Start: ['lion', 'badger', 'RHINO', 'GIRAFFE']\n",
      "End: ['RHINO', 'GIRAFFE']\n"
     ]
    }
   ],
   "source": [
    "# Recap: remove animals whose name is not in all caps\n",
    "animals = [\"lion\", \"badger\", \"RHINO\", \"GIRAFFE\"]\n",
    "caps_animals = []\n",
    "print(\"Start:\", animals)\n",
    "\n",
    "#Bad version\n",
    "for val in animals:\n",
    "    if val.upper() == val: # Do we want to keep the current animal?\n",
    "        caps_animals.append(val)\n",
    "        \n",
    "print(\"End:\", caps_animals)"
   ]
  },
  {
   "cell_type": "markdown",
   "metadata": {},
   "source": [
    "### Now let's solve the same problem using list comprehension\n",
    "<pre>\n",
    "new_list = [expression for val in iterable if conditional_expression]\n",
    "</pre>\n",
    "For the below example:\n",
    "- iterable: animals variable (storing reference to a list object instance)\n",
    "- conditional_expression: val.upper() == val\n",
    "- expression: val itself"
   ]
  },
  {
   "cell_type": "code",
   "execution_count": 14,
   "metadata": {},
   "outputs": [
    {
     "name": "stdout",
     "output_type": "stream",
     "text": [
      "['lion', 'badger', 'RHINO', 'GIRAFFE']\n",
      "['RHINO', 'GIRAFFE']\n"
     ]
    }
   ],
   "source": [
    "# List comprehension version\n",
    "animals = [\"lion\", \"badger\", \"RHINO\", \"GIRAFFE\"]\n",
    "print(animals)\n",
    "\n",
    "caps_animals = [val for val in animals if val.upper() == val]\n",
    "print(caps_animals)"
   ]
  },
  {
   "cell_type": "markdown",
   "metadata": {},
   "source": [
    "### Why is to tougher to debug?\n",
    "- you cannot use a print function call in a comprehension\n",
    "- you need to decompose each part and test it separately\n",
    "- recommended to write the comprehension with a simpler example"
   ]
  },
  {
   "cell_type": "markdown",
   "metadata": {},
   "source": [
    "### Other than a badger, what animals can you see at Henry Vilas Zoo?"
   ]
  },
  {
   "cell_type": "code",
   "execution_count": 15,
   "metadata": {},
   "outputs": [
    {
     "name": "stdout",
     "output_type": "stream",
     "text": [
      "['lion', 'badger', 'RHINO', 'GIRAFFE']\n",
      "['lion', 'RHINO', 'GIRAFFE']\n"
     ]
    }
   ],
   "source": [
    "animals = [\"lion\", \"badger\", \"RHINO\", \"GIRAFFE\"]\n",
    "print(animals)\n",
    "\n",
    "non_badger_zoo_animals = [val for val in animals if val.upper() != \"BADGER\"]\n",
    "print(non_badger_zoo_animals)"
   ]
  },
  {
   "cell_type": "markdown",
   "metadata": {},
   "source": [
    "### Can we convert all of the animals to all caps?\n",
    "- if clause is optional"
   ]
  },
  {
   "cell_type": "code",
   "execution_count": 16,
   "metadata": {},
   "outputs": [
    {
     "name": "stdout",
     "output_type": "stream",
     "text": [
      "['lion', 'badger', 'RHINO', 'GIRAFFE']\n",
      "['LION', 'BADGER', 'RHINO', 'GIRAFFE']\n"
     ]
    }
   ],
   "source": [
    "animals = [\"lion\", \"badger\", \"RHINO\", \"GIRAFFE\"]\n",
    "print(animals)\n",
    "\n",
    "all_caps_animals = [val.upper() for val in animals]\n",
    "print(all_caps_animals)"
   ]
  },
  {
   "cell_type": "markdown",
   "metadata": {},
   "source": [
    "### Using if ... else ... in a list comprehension\n",
    "- when an item satifies the if clause, you don't execute the else clause\n",
    "- when an item does not satisfy the if clause, you execute the else clause\n",
    "- syntax changes slightly for if ... else ...\n",
    "\n",
    "<pre>\n",
    "new_list = [expression if conditional_expression else alternate_expression for val in iterable ]\n",
    "</pre>\n",
    "\n",
    "- if ... else ... clauses need to come before for (not the same as just using if clause)"
   ]
  },
  {
   "cell_type": "markdown",
   "metadata": {},
   "source": [
    "### What if we only care about the badger? Replace non-badger animals with \"some animal\"."
   ]
  },
  {
   "cell_type": "code",
   "execution_count": 17,
   "metadata": {},
   "outputs": [
    {
     "name": "stdout",
     "output_type": "stream",
     "text": [
      "['lion', 'badger', 'RHINO', 'GIRAFFE']\n",
      "['some animal', 'badger', 'some animal', 'some animal']\n"
     ]
    }
   ],
   "source": [
    "animals = [\"lion\", \"badger\", \"RHINO\", \"GIRAFFE\"]\n",
    "print(animals)\n",
    "\n",
    "non_badger_zoo_animals = [val if val.upper() == \"BADGER\" else \"some animal\" for val in animals]\n",
    "print(non_badger_zoo_animals)"
   ]
  },
  {
   "cell_type": "markdown",
   "metadata": {},
   "source": [
    "## Dict comprehensions\n",
    "- Version 1:\n",
    "<pre>\n",
    "{expression for val in iterable if condition}\n",
    "</pre>\n",
    "- expression has the form <pre>key: val</pre>\n",
    "<br/>\n",
    "- Version 2 --- the dict function call by passing list comprehension as argument:\n",
    "<pre>dict([expression for val in iterable if condition])</pre>\n",
    "- expression has the form <pre>(key, val)</pre>"
   ]
  },
  {
   "cell_type": "markdown",
   "metadata": {},
   "source": [
    "### Create a dict to map number to its square (for numbers 1 to 5)"
   ]
  },
  {
   "cell_type": "code",
   "execution_count": 18,
   "metadata": {},
   "outputs": [
    {
     "name": "stdout",
     "output_type": "stream",
     "text": [
      "{1: 1, 2: 4, 3: 9, 4: 16, 5: 25}\n"
     ]
    }
   ],
   "source": [
    "squares_dict = dict()\n",
    "for val in range(1, 6):\n",
    "    squares_dict[val] = val * val\n",
    "print(squares_dict)"
   ]
  },
  {
   "cell_type": "markdown",
   "metadata": {},
   "source": [
    "### Dict comprehension --- version 1"
   ]
  },
  {
   "cell_type": "code",
   "execution_count": 19,
   "metadata": {},
   "outputs": [
    {
     "name": "stdout",
     "output_type": "stream",
     "text": [
      "{1: 1, 2: 4, 3: 9, 4: 16, 5: 25}\n"
     ]
    }
   ],
   "source": [
    "square_dict = {val: val * val for val in range(1, 6)}\n",
    "print(square_dict)"
   ]
  },
  {
   "cell_type": "markdown",
   "metadata": {},
   "source": [
    "### Dict comprehension --- version 2"
   ]
  },
  {
   "cell_type": "code",
   "execution_count": 20,
   "metadata": {},
   "outputs": [
    {
     "name": "stdout",
     "output_type": "stream",
     "text": [
      "{1: 1, 2: 4, 3: 9, 4: 16, 5: 25}\n"
     ]
    }
   ],
   "source": [
    "square_dict = dict([(val, val * val) for val in range(1, 6)])\n",
    "print(square_dict)"
   ]
  },
  {
   "cell_type": "markdown",
   "metadata": {},
   "source": [
    "### From square_dict, let's generate cube_dict"
   ]
  },
  {
   "cell_type": "code",
   "execution_count": 21,
   "metadata": {},
   "outputs": [
    {
     "name": "stdout",
     "output_type": "stream",
     "text": [
      "{1: 1, 2: 8, 3: 27, 4: 64, 5: 125}\n"
     ]
    }
   ],
   "source": [
    "cube_dict = {key: int(math.sqrt(val)) ** 3 for key, val in square_dict.items()}\n",
    "print(cube_dict)"
   ]
  },
  {
   "cell_type": "markdown",
   "metadata": {},
   "source": [
    "### Convert Madison *F temperature to *C\n",
    "- <pre>C = 5 / 9 * (F - 32)</pre>"
   ]
  },
  {
   "cell_type": "code",
   "execution_count": 25,
   "metadata": {},
   "outputs": [
    {
     "name": "stdout",
     "output_type": "stream",
     "text": [
      "{'Nov': -2, 'Dec': -6, 'Jan': -12, 'Feb': -10}\n"
     ]
    }
   ],
   "source": [
    "madison_fahrenheit = {'Nov': 28,'Dec': 20, 'Jan': 10,'Feb': 14}\n",
    "madison_celsius = {key: int(5 / 9 * (val - 32)) for key, val in fahrenheit.items()}\n",
    "print(madison_celsius)"
   ]
  },
  {
   "cell_type": "code",
   "execution_count": null,
   "metadata": {},
   "outputs": [],
   "source": []
  }
 ],
 "metadata": {
  "kernelspec": {
   "display_name": "Python 3",
   "language": "python",
   "name": "python3"
  },
  "language_info": {
   "codemirror_mode": {
    "name": "ipython",
    "version": 3
   },
   "file_extension": ".py",
   "mimetype": "text/x-python",
   "name": "python",
   "nbconvert_exporter": "python",
   "pygments_lexer": "ipython3",
   "version": "3.8.8"
  }
 },
 "nbformat": 4,
 "nbformat_minor": 2
}
