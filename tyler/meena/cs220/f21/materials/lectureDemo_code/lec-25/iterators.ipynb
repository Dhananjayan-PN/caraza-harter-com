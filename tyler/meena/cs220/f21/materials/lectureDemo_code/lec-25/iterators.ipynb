{
 "cells": [
  {
   "cell_type": "code",
   "execution_count": 1,
   "metadata": {},
   "outputs": [
    {
     "data": {
      "text/html": [
       "<style>.container { width:100% !important; }</style>"
      ],
      "text/plain": [
       "<IPython.core.display.HTML object>"
      ]
     },
     "metadata": {},
     "output_type": "display_data"
    }
   ],
   "source": [
    "from IPython.core.display import display, HTML\n",
    "display(HTML(\"<style>.container { width:100% !important; }</style>\"))"
   ]
  },
  {
   "cell_type": "code",
   "execution_count": 2,
   "metadata": {},
   "outputs": [],
   "source": [
    "import math"
   ]
  },
  {
   "cell_type": "markdown",
   "metadata": {},
   "source": [
    "## Is mystery a recursive function example or a function object reference example?"
   ]
  },
  {
   "cell_type": "code",
   "execution_count": 3,
   "metadata": {},
   "outputs": [],
   "source": [
    "# Example 1: \n",
    "def mystery(x, y):\n",
    "    if y == 1:\n",
    "        return x\n",
    "    return x * mystery(x, y - 1)"
   ]
  },
  {
   "cell_type": "code",
   "execution_count": 4,
   "metadata": {},
   "outputs": [
    {
     "data": {
      "text/plain": [
       "2"
      ]
     },
     "execution_count": 4,
     "metadata": {},
     "output_type": "execute_result"
    }
   ],
   "source": [
    "mystery(2, 1)\n",
    "# x = 2\n",
    "# y = 1"
   ]
  },
  {
   "cell_type": "code",
   "execution_count": 5,
   "metadata": {},
   "outputs": [
    {
     "data": {
      "text/plain": [
       "4"
      ]
     },
     "execution_count": 5,
     "metadata": {},
     "output_type": "execute_result"
    }
   ],
   "source": [
    "mystery(2, 2)\n",
    "# x = 2\n",
    "# y = 2\n",
    "# 2 * mystery(2, 1) ===> 2 * 2"
   ]
  },
  {
   "cell_type": "code",
   "execution_count": 6,
   "metadata": {},
   "outputs": [
    {
     "data": {
      "text/plain": [
       "8"
      ]
     },
     "execution_count": 6,
     "metadata": {},
     "output_type": "execute_result"
    }
   ],
   "source": [
    "mystery(2, 3)\n",
    "# 2 * mystery(2, 2) ===> 2 * 4"
   ]
  },
  {
   "cell_type": "code",
   "execution_count": 7,
   "metadata": {},
   "outputs": [
    {
     "data": {
      "text/plain": [
       "16"
      ]
     },
     "execution_count": 7,
     "metadata": {},
     "output_type": "execute_result"
    }
   ],
   "source": [
    "#mystery(x, y) is the same x ** y\n",
    "mystery(2, 4) # ===> x ** y can be expressed as x * (x ** y - 1)"
   ]
  },
  {
   "cell_type": "markdown",
   "metadata": {},
   "source": [
    "## Is raise10 a recursive function example or a function object reference example?"
   ]
  },
  {
   "cell_type": "code",
   "execution_count": 8,
   "metadata": {},
   "outputs": [
    {
     "data": {
      "text/plain": [
       "[10, 1000, 100, 10000]"
      ]
     },
     "execution_count": 8,
     "metadata": {},
     "output_type": "execute_result"
    }
   ],
   "source": [
    "# Example 2\n",
    "def raise10(exp):\n",
    "    return mystery(10, exp)\n",
    "\n",
    "# WANT: [x, y, z] => [10**x, 10**y, 10**z]\n",
    "list(map(raise10, [1, 3, 2, 4]))"
   ]
  },
  {
   "cell_type": "markdown",
   "metadata": {},
   "source": [
    "# Review of lambda + map"
   ]
  },
  {
   "cell_type": "markdown",
   "metadata": {},
   "source": [
    "### Use map and lambda to make a new list of ints from numbers, that contains squared items"
   ]
  },
  {
   "cell_type": "code",
   "execution_count": 9,
   "metadata": {},
   "outputs": [
    {
     "data": {
      "text/plain": [
       "[1936, 1089, 3136, 441, 361]"
      ]
     },
     "execution_count": 9,
     "metadata": {},
     "output_type": "execute_result"
    }
   ],
   "source": [
    "numbers = [44, 33, 56, 21, 19]\n",
    "\n",
    "list(map(lambda x : x ** 2, numbers))"
   ]
  },
  {
   "cell_type": "markdown",
   "metadata": {},
   "source": [
    "### Use map and lambda to make a new list of floats from vac_rates, that is rounded to 3 decimal points"
   ]
  },
  {
   "cell_type": "code",
   "execution_count": 10,
   "metadata": {},
   "outputs": [
    {
     "data": {
      "text/plain": [
       "[23.33, 51.288, 76.122, 17.2, 10.5]"
      ]
     },
     "execution_count": 10,
     "metadata": {},
     "output_type": "execute_result"
    }
   ],
   "source": [
    "vac_rates = [23.329868, 51.28772, 76.12232, 17.2, 10.5]\n",
    "\n",
    "list(map(lambda x: round(x, 3),  vac_rates))"
   ]
  },
  {
   "cell_type": "markdown",
   "metadata": {},
   "source": [
    "### Use map and lambda to make a new list of ints from words, that contains length of each string"
   ]
  },
  {
   "cell_type": "code",
   "execution_count": 11,
   "metadata": {},
   "outputs": [
    {
     "data": {
      "text/plain": [
       "[2, 4, 8, 6, 4, 6, 2, 7]"
      ]
     },
     "execution_count": 11,
     "metadata": {},
     "output_type": "execute_result"
    }
   ],
   "source": [
    "words = ['My', 'very', 'educated', 'mother', 'just', 'served', 'us', 'noodles']\n",
    "\n",
    "list(map(lambda s : len(s), words))"
   ]
  },
  {
   "cell_type": "markdown",
   "metadata": {},
   "source": [
    "### Use sorted and lambda function to sort this list of dictionaries based on the score, from low to high"
   ]
  },
  {
   "cell_type": "code",
   "execution_count": 12,
   "metadata": {},
   "outputs": [
    {
     "data": {
      "text/plain": [
       "[{'name': 'Bob', 'score': 32},\n",
       " {'name': 'Alice', 'score': 39},\n",
       " {'name': 'Cindy', 'score': 45}]"
      ]
     },
     "execution_count": 12,
     "metadata": {},
     "output_type": "execute_result"
    }
   ],
   "source": [
    "scores = [  {\"name\": \"Bob\", \"score\": 32} ,\n",
    "            {\"name\": \"Cindy\", \"score\" : 45}, \n",
    "            {\"name\": \"Alice\", \"score\": 39}\n",
    "     ]\n",
    "\n",
    "sorted(scores, key = lambda d: d[\"score\"])"
   ]
  },
  {
   "cell_type": "markdown",
   "metadata": {},
   "source": [
    "### Now, modify the lambda function part alone to sort the list of dictionaries based on the score, from high to low"
   ]
  },
  {
   "cell_type": "code",
   "execution_count": 13,
   "metadata": {},
   "outputs": [
    {
     "data": {
      "text/plain": [
       "[{'name': 'Cindy', 'score': 45},\n",
       " {'name': 'Alice', 'score': 39},\n",
       " {'name': 'Bob', 'score': 32}]"
      ]
     },
     "execution_count": 13,
     "metadata": {},
     "output_type": "execute_result"
    }
   ],
   "source": [
    "sorted(scores, key = lambda d: -d[\"score\"])"
   ]
  },
  {
   "cell_type": "markdown",
   "metadata": {},
   "source": [
    "### Now, go back to the previous lambda function definition and use sorted parameters to sort the list of dictionaries based on the score, from high to low"
   ]
  },
  {
   "cell_type": "code",
   "execution_count": 14,
   "metadata": {},
   "outputs": [
    {
     "data": {
      "text/plain": [
       "[{'name': 'Cindy', 'score': 45},\n",
       " {'name': 'Alice', 'score': 39},\n",
       " {'name': 'Bob', 'score': 32}]"
      ]
     },
     "execution_count": 14,
     "metadata": {},
     "output_type": "execute_result"
    }
   ],
   "source": [
    "sorted(scores, key = lambda d: d[\"score\"], reverse = True)"
   ]
  },
  {
   "cell_type": "markdown",
   "metadata": {},
   "source": [
    "# Fix this function that determines if a positive int is prime"
   ]
  },
  {
   "cell_type": "code",
   "execution_count": 15,
   "metadata": {},
   "outputs": [
    {
     "name": "stdout",
     "output_type": "stream",
     "text": [
      "True\n",
      "True\n",
      "False\n"
     ]
    }
   ],
   "source": [
    "def is_prime(n):\n",
    "    '''returns True if n is prime, False otherwise'''\n",
    "    for i in range(2, n // 2 + 1): # write what this means here: check integer divisors from 2 to n / 2 + 1\n",
    "        if n % i == 0:\n",
    "            return False  # fix this\n",
    "    return True           # fix this\n",
    "\n",
    "print(is_prime(2))\n",
    "print(is_prime(13))\n",
    "print(is_prime(34))"
   ]
  },
  {
   "cell_type": "markdown",
   "metadata": {},
   "source": [
    "## Is x iterable? Is x an iterator?"
   ]
  },
  {
   "cell_type": "code",
   "execution_count": 16,
   "metadata": {},
   "outputs": [],
   "source": [
    "x = [1,2,3] # x is ONLY iterable\n",
    "it = iter(x)"
   ]
  },
  {
   "cell_type": "code",
   "execution_count": 17,
   "metadata": {},
   "outputs": [],
   "source": [
    "# val = next(x) # x is not an interator; uncomment to see error"
   ]
  },
  {
   "cell_type": "code",
   "execution_count": 18,
   "metadata": {},
   "outputs": [
    {
     "data": {
      "text/plain": [
       "(1, 2, 3)"
      ]
     },
     "execution_count": 18,
     "metadata": {},
     "output_type": "execute_result"
    }
   ],
   "source": [
    "next(it), next(it), next(it)\n",
    "#One more call of next(it) throws StopIteration exception"
   ]
  },
  {
   "cell_type": "markdown",
   "metadata": {},
   "source": [
    "## Is y iterable? Is y an iterator?"
   ]
  },
  {
   "cell_type": "code",
   "execution_count": 19,
   "metadata": {},
   "outputs": [],
   "source": [
    "y = enumerate([\"A\", \"B\", \"C\"]) # y is iterable and iterator\n",
    "it = iter(y)"
   ]
  },
  {
   "cell_type": "code",
   "execution_count": 20,
   "metadata": {},
   "outputs": [
    {
     "data": {
      "text/plain": [
       "((0, 'A'), (1, 'B'), (2, 'C'))"
      ]
     },
     "execution_count": 20,
     "metadata": {},
     "output_type": "execute_result"
    }
   ],
   "source": [
    "next(y), next(y), next(y)"
   ]
  },
  {
   "cell_type": "markdown",
   "metadata": {},
   "source": [
    "## Is z iterable? Is z an iterator?"
   ]
  },
  {
   "cell_type": "code",
   "execution_count": 21,
   "metadata": {},
   "outputs": [],
   "source": [
    "z = 3 # neither an iterator nor an iterable\n",
    "# it = iter(z) # uncomment to see error"
   ]
  },
  {
   "cell_type": "code",
   "execution_count": 22,
   "metadata": {},
   "outputs": [],
   "source": [
    "# val = next(z) #uncomment to see error"
   ]
  },
  {
   "cell_type": "markdown",
   "metadata": {},
   "source": [
    "## List comprehensions\n",
    "\n",
    "- concise way of generating a new list based on existing list item manipulation \n",
    "- short syntax - easier to read, very difficult to debug\n",
    "\n",
    "<pre>\n",
    "new_list = [expression for val in iterable if conditional_expression]\n",
    "</pre>\n",
    "- iteratble: reference to any iterable object instance\n",
    "- conditional_expression: filters the values in the original list based on a specific requirement\n",
    "- expression: can simply be val or some other transformation of val\n",
    "\n",
    "Best approach:\n",
    "- write for clause first\n",
    "- if condition expression next\n",
    "- expression in front of for clause last"
   ]
  },
  {
   "cell_type": "markdown",
   "metadata": {},
   "source": [
    "### Which animals are in all caps?"
   ]
  },
  {
   "cell_type": "code",
   "execution_count": 23,
   "metadata": {},
   "outputs": [
    {
     "name": "stdout",
     "output_type": "stream",
     "text": [
      "Original: ['lion', 'badger', 'RHINO', 'GIRAFFE']\n",
      "New list: ['RHINO', 'GIRAFFE']\n"
     ]
    }
   ],
   "source": [
    "# Recap: retain animals in all caps\n",
    "animals = [\"lion\", \"badger\", \"RHINO\", \"GIRAFFE\"]\n",
    "caps_animals = []\n",
    "print(\"Original:\", animals)\n",
    "\n",
    "#Bad version\n",
    "for val in animals:\n",
    "    if val.upper() == val: # Do we want to keep the current animal?\n",
    "        caps_animals.append(val)\n",
    "        \n",
    "print(\"New list:\", caps_animals)"
   ]
  },
  {
   "cell_type": "markdown",
   "metadata": {},
   "source": [
    "### Now let's solve the same problem using list comprehension\n",
    "<pre>\n",
    "new_list = [expression for val in iterable if conditional_expression]\n",
    "</pre>\n",
    "For the below example:\n",
    "- iterable: animals variable (storing reference to a list object instance)\n",
    "- conditional_expression: val.upper() == val\n",
    "- expression: val itself"
   ]
  },
  {
   "cell_type": "code",
   "execution_count": 24,
   "metadata": {},
   "outputs": [
    {
     "name": "stdout",
     "output_type": "stream",
     "text": [
      "Original: ['lion', 'badger', 'RHINO', 'GIRAFFE']\n",
      "New list: ['RHINO', 'GIRAFFE']\n"
     ]
    }
   ],
   "source": [
    "# List comprehension version\n",
    "animals = [\"lion\", \"badger\", \"RHINO\", \"GIRAFFE\"]\n",
    "print(\"Original:\", animals)\n",
    "\n",
    "caps_animals = [val for val in animals if val.upper() == val]\n",
    "print(\"New list:\", caps_animals)"
   ]
  },
  {
   "cell_type": "markdown",
   "metadata": {},
   "source": [
    "### Why is to tougher to debug?\n",
    "- you cannot use a print function call in a comprehension\n",
    "- you need to decompose each part and test it separately\n",
    "- recommended to write the comprehension with a simpler example"
   ]
  },
  {
   "cell_type": "markdown",
   "metadata": {},
   "source": [
    "### Other than a badger, what animals can you see at Henry Vilas Zoo?"
   ]
  },
  {
   "cell_type": "code",
   "execution_count": 25,
   "metadata": {},
   "outputs": [
    {
     "name": "stdout",
     "output_type": "stream",
     "text": [
      "Original: ['lion', 'badger', 'RHINO', 'GIRAFFE']\n",
      "New list: ['lion', 'RHINO', 'GIRAFFE']\n"
     ]
    }
   ],
   "source": [
    "animals = [\"lion\", \"badger\", \"RHINO\", \"GIRAFFE\"]\n",
    "print(\"Original:\", animals)\n",
    "\n",
    "non_badger_zoo_animals = [val for val in animals if val.upper() != \"BADGER\"]\n",
    "print(\"New list:\", non_badger_zoo_animals)"
   ]
  },
  {
   "cell_type": "markdown",
   "metadata": {},
   "source": [
    "### Can we convert all of the animals to all caps?\n",
    "- if clause is optional"
   ]
  },
  {
   "cell_type": "code",
   "execution_count": 26,
   "metadata": {},
   "outputs": [
    {
     "name": "stdout",
     "output_type": "stream",
     "text": [
      "Original: ['lion', 'badger', 'RHINO', 'GIRAFFE']\n",
      "New list: ['LION', 'BADGER', 'RHINO', 'GIRAFFE']\n"
     ]
    }
   ],
   "source": [
    "animals = [\"lion\", \"badger\", \"RHINO\", \"GIRAFFE\"]\n",
    "print(\"Original:\", animals)\n",
    "\n",
    "all_caps_animals = [val.upper() for val in animals]\n",
    "print(\"New list:\", all_caps_animals)"
   ]
  },
  {
   "cell_type": "markdown",
   "metadata": {},
   "source": [
    "### Using if ... else ... in a list comprehension\n",
    "- when an item satifies the if clause, you don't execute the else clause\n",
    "- when an item does not satisfy the if clause, you execute the else clause\n",
    "- syntax changes slightly for if ... else ...\n",
    "\n",
    "<pre>\n",
    "new_list = [expression if conditional_expression else alternate_expression for val in iterable ]\n",
    "</pre>\n",
    "\n",
    "- if ... else ... clauses need to come before for (not the same as just using if clause)"
   ]
  },
  {
   "cell_type": "markdown",
   "metadata": {},
   "source": [
    "### What if we only care about the badger? Replace non-badger animals with \"some animal\"."
   ]
  },
  {
   "cell_type": "code",
   "execution_count": 27,
   "metadata": {},
   "outputs": [
    {
     "name": "stdout",
     "output_type": "stream",
     "text": [
      "Original: ['lion', 'badger', 'RHINO', 'GIRAFFE']\n",
      "New list: ['some animal', 'badger', 'some animal', 'some animal']\n"
     ]
    }
   ],
   "source": [
    "animals = [\"lion\", \"badger\", \"RHINO\", \"GIRAFFE\"]\n",
    "print(\"Original:\", animals)\n",
    "\n",
    "non_badger_zoo_animals = [val if val.upper() == \"BADGER\" else \"some animal\" for val in animals]\n",
    "print(\"New list:\", non_badger_zoo_animals)"
   ]
  },
  {
   "cell_type": "markdown",
   "metadata": {},
   "source": [
    "## Dict comprehensions\n",
    "- Version 1:\n",
    "<pre>\n",
    "{expression for val in iterable if condition}\n",
    "</pre>\n",
    "- expression has the form <pre>key: val</pre>\n",
    "<br/>\n",
    "- Version 2 --- the dict function call by passing list comprehension as argument:\n",
    "<pre>dict([expression for val in iterable if condition])</pre>\n",
    "- expression has the form <pre>(key, val)</pre>"
   ]
  },
  {
   "cell_type": "markdown",
   "metadata": {},
   "source": [
    "### Create a dict to map number to its square (for numbers 1 to 5)"
   ]
  },
  {
   "cell_type": "code",
   "execution_count": 28,
   "metadata": {},
   "outputs": [
    {
     "name": "stdout",
     "output_type": "stream",
     "text": [
      "{1: 1, 2: 4, 3: 9, 4: 16, 5: 25}\n"
     ]
    }
   ],
   "source": [
    "squares_dict = dict()\n",
    "for val in range(1, 6):\n",
    "    squares_dict[val] = val * val\n",
    "print(squares_dict)"
   ]
  },
  {
   "cell_type": "markdown",
   "metadata": {},
   "source": [
    "### Dict comprehension --- version 1"
   ]
  },
  {
   "cell_type": "code",
   "execution_count": 29,
   "metadata": {},
   "outputs": [
    {
     "name": "stdout",
     "output_type": "stream",
     "text": [
      "{1: 1, 2: 4, 3: 9, 4: 16, 5: 25}\n"
     ]
    }
   ],
   "source": [
    "square_dict = {val: val * val for val in range(1, 6)}\n",
    "print(square_dict)"
   ]
  },
  {
   "cell_type": "markdown",
   "metadata": {},
   "source": [
    "### Dict comprehension --- version 2"
   ]
  },
  {
   "cell_type": "code",
   "execution_count": 30,
   "metadata": {},
   "outputs": [
    {
     "name": "stdout",
     "output_type": "stream",
     "text": [
      "{1: 1, 2: 4, 3: 9, 4: 16, 5: 25}\n"
     ]
    }
   ],
   "source": [
    "square_dict = dict([(val, val * val) for val in range(1, 6)])\n",
    "print(square_dict)"
   ]
  },
  {
   "cell_type": "markdown",
   "metadata": {},
   "source": [
    "### From square_dict, let's generate cube_dict"
   ]
  },
  {
   "cell_type": "code",
   "execution_count": 31,
   "metadata": {},
   "outputs": [
    {
     "name": "stdout",
     "output_type": "stream",
     "text": [
      "{1: 1, 2: 8, 3: 27, 4: 64, 5: 125}\n"
     ]
    }
   ],
   "source": [
    "cube_dict = {key: int(math.sqrt(val)) ** 3 for key, val in square_dict.items()}\n",
    "print(cube_dict)"
   ]
  },
  {
   "cell_type": "markdown",
   "metadata": {},
   "source": [
    "### Convert Madison *F temperature to *C\n",
    "- <pre>C = 5 / 9 * (F - 32)</pre>"
   ]
  },
  {
   "cell_type": "code",
   "execution_count": 32,
   "metadata": {},
   "outputs": [
    {
     "name": "stdout",
     "output_type": "stream",
     "text": [
      "{'Nov': -2, 'Dec': -6, 'Jan': -12, 'Feb': -10}\n"
     ]
    }
   ],
   "source": [
    "madison_fahrenheit = {'Nov': 28,'Dec': 20, 'Jan': 10,'Feb': 14}\n",
    "print(\"Original:\", madison_fahrenheit)\n",
    "\n",
    "madison_celsius = {key: int(5 / 9 * (val - 32)) for key, val in madison_fahrenheit.items()}\n",
    "print(\"New dict:\", madison_celsius)"
   ]
  },
  {
   "cell_type": "markdown",
   "metadata": {},
   "source": [
    "### Convert type of values in a dictionary"
   ]
  },
  {
   "cell_type": "code",
   "execution_count": 34,
   "metadata": {},
   "outputs": [
    {
     "name": "stdout",
     "output_type": "stream",
     "text": [
      "Original: {'Bob': '32', 'Cindy': '45', 'Alice': '39', 'Unknown': 'None'}\n",
      "New dict: {'Bob': 32, 'Cindy': 45, 'Alice': 39, 'Unknown': None}\n"
     ]
    }
   ],
   "source": [
    "scores_dict = {\"Bob\": \"32\", \"Cindy\" : \"45\", \"Alice\": \"39\", \"Unknown\": \"None\"}\n",
    "print(\"Original:\", scores_dict)\n",
    "\n",
    "updated_scores_dict = {key: int(val) if val.isdigit() else None for key, val in scores_dict.items()}\n",
    "print(\"New dict:\", updated_scores_dict)"
   ]
  },
  {
   "cell_type": "code",
   "execution_count": null,
   "metadata": {},
   "outputs": [],
   "source": []
  }
 ],
 "metadata": {
  "kernelspec": {
   "display_name": "Python 3",
   "language": "python",
   "name": "python3"
  },
  "language_info": {
   "codemirror_mode": {
    "name": "ipython",
    "version": 3
   },
   "file_extension": ".py",
   "mimetype": "text/x-python",
   "name": "python",
   "nbconvert_exporter": "python",
   "pygments_lexer": "ipython3",
   "version": "3.8.8"
  }
 },
 "nbformat": 4,
 "nbformat_minor": 2
}
