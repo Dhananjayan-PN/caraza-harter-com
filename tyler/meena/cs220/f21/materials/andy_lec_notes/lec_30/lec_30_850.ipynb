{
 "cells": [
  {
   "cell_type": "markdown",
   "metadata": {},
   "source": [
    "# Monday, Nov 15\n",
    "## Pandas 2 - DataFrames\n",
    "\n",
    "Core ideas:\n",
    " - DataFrames are tables, \n",
    "     - meant to be similar to Spreadsheets\n",
    "     - each column in the table is a Series\n"
   ]
  },
  {
   "cell_type": "markdown",
   "metadata": {},
   "source": [
    "## A. Series Review\n",
    "## Data alignment  (element-wise operation: series op series)"
   ]
  },
  {
   "cell_type": "code",
   "execution_count": 2,
   "metadata": {},
   "outputs": [],
   "source": [
    "import pandas as pd\n",
    "from pandas import Series, DataFrame\n",
    "\n",
    "# double importing allows us flexibility in naming"
   ]
  },
  {
   "cell_type": "markdown",
   "metadata": {},
   "source": [
    "## Volunteer Hours"
   ]
  },
  {
   "cell_type": "code",
   "execution_count": 3,
   "metadata": {},
   "outputs": [
    {
     "name": "stdout",
     "output_type": "stream",
     "text": [
      "Rita       5\n",
      "Therese    3\n",
      "Janice     6\n",
      "dtype: int64\n",
      "Rita       3\n",
      "Therese    7\n",
      "Janice     4\n",
      "dtype: int64\n",
      "Therese    5\n",
      "Janice     5\n",
      "Rita       8\n",
      "dtype: int64\n"
     ]
    }
   ],
   "source": [
    "# We can make a Series from a Python dict\n",
    "week1= Series({\"Rita\":5, \"Therese\":3, \"Janice\": 6})\n",
    "week2 = Series({\"Rita\":3, \"Therese\":7, \"Janice\": 4})\n",
    "week3 = Series({\"Therese\":5, \"Janice\":5, \"Rita\": 8})   # wrong order!\n",
    "print(week1)\n",
    "print(week2)\n",
    "print(week3)"
   ]
  },
  {
   "cell_type": "markdown",
   "metadata": {},
   "source": [
    "## Give everyone 3 more hours in Week 1"
   ]
  },
  {
   "cell_type": "code",
   "execution_count": 4,
   "metadata": {},
   "outputs": [
    {
     "data": {
      "text/plain": [
       "Rita       8\n",
       "Therese    6\n",
       "Janice     9\n",
       "dtype: int64"
      ]
     },
     "execution_count": 4,
     "metadata": {},
     "output_type": "execute_result"
    }
   ],
   "source": [
    "week1 = week1 + 3\n",
    "week1"
   ]
  },
  {
   "cell_type": "markdown",
   "metadata": {},
   "source": [
    "## What is week1 +  week2 + week3?"
   ]
  },
  {
   "cell_type": "code",
   "execution_count": 5,
   "metadata": {},
   "outputs": [
    {
     "data": {
      "text/plain": [
       "Janice     18\n",
       "Rita       19\n",
       "Therese    18\n",
       "dtype: int64"
      ]
     },
     "execution_count": 5,
     "metadata": {},
     "output_type": "execute_result"
    }
   ],
   "source": [
    "week1 + week2 + week3"
   ]
  },
  {
   "cell_type": "markdown",
   "metadata": {},
   "source": [
    "## What is week1 / week2 ?"
   ]
  },
  {
   "cell_type": "code",
   "execution_count": 6,
   "metadata": {},
   "outputs": [
    {
     "data": {
      "text/plain": [
       "Rita       2.666667\n",
       "Therese    0.857143\n",
       "Janice     2.250000\n",
       "dtype: float64"
      ]
     },
     "execution_count": 6,
     "metadata": {},
     "output_type": "execute_result"
    }
   ],
   "source": [
    "week1 / week2\n",
    "# notice that we didn't have to worry about the order of indices"
   ]
  },
  {
   "cell_type": "markdown",
   "metadata": {},
   "source": [
    "## What is week1 > week2?"
   ]
  },
  {
   "cell_type": "code",
   "execution_count": 7,
   "metadata": {},
   "outputs": [
    {
     "name": "stdout",
     "output_type": "stream",
     "text": [
      "Rita       8\n",
      "Therese    6\n",
      "Janice     9\n",
      "dtype: int64\n",
      "Rita       3\n",
      "Therese    7\n",
      "Janice     4\n",
      "dtype: int64\n"
     ]
    },
    {
     "data": {
      "text/plain": [
       "Rita        True\n",
       "Therese    False\n",
       "Janice      True\n",
       "dtype: bool"
      ]
     },
     "execution_count": 7,
     "metadata": {},
     "output_type": "execute_result"
    }
   ],
   "source": [
    "print(week1)\n",
    "print(week2)\n",
    "week1 > week2 # indices are ordered the same"
   ]
  },
  {
   "cell_type": "markdown",
   "metadata": {},
   "source": [
    "## What is week1 > week3?"
   ]
  },
  {
   "cell_type": "code",
   "execution_count": 8,
   "metadata": {},
   "outputs": [
    {
     "name": "stdout",
     "output_type": "stream",
     "text": [
      "Rita       8\n",
      "Therese    6\n",
      "Janice     9\n",
      "dtype: int64\n",
      "Therese    5\n",
      "Janice     5\n",
      "Rita       8\n",
      "dtype: int64\n"
     ]
    },
    {
     "ename": "ValueError",
     "evalue": "Can only compare identically-labeled Series objects",
     "output_type": "error",
     "traceback": [
      "\u001b[0;31m---------------------------------------------------------------------------\u001b[0m",
      "\u001b[0;31mValueError\u001b[0m                                Traceback (most recent call last)",
      "\u001b[0;32m<ipython-input-8-12030ecd2edc>\u001b[0m in \u001b[0;36m<module>\u001b[0;34m\u001b[0m\n\u001b[1;32m      1\u001b[0m \u001b[0mprint\u001b[0m\u001b[0;34m(\u001b[0m\u001b[0mweek1\u001b[0m\u001b[0;34m)\u001b[0m\u001b[0;34m\u001b[0m\u001b[0;34m\u001b[0m\u001b[0m\n\u001b[1;32m      2\u001b[0m \u001b[0mprint\u001b[0m\u001b[0;34m(\u001b[0m\u001b[0mweek3\u001b[0m\u001b[0;34m)\u001b[0m\u001b[0;34m\u001b[0m\u001b[0;34m\u001b[0m\u001b[0m\n\u001b[0;32m----> 3\u001b[0;31m \u001b[0mweek1\u001b[0m \u001b[0;34m>\u001b[0m \u001b[0mweek3\u001b[0m \u001b[0;31m# indices not in same order\u001b[0m\u001b[0;34m\u001b[0m\u001b[0;34m\u001b[0m\u001b[0m\n\u001b[0m",
      "\u001b[0;32m/Library/Frameworks/Python.framework/Versions/3.9/lib/python3.9/site-packages/pandas/core/ops/common.py\u001b[0m in \u001b[0;36mnew_method\u001b[0;34m(self, other)\u001b[0m\n\u001b[1;32m     67\u001b[0m         \u001b[0mother\u001b[0m \u001b[0;34m=\u001b[0m \u001b[0mitem_from_zerodim\u001b[0m\u001b[0;34m(\u001b[0m\u001b[0mother\u001b[0m\u001b[0;34m)\u001b[0m\u001b[0;34m\u001b[0m\u001b[0;34m\u001b[0m\u001b[0m\n\u001b[1;32m     68\u001b[0m \u001b[0;34m\u001b[0m\u001b[0m\n\u001b[0;32m---> 69\u001b[0;31m         \u001b[0;32mreturn\u001b[0m \u001b[0mmethod\u001b[0m\u001b[0;34m(\u001b[0m\u001b[0mself\u001b[0m\u001b[0;34m,\u001b[0m \u001b[0mother\u001b[0m\u001b[0;34m)\u001b[0m\u001b[0;34m\u001b[0m\u001b[0;34m\u001b[0m\u001b[0m\n\u001b[0m\u001b[1;32m     70\u001b[0m \u001b[0;34m\u001b[0m\u001b[0m\n\u001b[1;32m     71\u001b[0m     \u001b[0;32mreturn\u001b[0m \u001b[0mnew_method\u001b[0m\u001b[0;34m\u001b[0m\u001b[0;34m\u001b[0m\u001b[0m\n",
      "\u001b[0;32m/Library/Frameworks/Python.framework/Versions/3.9/lib/python3.9/site-packages/pandas/core/arraylike.py\u001b[0m in \u001b[0;36m__gt__\u001b[0;34m(self, other)\u001b[0m\n\u001b[1;32m     46\u001b[0m     \u001b[0;34m@\u001b[0m\u001b[0munpack_zerodim_and_defer\u001b[0m\u001b[0;34m(\u001b[0m\u001b[0;34m\"__gt__\"\u001b[0m\u001b[0;34m)\u001b[0m\u001b[0;34m\u001b[0m\u001b[0;34m\u001b[0m\u001b[0m\n\u001b[1;32m     47\u001b[0m     \u001b[0;32mdef\u001b[0m \u001b[0m__gt__\u001b[0m\u001b[0;34m(\u001b[0m\u001b[0mself\u001b[0m\u001b[0;34m,\u001b[0m \u001b[0mother\u001b[0m\u001b[0;34m)\u001b[0m\u001b[0;34m:\u001b[0m\u001b[0;34m\u001b[0m\u001b[0;34m\u001b[0m\u001b[0m\n\u001b[0;32m---> 48\u001b[0;31m         \u001b[0;32mreturn\u001b[0m \u001b[0mself\u001b[0m\u001b[0;34m.\u001b[0m\u001b[0m_cmp_method\u001b[0m\u001b[0;34m(\u001b[0m\u001b[0mother\u001b[0m\u001b[0;34m,\u001b[0m \u001b[0moperator\u001b[0m\u001b[0;34m.\u001b[0m\u001b[0mgt\u001b[0m\u001b[0;34m)\u001b[0m\u001b[0;34m\u001b[0m\u001b[0;34m\u001b[0m\u001b[0m\n\u001b[0m\u001b[1;32m     49\u001b[0m \u001b[0;34m\u001b[0m\u001b[0m\n\u001b[1;32m     50\u001b[0m     \u001b[0;34m@\u001b[0m\u001b[0munpack_zerodim_and_defer\u001b[0m\u001b[0;34m(\u001b[0m\u001b[0;34m\"__ge__\"\u001b[0m\u001b[0;34m)\u001b[0m\u001b[0;34m\u001b[0m\u001b[0;34m\u001b[0m\u001b[0m\n",
      "\u001b[0;32m/Library/Frameworks/Python.framework/Versions/3.9/lib/python3.9/site-packages/pandas/core/series.py\u001b[0m in \u001b[0;36m_cmp_method\u001b[0;34m(self, other, op)\u001b[0m\n\u001b[1;32m   5494\u001b[0m \u001b[0;34m\u001b[0m\u001b[0m\n\u001b[1;32m   5495\u001b[0m         \u001b[0;32mif\u001b[0m \u001b[0misinstance\u001b[0m\u001b[0;34m(\u001b[0m\u001b[0mother\u001b[0m\u001b[0;34m,\u001b[0m \u001b[0mSeries\u001b[0m\u001b[0;34m)\u001b[0m \u001b[0;32mand\u001b[0m \u001b[0;32mnot\u001b[0m \u001b[0mself\u001b[0m\u001b[0;34m.\u001b[0m\u001b[0m_indexed_same\u001b[0m\u001b[0;34m(\u001b[0m\u001b[0mother\u001b[0m\u001b[0;34m)\u001b[0m\u001b[0;34m:\u001b[0m\u001b[0;34m\u001b[0m\u001b[0;34m\u001b[0m\u001b[0m\n\u001b[0;32m-> 5496\u001b[0;31m             \u001b[0;32mraise\u001b[0m \u001b[0mValueError\u001b[0m\u001b[0;34m(\u001b[0m\u001b[0;34m\"Can only compare identically-labeled Series objects\"\u001b[0m\u001b[0;34m)\u001b[0m\u001b[0;34m\u001b[0m\u001b[0;34m\u001b[0m\u001b[0m\n\u001b[0m\u001b[1;32m   5497\u001b[0m \u001b[0;34m\u001b[0m\u001b[0m\n\u001b[1;32m   5498\u001b[0m         \u001b[0mlvalues\u001b[0m \u001b[0;34m=\u001b[0m \u001b[0mself\u001b[0m\u001b[0;34m.\u001b[0m\u001b[0m_values\u001b[0m\u001b[0;34m\u001b[0m\u001b[0;34m\u001b[0m\u001b[0m\n",
      "\u001b[0;31mValueError\u001b[0m: Can only compare identically-labeled Series objects"
     ]
    }
   ],
   "source": [
    "print(week1)\n",
    "print(week3)\n",
    "week1 > week3 # indices not in same order"
   ]
  },
  {
   "cell_type": "markdown",
   "metadata": {},
   "source": [
    "## There is a method called .gt, for Greater Than"
   ]
  },
  {
   "cell_type": "code",
   "execution_count": 170,
   "metadata": {},
   "outputs": [
    {
     "data": {
      "text/plain": [
       "Janice      True\n",
       "Rita       False\n",
       "Therese     True\n",
       "dtype: bool"
      ]
     },
     "execution_count": 170,
     "metadata": {},
     "output_type": "execute_result"
    }
   ],
   "source": [
    "week1\n",
    "week3\n",
    "week1.gt(week3)"
   ]
  },
  {
   "cell_type": "markdown",
   "metadata": {},
   "source": [
    "## eq(=), ne (!=), ge (>=), le (<=),   are the other options"
   ]
  },
  {
   "cell_type": "code",
   "execution_count": 9,
   "metadata": {},
   "outputs": [
    {
     "name": "stdout",
     "output_type": "stream",
     "text": [
      "Rita       8\n",
      "Therese    6\n",
      "Janice     9\n",
      "dtype: int64\n",
      "Therese    5\n",
      "Janice     5\n",
      "Rita       8\n",
      "dtype: int64\n",
      "Janice     False\n",
      "Rita        True\n",
      "Therese    False\n",
      "dtype: bool\n",
      "Janice      True\n",
      "Rita       False\n",
      "Therese     True\n",
      "dtype: bool\n",
      "Janice     True\n",
      "Rita       True\n",
      "Therese    True\n",
      "dtype: bool\n",
      "Janice     False\n",
      "Rita        True\n",
      "Therese    False\n",
      "dtype: bool\n"
     ]
    }
   ],
   "source": [
    "print(week1)\n",
    "print(week3)\n",
    "print(week1.eq(week3))\n",
    "print(week1.ne(week3))\n",
    "print(week1.ge(week3))\n",
    "print(week1.le(week3))"
   ]
  },
  {
   "cell_type": "markdown",
   "metadata": {},
   "source": []
  },
  {
   "cell_type": "code",
   "execution_count": null,
   "metadata": {},
   "outputs": [],
   "source": []
  },
  {
   "cell_type": "code",
   "execution_count": null,
   "metadata": {},
   "outputs": [],
   "source": []
  },
  {
   "cell_type": "code",
   "execution_count": null,
   "metadata": {},
   "outputs": [],
   "source": []
  },
  {
   "cell_type": "markdown",
   "metadata": {},
   "source": [
    "\n",
    "# Data Frames store 2-dimensional data in tables"
   ]
  },
  {
   "cell_type": "markdown",
   "metadata": {},
   "source": [
    "## B. A DataFrame can be created from:\n",
    "1. dict of Series\n",
    "2. dict of lists\n",
    "3. list of lists\n",
    "4. dict of dicts\n",
    "5. list of dicts"
   ]
  },
  {
   "cell_type": "markdown",
   "metadata": {},
   "source": [
    "### DataFrame from dictionary of Series"
   ]
  },
  {
   "cell_type": "code",
   "execution_count": 10,
   "metadata": {},
   "outputs": [
    {
     "data": {
      "text/html": [
       "<div>\n",
       "<style scoped>\n",
       "    .dataframe tbody tr th:only-of-type {\n",
       "        vertical-align: middle;\n",
       "    }\n",
       "\n",
       "    .dataframe tbody tr th {\n",
       "        vertical-align: top;\n",
       "    }\n",
       "\n",
       "    .dataframe thead th {\n",
       "        text-align: right;\n",
       "    }\n",
       "</style>\n",
       "<table border=\"1\" class=\"dataframe\">\n",
       "  <thead>\n",
       "    <tr style=\"text-align: right;\">\n",
       "      <th></th>\n",
       "      <th>Player name</th>\n",
       "      <th>Score</th>\n",
       "    </tr>\n",
       "  </thead>\n",
       "  <tbody>\n",
       "    <tr>\n",
       "      <th>0</th>\n",
       "      <td>Alice</td>\n",
       "      <td>6</td>\n",
       "    </tr>\n",
       "    <tr>\n",
       "      <th>1</th>\n",
       "      <td>Bob</td>\n",
       "      <td>7</td>\n",
       "    </tr>\n",
       "    <tr>\n",
       "      <th>2</th>\n",
       "      <td>Cindy</td>\n",
       "      <td>8</td>\n",
       "    </tr>\n",
       "    <tr>\n",
       "      <th>3</th>\n",
       "      <td>Dan</td>\n",
       "      <td>9</td>\n",
       "    </tr>\n",
       "  </tbody>\n",
       "</table>\n",
       "</div>"
      ],
      "text/plain": [
       "  Player name  Score\n",
       "0       Alice      6\n",
       "1         Bob      7\n",
       "2       Cindy      8\n",
       "3         Dan      9"
      ]
     },
     "execution_count": 10,
     "metadata": {},
     "output_type": "execute_result"
    }
   ],
   "source": [
    "col1 = Series([\"Alice\", \"Bob\", \"Cindy\", \"Dan\"])\n",
    "col2 = Series([6, 7, 8, 9])\n",
    "# to make a dictionary of Series, need to write column names for the keys\n",
    "DataFrame({\n",
    "    \"Player name\": col1,\n",
    "    \"Score\": col2\n",
    "})"
   ]
  },
  {
   "cell_type": "code",
   "execution_count": null,
   "metadata": {},
   "outputs": [],
   "source": [
    "\n"
   ]
  },
  {
   "cell_type": "markdown",
   "metadata": {},
   "source": [
    "### DataFrame from dictionary of lists"
   ]
  },
  {
   "cell_type": "code",
   "execution_count": 11,
   "metadata": {},
   "outputs": [
    {
     "data": {
      "text/html": [
       "<div>\n",
       "<style scoped>\n",
       "    .dataframe tbody tr th:only-of-type {\n",
       "        vertical-align: middle;\n",
       "    }\n",
       "\n",
       "    .dataframe tbody tr th {\n",
       "        vertical-align: top;\n",
       "    }\n",
       "\n",
       "    .dataframe thead th {\n",
       "        text-align: right;\n",
       "    }\n",
       "</style>\n",
       "<table border=\"1\" class=\"dataframe\">\n",
       "  <thead>\n",
       "    <tr style=\"text-align: right;\">\n",
       "      <th></th>\n",
       "      <th>Player name</th>\n",
       "      <th>Score</th>\n",
       "    </tr>\n",
       "  </thead>\n",
       "  <tbody>\n",
       "    <tr>\n",
       "      <th>0</th>\n",
       "      <td>Alice</td>\n",
       "      <td>6</td>\n",
       "    </tr>\n",
       "    <tr>\n",
       "      <th>1</th>\n",
       "      <td>Bob</td>\n",
       "      <td>7</td>\n",
       "    </tr>\n",
       "    <tr>\n",
       "      <th>2</th>\n",
       "      <td>Cindy</td>\n",
       "      <td>8</td>\n",
       "    </tr>\n",
       "    <tr>\n",
       "      <th>3</th>\n",
       "      <td>Dan</td>\n",
       "      <td>9</td>\n",
       "    </tr>\n",
       "  </tbody>\n",
       "</table>\n",
       "</div>"
      ],
      "text/plain": [
       "  Player name  Score\n",
       "0       Alice      6\n",
       "1         Bob      7\n",
       "2       Cindy      8\n",
       "3         Dan      9"
      ]
     },
     "execution_count": 11,
     "metadata": {},
     "output_type": "execute_result"
    }
   ],
   "source": [
    "name_list = [\"Alice\", \"Bob\", \"Cindy\", \"Dan\"]\n",
    "score_list = [6, 7, 8, 9]\n",
    "# this is the same as above, reminding us that Series act like lists\n",
    "DataFrame({\n",
    "    \"Player name\": name_list,\n",
    "    \"Score\": score_list\n",
    "})"
   ]
  },
  {
   "cell_type": "code",
   "execution_count": null,
   "metadata": {},
   "outputs": [],
   "source": []
  },
  {
   "cell_type": "markdown",
   "metadata": {},
   "source": [
    "### DataFrame from list of lists"
   ]
  },
  {
   "cell_type": "code",
   "execution_count": 12,
   "metadata": {},
   "outputs": [
    {
     "data": {
      "text/html": [
       "<div>\n",
       "<style scoped>\n",
       "    .dataframe tbody tr th:only-of-type {\n",
       "        vertical-align: middle;\n",
       "    }\n",
       "\n",
       "    .dataframe tbody tr th {\n",
       "        vertical-align: top;\n",
       "    }\n",
       "\n",
       "    .dataframe thead th {\n",
       "        text-align: right;\n",
       "    }\n",
       "</style>\n",
       "<table border=\"1\" class=\"dataframe\">\n",
       "  <thead>\n",
       "    <tr style=\"text-align: right;\">\n",
       "      <th></th>\n",
       "      <th>0</th>\n",
       "      <th>1</th>\n",
       "    </tr>\n",
       "  </thead>\n",
       "  <tbody>\n",
       "    <tr>\n",
       "      <th>0</th>\n",
       "      <td>Alice</td>\n",
       "      <td>6</td>\n",
       "    </tr>\n",
       "    <tr>\n",
       "      <th>1</th>\n",
       "      <td>Bob</td>\n",
       "      <td>7</td>\n",
       "    </tr>\n",
       "    <tr>\n",
       "      <th>2</th>\n",
       "      <td>Cindy</td>\n",
       "      <td>8</td>\n",
       "    </tr>\n",
       "    <tr>\n",
       "      <th>3</th>\n",
       "      <td>Dan</td>\n",
       "      <td>9</td>\n",
       "    </tr>\n",
       "  </tbody>\n",
       "</table>\n",
       "</div>"
      ],
      "text/plain": [
       "       0  1\n",
       "0  Alice  6\n",
       "1    Bob  7\n",
       "2  Cindy  8\n",
       "3    Dan  9"
      ]
     },
     "execution_count": 12,
     "metadata": {},
     "output_type": "execute_result"
    }
   ],
   "source": [
    "data = [\n",
    "    [\"Alice\", 6],\n",
    "    [\"Bob\", 7],\n",
    "    [\"Cindy\", 8],\n",
    "    [\"Dan\", 9]\n",
    "]\n",
    "data\n",
    "DataFrame(data)\n",
    "#notice this DataFrame has no column names...."
   ]
  },
  {
   "cell_type": "code",
   "execution_count": 13,
   "metadata": {},
   "outputs": [
    {
     "data": {
      "text/plain": [
       "0    Alice\n",
       "1      Bob\n",
       "2    Cindy\n",
       "3      Dan\n",
       "dtype: object"
      ]
     },
     "execution_count": 13,
     "metadata": {},
     "output_type": "execute_result"
    }
   ],
   "source": [
    "# Reminder:  A series can be made from a dict\n",
    "Series({0: \"Alice\", 1: \"Bob\", 2: \"Cindy\", 3: \"Dan\"})"
   ]
  },
  {
   "cell_type": "markdown",
   "metadata": {},
   "source": [
    "### DataFrame from dictionary of dicts"
   ]
  },
  {
   "cell_type": "code",
   "execution_count": 14,
   "metadata": {},
   "outputs": [
    {
     "data": {
      "text/html": [
       "<div>\n",
       "<style scoped>\n",
       "    .dataframe tbody tr th:only-of-type {\n",
       "        vertical-align: middle;\n",
       "    }\n",
       "\n",
       "    .dataframe tbody tr th {\n",
       "        vertical-align: top;\n",
       "    }\n",
       "\n",
       "    .dataframe thead th {\n",
       "        text-align: right;\n",
       "    }\n",
       "</style>\n",
       "<table border=\"1\" class=\"dataframe\">\n",
       "  <thead>\n",
       "    <tr style=\"text-align: right;\">\n",
       "      <th></th>\n",
       "      <th>Player name</th>\n",
       "      <th>Score</th>\n",
       "    </tr>\n",
       "  </thead>\n",
       "  <tbody>\n",
       "    <tr>\n",
       "      <th>0</th>\n",
       "      <td>Alice</td>\n",
       "      <td>6</td>\n",
       "    </tr>\n",
       "    <tr>\n",
       "      <th>1</th>\n",
       "      <td>Bob</td>\n",
       "      <td>7</td>\n",
       "    </tr>\n",
       "    <tr>\n",
       "      <th>2</th>\n",
       "      <td>Cindy</td>\n",
       "      <td>8</td>\n",
       "    </tr>\n",
       "    <tr>\n",
       "      <th>3</th>\n",
       "      <td>Dan</td>\n",
       "      <td>9</td>\n",
       "    </tr>\n",
       "  </tbody>\n",
       "</table>\n",
       "</div>"
      ],
      "text/plain": [
       "  Player name  Score\n",
       "0       Alice      6\n",
       "1         Bob      7\n",
       "2       Cindy      8\n",
       "3         Dan      9"
      ]
     },
     "execution_count": 14,
     "metadata": {},
     "output_type": "execute_result"
    }
   ],
   "source": [
    "# do you see how this is just like the previous examples?\n",
    "\n",
    "data = {\n",
    "    \"Player name\": {0: \"Alice\", 1: \"Bob\", 2: \"Cindy\", 3: \"Dan\"},\n",
    "    \"Score\": {0: 6, 1: 7, 2: 8, 3: 9}\n",
    "}\n",
    "DataFrame(data)"
   ]
  },
  {
   "cell_type": "code",
   "execution_count": null,
   "metadata": {},
   "outputs": [],
   "source": []
  },
  {
   "cell_type": "markdown",
   "metadata": {},
   "source": [
    "### DataFrame from list of dicts"
   ]
  },
  {
   "cell_type": "code",
   "execution_count": 15,
   "metadata": {},
   "outputs": [
    {
     "data": {
      "text/html": [
       "<div>\n",
       "<style scoped>\n",
       "    .dataframe tbody tr th:only-of-type {\n",
       "        vertical-align: middle;\n",
       "    }\n",
       "\n",
       "    .dataframe tbody tr th {\n",
       "        vertical-align: top;\n",
       "    }\n",
       "\n",
       "    .dataframe thead th {\n",
       "        text-align: right;\n",
       "    }\n",
       "</style>\n",
       "<table border=\"1\" class=\"dataframe\">\n",
       "  <thead>\n",
       "    <tr style=\"text-align: right;\">\n",
       "      <th></th>\n",
       "      <th>Player name</th>\n",
       "      <th>Score</th>\n",
       "    </tr>\n",
       "  </thead>\n",
       "  <tbody>\n",
       "    <tr>\n",
       "      <th>0</th>\n",
       "      <td>Alice</td>\n",
       "      <td>6</td>\n",
       "    </tr>\n",
       "    <tr>\n",
       "      <th>1</th>\n",
       "      <td>Bob</td>\n",
       "      <td>7</td>\n",
       "    </tr>\n",
       "    <tr>\n",
       "      <th>2</th>\n",
       "      <td>Cindy</td>\n",
       "      <td>8</td>\n",
       "    </tr>\n",
       "    <tr>\n",
       "      <th>3</th>\n",
       "      <td>Dan</td>\n",
       "      <td>9</td>\n",
       "    </tr>\n",
       "  </tbody>\n",
       "</table>\n",
       "</div>"
      ],
      "text/plain": [
       "  Player name  Score\n",
       "0       Alice      6\n",
       "1         Bob      7\n",
       "2       Cindy      8\n",
       "3         Dan      9"
      ]
     },
     "execution_count": 15,
     "metadata": {},
     "output_type": "execute_result"
    }
   ],
   "source": [
    "data = [\n",
    "    {\"Player name\": \"Alice\", \"Score\": 6},\n",
    "    {\"Player name\": \"Bob\", \"Score\": 7},\n",
    "    {\"Player name\": \"Cindy\", \"Score\": 8},\n",
    "    {\"Player name\": \"Dan\", \"Score\": 9}\n",
    "]\n",
    "data\n",
    "DataFrame(data)"
   ]
  },
  {
   "cell_type": "code",
   "execution_count": 16,
   "metadata": {},
   "outputs": [
    {
     "data": {
      "text/html": [
       "<div>\n",
       "<style scoped>\n",
       "    .dataframe tbody tr th:only-of-type {\n",
       "        vertical-align: middle;\n",
       "    }\n",
       "\n",
       "    .dataframe tbody tr th {\n",
       "        vertical-align: top;\n",
       "    }\n",
       "\n",
       "    .dataframe thead th {\n",
       "        text-align: right;\n",
       "    }\n",
       "</style>\n",
       "<table border=\"1\" class=\"dataframe\">\n",
       "  <thead>\n",
       "    <tr style=\"text-align: right;\">\n",
       "      <th></th>\n",
       "      <th>Player name</th>\n",
       "      <th>Score</th>\n",
       "    </tr>\n",
       "  </thead>\n",
       "  <tbody>\n",
       "    <tr>\n",
       "      <th>A</th>\n",
       "      <td>Alice</td>\n",
       "      <td>6</td>\n",
       "    </tr>\n",
       "    <tr>\n",
       "      <th>B</th>\n",
       "      <td>Bob</td>\n",
       "      <td>7</td>\n",
       "    </tr>\n",
       "    <tr>\n",
       "      <th>C</th>\n",
       "      <td>Cindy</td>\n",
       "      <td>8</td>\n",
       "    </tr>\n",
       "    <tr>\n",
       "      <th>D</th>\n",
       "      <td>Dan</td>\n",
       "      <td>9</td>\n",
       "    </tr>\n",
       "  </tbody>\n",
       "</table>\n",
       "</div>"
      ],
      "text/plain": [
       "  Player name  Score\n",
       "A       Alice      6\n",
       "B         Bob      7\n",
       "C       Cindy      8\n",
       "D         Dan      9"
      ]
     },
     "execution_count": 16,
     "metadata": {},
     "output_type": "execute_result"
    }
   ],
   "source": [
    "# We can use keyword arguments to rename the index of each row\n",
    "data = [\n",
    "    {\"Player name\": \"Alice\", \"Score\": 6},\n",
    "    {\"Player name\": \"Bob\", \"Score\": 7},\n",
    "    {\"Player name\": \"Cindy\", \"Score\": 8},\n",
    "    {\"Player name\": \"Dan\", \"Score\": 9}\n",
    "]\n",
    "data\n",
    "DataFrame(data, index=[\"A\", \"B\", \"C\", \"D\"]) # must have a name for each row"
   ]
  },
  {
   "cell_type": "markdown",
   "metadata": {},
   "source": [
    "### Naming the Columns"
   ]
  },
  {
   "cell_type": "code",
   "execution_count": 17,
   "metadata": {},
   "outputs": [
    {
     "data": {
      "text/html": [
       "<div>\n",
       "<style scoped>\n",
       "    .dataframe tbody tr th:only-of-type {\n",
       "        vertical-align: middle;\n",
       "    }\n",
       "\n",
       "    .dataframe tbody tr th {\n",
       "        vertical-align: top;\n",
       "    }\n",
       "\n",
       "    .dataframe thead th {\n",
       "        text-align: right;\n",
       "    }\n",
       "</style>\n",
       "<table border=\"1\" class=\"dataframe\">\n",
       "  <thead>\n",
       "    <tr style=\"text-align: right;\">\n",
       "      <th></th>\n",
       "      <th>Player name</th>\n",
       "      <th>Score</th>\n",
       "    </tr>\n",
       "  </thead>\n",
       "  <tbody>\n",
       "    <tr>\n",
       "      <th>0</th>\n",
       "      <td>Alice</td>\n",
       "      <td>6</td>\n",
       "    </tr>\n",
       "    <tr>\n",
       "      <th>1</th>\n",
       "      <td>Bob</td>\n",
       "      <td>7</td>\n",
       "    </tr>\n",
       "    <tr>\n",
       "      <th>2</th>\n",
       "      <td>Cindy</td>\n",
       "      <td>8</td>\n",
       "    </tr>\n",
       "    <tr>\n",
       "      <th>3</th>\n",
       "      <td>Dan</td>\n",
       "      <td>9</td>\n",
       "    </tr>\n",
       "  </tbody>\n",
       "</table>\n",
       "</div>"
      ],
      "text/plain": [
       "  Player name  Score\n",
       "0       Alice      6\n",
       "1         Bob      7\n",
       "2       Cindy      8\n",
       "3         Dan      9"
      ]
     },
     "execution_count": 17,
     "metadata": {},
     "output_type": "execute_result"
    }
   ],
   "source": [
    "data = [\n",
    "    [\"Alice\", 6],\n",
    "    [\"Bob\", 7],\n",
    "    [\"Cindy\", 8],\n",
    "    [\"Dan\", 9]\n",
    "]\n",
    "DataFrame(data, columns=[\"Player name\", \"Score\"])\n"
   ]
  },
  {
   "cell_type": "code",
   "execution_count": 18,
   "metadata": {},
   "outputs": [
    {
     "data": {
      "text/plain": [
       "[['Alice', 6], ['Bob', 7], ['Cindy', 8], ['Dan', 9]]"
      ]
     },
     "execution_count": 18,
     "metadata": {},
     "output_type": "execute_result"
    }
   ],
   "source": [
    "# Give names to both the columns and rows\n",
    "data = [\n",
    "    [\"Alice\", 6],\n",
    "    [\"Bob\", 7],\n",
    "    [\"Cindy\", 8],\n",
    "    [\"Dan\", 9]\n",
    "]\n",
    "data"
   ]
  },
  {
   "cell_type": "markdown",
   "metadata": {},
   "source": [
    "## 3. Rules of Data Lookup:\n",
    "## Data lookup: Series\n",
    "- s.loc[X]   <- lookup by pandas index\n",
    "- s.iloc[X]  <- lookup by integer position\n",
    "- s[X]       <- depends (first try index, use integer position if necessary)"
   ]
  },
  {
   "cell_type": "code",
   "execution_count": 67,
   "metadata": {},
   "outputs": [
    {
     "data": {
      "text/plain": [
       "Alice    6\n",
       "Bob      7\n",
       "Cindy    8\n",
       "Dan      9\n",
       "dtype: int64"
      ]
     },
     "execution_count": 67,
     "metadata": {},
     "output_type": "execute_result"
    }
   ],
   "source": [
    "col1 = Series({\"Alice\":6, \"Bob\":7, \"Cindy\":8, \"Dan\":9})\n",
    "col1"
   ]
  },
  {
   "cell_type": "code",
   "execution_count": 68,
   "metadata": {},
   "outputs": [
    {
     "data": {
      "text/plain": [
       "7"
      ]
     },
     "execution_count": 68,
     "metadata": {},
     "output_type": "execute_result"
    }
   ],
   "source": [
    "col1.loc[\"Bob\"] #Series index"
   ]
  },
  {
   "cell_type": "code",
   "execution_count": 69,
   "metadata": {},
   "outputs": [
    {
     "data": {
      "text/plain": [
       "8"
      ]
     },
     "execution_count": 69,
     "metadata": {},
     "output_type": "execute_result"
    }
   ],
   "source": [
    "col1.iloc[2] #Series integer position"
   ]
  },
  {
   "cell_type": "code",
   "execution_count": 70,
   "metadata": {},
   "outputs": [
    {
     "data": {
      "text/plain": [
       "8"
      ]
     },
     "execution_count": 70,
     "metadata": {},
     "output_type": "execute_result"
    }
   ],
   "source": [
    "col1[\"Cindy\"] #Series index"
   ]
  },
  {
   "cell_type": "code",
   "execution_count": 71,
   "metadata": {},
   "outputs": [
    {
     "data": {
      "text/plain": [
       "7"
      ]
     },
     "execution_count": 71,
     "metadata": {},
     "output_type": "execute_result"
    }
   ],
   "source": [
    "col1[1] #Series integer position \n",
    "#No conflict between index and integer position in this example!"
   ]
  },
  {
   "cell_type": "markdown",
   "metadata": {},
   "source": [
    "## Data lookup\n",
    "\n",
    "### Series\n",
    "- s.loc[X]   <- lookup by pandas index\n",
    "- s.iloc[X]  <- lookup by integer position\n",
    "- s[X]       <- depends (first try index, use integer position if necessary)\n",
    "\n",
    "### DataFrame\n",
    "\n",
    "- `d.loc[r]`     lookup ROW by pandas ROW index\n",
    "- `d.iloc[r]`    lookup ROW by ROW integer position\n",
    "- `d[c]`         lookup COL by COL index\n",
    "- `d.loc[r, c]`  lookup by ROW index and COL index\n",
    "- `d.iloc[r, c]`  lookup by ROW integer position and COL integer position"
   ]
  },
  {
   "cell_type": "code",
   "execution_count": 75,
   "metadata": {},
   "outputs": [
    {
     "data": {
      "text/html": [
       "<div>\n",
       "<style scoped>\n",
       "    .dataframe tbody tr th:only-of-type {\n",
       "        vertical-align: middle;\n",
       "    }\n",
       "\n",
       "    .dataframe tbody tr th {\n",
       "        vertical-align: top;\n",
       "    }\n",
       "\n",
       "    .dataframe thead th {\n",
       "        text-align: right;\n",
       "    }\n",
       "</style>\n",
       "<table border=\"1\" class=\"dataframe\">\n",
       "  <thead>\n",
       "    <tr style=\"text-align: right;\">\n",
       "      <th></th>\n",
       "      <th>Player name</th>\n",
       "      <th>Score</th>\n",
       "    </tr>\n",
       "  </thead>\n",
       "  <tbody>\n",
       "    <tr>\n",
       "      <th>A</th>\n",
       "      <td>Alice</td>\n",
       "      <td>6</td>\n",
       "    </tr>\n",
       "    <tr>\n",
       "      <th>B</th>\n",
       "      <td>Bob</td>\n",
       "      <td>7</td>\n",
       "    </tr>\n",
       "    <tr>\n",
       "      <th>C</th>\n",
       "      <td>Cindy</td>\n",
       "      <td>8</td>\n",
       "    </tr>\n",
       "    <tr>\n",
       "      <th>D</th>\n",
       "      <td>Dan</td>\n",
       "      <td>9</td>\n",
       "    </tr>\n",
       "  </tbody>\n",
       "</table>\n",
       "</div>"
      ],
      "text/plain": [
       "  Player name  Score\n",
       "A       Alice      6\n",
       "B         Bob      7\n",
       "C       Cindy      8\n",
       "D         Dan      9"
      ]
     },
     "execution_count": 75,
     "metadata": {},
     "output_type": "execute_result"
    }
   ],
   "source": [
    "# we often call the object that we make df\n",
    "data = [\n",
    "    [\"Alice\", 6],\n",
    "    [\"Bob\", 7],\n",
    "    [\"Cindy\", 8],\n",
    "    [\"Dan\", 9]\n",
    "]\n",
    "df = DataFrame(data, index=[\"A\", \"B\", \"C\", \"D\"], columns = [\"Player name\", \"Score\"])\n",
    "df"
   ]
  },
  {
   "cell_type": "markdown",
   "metadata": {},
   "source": [
    "### What are all the different ways of accessing row D?"
   ]
  },
  {
   "cell_type": "code",
   "execution_count": 97,
   "metadata": {},
   "outputs": [
    {
     "name": "stdout",
     "output_type": "stream",
     "text": [
      "Player name    Dan\n",
      "Score            9\n",
      "Name: D, dtype: object\n",
      "Player name    Dan\n",
      "Score            9\n",
      "Name: D, dtype: object\n",
      "Player name    Dan\n",
      "Score            9\n",
      "Name: D, dtype: object\n"
     ]
    }
   ],
   "source": [
    "#df[\"D\"] # Nope!\n",
    "print(df.loc[\"D\"])\n",
    "print(df.iloc[3])\n",
    "print(df.iloc[-1])"
   ]
  },
  {
   "cell_type": "code",
   "execution_count": 86,
   "metadata": {},
   "outputs": [
    {
     "data": {
      "text/html": [
       "<div>\n",
       "<style scoped>\n",
       "    .dataframe tbody tr th:only-of-type {\n",
       "        vertical-align: middle;\n",
       "    }\n",
       "\n",
       "    .dataframe tbody tr th {\n",
       "        vertical-align: top;\n",
       "    }\n",
       "\n",
       "    .dataframe thead th {\n",
       "        text-align: right;\n",
       "    }\n",
       "</style>\n",
       "<table border=\"1\" class=\"dataframe\">\n",
       "  <thead>\n",
       "    <tr style=\"text-align: right;\">\n",
       "      <th></th>\n",
       "      <th>Player name</th>\n",
       "      <th>Score</th>\n",
       "    </tr>\n",
       "  </thead>\n",
       "  <tbody>\n",
       "    <tr>\n",
       "      <th>A</th>\n",
       "      <td>Alice</td>\n",
       "      <td>6</td>\n",
       "    </tr>\n",
       "    <tr>\n",
       "      <th>B</th>\n",
       "      <td>Bob</td>\n",
       "      <td>7</td>\n",
       "    </tr>\n",
       "    <tr>\n",
       "      <th>C</th>\n",
       "      <td>Cindy</td>\n",
       "      <td>8</td>\n",
       "    </tr>\n",
       "    <tr>\n",
       "      <th>D</th>\n",
       "      <td>Dan</td>\n",
       "      <td>9</td>\n",
       "    </tr>\n",
       "  </tbody>\n",
       "</table>\n",
       "</div>"
      ],
      "text/plain": [
       "  Player name  Score\n",
       "A       Alice      6\n",
       "B         Bob      7\n",
       "C       Cindy      8\n",
       "D         Dan      9"
      ]
     },
     "execution_count": 86,
     "metadata": {},
     "output_type": "execute_result"
    }
   ],
   "source": [
    "df"
   ]
  },
  {
   "cell_type": "markdown",
   "metadata": {},
   "source": [
    "### What is the only  way to access a column?"
   ]
  },
  {
   "cell_type": "code",
   "execution_count": 98,
   "metadata": {},
   "outputs": [
    {
     "name": "stdout",
     "output_type": "stream",
     "text": [
      "A    Alice\n",
      "B      Bob\n",
      "C    Cindy\n",
      "D      Dan\n",
      "Name: Player name, dtype: object\n"
     ]
    }
   ],
   "source": [
    "#df[0] # Nope!\n",
    "print(df[\"Player name\"])"
   ]
  },
  {
   "cell_type": "code",
   "execution_count": 85,
   "metadata": {},
   "outputs": [],
   "source": []
  },
  {
   "cell_type": "markdown",
   "metadata": {},
   "source": [
    "### What are the ways to access a single cell?"
   ]
  },
  {
   "cell_type": "code",
   "execution_count": 87,
   "metadata": {
    "scrolled": true
   },
   "outputs": [
    {
     "data": {
      "text/html": [
       "<div>\n",
       "<style scoped>\n",
       "    .dataframe tbody tr th:only-of-type {\n",
       "        vertical-align: middle;\n",
       "    }\n",
       "\n",
       "    .dataframe tbody tr th {\n",
       "        vertical-align: top;\n",
       "    }\n",
       "\n",
       "    .dataframe thead th {\n",
       "        text-align: right;\n",
       "    }\n",
       "</style>\n",
       "<table border=\"1\" class=\"dataframe\">\n",
       "  <thead>\n",
       "    <tr style=\"text-align: right;\">\n",
       "      <th></th>\n",
       "      <th>Player name</th>\n",
       "      <th>Score</th>\n",
       "    </tr>\n",
       "  </thead>\n",
       "  <tbody>\n",
       "    <tr>\n",
       "      <th>A</th>\n",
       "      <td>Alice</td>\n",
       "      <td>6</td>\n",
       "    </tr>\n",
       "    <tr>\n",
       "      <th>B</th>\n",
       "      <td>Bob</td>\n",
       "      <td>7</td>\n",
       "    </tr>\n",
       "    <tr>\n",
       "      <th>C</th>\n",
       "      <td>Cindy</td>\n",
       "      <td>8</td>\n",
       "    </tr>\n",
       "    <tr>\n",
       "      <th>D</th>\n",
       "      <td>Dan</td>\n",
       "      <td>9</td>\n",
       "    </tr>\n",
       "  </tbody>\n",
       "</table>\n",
       "</div>"
      ],
      "text/plain": [
       "  Player name  Score\n",
       "A       Alice      6\n",
       "B         Bob      7\n",
       "C       Cindy      8\n",
       "D         Dan      9"
      ]
     },
     "execution_count": 87,
     "metadata": {},
     "output_type": "execute_result"
    }
   ],
   "source": [
    "df"
   ]
  },
  {
   "cell_type": "code",
   "execution_count": 94,
   "metadata": {},
   "outputs": [
    {
     "name": "stdout",
     "output_type": "stream",
     "text": [
      "Cindy\n",
      "Cindy\n",
      "Cindy\n"
     ]
    }
   ],
   "source": [
    "# How to access Cindy?\n",
    "#print(df[\"C\", \"Player name\"]) # Nope!\n",
    "print(df.loc[\"C\", \"Player name\"])\n",
    "print(df.iloc[2, 0])\n",
    "print(df.iloc[-2, 0])"
   ]
  },
  {
   "cell_type": "code",
   "execution_count": null,
   "metadata": {},
   "outputs": [],
   "source": []
  },
  {
   "cell_type": "markdown",
   "metadata": {},
   "source": [
    "## How to set values for a specific entry?\n",
    "\n",
    "- d.loc[r, c] = new_val\n",
    "- d.iloc[r, c] = new_val "
   ]
  },
  {
   "cell_type": "code",
   "execution_count": 102,
   "metadata": {},
   "outputs": [
    {
     "data": {
      "text/html": [
       "<div>\n",
       "<style scoped>\n",
       "    .dataframe tbody tr th:only-of-type {\n",
       "        vertical-align: middle;\n",
       "    }\n",
       "\n",
       "    .dataframe tbody tr th {\n",
       "        vertical-align: top;\n",
       "    }\n",
       "\n",
       "    .dataframe thead th {\n",
       "        text-align: right;\n",
       "    }\n",
       "</style>\n",
       "<table border=\"1\" class=\"dataframe\">\n",
       "  <thead>\n",
       "    <tr style=\"text-align: right;\">\n",
       "      <th></th>\n",
       "      <th>Player name</th>\n",
       "      <th>Score</th>\n",
       "    </tr>\n",
       "  </thead>\n",
       "  <tbody>\n",
       "    <tr>\n",
       "      <th>A</th>\n",
       "      <td>Alice</td>\n",
       "      <td>6</td>\n",
       "    </tr>\n",
       "    <tr>\n",
       "      <th>B</th>\n",
       "      <td>Bob</td>\n",
       "      <td>7</td>\n",
       "    </tr>\n",
       "    <tr>\n",
       "      <th>C</th>\n",
       "      <td>Cindy</td>\n",
       "      <td>8</td>\n",
       "    </tr>\n",
       "    <tr>\n",
       "      <th>D</th>\n",
       "      <td>Bianca</td>\n",
       "      <td>9</td>\n",
       "    </tr>\n",
       "  </tbody>\n",
       "</table>\n",
       "</div>"
      ],
      "text/plain": [
       "  Player name  Score\n",
       "A       Alice      6\n",
       "B         Bob      7\n",
       "C       Cindy      8\n",
       "D      Bianca      9"
      ]
     },
     "execution_count": 102,
     "metadata": {},
     "output_type": "execute_result"
    }
   ],
   "source": [
    "df.loc[\"D\", \"Player name\"] = \"Bianca\"\n",
    "df"
   ]
  },
  {
   "cell_type": "code",
   "execution_count": 105,
   "metadata": {},
   "outputs": [
    {
     "data": {
      "text/html": [
       "<div>\n",
       "<style scoped>\n",
       "    .dataframe tbody tr th:only-of-type {\n",
       "        vertical-align: middle;\n",
       "    }\n",
       "\n",
       "    .dataframe tbody tr th {\n",
       "        vertical-align: top;\n",
       "    }\n",
       "\n",
       "    .dataframe thead th {\n",
       "        text-align: right;\n",
       "    }\n",
       "</style>\n",
       "<table border=\"1\" class=\"dataframe\">\n",
       "  <thead>\n",
       "    <tr style=\"text-align: right;\">\n",
       "      <th></th>\n",
       "      <th>Player name</th>\n",
       "      <th>Score</th>\n",
       "    </tr>\n",
       "  </thead>\n",
       "  <tbody>\n",
       "    <tr>\n",
       "      <th>A</th>\n",
       "      <td>Alice</td>\n",
       "      <td>6</td>\n",
       "    </tr>\n",
       "    <tr>\n",
       "      <th>B</th>\n",
       "      <td>Bob</td>\n",
       "      <td>10</td>\n",
       "    </tr>\n",
       "    <tr>\n",
       "      <th>C</th>\n",
       "      <td>Cindy</td>\n",
       "      <td>8</td>\n",
       "    </tr>\n",
       "    <tr>\n",
       "      <th>D</th>\n",
       "      <td>Bianca</td>\n",
       "      <td>9</td>\n",
       "    </tr>\n",
       "  </tbody>\n",
       "</table>\n",
       "</div>"
      ],
      "text/plain": [
       "  Player name  Score\n",
       "A       Alice      6\n",
       "B         Bob     10\n",
       "C       Cindy      8\n",
       "D      Bianca      9"
      ]
     },
     "execution_count": 105,
     "metadata": {},
     "output_type": "execute_result"
    }
   ],
   "source": [
    "df.loc[\"B\",\"Score\"] += 3\n",
    "df"
   ]
  },
  {
   "cell_type": "code",
   "execution_count": 106,
   "metadata": {},
   "outputs": [
    {
     "data": {
      "text/html": [
       "<div>\n",
       "<style scoped>\n",
       "    .dataframe tbody tr th:only-of-type {\n",
       "        vertical-align: middle;\n",
       "    }\n",
       "\n",
       "    .dataframe tbody tr th {\n",
       "        vertical-align: top;\n",
       "    }\n",
       "\n",
       "    .dataframe thead th {\n",
       "        text-align: right;\n",
       "    }\n",
       "</style>\n",
       "<table border=\"1\" class=\"dataframe\">\n",
       "  <thead>\n",
       "    <tr style=\"text-align: right;\">\n",
       "      <th></th>\n",
       "      <th>Player name</th>\n",
       "      <th>Score</th>\n",
       "    </tr>\n",
       "  </thead>\n",
       "  <tbody>\n",
       "    <tr>\n",
       "      <th>A</th>\n",
       "      <td>Alice</td>\n",
       "      <td>6</td>\n",
       "    </tr>\n",
       "    <tr>\n",
       "      <th>B</th>\n",
       "      <td>Bob</td>\n",
       "      <td>10</td>\n",
       "    </tr>\n",
       "    <tr>\n",
       "      <th>C</th>\n",
       "      <td>Cindy</td>\n",
       "      <td>8</td>\n",
       "    </tr>\n",
       "    <tr>\n",
       "      <th>D</th>\n",
       "      <td>Bianca</td>\n",
       "      <td>11</td>\n",
       "    </tr>\n",
       "  </tbody>\n",
       "</table>\n",
       "</div>"
      ],
      "text/plain": [
       "  Player name  Score\n",
       "A       Alice      6\n",
       "B         Bob     10\n",
       "C       Cindy      8\n",
       "D      Bianca     11"
      ]
     },
     "execution_count": 106,
     "metadata": {},
     "output_type": "execute_result"
    }
   ],
   "source": [
    "df.iloc[-1,1] += 2\n",
    "df"
   ]
  },
  {
   "cell_type": "markdown",
   "metadata": {},
   "source": [
    "## How to compute max score of a column?"
   ]
  },
  {
   "cell_type": "code",
   "execution_count": 113,
   "metadata": {},
   "outputs": [
    {
     "name": "stdout",
     "output_type": "stream",
     "text": [
      "11 8.75\n"
     ]
    }
   ],
   "source": [
    "print(df[\"Score\"].max(), df[\"Score\"].mean())\n"
   ]
  },
  {
   "cell_type": "markdown",
   "metadata": {},
   "source": [
    "## Slicing DataFrame\n",
    "\n",
    "- df.iloc[ROW_SLICE, COL_SLICE] <- take a rectangular slice from the DataFrame using integer positions\n",
    "- df.loc[ROW_SLICE, COL_SLICE] <- take a rectangular slice from the DataFrame using index"
   ]
  },
  {
   "cell_type": "code",
   "execution_count": 114,
   "metadata": {},
   "outputs": [
    {
     "data": {
      "text/html": [
       "<div>\n",
       "<style scoped>\n",
       "    .dataframe tbody tr th:only-of-type {\n",
       "        vertical-align: middle;\n",
       "    }\n",
       "\n",
       "    .dataframe tbody tr th {\n",
       "        vertical-align: top;\n",
       "    }\n",
       "\n",
       "    .dataframe thead th {\n",
       "        text-align: right;\n",
       "    }\n",
       "</style>\n",
       "<table border=\"1\" class=\"dataframe\">\n",
       "  <thead>\n",
       "    <tr style=\"text-align: right;\">\n",
       "      <th></th>\n",
       "      <th>Player name</th>\n",
       "      <th>Score</th>\n",
       "    </tr>\n",
       "  </thead>\n",
       "  <tbody>\n",
       "    <tr>\n",
       "      <th>B</th>\n",
       "      <td>Bob</td>\n",
       "      <td>10</td>\n",
       "    </tr>\n",
       "    <tr>\n",
       "      <th>C</th>\n",
       "      <td>Cindy</td>\n",
       "      <td>8</td>\n",
       "    </tr>\n",
       "  </tbody>\n",
       "</table>\n",
       "</div>"
      ],
      "text/plain": [
       "  Player name  Score\n",
       "B         Bob     10\n",
       "C       Cindy      8"
      ]
     },
     "execution_count": 114,
     "metadata": {},
     "output_type": "execute_result"
    }
   ],
   "source": [
    "df.iloc[1:3, 0:2]"
   ]
  },
  {
   "cell_type": "code",
   "execution_count": 117,
   "metadata": {},
   "outputs": [
    {
     "data": {
      "text/html": [
       "<div>\n",
       "<style scoped>\n",
       "    .dataframe tbody tr th:only-of-type {\n",
       "        vertical-align: middle;\n",
       "    }\n",
       "\n",
       "    .dataframe tbody tr th {\n",
       "        vertical-align: top;\n",
       "    }\n",
       "\n",
       "    .dataframe thead th {\n",
       "        text-align: right;\n",
       "    }\n",
       "</style>\n",
       "<table border=\"1\" class=\"dataframe\">\n",
       "  <thead>\n",
       "    <tr style=\"text-align: right;\">\n",
       "      <th></th>\n",
       "      <th>Player name</th>\n",
       "      <th>Score</th>\n",
       "    </tr>\n",
       "  </thead>\n",
       "  <tbody>\n",
       "    <tr>\n",
       "      <th>B</th>\n",
       "      <td>Bob</td>\n",
       "      <td>10</td>\n",
       "    </tr>\n",
       "    <tr>\n",
       "      <th>C</th>\n",
       "      <td>Cindy</td>\n",
       "      <td>8</td>\n",
       "    </tr>\n",
       "  </tbody>\n",
       "</table>\n",
       "</div>"
      ],
      "text/plain": [
       "  Player name  Score\n",
       "B         Bob     10\n",
       "C       Cindy      8"
      ]
     },
     "execution_count": 117,
     "metadata": {},
     "output_type": "execute_result"
    }
   ],
   "source": [
    "df.loc[\"B\":\"C\", \"Player name\":\"Score\"] # notice that its inclusive"
   ]
  },
  {
   "cell_type": "markdown",
   "metadata": {},
   "source": [
    "## How to set values for sliced DataFrame?\n",
    "\n",
    "- d.loc[ROW_SLICE, COL_SLICE] = new_val <- set value by ROW INDEX and COL INDEX\n",
    "- d.iloc[ROW_SLICE, COL_SLICE] = new_val <- set value by ROW Integer position and COL Integer position"
   ]
  },
  {
   "cell_type": "code",
   "execution_count": 118,
   "metadata": {},
   "outputs": [
    {
     "data": {
      "text/html": [
       "<div>\n",
       "<style scoped>\n",
       "    .dataframe tbody tr th:only-of-type {\n",
       "        vertical-align: middle;\n",
       "    }\n",
       "\n",
       "    .dataframe tbody tr th {\n",
       "        vertical-align: top;\n",
       "    }\n",
       "\n",
       "    .dataframe thead th {\n",
       "        text-align: right;\n",
       "    }\n",
       "</style>\n",
       "<table border=\"1\" class=\"dataframe\">\n",
       "  <thead>\n",
       "    <tr style=\"text-align: right;\">\n",
       "      <th></th>\n",
       "      <th>Player name</th>\n",
       "      <th>Score</th>\n",
       "    </tr>\n",
       "  </thead>\n",
       "  <tbody>\n",
       "    <tr>\n",
       "      <th>A</th>\n",
       "      <td>Alice</td>\n",
       "      <td>6</td>\n",
       "    </tr>\n",
       "    <tr>\n",
       "      <th>B</th>\n",
       "      <td>Bob</td>\n",
       "      <td>10</td>\n",
       "    </tr>\n",
       "    <tr>\n",
       "      <th>C</th>\n",
       "      <td>Cindy</td>\n",
       "      <td>8</td>\n",
       "    </tr>\n",
       "    <tr>\n",
       "      <th>D</th>\n",
       "      <td>Bianca</td>\n",
       "      <td>11</td>\n",
       "    </tr>\n",
       "  </tbody>\n",
       "</table>\n",
       "</div>"
      ],
      "text/plain": [
       "  Player name  Score\n",
       "A       Alice      6\n",
       "B         Bob     10\n",
       "C       Cindy      8\n",
       "D      Bianca     11"
      ]
     },
     "execution_count": 118,
     "metadata": {},
     "output_type": "execute_result"
    }
   ],
   "source": [
    "df"
   ]
  },
  {
   "cell_type": "code",
   "execution_count": 120,
   "metadata": {},
   "outputs": [
    {
     "data": {
      "text/html": [
       "<div>\n",
       "<style scoped>\n",
       "    .dataframe tbody tr th:only-of-type {\n",
       "        vertical-align: middle;\n",
       "    }\n",
       "\n",
       "    .dataframe tbody tr th {\n",
       "        vertical-align: top;\n",
       "    }\n",
       "\n",
       "    .dataframe thead th {\n",
       "        text-align: right;\n",
       "    }\n",
       "</style>\n",
       "<table border=\"1\" class=\"dataframe\">\n",
       "  <thead>\n",
       "    <tr style=\"text-align: right;\">\n",
       "      <th></th>\n",
       "      <th>Player name</th>\n",
       "      <th>Score</th>\n",
       "    </tr>\n",
       "  </thead>\n",
       "  <tbody>\n",
       "    <tr>\n",
       "      <th>A</th>\n",
       "      <td>Alice</td>\n",
       "      <td>6</td>\n",
       "    </tr>\n",
       "    <tr>\n",
       "      <th>B</th>\n",
       "      <td>Bob</td>\n",
       "      <td>15</td>\n",
       "    </tr>\n",
       "    <tr>\n",
       "      <th>C</th>\n",
       "      <td>Cindy</td>\n",
       "      <td>13</td>\n",
       "    </tr>\n",
       "    <tr>\n",
       "      <th>D</th>\n",
       "      <td>Bianca</td>\n",
       "      <td>11</td>\n",
       "    </tr>\n",
       "  </tbody>\n",
       "</table>\n",
       "</div>"
      ],
      "text/plain": [
       "  Player name  Score\n",
       "A       Alice      6\n",
       "B         Bob     15\n",
       "C       Cindy     13\n",
       "D      Bianca     11"
      ]
     },
     "execution_count": 120,
     "metadata": {},
     "output_type": "execute_result"
    }
   ],
   "source": [
    "\n",
    "df.loc[\"B\":\"C\", \"Score\"] += 5\n",
    "df"
   ]
  },
  {
   "cell_type": "markdown",
   "metadata": {},
   "source": [
    "## Instead of a slice, you could use a list of indexes or integer positions."
   ]
  },
  {
   "cell_type": "code",
   "execution_count": 121,
   "metadata": {},
   "outputs": [
    {
     "data": {
      "text/plain": [
       "B       Bob\n",
       "D    Bianca\n",
       "Name: Player name, dtype: object"
      ]
     },
     "execution_count": 121,
     "metadata": {},
     "output_type": "execute_result"
    }
   ],
   "source": [
    "\n",
    "df.loc[[\"B\", \"D\"],\"Player name\"]"
   ]
  },
  {
   "cell_type": "code",
   "execution_count": 123,
   "metadata": {},
   "outputs": [],
   "source": [
    "\n",
    "df.loc[[\"B\", \"D\"],\"Score\"] += 2"
   ]
  },
  {
   "cell_type": "markdown",
   "metadata": {},
   "source": [
    "## Boolean indexing\n",
    "\n",
    "### Series\n",
    "- s[BOOL SERIES]  <- gets all s values lined up with True\n",
    "\n",
    "### DataFrame\n",
    "- d[BOOL SERIES]  <- pulls out rows lined up with True"
   ]
  },
  {
   "cell_type": "code",
   "execution_count": 126,
   "metadata": {},
   "outputs": [
    {
     "data": {
      "text/html": [
       "<div>\n",
       "<style scoped>\n",
       "    .dataframe tbody tr th:only-of-type {\n",
       "        vertical-align: middle;\n",
       "    }\n",
       "\n",
       "    .dataframe tbody tr th {\n",
       "        vertical-align: top;\n",
       "    }\n",
       "\n",
       "    .dataframe thead th {\n",
       "        text-align: right;\n",
       "    }\n",
       "</style>\n",
       "<table border=\"1\" class=\"dataframe\">\n",
       "  <thead>\n",
       "    <tr style=\"text-align: right;\">\n",
       "      <th></th>\n",
       "      <th>Player name</th>\n",
       "      <th>Score</th>\n",
       "    </tr>\n",
       "  </thead>\n",
       "  <tbody>\n",
       "    <tr>\n",
       "      <th>A</th>\n",
       "      <td>Alice</td>\n",
       "      <td>6</td>\n",
       "    </tr>\n",
       "    <tr>\n",
       "      <th>B</th>\n",
       "      <td>Bob</td>\n",
       "      <td>17</td>\n",
       "    </tr>\n",
       "    <tr>\n",
       "      <th>C</th>\n",
       "      <td>Cindy</td>\n",
       "      <td>13</td>\n",
       "    </tr>\n",
       "    <tr>\n",
       "      <th>D</th>\n",
       "      <td>Bianca</td>\n",
       "      <td>13</td>\n",
       "    </tr>\n",
       "  </tbody>\n",
       "</table>\n",
       "</div>"
      ],
      "text/plain": [
       "  Player name  Score\n",
       "A       Alice      6\n",
       "B         Bob     17\n",
       "C       Cindy     13\n",
       "D      Bianca     13"
      ]
     },
     "execution_count": 126,
     "metadata": {},
     "output_type": "execute_result"
    }
   ],
   "source": [
    "df"
   ]
  },
  {
   "cell_type": "code",
   "execution_count": 127,
   "metadata": {},
   "outputs": [
    {
     "data": {
      "text/plain": [
       "A    False\n",
       "B     True\n",
       "C    False\n",
       "D    False\n",
       "Name: Score, dtype: bool"
      ]
     },
     "execution_count": 127,
     "metadata": {},
     "output_type": "execute_result"
    }
   ],
   "source": [
    "b = df[\"Score\"] >= 15\n",
    "b\n"
   ]
  },
  {
   "cell_type": "code",
   "execution_count": 128,
   "metadata": {},
   "outputs": [
    {
     "data": {
      "text/html": [
       "<div>\n",
       "<style scoped>\n",
       "    .dataframe tbody tr th:only-of-type {\n",
       "        vertical-align: middle;\n",
       "    }\n",
       "\n",
       "    .dataframe tbody tr th {\n",
       "        vertical-align: top;\n",
       "    }\n",
       "\n",
       "    .dataframe thead th {\n",
       "        text-align: right;\n",
       "    }\n",
       "</style>\n",
       "<table border=\"1\" class=\"dataframe\">\n",
       "  <thead>\n",
       "    <tr style=\"text-align: right;\">\n",
       "      <th></th>\n",
       "      <th>Player name</th>\n",
       "      <th>Score</th>\n",
       "    </tr>\n",
       "  </thead>\n",
       "  <tbody>\n",
       "    <tr>\n",
       "      <th>B</th>\n",
       "      <td>Bob</td>\n",
       "      <td>17</td>\n",
       "    </tr>\n",
       "  </tbody>\n",
       "</table>\n",
       "</div>"
      ],
      "text/plain": [
       "  Player name  Score\n",
       "B         Bob     17"
      ]
     },
     "execution_count": 128,
     "metadata": {},
     "output_type": "execute_result"
    }
   ],
   "source": [
    "df[b]"
   ]
  },
  {
   "cell_type": "code",
   "execution_count": 129,
   "metadata": {},
   "outputs": [
    {
     "data": {
      "text/html": [
       "<div>\n",
       "<style scoped>\n",
       "    .dataframe tbody tr th:only-of-type {\n",
       "        vertical-align: middle;\n",
       "    }\n",
       "\n",
       "    .dataframe tbody tr th {\n",
       "        vertical-align: top;\n",
       "    }\n",
       "\n",
       "    .dataframe thead th {\n",
       "        text-align: right;\n",
       "    }\n",
       "</style>\n",
       "<table border=\"1\" class=\"dataframe\">\n",
       "  <thead>\n",
       "    <tr style=\"text-align: right;\">\n",
       "      <th></th>\n",
       "      <th>Player name</th>\n",
       "      <th>Score</th>\n",
       "    </tr>\n",
       "  </thead>\n",
       "  <tbody>\n",
       "    <tr>\n",
       "      <th>B</th>\n",
       "      <td>Bob</td>\n",
       "      <td>17</td>\n",
       "    </tr>\n",
       "  </tbody>\n",
       "</table>\n",
       "</div>"
      ],
      "text/plain": [
       "  Player name  Score\n",
       "B         Bob     17"
      ]
     },
     "execution_count": 129,
     "metadata": {},
     "output_type": "execute_result"
    }
   ],
   "source": [
    "df[df[\"Score\"] >= 15]"
   ]
  },
  {
   "cell_type": "markdown",
   "metadata": {},
   "source": [
    "## 4. Creating DataFrame from csv"
   ]
  },
  {
   "cell_type": "code",
   "execution_count": 19,
   "metadata": {},
   "outputs": [
    {
     "data": {
      "text/html": [
       "<div>\n",
       "<style scoped>\n",
       "    .dataframe tbody tr th:only-of-type {\n",
       "        vertical-align: middle;\n",
       "    }\n",
       "\n",
       "    .dataframe tbody tr th {\n",
       "        vertical-align: top;\n",
       "    }\n",
       "\n",
       "    .dataframe thead th {\n",
       "        text-align: right;\n",
       "    }\n",
       "</style>\n",
       "<table border=\"1\" class=\"dataframe\">\n",
       "  <thead>\n",
       "    <tr style=\"text-align: right;\">\n",
       "      <th></th>\n",
       "      <th>Index</th>\n",
       "      <th>Title</th>\n",
       "      <th>Genre</th>\n",
       "      <th>Director</th>\n",
       "      <th>Cast</th>\n",
       "      <th>Year</th>\n",
       "      <th>Runtime</th>\n",
       "      <th>Rating</th>\n",
       "      <th>Revenue</th>\n",
       "    </tr>\n",
       "  </thead>\n",
       "  <tbody>\n",
       "    <tr>\n",
       "      <th>0</th>\n",
       "      <td>0</td>\n",
       "      <td>Guardians of the Galaxy</td>\n",
       "      <td>Action,Adventure,Sci-Fi</td>\n",
       "      <td>James Gunn</td>\n",
       "      <td>Chris Pratt, Vin Diesel, Bradley Cooper, Zoe S...</td>\n",
       "      <td>2014</td>\n",
       "      <td>121</td>\n",
       "      <td>8.1</td>\n",
       "      <td>333.13</td>\n",
       "    </tr>\n",
       "    <tr>\n",
       "      <th>1</th>\n",
       "      <td>1</td>\n",
       "      <td>Prometheus</td>\n",
       "      <td>Adventure,Mystery,Sci-Fi</td>\n",
       "      <td>Ridley Scott</td>\n",
       "      <td>Noomi Rapace, Logan Marshall-Green, Michael   ...</td>\n",
       "      <td>2012</td>\n",
       "      <td>124</td>\n",
       "      <td>7.0</td>\n",
       "      <td>126.46M</td>\n",
       "    </tr>\n",
       "    <tr>\n",
       "      <th>2</th>\n",
       "      <td>2</td>\n",
       "      <td>Split</td>\n",
       "      <td>Horror,Thriller</td>\n",
       "      <td>M. Night Shyamalan</td>\n",
       "      <td>James McAvoy, Anya Taylor-Joy, Haley Lu Richar...</td>\n",
       "      <td>2016</td>\n",
       "      <td>117</td>\n",
       "      <td>7.3</td>\n",
       "      <td>138.12M</td>\n",
       "    </tr>\n",
       "    <tr>\n",
       "      <th>3</th>\n",
       "      <td>3</td>\n",
       "      <td>Sing</td>\n",
       "      <td>Animation,Comedy,Family</td>\n",
       "      <td>Christophe Lourdelet</td>\n",
       "      <td>Matthew McConaughey,Reese Witherspoon, Seth Ma...</td>\n",
       "      <td>2016</td>\n",
       "      <td>108</td>\n",
       "      <td>7.2</td>\n",
       "      <td>270.32</td>\n",
       "    </tr>\n",
       "    <tr>\n",
       "      <th>4</th>\n",
       "      <td>4</td>\n",
       "      <td>Suicide Squad</td>\n",
       "      <td>Action,Adventure,Fantasy</td>\n",
       "      <td>David Ayer</td>\n",
       "      <td>Will Smith, Jared Leto, Margot Robbie, Viola D...</td>\n",
       "      <td>2016</td>\n",
       "      <td>123</td>\n",
       "      <td>6.2</td>\n",
       "      <td>325.02</td>\n",
       "    </tr>\n",
       "    <tr>\n",
       "      <th>...</th>\n",
       "      <td>...</td>\n",
       "      <td>...</td>\n",
       "      <td>...</td>\n",
       "      <td>...</td>\n",
       "      <td>...</td>\n",
       "      <td>...</td>\n",
       "      <td>...</td>\n",
       "      <td>...</td>\n",
       "      <td>...</td>\n",
       "    </tr>\n",
       "    <tr>\n",
       "      <th>993</th>\n",
       "      <td>993</td>\n",
       "      <td>Secret in Their Eyes</td>\n",
       "      <td>Crime,Drama,Mystery</td>\n",
       "      <td>Billy Ray</td>\n",
       "      <td>Chiwetel Ejiofor, Nicole Kidman, Julia Roberts...</td>\n",
       "      <td>2015</td>\n",
       "      <td>111</td>\n",
       "      <td>6.2</td>\n",
       "      <td>0</td>\n",
       "    </tr>\n",
       "    <tr>\n",
       "      <th>994</th>\n",
       "      <td>994</td>\n",
       "      <td>Hostel: Part II</td>\n",
       "      <td>Horror</td>\n",
       "      <td>Eli Roth</td>\n",
       "      <td>Lauren German, Heather Matarazzo, Bijou Philli...</td>\n",
       "      <td>2007</td>\n",
       "      <td>94</td>\n",
       "      <td>5.5</td>\n",
       "      <td>17.54</td>\n",
       "    </tr>\n",
       "    <tr>\n",
       "      <th>995</th>\n",
       "      <td>995</td>\n",
       "      <td>Step Up 2: The Streets</td>\n",
       "      <td>Drama,Music,Romance</td>\n",
       "      <td>Jon M. Chu</td>\n",
       "      <td>Robert Hoffman, Briana Evigan, Cassie Ventura,...</td>\n",
       "      <td>2008</td>\n",
       "      <td>98</td>\n",
       "      <td>6.2</td>\n",
       "      <td>58.01</td>\n",
       "    </tr>\n",
       "    <tr>\n",
       "      <th>996</th>\n",
       "      <td>996</td>\n",
       "      <td>Search Party</td>\n",
       "      <td>Adventure,Comedy</td>\n",
       "      <td>Scot Armstrong</td>\n",
       "      <td>Adam Pally, T.J. Miller, Thomas Middleditch,Sh...</td>\n",
       "      <td>2014</td>\n",
       "      <td>93</td>\n",
       "      <td>5.6</td>\n",
       "      <td>0</td>\n",
       "    </tr>\n",
       "    <tr>\n",
       "      <th>997</th>\n",
       "      <td>997</td>\n",
       "      <td>Nine Lives</td>\n",
       "      <td>Comedy,Family,Fantasy</td>\n",
       "      <td>Barry Sonnenfeld</td>\n",
       "      <td>Kevin Spacey, Jennifer Garner, Robbie Amell,Ch...</td>\n",
       "      <td>2016</td>\n",
       "      <td>87</td>\n",
       "      <td>5.3</td>\n",
       "      <td>19.64</td>\n",
       "    </tr>\n",
       "  </tbody>\n",
       "</table>\n",
       "<p>998 rows × 9 columns</p>\n",
       "</div>"
      ],
      "text/plain": [
       "     Index                    Title                     Genre  \\\n",
       "0        0  Guardians of the Galaxy   Action,Adventure,Sci-Fi   \n",
       "1        1               Prometheus  Adventure,Mystery,Sci-Fi   \n",
       "2        2                    Split           Horror,Thriller   \n",
       "3        3                     Sing   Animation,Comedy,Family   \n",
       "4        4            Suicide Squad  Action,Adventure,Fantasy   \n",
       "..     ...                      ...                       ...   \n",
       "993    993     Secret in Their Eyes       Crime,Drama,Mystery   \n",
       "994    994          Hostel: Part II                    Horror   \n",
       "995    995   Step Up 2: The Streets       Drama,Music,Romance   \n",
       "996    996             Search Party          Adventure,Comedy   \n",
       "997    997               Nine Lives     Comedy,Family,Fantasy   \n",
       "\n",
       "                 Director                                               Cast  \\\n",
       "0              James Gunn  Chris Pratt, Vin Diesel, Bradley Cooper, Zoe S...   \n",
       "1            Ridley Scott  Noomi Rapace, Logan Marshall-Green, Michael   ...   \n",
       "2      M. Night Shyamalan  James McAvoy, Anya Taylor-Joy, Haley Lu Richar...   \n",
       "3    Christophe Lourdelet  Matthew McConaughey,Reese Witherspoon, Seth Ma...   \n",
       "4              David Ayer  Will Smith, Jared Leto, Margot Robbie, Viola D...   \n",
       "..                    ...                                                ...   \n",
       "993             Billy Ray  Chiwetel Ejiofor, Nicole Kidman, Julia Roberts...   \n",
       "994              Eli Roth  Lauren German, Heather Matarazzo, Bijou Philli...   \n",
       "995            Jon M. Chu  Robert Hoffman, Briana Evigan, Cassie Ventura,...   \n",
       "996        Scot Armstrong  Adam Pally, T.J. Miller, Thomas Middleditch,Sh...   \n",
       "997      Barry Sonnenfeld  Kevin Spacey, Jennifer Garner, Robbie Amell,Ch...   \n",
       "\n",
       "     Year  Runtime  Rating  Revenue  \n",
       "0    2014      121     8.1   333.13  \n",
       "1    2012      124     7.0  126.46M  \n",
       "2    2016      117     7.3  138.12M  \n",
       "3    2016      108     7.2   270.32  \n",
       "4    2016      123     6.2   325.02  \n",
       "..    ...      ...     ...      ...  \n",
       "993  2015      111     6.2        0  \n",
       "994  2007       94     5.5    17.54  \n",
       "995  2008       98     6.2    58.01  \n",
       "996  2014       93     5.6        0  \n",
       "997  2016       87     5.3    19.64  \n",
       "\n",
       "[998 rows x 9 columns]"
      ]
     },
     "execution_count": 19,
     "metadata": {},
     "output_type": "execute_result"
    }
   ],
   "source": [
    "# its that easy!  \n",
    "df = pd.read_csv(\"IMDB-Movie-Data.csv\")\n",
    "df"
   ]
  },
  {
   "cell_type": "markdown",
   "metadata": {},
   "source": [
    "## How to see first few lines of the DataFrame?"
   ]
  },
  {
   "cell_type": "code",
   "execution_count": 131,
   "metadata": {},
   "outputs": [
    {
     "data": {
      "text/html": [
       "<div>\n",
       "<style scoped>\n",
       "    .dataframe tbody tr th:only-of-type {\n",
       "        vertical-align: middle;\n",
       "    }\n",
       "\n",
       "    .dataframe tbody tr th {\n",
       "        vertical-align: top;\n",
       "    }\n",
       "\n",
       "    .dataframe thead th {\n",
       "        text-align: right;\n",
       "    }\n",
       "</style>\n",
       "<table border=\"1\" class=\"dataframe\">\n",
       "  <thead>\n",
       "    <tr style=\"text-align: right;\">\n",
       "      <th></th>\n",
       "      <th>Index</th>\n",
       "      <th>Title</th>\n",
       "      <th>Genre</th>\n",
       "      <th>Director</th>\n",
       "      <th>Cast</th>\n",
       "      <th>Year</th>\n",
       "      <th>Runtime</th>\n",
       "      <th>Rating</th>\n",
       "      <th>Revenue</th>\n",
       "    </tr>\n",
       "  </thead>\n",
       "  <tbody>\n",
       "    <tr>\n",
       "      <th>0</th>\n",
       "      <td>0</td>\n",
       "      <td>Guardians of the Galaxy</td>\n",
       "      <td>Action,Adventure,Sci-Fi</td>\n",
       "      <td>James Gunn</td>\n",
       "      <td>Chris Pratt, Vin Diesel, Bradley Cooper, Zoe S...</td>\n",
       "      <td>2014</td>\n",
       "      <td>121</td>\n",
       "      <td>8.1</td>\n",
       "      <td>333.13</td>\n",
       "    </tr>\n",
       "    <tr>\n",
       "      <th>1</th>\n",
       "      <td>1</td>\n",
       "      <td>Prometheus</td>\n",
       "      <td>Adventure,Mystery,Sci-Fi</td>\n",
       "      <td>Ridley Scott</td>\n",
       "      <td>Noomi Rapace, Logan Marshall-Green, Michael   ...</td>\n",
       "      <td>2012</td>\n",
       "      <td>124</td>\n",
       "      <td>7.0</td>\n",
       "      <td>126.46M</td>\n",
       "    </tr>\n",
       "    <tr>\n",
       "      <th>2</th>\n",
       "      <td>2</td>\n",
       "      <td>Split</td>\n",
       "      <td>Horror,Thriller</td>\n",
       "      <td>M. Night Shyamalan</td>\n",
       "      <td>James McAvoy, Anya Taylor-Joy, Haley Lu Richar...</td>\n",
       "      <td>2016</td>\n",
       "      <td>117</td>\n",
       "      <td>7.3</td>\n",
       "      <td>138.12M</td>\n",
       "    </tr>\n",
       "    <tr>\n",
       "      <th>3</th>\n",
       "      <td>3</td>\n",
       "      <td>Sing</td>\n",
       "      <td>Animation,Comedy,Family</td>\n",
       "      <td>Christophe Lourdelet</td>\n",
       "      <td>Matthew McConaughey,Reese Witherspoon, Seth Ma...</td>\n",
       "      <td>2016</td>\n",
       "      <td>108</td>\n",
       "      <td>7.2</td>\n",
       "      <td>270.32</td>\n",
       "    </tr>\n",
       "    <tr>\n",
       "      <th>4</th>\n",
       "      <td>4</td>\n",
       "      <td>Suicide Squad</td>\n",
       "      <td>Action,Adventure,Fantasy</td>\n",
       "      <td>David Ayer</td>\n",
       "      <td>Will Smith, Jared Leto, Margot Robbie, Viola D...</td>\n",
       "      <td>2016</td>\n",
       "      <td>123</td>\n",
       "      <td>6.2</td>\n",
       "      <td>325.02</td>\n",
       "    </tr>\n",
       "  </tbody>\n",
       "</table>\n",
       "</div>"
      ],
      "text/plain": [
       "   Index                    Title                     Genre  \\\n",
       "0      0  Guardians of the Galaxy   Action,Adventure,Sci-Fi   \n",
       "1      1               Prometheus  Adventure,Mystery,Sci-Fi   \n",
       "2      2                    Split           Horror,Thriller   \n",
       "3      3                     Sing   Animation,Comedy,Family   \n",
       "4      4            Suicide Squad  Action,Adventure,Fantasy   \n",
       "\n",
       "               Director                                               Cast  \\\n",
       "0            James Gunn  Chris Pratt, Vin Diesel, Bradley Cooper, Zoe S...   \n",
       "1          Ridley Scott  Noomi Rapace, Logan Marshall-Green, Michael   ...   \n",
       "2    M. Night Shyamalan  James McAvoy, Anya Taylor-Joy, Haley Lu Richar...   \n",
       "3  Christophe Lourdelet  Matthew McConaughey,Reese Witherspoon, Seth Ma...   \n",
       "4            David Ayer  Will Smith, Jared Leto, Margot Robbie, Viola D...   \n",
       "\n",
       "   Year  Runtime  Rating  Revenue  \n",
       "0  2014      121     8.1   333.13  \n",
       "1  2012      124     7.0  126.46M  \n",
       "2  2016      117     7.3  138.12M  \n",
       "3  2016      108     7.2   270.32  \n",
       "4  2016      123     6.2   325.02  "
      ]
     },
     "execution_count": 131,
     "metadata": {},
     "output_type": "execute_result"
    }
   ],
   "source": [
    "df.head()"
   ]
  },
  {
   "cell_type": "code",
   "execution_count": 132,
   "metadata": {},
   "outputs": [
    {
     "data": {
      "text/html": [
       "<div>\n",
       "<style scoped>\n",
       "    .dataframe tbody tr th:only-of-type {\n",
       "        vertical-align: middle;\n",
       "    }\n",
       "\n",
       "    .dataframe tbody tr th {\n",
       "        vertical-align: top;\n",
       "    }\n",
       "\n",
       "    .dataframe thead th {\n",
       "        text-align: right;\n",
       "    }\n",
       "</style>\n",
       "<table border=\"1\" class=\"dataframe\">\n",
       "  <thead>\n",
       "    <tr style=\"text-align: right;\">\n",
       "      <th></th>\n",
       "      <th>Index</th>\n",
       "      <th>Title</th>\n",
       "      <th>Genre</th>\n",
       "      <th>Director</th>\n",
       "      <th>Cast</th>\n",
       "      <th>Year</th>\n",
       "      <th>Runtime</th>\n",
       "      <th>Rating</th>\n",
       "      <th>Revenue</th>\n",
       "    </tr>\n",
       "  </thead>\n",
       "  <tbody>\n",
       "    <tr>\n",
       "      <th>0</th>\n",
       "      <td>0</td>\n",
       "      <td>Guardians of the Galaxy</td>\n",
       "      <td>Action,Adventure,Sci-Fi</td>\n",
       "      <td>James Gunn</td>\n",
       "      <td>Chris Pratt, Vin Diesel, Bradley Cooper, Zoe S...</td>\n",
       "      <td>2014</td>\n",
       "      <td>121</td>\n",
       "      <td>8.1</td>\n",
       "      <td>333.13</td>\n",
       "    </tr>\n",
       "    <tr>\n",
       "      <th>1</th>\n",
       "      <td>1</td>\n",
       "      <td>Prometheus</td>\n",
       "      <td>Adventure,Mystery,Sci-Fi</td>\n",
       "      <td>Ridley Scott</td>\n",
       "      <td>Noomi Rapace, Logan Marshall-Green, Michael   ...</td>\n",
       "      <td>2012</td>\n",
       "      <td>124</td>\n",
       "      <td>7.0</td>\n",
       "      <td>126.46M</td>\n",
       "    </tr>\n",
       "  </tbody>\n",
       "</table>\n",
       "</div>"
      ],
      "text/plain": [
       "   Index                    Title                     Genre      Director  \\\n",
       "0      0  Guardians of the Galaxy   Action,Adventure,Sci-Fi    James Gunn   \n",
       "1      1               Prometheus  Adventure,Mystery,Sci-Fi  Ridley Scott   \n",
       "\n",
       "                                                Cast  Year  Runtime  Rating  \\\n",
       "0  Chris Pratt, Vin Diesel, Bradley Cooper, Zoe S...  2014      121     8.1   \n",
       "1  Noomi Rapace, Logan Marshall-Green, Michael   ...  2012      124     7.0   \n",
       "\n",
       "   Revenue  \n",
       "0   333.13  \n",
       "1  126.46M  "
      ]
     },
     "execution_count": 132,
     "metadata": {},
     "output_type": "execute_result"
    }
   ],
   "source": [
    "df.head(2)"
   ]
  },
  {
   "cell_type": "markdown",
   "metadata": {},
   "source": [
    "## How to see last few lines of the DataFrame?"
   ]
  },
  {
   "cell_type": "code",
   "execution_count": 133,
   "metadata": {},
   "outputs": [
    {
     "data": {
      "text/html": [
       "<div>\n",
       "<style scoped>\n",
       "    .dataframe tbody tr th:only-of-type {\n",
       "        vertical-align: middle;\n",
       "    }\n",
       "\n",
       "    .dataframe tbody tr th {\n",
       "        vertical-align: top;\n",
       "    }\n",
       "\n",
       "    .dataframe thead th {\n",
       "        text-align: right;\n",
       "    }\n",
       "</style>\n",
       "<table border=\"1\" class=\"dataframe\">\n",
       "  <thead>\n",
       "    <tr style=\"text-align: right;\">\n",
       "      <th></th>\n",
       "      <th>Index</th>\n",
       "      <th>Title</th>\n",
       "      <th>Genre</th>\n",
       "      <th>Director</th>\n",
       "      <th>Cast</th>\n",
       "      <th>Year</th>\n",
       "      <th>Runtime</th>\n",
       "      <th>Rating</th>\n",
       "      <th>Revenue</th>\n",
       "    </tr>\n",
       "  </thead>\n",
       "  <tbody>\n",
       "    <tr>\n",
       "      <th>993</th>\n",
       "      <td>993</td>\n",
       "      <td>Secret in Their Eyes</td>\n",
       "      <td>Crime,Drama,Mystery</td>\n",
       "      <td>Billy Ray</td>\n",
       "      <td>Chiwetel Ejiofor, Nicole Kidman, Julia Roberts...</td>\n",
       "      <td>2015</td>\n",
       "      <td>111</td>\n",
       "      <td>6.2</td>\n",
       "      <td>0</td>\n",
       "    </tr>\n",
       "    <tr>\n",
       "      <th>994</th>\n",
       "      <td>994</td>\n",
       "      <td>Hostel: Part II</td>\n",
       "      <td>Horror</td>\n",
       "      <td>Eli Roth</td>\n",
       "      <td>Lauren German, Heather Matarazzo, Bijou Philli...</td>\n",
       "      <td>2007</td>\n",
       "      <td>94</td>\n",
       "      <td>5.5</td>\n",
       "      <td>17.54</td>\n",
       "    </tr>\n",
       "    <tr>\n",
       "      <th>995</th>\n",
       "      <td>995</td>\n",
       "      <td>Step Up 2: The Streets</td>\n",
       "      <td>Drama,Music,Romance</td>\n",
       "      <td>Jon M. Chu</td>\n",
       "      <td>Robert Hoffman, Briana Evigan, Cassie Ventura,...</td>\n",
       "      <td>2008</td>\n",
       "      <td>98</td>\n",
       "      <td>6.2</td>\n",
       "      <td>58.01</td>\n",
       "    </tr>\n",
       "    <tr>\n",
       "      <th>996</th>\n",
       "      <td>996</td>\n",
       "      <td>Search Party</td>\n",
       "      <td>Adventure,Comedy</td>\n",
       "      <td>Scot Armstrong</td>\n",
       "      <td>Adam Pally, T.J. Miller, Thomas Middleditch,Sh...</td>\n",
       "      <td>2014</td>\n",
       "      <td>93</td>\n",
       "      <td>5.6</td>\n",
       "      <td>0</td>\n",
       "    </tr>\n",
       "    <tr>\n",
       "      <th>997</th>\n",
       "      <td>997</td>\n",
       "      <td>Nine Lives</td>\n",
       "      <td>Comedy,Family,Fantasy</td>\n",
       "      <td>Barry Sonnenfeld</td>\n",
       "      <td>Kevin Spacey, Jennifer Garner, Robbie Amell,Ch...</td>\n",
       "      <td>2016</td>\n",
       "      <td>87</td>\n",
       "      <td>5.3</td>\n",
       "      <td>19.64</td>\n",
       "    </tr>\n",
       "  </tbody>\n",
       "</table>\n",
       "</div>"
      ],
      "text/plain": [
       "     Index                   Title                  Genre          Director  \\\n",
       "993    993    Secret in Their Eyes    Crime,Drama,Mystery         Billy Ray   \n",
       "994    994         Hostel: Part II                 Horror          Eli Roth   \n",
       "995    995  Step Up 2: The Streets    Drama,Music,Romance        Jon M. Chu   \n",
       "996    996            Search Party       Adventure,Comedy    Scot Armstrong   \n",
       "997    997              Nine Lives  Comedy,Family,Fantasy  Barry Sonnenfeld   \n",
       "\n",
       "                                                  Cast  Year  Runtime  Rating  \\\n",
       "993  Chiwetel Ejiofor, Nicole Kidman, Julia Roberts...  2015      111     6.2   \n",
       "994  Lauren German, Heather Matarazzo, Bijou Philli...  2007       94     5.5   \n",
       "995  Robert Hoffman, Briana Evigan, Cassie Ventura,...  2008       98     6.2   \n",
       "996  Adam Pally, T.J. Miller, Thomas Middleditch,Sh...  2014       93     5.6   \n",
       "997  Kevin Spacey, Jennifer Garner, Robbie Amell,Ch...  2016       87     5.3   \n",
       "\n",
       "    Revenue  \n",
       "993       0  \n",
       "994   17.54  \n",
       "995   58.01  \n",
       "996       0  \n",
       "997   19.64  "
      ]
     },
     "execution_count": 133,
     "metadata": {},
     "output_type": "execute_result"
    }
   ],
   "source": [
    "df.tail()"
   ]
  },
  {
   "cell_type": "code",
   "execution_count": 135,
   "metadata": {},
   "outputs": [
    {
     "data": {
      "text/html": [
       "<div>\n",
       "<style scoped>\n",
       "    .dataframe tbody tr th:only-of-type {\n",
       "        vertical-align: middle;\n",
       "    }\n",
       "\n",
       "    .dataframe tbody tr th {\n",
       "        vertical-align: top;\n",
       "    }\n",
       "\n",
       "    .dataframe thead th {\n",
       "        text-align: right;\n",
       "    }\n",
       "</style>\n",
       "<table border=\"1\" class=\"dataframe\">\n",
       "  <thead>\n",
       "    <tr style=\"text-align: right;\">\n",
       "      <th></th>\n",
       "      <th>Index</th>\n",
       "      <th>Title</th>\n",
       "      <th>Genre</th>\n",
       "      <th>Director</th>\n",
       "      <th>Cast</th>\n",
       "      <th>Year</th>\n",
       "      <th>Runtime</th>\n",
       "      <th>Rating</th>\n",
       "      <th>Revenue</th>\n",
       "    </tr>\n",
       "  </thead>\n",
       "  <tbody>\n",
       "    <tr>\n",
       "      <th>995</th>\n",
       "      <td>995</td>\n",
       "      <td>Step Up 2: The Streets</td>\n",
       "      <td>Drama,Music,Romance</td>\n",
       "      <td>Jon M. Chu</td>\n",
       "      <td>Robert Hoffman, Briana Evigan, Cassie Ventura,...</td>\n",
       "      <td>2008</td>\n",
       "      <td>98</td>\n",
       "      <td>6.2</td>\n",
       "      <td>58.01</td>\n",
       "    </tr>\n",
       "    <tr>\n",
       "      <th>996</th>\n",
       "      <td>996</td>\n",
       "      <td>Search Party</td>\n",
       "      <td>Adventure,Comedy</td>\n",
       "      <td>Scot Armstrong</td>\n",
       "      <td>Adam Pally, T.J. Miller, Thomas Middleditch,Sh...</td>\n",
       "      <td>2014</td>\n",
       "      <td>93</td>\n",
       "      <td>5.6</td>\n",
       "      <td>0</td>\n",
       "    </tr>\n",
       "    <tr>\n",
       "      <th>997</th>\n",
       "      <td>997</td>\n",
       "      <td>Nine Lives</td>\n",
       "      <td>Comedy,Family,Fantasy</td>\n",
       "      <td>Barry Sonnenfeld</td>\n",
       "      <td>Kevin Spacey, Jennifer Garner, Robbie Amell,Ch...</td>\n",
       "      <td>2016</td>\n",
       "      <td>87</td>\n",
       "      <td>5.3</td>\n",
       "      <td>19.64</td>\n",
       "    </tr>\n",
       "  </tbody>\n",
       "</table>\n",
       "</div>"
      ],
      "text/plain": [
       "     Index                   Title                  Genre          Director  \\\n",
       "995    995  Step Up 2: The Streets    Drama,Music,Romance        Jon M. Chu   \n",
       "996    996            Search Party       Adventure,Comedy    Scot Armstrong   \n",
       "997    997              Nine Lives  Comedy,Family,Fantasy  Barry Sonnenfeld   \n",
       "\n",
       "                                                  Cast  Year  Runtime  Rating  \\\n",
       "995  Robert Hoffman, Briana Evigan, Cassie Ventura,...  2008       98     6.2   \n",
       "996  Adam Pally, T.J. Miller, Thomas Middleditch,Sh...  2014       93     5.6   \n",
       "997  Kevin Spacey, Jennifer Garner, Robbie Amell,Ch...  2016       87     5.3   \n",
       "\n",
       "    Revenue  \n",
       "995   58.01  \n",
       "996       0  \n",
       "997   19.64  "
      ]
     },
     "execution_count": 135,
     "metadata": {},
     "output_type": "execute_result"
    }
   ],
   "source": [
    "df.tail(3)"
   ]
  },
  {
   "cell_type": "code",
   "execution_count": 141,
   "metadata": {},
   "outputs": [
    {
     "name": "stdout",
     "output_type": "stream",
     "text": [
      "2006\t2016\n"
     ]
    }
   ],
   "source": [
    "print(df[\"Year\"].min(), df[\"Year\"].max(), sep=\"\\t\")"
   ]
  },
  {
   "cell_type": "code",
   "execution_count": 148,
   "metadata": {},
   "outputs": [
    {
     "data": {
      "text/html": [
       "<div>\n",
       "<style scoped>\n",
       "    .dataframe tbody tr th:only-of-type {\n",
       "        vertical-align: middle;\n",
       "    }\n",
       "\n",
       "    .dataframe tbody tr th {\n",
       "        vertical-align: top;\n",
       "    }\n",
       "\n",
       "    .dataframe thead th {\n",
       "        text-align: right;\n",
       "    }\n",
       "</style>\n",
       "<table border=\"1\" class=\"dataframe\">\n",
       "  <thead>\n",
       "    <tr style=\"text-align: right;\">\n",
       "      <th></th>\n",
       "      <th>Index</th>\n",
       "      <th>Title</th>\n",
       "      <th>Genre</th>\n",
       "      <th>Director</th>\n",
       "      <th>Cast</th>\n",
       "      <th>Year</th>\n",
       "      <th>Runtime</th>\n",
       "      <th>Rating</th>\n",
       "      <th>Revenue</th>\n",
       "    </tr>\n",
       "  </thead>\n",
       "  <tbody>\n",
       "    <tr>\n",
       "      <th>6</th>\n",
       "      <td>6</td>\n",
       "      <td>La La Land</td>\n",
       "      <td>Comedy,Drama,Music</td>\n",
       "      <td>Damien Chazelle</td>\n",
       "      <td>Ryan Gosling, Emma Stone, Rosemarie DeWitt, J....</td>\n",
       "      <td>2016</td>\n",
       "      <td>128</td>\n",
       "      <td>8.3</td>\n",
       "      <td>151.06M</td>\n",
       "    </tr>\n",
       "  </tbody>\n",
       "</table>\n",
       "</div>"
      ],
      "text/plain": [
       "   Index       Title               Genre         Director  \\\n",
       "6      6  La La Land  Comedy,Drama,Music  Damien Chazelle   \n",
       "\n",
       "                                                Cast  Year  Runtime  Rating  \\\n",
       "6  Ryan Gosling, Emma Stone, Rosemarie DeWitt, J....  2016      128     8.3   \n",
       "\n",
       "   Revenue  \n",
       "6  151.06M  "
      ]
     },
     "execution_count": 148,
     "metadata": {},
     "output_type": "execute_result"
    }
   ],
   "source": [
    "df[df[\"Title\"] == \"La La Land\" ]"
   ]
  },
  {
   "cell_type": "code",
   "execution_count": 20,
   "metadata": {},
   "outputs": [
    {
     "data": {
      "text/html": [
       "<div>\n",
       "<style scoped>\n",
       "    .dataframe tbody tr th:only-of-type {\n",
       "        vertical-align: middle;\n",
       "    }\n",
       "\n",
       "    .dataframe tbody tr th {\n",
       "        vertical-align: top;\n",
       "    }\n",
       "\n",
       "    .dataframe thead th {\n",
       "        text-align: right;\n",
       "    }\n",
       "</style>\n",
       "<table border=\"1\" class=\"dataframe\">\n",
       "  <thead>\n",
       "    <tr style=\"text-align: right;\">\n",
       "      <th></th>\n",
       "      <th>Index</th>\n",
       "      <th>Title</th>\n",
       "      <th>Genre</th>\n",
       "      <th>Director</th>\n",
       "      <th>Cast</th>\n",
       "      <th>Year</th>\n",
       "      <th>Runtime</th>\n",
       "      <th>Rating</th>\n",
       "      <th>Revenue</th>\n",
       "    </tr>\n",
       "  </thead>\n",
       "  <tbody>\n",
       "    <tr>\n",
       "      <th>198</th>\n",
       "      <td>198</td>\n",
       "      <td>The Imitation Game</td>\n",
       "      <td>Biography,Drama,Thriller</td>\n",
       "      <td>Morten Tyldum</td>\n",
       "      <td>Benedict Cumberbatch, Keira Knightley, Matthew...</td>\n",
       "      <td>2014</td>\n",
       "      <td>114</td>\n",
       "      <td>8.1</td>\n",
       "      <td>91.12</td>\n",
       "    </tr>\n",
       "  </tbody>\n",
       "</table>\n",
       "</div>"
      ],
      "text/plain": [
       "     Index               Title                     Genre       Director  \\\n",
       "198    198  The Imitation Game  Biography,Drama,Thriller  Morten Tyldum   \n",
       "\n",
       "                                                  Cast  Year  Runtime  Rating  \\\n",
       "198  Benedict Cumberbatch, Keira Knightley, Matthew...  2014      114     8.1   \n",
       "\n",
       "    Revenue  \n",
       "198   91.12  "
      ]
     },
     "execution_count": 20,
     "metadata": {},
     "output_type": "execute_result"
    }
   ],
   "source": [
    "df[df[\"Title\"] == \"The Imitation Game\" ]"
   ]
  },
  {
   "cell_type": "code",
   "execution_count": null,
   "metadata": {},
   "outputs": [],
   "source": []
  },
  {
   "cell_type": "code",
   "execution_count": 151,
   "metadata": {},
   "outputs": [
    {
     "data": {
      "text/plain": [
       "Index                                                       6\n",
       "Title                                              La La Land\n",
       "Genre                                      Comedy,Drama,Music\n",
       "Director                                      Damien Chazelle\n",
       "Cast        Ryan Gosling, Emma Stone, Rosemarie DeWitt, J....\n",
       "Year                                                     2016\n",
       "Runtime                                                   128\n",
       "Rating                                                    8.3\n",
       "Revenue                                               151.06M\n",
       "Name: 6, dtype: object"
      ]
     },
     "execution_count": 151,
     "metadata": {},
     "output_type": "execute_result"
    }
   ],
   "source": [
    "df.iloc[6]"
   ]
  },
  {
   "cell_type": "code",
   "execution_count": 152,
   "metadata": {},
   "outputs": [
    {
     "data": {
      "text/html": [
       "<div>\n",
       "<style scoped>\n",
       "    .dataframe tbody tr th:only-of-type {\n",
       "        vertical-align: middle;\n",
       "    }\n",
       "\n",
       "    .dataframe tbody tr th {\n",
       "        vertical-align: top;\n",
       "    }\n",
       "\n",
       "    .dataframe thead th {\n",
       "        text-align: right;\n",
       "    }\n",
       "</style>\n",
       "<table border=\"1\" class=\"dataframe\">\n",
       "  <thead>\n",
       "    <tr style=\"text-align: right;\">\n",
       "      <th></th>\n",
       "      <th>Index</th>\n",
       "      <th>Title</th>\n",
       "      <th>Genre</th>\n",
       "      <th>Director</th>\n",
       "      <th>Cast</th>\n",
       "      <th>Year</th>\n",
       "      <th>Runtime</th>\n",
       "      <th>Rating</th>\n",
       "      <th>Revenue</th>\n",
       "    </tr>\n",
       "  </thead>\n",
       "  <tbody>\n",
       "    <tr>\n",
       "      <th>0</th>\n",
       "      <td>0</td>\n",
       "      <td>Guardians of the Galaxy</td>\n",
       "      <td>Action,Adventure,Sci-Fi</td>\n",
       "      <td>James Gunn</td>\n",
       "      <td>Chris Pratt, Vin Diesel, Bradley Cooper, Zoe S...</td>\n",
       "      <td>2014</td>\n",
       "      <td>121</td>\n",
       "      <td>8.1</td>\n",
       "      <td>333.13</td>\n",
       "    </tr>\n",
       "    <tr>\n",
       "      <th>1</th>\n",
       "      <td>1</td>\n",
       "      <td>Prometheus</td>\n",
       "      <td>Adventure,Mystery,Sci-Fi</td>\n",
       "      <td>Ridley Scott</td>\n",
       "      <td>Noomi Rapace, Logan Marshall-Green, Michael   ...</td>\n",
       "      <td>2012</td>\n",
       "      <td>124</td>\n",
       "      <td>7.0</td>\n",
       "      <td>126.46M</td>\n",
       "    </tr>\n",
       "    <tr>\n",
       "      <th>2</th>\n",
       "      <td>2</td>\n",
       "      <td>Split</td>\n",
       "      <td>Horror,Thriller</td>\n",
       "      <td>M. Night Shyamalan</td>\n",
       "      <td>James McAvoy, Anya Taylor-Joy, Haley Lu Richar...</td>\n",
       "      <td>2016</td>\n",
       "      <td>117</td>\n",
       "      <td>7.3</td>\n",
       "      <td>138.12M</td>\n",
       "    </tr>\n",
       "    <tr>\n",
       "      <th>3</th>\n",
       "      <td>3</td>\n",
       "      <td>Sing</td>\n",
       "      <td>Animation,Comedy,Family</td>\n",
       "      <td>Christophe Lourdelet</td>\n",
       "      <td>Matthew McConaughey,Reese Witherspoon, Seth Ma...</td>\n",
       "      <td>2016</td>\n",
       "      <td>108</td>\n",
       "      <td>7.2</td>\n",
       "      <td>270.32</td>\n",
       "    </tr>\n",
       "    <tr>\n",
       "      <th>4</th>\n",
       "      <td>4</td>\n",
       "      <td>Suicide Squad</td>\n",
       "      <td>Action,Adventure,Fantasy</td>\n",
       "      <td>David Ayer</td>\n",
       "      <td>Will Smith, Jared Leto, Margot Robbie, Viola D...</td>\n",
       "      <td>2016</td>\n",
       "      <td>123</td>\n",
       "      <td>6.2</td>\n",
       "      <td>325.02</td>\n",
       "    </tr>\n",
       "    <tr>\n",
       "      <th>...</th>\n",
       "      <td>...</td>\n",
       "      <td>...</td>\n",
       "      <td>...</td>\n",
       "      <td>...</td>\n",
       "      <td>...</td>\n",
       "      <td>...</td>\n",
       "      <td>...</td>\n",
       "      <td>...</td>\n",
       "      <td>...</td>\n",
       "    </tr>\n",
       "    <tr>\n",
       "      <th>993</th>\n",
       "      <td>993</td>\n",
       "      <td>Secret in Their Eyes</td>\n",
       "      <td>Crime,Drama,Mystery</td>\n",
       "      <td>Billy Ray</td>\n",
       "      <td>Chiwetel Ejiofor, Nicole Kidman, Julia Roberts...</td>\n",
       "      <td>2015</td>\n",
       "      <td>111</td>\n",
       "      <td>6.2</td>\n",
       "      <td>0</td>\n",
       "    </tr>\n",
       "    <tr>\n",
       "      <th>994</th>\n",
       "      <td>994</td>\n",
       "      <td>Hostel: Part II</td>\n",
       "      <td>Horror</td>\n",
       "      <td>Eli Roth</td>\n",
       "      <td>Lauren German, Heather Matarazzo, Bijou Philli...</td>\n",
       "      <td>2007</td>\n",
       "      <td>94</td>\n",
       "      <td>5.5</td>\n",
       "      <td>17.54</td>\n",
       "    </tr>\n",
       "    <tr>\n",
       "      <th>995</th>\n",
       "      <td>995</td>\n",
       "      <td>Step Up 2: The Streets</td>\n",
       "      <td>Drama,Music,Romance</td>\n",
       "      <td>Jon M. Chu</td>\n",
       "      <td>Robert Hoffman, Briana Evigan, Cassie Ventura,...</td>\n",
       "      <td>2008</td>\n",
       "      <td>98</td>\n",
       "      <td>6.2</td>\n",
       "      <td>58.01</td>\n",
       "    </tr>\n",
       "    <tr>\n",
       "      <th>996</th>\n",
       "      <td>996</td>\n",
       "      <td>Search Party</td>\n",
       "      <td>Adventure,Comedy</td>\n",
       "      <td>Scot Armstrong</td>\n",
       "      <td>Adam Pally, T.J. Miller, Thomas Middleditch,Sh...</td>\n",
       "      <td>2014</td>\n",
       "      <td>93</td>\n",
       "      <td>5.6</td>\n",
       "      <td>0</td>\n",
       "    </tr>\n",
       "    <tr>\n",
       "      <th>997</th>\n",
       "      <td>997</td>\n",
       "      <td>Nine Lives</td>\n",
       "      <td>Comedy,Family,Fantasy</td>\n",
       "      <td>Barry Sonnenfeld</td>\n",
       "      <td>Kevin Spacey, Jennifer Garner, Robbie Amell,Ch...</td>\n",
       "      <td>2016</td>\n",
       "      <td>87</td>\n",
       "      <td>5.3</td>\n",
       "      <td>19.64</td>\n",
       "    </tr>\n",
       "  </tbody>\n",
       "</table>\n",
       "<p>998 rows × 9 columns</p>\n",
       "</div>"
      ],
      "text/plain": [
       "     Index                    Title                     Genre  \\\n",
       "0        0  Guardians of the Galaxy   Action,Adventure,Sci-Fi   \n",
       "1        1               Prometheus  Adventure,Mystery,Sci-Fi   \n",
       "2        2                    Split           Horror,Thriller   \n",
       "3        3                     Sing   Animation,Comedy,Family   \n",
       "4        4            Suicide Squad  Action,Adventure,Fantasy   \n",
       "..     ...                      ...                       ...   \n",
       "993    993     Secret in Their Eyes       Crime,Drama,Mystery   \n",
       "994    994          Hostel: Part II                    Horror   \n",
       "995    995   Step Up 2: The Streets       Drama,Music,Romance   \n",
       "996    996             Search Party          Adventure,Comedy   \n",
       "997    997               Nine Lives     Comedy,Family,Fantasy   \n",
       "\n",
       "                 Director                                               Cast  \\\n",
       "0              James Gunn  Chris Pratt, Vin Diesel, Bradley Cooper, Zoe S...   \n",
       "1            Ridley Scott  Noomi Rapace, Logan Marshall-Green, Michael   ...   \n",
       "2      M. Night Shyamalan  James McAvoy, Anya Taylor-Joy, Haley Lu Richar...   \n",
       "3    Christophe Lourdelet  Matthew McConaughey,Reese Witherspoon, Seth Ma...   \n",
       "4              David Ayer  Will Smith, Jared Leto, Margot Robbie, Viola D...   \n",
       "..                    ...                                                ...   \n",
       "993             Billy Ray  Chiwetel Ejiofor, Nicole Kidman, Julia Roberts...   \n",
       "994              Eli Roth  Lauren German, Heather Matarazzo, Bijou Philli...   \n",
       "995            Jon M. Chu  Robert Hoffman, Briana Evigan, Cassie Ventura,...   \n",
       "996        Scot Armstrong  Adam Pally, T.J. Miller, Thomas Middleditch,Sh...   \n",
       "997      Barry Sonnenfeld  Kevin Spacey, Jennifer Garner, Robbie Amell,Ch...   \n",
       "\n",
       "     Year  Runtime  Rating  Revenue  \n",
       "0    2014      121     8.1   333.13  \n",
       "1    2012      124     7.0  126.46M  \n",
       "2    2016      117     7.3  138.12M  \n",
       "3    2016      108     7.2   270.32  \n",
       "4    2016      123     6.2   325.02  \n",
       "..    ...      ...     ...      ...  \n",
       "993  2015      111     6.2        0  \n",
       "994  2007       94     5.5    17.54  \n",
       "995  2008       98     6.2    58.01  \n",
       "996  2014       93     5.6        0  \n",
       "997  2016       87     5.3    19.64  \n",
       "\n",
       "[998 rows x 9 columns]"
      ]
     },
     "execution_count": 152,
     "metadata": {},
     "output_type": "execute_result"
    }
   ],
   "source": [
    "df"
   ]
  },
  {
   "cell_type": "markdown",
   "metadata": {},
   "source": [
    "## Notice that there are two index columns\n",
    "- That happened because when you write a csv from pandas to a file, it writes a new index column\n",
    "- So if the dataFrame already contains an index, you are going to get two index columns\n",
    "- Let's fix that problem"
   ]
  },
  {
   "cell_type": "markdown",
   "metadata": {},
   "source": [
    "### How can you use slicing to get rid of the first column?"
   ]
  },
  {
   "cell_type": "code",
   "execution_count": 21,
   "metadata": {},
   "outputs": [
    {
     "data": {
      "text/html": [
       "<div>\n",
       "<style scoped>\n",
       "    .dataframe tbody tr th:only-of-type {\n",
       "        vertical-align: middle;\n",
       "    }\n",
       "\n",
       "    .dataframe tbody tr th {\n",
       "        vertical-align: top;\n",
       "    }\n",
       "\n",
       "    .dataframe thead th {\n",
       "        text-align: right;\n",
       "    }\n",
       "</style>\n",
       "<table border=\"1\" class=\"dataframe\">\n",
       "  <thead>\n",
       "    <tr style=\"text-align: right;\">\n",
       "      <th></th>\n",
       "      <th>Title</th>\n",
       "      <th>Genre</th>\n",
       "      <th>Director</th>\n",
       "      <th>Cast</th>\n",
       "      <th>Year</th>\n",
       "      <th>Runtime</th>\n",
       "      <th>Rating</th>\n",
       "      <th>Revenue</th>\n",
       "    </tr>\n",
       "  </thead>\n",
       "  <tbody>\n",
       "    <tr>\n",
       "      <th>0</th>\n",
       "      <td>Guardians of the Galaxy</td>\n",
       "      <td>Action,Adventure,Sci-Fi</td>\n",
       "      <td>James Gunn</td>\n",
       "      <td>Chris Pratt, Vin Diesel, Bradley Cooper, Zoe S...</td>\n",
       "      <td>2014</td>\n",
       "      <td>121</td>\n",
       "      <td>8.1</td>\n",
       "      <td>333.13</td>\n",
       "    </tr>\n",
       "    <tr>\n",
       "      <th>1</th>\n",
       "      <td>Prometheus</td>\n",
       "      <td>Adventure,Mystery,Sci-Fi</td>\n",
       "      <td>Ridley Scott</td>\n",
       "      <td>Noomi Rapace, Logan Marshall-Green, Michael   ...</td>\n",
       "      <td>2012</td>\n",
       "      <td>124</td>\n",
       "      <td>7.0</td>\n",
       "      <td>126.46M</td>\n",
       "    </tr>\n",
       "    <tr>\n",
       "      <th>2</th>\n",
       "      <td>Split</td>\n",
       "      <td>Horror,Thriller</td>\n",
       "      <td>M. Night Shyamalan</td>\n",
       "      <td>James McAvoy, Anya Taylor-Joy, Haley Lu Richar...</td>\n",
       "      <td>2016</td>\n",
       "      <td>117</td>\n",
       "      <td>7.3</td>\n",
       "      <td>138.12M</td>\n",
       "    </tr>\n",
       "    <tr>\n",
       "      <th>3</th>\n",
       "      <td>Sing</td>\n",
       "      <td>Animation,Comedy,Family</td>\n",
       "      <td>Christophe Lourdelet</td>\n",
       "      <td>Matthew McConaughey,Reese Witherspoon, Seth Ma...</td>\n",
       "      <td>2016</td>\n",
       "      <td>108</td>\n",
       "      <td>7.2</td>\n",
       "      <td>270.32</td>\n",
       "    </tr>\n",
       "    <tr>\n",
       "      <th>4</th>\n",
       "      <td>Suicide Squad</td>\n",
       "      <td>Action,Adventure,Fantasy</td>\n",
       "      <td>David Ayer</td>\n",
       "      <td>Will Smith, Jared Leto, Margot Robbie, Viola D...</td>\n",
       "      <td>2016</td>\n",
       "      <td>123</td>\n",
       "      <td>6.2</td>\n",
       "      <td>325.02</td>\n",
       "    </tr>\n",
       "    <tr>\n",
       "      <th>...</th>\n",
       "      <td>...</td>\n",
       "      <td>...</td>\n",
       "      <td>...</td>\n",
       "      <td>...</td>\n",
       "      <td>...</td>\n",
       "      <td>...</td>\n",
       "      <td>...</td>\n",
       "      <td>...</td>\n",
       "    </tr>\n",
       "    <tr>\n",
       "      <th>993</th>\n",
       "      <td>Secret in Their Eyes</td>\n",
       "      <td>Crime,Drama,Mystery</td>\n",
       "      <td>Billy Ray</td>\n",
       "      <td>Chiwetel Ejiofor, Nicole Kidman, Julia Roberts...</td>\n",
       "      <td>2015</td>\n",
       "      <td>111</td>\n",
       "      <td>6.2</td>\n",
       "      <td>0</td>\n",
       "    </tr>\n",
       "    <tr>\n",
       "      <th>994</th>\n",
       "      <td>Hostel: Part II</td>\n",
       "      <td>Horror</td>\n",
       "      <td>Eli Roth</td>\n",
       "      <td>Lauren German, Heather Matarazzo, Bijou Philli...</td>\n",
       "      <td>2007</td>\n",
       "      <td>94</td>\n",
       "      <td>5.5</td>\n",
       "      <td>17.54</td>\n",
       "    </tr>\n",
       "    <tr>\n",
       "      <th>995</th>\n",
       "      <td>Step Up 2: The Streets</td>\n",
       "      <td>Drama,Music,Romance</td>\n",
       "      <td>Jon M. Chu</td>\n",
       "      <td>Robert Hoffman, Briana Evigan, Cassie Ventura,...</td>\n",
       "      <td>2008</td>\n",
       "      <td>98</td>\n",
       "      <td>6.2</td>\n",
       "      <td>58.01</td>\n",
       "    </tr>\n",
       "    <tr>\n",
       "      <th>996</th>\n",
       "      <td>Search Party</td>\n",
       "      <td>Adventure,Comedy</td>\n",
       "      <td>Scot Armstrong</td>\n",
       "      <td>Adam Pally, T.J. Miller, Thomas Middleditch,Sh...</td>\n",
       "      <td>2014</td>\n",
       "      <td>93</td>\n",
       "      <td>5.6</td>\n",
       "      <td>0</td>\n",
       "    </tr>\n",
       "    <tr>\n",
       "      <th>997</th>\n",
       "      <td>Nine Lives</td>\n",
       "      <td>Comedy,Family,Fantasy</td>\n",
       "      <td>Barry Sonnenfeld</td>\n",
       "      <td>Kevin Spacey, Jennifer Garner, Robbie Amell,Ch...</td>\n",
       "      <td>2016</td>\n",
       "      <td>87</td>\n",
       "      <td>5.3</td>\n",
       "      <td>19.64</td>\n",
       "    </tr>\n",
       "  </tbody>\n",
       "</table>\n",
       "<p>998 rows × 8 columns</p>\n",
       "</div>"
      ],
      "text/plain": [
       "                       Title                     Genre              Director  \\\n",
       "0    Guardians of the Galaxy   Action,Adventure,Sci-Fi            James Gunn   \n",
       "1                 Prometheus  Adventure,Mystery,Sci-Fi          Ridley Scott   \n",
       "2                      Split           Horror,Thriller    M. Night Shyamalan   \n",
       "3                       Sing   Animation,Comedy,Family  Christophe Lourdelet   \n",
       "4              Suicide Squad  Action,Adventure,Fantasy            David Ayer   \n",
       "..                       ...                       ...                   ...   \n",
       "993     Secret in Their Eyes       Crime,Drama,Mystery             Billy Ray   \n",
       "994          Hostel: Part II                    Horror              Eli Roth   \n",
       "995   Step Up 2: The Streets       Drama,Music,Romance            Jon M. Chu   \n",
       "996             Search Party          Adventure,Comedy        Scot Armstrong   \n",
       "997               Nine Lives     Comedy,Family,Fantasy      Barry Sonnenfeld   \n",
       "\n",
       "                                                  Cast  Year  Runtime  Rating  \\\n",
       "0    Chris Pratt, Vin Diesel, Bradley Cooper, Zoe S...  2014      121     8.1   \n",
       "1    Noomi Rapace, Logan Marshall-Green, Michael   ...  2012      124     7.0   \n",
       "2    James McAvoy, Anya Taylor-Joy, Haley Lu Richar...  2016      117     7.3   \n",
       "3    Matthew McConaughey,Reese Witherspoon, Seth Ma...  2016      108     7.2   \n",
       "4    Will Smith, Jared Leto, Margot Robbie, Viola D...  2016      123     6.2   \n",
       "..                                                 ...   ...      ...     ...   \n",
       "993  Chiwetel Ejiofor, Nicole Kidman, Julia Roberts...  2015      111     6.2   \n",
       "994  Lauren German, Heather Matarazzo, Bijou Philli...  2007       94     5.5   \n",
       "995  Robert Hoffman, Briana Evigan, Cassie Ventura,...  2008       98     6.2   \n",
       "996  Adam Pally, T.J. Miller, Thomas Middleditch,Sh...  2014       93     5.6   \n",
       "997  Kevin Spacey, Jennifer Garner, Robbie Amell,Ch...  2016       87     5.3   \n",
       "\n",
       "     Revenue  \n",
       "0     333.13  \n",
       "1    126.46M  \n",
       "2    138.12M  \n",
       "3     270.32  \n",
       "4     325.02  \n",
       "..       ...  \n",
       "993        0  \n",
       "994    17.54  \n",
       "995    58.01  \n",
       "996        0  \n",
       "997    19.64  \n",
       "\n",
       "[998 rows x 8 columns]"
      ]
     },
     "execution_count": 21,
     "metadata": {},
     "output_type": "execute_result"
    }
   ],
   "source": [
    "df2 =  df.iloc[:, 1:] #all the rows, not column 0\n",
    "df2"
   ]
  },
  {
   "cell_type": "markdown",
   "metadata": {},
   "source": [
    "### Wrong way to write a df to a csv file"
   ]
  },
  {
   "cell_type": "code",
   "execution_count": 156,
   "metadata": {},
   "outputs": [],
   "source": [
    "df2.to_csv(\"wrong_movies.csv\")"
   ]
  },
  {
   "cell_type": "markdown",
   "metadata": {},
   "source": [
    "### Correct way to write a df to a csv file"
   ]
  },
  {
   "cell_type": "code",
   "execution_count": 157,
   "metadata": {},
   "outputs": [],
   "source": [
    "df2.to_csv(\"better_movies.csv\", index = False)"
   ]
  },
  {
   "cell_type": "markdown",
   "metadata": {},
   "source": [
    "## 5. Data Analysis with Data Frames\n"
   ]
  },
  {
   "cell_type": "code",
   "execution_count": 24,
   "metadata": {},
   "outputs": [
    {
     "data": {
      "text/html": [
       "<div>\n",
       "<style scoped>\n",
       "    .dataframe tbody tr th:only-of-type {\n",
       "        vertical-align: middle;\n",
       "    }\n",
       "\n",
       "    .dataframe tbody tr th {\n",
       "        vertical-align: top;\n",
       "    }\n",
       "\n",
       "    .dataframe thead th {\n",
       "        text-align: right;\n",
       "    }\n",
       "</style>\n",
       "<table border=\"1\" class=\"dataframe\">\n",
       "  <thead>\n",
       "    <tr style=\"text-align: right;\">\n",
       "      <th></th>\n",
       "      <th>Index</th>\n",
       "      <th>Title</th>\n",
       "      <th>Genre</th>\n",
       "      <th>Director</th>\n",
       "      <th>Cast</th>\n",
       "      <th>Year</th>\n",
       "      <th>Runtime</th>\n",
       "      <th>Rating</th>\n",
       "      <th>Revenue</th>\n",
       "    </tr>\n",
       "  </thead>\n",
       "  <tbody>\n",
       "    <tr>\n",
       "      <th>0</th>\n",
       "      <td>0</td>\n",
       "      <td>Guardians of the Galaxy</td>\n",
       "      <td>Action,Adventure,Sci-Fi</td>\n",
       "      <td>James Gunn</td>\n",
       "      <td>Chris Pratt, Vin Diesel, Bradley Cooper, Zoe S...</td>\n",
       "      <td>2014</td>\n",
       "      <td>121</td>\n",
       "      <td>8.1</td>\n",
       "      <td>333.13</td>\n",
       "    </tr>\n",
       "    <tr>\n",
       "      <th>1</th>\n",
       "      <td>1</td>\n",
       "      <td>Prometheus</td>\n",
       "      <td>Adventure,Mystery,Sci-Fi</td>\n",
       "      <td>Ridley Scott</td>\n",
       "      <td>Noomi Rapace, Logan Marshall-Green, Michael   ...</td>\n",
       "      <td>2012</td>\n",
       "      <td>124</td>\n",
       "      <td>7.0</td>\n",
       "      <td>126.46M</td>\n",
       "    </tr>\n",
       "    <tr>\n",
       "      <th>2</th>\n",
       "      <td>2</td>\n",
       "      <td>Split</td>\n",
       "      <td>Horror,Thriller</td>\n",
       "      <td>M. Night Shyamalan</td>\n",
       "      <td>James McAvoy, Anya Taylor-Joy, Haley Lu Richar...</td>\n",
       "      <td>2016</td>\n",
       "      <td>117</td>\n",
       "      <td>7.3</td>\n",
       "      <td>138.12M</td>\n",
       "    </tr>\n",
       "    <tr>\n",
       "      <th>4</th>\n",
       "      <td>4</td>\n",
       "      <td>Suicide Squad</td>\n",
       "      <td>Action,Adventure,Fantasy</td>\n",
       "      <td>David Ayer</td>\n",
       "      <td>Will Smith, Jared Leto, Margot Robbie, Viola D...</td>\n",
       "      <td>2016</td>\n",
       "      <td>123</td>\n",
       "      <td>6.2</td>\n",
       "      <td>325.02</td>\n",
       "    </tr>\n",
       "    <tr>\n",
       "      <th>6</th>\n",
       "      <td>6</td>\n",
       "      <td>La La Land</td>\n",
       "      <td>Comedy,Drama,Music</td>\n",
       "      <td>Damien Chazelle</td>\n",
       "      <td>Ryan Gosling, Emma Stone, Rosemarie DeWitt, J....</td>\n",
       "      <td>2016</td>\n",
       "      <td>128</td>\n",
       "      <td>8.3</td>\n",
       "      <td>151.06M</td>\n",
       "    </tr>\n",
       "    <tr>\n",
       "      <th>8</th>\n",
       "      <td>8</td>\n",
       "      <td>The Lost City of Z</td>\n",
       "      <td>Action,Adventure,Biography</td>\n",
       "      <td>James Gray</td>\n",
       "      <td>Charlie Hunnam, Robert Pattinson, Sienna Mille...</td>\n",
       "      <td>2016</td>\n",
       "      <td>141</td>\n",
       "      <td>7.1</td>\n",
       "      <td>8.01</td>\n",
       "    </tr>\n",
       "    <tr>\n",
       "      <th>9</th>\n",
       "      <td>9</td>\n",
       "      <td>Passengers</td>\n",
       "      <td>Adventure,Drama,Romance</td>\n",
       "      <td>Morten Tyldum</td>\n",
       "      <td>Jennifer Lawrence, Chris Pratt, Michael Sheen,...</td>\n",
       "      <td>2016</td>\n",
       "      <td>116</td>\n",
       "      <td>7.0</td>\n",
       "      <td>100.01M</td>\n",
       "    </tr>\n",
       "    <tr>\n",
       "      <th>10</th>\n",
       "      <td>10</td>\n",
       "      <td>Fantastic Beasts and Where to Find Them</td>\n",
       "      <td>Adventure,Family,Fantasy</td>\n",
       "      <td>David Yates</td>\n",
       "      <td>Eddie Redmayne, Katherine Waterston, Alison Su...</td>\n",
       "      <td>2016</td>\n",
       "      <td>133</td>\n",
       "      <td>7.5</td>\n",
       "      <td>234.02</td>\n",
       "    </tr>\n",
       "    <tr>\n",
       "      <th>11</th>\n",
       "      <td>11</td>\n",
       "      <td>Hidden Figures</td>\n",
       "      <td>Biography,Drama,History</td>\n",
       "      <td>Theodore Melfi</td>\n",
       "      <td>Taraji P. Henson, Octavia Spencer, Janelle Mon...</td>\n",
       "      <td>2016</td>\n",
       "      <td>127</td>\n",
       "      <td>7.8</td>\n",
       "      <td>169.27M</td>\n",
       "    </tr>\n",
       "    <tr>\n",
       "      <th>12</th>\n",
       "      <td>12</td>\n",
       "      <td>Rogue One</td>\n",
       "      <td>Action,Adventure,Sci-Fi</td>\n",
       "      <td>Gareth Edwards</td>\n",
       "      <td>Felicity Jones, Diego Luna, Alan Tudyk, Donnie...</td>\n",
       "      <td>2016</td>\n",
       "      <td>133</td>\n",
       "      <td>7.9</td>\n",
       "      <td>532.17</td>\n",
       "    </tr>\n",
       "  </tbody>\n",
       "</table>\n",
       "</div>"
      ],
      "text/plain": [
       "    Index                                    Title  \\\n",
       "0       0                  Guardians of the Galaxy   \n",
       "1       1                               Prometheus   \n",
       "2       2                                    Split   \n",
       "4       4                            Suicide Squad   \n",
       "6       6                               La La Land   \n",
       "8       8                       The Lost City of Z   \n",
       "9       9                               Passengers   \n",
       "10     10  Fantastic Beasts and Where to Find Them   \n",
       "11     11                           Hidden Figures   \n",
       "12     12                                Rogue One   \n",
       "\n",
       "                         Genre            Director  \\\n",
       "0      Action,Adventure,Sci-Fi          James Gunn   \n",
       "1     Adventure,Mystery,Sci-Fi        Ridley Scott   \n",
       "2              Horror,Thriller  M. Night Shyamalan   \n",
       "4     Action,Adventure,Fantasy          David Ayer   \n",
       "6           Comedy,Drama,Music     Damien Chazelle   \n",
       "8   Action,Adventure,Biography          James Gray   \n",
       "9      Adventure,Drama,Romance       Morten Tyldum   \n",
       "10    Adventure,Family,Fantasy         David Yates   \n",
       "11     Biography,Drama,History      Theodore Melfi   \n",
       "12     Action,Adventure,Sci-Fi      Gareth Edwards   \n",
       "\n",
       "                                                 Cast  Year  Runtime  Rating  \\\n",
       "0   Chris Pratt, Vin Diesel, Bradley Cooper, Zoe S...  2014      121     8.1   \n",
       "1   Noomi Rapace, Logan Marshall-Green, Michael   ...  2012      124     7.0   \n",
       "2   James McAvoy, Anya Taylor-Joy, Haley Lu Richar...  2016      117     7.3   \n",
       "4   Will Smith, Jared Leto, Margot Robbie, Viola D...  2016      123     6.2   \n",
       "6   Ryan Gosling, Emma Stone, Rosemarie DeWitt, J....  2016      128     8.3   \n",
       "8   Charlie Hunnam, Robert Pattinson, Sienna Mille...  2016      141     7.1   \n",
       "9   Jennifer Lawrence, Chris Pratt, Michael Sheen,...  2016      116     7.0   \n",
       "10  Eddie Redmayne, Katherine Waterston, Alison Su...  2016      133     7.5   \n",
       "11  Taraji P. Henson, Octavia Spencer, Janelle Mon...  2016      127     7.8   \n",
       "12  Felicity Jones, Diego Luna, Alan Tudyk, Donnie...  2016      133     7.9   \n",
       "\n",
       "    Revenue  \n",
       "0    333.13  \n",
       "1   126.46M  \n",
       "2   138.12M  \n",
       "4    325.02  \n",
       "6   151.06M  \n",
       "8      8.01  \n",
       "9   100.01M  \n",
       "10   234.02  \n",
       "11  169.27M  \n",
       "12   532.17  "
      ]
     },
     "execution_count": 24,
     "metadata": {},
     "output_type": "execute_result"
    }
   ],
   "source": [
    "##What is the highest rated movie that had an above average runtime?\n",
    "long_movies = df[df[\"Runtime\"] > df[\"Runtime\"].mean() ]\n",
    "long_movies.head(10)\n"
   ]
  },
  {
   "cell_type": "code",
   "execution_count": 25,
   "metadata": {},
   "outputs": [
    {
     "data": {
      "text/plain": [
       "9.0"
      ]
     },
     "execution_count": 25,
     "metadata": {},
     "output_type": "execute_result"
    }
   ],
   "source": [
    "highest_rating = long_movies[\"Rating\"].max()\n",
    "highest_rating"
   ]
  },
  {
   "cell_type": "code",
   "execution_count": 164,
   "metadata": {},
   "outputs": [
    {
     "data": {
      "text/html": [
       "<div>\n",
       "<style scoped>\n",
       "    .dataframe tbody tr th:only-of-type {\n",
       "        vertical-align: middle;\n",
       "    }\n",
       "\n",
       "    .dataframe tbody tr th {\n",
       "        vertical-align: top;\n",
       "    }\n",
       "\n",
       "    .dataframe thead th {\n",
       "        text-align: right;\n",
       "    }\n",
       "</style>\n",
       "<table border=\"1\" class=\"dataframe\">\n",
       "  <thead>\n",
       "    <tr style=\"text-align: right;\">\n",
       "      <th></th>\n",
       "      <th>Title</th>\n",
       "      <th>Genre</th>\n",
       "      <th>Director</th>\n",
       "      <th>Cast</th>\n",
       "      <th>Year</th>\n",
       "      <th>Runtime</th>\n",
       "      <th>Rating</th>\n",
       "      <th>Revenue</th>\n",
       "    </tr>\n",
       "  </thead>\n",
       "  <tbody>\n",
       "    <tr>\n",
       "      <th>54</th>\n",
       "      <td>The Dark Knight</td>\n",
       "      <td>Action,Crime,Drama</td>\n",
       "      <td>Christopher Nolan</td>\n",
       "      <td>Christian Bale, Heath Ledger, Aaron Eckhart,Mi...</td>\n",
       "      <td>2008</td>\n",
       "      <td>152</td>\n",
       "      <td>9.0</td>\n",
       "      <td>533.32</td>\n",
       "    </tr>\n",
       "  </tbody>\n",
       "</table>\n",
       "</div>"
      ],
      "text/plain": [
       "              Title               Genre           Director  \\\n",
       "54  The Dark Knight  Action,Crime,Drama  Christopher Nolan   \n",
       "\n",
       "                                                 Cast  Year  Runtime  Rating  \\\n",
       "54  Christian Bale, Heath Ledger, Aaron Eckhart,Mi...  2008      152     9.0   \n",
       "\n",
       "   Revenue  \n",
       "54  533.32  "
      ]
     },
     "execution_count": 164,
     "metadata": {},
     "output_type": "execute_result"
    }
   ],
   "source": [
    "long_movies[long_movies[\"Rating\"] == highest_rating]"
   ]
  },
  {
   "cell_type": "code",
   "execution_count": 165,
   "metadata": {},
   "outputs": [
    {
     "data": {
      "text/plain": [
       "'Christian Bale, Heath Ledger, Aaron Eckhart,Michael Caine'"
      ]
     },
     "execution_count": 165,
     "metadata": {},
     "output_type": "execute_result"
    }
   ],
   "source": [
    "long_movies.loc[54, \"Cast\"]"
   ]
  },
  {
   "cell_type": "code",
   "execution_count": 168,
   "metadata": {},
   "outputs": [
    {
     "data": {
      "text/html": [
       "<div>\n",
       "<style scoped>\n",
       "    .dataframe tbody tr th:only-of-type {\n",
       "        vertical-align: middle;\n",
       "    }\n",
       "\n",
       "    .dataframe tbody tr th {\n",
       "        vertical-align: top;\n",
       "    }\n",
       "\n",
       "    .dataframe thead th {\n",
       "        text-align: right;\n",
       "    }\n",
       "</style>\n",
       "<table border=\"1\" class=\"dataframe\">\n",
       "  <thead>\n",
       "    <tr style=\"text-align: right;\">\n",
       "      <th></th>\n",
       "      <th>Title</th>\n",
       "      <th>Genre</th>\n",
       "      <th>Director</th>\n",
       "      <th>Cast</th>\n",
       "      <th>Year</th>\n",
       "      <th>Runtime</th>\n",
       "      <th>Rating</th>\n",
       "      <th>Revenue</th>\n",
       "    </tr>\n",
       "  </thead>\n",
       "  <tbody>\n",
       "    <tr>\n",
       "      <th>6</th>\n",
       "      <td>La La Land</td>\n",
       "      <td>Comedy,Drama,Music</td>\n",
       "      <td>Damien Chazelle</td>\n",
       "      <td>Ryan Gosling, Emma Stone, Rosemarie DeWitt, J....</td>\n",
       "      <td>2016</td>\n",
       "      <td>128</td>\n",
       "      <td>8.3</td>\n",
       "      <td>151.06M</td>\n",
       "    </tr>\n",
       "    <tr>\n",
       "      <th>92</th>\n",
       "      <td>The Help</td>\n",
       "      <td>Drama</td>\n",
       "      <td>Tate Taylor</td>\n",
       "      <td>Emma Stone, Viola Davis, Octavia Spencer, Bryc...</td>\n",
       "      <td>2011</td>\n",
       "      <td>146</td>\n",
       "      <td>8.1</td>\n",
       "      <td>169.71M</td>\n",
       "    </tr>\n",
       "    <tr>\n",
       "      <th>114</th>\n",
       "      <td>Harry Potter and the Deathly Hallows: Part 2</td>\n",
       "      <td>Adventure,Drama,Fantasy</td>\n",
       "      <td>David Yates</td>\n",
       "      <td>Daniel Radcliffe, Emma Watson, Rupert Grint, M...</td>\n",
       "      <td>2011</td>\n",
       "      <td>130</td>\n",
       "      <td>8.1</td>\n",
       "      <td>380.96</td>\n",
       "    </tr>\n",
       "    <tr>\n",
       "      <th>157</th>\n",
       "      <td>Crazy, Stupid, Love.</td>\n",
       "      <td>Comedy,Drama,Romance</td>\n",
       "      <td>Glenn Ficarra</td>\n",
       "      <td>Steve Carell, Ryan Gosling, Julianne Moore, Em...</td>\n",
       "      <td>2011</td>\n",
       "      <td>118</td>\n",
       "      <td>7.4</td>\n",
       "      <td>84.24</td>\n",
       "    </tr>\n",
       "    <tr>\n",
       "      <th>253</th>\n",
       "      <td>The Amazing Spider-Man 2</td>\n",
       "      <td>Action,Adventure,Sci-Fi</td>\n",
       "      <td>Marc Webb</td>\n",
       "      <td>Andrew Garfield, Emma Stone, Jamie Foxx, Paul ...</td>\n",
       "      <td>2014</td>\n",
       "      <td>142</td>\n",
       "      <td>6.7</td>\n",
       "      <td>202.85</td>\n",
       "    </tr>\n",
       "    <tr>\n",
       "      <th>314</th>\n",
       "      <td>Harry Potter and the Order of the Phoenix</td>\n",
       "      <td>Adventure,Family,Fantasy</td>\n",
       "      <td>David Yates</td>\n",
       "      <td>Daniel Radcliffe, Emma Watson, Rupert Grint, B...</td>\n",
       "      <td>2007</td>\n",
       "      <td>138</td>\n",
       "      <td>7.5</td>\n",
       "      <td>292</td>\n",
       "    </tr>\n",
       "    <tr>\n",
       "      <th>367</th>\n",
       "      <td>The Amazing Spider-Man</td>\n",
       "      <td>Action,Adventure</td>\n",
       "      <td>Marc Webb</td>\n",
       "      <td>Andrew Garfield, Emma Stone, Rhys Ifans, Irrfa...</td>\n",
       "      <td>2012</td>\n",
       "      <td>136</td>\n",
       "      <td>7.0</td>\n",
       "      <td>262.03</td>\n",
       "    </tr>\n",
       "    <tr>\n",
       "      <th>417</th>\n",
       "      <td>Harry Potter and the Deathly Hallows: Part 1</td>\n",
       "      <td>Adventure,Family,Fantasy</td>\n",
       "      <td>David Yates</td>\n",
       "      <td>Daniel Radcliffe, Emma Watson, Rupert Grint, B...</td>\n",
       "      <td>2010</td>\n",
       "      <td>146</td>\n",
       "      <td>7.7</td>\n",
       "      <td>294.98</td>\n",
       "    </tr>\n",
       "    <tr>\n",
       "      <th>472</th>\n",
       "      <td>Harry Potter and the Half-Blood Prince</td>\n",
       "      <td>Adventure,Family,Fantasy</td>\n",
       "      <td>David Yates</td>\n",
       "      <td>Daniel Radcliffe, Emma Watson, Rupert Grint, M...</td>\n",
       "      <td>2009</td>\n",
       "      <td>153</td>\n",
       "      <td>7.5</td>\n",
       "      <td>301.96</td>\n",
       "    </tr>\n",
       "    <tr>\n",
       "      <th>609</th>\n",
       "      <td>Beautiful Creatures</td>\n",
       "      <td>Drama,Fantasy,Romance</td>\n",
       "      <td>Richard LaGravenese</td>\n",
       "      <td>Alice Englert, Viola Davis, Emma Thompson,Alde...</td>\n",
       "      <td>2013</td>\n",
       "      <td>124</td>\n",
       "      <td>6.2</td>\n",
       "      <td>19.45</td>\n",
       "    </tr>\n",
       "    <tr>\n",
       "      <th>717</th>\n",
       "      <td>Noah</td>\n",
       "      <td>Action,Adventure,Drama</td>\n",
       "      <td>Darren Aronofsky</td>\n",
       "      <td>Russell Crowe, Jennifer Connelly, Anthony Hopk...</td>\n",
       "      <td>2014</td>\n",
       "      <td>138</td>\n",
       "      <td>5.8</td>\n",
       "      <td>101.16M</td>\n",
       "    </tr>\n",
       "    <tr>\n",
       "      <th>879</th>\n",
       "      <td>Saving Mr. Banks</td>\n",
       "      <td>Biography,Comedy,Drama</td>\n",
       "      <td>John Lee Hancock</td>\n",
       "      <td>Emma Thompson, Tom Hanks, Annie Rose Buckley, ...</td>\n",
       "      <td>2013</td>\n",
       "      <td>125</td>\n",
       "      <td>7.5</td>\n",
       "      <td>83.3</td>\n",
       "    </tr>\n",
       "  </tbody>\n",
       "</table>\n",
       "</div>"
      ],
      "text/plain": [
       "                                            Title                     Genre  \\\n",
       "6                                      La La Land        Comedy,Drama,Music   \n",
       "92                                       The Help                     Drama   \n",
       "114  Harry Potter and the Deathly Hallows: Part 2   Adventure,Drama,Fantasy   \n",
       "157                          Crazy, Stupid, Love.      Comedy,Drama,Romance   \n",
       "253                      The Amazing Spider-Man 2   Action,Adventure,Sci-Fi   \n",
       "314     Harry Potter and the Order of the Phoenix  Adventure,Family,Fantasy   \n",
       "367                        The Amazing Spider-Man          Action,Adventure   \n",
       "417  Harry Potter and the Deathly Hallows: Part 1  Adventure,Family,Fantasy   \n",
       "472        Harry Potter and the Half-Blood Prince  Adventure,Family,Fantasy   \n",
       "609                           Beautiful Creatures     Drama,Fantasy,Romance   \n",
       "717                                          Noah    Action,Adventure,Drama   \n",
       "879                              Saving Mr. Banks    Biography,Comedy,Drama   \n",
       "\n",
       "                Director                                               Cast  \\\n",
       "6        Damien Chazelle  Ryan Gosling, Emma Stone, Rosemarie DeWitt, J....   \n",
       "92           Tate Taylor  Emma Stone, Viola Davis, Octavia Spencer, Bryc...   \n",
       "114          David Yates  Daniel Radcliffe, Emma Watson, Rupert Grint, M...   \n",
       "157        Glenn Ficarra  Steve Carell, Ryan Gosling, Julianne Moore, Em...   \n",
       "253            Marc Webb  Andrew Garfield, Emma Stone, Jamie Foxx, Paul ...   \n",
       "314          David Yates  Daniel Radcliffe, Emma Watson, Rupert Grint, B...   \n",
       "367            Marc Webb  Andrew Garfield, Emma Stone, Rhys Ifans, Irrfa...   \n",
       "417          David Yates  Daniel Radcliffe, Emma Watson, Rupert Grint, B...   \n",
       "472          David Yates  Daniel Radcliffe, Emma Watson, Rupert Grint, M...   \n",
       "609  Richard LaGravenese  Alice Englert, Viola Davis, Emma Thompson,Alde...   \n",
       "717     Darren Aronofsky  Russell Crowe, Jennifer Connelly, Anthony Hopk...   \n",
       "879     John Lee Hancock  Emma Thompson, Tom Hanks, Annie Rose Buckley, ...   \n",
       "\n",
       "     Year  Runtime  Rating  Revenue  \n",
       "6    2016      128     8.3  151.06M  \n",
       "92   2011      146     8.1  169.71M  \n",
       "114  2011      130     8.1   380.96  \n",
       "157  2011      118     7.4    84.24  \n",
       "253  2014      142     6.7   202.85  \n",
       "314  2007      138     7.5      292  \n",
       "367  2012      136     7.0   262.03  \n",
       "417  2010      146     7.7   294.98  \n",
       "472  2009      153     7.5   301.96  \n",
       "609  2013      124     6.2    19.45  \n",
       "717  2014      138     5.8  101.16M  \n",
       "879  2013      125     7.5     83.3  "
      ]
     },
     "execution_count": 168,
     "metadata": {},
     "output_type": "execute_result"
    }
   ],
   "source": [
    "long_movies[long_movies[\"Cast\"].str.contains(\"Emma\")]"
   ]
  },
  {
   "cell_type": "code",
   "execution_count": 169,
   "metadata": {},
   "outputs": [
    {
     "data": {
      "text/html": [
       "<div>\n",
       "<style scoped>\n",
       "    .dataframe tbody tr th:only-of-type {\n",
       "        vertical-align: middle;\n",
       "    }\n",
       "\n",
       "    .dataframe tbody tr th {\n",
       "        vertical-align: top;\n",
       "    }\n",
       "\n",
       "    .dataframe thead th {\n",
       "        text-align: right;\n",
       "    }\n",
       "</style>\n",
       "<table border=\"1\" class=\"dataframe\">\n",
       "  <thead>\n",
       "    <tr style=\"text-align: right;\">\n",
       "      <th></th>\n",
       "      <th>Title</th>\n",
       "      <th>Genre</th>\n",
       "      <th>Director</th>\n",
       "      <th>Cast</th>\n",
       "      <th>Year</th>\n",
       "      <th>Runtime</th>\n",
       "      <th>Rating</th>\n",
       "      <th>Revenue</th>\n",
       "    </tr>\n",
       "  </thead>\n",
       "  <tbody>\n",
       "    <tr>\n",
       "      <th>151</th>\n",
       "      <td>The Hunger Games</td>\n",
       "      <td>Adventure,Sci-Fi,Thriller</td>\n",
       "      <td>Gary Ross</td>\n",
       "      <td>Jennifer Lawrence, Josh Hutcherson, Liam Hemsw...</td>\n",
       "      <td>2012</td>\n",
       "      <td>142</td>\n",
       "      <td>7.2</td>\n",
       "      <td>408</td>\n",
       "    </tr>\n",
       "    <tr>\n",
       "      <th>407</th>\n",
       "      <td>The Hunger Games: Mockingjay - Part 2</td>\n",
       "      <td>Action,Adventure,Sci-Fi</td>\n",
       "      <td>Francis Lawrence</td>\n",
       "      <td>Jennifer Lawrence, Josh Hutcherson, Liam Hemsw...</td>\n",
       "      <td>2015</td>\n",
       "      <td>137</td>\n",
       "      <td>6.6</td>\n",
       "      <td>281.67</td>\n",
       "    </tr>\n",
       "    <tr>\n",
       "      <th>577</th>\n",
       "      <td>The Hunger Games: Catching Fire</td>\n",
       "      <td>Action,Adventure,Mystery</td>\n",
       "      <td>Francis Lawrence</td>\n",
       "      <td>Jennifer Lawrence, Josh Hutcherson, Liam Hemsw...</td>\n",
       "      <td>2013</td>\n",
       "      <td>146</td>\n",
       "      <td>7.6</td>\n",
       "      <td>424.65</td>\n",
       "    </tr>\n",
       "    <tr>\n",
       "      <th>679</th>\n",
       "      <td>The Hunger Games: Mockingjay - Part 1</td>\n",
       "      <td>Action,Adventure,Sci-Fi</td>\n",
       "      <td>Francis Lawrence</td>\n",
       "      <td>Jennifer Lawrence, Josh Hutcherson, Liam Hemsw...</td>\n",
       "      <td>2014</td>\n",
       "      <td>123</td>\n",
       "      <td>6.7</td>\n",
       "      <td>337.1</td>\n",
       "    </tr>\n",
       "  </tbody>\n",
       "</table>\n",
       "</div>"
      ],
      "text/plain": [
       "                                     Title                      Genre  \\\n",
       "151                       The Hunger Games  Adventure,Sci-Fi,Thriller   \n",
       "407  The Hunger Games: Mockingjay - Part 2    Action,Adventure,Sci-Fi   \n",
       "577        The Hunger Games: Catching Fire   Action,Adventure,Mystery   \n",
       "679  The Hunger Games: Mockingjay - Part 1    Action,Adventure,Sci-Fi   \n",
       "\n",
       "             Director                                               Cast  \\\n",
       "151         Gary Ross  Jennifer Lawrence, Josh Hutcherson, Liam Hemsw...   \n",
       "407  Francis Lawrence  Jennifer Lawrence, Josh Hutcherson, Liam Hemsw...   \n",
       "577  Francis Lawrence  Jennifer Lawrence, Josh Hutcherson, Liam Hemsw...   \n",
       "679  Francis Lawrence  Jennifer Lawrence, Josh Hutcherson, Liam Hemsw...   \n",
       "\n",
       "     Year  Runtime  Rating Revenue  \n",
       "151  2012      142     7.2     408  \n",
       "407  2015      137     6.6  281.67  \n",
       "577  2013      146     7.6  424.65  \n",
       "679  2014      123     6.7   337.1  "
      ]
     },
     "execution_count": 169,
     "metadata": {},
     "output_type": "execute_result"
    }
   ],
   "source": [
    "long_movies[long_movies[\"Title\"].str.contains(\"Hunger\")]"
   ]
  },
  {
   "cell_type": "code",
   "execution_count": 27,
   "metadata": {},
   "outputs": [
    {
     "data": {
      "text/html": [
       "<div>\n",
       "<style scoped>\n",
       "    .dataframe tbody tr th:only-of-type {\n",
       "        vertical-align: middle;\n",
       "    }\n",
       "\n",
       "    .dataframe tbody tr th {\n",
       "        vertical-align: top;\n",
       "    }\n",
       "\n",
       "    .dataframe thead th {\n",
       "        text-align: right;\n",
       "    }\n",
       "</style>\n",
       "<table border=\"1\" class=\"dataframe\">\n",
       "  <thead>\n",
       "    <tr style=\"text-align: right;\">\n",
       "      <th></th>\n",
       "      <th>Index</th>\n",
       "      <th>Title</th>\n",
       "      <th>Genre</th>\n",
       "      <th>Director</th>\n",
       "      <th>Cast</th>\n",
       "      <th>Year</th>\n",
       "      <th>Runtime</th>\n",
       "      <th>Rating</th>\n",
       "      <th>Revenue</th>\n",
       "    </tr>\n",
       "  </thead>\n",
       "  <tbody>\n",
       "    <tr>\n",
       "      <th>3</th>\n",
       "      <td>3</td>\n",
       "      <td>Sing</td>\n",
       "      <td>Animation,Comedy,Family</td>\n",
       "      <td>Christophe Lourdelet</td>\n",
       "      <td>Matthew McConaughey,Reese Witherspoon, Seth Ma...</td>\n",
       "      <td>2016</td>\n",
       "      <td>108</td>\n",
       "      <td>7.2</td>\n",
       "      <td>270.32</td>\n",
       "    </tr>\n",
       "    <tr>\n",
       "      <th>5</th>\n",
       "      <td>5</td>\n",
       "      <td>The Great Wall</td>\n",
       "      <td>Action,Adventure,Fantasy</td>\n",
       "      <td>Yimou Zhang</td>\n",
       "      <td>Matt Damon, Tian Jing, Willem Dafoe, Andy Lau</td>\n",
       "      <td>2016</td>\n",
       "      <td>103</td>\n",
       "      <td>6.1</td>\n",
       "      <td>45.13</td>\n",
       "    </tr>\n",
       "    <tr>\n",
       "      <th>7</th>\n",
       "      <td>7</td>\n",
       "      <td>Mindhorn</td>\n",
       "      <td>Comedy</td>\n",
       "      <td>Sean Foley</td>\n",
       "      <td>Essie Davis, Andrea Riseborough, Julian Barrat...</td>\n",
       "      <td>2016</td>\n",
       "      <td>89</td>\n",
       "      <td>6.4</td>\n",
       "      <td>0</td>\n",
       "    </tr>\n",
       "    <tr>\n",
       "      <th>13</th>\n",
       "      <td>13</td>\n",
       "      <td>Moana</td>\n",
       "      <td>Animation,Adventure,Comedy</td>\n",
       "      <td>Ron Clements</td>\n",
       "      <td>Auli'i Cravalho, Dwayne Johnson, Rachel House,...</td>\n",
       "      <td>2016</td>\n",
       "      <td>107</td>\n",
       "      <td>7.7</td>\n",
       "      <td>248.75</td>\n",
       "    </tr>\n",
       "    <tr>\n",
       "      <th>14</th>\n",
       "      <td>14</td>\n",
       "      <td>Colossal</td>\n",
       "      <td>Action,Comedy,Drama</td>\n",
       "      <td>Nacho Vigalondo</td>\n",
       "      <td>Anne Hathaway, Jason Sudeikis, Austin Stowell,...</td>\n",
       "      <td>2016</td>\n",
       "      <td>109</td>\n",
       "      <td>6.4</td>\n",
       "      <td>2.87</td>\n",
       "    </tr>\n",
       "    <tr>\n",
       "      <th>...</th>\n",
       "      <td>...</td>\n",
       "      <td>...</td>\n",
       "      <td>...</td>\n",
       "      <td>...</td>\n",
       "      <td>...</td>\n",
       "      <td>...</td>\n",
       "      <td>...</td>\n",
       "      <td>...</td>\n",
       "      <td>...</td>\n",
       "    </tr>\n",
       "    <tr>\n",
       "      <th>993</th>\n",
       "      <td>993</td>\n",
       "      <td>Secret in Their Eyes</td>\n",
       "      <td>Crime,Drama,Mystery</td>\n",
       "      <td>Billy Ray</td>\n",
       "      <td>Chiwetel Ejiofor, Nicole Kidman, Julia Roberts...</td>\n",
       "      <td>2015</td>\n",
       "      <td>111</td>\n",
       "      <td>6.2</td>\n",
       "      <td>0</td>\n",
       "    </tr>\n",
       "    <tr>\n",
       "      <th>994</th>\n",
       "      <td>994</td>\n",
       "      <td>Hostel: Part II</td>\n",
       "      <td>Horror</td>\n",
       "      <td>Eli Roth</td>\n",
       "      <td>Lauren German, Heather Matarazzo, Bijou Philli...</td>\n",
       "      <td>2007</td>\n",
       "      <td>94</td>\n",
       "      <td>5.5</td>\n",
       "      <td>17.54</td>\n",
       "    </tr>\n",
       "    <tr>\n",
       "      <th>995</th>\n",
       "      <td>995</td>\n",
       "      <td>Step Up 2: The Streets</td>\n",
       "      <td>Drama,Music,Romance</td>\n",
       "      <td>Jon M. Chu</td>\n",
       "      <td>Robert Hoffman, Briana Evigan, Cassie Ventura,...</td>\n",
       "      <td>2008</td>\n",
       "      <td>98</td>\n",
       "      <td>6.2</td>\n",
       "      <td>58.01</td>\n",
       "    </tr>\n",
       "    <tr>\n",
       "      <th>996</th>\n",
       "      <td>996</td>\n",
       "      <td>Search Party</td>\n",
       "      <td>Adventure,Comedy</td>\n",
       "      <td>Scot Armstrong</td>\n",
       "      <td>Adam Pally, T.J. Miller, Thomas Middleditch,Sh...</td>\n",
       "      <td>2014</td>\n",
       "      <td>93</td>\n",
       "      <td>5.6</td>\n",
       "      <td>0</td>\n",
       "    </tr>\n",
       "    <tr>\n",
       "      <th>997</th>\n",
       "      <td>997</td>\n",
       "      <td>Nine Lives</td>\n",
       "      <td>Comedy,Family,Fantasy</td>\n",
       "      <td>Barry Sonnenfeld</td>\n",
       "      <td>Kevin Spacey, Jennifer Garner, Robbie Amell,Ch...</td>\n",
       "      <td>2016</td>\n",
       "      <td>87</td>\n",
       "      <td>5.3</td>\n",
       "      <td>19.64</td>\n",
       "    </tr>\n",
       "  </tbody>\n",
       "</table>\n",
       "<p>566 rows × 9 columns</p>\n",
       "</div>"
      ],
      "text/plain": [
       "     Index                   Title                       Genre  \\\n",
       "3        3                    Sing     Animation,Comedy,Family   \n",
       "5        5          The Great Wall    Action,Adventure,Fantasy   \n",
       "7        7                Mindhorn                      Comedy   \n",
       "13      13                   Moana  Animation,Adventure,Comedy   \n",
       "14      14                Colossal         Action,Comedy,Drama   \n",
       "..     ...                     ...                         ...   \n",
       "993    993    Secret in Their Eyes         Crime,Drama,Mystery   \n",
       "994    994         Hostel: Part II                      Horror   \n",
       "995    995  Step Up 2: The Streets         Drama,Music,Romance   \n",
       "996    996            Search Party            Adventure,Comedy   \n",
       "997    997              Nine Lives       Comedy,Family,Fantasy   \n",
       "\n",
       "                 Director                                               Cast  \\\n",
       "3    Christophe Lourdelet  Matthew McConaughey,Reese Witherspoon, Seth Ma...   \n",
       "5             Yimou Zhang      Matt Damon, Tian Jing, Willem Dafoe, Andy Lau   \n",
       "7              Sean Foley  Essie Davis, Andrea Riseborough, Julian Barrat...   \n",
       "13           Ron Clements  Auli'i Cravalho, Dwayne Johnson, Rachel House,...   \n",
       "14        Nacho Vigalondo  Anne Hathaway, Jason Sudeikis, Austin Stowell,...   \n",
       "..                    ...                                                ...   \n",
       "993             Billy Ray  Chiwetel Ejiofor, Nicole Kidman, Julia Roberts...   \n",
       "994              Eli Roth  Lauren German, Heather Matarazzo, Bijou Philli...   \n",
       "995            Jon M. Chu  Robert Hoffman, Briana Evigan, Cassie Ventura,...   \n",
       "996        Scot Armstrong  Adam Pally, T.J. Miller, Thomas Middleditch,Sh...   \n",
       "997      Barry Sonnenfeld  Kevin Spacey, Jennifer Garner, Robbie Amell,Ch...   \n",
       "\n",
       "     Year  Runtime  Rating Revenue  \n",
       "3    2016      108     7.2  270.32  \n",
       "5    2016      103     6.1   45.13  \n",
       "7    2016       89     6.4       0  \n",
       "13   2016      107     7.7  248.75  \n",
       "14   2016      109     6.4    2.87  \n",
       "..    ...      ...     ...     ...  \n",
       "993  2015      111     6.2       0  \n",
       "994  2007       94     5.5   17.54  \n",
       "995  2008       98     6.2   58.01  \n",
       "996  2014       93     5.6       0  \n",
       "997  2016       87     5.3   19.64  \n",
       "\n",
       "[566 rows x 9 columns]"
      ]
     },
     "execution_count": 27,
     "metadata": {},
     "output_type": "execute_result"
    }
   ],
   "source": [
    "# short movies\n",
    "short_movies = df[df[\"Runtime\"] < df[\"Runtime\"].mean() ]\n",
    "short_movies"
   ]
  },
  {
   "cell_type": "code",
   "execution_count": 29,
   "metadata": {},
   "outputs": [
    {
     "data": {
      "text/plain": [
       "8.6"
      ]
     },
     "execution_count": 29,
     "metadata": {},
     "output_type": "execute_result"
    }
   ],
   "source": [
    "highest_rating = short_movies[\"Rating\"].max()\n",
    "highest_rating"
   ]
  },
  {
   "cell_type": "code",
   "execution_count": null,
   "metadata": {},
   "outputs": [],
   "source": []
  },
  {
   "cell_type": "code",
   "execution_count": 33,
   "metadata": {
    "scrolled": true
   },
   "outputs": [
    {
     "data": {
      "text/html": [
       "<div>\n",
       "<style scoped>\n",
       "    .dataframe tbody tr th:only-of-type {\n",
       "        vertical-align: middle;\n",
       "    }\n",
       "\n",
       "    .dataframe tbody tr th {\n",
       "        vertical-align: top;\n",
       "    }\n",
       "\n",
       "    .dataframe thead th {\n",
       "        text-align: right;\n",
       "    }\n",
       "</style>\n",
       "<table border=\"1\" class=\"dataframe\">\n",
       "  <thead>\n",
       "    <tr style=\"text-align: right;\">\n",
       "      <th></th>\n",
       "      <th>Index</th>\n",
       "      <th>Title</th>\n",
       "      <th>Genre</th>\n",
       "      <th>Director</th>\n",
       "      <th>Cast</th>\n",
       "      <th>Year</th>\n",
       "      <th>Runtime</th>\n",
       "      <th>Rating</th>\n",
       "      <th>Revenue</th>\n",
       "    </tr>\n",
       "  </thead>\n",
       "  <tbody>\n",
       "    <tr>\n",
       "      <th>96</th>\n",
       "      <td>96</td>\n",
       "      <td>Kimi no na wa</td>\n",
       "      <td>Animation,Drama,Fantasy</td>\n",
       "      <td>Makoto Shinkai</td>\n",
       "      <td>Ryûnosuke Kamiki, Mone Kamishiraishi, Ryô Nari...</td>\n",
       "      <td>2016</td>\n",
       "      <td>106</td>\n",
       "      <td>8.6</td>\n",
       "      <td>4.68</td>\n",
       "    </tr>\n",
       "    <tr>\n",
       "      <th>249</th>\n",
       "      <td>249</td>\n",
       "      <td>The Intouchables</td>\n",
       "      <td>Biography,Comedy,Drama</td>\n",
       "      <td>Olivier Nakache</td>\n",
       "      <td>François Cluzet, Omar Sy, Anne Le Ny, Audrey F...</td>\n",
       "      <td>2011</td>\n",
       "      <td>112</td>\n",
       "      <td>8.6</td>\n",
       "      <td>13.18</td>\n",
       "    </tr>\n",
       "  </tbody>\n",
       "</table>\n",
       "</div>"
      ],
      "text/plain": [
       "     Index             Title                    Genre         Director  \\\n",
       "96      96     Kimi no na wa  Animation,Drama,Fantasy   Makoto Shinkai   \n",
       "249    249  The Intouchables   Biography,Comedy,Drama  Olivier Nakache   \n",
       "\n",
       "                                                  Cast  Year  Runtime  Rating  \\\n",
       "96   Ryûnosuke Kamiki, Mone Kamishiraishi, Ryô Nari...  2016      106     8.6   \n",
       "249  François Cluzet, Omar Sy, Anne Le Ny, Audrey F...  2011      112     8.6   \n",
       "\n",
       "    Revenue  \n",
       "96     4.68  \n",
       "249   13.18  "
      ]
     },
     "execution_count": 33,
     "metadata": {},
     "output_type": "execute_result"
    }
   ],
   "source": [
    "short_movies[short_movies[\"Rating\"] == highest_rating]"
   ]
  },
  {
   "cell_type": "code",
   "execution_count": 35,
   "metadata": {},
   "outputs": [
    {
     "data": {
      "text/plain": [
       "141"
      ]
     },
     "execution_count": 35,
     "metadata": {},
     "output_type": "execute_result"
    }
   ],
   "source": [
    "# how many movies are \"Romance\"? \n",
    "len(df[df[\"Genre\"].str.contains(\"Romance\")])"
   ]
  },
  {
   "cell_type": "code",
   "execution_count": 73,
   "metadata": {},
   "outputs": [
    {
     "data": {
      "text/plain": [
       "{'Christopher Nolan': 8.680000000000001,\n",
       " 'Martin Scorsese': 7.92,\n",
       " 'David Fincher': 7.8199999999999985,\n",
       " 'Denis Villeneuve': 7.76,\n",
       " 'J.J. Abrams': 7.58,\n",
       " 'David Yates': 7.433333333333334,\n",
       " 'Danny Boyle': 7.42,\n",
       " 'Antoine Fuqua': 7.040000000000001,\n",
       " 'Zack Snyder': 7.040000000000001,\n",
       " 'Woody Allen': 7.019999999999999,\n",
       " 'Peter Berg': 6.860000000000001,\n",
       " 'Ridley Scott': 6.85,\n",
       " 'Justin Lin': 6.82,\n",
       " 'Michael Bay': 6.483333333333334,\n",
       " 'Paul W.S. Anderson': 5.766666666666666,\n",
       " 'M. Night Shyamalan': 5.533333333333332}"
      ]
     },
     "execution_count": 73,
     "metadata": {},
     "output_type": "execute_result"
    }
   ],
   "source": [
    "# which director had the highest average rating? \n",
    "\n",
    "# one way is to make a python dict of director, list of ratings\n",
    "director_dict = dict()\n",
    "\n",
    "# make the dictionary: key is director, value is list of ratings\n",
    "for i in range(len(df)):\n",
    "    director = df.loc[i, \"Director\"]\n",
    "    rating = df.loc[i, \"Rating\"]\n",
    "    #print(i, director, rating)\n",
    "    if director not in director_dict:\n",
    "        director_dict[director] = []\n",
    "    director_dict[director].append(rating)\n",
    "\n",
    "# make a ratings dict key is directory, value is average\n",
    "# only include directors with > 4 movies\n",
    "ratings_dict = {k:sum(v)/len(v) for (k,v) in director_dict.items() if len(v) > 4}\n",
    "\n",
    "#sort a dict by values\n",
    "dict(sorted(ratings_dict.items(), key=lambda t:t[-1], reverse=True))\n",
    "    "
   ]
  },
  {
   "cell_type": "code",
   "execution_count": 94,
   "metadata": {},
   "outputs": [],
   "source": [
    "#Question:  Can we clean the revenue data? \n",
    "#  all revenue is a string, some have \"M\" at the end\n",
    "# we can just remove the M and convert it to a float"
   ]
  },
  {
   "cell_type": "code",
   "execution_count": 95,
   "metadata": {},
   "outputs": [],
   "source": [
    "def format_revenue(revenue):\n",
    "    #TODO: Check the last character of the string\n",
    "    if revenue[-1] == 'M':\n",
    "        return float(revenue[:-1])\n",
    "    else:\n",
    "        return float(revenue)"
   ]
  },
  {
   "cell_type": "code",
   "execution_count": 97,
   "metadata": {},
   "outputs": [
    {
     "name": "stdout",
     "output_type": "stream",
     "text": [
      "333.13 333.13\n",
      "126.46M 126.46\n",
      "138.12M 138.12\n",
      "270.32 270.32\n",
      "325.02 325.02\n",
      "45.13 45.13\n",
      "151.06M 151.06\n",
      "0 0.0\n",
      "8.01 8.01\n",
      "100.01M 100.01\n"
     ]
    }
   ],
   "source": [
    "# let's test our format_revenue on the first 10 rows of data\n",
    "for i in range(10):\n",
    "    revenue = df.loc[i, \"Revenue\" ]\n",
    "    if type(revenue[-1] == str):\n",
    "        print(revenue, format_revenue(revenue))"
   ]
  },
  {
   "cell_type": "code",
   "execution_count": 99,
   "metadata": {},
   "outputs": [
    {
     "data": {
      "text/plain": [
       "pandas.core.series.Series"
      ]
     },
     "execution_count": 99,
     "metadata": {},
     "output_type": "execute_result"
    }
   ],
   "source": [
    "# Is rating correlated with revenue?\n",
    "rating = df[\"Rating\"]\n",
    "revenue = df[\"Revenue\"].apply(format_revenue) # apply a function to a column\n",
    "type(revenue)\n",
    "print(rating.corr(revenue))"
   ]
  },
  {
   "cell_type": "code",
   "execution_count": null,
   "metadata": {},
   "outputs": [],
   "source": []
  },
  {
   "cell_type": "markdown",
   "metadata": {},
   "source": [
    "## DataFrame.describe()\n",
    "- provides a lot of useful stats\n",
    "- works only for columns with numbers as values"
   ]
  },
  {
   "cell_type": "code",
   "execution_count": 159,
   "metadata": {},
   "outputs": [
    {
     "data": {
      "text/html": [
       "<div>\n",
       "<style scoped>\n",
       "    .dataframe tbody tr th:only-of-type {\n",
       "        vertical-align: middle;\n",
       "    }\n",
       "\n",
       "    .dataframe tbody tr th {\n",
       "        vertical-align: top;\n",
       "    }\n",
       "\n",
       "    .dataframe thead th {\n",
       "        text-align: right;\n",
       "    }\n",
       "</style>\n",
       "<table border=\"1\" class=\"dataframe\">\n",
       "  <thead>\n",
       "    <tr style=\"text-align: right;\">\n",
       "      <th></th>\n",
       "      <th>Year</th>\n",
       "      <th>Runtime</th>\n",
       "      <th>Rating</th>\n",
       "    </tr>\n",
       "  </thead>\n",
       "  <tbody>\n",
       "    <tr>\n",
       "      <th>count</th>\n",
       "      <td>998.000000</td>\n",
       "      <td>998.000000</td>\n",
       "      <td>998.000000</td>\n",
       "    </tr>\n",
       "    <tr>\n",
       "      <th>mean</th>\n",
       "      <td>2012.779559</td>\n",
       "      <td>113.170341</td>\n",
       "      <td>6.723447</td>\n",
       "    </tr>\n",
       "    <tr>\n",
       "      <th>std</th>\n",
       "      <td>3.207549</td>\n",
       "      <td>18.828877</td>\n",
       "      <td>0.945682</td>\n",
       "    </tr>\n",
       "    <tr>\n",
       "      <th>min</th>\n",
       "      <td>2006.000000</td>\n",
       "      <td>66.000000</td>\n",
       "      <td>1.900000</td>\n",
       "    </tr>\n",
       "    <tr>\n",
       "      <th>25%</th>\n",
       "      <td>2010.000000</td>\n",
       "      <td>100.000000</td>\n",
       "      <td>6.200000</td>\n",
       "    </tr>\n",
       "    <tr>\n",
       "      <th>50%</th>\n",
       "      <td>2014.000000</td>\n",
       "      <td>111.000000</td>\n",
       "      <td>6.800000</td>\n",
       "    </tr>\n",
       "    <tr>\n",
       "      <th>75%</th>\n",
       "      <td>2016.000000</td>\n",
       "      <td>123.000000</td>\n",
       "      <td>7.400000</td>\n",
       "    </tr>\n",
       "    <tr>\n",
       "      <th>max</th>\n",
       "      <td>2016.000000</td>\n",
       "      <td>191.000000</td>\n",
       "      <td>9.000000</td>\n",
       "    </tr>\n",
       "  </tbody>\n",
       "</table>\n",
       "</div>"
      ],
      "text/plain": [
       "              Year     Runtime      Rating\n",
       "count   998.000000  998.000000  998.000000\n",
       "mean   2012.779559  113.170341    6.723447\n",
       "std       3.207549   18.828877    0.945682\n",
       "min    2006.000000   66.000000    1.900000\n",
       "25%    2010.000000  100.000000    6.200000\n",
       "50%    2014.000000  111.000000    6.800000\n",
       "75%    2016.000000  123.000000    7.400000\n",
       "max    2016.000000  191.000000    9.000000"
      ]
     },
     "execution_count": 159,
     "metadata": {},
     "output_type": "execute_result"
    }
   ],
   "source": [
    "stats = df.describe()\n",
    "stats"
   ]
  },
  {
   "cell_type": "markdown",
   "metadata": {},
   "source": [
    "### How to get median runtime of all the movies?"
   ]
  },
  {
   "cell_type": "code",
   "execution_count": 161,
   "metadata": {},
   "outputs": [
    {
     "data": {
      "text/plain": [
       "111.0"
      ]
     },
     "execution_count": 161,
     "metadata": {},
     "output_type": "execute_result"
    }
   ],
   "source": [
    "stats.loc[\"50%\", \"Runtime\"]"
   ]
  },
  {
   "cell_type": "code",
   "execution_count": 102,
   "metadata": {},
   "outputs": [
    {
     "data": {
      "text/html": [
       "<div>\n",
       "<style scoped>\n",
       "    .dataframe tbody tr th:only-of-type {\n",
       "        vertical-align: middle;\n",
       "    }\n",
       "\n",
       "    .dataframe tbody tr th {\n",
       "        vertical-align: top;\n",
       "    }\n",
       "\n",
       "    .dataframe thead th {\n",
       "        text-align: right;\n",
       "    }\n",
       "</style>\n",
       "<table border=\"1\" class=\"dataframe\">\n",
       "  <thead>\n",
       "    <tr style=\"text-align: right;\">\n",
       "      <th></th>\n",
       "      <th>Index</th>\n",
       "      <th>Title</th>\n",
       "      <th>Genre</th>\n",
       "      <th>Director</th>\n",
       "      <th>Cast</th>\n",
       "      <th>Year</th>\n",
       "      <th>Runtime</th>\n",
       "      <th>Rating</th>\n",
       "      <th>Revenue</th>\n",
       "    </tr>\n",
       "  </thead>\n",
       "  <tbody>\n",
       "    <tr>\n",
       "      <th>54</th>\n",
       "      <td>54</td>\n",
       "      <td>The Dark Knight</td>\n",
       "      <td>Action,Crime,Drama</td>\n",
       "      <td>Christopher Nolan</td>\n",
       "      <td>Christian Bale, Heath Ledger, Aaron Eckhart,Mi...</td>\n",
       "      <td>2008</td>\n",
       "      <td>152</td>\n",
       "      <td>9.0</td>\n",
       "      <td>533.32</td>\n",
       "    </tr>\n",
       "    <tr>\n",
       "      <th>117</th>\n",
       "      <td>117</td>\n",
       "      <td>Dangal</td>\n",
       "      <td>Action,Biography,Drama</td>\n",
       "      <td>Nitesh Tiwari</td>\n",
       "      <td>Aamir Khan, Sakshi Tanwar, Fatima Sana Shaikh,...</td>\n",
       "      <td>2016</td>\n",
       "      <td>161</td>\n",
       "      <td>8.8</td>\n",
       "      <td>11.15</td>\n",
       "    </tr>\n",
       "    <tr>\n",
       "      <th>80</th>\n",
       "      <td>80</td>\n",
       "      <td>Inception</td>\n",
       "      <td>Action,Adventure,Sci-Fi</td>\n",
       "      <td>Christopher Nolan</td>\n",
       "      <td>Leonardo DiCaprio, Joseph Gordon-Levitt, Ellen...</td>\n",
       "      <td>2010</td>\n",
       "      <td>148</td>\n",
       "      <td>8.8</td>\n",
       "      <td>292.57</td>\n",
       "    </tr>\n",
       "    <tr>\n",
       "      <th>36</th>\n",
       "      <td>36</td>\n",
       "      <td>Interstellar</td>\n",
       "      <td>Adventure,Drama,Sci-Fi</td>\n",
       "      <td>Christopher Nolan</td>\n",
       "      <td>Matthew McConaughey, Anne Hathaway, Jessica Ch...</td>\n",
       "      <td>2014</td>\n",
       "      <td>169</td>\n",
       "      <td>8.6</td>\n",
       "      <td>187.99M</td>\n",
       "    </tr>\n",
       "    <tr>\n",
       "      <th>249</th>\n",
       "      <td>249</td>\n",
       "      <td>The Intouchables</td>\n",
       "      <td>Biography,Comedy,Drama</td>\n",
       "      <td>Olivier Nakache</td>\n",
       "      <td>François Cluzet, Omar Sy, Anne Le Ny, Audrey F...</td>\n",
       "      <td>2011</td>\n",
       "      <td>112</td>\n",
       "      <td>8.6</td>\n",
       "      <td>13.18</td>\n",
       "    </tr>\n",
       "    <tr>\n",
       "      <th>...</th>\n",
       "      <td>...</td>\n",
       "      <td>...</td>\n",
       "      <td>...</td>\n",
       "      <td>...</td>\n",
       "      <td>...</td>\n",
       "      <td>...</td>\n",
       "      <td>...</td>\n",
       "      <td>...</td>\n",
       "      <td>...</td>\n",
       "    </tr>\n",
       "    <tr>\n",
       "      <th>966</th>\n",
       "      <td>966</td>\n",
       "      <td>Wrecker</td>\n",
       "      <td>Action,Horror,Thriller</td>\n",
       "      <td>Micheal Bafaro</td>\n",
       "      <td>Anna Hutchison, Andrea Whitburn, Jennifer Koen...</td>\n",
       "      <td>2015</td>\n",
       "      <td>83</td>\n",
       "      <td>3.5</td>\n",
       "      <td>0</td>\n",
       "    </tr>\n",
       "    <tr>\n",
       "      <th>646</th>\n",
       "      <td>646</td>\n",
       "      <td>Tall Men</td>\n",
       "      <td>Fantasy,Horror,Thriller</td>\n",
       "      <td>Jonathan Holbrook</td>\n",
       "      <td>Dan Crisafulli, Kay Whitney, Richard Garcia, P...</td>\n",
       "      <td>2016</td>\n",
       "      <td>133</td>\n",
       "      <td>3.2</td>\n",
       "      <td>0</td>\n",
       "    </tr>\n",
       "    <tr>\n",
       "      <th>870</th>\n",
       "      <td>870</td>\n",
       "      <td>Dragonball Evolution</td>\n",
       "      <td>Action,Adventure,Fantasy</td>\n",
       "      <td>James Wong</td>\n",
       "      <td>Justin Chatwin, James Marsters, Yun-Fat Chow, ...</td>\n",
       "      <td>2009</td>\n",
       "      <td>85</td>\n",
       "      <td>2.7</td>\n",
       "      <td>9.35</td>\n",
       "    </tr>\n",
       "    <tr>\n",
       "      <th>42</th>\n",
       "      <td>42</td>\n",
       "      <td>Don't Fuck in the Woods</td>\n",
       "      <td>Horror</td>\n",
       "      <td>Shawn Burkett</td>\n",
       "      <td>Brittany Blanton, Ayse Howard, Roman Jossart,N...</td>\n",
       "      <td>2016</td>\n",
       "      <td>73</td>\n",
       "      <td>2.7</td>\n",
       "      <td>0</td>\n",
       "    </tr>\n",
       "    <tr>\n",
       "      <th>828</th>\n",
       "      <td>828</td>\n",
       "      <td>Disaster Movie</td>\n",
       "      <td>Comedy</td>\n",
       "      <td>Jason Friedberg</td>\n",
       "      <td>Carmen Electra, Vanessa Lachey,Nicole Parker, ...</td>\n",
       "      <td>2008</td>\n",
       "      <td>87</td>\n",
       "      <td>1.9</td>\n",
       "      <td>14.17</td>\n",
       "    </tr>\n",
       "  </tbody>\n",
       "</table>\n",
       "<p>998 rows × 9 columns</p>\n",
       "</div>"
      ],
      "text/plain": [
       "     Index                    Title                     Genre  \\\n",
       "54      54          The Dark Knight        Action,Crime,Drama   \n",
       "117    117                   Dangal    Action,Biography,Drama   \n",
       "80      80                Inception   Action,Adventure,Sci-Fi   \n",
       "36      36             Interstellar    Adventure,Drama,Sci-Fi   \n",
       "249    249         The Intouchables    Biography,Comedy,Drama   \n",
       "..     ...                      ...                       ...   \n",
       "966    966                  Wrecker    Action,Horror,Thriller   \n",
       "646    646                 Tall Men   Fantasy,Horror,Thriller   \n",
       "870    870     Dragonball Evolution  Action,Adventure,Fantasy   \n",
       "42      42  Don't Fuck in the Woods                    Horror   \n",
       "828    828           Disaster Movie                    Comedy   \n",
       "\n",
       "              Director                                               Cast  \\\n",
       "54   Christopher Nolan  Christian Bale, Heath Ledger, Aaron Eckhart,Mi...   \n",
       "117      Nitesh Tiwari  Aamir Khan, Sakshi Tanwar, Fatima Sana Shaikh,...   \n",
       "80   Christopher Nolan  Leonardo DiCaprio, Joseph Gordon-Levitt, Ellen...   \n",
       "36   Christopher Nolan  Matthew McConaughey, Anne Hathaway, Jessica Ch...   \n",
       "249    Olivier Nakache  François Cluzet, Omar Sy, Anne Le Ny, Audrey F...   \n",
       "..                 ...                                                ...   \n",
       "966     Micheal Bafaro  Anna Hutchison, Andrea Whitburn, Jennifer Koen...   \n",
       "646  Jonathan Holbrook  Dan Crisafulli, Kay Whitney, Richard Garcia, P...   \n",
       "870         James Wong  Justin Chatwin, James Marsters, Yun-Fat Chow, ...   \n",
       "42       Shawn Burkett  Brittany Blanton, Ayse Howard, Roman Jossart,N...   \n",
       "828    Jason Friedberg  Carmen Electra, Vanessa Lachey,Nicole Parker, ...   \n",
       "\n",
       "     Year  Runtime  Rating  Revenue  \n",
       "54   2008      152     9.0   533.32  \n",
       "117  2016      161     8.8    11.15  \n",
       "80   2010      148     8.8   292.57  \n",
       "36   2014      169     8.6  187.99M  \n",
       "249  2011      112     8.6    13.18  \n",
       "..    ...      ...     ...      ...  \n",
       "966  2015       83     3.5        0  \n",
       "646  2016      133     3.2        0  \n",
       "870  2009       85     2.7     9.35  \n",
       "42   2016       73     2.7        0  \n",
       "828  2008       87     1.9    14.17  \n",
       "\n",
       "[998 rows x 9 columns]"
      ]
     },
     "execution_count": 102,
     "metadata": {},
     "output_type": "execute_result"
    }
   ],
   "source": [
    "df.sort_values([\"Rating\", \"Runtime\"], ascending=False)"
   ]
  },
  {
   "cell_type": "code",
   "execution_count": null,
   "metadata": {},
   "outputs": [],
   "source": []
  }
 ],
 "metadata": {
  "kernelspec": {
   "display_name": "Python 3",
   "language": "python",
   "name": "python3"
  },
  "language_info": {
   "codemirror_mode": {
    "name": "ipython",
    "version": 3
   },
   "file_extension": ".py",
   "mimetype": "text/x-python",
   "name": "python",
   "nbconvert_exporter": "python",
   "pygments_lexer": "ipython3",
   "version": "3.9.1"
  }
 },
 "nbformat": 4,
 "nbformat_minor": 4
}
