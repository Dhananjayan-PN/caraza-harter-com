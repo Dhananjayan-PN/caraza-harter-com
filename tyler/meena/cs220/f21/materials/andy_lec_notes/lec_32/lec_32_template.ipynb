{
 "cells": [
  {
   "cell_type": "code",
   "execution_count": 3,
   "metadata": {},
   "outputs": [],
   "source": [
    "# Warm-up 1 from Nov 08:  \n",
    "# 1. import os and write code that makes a directory named \"lec32_files\"\n",
    "\n",
    "import os\n",
    "dir_name = \"lec32_files\"\n",
    "\n",
    "# 2. run and CHECK this in your Jupyter Notebook parent tab\n",
    "# os.mkdir(dir_name)\n",
    "\n",
    "# 3. Try to run the cell again. You should get FileExistsError. \n",
    "\n",
    "# 4. Place the code in an if statement to avoid an error when re-running this cell.\n",
    "\n",
    "# Takeaway: We don't always need to use try/except, we can often avoid runtime errors using an if"
   ]
  },
  {
   "cell_type": "code",
   "execution_count": null,
   "metadata": {},
   "outputs": [],
   "source": []
  },
  {
   "cell_type": "code",
   "execution_count": 4,
   "metadata": {},
   "outputs": [],
   "source": [
    "# Warmup 2: "
   ]
  },
  {
   "cell_type": "markdown",
   "metadata": {},
   "source": [
    "### Grab this file and place it in the lec32_files directory:\n",
    "https://github.com/tylerharter/caraza-harter-com/blob/master/tyler/meena/cs220/f20/materials/lectureDemo_code/lec-31/data/review1.csv"
   ]
  },
  {
   "cell_type": "code",
   "execution_count": 4,
   "metadata": {},
   "outputs": [],
   "source": [
    "# use process csv to read the file and print out the header\n",
    "import csv\n",
    "\n",
    "# Modified from https://automatetheboringstuff.com/chapter14/\n",
    "def process_csv(filename):\n",
    "    example_file = open(filename, encoding=\"utf-8\")\n",
    "    example_reader = csv.reader(example_file)\n",
    "    example_data = list(example_reader)\n",
    "    example_file.close()\n",
    "    return example_data\n",
    "\n",
    "data = process_csv(os.path.join(\"lec32_files\", \"review1.csv\"))\n",
    "\n",
    "# get the header\n",
    "header = None\n",
    "header"
   ]
  },
  {
   "cell_type": "code",
   "execution_count": null,
   "metadata": {},
   "outputs": [],
   "source": []
  },
  {
   "cell_type": "code",
   "execution_count": 6,
   "metadata": {},
   "outputs": [],
   "source": [
    "# Warm-up 3: make a Pandas Data Frame from this dictionary\n",
    "\n",
    "race_results_dict = {\n",
    "  \"Name\": [\"Andy\", \"Sam\", \"Stevie\"],\n",
    "  \"Age\": [\"50-59\", \"10-19\", \"10-19\"],\n",
    "  \"Time\": [\"21:45\", \"21:02\", \"24:30\"]\n",
    "} \n",
    "\n",
    "\n",
    "import pandas as pd\n",
    "race_results = None\n",
    "\n",
    "race_results"
   ]
  },
  {
   "cell_type": "code",
   "execution_count": null,
   "metadata": {},
   "outputs": [],
   "source": [
    "\n"
   ]
  },
  {
   "cell_type": "code",
   "execution_count": null,
   "metadata": {},
   "outputs": [],
   "source": []
  },
  {
   "cell_type": "code",
   "execution_count": null,
   "metadata": {},
   "outputs": [],
   "source": []
  },
  {
   "cell_type": "markdown",
   "metadata": {},
   "source": [
    "# Lecture 32: Generating HTML pages\n",
    "\n",
    "**Learning Objectives:**\n",
    "\n",
    "32.1 Explain the purpose and use of basic HTML tags.\n",
    "- b, i, p, br, h1, h2, p, br, i, b, a\n",
    "\n",
    "32.2 Given a Python data structure, write code to produce HTML\n",
    "- from Python list to HTML unordered list\n",
    "- from Python dictionary (read from CSV) to a series of linked HTML pages\n",
    "- from a DataFrame to a HTML table\n"
   ]
  },
  {
   "cell_type": "code",
   "execution_count": null,
   "metadata": {},
   "outputs": [],
   "source": []
  },
  {
   "cell_type": "code",
   "execution_count": null,
   "metadata": {},
   "outputs": [],
   "source": []
  },
  {
   "cell_type": "markdown",
   "metadata": {},
   "source": [
    "### Part A: Write a basic HTML page in Jupyter Notbook\n",
    "\n",
    "Check out the lecture slides for a brief overview of HTML\n",
    "\n",
    "\n",
    "**Markdown and Jupyter Notebook will recognize HTML tags**\n",
    "\n",
    "<i>Make a new Jupyter Notebook text file in the \"lec32_files\" directory.</i>\n",
    "<p> The head,  body, and html tags are not necessary \n",
    "for a browswer to read a file.</p>\n",
    "\n",
    "<h2> Happy Friday!! </h2>\n",
    "\n",
    "It's going to be a <b>fun</b> day <br>\n",
    "\n",
    "My favorite restaurant in on campus is is <a href=\"https://shortstackeats.com/\">Short Stack Eatery</a>\n",
    "\n",
    "Call the file \"handmade.html\" and be sure you Save the file. \n",
    "\n",
    "Practice in Jupyter Notebook: viewing vs opening for editing. \n"
   ]
  },
  {
   "cell_type": "code",
   "execution_count": 7,
   "metadata": {},
   "outputs": [],
   "source": [
    "# Find the file in your Notebook Tab.  \n",
    "# Practice viewing vs opening for editing."
   ]
  },
  {
   "cell_type": "code",
   "execution_count": null,
   "metadata": {},
   "outputs": [],
   "source": []
  },
  {
   "cell_type": "code",
   "execution_count": null,
   "metadata": {},
   "outputs": [],
   "source": []
  },
  {
   "cell_type": "markdown",
   "metadata": {},
   "source": [
    "### Part B: Convert a Python list into an HTML unordered list\n",
    "\n",
    "Given:  [\"Eat Healthy\", \"Exercise\", \"Relax\", \"Sleep\"]\n",
    "    \n",
    "Open a file for writing that contains:  \n",
    "<ul>\n",
    "    <li>Eat Healthy</li>      \n",
    "         <li>Exercise</li>\n",
    "  <li>Relax</li>\n",
    "       <li>Sleep</li>\n",
    "</ul> "
   ]
  },
  {
   "cell_type": "code",
   "execution_count": null,
   "metadata": {},
   "outputs": [],
   "source": []
  },
  {
   "cell_type": "code",
   "execution_count": null,
   "metadata": {},
   "outputs": [],
   "source": []
  },
  {
   "cell_type": "code",
   "execution_count": 7,
   "metadata": {},
   "outputs": [],
   "source": [
    "def list_to_html(my_list, path):\n",
    "    # open the file for writing\n",
    "    f = open(path, \"w\")\n",
    "    \n",
    "    # write the <ul> and \\n\n",
    "    f.write(\"<ul>\\n\")\n",
    "    \n",
    "    # write each item in the list with a \\n after each </li>\n",
    "\n",
    "\n",
    "    # write the </ul> and \\n\n",
    "\n",
    "    \n",
    "    # close the file\n",
    "    f.close()\n",
    "    \n",
    "dir_name = \"lec32_files\"\n",
    "todo_list = [\"Eat Healthy\", \"Exercise\", \"Relax\", \"Sleep\"]\n",
    "list_to_html(todo_list, os.path.join(dir_name, \"todolist.html\"))\n",
    "\n",
    "# check in the Jupyter Notebook parent tab that you made your document\n"
   ]
  },
  {
   "cell_type": "code",
   "execution_count": null,
   "metadata": {},
   "outputs": [],
   "source": []
  },
  {
   "cell_type": "code",
   "execution_count": null,
   "metadata": {},
   "outputs": [],
   "source": []
  },
  {
   "attachments": {
    "Screen%20Shot%202021-11-18%20at%2011.46.14%20AM.png": {
     "image/png": "[encoded data removed]"
    }
   },
   "cell_type": "markdown",
   "metadata": {},
   "source": [
    "![Screen%20Shot%202021-11-18%20at%2011.46.14%20AM.png](attachment:Screen%20Shot%202021-11-18%20at%2011.46.14%20AM.png)"
   ]
  },
  {
   "cell_type": "markdown",
   "metadata": {},
   "source": [
    "### Part C: Read a CSV file into a  dictionary, then convert into a series of web pages\n",
    "\n",
    "**Given:  this CSV file: review1.csv\n",
    "\n",
    "<code>\n",
    "review id,review title,review text,review rating,review do_recommend,review num_helpful,review date\n",
    "\n",
    "10101,A charger,It seems to work just like any other usb plug in charger.,5,True,0,2017-01-02\n",
    "\n",
    "99904,amazon power fast usb charger,got this for my kindle 7 tablet . Does an excellent job charging the kindle fire 7 a lot faster than the one it came with the kindle fire,5,True,2,2016-06-03\n",
    "\n",
    "89604,Amazon powerfast wall charger,Best kindle charger ever. Took 30 minutes to being my kindle back to life.,5,True,0,2016-11-21\n",
    "\n",
    "58704,correct plug for kindle,Quickly charges kindle so son can use it. Worked great right out of the package,5,True,0,2016-10-14\n",
    "</code>\n",
    "\n",
    "Generate the following:\n",
    "\n"
   ]
  },
  {
   "cell_type": "markdown",
   "metadata": {},
   "source": [
    "lec_32_files\n",
    "- reviews.html\n",
    "- data\n",
    "    - 10115.html\n",
    "    - 10231.html\n",
    "    - etc....\n"
   ]
  },
  {
   "cell_type": "code",
   "execution_count": 8,
   "metadata": {},
   "outputs": [
    {
     "name": "stdout",
     "output_type": "stream",
     "text": [
      "['review id', 'review title', 'review text', 'review rating', 'review do_recommend', 'review num_helpful', 'review date']\n",
      "['10101', 'A charger', 'It seems to work just like any other usb plug in charger.', '5', 'True', '0', '2017-01-02']\n",
      "['99904', 'amazon power fast usb charger', 'got this for my kindle 7 tablet . Does an excellent job charging the kindle fire 7 a lot faster than the one it came with the kindle fire', '5', 'True', '2', '2016-06-03']\n",
      "['89604', 'Amazon powerfast wall charger', 'Best kindle charger ever. Took 30 minutes to being my kindle back to life.', '5', 'True', '0', '2016-11-21']\n",
      "['58704', 'correct plug for kindle', 'Quickly charges kindle so son can use it. Worked great right out of the package', '5', 'True', '0', '2016-10-14']\n",
      "['38104', 'Fast Charger', 'Bought this charger for the Kindle voyage and its great.', '5', 'True', '0', '2016-09-30']\n"
     ]
    }
   ],
   "source": [
    "import csv, os\n",
    "def csv_to_html(dir_name, csv_path, html_file_name):\n",
    "    \n",
    "    # part 1: read the csv file and into a dictionary using csv.DictReader\n",
    "    f = open(os.path.join(dir_name, csv_path))\n",
    "    data = process_csv(os.path.join(dir_name, csv_path))\n",
    "    f.close()\n",
    "    header = data[0]\n",
    "    print(header)\n",
    "    rows = data[1:]\n",
    "\n",
    "    \n",
    "    # part 2: make a directory in dir_name called data_html for all the .html files\n",
    "    #if not os.path.exists(os.path.join(dir_name, \"data\")):\n",
    "        #os.mkdir(os.path.join(dir_name, \"data\"))\n",
    "        \n",
    "    # make a new html file to store links to all the reviews\n",
    "    #reviews_file = open(os.path.join(dir_name,html_file_name), \"w\")\n",
    "    #reviews_file.write(\"<ul>\\n\") # uncomment the 2 lines at the end of the function\n",
    "\n",
    "\n",
    "    # for each row in the CSV file, \n",
    "    for row in rows[:5]: # do this while debugging\n",
    "        print(row)\n",
    "        # part 3: grab the \"review id\", \"review title\" , and \"review text\" of this row\n",
    "        #review_id = row[0]\n",
    "        #title = row[1]\n",
    "        #text = row[2]\n",
    "        #print(review_id, title, text)\n",
    "\n",
    "        # part 4: make a HTML file for each review id with name <reviewID>.html\"\n",
    "        #review_path = os.path.join(dir_name,\"data\", str(review_id) + \".html\")\n",
    "        #print(review_path)\n",
    "        #html_file = open(review_path, \"w\")\n",
    "        #html_file.write(\"<h2>{}</h2><p>{}</p>\".format(title, text))\n",
    "        #html_file.close()\n",
    "    \n",
    "        # part 5: generate a line in reviews.html  which has link to each review html page <rid>.html\n",
    "        #short_path = os.path.join(\"data\", str(review_id) + \".html\")\n",
    "        #print(short_path)\n",
    "        #reviews_file.write('<li><a href = \"{}\">{}</a>'.format(short_path, str(review_id) + \":\" + str(title)) + \"<br>\\n\")\n",
    "    #reviews_file.write(\"</ul>\\n\")\n",
    "    #reviews_file.close()  \n",
    "\n",
    "\n",
    "dir_name = \"lec32_files\"\n",
    "csv_to_html(dir_name, \"review1.csv\", \"reviews.html\")"
   ]
  },
  {
   "cell_type": "markdown",
   "metadata": {},
   "source": []
  },
  {
   "cell_type": "code",
   "execution_count": 10,
   "metadata": {},
   "outputs": [],
   "source": [
    "# there are lots of different ways to write Python data structures to HTML\n"
   ]
  },
  {
   "cell_type": "code",
   "execution_count": null,
   "metadata": {},
   "outputs": [],
   "source": []
  },
  {
   "cell_type": "markdown",
   "metadata": {},
   "source": [
    "### Part D:  Given a Pandas Data Frame, make into a HTML table"
   ]
  },
  {
   "cell_type": "code",
   "execution_count": 21,
   "metadata": {},
   "outputs": [
    {
     "data": {
      "text/html": [
       "<div>\n",
       "<style scoped>\n",
       "    .dataframe tbody tr th:only-of-type {\n",
       "        vertical-align: middle;\n",
       "    }\n",
       "\n",
       "    .dataframe tbody tr th {\n",
       "        vertical-align: top;\n",
       "    }\n",
       "\n",
       "    .dataframe thead th {\n",
       "        text-align: right;\n",
       "    }\n",
       "</style>\n",
       "<table border=\"1\" class=\"dataframe\">\n",
       "  <thead>\n",
       "    <tr style=\"text-align: right;\">\n",
       "      <th></th>\n",
       "      <th>Name</th>\n",
       "      <th>Age</th>\n",
       "      <th>Time</th>\n",
       "    </tr>\n",
       "  </thead>\n",
       "  <tbody>\n",
       "    <tr>\n",
       "      <th>0</th>\n",
       "      <td>Andy</td>\n",
       "      <td>50-59</td>\n",
       "      <td>21:45</td>\n",
       "    </tr>\n",
       "    <tr>\n",
       "      <th>1</th>\n",
       "      <td>Sam</td>\n",
       "      <td>10-19</td>\n",
       "      <td>21:02</td>\n",
       "    </tr>\n",
       "    <tr>\n",
       "      <th>2</th>\n",
       "      <td>Stevie</td>\n",
       "      <td>10-19</td>\n",
       "      <td>24:30</td>\n",
       "    </tr>\n",
       "  </tbody>\n",
       "</table>\n",
       "</div>"
      ],
      "text/plain": [
       "     Name    Age   Time\n",
       "0    Andy  50-59  21:45\n",
       "1     Sam  10-19  21:02\n",
       "2  Stevie  10-19  24:30"
      ]
     },
     "execution_count": 21,
     "metadata": {},
     "output_type": "execute_result"
    }
   ],
   "source": [
    "# remember the warmup?\n",
    "race_results"
   ]
  },
  {
   "cell_type": "code",
   "execution_count": 9,
   "metadata": {},
   "outputs": [],
   "source": [
    "# pandas has a DataFrame method that turns any DataFrame into a HTML string\n",
    "#table = race_results.to_html()\n",
    "#table"
   ]
  },
  {
   "cell_type": "code",
   "execution_count": 23,
   "metadata": {},
   "outputs": [],
   "source": [
    "# write a function that takes as input a data frame and a path\n",
    "# and writes it to that file\n",
    "\n",
    "def df_to_html(df, path):\n",
    "    # open the file for writing\n",
    "    f = open(path, \"w\")\n",
    "    \n",
    "    # write the dataframe to html\n",
    "    f.write(df.to_html())\n",
    "    \n",
    "    # close the file\n",
    "    f.close()\n",
    "   \n",
    "    \n",
    "#dir_name = \"lec32_files\"\n",
    "#df_to_html(race_results, os.path.join(dir_name, \"raceresults.html\"))"
   ]
  },
  {
   "cell_type": "code",
   "execution_count": 24,
   "metadata": {},
   "outputs": [],
   "source": [
    "# check your Notebook tab to see if you wrote it!"
   ]
  },
  {
   "cell_type": "code",
   "execution_count": null,
   "metadata": {},
   "outputs": [],
   "source": []
  }
 ],
 "metadata": {
  "kernelspec": {
   "display_name": "Python 3",
   "language": "python",
   "name": "python3"
  },
  "language_info": {
   "codemirror_mode": {
    "name": "ipython",
    "version": 3
   },
   "file_extension": ".py",
   "mimetype": "text/x-python",
   "name": "python",
   "nbconvert_exporter": "python",
   "pygments_lexer": "ipython3",
   "version": "3.9.1"
  }
 },
 "nbformat": 4,
 "nbformat_minor": 4
}
