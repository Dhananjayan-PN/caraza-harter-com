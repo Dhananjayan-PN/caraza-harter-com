{
 "cells": [
  {
   "cell_type": "markdown",
   "metadata": {},
   "source": [
    "## November 12, Lecture 29 \n",
    "## Pandas"
   ]
  },
  {
   "cell_type": "code",
   "execution_count": null,
   "metadata": {},
   "outputs": [],
   "source": [
    "## What is Pandas? \n",
    "## Pandas is a package of tools for doing Data Science\n",
    "## Pandas is installed on top of Python\n",
    "## Pandas was installed with Anaconda, so its on your computers\n"
   ]
  },
  {
   "cell_type": "code",
   "execution_count": 9,
   "metadata": {},
   "outputs": [],
   "source": [
    "import pandas as pd\n",
    "# why do we do this? \n",
    "# saves us typing pandas"
   ]
  },
  {
   "cell_type": "code",
   "execution_count": 10,
   "metadata": {},
   "outputs": [],
   "source": [
    "## A Pandas Series is like a combination of a list and a dictionary\n",
    "# The word 'index' is used to associate\n"
   ]
  },
  {
   "cell_type": "code",
   "execution_count": 244,
   "metadata": {},
   "outputs": [
    {
     "data": {
      "text/plain": [
       "0     44\n",
       "1     32\n",
       "2     19\n",
       "3     67\n",
       "4     23\n",
       "5     23\n",
       "6     92\n",
       "7     47\n",
       "8     47\n",
       "9     78\n",
       "10    84\n",
       "dtype: int64"
      ]
     },
     "execution_count": 244,
     "metadata": {},
     "output_type": "execute_result"
    }
   ],
   "source": [
    "scores = pd.Series([44, 32, 19, 67, 23, 23, 92, 47, 47, 78, 84])\n",
    "scores"
   ]
  },
  {
   "cell_type": "code",
   "execution_count": 248,
   "metadata": {},
   "outputs": [
    {
     "data": {
      "text/plain": [
       "3    67\n",
       "4    23\n",
       "5    23\n",
       "dtype: int64"
      ]
     },
     "execution_count": 248,
     "metadata": {},
     "output_type": "execute_result"
    }
   ],
   "source": [
    "## a Pandas series acts a lot like a list\n",
    "## you can index and slice\n",
    "scores[3]\n",
    "scores[3:6]"
   ]
  },
  {
   "cell_type": "code",
   "execution_count": 125,
   "metadata": {},
   "outputs": [
    {
     "name": "stdout",
     "output_type": "stream",
     "text": [
      "50.54545454545455\t26.051347897426098\t47.0\n"
     ]
    }
   ],
   "source": [
    "## Series calculations\n",
    "## mean, median, mode, quartiles, sd, count\n",
    "print(scores.mean(), scores.std(), scores.median(), sep='\\t')\n"
   ]
  },
  {
   "cell_type": "code",
   "execution_count": 122,
   "metadata": {},
   "outputs": [
    {
     "name": "stdout",
     "output_type": "stream",
     "text": [
      "0    23\n",
      "1    47\n",
      "dtype: int64\n"
     ]
    }
   ],
   "source": [
    "# there could be multiple modes, so mode returns a Series\n",
    "print(scores.mode())"
   ]
  },
  {
   "cell_type": "code",
   "execution_count": 121,
   "metadata": {},
   "outputs": [
    {
     "name": "stdout",
     "output_type": "stream",
     "text": [
      "1.00    92.0\n",
      "0.75    72.5\n",
      "0.50    47.0\n",
      "0.25    27.5\n",
      "0.00    19.0\n",
      "dtype: float64\n"
     ]
    }
   ],
   "source": [
    "# 5-Number summary\n",
    "print(scores.quantile([1.0, 0.75, 0.5, 0.25, 0]))"
   ]
  },
  {
   "cell_type": "code",
   "execution_count": null,
   "metadata": {},
   "outputs": [],
   "source": []
  },
  {
   "cell_type": "code",
   "execution_count": null,
   "metadata": {},
   "outputs": [],
   "source": []
  },
  {
   "cell_type": "code",
   "execution_count": null,
   "metadata": {},
   "outputs": [],
   "source": []
  },
  {
   "cell_type": "code",
   "execution_count": 51,
   "metadata": {},
   "outputs": [
    {
     "data": {
      "text/plain": [
       "20    6\n",
       "19    4\n",
       "21    3\n",
       "18    2\n",
       "23    2\n",
       "17    1\n",
       "24    1\n",
       "25    1\n",
       "35    1\n",
       "22    1\n",
       "dtype: int64"
      ]
     },
     "execution_count": 51,
     "metadata": {},
     "output_type": "execute_result"
    }
   ],
   "source": [
    "# Series value counts create a series where \n",
    "# the key is the data, and the value is its count in the Series\n",
    "ages = pd.Series([18, 19, 20, 20, 20, 17, 18, 24, 25, 35, 22, 20, 21, 21, 20, 23, 23, 19, 19, 19, 20, 21])\n",
    "ages.value_counts()\n"
   ]
  },
  {
   "cell_type": "code",
   "execution_count": 249,
   "metadata": {},
   "outputs": [
    {
     "data": {
      "text/plain": [
       "17    1\n",
       "24    1\n",
       "25    1\n",
       "35    1\n",
       "22    1\n",
       "18    2\n",
       "23    2\n",
       "21    3\n",
       "19    4\n",
       "20    6\n",
       "dtype: int64"
      ]
     },
     "execution_count": 249,
     "metadata": {},
     "output_type": "execute_result"
    }
   ],
   "source": [
    "# A series can be sorted by index or by values\n",
    "ages.value_counts().sort_index()\n",
    "#ages.value_counts().sort_values()"
   ]
  },
  {
   "cell_type": "code",
   "execution_count": 155,
   "metadata": {},
   "outputs": [
    {
     "data": {
      "text/plain": [
       "[Text(0.5, 0, 'age'), Text(0, 0.5, 'count')]"
      ]
     },
     "execution_count": 155,
     "metadata": {},
     "output_type": "execute_result"
    },
    {
     "data": {
      "image/png": "[encoded data removed]",
      "text/plain": [
       "<Figure size 432x288 with 1 Axes>"
      ]
     },
     "metadata": {
      "needs_background": "light"
     },
     "output_type": "display_data"
    }
   ],
   "source": [
    "## Series bar chart\n",
    "age_plot = ages.value_counts().sort_index().plot.bar(color='magenta')\n",
    "age_plot.set(xlabel = \"age\", ylabel = \"count\")"
   ]
  },
  {
   "cell_type": "code",
   "execution_count": 67,
   "metadata": {},
   "outputs": [
    {
     "name": "stdout",
     "output_type": "stream",
     "text": [
      "0     18\n",
      "1     19\n",
      "2     20\n",
      "3     20\n",
      "4     20\n",
      "6     18\n",
      "11    20\n",
      "14    20\n",
      "17    19\n",
      "18    19\n",
      "19    19\n",
      "20    20\n",
      "dtype: int64\n",
      "0.5454545454545454\n"
     ]
    }
   ],
   "source": [
    "# ages boolean\n",
    "# what ages are in the range 18 to 20, inclusive?\n",
    "print(ages[(ages >= 18) & (ages <= 20)])\n",
    "\n",
    "# what percentage of students are in this age range?\n",
    "print(len((ages[(ages >= 18) & (ages <= 20)]))/len(ages))\n",
    "\n",
    "\n"
   ]
  },
  {
   "cell_type": "code",
   "execution_count": null,
   "metadata": {},
   "outputs": [],
   "source": [
    "# what percentage of  students are ages 18 OR 21?\n",
    "\n",
    "\n",
    "# what percentage of students are NOT 19? \n",
    "\n"
   ]
  },
  {
   "cell_type": "code",
   "execution_count": null,
   "metadata": {},
   "outputs": [],
   "source": [
    "# Now let's do all this by reading in the CSV data from the class survey\n",
    "# read in all the data"
   ]
  },
  {
   "cell_type": "code",
   "execution_count": 178,
   "metadata": {},
   "outputs": [
    {
     "name": "stdout",
     "output_type": "stream",
     "text": [
      "897\n"
     ]
    },
    {
     "data": {
      "text/plain": [
       "[['LEC001', '19', 'Computer Science', 'basil/spinach'],\n",
       " ['LEC002', '18', 'Engineering', 'pineapple'],\n",
       " ['LEC003', '19', 'Business', 'pepperoni']]"
      ]
     },
     "execution_count": 178,
     "metadata": {},
     "output_type": "execute_result"
    }
   ],
   "source": [
    "# Modified from https://automatetheboringstuff.com/chapter14/\n",
    "import csv\n",
    "def process_csv(filename):\n",
    "    example_file = open(filename, encoding=\"utf-8\")\n",
    "    example_reader = csv.reader(example_file)\n",
    "    example_data = list(example_reader)\n",
    "    example_file.close()\n",
    "    return example_data\n",
    "\n",
    "data = process_csv(\"cs220_survey_data.csv\")\n",
    "header = data[0]\n",
    "print(len(data))\n",
    "data = data[1:]\n",
    "data[:3]"
   ]
  },
  {
   "cell_type": "code",
   "execution_count": 176,
   "metadata": {},
   "outputs": [
    {
     "data": {
      "text/plain": [
       "0      19\n",
       "1      18\n",
       "2      19\n",
       "3      19\n",
       "4      19\n",
       "       ..\n",
       "877    19\n",
       "878    20\n",
       "879    21\n",
       "880    19\n",
       "881    18\n",
       "Length: 882, dtype: int64"
      ]
     },
     "execution_count": 176,
     "metadata": {},
     "output_type": "execute_result"
    }
   ],
   "source": [
    "# make a list comprehension of just the ages, but some ages are ''\n",
    "age_list = [int(row[1]) for row in data if len(row[1]) > 0]\n",
    "age_list[:5]\n",
    "\n",
    "# put that into a Pandas Series\n",
    "cs220_ages = pd.Series(age_list)\n",
    "cs220_ages"
   ]
  },
  {
   "cell_type": "code",
   "execution_count": 194,
   "metadata": {},
   "outputs": [
    {
     "name": "stdout",
     "output_type": "stream",
     "text": [
      "0    19\n",
      "dtype: int64\n",
      "21.75\n",
      "20\n",
      "16      1\n",
      "17     11\n",
      "18    214\n",
      "19    290\n",
      "20    178\n",
      "21    101\n",
      "22     41\n",
      "23     13\n",
      "24      6\n",
      "25      7\n",
      "26      4\n",
      "27      2\n",
      "28      3\n",
      "29      2\n",
      "30      2\n",
      "31      1\n",
      "32      1\n",
      "33      1\n",
      "34      1\n",
      "35      1\n",
      "37      1\n",
      "46      1\n",
      "dtype: int64\n"
     ]
    }
   ],
   "source": [
    "# find the mode\n",
    "print(cs220_ages.mode())\n",
    "\n",
    "# find the age of the 75th percentile\n",
    "print(ages.quantile(.75))\n",
    "\n",
    "# how many ages are > 25 ? \n",
    "print(len(cs220_ages[cs220_ages > 25]))\n",
    "\n",
    "\n",
    "\n"
   ]
  },
  {
   "cell_type": "code",
   "execution_count": 250,
   "metadata": {},
   "outputs": [
    {
     "data": {
      "text/plain": [
       "16      1\n",
       "17     11\n",
       "18    214\n",
       "19    290\n",
       "20    178\n",
       "21    101\n",
       "22     41\n",
       "23     13\n",
       "24      6\n",
       "25      7\n",
       "26      4\n",
       "27      2\n",
       "28      3\n",
       "29      2\n",
       "30      2\n",
       "31      1\n",
       "32      1\n",
       "33      1\n",
       "34      1\n",
       "35      1\n",
       "37      1\n",
       "46      1\n",
       "dtype: int64"
      ]
     },
     "execution_count": 250,
     "metadata": {},
     "output_type": "execute_result"
    }
   ],
   "source": [
    "# make a Series of the counts of all the ages, sorted from most common to least \n",
    "cs220_ages.value_counts().sort_values()\n",
    "\n",
    "# then sort it by index\n",
    "cs220_ages.value_counts().sort_index()"
   ]
  },
  {
   "cell_type": "code",
   "execution_count": 251,
   "metadata": {},
   "outputs": [],
   "source": [
    "# make a bar chart of the ages sorted by age\n",
    "#age_plot = cs220_ages.value_counts().sort_index().plot.bar(color='magenta')\n",
    "#age_plot.set(xlabel = \"age\", ylabel = \"count\")"
   ]
  },
  {
   "cell_type": "code",
   "execution_count": null,
   "metadata": {},
   "outputs": [],
   "source": []
  },
  {
   "cell_type": "markdown",
   "metadata": {},
   "source": [
    "## A Series is a Cross between a list and a dict\n",
    "## So we can make a series from a dict as well"
   ]
  },
  {
   "cell_type": "code",
   "execution_count": 223,
   "metadata": {},
   "outputs": [
    {
     "name": "stdout",
     "output_type": "stream",
     "text": [
      "Chris      10\n",
      "Kiara       3\n",
      "Mikayla     7\n",
      "Ann         8\n",
      "Trish       6\n",
      "dtype: int64\n",
      "Kiara       7\n",
      "Chris       3\n",
      "Trish      11\n",
      "Mikayla     2\n",
      "Ann         5\n",
      "dtype: int64\n"
     ]
    }
   ],
   "source": [
    "## Series from a dict\n",
    "game1points = pd.Series({\"Chris\": 10, \"Kiara\": 3, \"Mikayla\": 7, \"Ann\": 8, \"Trish\": 6})\n",
    "print(game1points)\n",
    "game2points = pd.Series({\"Kiara\": 7, \"Chris\": 3,  \"Trish\": 11, \"Mikayla\": 2, \"Ann\": 5 })\n",
    "print(game2points)\n"
   ]
  },
  {
   "cell_type": "code",
   "execution_count": 230,
   "metadata": {},
   "outputs": [
    {
     "data": {
      "text/plain": [
       "Ann        13\n",
       "Chris      13\n",
       "Kiara      10\n",
       "Mikayla     9\n",
       "Trish      17\n",
       "dtype: int64"
      ]
     },
     "execution_count": 230,
     "metadata": {},
     "output_type": "execute_result"
    }
   ],
   "source": [
    "# Pandas can perform operations on two series by matching up their indices\n",
    "total = game1points + game2points\n",
    "total"
   ]
  },
  {
   "cell_type": "code",
   "execution_count": 231,
   "metadata": {},
   "outputs": [
    {
     "name": "stdout",
     "output_type": "stream",
     "text": [
      "17\n",
      "Trish\n"
     ]
    }
   ],
   "source": [
    "## Who has the most points?\n",
    "print(total.max())\n",
    "print(total.idxmax())\n"
   ]
  },
  {
   "cell_type": "code",
   "execution_count": 232,
   "metadata": {},
   "outputs": [
    {
     "name": "stdout",
     "output_type": "stream",
     "text": [
      "10 10\n"
     ]
    }
   ],
   "source": [
    "# we can use [] to name the index or by its sequence number\n",
    "print(total['Kiara'], total[2])"
   ]
  },
  {
   "cell_type": "code",
   "execution_count": 233,
   "metadata": {},
   "outputs": [
    {
     "data": {
      "text/plain": [
       "Chris    13\n",
       "Trish    17\n",
       "dtype: int64"
      ]
     },
     "execution_count": 233,
     "metadata": {},
     "output_type": "execute_result"
    }
   ],
   "source": [
    "# we can have multi-indexing....slightly different from slicing\n",
    "total[  [\"Chris\", \"Trish\"]]"
   ]
  },
  {
   "cell_type": "code",
   "execution_count": 234,
   "metadata": {},
   "outputs": [
    {
     "data": {
      "text/plain": [
       "Trish      17\n",
       "Ann        13\n",
       "Chris      13\n",
       "Kiara      10\n",
       "Mikayla     9\n",
       "dtype: int64"
      ]
     },
     "execution_count": 234,
     "metadata": {},
     "output_type": "execute_result"
    }
   ],
   "source": [
    "total_sorted = total.sort_values(ascending=False)\n",
    "total_sorted"
   ]
  },
  {
   "cell_type": "code",
   "execution_count": null,
   "metadata": {},
   "outputs": [],
   "source": []
  },
  {
   "cell_type": "code",
   "execution_count": 235,
   "metadata": {},
   "outputs": [
    {
     "data": {
      "text/plain": [
       "Text(0, 0.5, 'total points')"
      ]
     },
     "execution_count": 235,
     "metadata": {},
     "output_type": "execute_result"
    },
    {
     "data": {
      "image/png": "[encoded data removed]",
      "text/plain": [
       "<Figure size 432x288 with 1 Axes>"
      ]
     },
     "metadata": {
      "needs_background": "light"
     },
     "output_type": "display_data"
    }
   ],
   "source": [
    "ax = total_sorted.plot.bar(color=\"green\", fontsize=16)\n",
    "ax.set_ylabel(\"total points\", fontsize=16)"
   ]
  },
  {
   "cell_type": "code",
   "execution_count": null,
   "metadata": {},
   "outputs": [],
   "source": []
  },
  {
   "cell_type": "markdown",
   "metadata": {},
   "source": [
    "## Some weird things when using Series"
   ]
  },
  {
   "cell_type": "code",
   "execution_count": null,
   "metadata": {},
   "outputs": [],
   "source": [
    "## Series use .loc and .iloc to access"
   ]
  },
  {
   "cell_type": "code",
   "execution_count": null,
   "metadata": {},
   "outputs": [],
   "source": []
  },
  {
   "cell_type": "code",
   "execution_count": null,
   "metadata": {},
   "outputs": [],
   "source": []
  }
 ],
 "metadata": {
  "kernelspec": {
   "display_name": "Python 3",
   "language": "python",
   "name": "python3"
  },
  "language_info": {
   "codemirror_mode": {
    "name": "ipython",
    "version": 3
   },
   "file_extension": ".py",
   "mimetype": "text/x-python",
   "name": "python",
   "nbconvert_exporter": "python",
   "pygments_lexer": "ipython3",
   "version": "3.9.1"
  }
 },
 "nbformat": 4,
 "nbformat_minor": 4
}
