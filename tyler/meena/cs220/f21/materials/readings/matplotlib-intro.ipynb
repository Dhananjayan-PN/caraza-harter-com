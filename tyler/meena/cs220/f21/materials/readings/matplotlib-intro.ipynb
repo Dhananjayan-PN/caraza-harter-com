{
 "cells": [
  {
   "cell_type": "markdown",
   "metadata": {},
   "source": [
    "# Matplotlib Intro\n",
    "*Tyler Caraza-Harter and Meenakshi Syamkumar*\n",
    "\n",
    "In this reading, we'll learn how to create plots from Pandas data.  Pandas uses a module called matplotlib to create plots.  The matplotlib library is designed to resemble MATPLOT (a programming language for matrices and environment that support visualization).\n",
    "\n",
    "While we could import matplotlib and make function calls directly to plot data, many Pandas methods for Series and DataFrame objects make this easier.  The documentation gives a nice overview of this integration [here](https://pandas.pydata.org/pandas-docs/stable/visualization.html) with more examples than provided here.\n",
    "\n",
    "Let's begin by trying to make a pie chart from a Pandas Series."
   ]
  },
  {
   "cell_type": "code",
   "execution_count": 1,
   "metadata": {},
   "outputs": [],
   "source": [
    "import pandas as pd\n",
    "from pandas import Series, DataFrame"
   ]
  },
  {
   "cell_type": "code",
   "execution_count": 2,
   "metadata": {},
   "outputs": [
    {
     "data": {
      "text/plain": [
       "0    5000000\n",
       "1    3000000\n",
       "2    2000000\n",
       "dtype: int64"
      ]
     },
     "execution_count": 2,
     "metadata": {},
     "output_type": "execute_result"
    }
   ],
   "source": [
    "# first we'll create a Series with three numbers\n",
    "s = Series([5000000, 3000000, 2000000])\n",
    "s"
   ]
  },
  {
   "cell_type": "code",
   "execution_count": 3,
   "metadata": {},
   "outputs": [
    {
     "data": {
      "text/plain": [
       "<AxesSubplot:ylabel='None'>"
      ]
     },
     "execution_count": 3,
     "metadata": {},
     "output_type": "execute_result"
    },
    {
     "data": {
      "image/png": "[encoded data removed]",
      "text/plain": [
       "<Figure size 432x288 with 1 Axes>"
      ]
     },
     "metadata": {},
     "output_type": "display_data"
    }
   ],
   "source": [
    "# there are a bunch of methods of the form Series.plot.METHOD for plotting.\n",
    "# suppose we want a pie plot:\n",
    "s.plot.pie()"
   ]
  },
  {
   "cell_type": "markdown",
   "metadata": {},
   "source": [
    "**Applicable to earlier version of Python / matplotlib / jupyter. No longer needed in the current version.**\n",
    "\n",
    "\n",
    "It turns out that matplotlib is integrated with Jupyter Notebooks, and sometimes we need a special command to tell Jupyter we want to render plots inline.  Special Jupyter commands begin with a percent sign (\"%\").  We recommend putting the following at the beginning of all your notebooks (it's a Jupyter command, not Python code, so it won't work in a regular .py file if you were to try that):"
   ]
  },
  {
   "cell_type": "code",
   "execution_count": 4,
   "metadata": {},
   "outputs": [],
   "source": [
    "%matplotlib inline"
   ]
  },
  {
   "cell_type": "markdown",
   "metadata": {},
   "source": [
    "Ok, let's try plotting again."
   ]
  },
  {
   "cell_type": "code",
   "execution_count": 5,
   "metadata": {},
   "outputs": [
    {
     "data": {
      "text/plain": [
       "<AxesSubplot:ylabel='None'>"
      ]
     },
     "execution_count": 5,
     "metadata": {},
     "output_type": "execute_result"
    },
    {
     "data": {
      "image/png": "[encoded data removed]",
      "text/plain": [
       "<Figure size 432x288 with 1 Axes>"
      ]
     },
     "metadata": {},
     "output_type": "display_data"
    }
   ],
   "source": [
    "s.plot.pie()"
   ]
  },
  {
   "cell_type": "markdown",
   "metadata": {},
   "source": [
    "Now we're getting somewhere!  Of course, there are still many issues with this plot (you should adopt the mindset of a critic when we're making plots):\n",
    "\n",
    "1. the font is tiny\n",
    "2. we can only see the relative portions, not the absolute amounts\n",
    "3. it says \"None\" to the left\n",
    "4. each slice is numbered (not labeled)\n",
    "5. there's no indication of what is being measured"
   ]
  },
  {
   "cell_type": "markdown",
   "metadata": {},
   "source": [
    "# A Better Plot\n",
    "\n",
    "Let's address some of the issues we just saw.  First, let's increase the font size.  To do this, we'll import matplotlib directly, and change the default size.  All the defaults are in a dictionary named `rcParams` in the `matplotlib` module."
   ]
  },
  {
   "cell_type": "code",
   "execution_count": 6,
   "metadata": {},
   "outputs": [
    {
     "data": {
      "text/plain": [
       "10.0"
      ]
     },
     "execution_count": 6,
     "metadata": {},
     "output_type": "execute_result"
    }
   ],
   "source": [
    "import matplotlib\n",
    "matplotlib.rcParams[\"font.size\"]"
   ]
  },
  {
   "cell_type": "markdown",
   "metadata": {},
   "source": [
    "Let's increase to size 16."
   ]
  },
  {
   "cell_type": "code",
   "execution_count": 7,
   "metadata": {},
   "outputs": [],
   "source": [
    "matplotlib.rcParams[\"font.size\"] = 18"
   ]
  },
  {
   "cell_type": "markdown",
   "metadata": {},
   "source": [
    "Second, we can pass a `figsize` tuple argument to specify the (width, height) in inches.  Let's make the pie chart a 6-by-6 inch square."
   ]
  },
  {
   "cell_type": "code",
   "execution_count": 8,
   "metadata": {},
   "outputs": [
    {
     "data": {
      "text/plain": [
       "0    5000000\n",
       "1    3000000\n",
       "2    2000000\n",
       "dtype: int64"
      ]
     },
     "execution_count": 8,
     "metadata": {},
     "output_type": "execute_result"
    }
   ],
   "source": [
    "s = Series([5000000, 3000000, 2000000])\n",
    "s"
   ]
  },
  {
   "cell_type": "code",
   "execution_count": 9,
   "metadata": {},
   "outputs": [
    {
     "data": {
      "text/plain": [
       "<AxesSubplot:ylabel='None'>"
      ]
     },
     "execution_count": 9,
     "metadata": {},
     "output_type": "execute_result"
    },
    {
     "data": {
      "image/png": "[encoded data removed]",
      "text/plain": [
       "<Figure size 432x288 with 1 Axes>"
      ]
     },
     "metadata": {},
     "output_type": "display_data"
    }
   ],
   "source": [
    "s.plot.pie()"
   ]
  },
  {
   "cell_type": "markdown",
   "metadata": {},
   "source": [
    "Great!  What about the absolute quantities?  95% of the time, it's best to replace a pie chart with a bar plot."
   ]
  },
  {
   "cell_type": "code",
   "execution_count": 10,
   "metadata": {},
   "outputs": [
    {
     "data": {
      "text/plain": [
       "<AxesSubplot:>"
      ]
     },
     "execution_count": 10,
     "metadata": {},
     "output_type": "execute_result"
    },
    {
     "data": {
      "image/png": "[encoded data removed]",
      "text/plain": [
       "<Figure size 432x288 with 1 Axes>"
      ]
     },
     "metadata": {
      "needs_background": "light"
     },
     "output_type": "display_data"
    }
   ],
   "source": [
    "s.plot.bar()"
   ]
  },
  {
   "cell_type": "markdown",
   "metadata": {},
   "source": [
    "Those x-axis labels are coming from the Series index, which goes 0, 1, 2 (because we created the Series from a list).  Let's create the Series from a dictionary to get better categories on the x-axis."
   ]
  },
  {
   "cell_type": "code",
   "execution_count": 11,
   "metadata": {},
   "outputs": [
    {
     "data": {
      "text/plain": [
       "Police     5000000\n",
       "Schools    3000000\n",
       "Fire       2000000\n",
       "dtype: int64"
      ]
     },
     "execution_count": 11,
     "metadata": {},
     "output_type": "execute_result"
    }
   ],
   "source": [
    "s = Series({\"Police\":5000000, \"Schools\":3000000, \"Fire\":2000000})\n",
    "s"
   ]
  },
  {
   "cell_type": "code",
   "execution_count": 12,
   "metadata": {},
   "outputs": [
    {
     "data": {
      "text/plain": [
       "<AxesSubplot:>"
      ]
     },
     "execution_count": 12,
     "metadata": {},
     "output_type": "execute_result"
    },
    {
     "data": {
      "image/png": "[encoded data removed]",
      "text/plain": [
       "<Figure size 432x288 with 1 Axes>"
      ]
     },
     "metadata": {
      "needs_background": "light"
     },
     "output_type": "display_data"
    }
   ],
   "source": [
    "s.plot.bar()"
   ]
  },
  {
   "cell_type": "markdown",
   "metadata": {},
   "source": [
    "What is the y-axis measuring, and how big are those numbers?  Counting zeros is annoying!\n",
    "\n",
    "Whenever we call `Series.plot.plotting_function` (where `plotting_function` might be `pie`, `bar`, or similar), it returns an AxesSubplot object.  We can call various methods on that to tweak the plot."
   ]
  },
  {
   "cell_type": "code",
   "execution_count": 13,
   "metadata": {},
   "outputs": [
    {
     "data": {
      "text/plain": [
       "Text(0, 0.5, 'Dollars (Millions)')"
      ]
     },
     "execution_count": 13,
     "metadata": {},
     "output_type": "execute_result"
    },
    {
     "data": {
      "image/png": "[encoded data removed]",
      "text/plain": [
       "<Figure size 432x288 with 1 Axes>"
      ]
     },
     "metadata": {
      "needs_background": "light"
     },
     "output_type": "display_data"
    }
   ],
   "source": [
    "millions = s / 1e6\n",
    "ax = millions.plot.bar()\n",
    "ax.set_title(\"Annual Spending\")\n",
    "ax.set_ylabel(\"Dollars (Millions)\")"
   ]
  },
  {
   "cell_type": "markdown",
   "metadata": {},
   "source": [
    "Can we rotate the x-axis labels to make those more readable?"
   ]
  },
  {
   "cell_type": "code",
   "execution_count": 14,
   "metadata": {},
   "outputs": [
    {
     "data": {
      "text/plain": [
       "[Text(0, 0, 'Police'), Text(1, 0, 'Schools'), Text(2, 0, 'Fire')]"
      ]
     },
     "execution_count": 14,
     "metadata": {},
     "output_type": "execute_result"
    },
    {
     "data": {
      "image/png": "[encoded data removed]",
      "text/plain": [
       "<Figure size 432x288 with 1 Axes>"
      ]
     },
     "metadata": {
      "needs_background": "light"
     },
     "output_type": "display_data"
    }
   ],
   "source": [
    "ax = (s / 1000000).plot.bar()\n",
    "ax.set_ylabel(\"Dollars (Millions)\")\n",
    "ax.set_title(\"Annual City Spending\")\n",
    "ax.set_xticklabels(list(s.index), rotation = 45)"
   ]
  },
  {
   "cell_type": "markdown",
   "metadata": {},
   "source": [
    "The above is a fine plot, but remember we're being critics!  A few things would help:\n",
    "\n",
    "1. it's best to be grayscale (more consistent when printed)\n",
    "2. it's best to minimize non-data ink (why box everything in?)\n",
    "3. the plot shouldn't be bigger than necessary\n",
    "\n",
    "You should all read Edward Tufte's books (over break?) to start forming your philosophy of plotting: https://www.edwardtufte.com/tufte/books_vdqi"
   ]
  },
  {
   "cell_type": "code",
   "execution_count": 15,
   "metadata": {},
   "outputs": [
    {
     "data": {
      "image/png": "[encoded data removed]",
      "text/plain": [
       "<Figure size 108x360 with 1 Axes>"
      ]
     },
     "metadata": {
      "needs_background": "light"
     },
     "output_type": "display_data"
    }
   ],
   "source": [
    "ax = millions.plot.bar(figsize=(1.5,5), color=\"0.5\") # 0 is black, 1 is white, 0.5 is halfway between\n",
    "ax.set_title(\"Annual Spending\")\n",
    "ax.set_ylabel(\"Dollars (Millions)\")\n",
    "ax.spines['right'].set_visible(False)\n",
    "ax.spines['top'].set_visible(False)"
   ]
  },
  {
   "cell_type": "markdown",
   "metadata": {},
   "source": [
    "Once you have a style you like, you should create a function so that many plots can be similar.  One way to do this is have a function that creates an AxesSubplot object and returns it.  The pandas plotting functions can this re-use this customized space.  If we import pyplot from matplotlib, we can write such a function.  For example:"
   ]
  },
  {
   "cell_type": "code",
   "execution_count": 16,
   "metadata": {},
   "outputs": [
    {
     "data": {
      "text/plain": [
       "<AxesSubplot:title={'center':'Annual Spending'}, ylabel='Dollars (Millions)'>"
      ]
     },
     "execution_count": 16,
     "metadata": {},
     "output_type": "execute_result"
    },
    {
     "data": {
      "image/png": "[encoded data removed]",
      "text/plain": [
       "<Figure size 108x288 with 1 Axes>"
      ]
     },
     "metadata": {
      "needs_background": "light"
     },
     "output_type": "display_data"
    }
   ],
   "source": [
    "from matplotlib import pyplot as plt\n",
    "\n",
    "def get_ax(figsize=(4,4)):\n",
    "    fig, ax = plt.subplots(figsize=figsize)\n",
    "    ax.spines['right'].set_visible(False)\n",
    "    ax.spines['top'].set_visible(False)\n",
    "    return ax\n",
    "\n",
    "ax=get_ax((1.5, 4))\n",
    "ax.set_title(\"Annual Spending\")\n",
    "ax.set_ylabel(\"Dollars (Millions)\")\n",
    "millions.plot.bar(ax=ax, color=\"0.5\")"
   ]
  },
  {
   "cell_type": "markdown",
   "metadata": {},
   "source": [
    "We can also create a horizontal bar plot by replacing `bar` with `barh` and switching the axis-related calls:"
   ]
  },
  {
   "cell_type": "code",
   "execution_count": 17,
   "metadata": {},
   "outputs": [
    {
     "data": {
      "text/plain": [
       "<AxesSubplot:title={'center':'Annual Spending'}, xlabel='Dollars (Millions)'>"
      ]
     },
     "execution_count": 17,
     "metadata": {},
     "output_type": "execute_result"
    },
    {
     "data": {
      "image/png": "[encoded data removed]",
      "text/plain": [
       "<Figure size 288x108 with 1 Axes>"
      ]
     },
     "metadata": {
      "needs_background": "light"
     },
     "output_type": "display_data"
    }
   ],
   "source": [
    "ax=get_ax((4, 1.5))\n",
    "ax.set_title(\"Annual Spending\")\n",
    "ax.set_xlabel(\"Dollars (Millions)\")\n",
    "millions.plot.barh(ax=ax, color=\"0.5\")"
   ]
  },
  {
   "cell_type": "markdown",
   "metadata": {},
   "source": [
    "# Example: Madison Route Distribution\n",
    "\n",
    "In this example, we want to show how many people ride the 5 most popular bus routes in Madison, relative to overall ridership.  We'll pull the data from our bus.db database we've used in previous examples."
   ]
  },
  {
   "cell_type": "code",
   "execution_count": 18,
   "metadata": {},
   "outputs": [],
   "source": [
    "import sqlite3"
   ]
  },
  {
   "cell_type": "code",
   "execution_count": 19,
   "metadata": {},
   "outputs": [],
   "source": [
    "c = sqlite3.connect('bus.db')"
   ]
  },
  {
   "cell_type": "code",
   "execution_count": 20,
   "metadata": {},
   "outputs": [
    {
     "data": {
      "text/html": [
       "<div>\n",
       "<style scoped>\n",
       "    .dataframe tbody tr th:only-of-type {\n",
       "        vertical-align: middle;\n",
       "    }\n",
       "\n",
       "    .dataframe tbody tr th {\n",
       "        vertical-align: top;\n",
       "    }\n",
       "\n",
       "    .dataframe thead th {\n",
       "        text-align: right;\n",
       "    }\n",
       "</style>\n",
       "<table border=\"1\" class=\"dataframe\">\n",
       "  <thead>\n",
       "    <tr style=\"text-align: right;\">\n",
       "      <th></th>\n",
       "      <th>index</th>\n",
       "      <th>StopID</th>\n",
       "      <th>Route</th>\n",
       "      <th>Lat</th>\n",
       "      <th>Lon</th>\n",
       "      <th>DailyBoardings</th>\n",
       "    </tr>\n",
       "  </thead>\n",
       "  <tbody>\n",
       "    <tr>\n",
       "      <th>0</th>\n",
       "      <td>0</td>\n",
       "      <td>1163</td>\n",
       "      <td>27</td>\n",
       "      <td>43.073655</td>\n",
       "      <td>-89.385427</td>\n",
       "      <td>1.03</td>\n",
       "    </tr>\n",
       "    <tr>\n",
       "      <th>1</th>\n",
       "      <td>1</td>\n",
       "      <td>1163</td>\n",
       "      <td>47</td>\n",
       "      <td>43.073655</td>\n",
       "      <td>-89.385427</td>\n",
       "      <td>0.11</td>\n",
       "    </tr>\n",
       "    <tr>\n",
       "      <th>2</th>\n",
       "      <td>2</td>\n",
       "      <td>1163</td>\n",
       "      <td>75</td>\n",
       "      <td>43.073655</td>\n",
       "      <td>-89.385427</td>\n",
       "      <td>0.34</td>\n",
       "    </tr>\n",
       "    <tr>\n",
       "      <th>3</th>\n",
       "      <td>3</td>\n",
       "      <td>1164</td>\n",
       "      <td>6</td>\n",
       "      <td>43.106465</td>\n",
       "      <td>-89.340021</td>\n",
       "      <td>10.59</td>\n",
       "    </tr>\n",
       "    <tr>\n",
       "      <th>4</th>\n",
       "      <td>4</td>\n",
       "      <td>1167</td>\n",
       "      <td>3</td>\n",
       "      <td>43.077867</td>\n",
       "      <td>-89.369993</td>\n",
       "      <td>3.11</td>\n",
       "    </tr>\n",
       "    <tr>\n",
       "      <th>5</th>\n",
       "      <td>5</td>\n",
       "      <td>1167</td>\n",
       "      <td>4</td>\n",
       "      <td>43.077867</td>\n",
       "      <td>-89.369993</td>\n",
       "      <td>2.23</td>\n",
       "    </tr>\n",
       "    <tr>\n",
       "      <th>6</th>\n",
       "      <td>6</td>\n",
       "      <td>1167</td>\n",
       "      <td>10</td>\n",
       "      <td>43.077867</td>\n",
       "      <td>-89.369993</td>\n",
       "      <td>0.11</td>\n",
       "    </tr>\n",
       "    <tr>\n",
       "      <th>7</th>\n",
       "      <td>7</td>\n",
       "      <td>1167</td>\n",
       "      <td>38</td>\n",
       "      <td>43.077867</td>\n",
       "      <td>-89.369993</td>\n",
       "      <td>1.36</td>\n",
       "    </tr>\n",
       "    <tr>\n",
       "      <th>8</th>\n",
       "      <td>8</td>\n",
       "      <td>1169</td>\n",
       "      <td>3</td>\n",
       "      <td>43.089707</td>\n",
       "      <td>-89.329817</td>\n",
       "      <td>18.90</td>\n",
       "    </tr>\n",
       "    <tr>\n",
       "      <th>9</th>\n",
       "      <td>9</td>\n",
       "      <td>1169</td>\n",
       "      <td>37</td>\n",
       "      <td>43.089707</td>\n",
       "      <td>-89.329817</td>\n",
       "      <td>1.35</td>\n",
       "    </tr>\n",
       "  </tbody>\n",
       "</table>\n",
       "</div>"
      ],
      "text/plain": [
       "   index  StopID  Route        Lat        Lon  DailyBoardings\n",
       "0      0    1163     27  43.073655 -89.385427            1.03\n",
       "1      1    1163     47  43.073655 -89.385427            0.11\n",
       "2      2    1163     75  43.073655 -89.385427            0.34\n",
       "3      3    1164      6  43.106465 -89.340021           10.59\n",
       "4      4    1167      3  43.077867 -89.369993            3.11\n",
       "5      5    1167      4  43.077867 -89.369993            2.23\n",
       "6      6    1167     10  43.077867 -89.369993            0.11\n",
       "7      7    1167     38  43.077867 -89.369993            1.36\n",
       "8      8    1169      3  43.089707 -89.329817           18.90\n",
       "9      9    1169     37  43.089707 -89.329817            1.35"
      ]
     },
     "execution_count": 20,
     "metadata": {},
     "output_type": "execute_result"
    }
   ],
   "source": [
    "# let's preview the data\n",
    "pd.read_sql(\"SELECT * from boarding LIMIT 10\", c)"
   ]
  },
  {
   "cell_type": "code",
   "execution_count": 21,
   "metadata": {},
   "outputs": [
    {
     "data": {
      "text/html": [
       "<div>\n",
       "<style scoped>\n",
       "    .dataframe tbody tr th:only-of-type {\n",
       "        vertical-align: middle;\n",
       "    }\n",
       "\n",
       "    .dataframe tbody tr th {\n",
       "        vertical-align: top;\n",
       "    }\n",
       "\n",
       "    .dataframe thead th {\n",
       "        text-align: right;\n",
       "    }\n",
       "</style>\n",
       "<table border=\"1\" class=\"dataframe\">\n",
       "  <thead>\n",
       "    <tr style=\"text-align: right;\">\n",
       "      <th></th>\n",
       "      <th>Route</th>\n",
       "      <th>ridership</th>\n",
       "    </tr>\n",
       "  </thead>\n",
       "  <tbody>\n",
       "    <tr>\n",
       "      <th>0</th>\n",
       "      <td>80</td>\n",
       "      <td>10211.79</td>\n",
       "    </tr>\n",
       "    <tr>\n",
       "      <th>1</th>\n",
       "      <td>2</td>\n",
       "      <td>4808.03</td>\n",
       "    </tr>\n",
       "    <tr>\n",
       "      <th>2</th>\n",
       "      <td>6</td>\n",
       "      <td>4537.02</td>\n",
       "    </tr>\n",
       "    <tr>\n",
       "      <th>3</th>\n",
       "      <td>10</td>\n",
       "      <td>4425.23</td>\n",
       "    </tr>\n",
       "    <tr>\n",
       "      <th>4</th>\n",
       "      <td>3</td>\n",
       "      <td>2708.55</td>\n",
       "    </tr>\n",
       "  </tbody>\n",
       "</table>\n",
       "</div>"
      ],
      "text/plain": [
       "   Route  ridership\n",
       "0     80   10211.79\n",
       "1      2    4808.03\n",
       "2      6    4537.02\n",
       "3     10    4425.23\n",
       "4      3    2708.55"
      ]
     },
     "execution_count": 21,
     "metadata": {},
     "output_type": "execute_result"
    }
   ],
   "source": [
    "# we want to see the total ridership per bus route\n",
    "df = pd.read_sql(\"SELECT Route, SUM(DailyBoardings) as ridership \" +\n",
    "                 \"FROM boarding \" +\n",
    "                 \"GROUP BY Route \" +\n",
    "                 \"ORDER BY ridership DESC\", c)\n",
    "\n",
    "# let's peek at the first few rows in the results from our query\n",
    "df.head()"
   ]
  },
  {
   "cell_type": "markdown",
   "metadata": {},
   "source": [
    "Now's a good time to stop and think about what form the data is in, and what form we want to get it to.\n",
    "\n",
    "**What we have:** a DataFrame of routes and ridership, indexed from 0.\n",
    "\n",
    "**What we want:** a Series of the top 5 buses, with route numbers as the index, and ridership as the values.\n",
    "\n",
    "Why do we want such a Series?  Because when we call `Series.plot.bar(...)` we want a bar plot with five slices.  Each pie should be labeled as a bus route (and slice labels are pulled from the index of a Series), and the size of the Series should correspond to ridership (and slice sizes are based on the values in a Series).\n",
    "\n",
    "The first step to getting the data in the form we want is to re-index `df` so that the route numbers are in the index (instead of 0, 1, 2, etc).  We can do this with the `DataFrame.set_index` function."
   ]
  },
  {
   "cell_type": "code",
   "execution_count": 22,
   "metadata": {},
   "outputs": [
    {
     "data": {
      "text/html": [
       "<div>\n",
       "<style scoped>\n",
       "    .dataframe tbody tr th:only-of-type {\n",
       "        vertical-align: middle;\n",
       "    }\n",
       "\n",
       "    .dataframe tbody tr th {\n",
       "        vertical-align: top;\n",
       "    }\n",
       "\n",
       "    .dataframe thead th {\n",
       "        text-align: right;\n",
       "    }\n",
       "</style>\n",
       "<table border=\"1\" class=\"dataframe\">\n",
       "  <thead>\n",
       "    <tr style=\"text-align: right;\">\n",
       "      <th></th>\n",
       "      <th>ridership</th>\n",
       "    </tr>\n",
       "    <tr>\n",
       "      <th>Route</th>\n",
       "      <th></th>\n",
       "    </tr>\n",
       "  </thead>\n",
       "  <tbody>\n",
       "    <tr>\n",
       "      <th>80</th>\n",
       "      <td>10211.79</td>\n",
       "    </tr>\n",
       "    <tr>\n",
       "      <th>2</th>\n",
       "      <td>4808.03</td>\n",
       "    </tr>\n",
       "    <tr>\n",
       "      <th>6</th>\n",
       "      <td>4537.02</td>\n",
       "    </tr>\n",
       "    <tr>\n",
       "      <th>10</th>\n",
       "      <td>4425.23</td>\n",
       "    </tr>\n",
       "    <tr>\n",
       "      <th>3</th>\n",
       "      <td>2708.55</td>\n",
       "    </tr>\n",
       "  </tbody>\n",
       "</table>\n",
       "</div>"
      ],
      "text/plain": [
       "       ridership\n",
       "Route           \n",
       "80      10211.79\n",
       "2        4808.03\n",
       "6        4537.02\n",
       "10       4425.23\n",
       "3        2708.55"
      ]
     },
     "execution_count": 22,
     "metadata": {},
     "output_type": "execute_result"
    }
   ],
   "source": [
    "# set_index doesn't change df, but it returns a new\n",
    "# DataFrame with the desired column as the new index\n",
    "ridership_df = df.set_index(\"Route\")\n",
    "ridership_df.head()"
   ]
  },
  {
   "cell_type": "code",
   "execution_count": 23,
   "metadata": {},
   "outputs": [
    {
     "data": {
      "text/plain": [
       "Route\n",
       "80    10211.79\n",
       "2      4808.03\n",
       "6      4537.02\n",
       "10     4425.23\n",
       "3      2708.55\n",
       "Name: ridership, dtype: float64"
      ]
     },
     "execution_count": 23,
     "metadata": {},
     "output_type": "execute_result"
    }
   ],
   "source": [
    "# we can pull the (only) ridership column from that DataFrame out\n",
    "# and keep it as a Series.\n",
    "ridership = ridership_df['ridership']\n",
    "ridership.head()"
   ]
  },
  {
   "cell_type": "markdown",
   "metadata": {},
   "source": [
    "Great!  Now we have the data in a plottable form.  Let's make the pie chart."
   ]
  },
  {
   "cell_type": "code",
   "execution_count": 24,
   "metadata": {},
   "outputs": [
    {
     "data": {
      "text/plain": [
       "<AxesSubplot:xlabel='Route'>"
      ]
     },
     "execution_count": 24,
     "metadata": {},
     "output_type": "execute_result"
    },
    {
     "data": {
      "image/png": "[encoded data removed]",
      "text/plain": [
       "<Figure size 288x288 with 1 Axes>"
      ]
     },
     "metadata": {
      "needs_background": "light"
     },
     "output_type": "display_data"
    }
   ],
   "source": [
    "ridership.plot.bar(ax=get_ax())"
   ]
  },
  {
   "cell_type": "markdown",
   "metadata": {},
   "source": [
    "This is somewhat close to the form we want.  But we only wanted the top 5 routes (so that we can actually see what is going on!)."
   ]
  },
  {
   "cell_type": "code",
   "execution_count": 25,
   "metadata": {},
   "outputs": [
    {
     "data": {
      "text/plain": [
       "<AxesSubplot:xlabel='Route'>"
      ]
     },
     "execution_count": 25,
     "metadata": {},
     "output_type": "execute_result"
    },
    {
     "data": {
      "image/png": "[encoded data removed]",
      "text/plain": [
       "<Figure size 288x288 with 1 Axes>"
      ]
     },
     "metadata": {
      "needs_background": "light"
     },
     "output_type": "display_data"
    }
   ],
   "source": [
    "ridership.head(5).plot.bar(ax=get_ax())"
   ]
  },
  {
   "cell_type": "markdown",
   "metadata": {},
   "source": [
    "Not bad, but we would ideally have an \"other\" category that captures all the routes besides the 80, 2, 6, 10, and 3.  How many routes are in this other category?"
   ]
  },
  {
   "cell_type": "code",
   "execution_count": 26,
   "metadata": {},
   "outputs": [
    {
     "data": {
      "text/plain": [
       "29296.56"
      ]
     },
     "execution_count": 26,
     "metadata": {},
     "output_type": "execute_result"
    }
   ],
   "source": [
    "other_ridership = ridership[5:].sum()\n",
    "other_ridership"
   ]
  },
  {
   "cell_type": "markdown",
   "metadata": {},
   "source": [
    "Now, we want to pull out the top 5 to a new Series, then add the other category."
   ]
  },
  {
   "cell_type": "code",
   "execution_count": 27,
   "metadata": {},
   "outputs": [
    {
     "data": {
      "text/plain": [
       "Route\n",
       "80       10211.79\n",
       "2         4808.03\n",
       "6         4537.02\n",
       "10        4425.23\n",
       "3         2708.55\n",
       "other    29296.56\n",
       "Name: ridership, dtype: float64"
      ]
     },
     "execution_count": 27,
     "metadata": {},
     "output_type": "execute_result"
    }
   ],
   "source": [
    "top5 = ridership[:5]\n",
    "top5[\"other\"] = other_ridership\n",
    "top5"
   ]
  },
  {
   "cell_type": "markdown",
   "metadata": {},
   "source": [
    "That's exactly what we want!  The ridership of the top 5 routes, and the remaining ridership spread across other routes.  Let's plot it."
   ]
  },
  {
   "cell_type": "code",
   "execution_count": 28,
   "metadata": {},
   "outputs": [
    {
     "data": {
      "text/plain": [
       "Text(0.5, 1.0, 'Madison Daily Bus Use')"
      ]
     },
     "execution_count": 28,
     "metadata": {},
     "output_type": "execute_result"
    },
    {
     "data": {
      "image/png": "[encoded data removed]",
      "text/plain": [
       "<Figure size 288x288 with 1 Axes>"
      ]
     },
     "metadata": {
      "needs_background": "light"
     },
     "output_type": "display_data"
    }
   ],
   "source": [
    "ax = get_ax()\n",
    "(top5 / 1000).plot.bar(color=\"k\", ax=ax) # \"k\" is black (because \"b\" was taken for blue)\n",
    "ax.set_ylabel(\"Riders (thousands)\")\n",
    "ax.set_title(\"Madison Daily Bus Use\")"
   ]
  },
  {
   "cell_type": "markdown",
   "metadata": {},
   "source": [
    "This is exactly what we want.  We can see the top route (the 80) is responsible for about one fifth of the ridership.  The top 5 routes together are responsible for almost half of all ridership (48%, to be exact).  To wrap up, let's make sure we close our connection to bus.db."
   ]
  },
  {
   "cell_type": "code",
   "execution_count": 29,
   "metadata": {},
   "outputs": [],
   "source": [
    "c.close()"
   ]
  },
  {
   "cell_type": "markdown",
   "metadata": {},
   "source": [
    "# Scatter Plot\n",
    "\n",
    "A scatter plot displays a collection of points along an x-axis and y-axis.  Whereas pie charts are one-dimensional (we want to see a distribution of one value, such as ridership), scatter plots are naturally two dimensionals (each point has both an x and y position).  Thus, scatter plots are generated from DataFrames (in contrast, pie charts are generated from a Series).\n",
    "\n",
    "Just as there are a collection of `Series.plot.METHOD` methods, there are also a collection of `DataFrame.plot.METHOD` methods (`scatter` is one of those methods).\n",
    "\n",
    "Let's begin by plotting some young trees.  Each tree has an age (in years), a height (in feet), and a diameter (in inches)."
   ]
  },
  {
   "cell_type": "code",
   "execution_count": 30,
   "metadata": {},
   "outputs": [
    {
     "data": {
      "text/html": [
       "<div>\n",
       "<style scoped>\n",
       "    .dataframe tbody tr th:only-of-type {\n",
       "        vertical-align: middle;\n",
       "    }\n",
       "\n",
       "    .dataframe tbody tr th {\n",
       "        vertical-align: top;\n",
       "    }\n",
       "\n",
       "    .dataframe thead th {\n",
       "        text-align: right;\n",
       "    }\n",
       "</style>\n",
       "<table border=\"1\" class=\"dataframe\">\n",
       "  <thead>\n",
       "    <tr style=\"text-align: right;\">\n",
       "      <th></th>\n",
       "      <th>age</th>\n",
       "      <th>height</th>\n",
       "      <th>diameter</th>\n",
       "    </tr>\n",
       "  </thead>\n",
       "  <tbody>\n",
       "    <tr>\n",
       "      <th>0</th>\n",
       "      <td>1</td>\n",
       "      <td>1.5</td>\n",
       "      <td>0.8</td>\n",
       "    </tr>\n",
       "    <tr>\n",
       "      <th>1</th>\n",
       "      <td>1</td>\n",
       "      <td>1.9</td>\n",
       "      <td>1.2</td>\n",
       "    </tr>\n",
       "    <tr>\n",
       "      <th>2</th>\n",
       "      <td>1</td>\n",
       "      <td>1.8</td>\n",
       "      <td>1.4</td>\n",
       "    </tr>\n",
       "    <tr>\n",
       "      <th>3</th>\n",
       "      <td>2</td>\n",
       "      <td>1.8</td>\n",
       "      <td>0.9</td>\n",
       "    </tr>\n",
       "    <tr>\n",
       "      <th>4</th>\n",
       "      <td>2</td>\n",
       "      <td>2.5</td>\n",
       "      <td>1.5</td>\n",
       "    </tr>\n",
       "    <tr>\n",
       "      <th>5</th>\n",
       "      <td>2</td>\n",
       "      <td>3.0</td>\n",
       "      <td>1.8</td>\n",
       "    </tr>\n",
       "    <tr>\n",
       "      <th>6</th>\n",
       "      <td>2</td>\n",
       "      <td>2.9</td>\n",
       "      <td>1.7</td>\n",
       "    </tr>\n",
       "    <tr>\n",
       "      <th>7</th>\n",
       "      <td>3</td>\n",
       "      <td>3.2</td>\n",
       "      <td>2.1</td>\n",
       "    </tr>\n",
       "    <tr>\n",
       "      <th>8</th>\n",
       "      <td>3</td>\n",
       "      <td>3.0</td>\n",
       "      <td>2.0</td>\n",
       "    </tr>\n",
       "    <tr>\n",
       "      <th>9</th>\n",
       "      <td>3</td>\n",
       "      <td>2.4</td>\n",
       "      <td>2.2</td>\n",
       "    </tr>\n",
       "    <tr>\n",
       "      <th>10</th>\n",
       "      <td>2</td>\n",
       "      <td>3.1</td>\n",
       "      <td>2.9</td>\n",
       "    </tr>\n",
       "    <tr>\n",
       "      <th>11</th>\n",
       "      <td>4</td>\n",
       "      <td>2.5</td>\n",
       "      <td>3.1</td>\n",
       "    </tr>\n",
       "    <tr>\n",
       "      <th>12</th>\n",
       "      <td>4</td>\n",
       "      <td>3.9</td>\n",
       "      <td>3.1</td>\n",
       "    </tr>\n",
       "    <tr>\n",
       "      <th>13</th>\n",
       "      <td>4</td>\n",
       "      <td>4.9</td>\n",
       "      <td>2.8</td>\n",
       "    </tr>\n",
       "    <tr>\n",
       "      <th>14</th>\n",
       "      <td>4</td>\n",
       "      <td>5.2</td>\n",
       "      <td>3.5</td>\n",
       "    </tr>\n",
       "    <tr>\n",
       "      <th>15</th>\n",
       "      <td>4</td>\n",
       "      <td>4.8</td>\n",
       "      <td>4.0</td>\n",
       "    </tr>\n",
       "  </tbody>\n",
       "</table>\n",
       "</div>"
      ],
      "text/plain": [
       "    age  height  diameter\n",
       "0     1     1.5       0.8\n",
       "1     1     1.9       1.2\n",
       "2     1     1.8       1.4\n",
       "3     2     1.8       0.9\n",
       "4     2     2.5       1.5\n",
       "5     2     3.0       1.8\n",
       "6     2     2.9       1.7\n",
       "7     3     3.2       2.1\n",
       "8     3     3.0       2.0\n",
       "9     3     2.4       2.2\n",
       "10    2     3.1       2.9\n",
       "11    4     2.5       3.1\n",
       "12    4     3.9       3.1\n",
       "13    4     4.9       2.8\n",
       "14    4     5.2       3.5\n",
       "15    4     4.8       4.0"
      ]
     },
     "execution_count": 30,
     "metadata": {},
     "output_type": "execute_result"
    }
   ],
   "source": [
    "trees = [\n",
    "    {\"age\": 1, \"height\": 1.5, \"diameter\": 0.8},\n",
    "    {\"age\": 1, \"height\": 1.9, \"diameter\": 1.2},\n",
    "    {\"age\": 1, \"height\": 1.8, \"diameter\": 1.4},\n",
    "    {\"age\": 2, \"height\": 1.8, \"diameter\": 0.9},\n",
    "    {\"age\": 2, \"height\": 2.5, \"diameter\": 1.5},\n",
    "    {\"age\": 2, \"height\": 3, \"diameter\": 1.8},\n",
    "    {\"age\": 2, \"height\": 2.9, \"diameter\": 1.7},\n",
    "    {\"age\": 3, \"height\": 3.2, \"diameter\": 2.1},\n",
    "    {\"age\": 3, \"height\": 3, \"diameter\": 2},\n",
    "    {\"age\": 3, \"height\": 2.4, \"diameter\": 2.2},\n",
    "    {\"age\": 2, \"height\": 3.1, \"diameter\": 2.9},\n",
    "    {\"age\": 4, \"height\": 2.5, \"diameter\": 3.1},\n",
    "    {\"age\": 4, \"height\": 3.9, \"diameter\": 3.1},\n",
    "    {\"age\": 4, \"height\": 4.9, \"diameter\": 2.8},\n",
    "    {\"age\": 4, \"height\": 5.2, \"diameter\": 3.5},\n",
    "    {\"age\": 4, \"height\": 4.8, \"diameter\": 4},\n",
    "]\n",
    "df = DataFrame(trees)\n",
    "df"
   ]
  },
  {
   "cell_type": "markdown",
   "metadata": {},
   "source": [
    "Let's plot this data and see if there seems to be any connection between tree age and tree height.  We can create plots like this: `df.plot.scatter(x=FIELD1, y=FIELD2)`."
   ]
  },
  {
   "cell_type": "code",
   "execution_count": 31,
   "metadata": {},
   "outputs": [
    {
     "data": {
      "text/plain": [
       "<AxesSubplot:xlabel='height', ylabel='age'>"
      ]
     },
     "execution_count": 31,
     "metadata": {},
     "output_type": "execute_result"
    },
    {
     "data": {
      "image/png": "[encoded data removed]",
      "text/plain": [
       "<Figure size 576x288 with 1 Axes>"
      ]
     },
     "metadata": {
      "needs_background": "light"
     },
     "output_type": "display_data"
    }
   ],
   "source": [
    "# you can choose which field is represented on the x-axis\n",
    "# and which is represented on the y-axis.\n",
    "df.plot.scatter(x='height', y='age', ax=get_ax(figsize=(8, 4)))"
   ]
  },
  {
   "cell_type": "markdown",
   "metadata": {},
   "source": [
    "Although the above plot is informative (we can see that older trees are generally taller), it's not the easiest way to visualize the information.  In general, people are accustomed to seeing time-related data on the x-axis (age is a type of time).  Thus, a more intuitive plot would reverse the axes:"
   ]
  },
  {
   "cell_type": "code",
   "execution_count": 32,
   "metadata": {},
   "outputs": [
    {
     "data": {
      "text/plain": [
       "<AxesSubplot:xlabel='age', ylabel='height'>"
      ]
     },
     "execution_count": 32,
     "metadata": {},
     "output_type": "execute_result"
    },
    {
     "data": {
      "image/png": "[encoded data removed]",
      "text/plain": [
       "<Figure size 576x288 with 1 Axes>"
      ]
     },
     "metadata": {
      "needs_background": "light"
     },
     "output_type": "display_data"
    }
   ],
   "source": [
    "df.plot.scatter(x='age', y='height', ax=get_ax(figsize=(8, 4)))"
   ]
  },
  {
   "cell_type": "markdown",
   "metadata": {},
   "source": [
    "We can also control the color (with the `c` argument) and size (with the `s` argument) of the points:"
   ]
  },
  {
   "cell_type": "code",
   "execution_count": 33,
   "metadata": {},
   "outputs": [
    {
     "data": {
      "text/plain": [
       "<AxesSubplot:xlabel='age', ylabel='height'>"
      ]
     },
     "execution_count": 33,
     "metadata": {},
     "output_type": "execute_result"
    },
    {
     "data": {
      "image/png": "[encoded data removed]",
      "text/plain": [
       "<Figure size 576x288 with 1 Axes>"
      ]
     },
     "metadata": {
      "needs_background": "light"
     },
     "output_type": "display_data"
    }
   ],
   "source": [
    "df.plot.scatter(x='age', y='height', c='black', s=50, ax=get_ax(figsize=(8, 4)))"
   ]
  },
  {
   "cell_type": "markdown",
   "metadata": {},
   "source": [
    "# Visually Communicating more Attributes"
   ]
  },
  {
   "cell_type": "markdown",
   "metadata": {},
   "source": [
    "If we want, we can also use our data to determine the size and color of each point by passing a series for these.  For example, suppose we want tall trees to be represented by large, black circles, and we wanted short trees to be represted with small gray dots.  We can pull out a display Series to control this."
   ]
  },
  {
   "cell_type": "code",
   "execution_count": 34,
   "metadata": {},
   "outputs": [
    {
     "data": {
      "text/plain": [
       "0      37.5\n",
       "1      47.5\n",
       "2      45.0\n",
       "3      45.0\n",
       "4      62.5\n",
       "5      75.0\n",
       "6      72.5\n",
       "7      80.0\n",
       "8      75.0\n",
       "9      60.0\n",
       "10     77.5\n",
       "11     62.5\n",
       "12     97.5\n",
       "13    122.5\n",
       "14    130.0\n",
       "15    120.0\n",
       "Name: height, dtype: float64"
      ]
     },
     "execution_count": 34,
     "metadata": {},
     "output_type": "execute_result"
    }
   ],
   "source": [
    "display = df['height'] * 25\n",
    "display"
   ]
  },
  {
   "cell_type": "code",
   "execution_count": 35,
   "metadata": {},
   "outputs": [
    {
     "data": {
      "text/plain": [
       "<AxesSubplot:xlabel='age', ylabel='height'>"
      ]
     },
     "execution_count": 35,
     "metadata": {},
     "output_type": "execute_result"
    },
    {
     "data": {
      "image/png": "[encoded data removed]",
      "text/plain": [
       "<Figure size 576x288 with 1 Axes>"
      ]
     },
     "metadata": {
      "needs_background": "light"
     },
     "output_type": "display_data"
    }
   ],
   "source": [
    "df.plot.scatter(x='age', y='height', c=display, s=display, ax=get_ax(figsize=(8, 4)))"
   ]
  },
  {
   "cell_type": "markdown",
   "metadata": {},
   "source": [
    "matplotlib scaled the colors such that the smallest corresponds to white and the largest corresponds to black.  This means we can't see the smallest on the white background.  We can use `vmin` and `vmax` params to choose our own limits, making sure all data falls somewhere the visible range:"
   ]
  },
  {
   "cell_type": "code",
   "execution_count": 36,
   "metadata": {},
   "outputs": [
    {
     "data": {
      "text/plain": [
       "<AxesSubplot:xlabel='age', ylabel='height'>"
      ]
     },
     "execution_count": 36,
     "metadata": {},
     "output_type": "execute_result"
    },
    {
     "data": {
      "image/png": "[encoded data removed]",
      "text/plain": [
       "<Figure size 576x288 with 1 Axes>"
      ]
     },
     "metadata": {
      "needs_background": "light"
     },
     "output_type": "display_data"
    }
   ],
   "source": [
    "ax = get_ax(figsize=(8, 4))\n",
    "df.plot.scatter(x='age', y='height', c=display, s=display, vmin=display.min()-50, ax=ax)"
   ]
  },
  {
   "cell_type": "markdown",
   "metadata": {},
   "source": [
    "Bigger numbers in the `display` Series (or any Series used with `c=`) results in darker dots, and bigger numbers also determine the size of the dots.\n",
    "\n",
    "The above plot is an example of a **reduntant** visualization.  It's reduntant because three characteristics of the plot (x-axis, dot color, and dot size) are all being used to communicate the same characteristic of the data (height).  This is a wasteful use of plot characteristics, considering that we didn't communicate anything about tree diameter.\n",
    "\n",
    "When you're thinking about how to visualize your data, you should list the interesting attributes of your data as well as the dimensions you can communicate with the plot.  Then carefully consider how to use each dimension of your plot to communicate something interesting.\n",
    "\n",
    "In this case, we have **three attributes** in our data:\n",
    "1. tree age\n",
    "2. tree height\n",
    "3. tree diameter\n",
    "\n",
    "We also have **four dimensions** we can control in our plot:\n",
    "1. x-axis\n",
    "2. y-axis\n",
    "3. dot size\n",
    "4. dot color\n",
    "\n",
    "Which dimensions should communicate which attributes?  Exact opinions will vary, but some combinations are more effective than others.\n",
    "\n",
    "One good combination will be x-axis for age, y-axis for height, and dot size for diameter.  As mentioned before, the x-axis is often used to communicate an elapsed time (an age).  It also feels very natural for a vertical axis to communicate height.  Finally, dot size seems like a better fit for diameter than color for two reasons.  First, it is intuitive to pair a spatial attribute with a spatial characteristic of the plot.  Second, color is often a tricky dimension to use.  Gray can be too light to see, printed copies will very in how good they look, and finally you need to think about how accessible your plots will be for color-blind readers.\n",
    "\n",
    "Let's see how the data looks with our final choices:"
   ]
  },
  {
   "cell_type": "code",
   "execution_count": 37,
   "metadata": {},
   "outputs": [
    {
     "data": {
      "text/plain": [
       "<AxesSubplot:xlabel='age', ylabel='height'>"
      ]
     },
     "execution_count": 37,
     "metadata": {},
     "output_type": "execute_result"
    },
    {
     "data": {
      "image/png": "[encoded data removed]",
      "text/plain": [
       "<Figure size 576x288 with 1 Axes>"
      ]
     },
     "metadata": {
      "needs_background": "light"
     },
     "output_type": "display_data"
    }
   ],
   "source": [
    "ax = get_ax(figsize=(8, 4))\n",
    "df.plot.scatter(x='age', y='height', s=df['diameter'], c='black', ax=ax)"
   ]
  },
  {
   "cell_type": "markdown",
   "metadata": {},
   "source": [
    "Those dots are a little small, and the visualization is relative (there's no scale specifying what a given dot size means), so we're free to multiply the diameter by a number of our choosing to make it more aesthetically pleasing."
   ]
  },
  {
   "cell_type": "code",
   "execution_count": 38,
   "metadata": {},
   "outputs": [
    {
     "data": {
      "text/plain": [
       "<AxesSubplot:xlabel='age', ylabel='height'>"
      ]
     },
     "execution_count": 38,
     "metadata": {},
     "output_type": "execute_result"
    },
    {
     "data": {
      "image/png": "[encoded data removed]",
      "text/plain": [
       "<Figure size 576x288 with 1 Axes>"
      ]
     },
     "metadata": {
      "needs_background": "light"
     },
     "output_type": "display_data"
    }
   ],
   "source": [
    "ax = get_ax(figsize=(8, 4))\n",
    "df.plot.scatter(x='age', y='height', s=df['diameter'] * 40, c='black', ax=ax)"
   ]
  },
  {
   "cell_type": "markdown",
   "metadata": {},
   "source": [
    "# Example: Iris Data\n",
    "\n",
    "An [Iris](https://en.wikipedia.org/wiki/Iris_%28plant%29) is a type of flowering plant.  There is a very popular dataset (often used in machine learning examples) containing a description of the dimensions of 150 Iris plants from 3 different types of Iris.\n",
    "\n",
    "The dataset is at [https://archive.ics.uci.edu/ml/machine-learning-databases/iris/iris.data](https://archive.ics.uci.edu/ml/machine-learning-databases/iris/iris.data), and a description of the data is [here](https://archive.ics.uci.edu/ml/datasets/iris).  We will plot the data for each of the three types of Iris to visually identify patterns in the data.\n",
    "\n",
    "As a first step, let's try fetching and loading the CSV data."
   ]
  },
  {
   "cell_type": "code",
   "execution_count": 39,
   "metadata": {},
   "outputs": [
    {
     "data": {
      "text/html": [
       "<div>\n",
       "<style scoped>\n",
       "    .dataframe tbody tr th:only-of-type {\n",
       "        vertical-align: middle;\n",
       "    }\n",
       "\n",
       "    .dataframe tbody tr th {\n",
       "        vertical-align: top;\n",
       "    }\n",
       "\n",
       "    .dataframe thead th {\n",
       "        text-align: right;\n",
       "    }\n",
       "</style>\n",
       "<table border=\"1\" class=\"dataframe\">\n",
       "  <thead>\n",
       "    <tr style=\"text-align: right;\">\n",
       "      <th></th>\n",
       "      <th>5.1</th>\n",
       "      <th>3.5</th>\n",
       "      <th>1.4</th>\n",
       "      <th>0.2</th>\n",
       "      <th>Iris-setosa</th>\n",
       "    </tr>\n",
       "  </thead>\n",
       "  <tbody>\n",
       "    <tr>\n",
       "      <th>0</th>\n",
       "      <td>4.9</td>\n",
       "      <td>3.0</td>\n",
       "      <td>1.4</td>\n",
       "      <td>0.2</td>\n",
       "      <td>Iris-setosa</td>\n",
       "    </tr>\n",
       "    <tr>\n",
       "      <th>1</th>\n",
       "      <td>4.7</td>\n",
       "      <td>3.2</td>\n",
       "      <td>1.3</td>\n",
       "      <td>0.2</td>\n",
       "      <td>Iris-setosa</td>\n",
       "    </tr>\n",
       "    <tr>\n",
       "      <th>2</th>\n",
       "      <td>4.6</td>\n",
       "      <td>3.1</td>\n",
       "      <td>1.5</td>\n",
       "      <td>0.2</td>\n",
       "      <td>Iris-setosa</td>\n",
       "    </tr>\n",
       "    <tr>\n",
       "      <th>3</th>\n",
       "      <td>5.0</td>\n",
       "      <td>3.6</td>\n",
       "      <td>1.4</td>\n",
       "      <td>0.2</td>\n",
       "      <td>Iris-setosa</td>\n",
       "    </tr>\n",
       "    <tr>\n",
       "      <th>4</th>\n",
       "      <td>5.4</td>\n",
       "      <td>3.9</td>\n",
       "      <td>1.7</td>\n",
       "      <td>0.4</td>\n",
       "      <td>Iris-setosa</td>\n",
       "    </tr>\n",
       "  </tbody>\n",
       "</table>\n",
       "</div>"
      ],
      "text/plain": [
       "   5.1  3.5  1.4  0.2  Iris-setosa\n",
       "0  4.9  3.0  1.4  0.2  Iris-setosa\n",
       "1  4.7  3.2  1.3  0.2  Iris-setosa\n",
       "2  4.6  3.1  1.5  0.2  Iris-setosa\n",
       "3  5.0  3.6  1.4  0.2  Iris-setosa\n",
       "4  5.4  3.9  1.7  0.4  Iris-setosa"
      ]
     },
     "execution_count": 39,
     "metadata": {},
     "output_type": "execute_result"
    }
   ],
   "source": [
    "#For some reason the direct access using read_csv function fails because of SSL certificate issue\n",
    "#df = pd.read_csv('https://archive.ics.uci.edu/ml/machine-learning-databases/iris/iris.data')\n",
    "\n",
    "#Let's download and process the local file instead\n",
    "import requests\n",
    "\n",
    "# HTTP GET request\n",
    "resp = requests.get('https://archive.ics.uci.edu/ml/machine-learning-databases/iris/iris.data')\n",
    "resp.raise_for_status()\n",
    "\n",
    "# Writing the response into a file\n",
    "iris_f = open(\"iris.data\", \"w\")\n",
    "iris_f.write(resp.text)\n",
    "iris_f.close()\n",
    "\n",
    "# Reading the csv file into a data frame\n",
    "df = pd.read_csv(\"iris.data\")\n",
    "df.head()"
   ]
  },
  {
   "cell_type": "markdown",
   "metadata": {},
   "source": [
    "Oops!  There's no CSV header in that file, so we have to tell Pandas what each field means.  From the documentation, we see the following:\n",
    "\n",
    ">1. sepal length in cm \n",
    ">2. sepal width in cm \n",
    ">3. petal length in cm \n",
    ">4. petal width in cm \n",
    ">5. class:  \n",
    ">-- Iris Setosa  \n",
    ">-- Iris Versicolour  \n",
    ">-- Iris Virginica\n",
    "\n",
    "Let's try again using `header=`."
   ]
  },
  {
   "cell_type": "code",
   "execution_count": 40,
   "metadata": {},
   "outputs": [
    {
     "data": {
      "text/html": [
       "<div>\n",
       "<style scoped>\n",
       "    .dataframe tbody tr th:only-of-type {\n",
       "        vertical-align: middle;\n",
       "    }\n",
       "\n",
       "    .dataframe tbody tr th {\n",
       "        vertical-align: top;\n",
       "    }\n",
       "\n",
       "    .dataframe thead th {\n",
       "        text-align: right;\n",
       "    }\n",
       "</style>\n",
       "<table border=\"1\" class=\"dataframe\">\n",
       "  <thead>\n",
       "    <tr style=\"text-align: right;\">\n",
       "      <th></th>\n",
       "      <th>sepal-len</th>\n",
       "      <th>sepal-wid</th>\n",
       "      <th>petal-len</th>\n",
       "      <th>petal-wid</th>\n",
       "      <th>name</th>\n",
       "    </tr>\n",
       "  </thead>\n",
       "  <tbody>\n",
       "    <tr>\n",
       "      <th>0</th>\n",
       "      <td>5.1</td>\n",
       "      <td>3.5</td>\n",
       "      <td>1.4</td>\n",
       "      <td>0.2</td>\n",
       "      <td>Iris-setosa</td>\n",
       "    </tr>\n",
       "    <tr>\n",
       "      <th>1</th>\n",
       "      <td>4.9</td>\n",
       "      <td>3.0</td>\n",
       "      <td>1.4</td>\n",
       "      <td>0.2</td>\n",
       "      <td>Iris-setosa</td>\n",
       "    </tr>\n",
       "    <tr>\n",
       "      <th>2</th>\n",
       "      <td>4.7</td>\n",
       "      <td>3.2</td>\n",
       "      <td>1.3</td>\n",
       "      <td>0.2</td>\n",
       "      <td>Iris-setosa</td>\n",
       "    </tr>\n",
       "    <tr>\n",
       "      <th>3</th>\n",
       "      <td>4.6</td>\n",
       "      <td>3.1</td>\n",
       "      <td>1.5</td>\n",
       "      <td>0.2</td>\n",
       "      <td>Iris-setosa</td>\n",
       "    </tr>\n",
       "    <tr>\n",
       "      <th>4</th>\n",
       "      <td>5.0</td>\n",
       "      <td>3.6</td>\n",
       "      <td>1.4</td>\n",
       "      <td>0.2</td>\n",
       "      <td>Iris-setosa</td>\n",
       "    </tr>\n",
       "  </tbody>\n",
       "</table>\n",
       "</div>"
      ],
      "text/plain": [
       "   sepal-len  sepal-wid  petal-len  petal-wid         name\n",
       "0        5.1        3.5        1.4        0.2  Iris-setosa\n",
       "1        4.9        3.0        1.4        0.2  Iris-setosa\n",
       "2        4.7        3.2        1.3        0.2  Iris-setosa\n",
       "3        4.6        3.1        1.5        0.2  Iris-setosa\n",
       "4        5.0        3.6        1.4        0.2  Iris-setosa"
      ]
     },
     "execution_count": 40,
     "metadata": {},
     "output_type": "execute_result"
    }
   ],
   "source": [
    "#For some reason the direct access using read_csv function fails because of SSL certificate issue\n",
    "#df = pd.read_csv('https://archive.ics.uci.edu/ml/machine-learning-databases/iris/iris.data',\n",
    "#                 names=['sepal-len', 'sepal-wid', 'petal-len', 'petal-wid', 'name'])\n",
    "\n",
    "# Let's use the downloaded file\n",
    "df = pd.read_csv(\"iris.data\", \n",
    "                names=['sepal-len', 'sepal-wid', 'petal-len', 'petal-wid', 'name'])\n",
    "df.head()"
   ]
  },
  {
   "cell_type": "markdown",
   "metadata": {},
   "source": [
    "Great!  Now lets see how many flowers there are of each type.  We can use the `Series.value_counts` method on the `name` column Series.  You should think of `value_counts` as equivalent to a `GROUP BY` with a `SUM` in SQL."
   ]
  },
  {
   "cell_type": "code",
   "execution_count": 41,
   "metadata": {},
   "outputs": [
    {
     "data": {
      "text/plain": [
       "Iris-virginica     50\n",
       "Iris-setosa        50\n",
       "Iris-versicolor    50\n",
       "Name: name, dtype: int64"
      ]
     },
     "execution_count": 41,
     "metadata": {},
     "output_type": "execute_result"
    }
   ],
   "source": [
    "iris_types = df[\"name\"].value_counts()\n",
    "iris_types"
   ]
  },
  {
   "cell_type": "code",
   "execution_count": 42,
   "metadata": {},
   "outputs": [
    {
     "data": {
      "image/png": "[encoded data removed]",
      "text/plain": [
       "<Figure size 432x288 with 1 Axes>"
      ]
     },
     "metadata": {
      "needs_background": "light"
     },
     "output_type": "display_data"
    },
    {
     "data": {
      "image/png": "[encoded data removed]",
      "text/plain": [
       "<Figure size 432x288 with 1 Axes>"
      ]
     },
     "metadata": {
      "needs_background": "light"
     },
     "output_type": "display_data"
    },
    {
     "data": {
      "image/png": "[encoded data removed]",
      "text/plain": [
       "<Figure size 432x288 with 1 Axes>"
      ]
     },
     "metadata": {
      "needs_background": "light"
     },
     "output_type": "display_data"
    }
   ],
   "source": [
    "for name in iris_types.index:\n",
    "    rows = df[df['name'] == name]\n",
    "    rows.plot.scatter(x='petal-len', y='petal-wid', title=name)"
   ]
  },
  {
   "cell_type": "markdown",
   "metadata": {},
   "source": [
    "*What if we want just one plot showing all three flower types?*  In order to distinguish, we would want the dots for each flower type to be a different color.  Not only can we pass the same `AxesSubplot` object to each plot call, but a call where we don't pass it returns a new one!"
   ]
  },
  {
   "cell_type": "code",
   "execution_count": 43,
   "metadata": {},
   "outputs": [
    {
     "data": {
      "text/plain": [
       "<AxesSubplot:xlabel='petal-len', ylabel='petal-wid'>"
      ]
     },
     "execution_count": 43,
     "metadata": {},
     "output_type": "execute_result"
    },
    {
     "data": {
      "image/png": "[encoded data removed]",
      "text/plain": [
       "<Figure size 432x288 with 1 Axes>"
      ]
     },
     "metadata": {
      "needs_background": "light"
     },
     "output_type": "display_data"
    }
   ],
   "source": [
    "ax = df[df['name'] == 'Iris-setosa'].plot.scatter(x='petal-len', y='petal-wid', c='blue')\n",
    "df[df['name'] == 'Iris-versicolor'].plot.scatter(x='petal-len', y='petal-wid', c='green', ax=ax)\n",
    "df[df['name'] == 'Iris-virginica'].plot.scatter(x='petal-len', y='petal-wid', c='black', ax=ax)"
   ]
  },
  {
   "cell_type": "code",
   "execution_count": 44,
   "metadata": {},
   "outputs": [
    {
     "data": {
      "text/plain": [
       "<AxesSubplot:xlabel='petal-len', ylabel='petal-wid'>"
      ]
     },
     "execution_count": 44,
     "metadata": {},
     "output_type": "execute_result"
    },
    {
     "data": {
      "image/png": "[encoded data removed]",
      "text/plain": [
       "<Figure size 576x288 with 1 Axes>"
      ]
     },
     "metadata": {
      "needs_background": "light"
     },
     "output_type": "display_data"
    }
   ],
   "source": [
    "ax = get_ax(figsize=(8, 4))\n",
    "df[df['name'] == 'Iris-setosa'].plot.scatter(x='petal-len', y='petal-wid', c='blue', ax=ax)\n",
    "df[df['name'] == 'Iris-versicolor'].plot.scatter(x='petal-len', y='petal-wid', c='green', ax=ax)\n",
    "df[df['name'] == 'Iris-virginica'].plot.scatter(x='petal-len', y='petal-wid', c='black', ax=ax)"
   ]
  },
  {
   "cell_type": "markdown",
   "metadata": {},
   "source": [
    "From this plot, we can make several observations:\n",
    "1. petal length is generally correlated with petal width\n",
    "2. the Setosa variety is smallest along both dimensions\n",
    "3. the Virginica variety is largest along both dimensions\n",
    "\n",
    "What about sepal size?  We leave that as an exercise for you!"
   ]
  },
  {
   "cell_type": "markdown",
   "metadata": {},
   "source": [
    "# Conclusion\n",
    "\n",
    "In this reading, we have learned how to create a bar from a Pandas Series and a scatter plot from a Pandas DataFrame.  We have also discussed the decision making process for choosing which plot characteristics should represent which data attributes.  Finally, we learned how about AxesSuplot objects and how to use them to plot multiple datasets in the same region.  We did all of this in the context of two example datasets: the Madison Metro dataset and the popular Iris dataset."
   ]
  },
  {
   "cell_type": "code",
   "execution_count": null,
   "metadata": {},
   "outputs": [],
   "source": []
  }
 ],
 "metadata": {
  "kernelspec": {
   "display_name": "Python 3",
   "language": "python",
   "name": "python3"
  },
  "language_info": {
   "codemirror_mode": {
    "name": "ipython",
    "version": 3
   },
   "file_extension": ".py",
   "mimetype": "text/x-python",
   "name": "python",
   "nbconvert_exporter": "python",
   "pygments_lexer": "ipython3",
   "version": "3.8.8"
  }
 },
 "nbformat": 4,
 "nbformat_minor": 2
}
