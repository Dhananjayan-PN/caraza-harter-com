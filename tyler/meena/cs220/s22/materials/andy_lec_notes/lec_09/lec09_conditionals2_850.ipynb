{
 "cells": [
  {
   "cell_type": "code",
   "execution_count": 2,
   "metadata": {},
   "outputs": [
    {
     "name": "stdout",
     "output_type": "stream",
     "text": [
      "Hawkeyes\n",
      "boo!!\n"
     ]
    }
   ],
   "source": [
    "# Warmup 1: What's wrong with this code? \n",
    "# Write your answer here: ....\n",
    "\n",
    "\n",
    "# What is the Python interpreter actually doing? ....\n",
    "\n",
    "# if the first part of an 'or' is false, Python just gives us the 2nd part\n",
    "\n",
    "team = \"Badgers\"\n",
    "\n",
    "print(team == \"Gophers\" or \"Hawkeyes\" or \"Bulldogs\")\n",
    "\n",
    "if team == \"Gophers\" or \"Hawkeyes\" or \"Spartans\":  \n",
    "    print (\"boo!!\")\n",
    "else:\n",
    "    print(\"yay!!\")\n",
    "\n",
    "\n",
    "# debugging tip: add a print before an if to clarify the problem\n",
    "# print(team == \"Gophers\" or \"Hawkeyes\" or \"Bulldogs\")"
   ]
  },
  {
   "cell_type": "code",
   "execution_count": 5,
   "metadata": {},
   "outputs": [
    {
     "name": "stdout",
     "output_type": "stream",
     "text": [
      "boo!!\n"
     ]
    }
   ],
   "source": [
    "# Warmup 2: Copy/paste the code above and fix the if statement\n",
    "\n",
    "team = \"Spartans\"\n",
    "\n",
    "if team == \"Gophers\" or    team == \"Hawkeyes\"   or   team ==  \"Spartans\":  \n",
    "    print (\"boo!!\")\n",
    "else:\n",
    "    print(\"yay!!\")\n",
    "\n",
    "\n",
    "# test it with several different values of phrase\n",
    "\n",
    "# \n"
   ]
  },
  {
   "cell_type": "code",
   "execution_count": 12,
   "metadata": {},
   "outputs": [
    {
     "name": "stdout",
     "output_type": "stream",
     "text": [
      "Feb\n",
      "May\n"
     ]
    }
   ],
   "source": [
    "# Warmup 3: test this function by printing out the result of several calls\n",
    "\n",
    "def month_to_str(month):\n",
    "    '''Convert a month (as an integer) into a string. 1 is Jan, 2 is Feb, etc.'''\n",
    "    if month == 1:\n",
    "        return \"Jan\"\n",
    "    elif month == 2:\n",
    "        return \"Feb\"\n",
    "    elif month == 3:\n",
    "        return \"Mar\"\n",
    "    elif month == 4:\n",
    "        return \"Apr\"\n",
    "    elif month == 5:\n",
    "        return \"May\"\n",
    "    elif month == 6:\n",
    "        return \"Jun\"\n",
    "    elif month == 7:\n",
    "        return \"Jul\"\n",
    "    elif month == 8:\n",
    "        return \"Aug\"\n",
    "    elif month == 9:\n",
    "        return \"Sep\"\n",
    "    elif month == 10:\n",
    "        return \"Oct\"\n",
    "    elif month == 11:\n",
    "        return \"Nov\"\n",
    "    elif month == 12:\n",
    "        return \"Dec\"\n",
    "    else:\n",
    "        return \"N/A\"\n",
    "\n",
    "print(month_to_str(2))\n",
    "print(month_to_str(5))"
   ]
  },
  {
   "cell_type": "code",
   "execution_count": 13,
   "metadata": {},
   "outputs": [
    {
     "name": "stdout",
     "output_type": "stream",
     "text": [
      "21st\n",
      "6th\n",
      "11th\n",
      "14th\n",
      "N/A\n"
     ]
    }
   ],
   "source": [
    "# Warmup 4: Complete this function, slightly rewritten from last lecture\n",
    "\n",
    "def day_to_str(day):\n",
    "    \"\"\"Covert a day into a date string with proper ending. \n",
    "    16 --> '16th',    23 --> '23rd', \"\"\"\n",
    "    \n",
    "    if day == 1 or day == 21 or day == 31:\n",
    "        return str(day) + \"st\"\n",
    "    elif day == 3 or day == 23:\n",
    "        return str(day) + \"rd\"\n",
    "    elif day == 2 or day == 22:\n",
    "        return str(day) + \"nd\"\n",
    "    elif 4 <= day <= 20  or 24 <= day <= 30:\n",
    "        return str(day) + \"th\"\n",
    "    else:\n",
    "        return \"N/A\"\n",
    "    \n",
    "    \n",
    "print(day_to_str(21))\n",
    "print(day_to_str(6))\n",
    "print(day_to_str(11))\n",
    "print(day_to_str(14))\n",
    "print(day_to_str(-1))"
   ]
  },
  {
   "cell_type": "code",
   "execution_count": null,
   "metadata": {},
   "outputs": [],
   "source": []
  },
  {
   "cell_type": "markdown",
   "metadata": {},
   "source": [
    "# February 14: Conditionals 2\n",
    "Learning Objectives\n",
    "\n",
    "- Read and Write Nested conditional statements\n",
    "- Define, state reasons for, and provide examples of refactoring.\n",
    "- Refactor code containing conditional statements into boolean expressions\n"
   ]
  },
  {
   "cell_type": "code",
   "execution_count": null,
   "metadata": {},
   "outputs": [],
   "source": []
  },
  {
   "cell_type": "markdown",
   "metadata": {},
   "source": [
    "### Read and Write Nested Conditional Statements"
   ]
  },
  {
   "cell_type": "code",
   "execution_count": 12,
   "metadata": {},
   "outputs": [],
   "source": [
    "# Look at the slides"
   ]
  },
  {
   "cell_type": "code",
   "execution_count": 10,
   "metadata": {},
   "outputs": [
    {
     "name": "stdout",
     "output_type": "stream",
     "text": [
      "duct tape\n",
      "WD-40\n",
      "good\n"
     ]
    }
   ],
   "source": [
    "# Nesting Example 1: Fixing it\n",
    "\n",
    "def fix(moves, should):\n",
    "    if moves:\n",
    "        if should:\n",
    "            return \"good\"\n",
    "        else:\n",
    "            return \"duct tape\"\n",
    "    else:\n",
    "        if should:\n",
    "            return \"WD-40\"\n",
    "        else:\n",
    "            return \"good\"\n",
    "        \n",
    "print(fix(moves=True, should=False))\n",
    "print(fix(moves=False, should=True))\n",
    "print(fix(moves=False, should=False))"
   ]
  },
  {
   "cell_type": "code",
   "execution_count": 14,
   "metadata": {},
   "outputs": [],
   "source": [
    "# Nesting Example 2: stoplight"
   ]
  },
  {
   "cell_type": "code",
   "execution_count": 11,
   "metadata": {},
   "outputs": [
    {
     "name": "stdout",
     "output_type": "stream",
     "text": [
      "continue\n",
      "slow to a stop\n",
      "coast\n",
      "speed up\n",
      "speed up\n"
     ]
    }
   ],
   "source": [
    "def stop_light(color, distance = 100):\n",
    "    \"\"\"given color red/yellow/green and distance in feet, return what to do as a str\"\"\"\n",
    "    if color == \"red\":\n",
    "        if distance < 50:\n",
    "            return \"slow to a stop\"\n",
    "        else:\n",
    "            return \"coast\"\n",
    "    elif color == \"yellow\":\n",
    "        if distance < 100:\n",
    "            return \"speed up\"\n",
    "        else:\n",
    "            return \"slow to a stop\"\n",
    "    else:\n",
    "        return \"continue\"\n",
    "        \n",
    "print(stop_light(\"green\", 20))\n",
    "print(stop_light(\"red\", 30))\n",
    "print(stop_light(\"red\", 100))\n",
    "print(stop_light(\"yellow\", 20))\n",
    "print(stop_light(\"yellow\", 60))"
   ]
  },
  {
   "cell_type": "code",
   "execution_count": 16,
   "metadata": {},
   "outputs": [],
   "source": [
    "# Go back and think about another way to write stoplight, using 'and'\n",
    "# This other way is called Refactoring"
   ]
  },
  {
   "cell_type": "code",
   "execution_count": null,
   "metadata": {},
   "outputs": [],
   "source": []
  },
  {
   "cell_type": "code",
   "execution_count": 17,
   "metadata": {},
   "outputs": [],
   "source": [
    "# Nesting Example 3: Date Printer"
   ]
  },
  {
   "attachments": {
    "date%20printer.png": {
     "image/png": "[encoded data removed]"
    }
   },
   "cell_type": "markdown",
   "metadata": {},
   "source": [
    "![date%20printer.png](attachment:date%20printer.png)"
   ]
  },
  {
   "cell_type": "code",
   "execution_count": 18,
   "metadata": {},
   "outputs": [],
   "source": [
    "# We wrote the first two functions previously, \n",
    "# now let's write year_to_str\n",
    "# notice how we use nesting"
   ]
  },
  {
   "cell_type": "code",
   "execution_count": 16,
   "metadata": {},
   "outputs": [
    {
     "name": "stdout",
     "output_type": "stream",
     "text": [
      "1998\n",
      "'13\n",
      "'00\n",
      "'03\n",
      "'10\n"
     ]
    }
   ],
   "source": [
    "def year_to_str(year):\n",
    "    \"\"\"Convert a year (as an integer) into a string. If the year is < 2000, return the full 4 digits\n",
    "    Otherwise, return the last 2 digits with a single quote in front\"\"\"\n",
    "    if year >= 2000:\n",
    "        if year < 2010:\n",
    "            return \"'0\" + str(year % 100)\n",
    "        else:\n",
    "            return \"'\" +  str(year % 100)\n",
    "    else:\n",
    "        return str(year)\n",
    "\n",
    "    \n",
    "print(year_to_str(1998))\n",
    "print(year_to_str(2013))\n",
    "print(year_to_str(2000))\n",
    "print(year_to_str(2003))\n",
    "print(year_to_str(2010))"
   ]
  },
  {
   "cell_type": "code",
   "execution_count": null,
   "metadata": {},
   "outputs": [],
   "source": []
  },
  {
   "cell_type": "code",
   "execution_count": 18,
   "metadata": {},
   "outputs": [
    {
     "name": "stdout",
     "output_type": "stream",
     "text": [
      "the date is:  Feb 14th of '22\n",
      "the date is:  Feb 12th of '06\n"
     ]
    }
   ],
   "source": [
    "# This function puts it all together\n",
    "def date_printer(month=1, day=1, year=1970):\n",
    "    print(\"the date is: \", month_to_str(month), day_to_str(day), \"of\", year_to_str(year))\n",
    "    \n",
    "date_printer(2, 14, 2022)\n",
    "date_printer(2, 12, 2006)"
   ]
  },
  {
   "cell_type": "code",
   "execution_count": 19,
   "metadata": {},
   "outputs": [
    {
     "name": "stdout",
     "output_type": "stream",
     "text": [
      "the date is:  Mar 17th of 1993\n"
     ]
    }
   ],
   "source": [
    "date_printer(3, 17, 1993)"
   ]
  },
  {
   "cell_type": "code",
   "execution_count": 20,
   "metadata": {},
   "outputs": [
    {
     "name": "stdout",
     "output_type": "stream",
     "text": [
      "the date is:  Jan 1st of 1970\n"
     ]
    }
   ],
   "source": [
    "date_printer()"
   ]
  },
  {
   "cell_type": "code",
   "execution_count": null,
   "metadata": {},
   "outputs": [],
   "source": []
  },
  {
   "cell_type": "code",
   "execution_count": 1,
   "metadata": {},
   "outputs": [],
   "source": []
  },
  {
   "cell_type": "markdown",
   "metadata": {},
   "source": [
    "\n",
    "\n"
   ]
  },
  {
   "cell_type": "code",
   "execution_count": null,
   "metadata": {},
   "outputs": [],
   "source": []
  },
  {
   "cell_type": "markdown",
   "metadata": {},
   "source": [
    "\n",
    "## Refactoring\n",
    "\n",
    "What is it? \n",
    "- Improving/rewriting parts of a program without changing its behavior.\n",
    "- Like a re-wording of a recipe without changing it\n",
    "\n",
    "Why do it?\n",
    "- Make it easier to read and understand the code & what it's doing\n",
    "- Sometimes to make code run faster\n",
    "\n",
    "Principles of good refactoring:\n",
    "- Don't change the program's behavior!\n",
    "- The program should end up more readable than it started\n",
    "- Use knowledge of if/else, and/or/not, ==, !=, etc."
   ]
  },
  {
   "cell_type": "code",
   "execution_count": 21,
   "metadata": {},
   "outputs": [
    {
     "name": "stdout",
     "output_type": "stream",
     "text": [
      "True\n",
      "False\n",
      "False\n"
     ]
    }
   ],
   "source": [
    "# Refactoring Example 1: too many nested if's \n",
    "# combination lock function\n",
    "\n",
    "def check_combination(a, b, c):\n",
    "    if a == 32:\n",
    "        if b == 17:\n",
    "            if c == 55:\n",
    "                return True\n",
    "            else:\n",
    "                return False\n",
    "        else:\n",
    "            return False\n",
    "    else:\n",
    "        return False\n",
    "    \n",
    "print(check_combination(32, 17, 55))\n",
    "print(check_combination(32, 10, 55))\n",
    "print(check_combination(19, 17, 55))"
   ]
  },
  {
   "cell_type": "code",
   "execution_count": 22,
   "metadata": {},
   "outputs": [
    {
     "name": "stdout",
     "output_type": "stream",
     "text": [
      "None\n"
     ]
    }
   ],
   "source": [
    "# show an incorrect way to refactor combo\n",
    "# give evidence that it does not give the same results\n",
    "def bad_combo(a, b, c):\n",
    "    if a == 32:\n",
    "        if b == 17:\n",
    "            if c == 55:\n",
    "                return True\n",
    "            else:\n",
    "                return False\n",
    "            \n",
    "print(bad_combo(10, 12, 14))"
   ]
  },
  {
   "cell_type": "code",
   "execution_count": 24,
   "metadata": {},
   "outputs": [
    {
     "name": "stdout",
     "output_type": "stream",
     "text": [
      "True\n",
      "False\n",
      "False\n"
     ]
    }
   ],
   "source": [
    "# correctly refactor combo with a new name - below\n",
    "def refactor_combo(a,b,c):\n",
    "    return a == 32 and b == 17 and c == 55\n",
    "\n",
    "\n",
    "print(refactor_combo(32, 17, 55))\n",
    "print(refactor_combo(32, 10, 55))\n",
    "print(refactor_combo(19, 17, 55))"
   ]
  },
  {
   "cell_type": "code",
   "execution_count": null,
   "metadata": {},
   "outputs": [],
   "source": []
  },
  {
   "cell_type": "code",
   "execution_count": null,
   "metadata": {},
   "outputs": [],
   "source": []
  },
  {
   "cell_type": "code",
   "execution_count": null,
   "metadata": {},
   "outputs": [],
   "source": []
  },
  {
   "cell_type": "code",
   "execution_count": 22,
   "metadata": {},
   "outputs": [
    {
     "name": "stdout",
     "output_type": "stream",
     "text": [
      "True\n",
      "False\n",
      "True\n",
      "False\n"
     ]
    }
   ],
   "source": [
    "# Refactoring Example 2: too much code\n",
    "def check_different(b1, b2):\n",
    "    if b1 == True and b2 == False:\n",
    "        return True\n",
    "    elif b1 == False and b2 == True:\n",
    "        return True\n",
    "    elif b1 == True and b2 == True:\n",
    "        return False\n",
    "    elif b1 == False and b2 == False:\n",
    "        return False\n",
    "print(check_different(True, False))\n",
    "print(check_different(False, False))\n",
    "print(check_different(False, True))\n",
    "print(check_different(True, True))"
   ]
  },
  {
   "cell_type": "code",
   "execution_count": 26,
   "metadata": {},
   "outputs": [
    {
     "name": "stdout",
     "output_type": "stream",
     "text": [
      "True\n",
      "False\n",
      "True\n"
     ]
    },
    {
     "ename": "NameError",
     "evalue": "name 'refator_check_different' is not defined",
     "output_type": "error",
     "traceback": [
      "\u001b[0;31m---------------------------------------------------------------------------\u001b[0m",
      "\u001b[0;31mNameError\u001b[0m                                 Traceback (most recent call last)",
      "\u001b[0;32m<ipython-input-26-80d33f32e531>\u001b[0m in \u001b[0;36m<module>\u001b[0;34m\u001b[0m\n\u001b[1;32m      4\u001b[0m \u001b[0mprint\u001b[0m\u001b[0;34m(\u001b[0m\u001b[0mrefactor_check_different\u001b[0m\u001b[0;34m(\u001b[0m\u001b[0;32mFalse\u001b[0m\u001b[0;34m,\u001b[0m \u001b[0;32mFalse\u001b[0m\u001b[0;34m)\u001b[0m\u001b[0;34m)\u001b[0m\u001b[0;34m\u001b[0m\u001b[0;34m\u001b[0m\u001b[0m\n\u001b[1;32m      5\u001b[0m \u001b[0mprint\u001b[0m\u001b[0;34m(\u001b[0m\u001b[0mrefactor_check_different\u001b[0m\u001b[0;34m(\u001b[0m\u001b[0;32mFalse\u001b[0m\u001b[0;34m,\u001b[0m \u001b[0;32mTrue\u001b[0m\u001b[0;34m)\u001b[0m\u001b[0;34m)\u001b[0m\u001b[0;34m\u001b[0m\u001b[0;34m\u001b[0m\u001b[0m\n\u001b[0;32m----> 6\u001b[0;31m \u001b[0mprint\u001b[0m\u001b[0;34m(\u001b[0m\u001b[0mrefator_check_different\u001b[0m\u001b[0;34m(\u001b[0m\u001b[0;32mTrue\u001b[0m\u001b[0;34m,\u001b[0m \u001b[0;32mTrue\u001b[0m\u001b[0;34m)\u001b[0m\u001b[0;34m)\u001b[0m\u001b[0;34m\u001b[0m\u001b[0;34m\u001b[0m\u001b[0m\n\u001b[0m",
      "\u001b[0;31mNameError\u001b[0m: name 'refator_check_different' is not defined"
     ]
    }
   ],
   "source": [
    "def refactor_check_different(b1,b2):\n",
    "    return b1 != b2\n",
    "print(refactor_check_different(True, False))\n",
    "print(refactor_check_different(False, False))\n",
    "print(refactor_check_different(False, True))\n",
    "print(refator_check_different(True, True))"
   ]
  },
  {
   "cell_type": "code",
   "execution_count": null,
   "metadata": {},
   "outputs": [],
   "source": [
    "# if time...refactor another previous example from this lecture"
   ]
  },
  {
   "cell_type": "code",
   "execution_count": null,
   "metadata": {},
   "outputs": [],
   "source": []
  },
  {
   "cell_type": "code",
   "execution_count": 5,
   "metadata": {},
   "outputs": [],
   "source": [
    "# Practice Problems below..\n",
    "# try these without running any code\n",
    "# then, run code to check your answer"
   ]
  },
  {
   "cell_type": "code",
   "execution_count": 1,
   "metadata": {},
   "outputs": [],
   "source": [
    "\n",
    "        \n"
   ]
  },
  {
   "cell_type": "markdown",
   "metadata": {},
   "source": [
    "### After Lecture Practice:\n",
    "\n",
    "\n",
    "1. Read the slides ....while you do the Interactive Exercises.\n",
    "\n",
    "2. Talk through them with a partner.\n",
    "\n",
    "3. Try these three sample Exam problems\n",
    "\n"
   ]
  },
  {
   "cell_type": "code",
   "execution_count": null,
   "metadata": {},
   "outputs": [],
   "source": [
    "# Refactoring Practice 1: recognizing equivalent code\n",
    "# Exam 1 Fall 2020\n",
    "def g(x,y):\n",
    "    if x:\n",
    "        if y:\n",
    "            return True\n",
    "        else:\n",
    "            return False\n",
    "    else:\n",
    "        return False\n",
    "    \n",
    "#which of the following will give the same result in all cases, as g(b1,b2) ? \n",
    "\n",
    "# a.) b1 != b2\n",
    "# b.) b1 and b2\n",
    "# c.) b1 == b2\n",
    "# d.) b1 or b2\n",
    "\n"
   ]
  },
  {
   "cell_type": "code",
   "execution_count": null,
   "metadata": {},
   "outputs": [],
   "source": [
    "# Refactoring Practice 2:\n",
    "\n",
    "def h(x,y):\n",
    "    if x:\n",
    "        return False\n",
    "    else:\n",
    "        if y:\n",
    "            return False\n",
    "        else:\n",
    "            return True\n",
    "\n",
    "        \n",
    "# which of the following will give the same result in all cases, as h(b1,b2) ?\n",
    "\n",
    "# a.) b1 != b2\n",
    "# b.) b1 and b2\n",
    "# c.) b1 == b2\n",
    "# d.) not b1 and not b2 "
   ]
  },
  {
   "cell_type": "code",
   "execution_count": null,
   "metadata": {},
   "outputs": [],
   "source": [
    "# Refactoring Practice 3:\n",
    "# Consider the following code\n",
    "\n",
    "def refactor(x,y):\n",
    "    if x:    # the expression after an if must be a boolean expression\n",
    "        return True\n",
    "    elif y:\n",
    "        return True\n",
    "    else:\n",
    "        return False\n",
    "    \n",
    "print(refactor(True, False))\n",
    "print(refactor(False, True))\n",
    "print(refactor(True, True))\n",
    "print(refactor(False, False))\n",
    "\n",
    "\n",
    "# what is the best way to refactor the body of the function ?\n",
    "# A. return x and y\n",
    "# B. return x or y\n",
    "# C. return x != y\n",
    "# D. return x == y"
   ]
  }
 ],
 "metadata": {
  "kernelspec": {
   "display_name": "Python 3",
   "language": "python",
   "name": "python3"
  },
  "language_info": {
   "codemirror_mode": {
    "name": "ipython",
    "version": 3
   },
   "file_extension": ".py",
   "mimetype": "text/x-python",
   "name": "python",
   "nbconvert_exporter": "python",
   "pygments_lexer": "ipython3",
   "version": "3.9.1"
  }
 },
 "nbformat": 4,
 "nbformat_minor": 4
}
