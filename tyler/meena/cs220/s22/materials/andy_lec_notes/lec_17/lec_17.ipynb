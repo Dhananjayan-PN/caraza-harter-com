{
 "cells": [
  {
   "cell_type": "code",
   "execution_count": null,
   "metadata": {},
   "outputs": [],
   "source": [
    "# Make sure to also download restaurants.csv and sysargv_demo.py"
   ]
  },
  {
   "cell_type": "code",
   "execution_count": 3,
   "metadata": {},
   "outputs": [
    {
     "name": "stdout",
     "output_type": "stream",
     "text": [
      "[]\n",
      "[]\n"
     ]
    }
   ],
   "source": [
    "# Warmup 1: Empty List\n",
    "\n",
    "vacation_plans = []  # I have no vacation plans :(\n",
    "print(vacation_plans)\n",
    "\n",
    "# add three things to vacation plans using .append\n",
    "\n",
    "print(vacation_plans)"
   ]
  },
  {
   "cell_type": "code",
   "execution_count": 1,
   "metadata": {},
   "outputs": [],
   "source": [
    "# Warmup 2:  Read in the restaurant data\n",
    "import csv\n",
    "\n",
    "# source:  Automate the Boring Stuff with Python Ch 12\n",
    "def process_csv(filename):\n",
    "    exampleFile = open(filename, encoding=\"utf-8\")  \n",
    "    exampleReader = csv.reader(exampleFile) \n",
    "    exampleData = list(exampleReader)        \n",
    "    exampleFile.close()  \n",
    "    return exampleData\n",
    "\n",
    "restaurant_data = process_csv('restaurants.csv')\n",
    "\n",
    "#todo: display restaurant_data\n",
    "# Question:  What do we call this data setup? "
   ]
  },
  {
   "cell_type": "code",
   "execution_count": 12,
   "metadata": {},
   "outputs": [
    {
     "data": {
      "text/plain": [
       "['McDonalds', 'Subway', 'Steenbocks', 'Greenbush Donuts', 'The Sett']"
      ]
     },
     "execution_count": 12,
     "metadata": {},
     "output_type": "execute_result"
    }
   ],
   "source": [
    "# Warmup 3:  Make a list of just the names in restaurant_data\n",
    "\n",
    "names = []  # names starts out empty, we will append to it\n",
    "for row in ???:\n",
    "    pass\n",
    "names"
   ]
  },
  {
   "cell_type": "code",
   "execution_count": 13,
   "metadata": {},
   "outputs": [
    {
     "data": {
      "text/plain": [
       "['Greenbush Donuts', 'McDonalds', 'Steenbocks', 'Subway', 'The Sett']"
      ]
     },
     "execution_count": 13,
     "metadata": {},
     "output_type": "execute_result"
    }
   ],
   "source": [
    "# Warmup 4: Sort the names\n",
    "\n",
    "\n",
    "names"
   ]
  },
  {
   "cell_type": "markdown",
   "metadata": {},
   "source": [
    "## October 15: Lists Practice"
   ]
  },
  {
   "cell_type": "code",
   "execution_count": 1,
   "metadata": {},
   "outputs": [],
   "source": [
    "# Plan for today:\n",
    "# A. review sys.argv\n",
    "# B. process restaurant data....2 different kinds of for loops\n",
    "# C. Avoid three tricky things about lists"
   ]
  },
  {
   "cell_type": "code",
   "execution_count": 11,
   "metadata": {},
   "outputs": [],
   "source": [
    "# A. review sys.argv\n",
    "# sys.argv is used in command line programming\n",
    "# it automatically stores the argument values that were typed when python was run\n",
    "\n",
    "# go \n",
    "import sys\n",
    "print (sys.argv)\n",
    "\n",
    "# lets go over to Terminal\n"
   ]
  },
  {
   "cell_type": "code",
   "execution_count": 18,
   "metadata": {},
   "outputs": [
    {
     "name": "stdout",
     "output_type": "stream",
     "text": [
      "x={}, y={}\n"
     ]
    }
   ],
   "source": [
    "#B1. write a function that is sent the name of a restaurant and return the \n",
    "# x and y coordinates as a string\n",
    "def get_coordinates(restaurant_name):   # restaurant_name is case insensitive\n",
    "    for row in restaurant_data:\n",
    "        pass\n",
    "get_coordinates(\"Greenbush Donuts\")"
   ]
  },
  {
   "cell_type": "code",
   "execution_count": 20,
   "metadata": {},
   "outputs": [
    {
     "data": {
      "text/plain": [
       "[['McDonalds', '4', '-3'],\n",
       " ['Subway', '1', '0'],\n",
       " ['Steenbocks', '0', '1'],\n",
       " ['Greenbush Donuts', '0', '-3'],\n",
       " ['The Sett', '-1', '0']]"
      ]
     },
     "execution_count": 20,
     "metadata": {},
     "output_type": "execute_result"
    }
   ],
   "source": [
    "# complete this function that computes the distance between (x1,y1) and (x2,y2)\n",
    "import math\n",
    "def distance(x1, y1, x2, y2):\n",
    "    return 0\n",
    "\n",
    "print(distance(0, 0, 3, 4)) #should be 5\n",
    "print(distance(1, 2, 2, 3)) # should be square root of 2\n",
    "print(distance(-3, 3, 2, -9)) # should be 13\n",
    "l"
   ]
  },
  {
   "cell_type": "code",
   "execution_count": 22,
   "metadata": {},
   "outputs": [
    {
     "name": "stdout",
     "output_type": "stream",
     "text": [
      "Steenbocks\n",
      "Subway\n",
      "McDonalds\n",
      "Greenbush Donuts\n"
     ]
    }
   ],
   "source": [
    "#B2. write a function that is sent x and y coordinates and returns\n",
    "# the name of the closest restaurant to those coordinates\n",
    "# use the distance formula to calculate distance\n",
    "\n",
    "def closest_restaurant(current_x, current_y):\n",
    "    '''return the name of the closest restaurant to the parameters given'''\n",
    "    closest = None     # start with no value, to be clear if no result found\n",
    "    min_dist = None    # why can't we put min_dist=0 here? \n",
    "    \n",
    "    for row in restaurant_data:\n",
    "        x1 = int(row[1])\n",
    "        y1 = int(row[2])\n",
    "        dist = distance(current_x, current_y, x1, y1)\n",
    "        #print(dist)\n",
    "        if True:   # what goes here?  why?  \n",
    "            pass\n",
    "    return closest\n",
    "\n",
    "print(closest_restaurant(3, 4))\n",
    "print(closest_restaurant(0, 0))\n",
    "print(closest_restaurant(5, -2))\n",
    "print(closest_restaurant(1, -2))\n"
   ]
  },
  {
   "cell_type": "code",
   "execution_count": 28,
   "metadata": {},
   "outputs": [
    {
     "name": "stdout",
     "output_type": "stream",
     "text": [
      "['badger', 'penguin', 'DOVE', 'BEAR', 'Giraffe']\n",
      "['penguin', 'DOVE', 'BEAR']\n"
     ]
    }
   ],
   "source": [
    "# Part C. Avoid three tricky things about lists....\n",
    "#C1. Remove or pop does not work well in a for looop\n",
    "animals = ['badger', 'hog', 'penguin', 'DOVE', 'BEAR', 'Giraffe']\n",
    "\n",
    "# the remove command can remove an item that exists in a list\n",
    "animals.remove('hog')\n",
    "print(animals)\n",
    "\n",
    "# Goal: remove all animals that are not UPPERCASE\n",
    "# incorrect way to remove all animals that are not upperase\n",
    "for a in animals:\n",
    "    if a != a.upper():\n",
    "        animals.remove(a)\n",
    "print(animals) \n",
    "\n",
    "# What happened?  Let's take a look in Python Tutor\n",
    "\n",
    "# Write to yourself what the takeaway is:"
   ]
  },
  {
   "cell_type": "code",
   "execution_count": 30,
   "metadata": {},
   "outputs": [
    {
     "name": "stdout",
     "output_type": "stream",
     "text": [
      "['DOVE', 'BEAR']\n"
     ]
    }
   ],
   "source": [
    "animals = ['badger', 'hog', 'penguin', 'DOVE', 'BEAR', 'Giraffe']\n",
    "\n",
    "#C2. correct way?  make a new list, append the values you want to keep\n",
    "\n",
    "# want to KEEP all animals that are UPPERCASE\n",
    "keep = []                    # the animals we want to keep\n",
    "for animal in animals:       # why use a variable named a ? \n",
    "    if animal.upper() == animal:  # what does this check?\n",
    "        pass \n",
    "print(keep)\n",
    "\n"
   ]
  },
  {
   "cell_type": "code",
   "execution_count": 32,
   "metadata": {},
   "outputs": [
    {
     "name": "stdout",
     "output_type": "stream",
     "text": [
      "APPLE ['apple', 'orange', 'strawberry', 'banana']\n",
      "ORANGE ['apple', 'orange', 'strawberry', 'banana']\n",
      "STRAWBERRY ['apple', 'orange', 'strawberry', 'banana']\n",
      "BANANA ['apple', 'orange', 'strawberry', 'banana']\n",
      "['apple', 'orange', 'strawberry', 'banana']\n"
     ]
    }
   ],
   "source": [
    "# C3. incorrect way to modify all elements of a list\n",
    "fruits = ['apple', 'orange', 'strawberry', 'banana']\n",
    "\n",
    "# try to change all fruits to upper case\n",
    "for f in fruits:\n",
    "    f = ???\n",
    "    print(f, fruits)\n",
    "print(fruits)\n",
    "# what happened?  Let's try this in Python Tutor"
   ]
  },
  {
   "cell_type": "code",
   "execution_count": 33,
   "metadata": {},
   "outputs": [
    {
     "name": "stdout",
     "output_type": "stream",
     "text": [
      "['APPLE', 'ORANGE', 'STRAWBERRY', 'BANANA']\n"
     ]
    }
   ],
   "source": [
    "#C4. correct way?  use indexing....\n",
    "fruits = ['apple', 'orange', 'strawberry', 'banana']\n",
    "for i in range(len(fruits)):\n",
    "    fruits[i] = ??? \n",
    "print(fruits)\n",
    "\n",
    "# what is the takeaway? "
   ]
  },
  {
   "cell_type": "code",
   "execution_count": 34,
   "metadata": {},
   "outputs": [
    {
     "name": "stdout",
     "output_type": "stream",
     "text": [
      "[33, 44, 55, 66, 77]\n",
      "2\n"
     ]
    }
   ],
   "source": [
    "# C5.  When a list is passed as an argument to a function\n",
    "# the list address is copied into the parameter\n",
    "# and changes to the list persist after the function frame ends\n",
    "# Run this in Python Tutor\n",
    "def remove_last_n_values(some_list, n):\n",
    "    while n > 0:\n",
    "        some_list.pop()\n",
    "        n -= 1\n",
    "        \n",
    "numbers = [33, 44, 55, 66, 77, 88, 99]\n",
    "x = 2\n",
    "remove_last_n_values(numbers, x)\n",
    "print(numbers)      # the changes to numbers persists\n",
    "print(x)            # note that x did not change\n",
    "\n",
    "# what is the takeaway? "
   ]
  },
  {
   "cell_type": "code",
   "execution_count": null,
   "metadata": {},
   "outputs": [],
   "source": [
    "# to fix this?  make a copy of the list, modify the copy\n",
    "numbers = [33, 44, 55, 66, 77, 88, 99]\n",
    "\n",
    "numbers_copy = numbers.copy()\n"
   ]
  }
 ],
 "metadata": {
  "kernelspec": {
   "display_name": "Python 3",
   "language": "python",
   "name": "python3"
  },
  "language_info": {
   "codemirror_mode": {
    "name": "ipython",
    "version": 3
   },
   "file_extension": ".py",
   "mimetype": "text/x-python",
   "name": "python",
   "nbconvert_exporter": "python",
   "pygments_lexer": "ipython3",
   "version": "3.9.1"
  }
 },
 "nbformat": 4,
 "nbformat_minor": 4
}
