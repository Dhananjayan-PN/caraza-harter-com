{
 "cells": [
  {
   "cell_type": "code",
   "execution_count": null,
   "metadata": {},
   "outputs": [],
   "source": []
  },
  {
   "cell_type": "markdown",
   "metadata": {},
   "source": [
    "# February 21 : Iteration Practice\n",
    "Learning Objectives:\n",
    "- Iterate through a dataset using for idx in range(project.count())\n",
    "- Compute the frequency of data that meets a certain criteria\n",
    "- Find the maximum or minimum value of a numeric column in a dataset\n",
    "- Use break and continue in for loops when processing a dataset\n",
    "- Handle missing numeric values when computing a maximum/minimum\n",
    "- Use the index of a maximum or minimum to access other information about that data item\n",
    "- Trace the output of a nested loop algorithm that prints out a game grid"
   ]
  },
  {
   "cell_type": "code",
   "execution_count": 5,
   "metadata": {},
   "outputs": [],
   "source": [
    "import project"
   ]
  },
  {
   "cell_type": "code",
   "execution_count": 7,
   "metadata": {},
   "outputs": [
    {
     "name": "stdout",
     "output_type": "stream",
     "text": [
      "Help on module project:\n",
      "\n",
      "NAME\n",
      "    project\n",
      "\n",
      "FUNCTIONS\n",
      "    __init__()\n",
      "    \n",
      "    count()\n",
      "        This function will return the number of records in the dataset\n",
      "    \n",
      "    get_early(idx)\n",
      "        get_early(idx) returns the early bird/night owl of the students in row idx\n",
      "    \n",
      "    get_pet(idx)\n",
      "        get_pet(idx) returns the favorite pet of the students in row idx\n",
      "    \n",
      "    get_pizza(idx)\n",
      "        get_pizza(idx) returns the pizza topping of the students in row idx\n",
      "    \n",
      "    get_season(idx)\n",
      "        get_season(idx) returns the favorite season of the students in row idx\n",
      "    \n",
      "    get_state(idx)\n",
      "        get_state(idx) returns the state of the students in row idx\n",
      "    \n",
      "    get_years(idx)\n",
      "        get_years(idx) returns the years of the students in row idx\n",
      "\n",
      "DATA\n",
      "    __students__ = [{'early': 'night owl', 'pet': 'Dog', 'pizza': 'Sausage...\n",
      "\n",
      "FILE\n",
      "    /Users/andrewkuemmel/cs220-s22/lectures/lec12_Feb21/project.py\n",
      "\n",
      "\n"
     ]
    }
   ],
   "source": [
    "help(project)"
   ]
  },
  {
   "cell_type": "code",
   "execution_count": 8,
   "metadata": {},
   "outputs": [
    {
     "data": {
      "text/plain": [
       "37"
      ]
     },
     "execution_count": 8,
     "metadata": {},
     "output_type": "execute_result"
    }
   ],
   "source": [
    "project.count()"
   ]
  },
  {
   "cell_type": "code",
   "execution_count": 10,
   "metadata": {},
   "outputs": [
    {
     "data": {
      "text/plain": [
       "'Wisconsin'"
      ]
     },
     "execution_count": 10,
     "metadata": {},
     "output_type": "execute_result"
    }
   ],
   "source": [
    "project.get_state(1)"
   ]
  },
  {
   "cell_type": "code",
   "execution_count": 12,
   "metadata": {},
   "outputs": [
    {
     "name": "stdout",
     "output_type": "stream",
     "text": [
      "0 Colorado\n",
      "1 Wisconsin\n",
      "2 NC\n",
      "3 Wisconsin\n",
      "4 Wisconsin\n",
      "5 Wisconsin\n",
      "6 Colorado\n",
      "7 Wisconsin\n",
      "8 Massachusetts\n",
      "9 Wisconsin\n",
      "10 Wisconsin\n"
     ]
    }
   ],
   "source": [
    "# example 1a: print and break\n",
    "for i in range(project.count()):\n",
    "    print (i, project.get_state(i))\n",
    "    if i == 10:\n",
    "        break"
   ]
  },
  {
   "cell_type": "code",
   "execution_count": 17,
   "metadata": {},
   "outputs": [
    {
     "name": "stdout",
     "output_type": "stream",
     "text": [
      "23 out of 37 love dogs\n"
     ]
    }
   ],
   "source": [
    "# example 2:  frequency of dog lovers\n",
    "frequency = 0\n",
    "for i in range(project.count()):\n",
    "    if project.get_pet(i) == 'Dog':\n",
    "        frequency += 1\n",
    "print(count, \"out of\", project.count(), \"love dogs\")"
   ]
  },
  {
   "cell_type": "code",
   "execution_count": 22,
   "metadata": {},
   "outputs": [
    {
     "name": "stdout",
     "output_type": "stream",
     "text": [
      "max number of years: 30.0\n"
     ]
    }
   ],
   "source": [
    "# example 3: max_years\n",
    "\n",
    "# max = 0 # don't use built-in function names as variables\n",
    "max_years = 0\n",
    "for i in range(project.count()):\n",
    "    if project.get_years(i) != \"\":\n",
    "        years = float(project.get_years(i)) # call function, store in variable\n",
    "        if years > max_years:\n",
    "            max_years = years\n",
    "print(\"max number of years:\", max_years)\n"
   ]
  },
  {
   "cell_type": "code",
   "execution_count": 26,
   "metadata": {},
   "outputs": [
    {
     "name": "stdout",
     "output_type": "stream",
     "text": [
      "max number of years: 30.0 from state Wisconsin\n"
     ]
    }
   ],
   "source": [
    "# example 4: state of max_years\n",
    "\n",
    "# max = 0 # don't use built-in function names as variables\n",
    "max_years = 0\n",
    "state = \"\"\n",
    "for i in range(project.count()):\n",
    "    if project.get_years(i) == \"\":\n",
    "        continue\n",
    "    years = float(project.get_years(i)) # call function, store in variable\n",
    "    if years > max_years:\n",
    "        max_years = years\n",
    "        state = project.get_state(i)\n",
    "    \n",
    "print(\"max number of years:\", max_years, \"from state\", state)"
   ]
  },
  {
   "cell_type": "code",
   "execution_count": 28,
   "metadata": {},
   "outputs": [
    {
     "name": "stdout",
     "output_type": "stream",
     "text": [
      "min number of years for a night owl: 0.5\n"
     ]
    }
   ],
   "source": [
    "# example 5: min year of those who are night owls\n",
    "\n",
    "min_years = float(project.get_years(0))\n",
    "for i in range(project.count()):\n",
    "    if project.get_early(i) == 'night owl' and project.get_years(i) != \"\":\n",
    "        years = float(project.get_years(i))\n",
    "        if years < min_years:\n",
    "            min_years = years\n",
    "            \n",
    "print(\"min number of years for a night owl:\", min_years)"
   ]
  },
  {
   "cell_type": "code",
   "execution_count": null,
   "metadata": {},
   "outputs": [],
   "source": []
  }
 ],
 "metadata": {
  "kernelspec": {
   "display_name": "Python 3",
   "language": "python",
   "name": "python3"
  },
  "language_info": {
   "codemirror_mode": {
    "name": "ipython",
    "version": 3
   },
   "file_extension": ".py",
   "mimetype": "text/x-python",
   "name": "python",
   "nbconvert_exporter": "python",
   "pygments_lexer": "ipython3",
   "version": "3.9.1"
  }
 },
 "nbformat": 4,
 "nbformat_minor": 4
}
