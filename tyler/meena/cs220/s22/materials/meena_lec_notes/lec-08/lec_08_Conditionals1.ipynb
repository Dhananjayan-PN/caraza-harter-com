{
 "cells": [
  {
   "cell_type": "markdown",
   "id": "309ae71d",
   "metadata": {},
   "source": [
    "# Conditionals 1"
   ]
  },
  {
   "cell_type": "markdown",
   "id": "9f23b102",
   "metadata": {},
   "source": [
    "## Learing Objectives\n",
    "\n",
    "- Write conditional Statements\n",
    "    - using Conditional execution\t(if)\n",
    "    - using Alternate execution\t\t(if/else)\n",
    "    - using Chained conditionals\t(if/elif/elif/…/else)\n",
    "  \n",
    "- Identify code blocks (indentation layers) in a program \n",
    "    - count the number of blocks in a segment of code\n",
    "\n",
    "- Determine the output of code with conditional statements"
   ]
  },
  {
   "cell_type": "markdown",
   "id": "a5935b5d",
   "metadata": {},
   "source": [
    "### Example 0: Classify English words as \"short\"\n",
    "\n",
    "- TODO: discuss what number can be filled into the below blank\n",
    "- A word in English is \"short\" if it has \\_\\_\\_5_\\_\\_ letters or less otherwise it is \"long\""
   ]
  },
  {
   "cell_type": "code",
   "execution_count": 1,
   "id": "99f93d73",
   "metadata": {},
   "outputs": [
    {
     "name": "stdout",
     "output_type": "stream",
     "text": [
      "snow is short\n",
      "short words are fun\n"
     ]
    }
   ],
   "source": [
    "# TODO: initialize word with some short word\n",
    "word = \"snow\"\n",
    "\n",
    "# TODO: compute length of word\n",
    "word_length = len(word)\n",
    "\n",
    "# Now let's write our first conditional for short words\n",
    "if word_length <= 5:  \n",
    "    print(word, \"is short\")\n",
    "    print(\"short words are fun\") "
   ]
  },
  {
   "cell_type": "code",
   "execution_count": 2,
   "id": "97a0e006",
   "metadata": {},
   "outputs": [
    {
     "name": "stdout",
     "output_type": "stream",
     "text": [
      "spectacular is long\n",
      "long words are interesting\n"
     ]
    }
   ],
   "source": [
    "# TODO: initialize word with some short word\n",
    "word = \"spectacular\"\n",
    "\n",
    "# TODO: compute length of word\n",
    "word_length = len(word)\n",
    "\n",
    "# TODO: write another conditional for long words\n",
    "if word_length > 5:\n",
    "    print(word, \"is long\")\n",
    "    print(\"long words are interesting\")"
   ]
  },
  {
   "cell_type": "markdown",
   "id": "28d15336",
   "metadata": {},
   "source": [
    "## Example 0 (version 2): Classify English words as \"short\" or \"long\"\n",
    "\n",
    "- `if` block conditional execution\n",
    "- `else` block alternate execution"
   ]
  },
  {
   "cell_type": "code",
   "execution_count": 3,
   "id": "dafc0074",
   "metadata": {},
   "outputs": [
    {
     "name": "stdout",
     "output_type": "stream",
     "text": [
      "edify is short\n",
      "short words are fun\n"
     ]
    }
   ],
   "source": [
    "# TODO: initialize word with some short word\n",
    "word = \"edify\"\n",
    "\n",
    "# TODO: compute length of word\n",
    "word_length = len(word)\n",
    "\n",
    "# Now let's write our first conditional for short words\n",
    "if word_length <= 5:\n",
    "    # conditional execution\n",
    "    print(word, \"is short\")\n",
    "    print(\"short words are fun\") \n",
    "else:                           \n",
    "    # alternate execution\n",
    "    print(word, \"is long\")\n",
    "    print(\"long words are interesting\")\n",
    "    \n",
    "# TODO: go back to line 2 and change word's initialization to a long word"
   ]
  },
  {
   "cell_type": "markdown",
   "id": "b14628c6",
   "metadata": {},
   "source": [
    "## PythonTutor visualization\n",
    "\n",
    "- copy and paste the final version of example 0 into PythonTutor and step through the code, to solidify understanding of control flow"
   ]
  },
  {
   "cell_type": "markdown",
   "id": "97da9526",
   "metadata": {},
   "source": [
    "## Example 1: Classifying Children by Age\n",
    "- does anyone know what is the age bound for \"baby\" or \"infant\"?\n",
    "- what about a \"toddler\"?\n",
    "- Chained conditionals:\n",
    "    - multiple branch within the same conditional\n",
    "        - connected conditions\n",
    "    - if conditional branch\n",
    "    - elif subjective conditional branch(es)\n",
    "        - elif conditions are subjective to the if condition\n",
    "        - that is, only when if condition evaluates to `False`, the next elif condition is evaluated\n",
    "        - only when the first elif condition evaluates to `False`, the second elif condition is evaluated\n",
    "        - and so on ...\n",
    "    - else alternate branch"
   ]
  },
  {
   "cell_type": "code",
   "execution_count": 4,
   "id": "b969d76d",
   "metadata": {},
   "outputs": [
    {
     "name": "stdout",
     "output_type": "stream",
     "text": [
      "Enter your age: 2\n",
      "You are a: toddler\n"
     ]
    }
   ],
   "source": [
    "# TODO: get age as user input\n",
    "# TODO: what is the default return type of input function call?\n",
    "age = int(input(\"Enter your age: \")) \n",
    "\n",
    "def categorize_age(age):\n",
    "    if 0 <= age <= 1:\n",
    "        return \"infant\"\n",
    "    elif 2 <= age <= 3:\n",
    "        return \"toddler\"\n",
    "    elif 4 <= age <= 10:\n",
    "        return \"kid\"\n",
    "    elif 11 <= age <= 12:\n",
    "        return \"tween\"\n",
    "    elif 13 <= age <= 17:\n",
    "        return \"teen\"\n",
    "    else:\n",
    "        return \"adult\"\n",
    "    \n",
    "print(\"You are a:\", categorize_age(age))"
   ]
  },
  {
   "cell_type": "markdown",
   "id": "172ace46",
   "metadata": {},
   "source": [
    "## Example 2: Date Printer\n",
    "- converts 2/11/2022 to \"Feb 11th of ‘22\""
   ]
  },
  {
   "cell_type": "code",
   "execution_count": 5,
   "id": "96709e36",
   "metadata": {},
   "outputs": [],
   "source": [
    "def format_month(month):\n",
    "    \"\"\"Convert a month (as an integer) into a string. \n",
    "    1 is Jan, 2 is Feb, etc.\"\"\"\n",
    "    if month == 1:\n",
    "        return \"Jan\"\n",
    "    elif month == 2:\n",
    "        return \"Feb\"\n",
    "    elif month == 3:\n",
    "        return \"Mar\"\n",
    "    elif month == 4:\n",
    "        return \"Apr\"\n",
    "    elif month == 5:\n",
    "        return \"May\"\n",
    "    elif month == 6:\n",
    "        return \"Jun\"\n",
    "    elif month == 7:\n",
    "        return \"Jul\"\n",
    "    elif month == 8:\n",
    "        return \"Aug\"\n",
    "    elif month == 9:\n",
    "        return \"Sep\"\n",
    "    elif month == 10:\n",
    "        return \"Oct\"\n",
    "    elif month == 11:\n",
    "        return \"Nov\"\n",
    "    elif month == 12:\n",
    "        return \"Dec\"\n",
    "    else:\n",
    "        return \"Invalid month!\""
   ]
  },
  {
   "cell_type": "code",
   "execution_count": 6,
   "id": "528f10f6",
   "metadata": {},
   "outputs": [
    {
     "name": "stdout",
     "output_type": "stream",
     "text": [
      "1st\n",
      "2nd\n",
      "3rd\n",
      "11th\n",
      "21st\n",
      "111th\n",
      "error\n"
     ]
    }
   ],
   "source": [
    "def format_day(day):\n",
    "    \"\"\"Covert a day into a date string with proper ending. \n",
    "    16 --> '16th',    23 --> '23rd', \"\"\"\n",
    "    suffix = \"\"\n",
    "    if day < 1:\n",
    "        suffix = \"error\"\n",
    "    elif 11 <= day % 100 <= 20:\n",
    "        suffix = str(day) + \"th\"\n",
    "    elif day % 10 == 1:\n",
    "        suffix = str(day) + \"st\"\n",
    "    elif day % 10 == 2:\n",
    "        suffix = str(day) + \"nd\"\n",
    "    elif day % 10 == 3:\n",
    "        suffix = str(day) + \"rd\"\n",
    "    else:\n",
    "        suffix = str(day) + \"th\"\n",
    "        \n",
    "    return suffix\n",
    "\n",
    "print(format_day(1))\n",
    "print(format_day(2))\n",
    "print(format_day(3))\n",
    "print(format_day(11))\n",
    "print(format_day(21))\n",
    "print(format_day(111))\n",
    "print(format_day(-1))"
   ]
  },
  {
   "cell_type": "code",
   "execution_count": 7,
   "id": "fd3a653d",
   "metadata": {},
   "outputs": [],
   "source": [
    "def format_date(month, day, year):\n",
    "    \"\"\"returns a string representing the date, such as Feb 11th of ‘22\"\"\"\n",
    "    result_str = \"\"\n",
    "    result_str += format_month(month)\n",
    "    result_str += \" \" + format_day(day)\n",
    "    result_str += \" of '\" + str(year % 100)\n",
    "    \n",
    "    return result_str"
   ]
  },
  {
   "cell_type": "code",
   "execution_count": 8,
   "id": "8ecd4d9d",
   "metadata": {},
   "outputs": [
    {
     "data": {
      "text/plain": [
       "\"Feb 11th of '22\""
      ]
     },
     "execution_count": 8,
     "metadata": {},
     "output_type": "execute_result"
    }
   ],
   "source": [
    "format_date(2, 11, 2022)"
   ]
  }
 ],
 "metadata": {
  "kernelspec": {
   "display_name": "Python 3 (ipykernel)",
   "language": "python",
   "name": "python3"
  },
  "language_info": {
   "codemirror_mode": {
    "name": "ipython",
    "version": 3
   },
   "file_extension": ".py",
   "mimetype": "text/x-python",
   "name": "python",
   "nbconvert_exporter": "python",
   "pygments_lexer": "ipython3",
   "version": "3.9.7"
  }
 },
 "nbformat": 4,
 "nbformat_minor": 5
}
