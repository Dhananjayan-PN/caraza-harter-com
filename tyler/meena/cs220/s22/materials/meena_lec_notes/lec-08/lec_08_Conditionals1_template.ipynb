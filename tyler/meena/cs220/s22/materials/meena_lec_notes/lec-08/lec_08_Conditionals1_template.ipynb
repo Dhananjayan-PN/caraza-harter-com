{
 "cells": [
  {
   "cell_type": "markdown",
   "id": "d6127dcd",
   "metadata": {},
   "source": [
    "# Conditionals 1"
   ]
  },
  {
   "cell_type": "markdown",
   "id": "3a1da927",
   "metadata": {},
   "source": [
    "## Learing Objectives\n",
    "\n",
    "- Write conditional Statements\n",
    "    - using Conditional execution\t(if)\n",
    "    - using Alternate execution\t\t(if/else)\n",
    "    - using Chained conditionals\t(if/elif/elif/…/else)\n",
    "  \n",
    "- Identify code blocks (indentation layers) in a program \n",
    "    - count the number of blocks in a segment of code\n",
    "\n",
    "- Determine the output of code with conditional statements"
   ]
  },
  {
   "cell_type": "markdown",
   "id": "70764c2f",
   "metadata": {},
   "source": [
    "### Example 0: Classify English words as \"short\"\n",
    "\n",
    "- TODO: discuss what number can be filled into the below blank\n",
    "- A word in English is \"short\" if it has \\_\\_\\_5_\\_\\_ letters or less otherwise it is \"long\""
   ]
  },
  {
   "cell_type": "code",
   "execution_count": null,
   "id": "5bfd1dfc",
   "metadata": {},
   "outputs": [],
   "source": [
    "# TODO: initialize word with some short word\n",
    "word = \"\"\n",
    "\n",
    "# TODO: compute length of word\n",
    "\n",
    "# Now let's write our first conditional for short words\n"
   ]
  },
  {
   "cell_type": "code",
   "execution_count": null,
   "id": "405b05b4",
   "metadata": {},
   "outputs": [],
   "source": [
    "# TODO: initialize word with some short word\n",
    "word = \"\"\n",
    "\n",
    "# TODO: compute length of word\n",
    "\n",
    "# TODO: write another conditional for long words\n"
   ]
  },
  {
   "cell_type": "markdown",
   "id": "cbb7dd27",
   "metadata": {},
   "source": [
    "## Example 0 (version 2): Classify English words as \"short\" or \"long\"\n",
    "\n",
    "- `if` block conditional execution\n",
    "- `else` block alternate execution"
   ]
  },
  {
   "cell_type": "code",
   "execution_count": null,
   "id": "de3d99d5",
   "metadata": {},
   "outputs": [],
   "source": [
    "# TODO: initialize word with some short word\n",
    "word = \"\"\n",
    "\n",
    "# TODO: compute length of word\n",
    "\n",
    "\n",
    "# Now let's write our first conditional for short words\n",
    "\n",
    "    \n",
    "# TODO: go back to line 2 and change word's initialization to a long word"
   ]
  },
  {
   "cell_type": "markdown",
   "id": "7ef6a667",
   "metadata": {},
   "source": [
    "## PythonTutor visualization\n",
    "\n",
    "- copy and paste the final version of example 0 into PythonTutor and step through the code, to solidify understanding of control flow"
   ]
  },
  {
   "cell_type": "markdown",
   "id": "228b0d20",
   "metadata": {},
   "source": [
    "## Example 1: Classifying Children by Age\n",
    "- does anyone know what is the age bound for \"baby\" or \"infant\"?\n",
    "- what about a \"toddler\"?\n",
    "- Chained conditionals:\n",
    "    - multiple branch within the same conditional\n",
    "        - connected conditions\n",
    "    - if conditional branch\n",
    "    - elif subjective conditional branch(es)\n",
    "        - elif conditions are subjective to the if condition\n",
    "        - that is, only when if condition evaluates to `False`, the next elif condition is evaluated\n",
    "        - only when the first elif condition evaluates to `False`, the second elif condition is evaluated\n",
    "        - and so on ...\n",
    "    - else alternate branch"
   ]
  },
  {
   "cell_type": "code",
   "execution_count": null,
   "id": "7b488f08",
   "metadata": {},
   "outputs": [],
   "source": [
    "# TODO: get age as user input\n",
    "# TODO: what is the default return type of input function call?\n",
    "\n",
    "def categorize_age(age):\n",
    "    pass\n",
    "    \n",
    "print(\"You are a:\", categorize_age(age))"
   ]
  },
  {
   "cell_type": "markdown",
   "id": "75e929a5",
   "metadata": {},
   "source": [
    "## Example 2: Date Printer\n",
    "- converts 2/11/2022 to \"Feb 11th of ‘22\""
   ]
  },
  {
   "cell_type": "code",
   "execution_count": null,
   "id": "2003474f",
   "metadata": {},
   "outputs": [],
   "source": [
    "def format_month(month):\n",
    "    \"\"\"Convert a month (as an integer) into a string. \n",
    "    1 is Jan, 2 is Feb, etc.\"\"\"\n",
    "    pass"
   ]
  },
  {
   "cell_type": "code",
   "execution_count": null,
   "id": "87ab280f",
   "metadata": {},
   "outputs": [],
   "source": [
    "def format_day(day):\n",
    "    \"\"\"Covert a day into a date string with proper ending. \n",
    "    16 --> '16th',    23 --> '23rd', \"\"\"\n",
    "    suffix = \"\"\n",
    "    \n",
    "    # TODO: write the conditional here\n",
    "    \n",
    "    return suffix\n",
    "\n",
    "print(format_day(1))\n",
    "print(format_day(2))\n",
    "print(format_day(3))\n",
    "print(format_day(11))\n",
    "print(format_day(21))\n",
    "print(format_day(111))\n",
    "print(format_day(-1))"
   ]
  },
  {
   "cell_type": "code",
   "execution_count": null,
   "id": "7ed7a9e0",
   "metadata": {},
   "outputs": [],
   "source": [
    "def format_date(month, day, year):\n",
    "    \"\"\"returns a string representing the date, such as Feb 11th of ‘22\"\"\"\n",
    "    pass"
   ]
  },
  {
   "cell_type": "code",
   "execution_count": null,
   "id": "705c4c5c",
   "metadata": {},
   "outputs": [],
   "source": [
    "format_date(2, 11, 2022)"
   ]
  }
 ],
 "metadata": {
  "kernelspec": {
   "display_name": "Python 3 (ipykernel)",
   "language": "python",
   "name": "python3"
  },
  "language_info": {
   "codemirror_mode": {
    "name": "ipython",
    "version": 3
   },
   "file_extension": ".py",
   "mimetype": "text/x-python",
   "name": "python",
   "nbconvert_exporter": "python",
   "pygments_lexer": "ipython3",
   "version": "3.9.7"
  }
 },
 "nbformat": 4,
 "nbformat_minor": 5
}
