{
 "cells": [
  {
   "cell_type": "markdown",
   "metadata": {},
   "source": [
    "# Error handling\n",
    "Keywords:\n",
    "- assert\n",
    "- try ... except\n",
    "- raise"
   ]
  },
  {
   "cell_type": "code",
   "execution_count": null,
   "metadata": {},
   "outputs": [],
   "source": [
    "# This cell just makes juypter notebook use the full width of the screen and changes \n",
    "# some of the text to red.  You can ignore this cell\n",
    "from IPython.core.display import HTML\n",
    "HTML('<style>em { color: red; }</style> <style>.container {width:100% !important; }</style>')"
   ]
  },
  {
   "cell_type": "code",
   "execution_count": null,
   "metadata": {},
   "outputs": [],
   "source": [
    "#import statements\n",
    "import math"
   ]
  },
  {
   "cell_type": "markdown",
   "metadata": {},
   "source": [
    "### Why might you want your code to crash more?\n",
    "\n",
    "- It is easier to debug the program if we get a stack trace\n",
    "- Semantic errors are the scariest because we don't get any kind of error"
   ]
  },
  {
   "cell_type": "markdown",
   "metadata": {},
   "source": [
    "### When is it fine for your code to crash less?\n",
    "\n",
    "- When user enters incorrect input, we simply want to display an error message and not crash\n",
    "- When the program has syntax error, we definitely want the program to crash"
   ]
  },
  {
   "cell_type": "markdown",
   "metadata": {},
   "source": [
    "## Pizza Analyzer"
   ]
  },
  {
   "cell_type": "code",
   "execution_count": null,
   "metadata": {},
   "outputs": [],
   "source": [
    "def pizza_size(radius):\n",
    "    return (radius ** 2) * math.pi\n",
    "\n",
    "def slice_size(radius, slice_count):\n",
    "    total_size = pizza_size(radius)\n",
    "    return total_size * (1 / slice_count)\n",
    "\n",
    "def main():\n",
    "    for i in range(5):\n",
    "        # grab input\n",
    "        args = input(\"Enter pizza diameter(inches), slice count: \")\n",
    "        args = args.split(',')\n",
    "        radius = float(args[0].strip()) / 2\n",
    "        slices = int(args[1].strip())\n",
    "\n",
    "        # pizza analysis\n",
    "        size = slice_size(radius, slices)\n",
    "        print('PIZZA: radius = {}, slices = {}, slice square inches = {}'\n",
    "              .format(radius, slices, size))"
   ]
  },
  {
   "cell_type": "markdown",
   "metadata": {},
   "source": [
    "### Try valid input of 4, 4 for main invocation\n",
    "\n",
    "### Then, try these problematic inputs for the main() function invocation\n",
    "\n",
    "- 10, 0: ZeroDivisionError\n",
    "- 10: IndexError\n",
    "- 10, hello: ValueError\n",
    "- 10, 4.5: ValueError\n",
    "- 10, -4: Semantic error\n",
    "- -10, 4: Semantic error (scariest error for this example)"
   ]
  },
  {
   "cell_type": "code",
   "execution_count": null,
   "metadata": {},
   "outputs": [],
   "source": [
    "main()"
   ]
  },
  {
   "cell_type": "markdown",
   "metadata": {},
   "source": [
    "### Let's improvise error handling in pizza analyzer\n",
    "- using assert\n",
    "- assert statements enable you to convert semantic errors into runtime errors\n",
    "- assert statements make your program very slow!"
   ]
  },
  {
   "cell_type": "markdown",
   "metadata": {},
   "source": [
    "### Try these problematic inputs for the main() function invocation\n",
    "\n",
    "- 10, -4: Semantic error\n",
    "- -10, 4: Semantic error (scariest error for this example)"
   ]
  },
  {
   "cell_type": "code",
   "execution_count": null,
   "metadata": {},
   "outputs": [],
   "source": [
    "main()"
   ]
  },
  {
   "cell_type": "markdown",
   "metadata": {},
   "source": [
    "### Let's improvise error handling in pizza analyzer more\n",
    "- using try ... except ... (pair blocks of code)\n",
    "- try ... except ... enable you to keep running the problem even if you encounter a specific error"
   ]
  },
  {
   "cell_type": "code",
   "execution_count": null,
   "metadata": {},
   "outputs": [],
   "source": [
    "main()"
   ]
  },
  {
   "cell_type": "markdown",
   "metadata": {},
   "source": [
    "### Try these problematic inputs for the main() function invocation\n",
    "\n",
    "- 10, 0: ZeroDivisionError\n",
    "- 10: IndexError\n",
    "- 10, hello: ValueError\n",
    "- 10, 4.5: ValueError"
   ]
  },
  {
   "cell_type": "code",
   "execution_count": null,
   "metadata": {},
   "outputs": [],
   "source": [
    "main()"
   ]
  },
  {
   "cell_type": "markdown",
   "metadata": {},
   "source": [
    "### Example 1 \n",
    "- use PythonTutor to visualize\n",
    "- as soon as you encounter the line in try block with error, you move on to executing except block"
   ]
  },
  {
   "cell_type": "code",
   "execution_count": null,
   "metadata": {},
   "outputs": [],
   "source": [
    "try:\n",
    "    print(\"2 inverse is\", 1/2)\n",
    "    print(\"1 inverse is\", 1/1)\n",
    "    print(\"0 inverse is\", 1/0)\n",
    "    print(\"-1 inverse is\", -1/1)\n",
    "    print(\"-2 inverse is\", -1/1)\n",
    "except:\n",
    "    print(\"that's all, folks!\")\n"
   ]
  },
  {
   "cell_type": "markdown",
   "metadata": {},
   "source": [
    "### Example 1 - version 2\n",
    "- use PythonTutor to visualize"
   ]
  },
  {
   "cell_type": "code",
   "execution_count": null,
   "metadata": {},
   "outputs": [],
   "source": [
    "try:\n",
    "    print(\"2 inverse is\", 1/2)\n",
    "    print(\"1 inverse is\", 1/1)\n",
    "    print(\"0 inverse is\", 1/0)\n",
    "except:\n",
    "    print(\"that's all, folks!\")\n",
    "\n",
    "try:\n",
    "    print(\"-1 inverse is\", -1/1)\n",
    "    print(\"-2 inverse is\", -1/1)\n",
    "except:\n",
    "    print(\"This will never get executed!\")"
   ]
  },
  {
   "cell_type": "markdown",
   "metadata": {},
   "source": [
    "### Example 2 \n",
    "- hierarchy of catching exceptions\n",
    "- use PythonTutor to visualize"
   ]
  },
  {
   "cell_type": "code",
   "execution_count": null,
   "metadata": {},
   "outputs": [],
   "source": [
    "def buggy():\n",
    "    print(\"buggy: about to fail\")\n",
    "    print(\"buggy: infinity is \", 1/0)\n",
    "    print(\"buggy: oops!\") # never prints\n",
    "\n",
    "def g():\n",
    "    print(\"g: before buggy\")\n",
    "    buggy()\n",
    "    print(\"g: after buggy\") # never prints\n",
    "\n",
    "def f():\n",
    "    try:\n",
    "        print(\"f: let's call g\")\n",
    "        g()\n",
    "        print(\"f: g returned normally\") # never prints\n",
    "    except:\n",
    "        print(\"f: that didn't go so well\")\n",
    "\n",
    "f()"
   ]
  },
  {
   "cell_type": "markdown",
   "metadata": {},
   "source": [
    "### Example 2 - version 2\n",
    "- use PythonTutor to visualize"
   ]
  },
  {
   "cell_type": "code",
   "execution_count": null,
   "metadata": {},
   "outputs": [],
   "source": [
    "def buggy():\n",
    "    print(\"buggy: about to fail\")\n",
    "    print(\"buggy: infinity is \", 1/0)\n",
    "    print(\"buggy: oops!\") # never prints\n",
    "\n",
    "def g():\n",
    "    print(\"g: before buggy\")\n",
    "    try:\n",
    "        buggy()\n",
    "    except:\n",
    "        print(\"g: that didn't go well\")\n",
    "    print(\"g: after buggy\") \n",
    "\n",
    "def f():\n",
    "    try:\n",
    "        print(\"f: let's call g\")\n",
    "        g()\n",
    "        print(\"f: g returned normally\") \n",
    "    except:\n",
    "        print(\"f: that didn't go so well\") # never prints\n",
    "\n",
    "f()"
   ]
  },
  {
   "cell_type": "markdown",
   "metadata": {},
   "source": [
    "### Example 2 - version 3\n",
    "- use PythonTutor to visualize"
   ]
  },
  {
   "cell_type": "code",
   "execution_count": null,
   "metadata": {},
   "outputs": [],
   "source": [
    "def buggy():\n",
    "    try:\n",
    "        print(\"buggy: about to fail\")\n",
    "        print(\"buggy: infinity is \", 1/0)\n",
    "    except:\n",
    "        print(\"buggy: oops!\") \n",
    "\n",
    "def g():\n",
    "    print(\"g: before buggy\")\n",
    "    try:\n",
    "        buggy()\n",
    "    except:\n",
    "        print(\"g: that didn't go well\") # never prints\n",
    "    print(\"g: after buggy\")\n",
    "\n",
    "def f():\n",
    "    try:\n",
    "        print(\"f: let's call g\")\n",
    "        g()\n",
    "        print(\"f: g returned normally\") \n",
    "    except:\n",
    "        print(\"f: that didn't go so well\") # never prints\n",
    "\n",
    "f()"
   ]
  },
  {
   "cell_type": "markdown",
   "metadata": {},
   "source": [
    "### Let's improvise error handling in pizza analyzer\n",
    "- using raise\n",
    "- raise statements enable you to raise a specific error / exception"
   ]
  },
  {
   "cell_type": "markdown",
   "metadata": {},
   "source": [
    "### Then, try these problematic inputs for the main() function invocation\n",
    "\n",
    "- 10, -4: Semantic error\n",
    "- -10, 4: Semantic error (scariest error for this example)"
   ]
  },
  {
   "cell_type": "code",
   "execution_count": null,
   "metadata": {},
   "outputs": [],
   "source": [
    "main()"
   ]
  }
 ],
 "metadata": {
  "kernelspec": {
   "display_name": "Python 3",
   "language": "python",
   "name": "python3"
  },
  "language_info": {
   "codemirror_mode": {
    "name": "ipython",
    "version": 3
   },
   "file_extension": ".py",
   "mimetype": "text/x-python",
   "name": "python",
   "nbconvert_exporter": "python",
   "pygments_lexer": "ipython3",
   "version": "3.8.8"
  }
 },
 "nbformat": 4,
 "nbformat_minor": 4
}
