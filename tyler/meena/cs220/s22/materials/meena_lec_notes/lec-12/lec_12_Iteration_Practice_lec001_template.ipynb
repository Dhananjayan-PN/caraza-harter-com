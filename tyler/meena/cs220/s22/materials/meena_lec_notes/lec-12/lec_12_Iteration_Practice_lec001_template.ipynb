{
 "cells": [
  {
   "cell_type": "markdown",
   "id": "6a76ef95",
   "metadata": {},
   "source": [
    "# Iteration Practice"
   ]
  },
  {
   "cell_type": "markdown",
   "id": "103da70b",
   "metadata": {},
   "source": [
    "## Learning Objectives\n",
    "\n",
    "- Iterate through a dataset using for idx in range(project.count())\n",
    "- Compute the frequency of data that meets a certain criteria\n",
    "- Find the maximum or minimum value of a numeric column in a dataset\n",
    "    - Handle missing numeric values when computing a maximum / minimum\n",
    "    - Use the index of a maximum or minimum to access other information about that data item\n",
    "- Use break and continue in for loops when processing a dataset\n",
    "- Trace the output of a nested loop algorithm that prints out a game grid"
   ]
  },
  {
   "cell_type": "code",
   "execution_count": null,
   "id": "28961628",
   "metadata": {},
   "outputs": [],
   "source": [
    "import project"
   ]
  },
  {
   "cell_type": "code",
   "execution_count": null,
   "id": "c9341253",
   "metadata": {},
   "outputs": [],
   "source": [
    "# TODO: inspect the functions inside project module\n"
   ]
  },
  {
   "cell_type": "code",
   "execution_count": null,
   "id": "d1dca7ae",
   "metadata": {},
   "outputs": [],
   "source": [
    "# TODO: inspect the project module's documentation\n"
   ]
  },
  {
   "cell_type": "markdown",
   "id": "7fb78f6b",
   "metadata": {},
   "source": [
    "### How many students does the dataset have?"
   ]
  },
  {
   "cell_type": "code",
   "execution_count": null,
   "id": "d67a080f",
   "metadata": {},
   "outputs": [],
   "source": []
  },
  {
   "cell_type": "markdown",
   "id": "3c97d494",
   "metadata": {},
   "source": [
    "### What is the age of the student at index 10?"
   ]
  },
  {
   "cell_type": "code",
   "execution_count": null,
   "id": "bde8dc35",
   "metadata": {},
   "outputs": [],
   "source": [
    "id_10_age = project.???\n",
    "id_10_age"
   ]
  },
  {
   "cell_type": "code",
   "execution_count": null,
   "id": "b0f87a2c",
   "metadata": {},
   "outputs": [],
   "source": [
    "# TODO: inspect return value type of get_age function\n",
    "print(type(id_10_age))"
   ]
  },
  {
   "cell_type": "markdown",
   "id": "37898141",
   "metadata": {},
   "source": [
    "### What is the lecture number of the student at index 20?"
   ]
  },
  {
   "cell_type": "code",
   "execution_count": null,
   "id": "ba993090",
   "metadata": {},
   "outputs": [],
   "source": []
  },
  {
   "cell_type": "markdown",
   "id": "60730da8",
   "metadata": {},
   "source": [
    "### What is the sleep habit of the student at the last index?"
   ]
  },
  {
   "cell_type": "code",
   "execution_count": null,
   "id": "1d92e499",
   "metadata": {},
   "outputs": [],
   "source": [
    "project.???(???)"
   ]
  },
  {
   "cell_type": "markdown",
   "id": "af3d9d8c",
   "metadata": {},
   "source": [
    "### How many current lecture (example: LEC001) students are in the dataset? \n",
    "\n",
    "- use `for` loop to iterate over the dataset:\n",
    "    - `count` function gives you total number of students\n",
    "    - use `range` built-in function to generate sequence of integers from `0` to `count - 1`\n",
    "- use `get_lecture` to retrieve lecture column value\n",
    "- use `if` condition, to determine whether current student is part of `LEC001`\n",
    "    - `True` evaluation: increment count\n",
    "    - `False` evaluation: nothing to do"
   ]
  },
  {
   "cell_type": "code",
   "execution_count": null,
   "id": "e024c488",
   "metadata": {},
   "outputs": [],
   "source": []
  },
  {
   "cell_type": "markdown",
   "id": "b9ff6434",
   "metadata": {},
   "source": [
    "### What is the age of the oldest student in current lecture (example: LEC001)?\n",
    "\n",
    "- use `for` loop to iterate over the dataset just like last problem\n",
    "- use `get_age` to retrieve lecture column value\n",
    "    - if: age is '' (empty), move on to next student using `continue`\n",
    "    - make sure to typecast return value to an integer\n",
    "- use `get_lecture` to retrieve lecture column value\n",
    "- use `if` condition, to determine whether current student is part of `LEC001`\n",
    "    - use `if` condition to determine whether current student's age is greater than previously known max age\n",
    "        - `True` evaluation: replace previously known max age with current age\n",
    "        - `False` evaluation: nothing to do"
   ]
  },
  {
   "cell_type": "code",
   "execution_count": null,
   "id": "38bd778a",
   "metadata": {},
   "outputs": [],
   "source": []
  },
  {
   "cell_type": "markdown",
   "id": "b40a32fb",
   "metadata": {},
   "source": [
    "### What is the age of the youngest student in current lecture (example: LEC001)?\n",
    "- use similar algorithm as above question"
   ]
  },
  {
   "cell_type": "code",
   "execution_count": null,
   "id": "ea77e0cd",
   "metadata": {},
   "outputs": [],
   "source": []
  },
  {
   "cell_type": "markdown",
   "id": "48f1c791",
   "metadata": {},
   "source": [
    "### What primary major is the youngest student in current lecture (example: LEC001) planning to declare?\n",
    "- now, we need to find some other detail about the youngest student\n",
    "- often, you'll have to keep track of ID of the max or min, so that you can retrive other details about that data entry"
   ]
  },
  {
   "cell_type": "code",
   "execution_count": null,
   "id": "a524873b",
   "metadata": {},
   "outputs": [],
   "source": []
  },
  {
   "cell_type": "markdown",
   "id": "5294702a",
   "metadata": {},
   "source": [
    "### Considering current lecture students (example: LEC001), what is the age of the first student residing at zip code 53715?"
   ]
  },
  {
   "cell_type": "code",
   "execution_count": null,
   "id": "fada2a40",
   "metadata": {},
   "outputs": [],
   "source": []
  },
  {
   "cell_type": "markdown",
   "id": "68793d99",
   "metadata": {},
   "source": [
    "## Self-practice"
   ]
  },
  {
   "cell_type": "markdown",
   "id": "2eeed867",
   "metadata": {},
   "source": [
    "### How many current lecture (example: LEC001) students are runners? "
   ]
  },
  {
   "cell_type": "markdown",
   "id": "1ea57e12",
   "metadata": {},
   "source": [
    "### How many current lecture (example: LEC001) students are procrastinators? "
   ]
  },
  {
   "cell_type": "markdown",
   "id": "cf0ac7c8",
   "metadata": {},
   "source": [
    "### How many current lecture (example: LEC001) students own or have owned a pet?"
   ]
  },
  {
   "cell_type": "markdown",
   "id": "ffd5e10f",
   "metadata": {},
   "source": [
    "### What sleep habit does the youngest student in current lecture (example: LEC001) have?\n",
    "- try to solve this from scratch, instead of copy-pasting code to find mimimum age"
   ]
  },
  {
   "cell_type": "markdown",
   "id": "f255b95a",
   "metadata": {},
   "source": [
    "### What sleep habit does the oldest student in current lecture (example: LEC001) have?\n",
    "- try to solve this from scratch, instead of copy-pasting code to find mimimum age"
   ]
  },
  {
   "cell_type": "markdown",
   "id": "db60812c",
   "metadata": {},
   "source": [
    "### Considering current lecture students (example: LEC001), is the first student with age 18 a runner?"
   ]
  },
  {
   "cell_type": "code",
   "execution_count": null,
   "id": "d55fa983",
   "metadata": {},
   "outputs": [],
   "source": []
  }
 ],
 "metadata": {
  "kernelspec": {
   "display_name": "Python 3 (ipykernel)",
   "language": "python",
   "name": "python3"
  },
  "language_info": {
   "codemirror_mode": {
    "name": "ipython",
    "version": 3
   },
   "file_extension": ".py",
   "mimetype": "text/x-python",
   "name": "python",
   "nbconvert_exporter": "python",
   "pygments_lexer": "ipython3",
   "version": "3.9.7"
  }
 },
 "nbformat": 4,
 "nbformat_minor": 5
}
