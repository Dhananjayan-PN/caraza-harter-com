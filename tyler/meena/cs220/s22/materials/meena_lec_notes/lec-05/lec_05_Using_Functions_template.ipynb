{
 "cells": [
  {
   "cell_type": "markdown",
   "metadata": {},
   "source": [
    "# Using Functions"
   ]
  },
  {
   "cell_type": "markdown",
   "metadata": {},
   "source": [
    "## Review"
   ]
  },
  {
   "cell_type": "markdown",
   "metadata": {},
   "source": [
    "Valid variable names"
   ]
  },
  {
   "cell_type": "code",
   "execution_count": null,
   "metadata": {},
   "outputs": [],
   "source": [
    "# this is a possible quiz / exam question\n",
    "# self-check: decide if the variables are valid in Python:\n",
    "\n",
    "#my.name = \"Meena\"           \n",
    "#1st_place = \"Andy\"          \n",
    "#stop&go = False             \n",
    "#type = 100                  \n",
    "#end_game = True             "
   ]
  },
  {
   "cell_type": "markdown",
   "metadata": {},
   "source": [
    "Short-circuiting with `and`, `or`\n",
    "\n",
    "- if the first half of an AND is False, skip the second half for evaluation\n",
    "- if the first half of an OR is True, skip the second half for evaluation\n",
    "\n",
    "Predict the output of each expression and then uncomment and run the expression, to validate."
   ]
  },
  {
   "cell_type": "code",
   "execution_count": null,
   "metadata": {},
   "outputs": [],
   "source": [
    "#7+3 == 9 and 4/0 == 0                 \n",
    "#7 + 3 == 10 or 4/0 == 0               \n",
    "#4/0 == 0 and 7+3 == 9                 \n",
    "#4/0 == 0 or 7+3 == 10                 \n",
    "#4+5 == 9 or 5**10000000 < 10000000    "
   ]
  },
  {
   "cell_type": "markdown",
   "metadata": {},
   "source": [
    "## Learning Objectives\n",
    "\n",
    "- Call `input()` to accept and process string input\n",
    "- Call type cast functions to convert to appropriate type: `int()`, `bool()`, `float()`, `str()`\n",
    "    - Concatenate values onto strings within a print function by converting to `str()`\n",
    "- Using correct vocabulary, explain a function call\n",
    "    - call/invoke, parameter, argument, keyword arguments, return value\n",
    "- Use `sep`, `end` keyword arguments with the print() function\n",
    "- Yse some common built-in functions such as round(), abs()\n",
    "- import functions from a built-in module using `import`, `from`\n",
    "- Call functions in modules using the attribute operator `.`"
   ]
  },
  {
   "cell_type": "markdown",
   "metadata": {},
   "source": [
    "## Vocabulary\n",
    "\n",
    "- function definition: a grouping of lines of code; a way for us to tell our program to run that entire group of code\n",
    "- call / invoke: a statement in Python code that instructs the program to run all the lines of code in a function definition, and then come back afterward\n",
    "- parameter: variable that receives input to function\n",
    "- argument: value sent to a function (lines up with parameter)\n",
    "- keyword argument: argument explicitly tied to a parameter\n",
    "- return value: function output sent back to calling code\n"
   ]
  },
  {
   "cell_type": "markdown",
   "metadata": {},
   "source": [
    "## Recall print(...), type(...) functions"
   ]
  },
  {
   "cell_type": "code",
   "execution_count": null,
   "metadata": {},
   "outputs": [],
   "source": [
    "print(\"hello\\nworld\")"
   ]
  },
  {
   "cell_type": "code",
   "execution_count": null,
   "metadata": {},
   "outputs": [],
   "source": [
    "type(1)"
   ]
  },
  {
   "cell_type": "markdown",
   "metadata": {},
   "source": [
    "You could either display the return value of a function into an output box or capture it into a variable."
   ]
  },
  {
   "cell_type": "code",
   "execution_count": null,
   "metadata": {},
   "outputs": [],
   "source": [
    "t = type(1 == 1.0)\n",
    "print(t)"
   ]
  },
  {
   "cell_type": "markdown",
   "metadata": {},
   "source": [
    "One function's return value can become another function's argument directly."
   ]
  },
  {
   "cell_type": "code",
   "execution_count": null,
   "metadata": {},
   "outputs": [],
   "source": [
    "print(type(1 == 1.0))"
   ]
  },
  {
   "cell_type": "markdown",
   "metadata": {},
   "source": [
    "## input()\n",
    "- accepts user input\n",
    "- argument to input() function is a prompt\n",
    "    - prompt provides meaningful information to the user\n",
    "- return value of input() function is always of type str"
   ]
  },
  {
   "cell_type": "markdown",
   "metadata": {},
   "source": [
    "Example 1: Accept user input for name and say hello."
   ]
  },
  {
   "cell_type": "code",
   "execution_count": null,
   "metadata": {},
   "outputs": [],
   "source": [
    "#TODO: call input function \n",
    "\n",
    "#TODO: print type of the variable name\n",
    "\n",
    "print(\"Hello \" + name + \"!\")"
   ]
  },
  {
   "cell_type": "markdown",
   "metadata": {},
   "source": [
    "Example 2a: Accept user input for age (incorrect version)"
   ]
  },
  {
   "cell_type": "code",
   "execution_count": null,
   "metadata": {},
   "outputs": [],
   "source": [
    "age = input(\"Enter your age: \")\n",
    "#TODO: print type of the variable age\n",
    "\n",
    "# Let's celebrate a birthday :)\n",
    "age ??? 1 # What is wrong?\n",
    "print(age)"
   ]
  },
  {
   "cell_type": "markdown",
   "metadata": {},
   "source": [
    "## Type casting functions\n",
    "- convert one type into another type\n",
    "- int(), float(), str(), bool()"
   ]
  },
  {
   "cell_type": "code",
   "execution_count": null,
   "metadata": {},
   "outputs": [],
   "source": [
    "# Let's try these int conversions\n",
    "print(int(32.5))\n",
    "print(int(\"2012\") + 10)\n",
    "# Some conversions don't make sense to us\n",
    "# So they won't make sense to Python either\n",
    "print(int(\"nineteen\"))"
   ]
  },
  {
   "cell_type": "code",
   "execution_count": null,
   "metadata": {},
   "outputs": [],
   "source": [
    "print(int(32.5))            # this works\n",
    "print(int(float(\"32.5\")))   # this works\n",
    "\n",
    "# this doesn't work, less intuitive (tricky case!)\n",
    "print(int(\"32.5\"))"
   ]
  },
  {
   "cell_type": "code",
   "execution_count": null,
   "metadata": {},
   "outputs": [],
   "source": [
    "# Let's try these float conversions\n",
    "print(float(26))\n",
    "print(float(\"3.14\") * 2)\n",
    "# Some conversions don't make sense to us\n",
    "# So they won't make sense to Python either\n",
    "print(float(\"three point one\"))"
   ]
  },
  {
   "cell_type": "code",
   "execution_count": null,
   "metadata": {},
   "outputs": [],
   "source": [
    "# Let's try these str conversions\n",
    "year = 2022\n",
    "print(\"Next year will be: \" + year+1)\n",
    "print(\"It is good to be: \" + str(True))\n",
    "print(\"Who wants a pi? \" + str(3.14))\n",
    "#Pretty much you can convert anything to string in Python"
   ]
  },
  {
   "cell_type": "markdown",
   "metadata": {},
   "source": [
    "Example 2b: Accept user input for age (correct version)"
   ]
  },
  {
   "cell_type": "code",
   "execution_count": null,
   "metadata": {},
   "outputs": [],
   "source": [
    "age = input(\"Enter your age: \")\n",
    "#TODO: convert age to int type\n",
    "\n",
    "# Let's celebrate a birthday :)\n",
    "age += 1 \n",
    "print(age)"
   ]
  },
  {
   "cell_type": "markdown",
   "metadata": {},
   "source": [
    "Example 3: Accept user input for temperature"
   ]
  },
  {
   "cell_type": "code",
   "execution_count": null,
   "metadata": {},
   "outputs": [],
   "source": [
    "# To enter their day care, kids have their temp checked\n",
    "temp = float(input(\"Enter your temperature: \"))\n",
    "#TODO: convert temp to float type\n",
    "temp = ???\n",
    "#TODO: check that temp is less than equal to 98.6\n",
    "temp_ok = ???\n",
    "#TODO: print type of temp_ok\n",
    "\n",
    "print(\"OK to enter: \" + temp_ok) # What's wrong?"
   ]
  },
  {
   "cell_type": "code",
   "execution_count": null,
   "metadata": {},
   "outputs": [],
   "source": [
    "# TODO: figure out how this works\n",
    "print(\"Somebody had a birthday: \" + name + \" \" + str(age) + \" years old :)\")\n",
    "# TODO: What error will you get when you take out str(...) around age?"
   ]
  },
  {
   "cell_type": "markdown",
   "metadata": {},
   "source": [
    "### parameters for print(...) function\n",
    "- can accept multiple arguments:\n",
    "    - all arguments get printed on the same line\n",
    "- `sep` allows you to configure separator between the arguments:\n",
    "    - default value: space `\" \"`\n",
    "- `end` allows you to configure what character gets printed after\n",
    "    - default value: newline `\"\\n\"`"
   ]
  },
  {
   "cell_type": "code",
   "execution_count": null,
   "metadata": {},
   "outputs": [],
   "source": [
    "print(\"hello\", \"world\")\n",
    "print(\"hello\", \"cs220/cs319\")"
   ]
  },
  {
   "cell_type": "code",
   "execution_count": null,
   "metadata": {},
   "outputs": [],
   "source": [
    "# Guess what will get printed\n",
    "print(\"hello\", \"world\", sep = \"|\", end = \";\\n\")\n",
    "print(\"hello\", \"meena\", sep = \"^\", end = \"...\\n\")\n",
    "\n",
    "print(\"*\" * 4, \"#\" * 6, sep = \"||\", end = \"<END>\")\n",
    "print(\"*\" * 6, \"#\" * 8, sep = \"||\", end = \"<END>\")\n",
    "\n",
    "print(\"\\n\", end = \"\")"
   ]
  },
  {
   "cell_type": "markdown",
   "metadata": {},
   "source": [
    "## More built-in functions\n",
    "- print(), type(), int(), float(), str(), bool() are all examples of built-in functions\n",
    "- built-in functions are functions you can use readily (without importing anything)\n",
    "- you definitely don't have to know all the built-in functions, but here is the list: https://docs.python.org/3/library/functions.html"
   ]
  },
  {
   "cell_type": "markdown",
   "metadata": {},
   "source": [
    "abs function"
   ]
  },
  {
   "cell_type": "code",
   "execution_count": null,
   "metadata": {},
   "outputs": [],
   "source": [
    "# Guess what will get printed\n",
    "print(abs(-10))\n",
    "print(abs(10))"
   ]
  },
  {
   "cell_type": "markdown",
   "metadata": {},
   "source": [
    "round function"
   ]
  },
  {
   "cell_type": "code",
   "execution_count": null,
   "metadata": {},
   "outputs": [],
   "source": [
    "# Guess what will get printed\n",
    "print(round(10.525252, 4))\n",
    "print(round(5.2953, 2))\n",
    "print(round(5.2423, 2))"
   ]
  },
  {
   "cell_type": "markdown",
   "metadata": {},
   "source": [
    "## Modules\n",
    "- collection of similar functions and variables\n",
    "- requires import\n",
    "- `import`, `from` keywords\n",
    "- 2 styles of import:\n",
    "    1. `import` module_name: \n",
    "        - need to specify module_name`.`function_name to call it. \n",
    "        - `.` is called attribute operator.\n",
    "    2. `from` module_name `import` function_name\n",
    "        - can call the function without specifying module name\n",
    "- `help` module_name:\n",
    "    - documentation for all functions and variables inside a module"
   ]
  },
  {
   "cell_type": "code",
   "execution_count": null,
   "metadata": {},
   "outputs": [],
   "source": [
    "# Let's try to find square root of 10\n",
    "sqrt(10) # doesn't work because it is part of math module"
   ]
  },
  {
   "cell_type": "markdown",
   "metadata": {},
   "source": [
    "It is a good practice to include all your import statements at the top of your notebook file. We will make exception just for a couple of lectures."
   ]
  },
  {
   "cell_type": "code",
   "execution_count": null,
   "metadata": {},
   "outputs": [],
   "source": [
    "import math"
   ]
  },
  {
   "cell_type": "code",
   "execution_count": null,
   "metadata": {},
   "outputs": [],
   "source": [
    "math.sqrt(10)"
   ]
  },
  {
   "cell_type": "code",
   "execution_count": null,
   "metadata": {},
   "outputs": [],
   "source": [
    "math.cos(3.14159)"
   ]
  },
  {
   "cell_type": "markdown",
   "metadata": {},
   "source": [
    "Modules contain useful variables too."
   ]
  },
  {
   "cell_type": "code",
   "execution_count": null,
   "metadata": {},
   "outputs": [],
   "source": [
    "math.pi"
   ]
  },
  {
   "cell_type": "code",
   "execution_count": null,
   "metadata": {},
   "outputs": [],
   "source": [
    "# Let's get help\n",
    "help(math)"
   ]
  },
  {
   "cell_type": "code",
   "execution_count": null,
   "metadata": {},
   "outputs": [],
   "source": [
    "from random import randint"
   ]
  },
  {
   "cell_type": "code",
   "execution_count": null,
   "metadata": {},
   "outputs": [],
   "source": [
    "print(randint(1,10)) # correct invocation"
   ]
  },
  {
   "cell_type": "code",
   "execution_count": null,
   "metadata": {},
   "outputs": [],
   "source": [
    "print(random.randint(1,10)) # incorrect invocation"
   ]
  }
 ],
 "metadata": {
  "kernelspec": {
   "display_name": "Python 3 (ipykernel)",
   "language": "python",
   "name": "python3"
  },
  "language_info": {
   "codemirror_mode": {
    "name": "ipython",
    "version": 3
   },
   "file_extension": ".py",
   "mimetype": "text/x-python",
   "name": "python",
   "nbconvert_exporter": "python",
   "pygments_lexer": "ipython3",
   "version": "3.9.7"
  }
 },
 "nbformat": 4,
 "nbformat_minor": 2
}
