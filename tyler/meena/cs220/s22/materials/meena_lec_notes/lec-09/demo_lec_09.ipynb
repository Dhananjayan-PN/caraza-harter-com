{
 "cells": [
  {
   "cell_type": "code",
   "execution_count": 1,
   "metadata": {},
   "outputs": [],
   "source": [
    "def absolute_v1(x):\n",
    "    return (x ** 2) ** 0.5"
   ]
  },
  {
   "cell_type": "code",
   "execution_count": 2,
   "metadata": {},
   "outputs": [
    {
     "name": "stdout",
     "output_type": "stream",
     "text": [
      "4.0\n",
      "4.0\n"
     ]
    }
   ],
   "source": [
    "print(absolute_v1(-4))\n",
    "print(absolute_v1(4))"
   ]
  },
  {
   "cell_type": "code",
   "execution_count": 3,
   "metadata": {},
   "outputs": [],
   "source": [
    "def absolute_v2(x):\n",
    "    if x < 0:\n",
    "        x = -x\n",
    "    return x"
   ]
  },
  {
   "cell_type": "code",
   "execution_count": 4,
   "metadata": {},
   "outputs": [
    {
     "name": "stdout",
     "output_type": "stream",
     "text": [
      "4\n",
      "4\n"
     ]
    }
   ],
   "source": [
    "print(absolute_v2(-4))\n",
    "print(absolute_v2(4))"
   ]
  },
  {
   "cell_type": "code",
   "execution_count": 5,
   "metadata": {},
   "outputs": [],
   "source": [
    "def absolute_v3(x):\n",
    "    if x < 0:\n",
    "        return -x\n",
    "    else:\n",
    "        return x"
   ]
  },
  {
   "cell_type": "code",
   "execution_count": 6,
   "metadata": {},
   "outputs": [
    {
     "name": "stdout",
     "output_type": "stream",
     "text": [
      "4\n",
      "4\n"
     ]
    }
   ],
   "source": [
    "print(absolute_v3(-4))\n",
    "print(absolute_v3(4))"
   ]
  },
  {
   "cell_type": "code",
   "execution_count": 7,
   "metadata": {},
   "outputs": [],
   "source": [
    "def absolute_v4(x):\n",
    "    if x < 0:\n",
    "        return -x\n",
    "    # else: (Implicit case)\n",
    "    return x"
   ]
  },
  {
   "cell_type": "code",
   "execution_count": 8,
   "metadata": {},
   "outputs": [
    {
     "name": "stdout",
     "output_type": "stream",
     "text": [
      "4\n",
      "4\n"
     ]
    }
   ],
   "source": [
    "print(absolute_v4(-4))\n",
    "print(absolute_v4(4))"
   ]
  },
  {
   "cell_type": "code",
   "execution_count": 9,
   "metadata": {},
   "outputs": [],
   "source": [
    "def f(x):\n",
    "    if x < -2:\n",
    "        return 2\n",
    "    else:\n",
    "        if x < 0:\n",
    "            #Does this run when x is -10? No, because exactly\n",
    "            #-10 satifies the if condition, hence elif will not\n",
    "            #be evaluated for -10 (exactly one branch gets executed)\n",
    "            return -x\n",
    "        else:\n",
    "            return int(x)"
   ]
  },
  {
   "cell_type": "code",
   "execution_count": 10,
   "metadata": {},
   "outputs": [
    {
     "name": "stdout",
     "output_type": "stream",
     "text": [
      "2\n",
      "2\n",
      "30\n",
      "1\n",
      "3\n",
      "10\n"
     ]
    }
   ],
   "source": [
    "print(f(-10))\n",
    "print(f(-20))\n",
    "print(f(30.5))\n",
    "print(f(-1))\n",
    "print(f(3))\n",
    "print(f(10))"
   ]
  },
  {
   "cell_type": "code",
   "execution_count": 11,
   "metadata": {},
   "outputs": [],
   "source": [
    "def f(x):\n",
    "    if x < -2:\n",
    "        return 2\n",
    "    elif x < 0:\n",
    "        return -x\n",
    "    else:\n",
    "        return int(x)"
   ]
  },
  {
   "cell_type": "code",
   "execution_count": 12,
   "metadata": {},
   "outputs": [
    {
     "name": "stdout",
     "output_type": "stream",
     "text": [
      "2\n",
      "2\n",
      "30\n",
      "1\n",
      "3\n",
      "10\n"
     ]
    }
   ],
   "source": [
    "print(f(-10))\n",
    "print(f(-20))\n",
    "print(f(30.5))\n",
    "print(f(-1))\n",
    "print(f(3))\n",
    "print(f(10))"
   ]
  },
  {
   "cell_type": "code",
   "execution_count": 22,
   "metadata": {},
   "outputs": [],
   "source": [
    "def stop_light(color, distance):\n",
    "    if color == 'red':\n",
    "        if distance < 15:\n",
    "            return \"hit the gas\"\n",
    "        else:\n",
    "            return \"stop abruptly\"\n",
    "    elif color == 'yellow':\n",
    "        if distance < 30:\n",
    "            return \"continue at same speed\"\n",
    "        else:\n",
    "            return \"stop\"\n",
    "    elif color == \"green\":\n",
    "        return \"smile :)\"\n",
    "    else:\n",
    "        return \"Invalid color!\""
   ]
  },
  {
   "cell_type": "code",
   "execution_count": 23,
   "metadata": {},
   "outputs": [
    {
     "name": "stdout",
     "output_type": "stream",
     "text": [
      "smile :)\n",
      "hit the gas\n",
      "stop abruptly\n",
      "continue at same speed\n",
      "stop\n"
     ]
    }
   ],
   "source": [
    "print(stop_light(\"green\", 10))\n",
    "print(stop_light(\"red\", 10))\n",
    "print(stop_light(\"red\", 15))\n",
    "print(stop_light(\"yellow\", 10))\n",
    "print(stop_light(\"yellow\", 31))"
   ]
  },
  {
   "cell_type": "code",
   "execution_count": 24,
   "metadata": {},
   "outputs": [
    {
     "name": "stdout",
     "output_type": "stream",
     "text": [
      "Invalid color!\n"
     ]
    }
   ],
   "source": [
    "print(stop_light(\"yllow\", 31))"
   ]
  },
  {
   "cell_type": "code",
   "execution_count": 32,
   "metadata": {},
   "outputs": [],
   "source": [
    "def format_month(month):\n",
    "    if month == 1:\n",
    "        return \"Jan\"\n",
    "    elif month == 2:\n",
    "        return \"Feb\"\n",
    "    elif month == 3:\n",
    "        return \"Mar\"\n",
    "    elif month == 4:\n",
    "        return \"Apr\"\n",
    "    elif month == 5:\n",
    "        return \"May\"\n",
    "    elif month == 6:\n",
    "        return \"Jun\"\n",
    "    elif month == 7:\n",
    "        return \"Jul\"\n",
    "    elif month == 8:\n",
    "        return \"Aug\"\n",
    "    elif month == 9:\n",
    "        return \"Sep\"\n",
    "    elif month == 10:\n",
    "        return \"Oct\"\n",
    "    elif month == 11:\n",
    "        return \"Nov\"\n",
    "    elif month == 12:\n",
    "        return \"Dec\"\n",
    "    else:\n",
    "        return \"Invalid month!\""
   ]
  },
  {
   "cell_type": "code",
   "execution_count": 47,
   "metadata": {},
   "outputs": [],
   "source": [
    "def format_day(day):\n",
    "    suffix = \"\"\n",
    "    if 11 <= day % 100 <= 20:\n",
    "        suffix = str(day) + \"th\"\n",
    "    elif day % 10 == 1:\n",
    "        suffix = str(day) + \"st\"\n",
    "    elif day % 10 == 2:\n",
    "        suffix = str(day) + \"nd\"\n",
    "    elif day % 10 == 3:\n",
    "        suffix = str(day) + \"rd\"\n",
    "    else:\n",
    "        suffix = str(day) + \"th\"\n",
    "        \n",
    "    return suffix"
   ]
  },
  {
   "cell_type": "code",
   "execution_count": 48,
   "metadata": {},
   "outputs": [
    {
     "name": "stdout",
     "output_type": "stream",
     "text": [
      "1st\n",
      "2nd\n",
      "3rd\n",
      "11th\n",
      "21st\n",
      "111th\n"
     ]
    }
   ],
   "source": [
    "print(format_day(1))\n",
    "print(format_day(2))\n",
    "print(format_day(3))\n",
    "print(format_day(11))\n",
    "print(format_day(21))\n",
    "print(format_day(111))"
   ]
  },
  {
   "cell_type": "code",
   "execution_count": 41,
   "metadata": {},
   "outputs": [
    {
     "data": {
      "text/plain": [
       "9"
      ]
     },
     "execution_count": 41,
     "metadata": {},
     "output_type": "execute_result"
    }
   ],
   "source": [
    "9823498797839 % 10"
   ]
  },
  {
   "cell_type": "code",
   "execution_count": 51,
   "metadata": {},
   "outputs": [],
   "source": [
    "def format_date(month, day, year):\n",
    "    result_str = \"\"\n",
    "    result_str += format_month(month)\n",
    "    result_str += \" \" + format_day(day)\n",
    "    result_str += \" of '\" + str(year % 100)\n",
    "    \n",
    "    return result_str"
   ]
  },
  {
   "cell_type": "code",
   "execution_count": 52,
   "metadata": {},
   "outputs": [
    {
     "data": {
      "text/plain": [
       "\"Sep 29th of '21\""
      ]
     },
     "execution_count": 52,
     "metadata": {},
     "output_type": "execute_result"
    }
   ],
   "source": [
    "format_date(9, 29, 2021)"
   ]
  },
  {
   "cell_type": "code",
   "execution_count": 36,
   "metadata": {},
   "outputs": [
    {
     "name": "stdout",
     "output_type": "stream",
     "text": [
      "Hello 10\n"
     ]
    }
   ],
   "source": [
    "val = 10\n",
    "print(\"Hello \" + str(val))"
   ]
  },
  {
   "cell_type": "code",
   "execution_count": 37,
   "metadata": {},
   "outputs": [
    {
     "name": "stdout",
     "output_type": "stream",
     "text": [
      "Hello 10\n"
     ]
    }
   ],
   "source": [
    "print(\"Hello\" , val)"
   ]
  },
  {
   "cell_type": "code",
   "execution_count": 60,
   "metadata": {},
   "outputs": [
    {
     "name": "stdout",
     "output_type": "stream",
     "text": [
      "negative and even\n"
     ]
    }
   ],
   "source": [
    "x = -6\n",
    "if x > 0:\n",
    "    if x % 2 == 0:\n",
    "        print('positive and even')\n",
    "    else:\n",
    "        print('positive and odd')\n",
    "elif x < 0:\n",
    "    #x = -x\n",
    "    if x % 2 == 0:\n",
    "        print('negative and even')\n",
    "    else:\n",
    "        print('negative and odd')\n",
    "else:\n",
    "    print('error!')\n",
    "    print('please do not use 0')"
   ]
  },
  {
   "cell_type": "code",
   "execution_count": 61,
   "metadata": {},
   "outputs": [
    {
     "name": "stdout",
     "output_type": "stream",
     "text": [
      "A\n",
      "B\n",
      "C\n",
      "D\n",
      "G\n",
      "I\n",
      "J\n"
     ]
    }
   ],
   "source": [
    "def f():\n",
    "    x = 1\n",
    "    y = 2\n",
    "    z = 3\n",
    "    if z > x:\n",
    "        print(\"A\")\n",
    "        if z == x + y:\n",
    "            print(\"B\")\n",
    "            print(\"C\")\n",
    "        print(\"D\")\n",
    "        if x == y:\n",
    "            print(\"E\")\n",
    "            print(\"F\")\n",
    "        else:\n",
    "            print(\"G\")\n",
    "    elif z == x:\n",
    "        if x == 1:\n",
    "            if y == 2:\n",
    "                if z == 3:\n",
    "                    print(\"H\")\n",
    "\n",
    "\n",
    "def g():\n",
    "    print(\"I\")\n",
    "    print(\"J\")\n",
    "\n",
    "f()\n",
    "g()\n"
   ]
  },
  {
   "cell_type": "code",
   "execution_count": null,
   "metadata": {},
   "outputs": [],
   "source": []
  }
 ],
 "metadata": {
  "kernelspec": {
   "display_name": "Python 3",
   "language": "python",
   "name": "python3"
  },
  "language_info": {
   "codemirror_mode": {
    "name": "ipython",
    "version": 3
   },
   "file_extension": ".py",
   "mimetype": "text/x-python",
   "name": "python",
   "nbconvert_exporter": "python",
   "pygments_lexer": "ipython3",
   "version": "3.8.8"
  }
 },
 "nbformat": 4,
 "nbformat_minor": 2
}
