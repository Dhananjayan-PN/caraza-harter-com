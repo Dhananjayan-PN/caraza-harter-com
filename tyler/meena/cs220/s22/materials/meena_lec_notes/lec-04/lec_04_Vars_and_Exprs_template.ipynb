{
 "cells": [
  {
   "cell_type": "markdown",
   "metadata": {},
   "source": [
    "# Variables and Expressions"
   ]
  },
  {
   "cell_type": "markdown",
   "metadata": {},
   "source": [
    "### Warmup"
   ]
  },
  {
   "cell_type": "code",
   "execution_count": null,
   "metadata": {},
   "outputs": [],
   "source": [
    "# TODO: Use the ** operator to calculate the square root of 17\n"
   ]
  },
  {
   "cell_type": "code",
   "execution_count": null,
   "metadata": {},
   "outputs": [],
   "source": [
    "# TODO: Use type to print out the type of the answer\n"
   ]
  },
  {
   "cell_type": "markdown",
   "metadata": {},
   "source": [
    "## Learning Objectives\n",
    "After this lecture you will be able to...\n",
    "- Evaluate expressions by identifying:\n",
    "    - operators and operands\n",
    "    - literal values and variables\n",
    "    - correct order of operations\n",
    "- Write correct Boolean expressions containing Boolean operators “or” and “and”\n",
    "- Write assignment statements with variables following proper naming rules\n",
    "- Define, give examples of, and identify 3 kinds of errors\n",
    "    - Syntax error\n",
    "    - Runtime error\n",
    "    - Semantic\n",
    "- Write code to perform computations with\n",
    "    - int, float, string, and bool types"
   ]
  },
  {
   "cell_type": "markdown",
   "metadata": {},
   "source": [
    "## Operator precedence recap"
   ]
  },
  {
   "cell_type": "code",
   "execution_count": null,
   "metadata": {},
   "outputs": [],
   "source": [
    "# What will this expression evaluate to?\n",
    "10 - -2 // 3"
   ]
  },
  {
   "cell_type": "code",
   "execution_count": null,
   "metadata": {},
   "outputs": [],
   "source": [
    "# Splitting the expression 10 - -2 // 3 into sub-expressions\n",
    "print( -2 // 3 ) # Correct order of precedence\n",
    "print( 10 - -1 ) "
   ]
  },
  {
   "cell_type": "code",
   "execution_count": null,
   "metadata": {},
   "outputs": [],
   "source": [
    "# Splitting the expression 10 - -2 // 3 into sub-expressions\n",
    "print( 2 // 3 ) # Inorrect order of precedence\n",
    "print( 10 - -0 ) "
   ]
  },
  {
   "cell_type": "code",
   "execution_count": null,
   "metadata": {},
   "outputs": [],
   "source": [
    "# Splitting the expression 10 - -2 // 3 into sub-expressions\n",
    "print( 10 - -2 ) # Inorrect order of precedence\n",
    "print( 12 // 3 ) "
   ]
  },
  {
   "cell_type": "markdown",
   "metadata": {},
   "source": [
    "## Short circuiting\n",
    "\n",
    "- Sub-expressions separated by `or` are evaluated from left-to-right\n",
    "- As soon as one of the sub-expressions evalutes to `True`, expression evaluation is done\n",
    "    - `True` or something will always be `True`\n",
    "    - this is called short-circuiting"
   ]
  },
  {
   "cell_type": "code",
   "execution_count": null,
   "metadata": {},
   "outputs": [],
   "source": [
    "# What will this expression evaluate to?\n",
    "1+1 == 2 or 3 ** 10000000 > 2 ** 20000000"
   ]
  },
  {
   "cell_type": "code",
   "execution_count": null,
   "metadata": {},
   "outputs": [],
   "source": [
    "3 ** 10000000 > 2 ** 20000000"
   ]
  },
  {
   "cell_type": "code",
   "execution_count": null,
   "metadata": {},
   "outputs": [],
   "source": [
    "1+1 == 2 or 4/0"
   ]
  },
  {
   "cell_type": "code",
   "execution_count": null,
   "metadata": {},
   "outputs": [],
   "source": [
    "4/0 or 1+1 == 2 "
   ]
  },
  {
   "cell_type": "markdown",
   "metadata": {},
   "source": [
    "## Correct way of writing Boolean expressions\n",
    "\n",
    "- you should never have a non-boolean value as an `operand` when you are using a Boolean `operator` like `and` and `or`.\n",
    "- why is this **important**?\n",
    "    - you should always expand and write your Boolean expressions\n",
    "    - for example: `3+4 == 6 or 3+4 == 7` is correct, whereas `3+4 == 6 or 7` is wrong!"
   ]
  },
  {
   "cell_type": "code",
   "execution_count": null,
   "metadata": {},
   "outputs": [],
   "source": [
    "print(False or True)\n",
    "print(False or False)\n",
    "print(False or \"hi\") # does not make any sense!"
   ]
  },
  {
   "cell_type": "code",
   "execution_count": null,
   "metadata": {},
   "outputs": [],
   "source": [
    "print(3+4 == 7 or 6) # Incorrect condition\n",
    "print(3+4 == 6 or 7) # Incorrect condition\n",
    "print(3+4 == 6 or 8) # Incorrect condition\n",
    "print(3+4 == 6 or 3+4 == 7) #Correct conditions"
   ]
  },
  {
   "cell_type": "markdown",
   "metadata": {},
   "source": [
    "## Variables\n",
    "\n",
    "- can store literals or result of expression computation\n",
    "- offer reusability of values"
   ]
  },
  {
   "cell_type": "code",
   "execution_count": null,
   "metadata": {},
   "outputs": [],
   "source": [
    "# TODO: Create a variable called x and initialize / assign a value of 10\n",
    "\n",
    "print(x)"
   ]
  },
  {
   "cell_type": "code",
   "execution_count": null,
   "metadata": {},
   "outputs": [],
   "source": [
    "# TODO: Re-assign x to a value of 20\n",
    "\n",
    "print(x)"
   ]
  },
  {
   "cell_type": "code",
   "execution_count": null,
   "metadata": {},
   "outputs": [],
   "source": [
    "# Increment x by 1 and print the output\n",
    "\n",
    "print(x)"
   ]
  },
  {
   "cell_type": "code",
   "execution_count": null,
   "metadata": {},
   "outputs": [],
   "source": [
    "# Increment x by 3 and re-assign the value back into x\n",
    "\n",
    "print(x)"
   ]
  },
  {
   "cell_type": "markdown",
   "metadata": {},
   "source": [
    "### Syntactic sugar shortcuts: `+=`, `-=`, `*=`, `/=`, etc.,"
   ]
  },
  {
   "cell_type": "code",
   "execution_count": null,
   "metadata": {},
   "outputs": [],
   "source": [
    "x += 3\n",
    "print(x)"
   ]
  },
  {
   "cell_type": "code",
   "execution_count": null,
   "metadata": {},
   "outputs": [],
   "source": [
    "x -= 1\n",
    "print(x)"
   ]
  },
  {
   "cell_type": "markdown",
   "metadata": {},
   "source": [
    "## 3 kinds of errors\n",
    "\n",
    "- Syntax error\n",
    "- Runtime error\n",
    "- Semantic error"
   ]
  },
  {
   "cell_type": "code",
   "execution_count": null,
   "metadata": {},
   "outputs": [],
   "source": [
    "# Syntax error\n",
    "5 = x "
   ]
  },
  {
   "cell_type": "code",
   "execution_count": null,
   "metadata": {},
   "outputs": [],
   "source": [
    "# Runtime error\n",
    "x = 3\n",
    "y = 4\n",
    "z = x + y\n",
    "print(z)\n",
    "print(Y) "
   ]
  },
  {
   "cell_type": "code",
   "execution_count": null,
   "metadata": {},
   "outputs": [],
   "source": [
    "print(\"x raised to the power of y\")\n",
    "print(x ^ y) # Semantic error\n",
    "print(\"x correctly raised to the power of y\")\n",
    "print(x ** y) # Correct computation"
   ]
  },
  {
   "cell_type": "markdown",
   "metadata": {},
   "source": [
    "## Example: int expressions"
   ]
  },
  {
   "cell_type": "code",
   "execution_count": null,
   "metadata": {},
   "outputs": [],
   "source": [
    "# Print out hours, minutes, and seconds \n",
    "seconds = 12345\n",
    "\n",
    "hours = seconds // ??? # 3600 seconds in 1 hour\n",
    "print(hours)\n",
    "\n",
    "seconds = seconds ??? ??? # remainder of seconds\n",
    "\n",
    "minutes = seconds // ??? # 60 seconds in a minute\n",
    "print(minutes)\n",
    "\n",
    "seconds = seconds ??? ??? # remainder of seconds\n",
    "print(seconds)"
   ]
  },
  {
   "cell_type": "markdown",
   "metadata": {},
   "source": [
    "## Example: float expressions"
   ]
  },
  {
   "cell_type": "code",
   "execution_count": null,
   "metadata": {},
   "outputs": [],
   "source": [
    "# Compound growth\n"
   ]
  },
  {
   "cell_type": "markdown",
   "metadata": {},
   "source": [
    "#### len(...) function\n",
    "    - enables to compute length of a string"
   ]
  },
  {
   "cell_type": "code",
   "execution_count": null,
   "metadata": {},
   "outputs": [],
   "source": [
    "print(len(\"hello\"))\n",
    "print(len(\"Meena\"))\n",
    "print(len(\"Hi CS220\"))"
   ]
  },
  {
   "cell_type": "markdown",
   "metadata": {},
   "source": [
    "## Example: string expressions"
   ]
  },
  {
   "cell_type": "code",
   "execution_count": null,
   "metadata": {},
   "outputs": [],
   "source": [
    "# Alice vs Bob\n",
    "\n"
   ]
  },
  {
   "cell_type": "markdown",
   "metadata": {},
   "source": [
    "## Example: bool expressions"
   ]
  },
  {
   "cell_type": "code",
   "execution_count": null,
   "metadata": {},
   "outputs": [],
   "source": [
    "# bool demo\n",
    "age = 10\n",
    "valid = ???\n",
    "print(\"you may continue: \" + str(valid))"
   ]
  },
  {
   "cell_type": "code",
   "execution_count": null,
   "metadata": {},
   "outputs": [],
   "source": [
    "# bool demo\n",
    "age = 110\n",
    "valid = ???\n",
    "print(\"you may continue: \" + str(valid))"
   ]
  }
 ],
 "metadata": {
  "kernelspec": {
   "display_name": "Python 3 (ipykernel)",
   "language": "python",
   "name": "python3"
  },
  "language_info": {
   "codemirror_mode": {
    "name": "ipython",
    "version": 3
   },
   "file_extension": ".py",
   "mimetype": "text/x-python",
   "name": "python",
   "nbconvert_exporter": "python",
   "pygments_lexer": "ipython3",
   "version": "3.9.7"
  }
 },
 "nbformat": 4,
 "nbformat_minor": 2
}
