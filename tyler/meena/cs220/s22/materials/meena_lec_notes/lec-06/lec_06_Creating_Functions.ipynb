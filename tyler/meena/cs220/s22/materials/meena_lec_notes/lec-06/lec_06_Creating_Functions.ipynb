{
 "cells": [
  {
   "cell_type": "markdown",
   "metadata": {},
   "source": [
    "# Creating Functions"
   ]
  },
  {
   "cell_type": "markdown",
   "metadata": {},
   "source": [
    "### Review - pre-installed modules\n",
    "\n",
    "### Two ways of importing functions from a module\n",
    "1. import \\<module\\>\n",
    "    - requires you to use attribute operator: `.`\n",
    "    - \\<module\\>.\\<function\\>\n",
    "2. from \\<module\\> import \\<function\\>\n",
    "    - function can be called just with its name\n",
    "    \n",
    "Let's learn about time module"
   ]
  },
  {
   "cell_type": "code",
   "execution_count": 1,
   "metadata": {},
   "outputs": [],
   "source": [
    "# Add all your import statements to this cell\n",
    "\n",
    "# TODO: import time module using import style of import\n",
    "import time\n",
    "\n",
    "# TODO: use from style of import to import log10 function from math module\n",
    "from math import log10\n",
    "\n",
    "# Bad style to import everything from a module\n",
    "# Not recommended to do\n",
    "#from math import *\n",
    "# If you want to import everything, you need to \n",
    "# follow import style of import\n",
    "import math"
   ]
  },
  {
   "cell_type": "markdown",
   "metadata": {},
   "source": [
    "time module time function shows the current time in seconds since epoch.\n",
    "\n",
    "What is epoch? epoch is January 1, 1970. **FUN FACT:** epoch is considered beginning of time for computers."
   ]
  },
  {
   "cell_type": "code",
   "execution_count": 2,
   "metadata": {},
   "outputs": [
    {
     "name": "stdout",
     "output_type": "stream",
     "text": [
      "1644107903.650124\n",
      "1644107909.54414\n",
      "5.8940160274505615\n"
     ]
    }
   ],
   "source": [
    "start_time = time.time()\n",
    "x = 2 ** 1000000000       # some large computation\n",
    "end_time = time.time()\n",
    "\n",
    "# TODO: change the line below to compute difference\n",
    "difference = (end_time - start_time)\n",
    "\n",
    "# TODO: add a separator of '\\n'\n",
    "print(start_time, end_time, difference, sep = \"\\n\") \n",
    "\n",
    "# TODO: discuss - how can you use time() function to time your project code?"
   ]
  },
  {
   "cell_type": "code",
   "execution_count": 3,
   "metadata": {},
   "outputs": [
    {
     "name": "stdout",
     "output_type": "stream",
     "text": [
      "3.0\n"
     ]
    }
   ],
   "source": [
    "# TODO: call log10 function to determine log base 10 of 1000\n",
    "print(log10(1000))\n",
    "\n",
    "# Recall that you cannot use math. when you use from style of import\n",
    "# print(math.log10(1000)) #doesn't work"
   ]
  },
  {
   "cell_type": "code",
   "execution_count": 4,
   "metadata": {},
   "outputs": [
    {
     "data": {
      "text/plain": [
       "3.141592653589793"
      ]
     },
     "execution_count": 4,
     "metadata": {},
     "output_type": "execute_result"
    }
   ],
   "source": [
    "# TODO: can you access pi variable inside math module?\n",
    "#pi # TODO: discuss why this didn't work\n",
    "\n",
    "# TODO: go back to the import cell and import math \n",
    "# TODO: fix line 2, so that you are now able to access pi inside math module\n",
    "math.pi"
   ]
  },
  {
   "cell_type": "markdown",
   "metadata": {},
   "source": [
    "## Learning Objectives\n",
    "\n",
    "- Explain the syntax of a function header:\n",
    "    - def, ( ), :, tabbing, return\n",
    "- Write a function with:\n",
    "    - correct header and indentation\n",
    "    - a return value (fruitful function) or without (void function)\n",
    "    - parameters that have default values\n",
    "- Write a function knowing the difference in outcomes of print and return statements\n",
    "- Explain how positional, keyword, and default arguments are copied into parameters\n",
    "- Make function calls using positional, keyword, and default arguments and determine the result.\n",
    "- Trace function invocations to determine control flow"
   ]
  },
  {
   "cell_type": "markdown",
   "metadata": {},
   "source": [
    "## Example 1: Cube of a number\n",
    "- Input: number (to be cubed)\n",
    "- Output: cubed number"
   ]
  },
  {
   "cell_type": "code",
   "execution_count": 5,
   "metadata": {},
   "outputs": [],
   "source": [
    "# TODO: Let's define the cube function\n",
    "def cube(side):\n",
    "    return side ** 3"
   ]
  },
  {
   "cell_type": "code",
   "execution_count": 6,
   "metadata": {},
   "outputs": [
    {
     "name": "stdout",
     "output_type": "stream",
     "text": [
      "125\n",
      "512\n"
     ]
    }
   ],
   "source": [
    "# Let's call cube function\n",
    "print(cube(5))\n",
    "# TODO: discuss what is different about the below line of code\n",
    "print(cube(cube(2)))"
   ]
  },
  {
   "cell_type": "code",
   "execution_count": 7,
   "metadata": {},
   "outputs": [
    {
     "name": "stdout",
     "output_type": "stream",
     "text": [
      "37\n",
      "37\n"
     ]
    }
   ],
   "source": [
    "# TODO: compute 4 cube + -3 cube\n",
    "# version 1\n",
    "print(cube(4) + cube(-3))\n",
    "\n",
    "# version 2\n",
    "cube_of_4 = cube(4)\n",
    "cube_of_minus_3 = cube(-3)\n",
    "print(cube_of_4 + cube_of_minus_3)"
   ]
  },
  {
   "cell_type": "code",
   "execution_count": 8,
   "metadata": {},
   "outputs": [
    {
     "name": "stdout",
     "output_type": "stream",
     "text": [
      "-1728\n"
     ]
    }
   ],
   "source": [
    "# TODO: compute 4 cube * -3 cube\n",
    "# Now which one of the above two versions is better?\n",
    "\n",
    "print(cube_of_4 * cube_of_minus_3)"
   ]
  },
  {
   "cell_type": "code",
   "execution_count": 9,
   "metadata": {},
   "outputs": [],
   "source": [
    "# Whenever you think you are going to reuse a function call's\n",
    "# output, save it in a variable\n",
    "\n",
    "# Rookie programmer mistake: calling the same function with the \n",
    "# same arguments will always give the same return value\n",
    "# Running the same function call twice takes twice the time"
   ]
  },
  {
   "cell_type": "markdown",
   "metadata": {},
   "source": [
    "`return` vs `print`\n",
    "- `return` enables us to send output from a function to the calling place\n",
    "    - default `return` value is `None`\n",
    "    - that means, when you don't have a `return` statement, `None` will be returned\n",
    "- `print` function simply displays / prints something\n",
    "    - it cannot enable you to produce output from a function"
   ]
  },
  {
   "cell_type": "code",
   "execution_count": 10,
   "metadata": {},
   "outputs": [],
   "source": [
    "# TODO: Go back to cube function defintion, change return to print\n",
    "# Run the above function call cells to see what happens"
   ]
  },
  {
   "cell_type": "markdown",
   "metadata": {},
   "source": [
    "## Tracing function invocations\n",
    "- PythonTutor is a great tool to learn control flow\n",
    "- Let's use PythonTutor to trace cube function invocation\n",
    "- TODO: Copy-paste cube function defintion into PythonTutor (course website > tools > PythonTutor)"
   ]
  },
  {
   "cell_type": "markdown",
   "metadata": {},
   "source": [
    "## Example 2: is_between(lower, num, upper)\n",
    "- Purpose: check whether number is within the range of lower and upper (inclusive)\n",
    "- Input: lower bound, number, upper bound\n",
    "- Output: boolean value (`True` or `False`)\n",
    "- Keyword: `pass`:\n",
    "    - placeholder statement\n",
    "    - you cannot run a cell with an empty function definition"
   ]
  },
  {
   "cell_type": "code",
   "execution_count": 11,
   "metadata": {},
   "outputs": [
    {
     "name": "stdout",
     "output_type": "stream",
     "text": [
      "True\n",
      "False\n",
      "True\n"
     ]
    }
   ],
   "source": [
    "def is_between(lower, num, upper):\n",
    "    #pass # TODO: remove this and try to run this cell\n",
    "    # version 1\n",
    "    return lower <= num <= upper\n",
    "    # version 2\n",
    "    #return lower <= num and num <= upper\n",
    "    \n",
    "# you can call a function in the same cell that you defined it\n",
    "print(is_between(3, 7, 21))\n",
    "print(is_between(2, 14, 5))\n",
    "print(is_between(100, cube(5), 200))"
   ]
  },
  {
   "cell_type": "markdown",
   "metadata": {},
   "source": [
    "## Types of arguments\n",
    "- positional\n",
    "- keyword\n",
    "- default\n",
    "\n",
    "Python fills arguments in this order: positional, keyword, "
   ]
  },
  {
   "cell_type": "code",
   "execution_count": 12,
   "metadata": {},
   "outputs": [
    {
     "name": "stdout",
     "output_type": "stream",
     "text": [
      "x = 100\n",
      "y = 10\n",
      "z = 5\n",
      "x = 100\n",
      "y = 10\n",
      "z = 5\n"
     ]
    },
    {
     "data": {
      "text/plain": [
       "115"
      ]
     },
     "execution_count": 12,
     "metadata": {},
     "output_type": "execute_result"
    }
   ],
   "source": [
    "def add3(x, y = 100, z = 100): \n",
    "    \"\"\"adds three numbers\"\"\"       #documentation string\n",
    "    print (\"x = \" + str(x))\n",
    "    print (\"y = \" + str(y))\n",
    "    print (\"z = \" + str(z))\n",
    "    return x + y + z\n",
    "\n",
    "sum = add3(100, 10, 5) \n",
    "# TODO: 1. sum is a bad variable, discuss: why. What would be a better variable name?\n",
    "# TODO: 2. what type of arguments are 100, 10, and 5? Positional\n",
    "\n",
    "total = add3(100, 10, 5)\n",
    "total"
   ]
  },
  {
   "cell_type": "code",
   "execution_count": 13,
   "metadata": {},
   "outputs": [
    {
     "name": "stdout",
     "output_type": "stream",
     "text": [
      "x = 1\n",
      "y = 5\n",
      "z = 2\n",
      "8\n"
     ]
    }
   ],
   "source": [
    "print(add3(x = 1, z = 2, y = 5)) #TODO: what type of arguments are these? Keyword"
   ]
  },
  {
   "cell_type": "code",
   "execution_count": 14,
   "metadata": {},
   "outputs": [
    {
     "name": "stdout",
     "output_type": "stream",
     "text": [
      "x = 5\n",
      "y = 6\n",
      "z = 100\n"
     ]
    },
    {
     "data": {
      "text/plain": [
       "111"
      ]
     },
     "execution_count": 14,
     "metadata": {},
     "output_type": "execute_result"
    }
   ],
   "source": [
    "add3(5, 6) # TODO: what type of argument gets filled for the parameter z? Default value"
   ]
  },
  {
   "cell_type": "markdown",
   "metadata": {},
   "source": [
    "Positional arguments need to be specified before keyword arguments."
   ]
  },
  {
   "cell_type": "code",
   "execution_count": 15,
   "metadata": {},
   "outputs": [
    {
     "ename": "SyntaxError",
     "evalue": "positional argument follows keyword argument (1597961864.py, line 2)",
     "output_type": "error",
     "traceback": [
      "\u001b[0;36m  File \u001b[0;32m\"/var/folders/k6/kcy8b4f57hx9f1wh4sbs8mn40000gn/T/ipykernel_49460/1597961864.py\"\u001b[0;36m, line \u001b[0;32m2\u001b[0m\n\u001b[0;31m    add3(z = 5, 2, 7)\u001b[0m\n\u001b[0m                    ^\u001b[0m\n\u001b[0;31mSyntaxError\u001b[0m\u001b[0;31m:\u001b[0m positional argument follows keyword argument\n"
     ]
    }
   ],
   "source": [
    "# Incorrect function call\n",
    "add3(z = 5, 2, 7) \n",
    "# TODO: what category of error is this?"
   ]
  },
  {
   "cell_type": "markdown",
   "metadata": {},
   "source": [
    "Similarly, parameters with default values should be defined after parameters without default values."
   ]
  },
  {
   "cell_type": "code",
   "execution_count": 16,
   "metadata": {},
   "outputs": [
    {
     "ename": "SyntaxError",
     "evalue": "non-default argument follows default argument (1367324985.py, line 2)",
     "output_type": "error",
     "traceback": [
      "\u001b[0;36m  File \u001b[0;32m\"/var/folders/k6/kcy8b4f57hx9f1wh4sbs8mn40000gn/T/ipykernel_49460/1367324985.py\"\u001b[0;36m, line \u001b[0;32m2\u001b[0m\n\u001b[0;31m    def add3_bad_version(x = 10, y, z):\u001b[0m\n\u001b[0m                                    ^\u001b[0m\n\u001b[0;31mSyntaxError\u001b[0m\u001b[0;31m:\u001b[0m non-default argument follows default argument\n"
     ]
    }
   ],
   "source": [
    "# Incorrect function definition\n",
    "def add3_bad_version(x = 10, y, z): \n",
    "    \"\"\"adds three numbers\"\"\"              #documentation string\n",
    "    return x + y + z"
   ]
  },
  {
   "cell_type": "markdown",
   "metadata": {},
   "source": [
    "Python expects exactly same number of arguments as parameters."
   ]
  },
  {
   "cell_type": "code",
   "execution_count": 17,
   "metadata": {},
   "outputs": [
    {
     "ename": "TypeError",
     "evalue": "add3() got multiple values for argument 'x'",
     "output_type": "error",
     "traceback": [
      "\u001b[0;31m---------------------------------------------------------------------------\u001b[0m",
      "\u001b[0;31mTypeError\u001b[0m                                 Traceback (most recent call last)",
      "\u001b[0;32m/var/folders/k6/kcy8b4f57hx9f1wh4sbs8mn40000gn/T/ipykernel_49460/100225854.py\u001b[0m in \u001b[0;36m<module>\u001b[0;34m\u001b[0m\n\u001b[1;32m      1\u001b[0m \u001b[0;31m# Incorrect function call\u001b[0m\u001b[0;34m\u001b[0m\u001b[0;34m\u001b[0m\u001b[0m\n\u001b[0;32m----> 2\u001b[0;31m \u001b[0madd3\u001b[0m\u001b[0;34m(\u001b[0m\u001b[0;36m5\u001b[0m\u001b[0;34m,\u001b[0m \u001b[0;36m3\u001b[0m\u001b[0;34m,\u001b[0m \u001b[0;36m10\u001b[0m\u001b[0;34m,\u001b[0m \u001b[0mx\u001b[0m \u001b[0;34m=\u001b[0m \u001b[0;36m4\u001b[0m\u001b[0;34m)\u001b[0m\u001b[0;34m\u001b[0m\u001b[0;34m\u001b[0m\u001b[0m\n\u001b[0m\u001b[1;32m      3\u001b[0m \u001b[0;31m# TODO: what category of error is this?\u001b[0m\u001b[0;34m\u001b[0m\u001b[0;34m\u001b[0m\u001b[0m\n",
      "\u001b[0;31mTypeError\u001b[0m: add3() got multiple values for argument 'x'"
     ]
    }
   ],
   "source": [
    "# Incorrect function call\n",
    "add3(5, 3, 10, x = 4)\n",
    "# TODO: what category of error is this?"
   ]
  },
  {
   "cell_type": "code",
   "execution_count": 18,
   "metadata": {},
   "outputs": [
    {
     "ename": "TypeError",
     "evalue": "add3() missing 1 required positional argument: 'x'",
     "output_type": "error",
     "traceback": [
      "\u001b[0;31m---------------------------------------------------------------------------\u001b[0m",
      "\u001b[0;31mTypeError\u001b[0m                                 Traceback (most recent call last)",
      "\u001b[0;32m/var/folders/k6/kcy8b4f57hx9f1wh4sbs8mn40000gn/T/ipykernel_49460/2441706151.py\u001b[0m in \u001b[0;36m<module>\u001b[0;34m\u001b[0m\n\u001b[1;32m      1\u001b[0m \u001b[0;31m# TODO: will this function call work?\u001b[0m\u001b[0;34m\u001b[0m\u001b[0;34m\u001b[0m\u001b[0m\n\u001b[0;32m----> 2\u001b[0;31m \u001b[0madd3\u001b[0m\u001b[0;34m(\u001b[0m\u001b[0my\u001b[0m \u001b[0;34m=\u001b[0m \u001b[0;36m5\u001b[0m\u001b[0;34m,\u001b[0m \u001b[0mz\u001b[0m \u001b[0;34m=\u001b[0m \u001b[0;36m10\u001b[0m\u001b[0;34m)\u001b[0m\u001b[0;34m\u001b[0m\u001b[0;34m\u001b[0m\u001b[0m\n\u001b[0m",
      "\u001b[0;31mTypeError\u001b[0m: add3() missing 1 required positional argument: 'x'"
     ]
    }
   ],
   "source": [
    "# TODO: will this function call work?\n",
    "add3(y = 5, z = 10)"
   ]
  },
  {
   "cell_type": "code",
   "execution_count": 19,
   "metadata": {},
   "outputs": [
    {
     "ename": "TypeError",
     "evalue": "add3() missing 1 required positional argument: 'x'",
     "output_type": "error",
     "traceback": [
      "\u001b[0;31m---------------------------------------------------------------------------\u001b[0m",
      "\u001b[0;31mTypeError\u001b[0m                                 Traceback (most recent call last)",
      "\u001b[0;32m/var/folders/k6/kcy8b4f57hx9f1wh4sbs8mn40000gn/T/ipykernel_49460/2146538074.py\u001b[0m in \u001b[0;36m<module>\u001b[0;34m\u001b[0m\n\u001b[1;32m      1\u001b[0m \u001b[0;31m# TODO: will this function call work?\u001b[0m\u001b[0;34m\u001b[0m\u001b[0;34m\u001b[0m\u001b[0m\n\u001b[0;32m----> 2\u001b[0;31m \u001b[0madd3\u001b[0m\u001b[0;34m(\u001b[0m\u001b[0;34m)\u001b[0m\u001b[0;34m\u001b[0m\u001b[0;34m\u001b[0m\u001b[0m\n\u001b[0m",
      "\u001b[0;31mTypeError\u001b[0m: add3() missing 1 required positional argument: 'x'"
     ]
    }
   ],
   "source": [
    "# TODO: will this function call work?\n",
    "add3()"
   ]
  },
  {
   "cell_type": "markdown",
   "metadata": {},
   "source": [
    "## Example 3: Generate a height x width grid\n",
    "- Input: width, height, grid symbol, title of the grid\n",
    "- Output: string containing title, a newline, and the grid\n",
    "- Pseudocode steps:\n",
    "    1. Generate a single row of symb (width dimension). What string operator do you need?\n",
    "    2. Capture single row into a variable\n",
    "    3. Add newline to single row variable.\n",
    "    4. Generate multiple rows (height dimension). What string operator do you need?\n",
    "    5. Generate the output string to be returned by adding title with a newline with the output from step 4."
   ]
  },
  {
   "cell_type": "code",
   "execution_count": 20,
   "metadata": {},
   "outputs": [],
   "source": [
    "# TODO: how many parameters have default values in the below function?\n",
    "def get_grid(width, height, symb = '#', title = 'My Grid:'):\n",
    "    row = symb * width\n",
    "    grid = (row + '\\n') * height\n",
    "    return title + '\\n' + grid"
   ]
  },
  {
   "cell_type": "code",
   "execution_count": 21,
   "metadata": {},
   "outputs": [
    {
     "name": "stdout",
     "output_type": "stream",
     "text": [
      "My Grid:\n",
      "##########\n",
      "##########\n",
      "##########\n",
      "##########\n",
      "##########\n",
      "##########\n",
      "##########\n",
      "##########\n",
      "\n"
     ]
    }
   ],
   "source": [
    "# TODO: generate various sized grids, by exploring\n",
    "# three types of arguments\n",
    "# Here is one example\n",
    "print(get_grid(10, 8))"
   ]
  },
  {
   "cell_type": "code",
   "execution_count": 22,
   "metadata": {},
   "outputs": [],
   "source": [
    "# TODO: use PythonTutor to trace get_grid function call"
   ]
  },
  {
   "cell_type": "code",
   "execution_count": 23,
   "metadata": {},
   "outputs": [
    {
     "name": "stdout",
     "output_type": "stream",
     "text": [
      "My Grid:\n",
      "@@@@@\n",
      "@@@@@\n",
      "@@@@@\n",
      "@@@@@\n",
      "\n"
     ]
    }
   ],
   "source": [
    "print(get_grid(5, 4, symb = \"@\"))"
   ]
  },
  {
   "cell_type": "code",
   "execution_count": 24,
   "metadata": {},
   "outputs": [
    {
     "name": "stdout",
     "output_type": "stream",
     "text": [
      "Some Grid:\n",
      "..\n",
      "..\n",
      "..\n",
      "\n"
     ]
    }
   ],
   "source": [
    "print(get_grid(2, 3, \".\", \"Some Grid:\"))"
   ]
  },
  {
   "cell_type": "markdown",
   "metadata": {},
   "source": [
    "When you use keyword arguments, the order of the arguments need not match with the parameters.\n",
    "This is because we tie the arguments to the parameters, by explicitly saying parameter = argument"
   ]
  },
  {
   "cell_type": "code",
   "execution_count": 25,
   "metadata": {},
   "outputs": [
    {
     "name": "stdout",
     "output_type": "stream",
     "text": [
      "Some other grid:\n",
      "^^^^\n",
      "^^^^\n",
      "^^^^\n",
      "^^^^\n",
      "^^^^\n",
      "^^^^\n",
      "^^^^\n",
      "\n"
     ]
    }
   ],
   "source": [
    "# TODO: Try using all keyword arguments and use different order than the order of the parameters.\n",
    "print(get_grid(symb = \"^\", title = \"Some other grid:\", width = 4, height = 7))"
   ]
  },
  {
   "cell_type": "markdown",
   "metadata": {},
   "source": [
    "### Revisiting `print` function\n",
    "- Let's look at `help(print)` to learn about print's parameters\n",
    "    - Default value for `sep` is space, that is: \" \"\n",
    "    - Default value for `end` is newline, that is: \"\\n\""
   ]
  },
  {
   "cell_type": "code",
   "execution_count": 26,
   "metadata": {},
   "outputs": [
    {
     "name": "stdout",
     "output_type": "stream",
     "text": [
      "Help on built-in function print in module builtins:\n",
      "\n",
      "print(...)\n",
      "    print(value, ..., sep=' ', end='\\n', file=sys.stdout, flush=False)\n",
      "    \n",
      "    Prints the values to a stream, or to sys.stdout by default.\n",
      "    Optional keyword arguments:\n",
      "    file:  a file-like object (stream); defaults to the current sys.stdout.\n",
      "    sep:   string inserted between values, default a space.\n",
      "    end:   string appended after the last value, default a newline.\n",
      "    flush: whether to forcibly flush the stream.\n",
      "\n"
     ]
    }
   ],
   "source": [
    "help(print)"
   ]
  },
  {
   "cell_type": "code",
   "execution_count": 27,
   "metadata": {},
   "outputs": [
    {
     "name": "stdout",
     "output_type": "stream",
     "text": [
      "7 True 34....\n",
      "7\tTrue\t34\n"
     ]
    }
   ],
   "source": [
    "# TODO: predict output, then run to validate your prediction\n",
    "print(3 + 4, 3 < 4, \"3\" + \"4\", end = \"....\\n\" )     # sep default is \" \"\n",
    "print(3 + 4, 3 < 4, \"3\" + \"4\", sep = \"\\t\" )         # end default is \"\\n\""
   ]
  },
  {
   "cell_type": "markdown",
   "metadata": {},
   "source": [
    "## fruitful function versus void function\n",
    "- fruitful function: returns something\n",
    "    - ex: add3\n",
    "- void function: doesn't return anything\n",
    "    - ex: bad_add3_v1"
   ]
  },
  {
   "cell_type": "code",
   "execution_count": 28,
   "metadata": {},
   "outputs": [
    {
     "name": "stdout",
     "output_type": "stream",
     "text": [
      "7\n",
      "None\n"
     ]
    }
   ],
   "source": [
    "# Example of void function\n",
    "def bad_add3_v1(x, y, z):\n",
    "    print(x + y + z)\n",
    "\n",
    "print(bad_add3_v1(4, 2, 1))"
   ]
  },
  {
   "cell_type": "code",
   "execution_count": 29,
   "metadata": {},
   "outputs": [
    {
     "name": "stdout",
     "output_type": "stream",
     "text": [
      "7\n"
     ]
    },
    {
     "ename": "TypeError",
     "evalue": "unsupported operand type(s) for ** or pow(): 'NoneType' and 'int'",
     "output_type": "error",
     "traceback": [
      "\u001b[0;31m---------------------------------------------------------------------------\u001b[0m",
      "\u001b[0;31mTypeError\u001b[0m                                 Traceback (most recent call last)",
      "\u001b[0;32m/var/folders/k6/kcy8b4f57hx9f1wh4sbs8mn40000gn/T/ipykernel_49460/1070455296.py\u001b[0m in \u001b[0;36m<module>\u001b[0;34m\u001b[0m\n\u001b[0;32m----> 1\u001b[0;31m \u001b[0mprint\u001b[0m\u001b[0;34m(\u001b[0m\u001b[0mbad_add3_v1\u001b[0m\u001b[0;34m(\u001b[0m\u001b[0;36m4\u001b[0m\u001b[0;34m,\u001b[0m \u001b[0;36m2\u001b[0m\u001b[0;34m,\u001b[0m \u001b[0;36m1\u001b[0m\u001b[0;34m)\u001b[0m \u001b[0;34m**\u001b[0m \u001b[0;36m2\u001b[0m\u001b[0;34m)\u001b[0m \u001b[0;31m# Cannot apply operations to None\u001b[0m\u001b[0;34m\u001b[0m\u001b[0;34m\u001b[0m\u001b[0m\n\u001b[0m",
      "\u001b[0;31mTypeError\u001b[0m: unsupported operand type(s) for ** or pow(): 'NoneType' and 'int'"
     ]
    }
   ],
   "source": [
    "print(bad_add3_v1(4, 2, 1) ** 2) # Cannot apply mathematical operator to None"
   ]
  },
  {
   "cell_type": "markdown",
   "metadata": {},
   "source": [
    "### `return` statement is final\n",
    "- exactly *one* `return` statement gets executed for a function call\n",
    "- immediately after encountering `return`, function execution terminates"
   ]
  },
  {
   "cell_type": "code",
   "execution_count": 30,
   "metadata": {},
   "outputs": [
    {
     "data": {
      "text/plain": [
       "50"
      ]
     },
     "execution_count": 30,
     "metadata": {},
     "output_type": "execute_result"
    }
   ],
   "source": [
    "def bad_add3_v2(x, y, z): \n",
    "    return x\n",
    "    return x + y + z      # will never execute\n",
    "\n",
    "bad_add3_v2(50, 60, 70)"
   ]
  },
  {
   "cell_type": "markdown",
   "metadata": {},
   "source": [
    "Default return type from a function is None. \n",
    "None is a special type in Python (similar to null in Java)."
   ]
  },
  {
   "cell_type": "markdown",
   "metadata": {},
   "source": [
    "### Trace this example\n",
    "- manually\n",
    "- then use PythonTutor"
   ]
  },
  {
   "cell_type": "code",
   "execution_count": 31,
   "metadata": {},
   "outputs": [
    {
     "name": "stdout",
     "output_type": "stream",
     "text": [
      "A1\n",
      "B1\n",
      "C\n",
      "B2\n",
      "A2\n"
     ]
    }
   ],
   "source": [
    "def func_c():\n",
    "    print(\"C\")\n",
    "\n",
    "def func_b():\n",
    "    print(\"B1\")\n",
    "    func_c()\n",
    "    print(\"B2\")\n",
    "\n",
    "def func_a():\n",
    "    print(\"A1\")\n",
    "    func_b()\n",
    "    print(\"A2\")\n",
    "\n",
    "func_a()"
   ]
  }
 ],
 "metadata": {
  "kernelspec": {
   "display_name": "Python 3 (ipykernel)",
   "language": "python",
   "name": "python3"
  },
  "language_info": {
   "codemirror_mode": {
    "name": "ipython",
    "version": 3
   },
   "file_extension": ".py",
   "mimetype": "text/x-python",
   "name": "python",
   "nbconvert_exporter": "python",
   "pygments_lexer": "ipython3",
   "version": "3.9.7"
  }
 },
 "nbformat": 4,
 "nbformat_minor": 2
}
