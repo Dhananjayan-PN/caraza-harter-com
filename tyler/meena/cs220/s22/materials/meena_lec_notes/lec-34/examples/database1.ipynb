{
 "cells": [
  {
   "cell_type": "code",
   "execution_count": 1,
   "metadata": {},
   "outputs": [
    {
     "data": {
      "text/html": [
       "<style>.container {width:100% !important; }</stle>"
      ],
      "text/plain": [
       "<IPython.core.display.HTML object>"
      ]
     },
     "metadata": {},
     "output_type": "display_data"
    }
   ],
   "source": [
    "from IPython.core.display import display, HTML\n",
    "display(HTML(\"<style>.container {width:100% !important; }</stle>\"))"
   ]
  },
  {
   "cell_type": "markdown",
   "metadata": {},
   "source": [
    "# Database connection"
   ]
  },
  {
   "cell_type": "code",
   "execution_count": 2,
   "metadata": {},
   "outputs": [],
   "source": [
    "import sqlite3\n",
    "import pandas as pd\n",
    "import os"
   ]
  },
  {
   "cell_type": "markdown",
   "metadata": {},
   "source": [
    "## Typo example - bussssss.db"
   ]
  },
  {
   "cell_type": "code",
   "execution_count": 3,
   "metadata": {},
   "outputs": [
    {
     "data": {
      "text/plain": [
       "<sqlite3.Connection at 0x7f88bc79ea80>"
      ]
     },
     "execution_count": 3,
     "metadata": {},
     "output_type": "execute_result"
    }
   ],
   "source": [
    "conn = sqlite3.connect(\"bussssss.db\")\n",
    "conn"
   ]
  },
  {
   "cell_type": "markdown",
   "metadata": {},
   "source": [
    "### pd.read_sql(\"QUERY\", CONNECTION)\n",
    "* Query: SELECT * FROM sqlite_master"
   ]
  },
  {
   "cell_type": "code",
   "execution_count": 4,
   "metadata": {},
   "outputs": [
    {
     "data": {
      "text/html": [
       "<div>\n",
       "<style scoped>\n",
       "    .dataframe tbody tr th:only-of-type {\n",
       "        vertical-align: middle;\n",
       "    }\n",
       "\n",
       "    .dataframe tbody tr th {\n",
       "        vertical-align: top;\n",
       "    }\n",
       "\n",
       "    .dataframe thead th {\n",
       "        text-align: right;\n",
       "    }\n",
       "</style>\n",
       "<table border=\"1\" class=\"dataframe\">\n",
       "  <thead>\n",
       "    <tr style=\"text-align: right;\">\n",
       "      <th></th>\n",
       "      <th>type</th>\n",
       "      <th>name</th>\n",
       "      <th>tbl_name</th>\n",
       "      <th>rootpage</th>\n",
       "      <th>sql</th>\n",
       "    </tr>\n",
       "  </thead>\n",
       "  <tbody>\n",
       "  </tbody>\n",
       "</table>\n",
       "</div>"
      ],
      "text/plain": [
       "Empty DataFrame\n",
       "Columns: [type, name, tbl_name, rootpage, sql]\n",
       "Index: []"
      ]
     },
     "execution_count": 4,
     "metadata": {},
     "output_type": "execute_result"
    }
   ],
   "source": [
    "pd.read_sql(\"SELECT * FROM sqlite_master\", conn)"
   ]
  },
  {
   "cell_type": "markdown",
   "metadata": {},
   "source": [
    "### Let's close this bad connection"
   ]
  },
  {
   "cell_type": "code",
   "execution_count": 5,
   "metadata": {},
   "outputs": [],
   "source": [
    "conn.close()"
   ]
  },
  {
   "cell_type": "markdown",
   "metadata": {},
   "source": [
    "### Now let's open the correct bus.db"
   ]
  },
  {
   "cell_type": "code",
   "execution_count": 6,
   "metadata": {},
   "outputs": [
    {
     "data": {
      "text/plain": [
       "<sqlite3.Connection at 0x7f88bd157a80>"
      ]
     },
     "execution_count": 6,
     "metadata": {},
     "output_type": "execute_result"
    }
   ],
   "source": [
    "path = \"bus.db\"\n",
    "assert os.path.exists(path)\n",
    "conn = sqlite3.connect(path)\n",
    "conn"
   ]
  },
  {
   "cell_type": "code",
   "execution_count": 7,
   "metadata": {},
   "outputs": [
    {
     "data": {
      "text/html": [
       "<div>\n",
       "<style scoped>\n",
       "    .dataframe tbody tr th:only-of-type {\n",
       "        vertical-align: middle;\n",
       "    }\n",
       "\n",
       "    .dataframe tbody tr th {\n",
       "        vertical-align: top;\n",
       "    }\n",
       "\n",
       "    .dataframe thead th {\n",
       "        text-align: right;\n",
       "    }\n",
       "</style>\n",
       "<table border=\"1\" class=\"dataframe\">\n",
       "  <thead>\n",
       "    <tr style=\"text-align: right;\">\n",
       "      <th></th>\n",
       "      <th>type</th>\n",
       "      <th>name</th>\n",
       "      <th>tbl_name</th>\n",
       "      <th>rootpage</th>\n",
       "      <th>sql</th>\n",
       "    </tr>\n",
       "  </thead>\n",
       "  <tbody>\n",
       "    <tr>\n",
       "      <th>0</th>\n",
       "      <td>table</td>\n",
       "      <td>boarding</td>\n",
       "      <td>boarding</td>\n",
       "      <td>2</td>\n",
       "      <td>CREATE TABLE \"boarding\" (\\n\"index\" INTEGER,\\n ...</td>\n",
       "    </tr>\n",
       "    <tr>\n",
       "      <th>1</th>\n",
       "      <td>index</td>\n",
       "      <td>ix_boarding_index</td>\n",
       "      <td>boarding</td>\n",
       "      <td>3</td>\n",
       "      <td>CREATE INDEX \"ix_boarding_index\"ON \"boarding\" ...</td>\n",
       "    </tr>\n",
       "    <tr>\n",
       "      <th>2</th>\n",
       "      <td>table</td>\n",
       "      <td>routes</td>\n",
       "      <td>routes</td>\n",
       "      <td>55</td>\n",
       "      <td>CREATE TABLE \"routes\" (\\n\"index\" INTEGER,\\n  \"...</td>\n",
       "    </tr>\n",
       "    <tr>\n",
       "      <th>3</th>\n",
       "      <td>index</td>\n",
       "      <td>ix_routes_index</td>\n",
       "      <td>routes</td>\n",
       "      <td>57</td>\n",
       "      <td>CREATE INDEX \"ix_routes_index\"ON \"routes\" (\"in...</td>\n",
       "    </tr>\n",
       "  </tbody>\n",
       "</table>\n",
       "</div>"
      ],
      "text/plain": [
       "    type               name  tbl_name  rootpage  \\\n",
       "0  table           boarding  boarding         2   \n",
       "1  index  ix_boarding_index  boarding         3   \n",
       "2  table             routes    routes        55   \n",
       "3  index    ix_routes_index    routes        57   \n",
       "\n",
       "                                                 sql  \n",
       "0  CREATE TABLE \"boarding\" (\\n\"index\" INTEGER,\\n ...  \n",
       "1  CREATE INDEX \"ix_boarding_index\"ON \"boarding\" ...  \n",
       "2  CREATE TABLE \"routes\" (\\n\"index\" INTEGER,\\n  \"...  \n",
       "3  CREATE INDEX \"ix_routes_index\"ON \"routes\" (\"in...  "
      ]
     },
     "execution_count": 7,
     "metadata": {},
     "output_type": "execute_result"
    }
   ],
   "source": [
    "df = pd.read_sql(\"SELECT * FROM sqlite_master\", conn)\n",
    "df"
   ]
  },
  {
   "cell_type": "markdown",
   "metadata": {},
   "source": [
    "### Extract sql column from the DataFrame"
   ]
  },
  {
   "cell_type": "code",
   "execution_count": 8,
   "metadata": {},
   "outputs": [
    {
     "data": {
      "text/plain": [
       "0    CREATE TABLE \"boarding\" (\\n\"index\" INTEGER,\\n ...\n",
       "1    CREATE INDEX \"ix_boarding_index\"ON \"boarding\" ...\n",
       "2    CREATE TABLE \"routes\" (\\n\"index\" INTEGER,\\n  \"...\n",
       "3    CREATE INDEX \"ix_routes_index\"ON \"routes\" (\"in...\n",
       "Name: sql, dtype: object"
      ]
     },
     "execution_count": 8,
     "metadata": {},
     "output_type": "execute_result"
    }
   ],
   "source": [
    "df[\"sql\"]"
   ]
  },
  {
   "cell_type": "markdown",
   "metadata": {},
   "source": [
    "### Let's iterate over df[\"sql\"]"
   ]
  },
  {
   "cell_type": "code",
   "execution_count": 9,
   "metadata": {},
   "outputs": [
    {
     "name": "stdout",
     "output_type": "stream",
     "text": [
      "CREATE TABLE \"boarding\" (\n",
      "\"index\" INTEGER,\n",
      "  \"StopID\" INTEGER,\n",
      "  \"Route\" INTEGER,\n",
      "  \"Lat\" REAL,\n",
      "  \"Lon\" REAL,\n",
      "  \"DailyBoardings\" REAL\n",
      ")\n",
      "\n",
      "CREATE INDEX \"ix_boarding_index\"ON \"boarding\" (\"index\")\n",
      "\n",
      "CREATE TABLE \"routes\" (\n",
      "\"index\" INTEGER,\n",
      "  \"OBJECTID\" INTEGER,\n",
      "  \"trips_routes_route_id\" INTEGER,\n",
      "  \"route_short_name\" INTEGER,\n",
      "  \"route_url\" TEXT,\n",
      "  \"ShapeSTLength\" REAL\n",
      ")\n",
      "\n",
      "CREATE INDEX \"ix_routes_index\"ON \"routes\" (\"index\")\n",
      "\n"
     ]
    }
   ],
   "source": [
    "for code in df[\"sql\"]:\n",
    "    print(code + \"\\n\")"
   ]
  },
  {
   "cell_type": "markdown",
   "metadata": {},
   "source": [
    "### Query: SELECT * FROM \\<table_name\\>"
   ]
  },
  {
   "cell_type": "code",
   "execution_count": 10,
   "metadata": {},
   "outputs": [
    {
     "data": {
      "text/html": [
       "<div>\n",
       "<style scoped>\n",
       "    .dataframe tbody tr th:only-of-type {\n",
       "        vertical-align: middle;\n",
       "    }\n",
       "\n",
       "    .dataframe tbody tr th {\n",
       "        vertical-align: top;\n",
       "    }\n",
       "\n",
       "    .dataframe thead th {\n",
       "        text-align: right;\n",
       "    }\n",
       "</style>\n",
       "<table border=\"1\" class=\"dataframe\">\n",
       "  <thead>\n",
       "    <tr style=\"text-align: right;\">\n",
       "      <th></th>\n",
       "      <th>index</th>\n",
       "      <th>OBJECTID</th>\n",
       "      <th>trips_routes_route_id</th>\n",
       "      <th>route_short_name</th>\n",
       "      <th>route_url</th>\n",
       "      <th>ShapeSTLength</th>\n",
       "    </tr>\n",
       "  </thead>\n",
       "  <tbody>\n",
       "    <tr>\n",
       "      <th>0</th>\n",
       "      <td>0</td>\n",
       "      <td>63</td>\n",
       "      <td>8052</td>\n",
       "      <td>1</td>\n",
       "      <td>http://www.cityofmadison.com/Metro/schedules/R...</td>\n",
       "      <td>32379.426524</td>\n",
       "    </tr>\n",
       "    <tr>\n",
       "      <th>1</th>\n",
       "      <td>1</td>\n",
       "      <td>64</td>\n",
       "      <td>8053</td>\n",
       "      <td>2</td>\n",
       "      <td>http://www.cityofmadison.com/Metro/schedules/R...</td>\n",
       "      <td>96906.965571</td>\n",
       "    </tr>\n",
       "    <tr>\n",
       "      <th>2</th>\n",
       "      <td>2</td>\n",
       "      <td>65</td>\n",
       "      <td>8054</td>\n",
       "      <td>3</td>\n",
       "      <td>http://www.cityofmadison.com/Metro/schedules/R...</td>\n",
       "      <td>76436.645644</td>\n",
       "    </tr>\n",
       "    <tr>\n",
       "      <th>3</th>\n",
       "      <td>3</td>\n",
       "      <td>66</td>\n",
       "      <td>8055</td>\n",
       "      <td>4</td>\n",
       "      <td>http://www.cityofmadison.com/Metro/schedules/R...</td>\n",
       "      <td>64774.133485</td>\n",
       "    </tr>\n",
       "    <tr>\n",
       "      <th>4</th>\n",
       "      <td>4</td>\n",
       "      <td>67</td>\n",
       "      <td>8056</td>\n",
       "      <td>5</td>\n",
       "      <td>http://www.cityofmadison.com/Metro/schedules/R...</td>\n",
       "      <td>61216.722662</td>\n",
       "    </tr>\n",
       "    <tr>\n",
       "      <th>...</th>\n",
       "      <td>...</td>\n",
       "      <td>...</td>\n",
       "      <td>...</td>\n",
       "      <td>...</td>\n",
       "      <td>...</td>\n",
       "      <td>...</td>\n",
       "    </tr>\n",
       "    <tr>\n",
       "      <th>57</th>\n",
       "      <td>57</td>\n",
       "      <td>120</td>\n",
       "      <td>8109</td>\n",
       "      <td>78</td>\n",
       "      <td>http://www.cityofmadison.com/Metro/schedules/R...</td>\n",
       "      <td>95826.277218</td>\n",
       "    </tr>\n",
       "    <tr>\n",
       "      <th>58</th>\n",
       "      <td>58</td>\n",
       "      <td>121</td>\n",
       "      <td>8110</td>\n",
       "      <td>80</td>\n",
       "      <td>http://www.cityofmadison.com/Metro/schedules/R...</td>\n",
       "      <td>31831.761009</td>\n",
       "    </tr>\n",
       "    <tr>\n",
       "      <th>59</th>\n",
       "      <td>59</td>\n",
       "      <td>122</td>\n",
       "      <td>8111</td>\n",
       "      <td>81</td>\n",
       "      <td>http://www.cityofmadison.com/Metro/schedules/R...</td>\n",
       "      <td>26536.800591</td>\n",
       "    </tr>\n",
       "    <tr>\n",
       "      <th>60</th>\n",
       "      <td>60</td>\n",
       "      <td>123</td>\n",
       "      <td>8112</td>\n",
       "      <td>82</td>\n",
       "      <td>http://www.cityofmadison.com/Metro/schedules/R...</td>\n",
       "      <td>23287.980173</td>\n",
       "    </tr>\n",
       "    <tr>\n",
       "      <th>61</th>\n",
       "      <td>61</td>\n",
       "      <td>124</td>\n",
       "      <td>8113</td>\n",
       "      <td>84</td>\n",
       "      <td>http://www.cityofmadison.com/Metro/schedules/R...</td>\n",
       "      <td>20681.958334</td>\n",
       "    </tr>\n",
       "  </tbody>\n",
       "</table>\n",
       "<p>62 rows × 6 columns</p>\n",
       "</div>"
      ],
      "text/plain": [
       "    index  OBJECTID  trips_routes_route_id  route_short_name  \\\n",
       "0       0        63                   8052                 1   \n",
       "1       1        64                   8053                 2   \n",
       "2       2        65                   8054                 3   \n",
       "3       3        66                   8055                 4   \n",
       "4       4        67                   8056                 5   \n",
       "..    ...       ...                    ...               ...   \n",
       "57     57       120                   8109                78   \n",
       "58     58       121                   8110                80   \n",
       "59     59       122                   8111                81   \n",
       "60     60       123                   8112                82   \n",
       "61     61       124                   8113                84   \n",
       "\n",
       "                                            route_url  ShapeSTLength  \n",
       "0   http://www.cityofmadison.com/Metro/schedules/R...   32379.426524  \n",
       "1   http://www.cityofmadison.com/Metro/schedules/R...   96906.965571  \n",
       "2   http://www.cityofmadison.com/Metro/schedules/R...   76436.645644  \n",
       "3   http://www.cityofmadison.com/Metro/schedules/R...   64774.133485  \n",
       "4   http://www.cityofmadison.com/Metro/schedules/R...   61216.722662  \n",
       "..                                                ...            ...  \n",
       "57  http://www.cityofmadison.com/Metro/schedules/R...   95826.277218  \n",
       "58  http://www.cityofmadison.com/Metro/schedules/R...   31831.761009  \n",
       "59  http://www.cityofmadison.com/Metro/schedules/R...   26536.800591  \n",
       "60  http://www.cityofmadison.com/Metro/schedules/R...   23287.980173  \n",
       "61  http://www.cityofmadison.com/Metro/schedules/R...   20681.958334  \n",
       "\n",
       "[62 rows x 6 columns]"
      ]
     },
     "execution_count": 10,
     "metadata": {},
     "output_type": "execute_result"
    }
   ],
   "source": [
    "pd.read_sql(\"SELECT * FROM routes\", conn)"
   ]
  },
  {
   "cell_type": "code",
   "execution_count": 11,
   "metadata": {},
   "outputs": [
    {
     "data": {
      "text/html": [
       "<div>\n",
       "<style scoped>\n",
       "    .dataframe tbody tr th:only-of-type {\n",
       "        vertical-align: middle;\n",
       "    }\n",
       "\n",
       "    .dataframe tbody tr th {\n",
       "        vertical-align: top;\n",
       "    }\n",
       "\n",
       "    .dataframe thead th {\n",
       "        text-align: right;\n",
       "    }\n",
       "</style>\n",
       "<table border=\"1\" class=\"dataframe\">\n",
       "  <thead>\n",
       "    <tr style=\"text-align: right;\">\n",
       "      <th></th>\n",
       "      <th>index</th>\n",
       "      <th>StopID</th>\n",
       "      <th>Route</th>\n",
       "      <th>Lat</th>\n",
       "      <th>Lon</th>\n",
       "      <th>DailyBoardings</th>\n",
       "    </tr>\n",
       "  </thead>\n",
       "  <tbody>\n",
       "    <tr>\n",
       "      <th>0</th>\n",
       "      <td>0</td>\n",
       "      <td>1163</td>\n",
       "      <td>27</td>\n",
       "      <td>43.073655</td>\n",
       "      <td>-89.385427</td>\n",
       "      <td>1.03</td>\n",
       "    </tr>\n",
       "    <tr>\n",
       "      <th>1</th>\n",
       "      <td>1</td>\n",
       "      <td>1163</td>\n",
       "      <td>47</td>\n",
       "      <td>43.073655</td>\n",
       "      <td>-89.385427</td>\n",
       "      <td>0.11</td>\n",
       "    </tr>\n",
       "    <tr>\n",
       "      <th>2</th>\n",
       "      <td>2</td>\n",
       "      <td>1163</td>\n",
       "      <td>75</td>\n",
       "      <td>43.073655</td>\n",
       "      <td>-89.385427</td>\n",
       "      <td>0.34</td>\n",
       "    </tr>\n",
       "    <tr>\n",
       "      <th>3</th>\n",
       "      <td>3</td>\n",
       "      <td>1164</td>\n",
       "      <td>6</td>\n",
       "      <td>43.106465</td>\n",
       "      <td>-89.340021</td>\n",
       "      <td>10.59</td>\n",
       "    </tr>\n",
       "    <tr>\n",
       "      <th>4</th>\n",
       "      <td>4</td>\n",
       "      <td>1167</td>\n",
       "      <td>3</td>\n",
       "      <td>43.077867</td>\n",
       "      <td>-89.369993</td>\n",
       "      <td>3.11</td>\n",
       "    </tr>\n",
       "    <tr>\n",
       "      <th>5</th>\n",
       "      <td>5</td>\n",
       "      <td>1167</td>\n",
       "      <td>4</td>\n",
       "      <td>43.077867</td>\n",
       "      <td>-89.369993</td>\n",
       "      <td>2.23</td>\n",
       "    </tr>\n",
       "    <tr>\n",
       "      <th>6</th>\n",
       "      <td>6</td>\n",
       "      <td>1167</td>\n",
       "      <td>10</td>\n",
       "      <td>43.077867</td>\n",
       "      <td>-89.369993</td>\n",
       "      <td>0.11</td>\n",
       "    </tr>\n",
       "    <tr>\n",
       "      <th>7</th>\n",
       "      <td>7</td>\n",
       "      <td>1167</td>\n",
       "      <td>38</td>\n",
       "      <td>43.077867</td>\n",
       "      <td>-89.369993</td>\n",
       "      <td>1.36</td>\n",
       "    </tr>\n",
       "    <tr>\n",
       "      <th>8</th>\n",
       "      <td>8</td>\n",
       "      <td>1169</td>\n",
       "      <td>3</td>\n",
       "      <td>43.089707</td>\n",
       "      <td>-89.329817</td>\n",
       "      <td>18.90</td>\n",
       "    </tr>\n",
       "    <tr>\n",
       "      <th>9</th>\n",
       "      <td>9</td>\n",
       "      <td>1169</td>\n",
       "      <td>37</td>\n",
       "      <td>43.089707</td>\n",
       "      <td>-89.329817</td>\n",
       "      <td>1.35</td>\n",
       "    </tr>\n",
       "    <tr>\n",
       "      <th>10</th>\n",
       "      <td>10</td>\n",
       "      <td>1169</td>\n",
       "      <td>38</td>\n",
       "      <td>43.089707</td>\n",
       "      <td>-89.329817</td>\n",
       "      <td>31.15</td>\n",
       "    </tr>\n",
       "    <tr>\n",
       "      <th>11</th>\n",
       "      <td>11</td>\n",
       "      <td>1177</td>\n",
       "      <td>2</td>\n",
       "      <td>43.096916</td>\n",
       "      <td>-89.363631</td>\n",
       "      <td>6.69</td>\n",
       "    </tr>\n",
       "    <tr>\n",
       "      <th>12</th>\n",
       "      <td>12</td>\n",
       "      <td>1177</td>\n",
       "      <td>28</td>\n",
       "      <td>43.096916</td>\n",
       "      <td>-89.363631</td>\n",
       "      <td>1.46</td>\n",
       "    </tr>\n",
       "    <tr>\n",
       "      <th>13</th>\n",
       "      <td>13</td>\n",
       "      <td>1188</td>\n",
       "      <td>3</td>\n",
       "      <td>43.091791</td>\n",
       "      <td>-89.355523</td>\n",
       "      <td>13.45</td>\n",
       "    </tr>\n",
       "    <tr>\n",
       "      <th>14</th>\n",
       "      <td>14</td>\n",
       "      <td>1188</td>\n",
       "      <td>4</td>\n",
       "      <td>43.091791</td>\n",
       "      <td>-89.355523</td>\n",
       "      <td>37.75</td>\n",
       "    </tr>\n",
       "    <tr>\n",
       "      <th>15</th>\n",
       "      <td>15</td>\n",
       "      <td>1188</td>\n",
       "      <td>10</td>\n",
       "      <td>43.091791</td>\n",
       "      <td>-89.355523</td>\n",
       "      <td>16.03</td>\n",
       "    </tr>\n",
       "    <tr>\n",
       "      <th>16</th>\n",
       "      <td>16</td>\n",
       "      <td>1188</td>\n",
       "      <td>37</td>\n",
       "      <td>43.091791</td>\n",
       "      <td>-89.355523</td>\n",
       "      <td>5.74</td>\n",
       "    </tr>\n",
       "    <tr>\n",
       "      <th>17</th>\n",
       "      <td>17</td>\n",
       "      <td>1190</td>\n",
       "      <td>3</td>\n",
       "      <td>43.080238</td>\n",
       "      <td>-89.367028</td>\n",
       "      <td>16.34</td>\n",
       "    </tr>\n",
       "    <tr>\n",
       "      <th>18</th>\n",
       "      <td>18</td>\n",
       "      <td>1190</td>\n",
       "      <td>4</td>\n",
       "      <td>43.080238</td>\n",
       "      <td>-89.367028</td>\n",
       "      <td>16.70</td>\n",
       "    </tr>\n",
       "    <tr>\n",
       "      <th>19</th>\n",
       "      <td>19</td>\n",
       "      <td>1190</td>\n",
       "      <td>10</td>\n",
       "      <td>43.080238</td>\n",
       "      <td>-89.367028</td>\n",
       "      <td>10.57</td>\n",
       "    </tr>\n",
       "  </tbody>\n",
       "</table>\n",
       "</div>"
      ],
      "text/plain": [
       "    index  StopID  Route        Lat        Lon  DailyBoardings\n",
       "0       0    1163     27  43.073655 -89.385427            1.03\n",
       "1       1    1163     47  43.073655 -89.385427            0.11\n",
       "2       2    1163     75  43.073655 -89.385427            0.34\n",
       "3       3    1164      6  43.106465 -89.340021           10.59\n",
       "4       4    1167      3  43.077867 -89.369993            3.11\n",
       "5       5    1167      4  43.077867 -89.369993            2.23\n",
       "6       6    1167     10  43.077867 -89.369993            0.11\n",
       "7       7    1167     38  43.077867 -89.369993            1.36\n",
       "8       8    1169      3  43.089707 -89.329817           18.90\n",
       "9       9    1169     37  43.089707 -89.329817            1.35\n",
       "10     10    1169     38  43.089707 -89.329817           31.15\n",
       "11     11    1177      2  43.096916 -89.363631            6.69\n",
       "12     12    1177     28  43.096916 -89.363631            1.46\n",
       "13     13    1188      3  43.091791 -89.355523           13.45\n",
       "14     14    1188      4  43.091791 -89.355523           37.75\n",
       "15     15    1188     10  43.091791 -89.355523           16.03\n",
       "16     16    1188     37  43.091791 -89.355523            5.74\n",
       "17     17    1190      3  43.080238 -89.367028           16.34\n",
       "18     18    1190      4  43.080238 -89.367028           16.70\n",
       "19     19    1190     10  43.080238 -89.367028           10.57"
      ]
     },
     "execution_count": 11,
     "metadata": {},
     "output_type": "execute_result"
    }
   ],
   "source": [
    "df = pd.read_sql(\"SELECT * FROM boarding\", conn)\n",
    "df.head(20)"
   ]
  },
  {
   "cell_type": "markdown",
   "metadata": {},
   "source": [
    "### Adding LIMIT to the query\n",
    "* SELECT * FROM \\<table_name\\> LIMIT \\<num_of_rows\\>"
   ]
  },
  {
   "cell_type": "code",
   "execution_count": 12,
   "metadata": {},
   "outputs": [
    {
     "data": {
      "text/html": [
       "<div>\n",
       "<style scoped>\n",
       "    .dataframe tbody tr th:only-of-type {\n",
       "        vertical-align: middle;\n",
       "    }\n",
       "\n",
       "    .dataframe tbody tr th {\n",
       "        vertical-align: top;\n",
       "    }\n",
       "\n",
       "    .dataframe thead th {\n",
       "        text-align: right;\n",
       "    }\n",
       "</style>\n",
       "<table border=\"1\" class=\"dataframe\">\n",
       "  <thead>\n",
       "    <tr style=\"text-align: right;\">\n",
       "      <th></th>\n",
       "      <th>index</th>\n",
       "      <th>StopID</th>\n",
       "      <th>Route</th>\n",
       "      <th>Lat</th>\n",
       "      <th>Lon</th>\n",
       "      <th>DailyBoardings</th>\n",
       "    </tr>\n",
       "  </thead>\n",
       "  <tbody>\n",
       "    <tr>\n",
       "      <th>0</th>\n",
       "      <td>0</td>\n",
       "      <td>1163</td>\n",
       "      <td>27</td>\n",
       "      <td>43.073655</td>\n",
       "      <td>-89.385427</td>\n",
       "      <td>1.03</td>\n",
       "    </tr>\n",
       "    <tr>\n",
       "      <th>1</th>\n",
       "      <td>1</td>\n",
       "      <td>1163</td>\n",
       "      <td>47</td>\n",
       "      <td>43.073655</td>\n",
       "      <td>-89.385427</td>\n",
       "      <td>0.11</td>\n",
       "    </tr>\n",
       "    <tr>\n",
       "      <th>2</th>\n",
       "      <td>2</td>\n",
       "      <td>1163</td>\n",
       "      <td>75</td>\n",
       "      <td>43.073655</td>\n",
       "      <td>-89.385427</td>\n",
       "      <td>0.34</td>\n",
       "    </tr>\n",
       "    <tr>\n",
       "      <th>3</th>\n",
       "      <td>3</td>\n",
       "      <td>1164</td>\n",
       "      <td>6</td>\n",
       "      <td>43.106465</td>\n",
       "      <td>-89.340021</td>\n",
       "      <td>10.59</td>\n",
       "    </tr>\n",
       "    <tr>\n",
       "      <th>4</th>\n",
       "      <td>4</td>\n",
       "      <td>1167</td>\n",
       "      <td>3</td>\n",
       "      <td>43.077867</td>\n",
       "      <td>-89.369993</td>\n",
       "      <td>3.11</td>\n",
       "    </tr>\n",
       "  </tbody>\n",
       "</table>\n",
       "</div>"
      ],
      "text/plain": [
       "   index  StopID  Route        Lat        Lon  DailyBoardings\n",
       "0      0    1163     27  43.073655 -89.385427            1.03\n",
       "1      1    1163     47  43.073655 -89.385427            0.11\n",
       "2      2    1163     75  43.073655 -89.385427            0.34\n",
       "3      3    1164      6  43.106465 -89.340021           10.59\n",
       "4      4    1167      3  43.077867 -89.369993            3.11"
      ]
     },
     "execution_count": 12,
     "metadata": {},
     "output_type": "execute_result"
    }
   ],
   "source": [
    "pd.read_sql(\"SELECT * FROM boarding LIMIT 5\", conn)"
   ]
  },
  {
   "cell_type": "markdown",
   "metadata": {},
   "source": [
    "# How many people get on a bus in Madison every day?\n",
    "- we are interested in boarding table to answer this question"
   ]
  },
  {
   "cell_type": "code",
   "execution_count": 13,
   "metadata": {},
   "outputs": [
    {
     "data": {
      "text/plain": [
       "55987.18"
      ]
     },
     "execution_count": 13,
     "metadata": {},
     "output_type": "execute_result"
    }
   ],
   "source": [
    "#Answer using pandas\n",
    "qry = \"\"\"\n",
    "    SELECT DailyBoardings \n",
    "    FROM boarding\n",
    "\"\"\"\n",
    "df = pd.read_sql(qry, conn)\n",
    "bus_riders = df[\"DailyBoardings\"]\n",
    "bus_riders.sum()"
   ]
  },
  {
   "cell_type": "code",
   "execution_count": 14,
   "metadata": {},
   "outputs": [
    {
     "data": {
      "text/html": [
       "<div>\n",
       "<style scoped>\n",
       "    .dataframe tbody tr th:only-of-type {\n",
       "        vertical-align: middle;\n",
       "    }\n",
       "\n",
       "    .dataframe tbody tr th {\n",
       "        vertical-align: top;\n",
       "    }\n",
       "\n",
       "    .dataframe thead th {\n",
       "        text-align: right;\n",
       "    }\n",
       "</style>\n",
       "<table border=\"1\" class=\"dataframe\">\n",
       "  <thead>\n",
       "    <tr style=\"text-align: right;\">\n",
       "      <th></th>\n",
       "      <th>SUM(DailyBoardings)</th>\n",
       "    </tr>\n",
       "  </thead>\n",
       "  <tbody>\n",
       "    <tr>\n",
       "      <th>0</th>\n",
       "      <td>55987.18</td>\n",
       "    </tr>\n",
       "  </tbody>\n",
       "</table>\n",
       "</div>"
      ],
      "text/plain": [
       "   SUM(DailyBoardings)\n",
       "0             55987.18"
      ]
     },
     "execution_count": 14,
     "metadata": {},
     "output_type": "execute_result"
    }
   ],
   "source": [
    "#Using SQL summarization\n",
    "qry = \"\"\"\n",
    "    SELECT SUM(DailyBoardings)\n",
    "    FROM boarding\n",
    "\"\"\"\n",
    "pd.read_sql(qry, conn)"
   ]
  },
  {
   "cell_type": "markdown",
   "metadata": {},
   "source": [
    "# Go West - which bus should I take to go as far west as possible?\n",
    "- Smallest Longitude"
   ]
  },
  {
   "cell_type": "code",
   "execution_count": 15,
   "metadata": {},
   "outputs": [
    {
     "data": {
      "text/html": [
       "<div>\n",
       "<style scoped>\n",
       "    .dataframe tbody tr th:only-of-type {\n",
       "        vertical-align: middle;\n",
       "    }\n",
       "\n",
       "    .dataframe tbody tr th {\n",
       "        vertical-align: top;\n",
       "    }\n",
       "\n",
       "    .dataframe thead th {\n",
       "        text-align: right;\n",
       "    }\n",
       "</style>\n",
       "<table border=\"1\" class=\"dataframe\">\n",
       "  <thead>\n",
       "    <tr style=\"text-align: right;\">\n",
       "      <th></th>\n",
       "      <th>index</th>\n",
       "      <th>StopID</th>\n",
       "      <th>Route</th>\n",
       "      <th>Lat</th>\n",
       "      <th>Lon</th>\n",
       "      <th>DailyBoardings</th>\n",
       "    </tr>\n",
       "  </thead>\n",
       "  <tbody>\n",
       "    <tr>\n",
       "      <th>0</th>\n",
       "      <td>3489</td>\n",
       "      <td>4400</td>\n",
       "      <td>55</td>\n",
       "      <td>42.995476</td>\n",
       "      <td>-89.564243</td>\n",
       "      <td>59.31</td>\n",
       "    </tr>\n",
       "  </tbody>\n",
       "</table>\n",
       "</div>"
      ],
      "text/plain": [
       "   index  StopID  Route        Lat        Lon  DailyBoardings\n",
       "0   3489    4400     55  42.995476 -89.564243           59.31"
      ]
     },
     "execution_count": 15,
     "metadata": {},
     "output_type": "execute_result"
    }
   ],
   "source": [
    "qry = \"\"\"\n",
    "    SELECT *\n",
    "    FROM boarding\n",
    "    ORDER BY Lon ASC\n",
    "    LIMIT 1\n",
    "\"\"\"\n",
    "pd.read_sql(qry, conn)"
   ]
  },
  {
   "cell_type": "code",
   "execution_count": 16,
   "metadata": {},
   "outputs": [],
   "source": [
    "conn.close()"
   ]
  },
  {
   "cell_type": "code",
   "execution_count": null,
   "metadata": {},
   "outputs": [],
   "source": []
  }
 ],
 "metadata": {
  "kernelspec": {
   "display_name": "Python 3",
   "language": "python",
   "name": "python3"
  },
  "language_info": {
   "codemirror_mode": {
    "name": "ipython",
    "version": 3
   },
   "file_extension": ".py",
   "mimetype": "text/x-python",
   "name": "python",
   "nbconvert_exporter": "python",
   "pygments_lexer": "ipython3",
   "version": "3.8.8"
  }
 },
 "nbformat": 4,
 "nbformat_minor": 4
}
