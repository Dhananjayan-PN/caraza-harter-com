{
 "cells": [
  {
   "cell_type": "markdown",
   "metadata": {},
   "source": [
    "# Files and directories"
   ]
  },
  {
   "cell_type": "code",
   "execution_count": null,
   "metadata": {},
   "outputs": [],
   "source": [
    "from IPython.core.display import display, HTML\n",
    "display(HTML(\"<style>.container { width:100% !important; }</style>\"))"
   ]
  },
  {
   "cell_type": "code",
   "execution_count": null,
   "metadata": {},
   "outputs": [],
   "source": [
    "# import statements\n",
    "import os"
   ]
  },
  {
   "cell_type": "markdown",
   "metadata": {},
   "source": [
    "### Review 1: What does sorted() return? "
   ]
  },
  {
   "cell_type": "code",
   "execution_count": null,
   "metadata": {},
   "outputs": [],
   "source": [
    "d = {\"Andy\": [850, 955], \"Meena\": [1100, 1320], \"Peyman\": [\"online\"]}\n",
    "t = (45, 32, 29)\n",
    "sentence = \"Meet me at the Sett\"\n",
    "my_list = sentence.split(\" \")\n",
    "\n",
    "# Uncomment each line and observe the types\n",
    "\n",
    "#print(type(sorted(d)))\n",
    "#print(type(sorted(t)))\n",
    "#print(type(sorted(sentence)))\n",
    "#print(type(sorted(my_list)))"
   ]
  },
  {
   "cell_type": "markdown",
   "metadata": {},
   "source": [
    "### Review 2: Does sorted return a new object instance or modify the existing object instance?"
   ]
  },
  {
   "cell_type": "code",
   "execution_count": null,
   "metadata": {},
   "outputs": [],
   "source": [
    "# sorted returns a brand new object instance, whereas sort() method modifies the existing object instance"
   ]
  },
  {
   "cell_type": "markdown",
   "metadata": {},
   "source": [
    "### Review 3: Difference between + and append() method on lists "
   ]
  },
  {
   "cell_type": "code",
   "execution_count": null,
   "metadata": {},
   "outputs": [],
   "source": [
    "listA = [\"Wisconsin\", \"Madison\"]\n",
    "listB = [\"Data\" ,  \"Science\"]\n",
    "\n",
    "#print(listA + listB)        # + operator creates a brand new object instance\n",
    "#print(listA[1] + listB[1])  # just like + operator on strings creates a brand new string object instance\n",
    "                            # recall that strings are immutable, so you don't have a choice there\n",
    "#listA.append(listB)         # append() method modifies the existing list object instance\n",
    "#print(listA)"
   ]
  },
  {
   "cell_type": "markdown",
   "metadata": {},
   "source": [
    "## File processing\n",
    "- open(...) function call\n",
    "- file_object.close() function call"
   ]
  },
  {
   "cell_type": "markdown",
   "metadata": {},
   "source": [
    "## Reading data from a file\n",
    "\n",
    "- using read() function call:\n",
    "    - returns file contents as one big string\n",
    "- convert file object into a list\n",
    "    - each line becomes an item within the list\n",
    "    - works because file objects are iterators\n",
    "- using for loop to iterate over every line\n",
    "    - works because file objects are iterators\n",
    "- using next(...) function call to extract a single line\n",
    "    - useful when you want to just process the initial few lines of a file\n",
    "    - ex: extract header line alone from a csv file"
   ]
  },
  {
   "cell_type": "markdown",
   "metadata": {},
   "source": [
    "Using read() function call ..."
   ]
  },
  {
   "cell_type": "code",
   "execution_count": null,
   "metadata": {},
   "outputs": [],
   "source": [
    "sample_file = open(\"sample_file.txt\")\n",
    "data = sample_file.read()\n",
    "sample_file.close()\n",
    "\n",
    "data"
   ]
  },
  {
   "cell_type": "markdown",
   "metadata": {},
   "source": [
    "What is the type of return value of read() function?"
   ]
  },
  {
   "cell_type": "code",
   "execution_count": null,
   "metadata": {},
   "outputs": [],
   "source": [
    "type(data)"
   ]
  },
  {
   "cell_type": "markdown",
   "metadata": {},
   "source": [
    "Converting file objects into a list"
   ]
  },
  {
   "cell_type": "code",
   "execution_count": null,
   "metadata": {},
   "outputs": [],
   "source": [
    "sample_file = open(\"sample_file.txt\")\n",
    "data_list = list(sample_file)\n",
    "sample_file.close()\n",
    "\n",
    "data_list"
   ]
  },
  {
   "cell_type": "markdown",
   "metadata": {},
   "source": [
    "What is the type of data_list?"
   ]
  },
  {
   "cell_type": "code",
   "execution_count": null,
   "metadata": {},
   "outputs": [],
   "source": [
    "type(data_list)"
   ]
  },
  {
   "cell_type": "markdown",
   "metadata": {},
   "source": [
    "Using for loop to iterate over file object"
   ]
  },
  {
   "cell_type": "code",
   "execution_count": null,
   "metadata": {},
   "outputs": [],
   "source": [
    "sample_file = open(\"sample_file.txt\")\n",
    "for line in sample_file:\n",
    "    print(line)\n",
    "    print(type(line))\n",
    "sample_file.close()\n",
    "\n",
    "data_list"
   ]
  },
  {
   "cell_type": "markdown",
   "metadata": {},
   "source": [
    "Using next(...) to extract just first item (first line) from file objects"
   ]
  },
  {
   "cell_type": "code",
   "execution_count": null,
   "metadata": {},
   "outputs": [],
   "source": [
    "sample_file = open(\"sample_file.txt\")\n",
    "one_line = next(sample_file)\n",
    "print(one_line)\n",
    "print(type(one_line))\n",
    "sample_file.close()\n",
    "\n",
    "data_list"
   ]
  },
  {
   "cell_type": "markdown",
   "metadata": {},
   "source": [
    "### Writing data into a file\n",
    "- \"w\" mode in open(...) function call\n",
    "    - BE CAREFUL: every time you invoke open, you will overwrite the file's contents"
   ]
  },
  {
   "cell_type": "code",
   "execution_count": null,
   "metadata": {},
   "outputs": [],
   "source": [
    "hello_file = open(\"hello.txt\", \"w\")\n",
    "hello_file.write(\"Hello CS220 / CS319 students.\\n\")\n",
    "hello_file.write(\"Good luck with exam 2 preparation.\")\n",
    "hello_file.write(\"Ooops forgot newline\")\n",
    "hello_file.close()"
   ]
  },
  {
   "cell_type": "markdown",
   "metadata": {},
   "source": [
    "Let's read the contents from the file we just wrote"
   ]
  },
  {
   "cell_type": "code",
   "execution_count": null,
   "metadata": {},
   "outputs": [],
   "source": [
    "hello_file = open(\"hello.txt\")\n",
    "data = hello_file.read()\n",
    "hello_file.close()\n",
    "\n",
    "data"
   ]
  },
  {
   "cell_type": "markdown",
   "metadata": {},
   "source": [
    "## os module functions\n",
    "\n",
    "- os.listdir\n",
    "- os.mkdir \n",
    "- os.path.exists \n",
    "- os.path.isfile\n",
    "- os.path.isdir \n",
    "- os.path.join"
   ]
  },
  {
   "cell_type": "code",
   "execution_count": null,
   "metadata": {},
   "outputs": [],
   "source": [
    "os.listdir(\".\")"
   ]
  },
  {
   "cell_type": "code",
   "execution_count": null,
   "metadata": {},
   "outputs": [],
   "source": [
    "os.mkdir(\"test_dir\")"
   ]
  },
  {
   "cell_type": "code",
   "execution_count": null,
   "metadata": {},
   "outputs": [],
   "source": [
    "# os.path is a sub-module of os --- does not need importing again\n",
    "\n",
    "print(os.path.exists(\"some_file.txt\")) #does this file (at this path) exist?\n",
    "print(os.path.isfile(\"test_dir\")) #nope\n",
    "print(os.path.isdir(\"test_dir\")) # yes "
   ]
  },
  {
   "cell_type": "markdown",
   "metadata": {},
   "source": [
    "### os.path.join is a very important function, which enables portability of code\n",
    "- portability enables you to write code in one OS platform and run it on another OS platform"
   ]
  },
  {
   "cell_type": "code",
   "execution_count": null,
   "metadata": {},
   "outputs": [],
   "source": [
    "# this function is like the regular join method, which combines things into a string\n",
    "# but automatically senses which OS you are using and joins them with either a \\ or /\n",
    "\n",
    "path = os.path.join(\"test_dir\", \"file1.txt\")\n",
    "print(path)  \n",
    "# what do you get? "
   ]
  },
  {
   "cell_type": "markdown",
   "metadata": {},
   "source": [
    "## Exception handling"
   ]
  },
  {
   "cell_type": "code",
   "execution_count": null,
   "metadata": {},
   "outputs": [],
   "source": [
    "# let's figure out how to handle a command to open a file that does not exist\n",
    "\n",
    "path = input(\"enter the name of the file to open:\")\n",
    "try:\n",
    "    file_object = open(path, \"r\")  # \"r\" is for reading, but is the default\n",
    "    d = file_object.read()\n",
    "    print(d)\n",
    "    file_object.close()\n",
    "except FileNotFoundError as e:\n",
    "    print(type(e))\n",
    "    print(path, \"could not be opened\")"
   ]
  },
  {
   "cell_type": "markdown",
   "metadata": {},
   "source": [
    "### Python is all about shortening code. Is there a way to shorten the process of:\n",
    "- opening a file\n",
    "- handling any Errors while reading/writing\n",
    "- closing the file"
   ]
  },
  {
   "cell_type": "code",
   "execution_count": null,
   "metadata": {},
   "outputs": [],
   "source": [
    "# we can use a 'with' statement to shorten our code\n",
    "\n",
    "import random\n",
    "\n",
    "with open(\"some_numbers.txt\", \"w\") as f: \n",
    "    for i in range(10):\n",
    "        f.write(str(random.randint(1,100)) + \"\\n\")\n",
    "                \n",
    "# don't need to close\n",
    "# don't need to worry about try/except"
   ]
  },
  {
   "cell_type": "markdown",
   "metadata": {},
   "source": [
    "### Sum example"
   ]
  },
  {
   "cell_type": "code",
   "execution_count": null,
   "metadata": {},
   "outputs": [],
   "source": [
    "#Solution 1: bad solution because we do a lot of reading work before we do any addition (miss the bug)\n",
    "f = open(\"nums.txt\")\n",
    "nums = list(f)\n",
    "f.close()\n",
    "\n",
    "total = 0\n",
    "for num in nums:\n",
    "    total += num\n",
    "\n",
    "print(total)"
   ]
  },
  {
   "cell_type": "code",
   "execution_count": null,
   "metadata": {},
   "outputs": [],
   "source": [
    "#Solution 2: better solution because start adding immediately after reading numbers from each line \n",
    "#(catch bugs quickly)\n",
    "f = open(\"nums.txt\")\n",
    "\n",
    "total = 0\n",
    "for num in f:\n",
    "    total += num\n",
    "\n",
    "print(total)\n",
    "f.close()\n"
   ]
  },
  {
   "cell_type": "code",
   "execution_count": null,
   "metadata": {},
   "outputs": [],
   "source": [
    "#Solution 2: with fix for the bug\n",
    "f = open(\"nums.txt\")\n",
    "\n",
    "total = 0\n",
    "for num in f:\n",
    "    total += int(num)\n",
    "\n",
    "print(total)\n",
    "f.close()\n"
   ]
  },
  {
   "cell_type": "markdown",
   "metadata": {},
   "source": [
    "### Recursive file search"
   ]
  },
  {
   "cell_type": "code",
   "execution_count": null,
   "metadata": {},
   "outputs": [],
   "source": [
    "# program recursive file searcher\n",
    "\n",
    "import os\n",
    "\n",
    "def recursiveDirSearch(searchDirectory, searchFileName): \n",
    "    for curr in os.listdir(searchDirectory):   \n",
    "        # build a path to this current thing\n",
    "        curr = os.path.join(searchDirectory, curr) \n",
    "        \n",
    "        #check if curr is a file\n",
    "        if os.path.isfile(curr):\n",
    "            #check if it contains the search name \n",
    "            if searchFileName in curr:     # base case...no recursive call\n",
    "                f = open(curr)\n",
    "                contents = f.read(50) # reads first 50 chars into a string\n",
    "                f.close()\n",
    "                return contents\n",
    "        else:                              # recursive case!!\n",
    "            contents = recursiveDirSearch(curr, searchFileName)\n",
    "            if contents != None:           # we found something\n",
    "                return contents           \n",
    "            \n",
    "    # finished all recursive searching and never found it   \n",
    "    return None       \n",
    "\n",
    "# this function is like our main program\n",
    "def dir_search(dir_name, file_name):\n",
    "    if not os.path.exists(dir_name):\n",
    "        print(\"Unable to find searchDirectory!\")\n",
    "    else:\n",
    "        contents = recursiveDirSearch(dir_name, file_name)\n",
    "        if contents != None:\n",
    "            print(contents, end = \"\")\n",
    "            \n",
    "    # TODO:  figure out how to print \"<file_name> not found\""
   ]
  }
 ],
 "metadata": {
  "kernelspec": {
   "display_name": "Python 3",
   "language": "python",
   "name": "python3"
  },
  "language_info": {
   "codemirror_mode": {
    "name": "ipython",
    "version": 3
   },
   "file_extension": ".py",
   "mimetype": "text/x-python",
   "name": "python",
   "nbconvert_exporter": "python",
   "pygments_lexer": "ipython3",
   "version": "3.8.8"
  }
 },
 "nbformat": 4,
 "nbformat_minor": 2
}
