{
 "cells": [
  {
   "cell_type": "code",
   "execution_count": null,
   "metadata": {},
   "outputs": [],
   "source": [
    "# Warmup 1: Jupyter Notebook stuck in [*]?\n",
    "#           Press the stop button! It's probably waiting for input.\n",
    "#           Otherwise, restart the kernal! (and run the cells)\n",
    "\n",
    "x = int(input(\"Type in a number: \"))\n",
    "print(\"The number is \" + str(x), x + 1, x + 2, x + 3, x + 4, sep=\" then \", end=\"!\\n\")"
   ]
  },
  {
   "cell_type": "code",
   "execution_count": null,
   "metadata": {},
   "outputs": [],
   "source": [
    "# Warmup 2: Write a function that prints the factorial of parameter num\n",
    "def do_factorial(num):\n",
    "    pass"
   ]
  },
  {
   "cell_type": "code",
   "execution_count": null,
   "metadata": {},
   "outputs": [],
   "source": [
    "# Warmup 3: Complete the code to print a treasure map where an X is placed \n",
    "#           treasure_row, treasure_col (starting from 0)\n",
    "def print_treasure_map(symbol='-', height=4, width=4, treasure_row=2, treasure_col=2):\n",
    "    i = 0\n",
    "    while ???: # TODO: Complete the loop condition for printing out each row.\n",
    "        j = 0\n",
    "        while j < width:\n",
    "            if ???: # TODO: Complete the if condition for checking if we print an X or the symbol.\n",
    "                print('X', end=\"\")\n",
    "            else:\n",
    "                print(symbol, end=\"\")\n",
    "            j += ??? # TODO: Complete the statement so we do not run into an infinite loop.\n",
    "        print()\n",
    "        i += 1\n",
    "    \n",
    "print_treasure_map()\n",
    "print_treasure_map(width=10, height=10)\n",
    "print_treasure_map('#', 7, 4, treasure_row=0, treasure_col=1)\n",
    "print_treasure_map('.', 5, 8, 3, 6)"
   ]
  },
  {
   "cell_type": "markdown",
   "metadata": {},
   "source": [
    "# CS220: Lecture 11\n",
    "\n",
    "\n",
    "## Learning Objectives\n",
    "After this lecture you will be able to...\n",
    "- Iterate through a dataset using for idx in range(project.count())\n",
    "- Compute the frequency of data that meets a certain criteria\n",
    "- Find the maximum or minimum value of a numeric column in a dataset\n",
    "- Use break and continue in for loops when processing a dataset\n",
    "- Handle missing numeric values when computing a maximum/minimum\n",
    "- Use the index of a maximum or minimum to access other information about that data item\n",
    "- Trace the output of a nested loop algorithm that prints out a game grid"
   ]
  },
  {
   "cell_type": "code",
   "execution_count": null,
   "metadata": {},
   "outputs": [],
   "source": [
    "import project"
   ]
  },
  {
   "cell_type": "code",
   "execution_count": null,
   "metadata": {},
   "outputs": [],
   "source": [
    "help(project)"
   ]
  },
  {
   "cell_type": "code",
   "execution_count": null,
   "metadata": {},
   "outputs": [],
   "source": [
    "# Get the total # of responses\n",
    "project.count()"
   ]
  },
  {
   "cell_type": "code",
   "execution_count": null,
   "metadata": {},
   "outputs": [],
   "source": [
    "# Get the first student's primary major.\n",
    "# With indices, we always start from 0!\n",
    "project.get_primary_major(0)"
   ]
  },
  {
   "cell_type": "code",
   "execution_count": null,
   "metadata": {},
   "outputs": [],
   "source": [
    "# Example 1: Print and Break\n",
    "for i in range(project.count()):\n",
    "    print (i, project.get_primary_major(i))\n",
    "    if i == 10:\n",
    "        break"
   ]
  },
  {
   "cell_type": "code",
   "execution_count": null,
   "metadata": {},
   "outputs": [],
   "source": [
    "# TODO: Write the same code as above using a while loop!"
   ]
  },
  {
   "cell_type": "code",
   "execution_count": null,
   "metadata": {},
   "outputs": [],
   "source": [
    "# Example 2: How many students are not in Computer Science?\n",
    "non_cs = 0\n",
    "for i in range(project.count()):\n",
    "    major = project.get_primary_major(i)\n",
    "    if major == \"Computer Science\":\n",
    "        continue\n",
    "    non_cs += 1\n",
    "print(non_cs, \"out of\", project.count(), \"are non-cs!\")"
   ]
  },
  {
   "cell_type": "code",
   "execution_count": null,
   "metadata": {},
   "outputs": [],
   "source": [
    "# TODO:   How many students are in Data Science or Statistics?\n",
    "# BONUS:  Can you express this as a percentage?\n",
    "# BONUS+: ...rounded to 2 decimal places?"
   ]
  },
  {
   "cell_type": "code",
   "execution_count": null,
   "metadata": {},
   "outputs": [],
   "source": [
    "# max = 0 # don't use built-in function names as variables\n",
    "max_age = 0\n",
    "for i in range(project.count()):\n",
    "    student_age = project.get_age(i)\n",
    "    if student_age > max_age:\n",
    "            max_age = student_age        \n",
    "print(\"The oldest student is\", max_age)\n",
    "\n",
    "# HINT: Did everyone fill out an age?\n",
    "# HINT: We may have to change the data and run project.reload()"
   ]
  },
  {
   "cell_type": "code",
   "execution_count": null,
   "metadata": {},
   "outputs": [],
   "source": [
    "# TODO: What is the age of the youngest student?"
   ]
  },
  {
   "cell_type": "code",
   "execution_count": null,
   "metadata": {},
   "outputs": [],
   "source": [
    "# Example 5: How many early birds are there below the age of 21?\n",
    "\n",
    "early_birds = 0\n",
    "for i in range(project.count()):\n",
    "    sleep_habit = project.get_sleep_habit(i)\n",
    "    age = project.get_age(i)\n",
    "    if age != \"\":\n",
    "        age = int(age)\n",
    "        if ???: # TODO Complete this condition!\n",
    "            early_birds += 1\n",
    "            \n",
    "print(\"There are\", early_birds, \"early birds below the age of 21.\")"
   ]
  },
  {
   "cell_type": "code",
   "execution_count": null,
   "metadata": {},
   "outputs": [],
   "source": [
    "# TODO:   What percentage of 20-year-olds are early birds?\n",
    "# BOUNUS: How can we generalize our code to 'What percentage of x-year-olds are early birds?'"
   ]
  },
  {
   "cell_type": "code",
   "execution_count": null,
   "metadata": {},
   "outputs": [],
   "source": [
    "# Other tasks for you to try...\n",
    "#  - What is the average age of the class?\n",
    "#  - What is the class's favorite pizza topping?\n",
    "#  - What is the most popular major?\n",
    "#  - For all students that have another major, print out what it is.\n",
    "#  - What zip code do the majority of pineapple-eating night owls live in?"
   ]
  }
 ],
 "metadata": {
  "kernelspec": {
   "display_name": "Python 3 (ipykernel)",
   "language": "python",
   "name": "python3"
  },
  "language_info": {
   "codemirror_mode": {
    "name": "ipython",
    "version": 3
   },
   "file_extension": ".py",
   "mimetype": "text/x-python",
   "name": "python",
   "nbconvert_exporter": "python",
   "pygments_lexer": "ipython3",
   "version": "3.9.7"
  }
 },
 "nbformat": 4,
 "nbformat_minor": 4
}
