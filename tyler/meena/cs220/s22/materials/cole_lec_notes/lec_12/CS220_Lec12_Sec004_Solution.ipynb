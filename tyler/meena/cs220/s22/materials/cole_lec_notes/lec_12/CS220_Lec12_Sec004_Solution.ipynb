{
 "cells": [
  {
   "cell_type": "code",
   "execution_count": 1,
   "metadata": {},
   "outputs": [
    {
     "name": "stdout",
     "output_type": "stream",
     "text": [
      "Type in a number: 1\n",
      "The number is 1 then 2 then 3 then 4 then 5!\n"
     ]
    }
   ],
   "source": [
    "# Warmup 1: Jupyter Notebook stuck in [*]?\n",
    "#           Press the stop button! It's probably waiting for input.\n",
    "#           Otherwise, restart the kernal! (and run the cells)\n",
    "\n",
    "x = int(input(\"Type in a number: \"))\n",
    "print(\"The number is \" + str(x), x + 1, x + 2, x + 3, x + 4, sep=\" then \", end=\"!\\n\")"
   ]
  },
  {
   "cell_type": "code",
   "execution_count": 2,
   "metadata": {},
   "outputs": [
    {
     "data": {
      "text/plain": [
       "120"
      ]
     },
     "execution_count": 2,
     "metadata": {},
     "output_type": "execute_result"
    }
   ],
   "source": [
    "# Warmup 2: Write a function that prints the factorial of parameter num\n",
    "def do_factorial(num):\n",
    "    i = 1\n",
    "    factorial = 1\n",
    "    while i <= num:\n",
    "        factorial = factorial * i\n",
    "        i += 1\n",
    "    return factorial\n",
    "        \n",
    "do_factorial(5)"
   ]
  },
  {
   "cell_type": "code",
   "execution_count": 3,
   "metadata": {},
   "outputs": [
    {
     "name": "stdout",
     "output_type": "stream",
     "text": [
      "----\n",
      "----\n",
      "--X-\n",
      "----\n"
     ]
    }
   ],
   "source": [
    "# Warmup 3: Complete the code to print a treasure map where an X is placed \n",
    "#           treasure_row, treasure_col (starting from 0)\n",
    "def print_treasure_map(symbol='-', height=4, width=4, treasure_row=2, treasure_col=2):\n",
    "    i = 0\n",
    "    while i < height:\n",
    "        j = 0\n",
    "        while j < width:\n",
    "            if i == treasure_row and j == treasure_col:\n",
    "                print('X', end=\"\")\n",
    "            else:\n",
    "                print(symbol, end=\"\")\n",
    "            j += 1\n",
    "        print()\n",
    "        i += 1\n",
    "    \n",
    "print_treasure_map()\n",
    "#print_treasure_map(width=10, height=10)\n",
    "#print_treasure_map('#', 7, 4, treasure_row=0, treasure_col=1)\n",
    "#print_treasure_map('.', 5, 8, 3, 6)"
   ]
  },
  {
   "cell_type": "markdown",
   "metadata": {},
   "source": [
    "# CS220: Lecture 11\n",
    "\n",
    "\n",
    "## Learning Objectives\n",
    "After this lecture you will be able to...\n",
    "- Iterate through a dataset using for idx in range(project.count())\n",
    "- Compute the frequency of data that meets a certain criteria\n",
    "- Find the maximum or minimum value of a numeric column in a dataset\n",
    "- Use break and continue in for loops when processing a dataset\n",
    "- Handle missing numeric values when computing a maximum/minimum\n",
    "- Use the index of a maximum or minimum to access other information about that data item\n",
    "- Trace the output of a nested loop algorithm that prints out a game grid"
   ]
  },
  {
   "cell_type": "code",
   "execution_count": 4,
   "metadata": {},
   "outputs": [],
   "source": [
    "import project"
   ]
  },
  {
   "cell_type": "code",
   "execution_count": 5,
   "metadata": {},
   "outputs": [
    {
     "name": "stdout",
     "output_type": "stream",
     "text": [
      "Help on module project:\n",
      "\n",
      "NAME\n",
      "    project\n",
      "\n",
      "FUNCTIONS\n",
      "    __init__()\n",
      "    \n",
      "    count()\n",
      "        This function will return the number of records in the dataset\n",
      "    \n",
      "    get_age(idx)\n",
      "        get_age(idx) returns the age of the student in row idx as a string\n",
      "    \n",
      "    get_lecture(idx)\n",
      "        get_lecture(idx) returns the lecture of the student in row idx\n",
      "    \n",
      "    get_other_majors(idx)\n",
      "        get_other_majors(idx) returns the secondary major of the student in row idx\n",
      "    \n",
      "    get_pet_owner(idx)\n",
      "        get_pet_owner(idx) returns whether student in row idx is a pet owner\n",
      "    \n",
      "    get_piazza_topping(idx)\n",
      "        get_piazza_topping(idx) returns the preferred pizza toppings of the student in row idx\n",
      "    \n",
      "    get_primary_major(idx)\n",
      "        get_primary_major(idx) returns the primary major of the student in row idx\n",
      "    \n",
      "    get_procrastinator(idx)\n",
      "        get_procrastinator(idx) returns whether student in row idx is a procrastinator\n",
      "    \n",
      "    get_runner(idx)\n",
      "        get_runner(idx) returns whether student in row idx is a runner\n",
      "    \n",
      "    get_sleep_habit(idx)\n",
      "        get_sleep_habit(idx) returns the sleep habit of the student in row idx\n",
      "    \n",
      "    get_zip_code(idx)\n",
      "        get_zip_code(idx) returns the residential zip code of the student in row idx\n",
      "    \n",
      "    reload()\n",
      "        This function reloads the CSV file, you must run it if you make any changes.\n",
      "\n",
      "DATA\n",
      "    __student__ = [{'Age': '19', 'Lecture': 'LEC002', 'Other majors': '', ...\n",
      "\n",
      "FILE\n",
      "    c:\\users\\colenelson\\desktop\\cs220\\s22\\lectures\\lec12\\project.py\n",
      "\n",
      "\n"
     ]
    }
   ],
   "source": [
    "help(project)"
   ]
  },
  {
   "cell_type": "code",
   "execution_count": 6,
   "metadata": {},
   "outputs": [
    {
     "data": {
      "text/plain": [
       "717"
      ]
     },
     "execution_count": 6,
     "metadata": {},
     "output_type": "execute_result"
    }
   ],
   "source": [
    "# Get the total # of responses\n",
    "project.count()"
   ]
  },
  {
   "cell_type": "code",
   "execution_count": 7,
   "metadata": {},
   "outputs": [
    {
     "data": {
      "text/plain": [
       "'Engineering: Mechanical'"
      ]
     },
     "execution_count": 7,
     "metadata": {},
     "output_type": "execute_result"
    }
   ],
   "source": [
    "# Get the first student's primary major.\n",
    "# With indices, we always start from 0!\n",
    "project.get_primary_major(0)"
   ]
  },
  {
   "cell_type": "code",
   "execution_count": 8,
   "metadata": {},
   "outputs": [
    {
     "name": "stdout",
     "output_type": "stream",
     "text": [
      "0 Engineering: Mechanical\n",
      "1 Science: Physics\n",
      "2 Science: Chemistry\n",
      "3 Engineering: Biomedical\n",
      "4 Other\n",
      "5 Statistics\n",
      "6 Mathematics/AMEP\n",
      "7 Engineering: Biomedical\n",
      "8 Data Science\n",
      "9 Business: Finance\n",
      "10 Engineering: Mechanical\n"
     ]
    }
   ],
   "source": [
    "# Example 1: Print and Break\n",
    "for i in range(project.count()):\n",
    "    print (i, project.get_primary_major(i))\n",
    "    if i == 10:\n",
    "        break"
   ]
  },
  {
   "cell_type": "code",
   "execution_count": 9,
   "metadata": {},
   "outputs": [
    {
     "name": "stdout",
     "output_type": "stream",
     "text": [
      "0 Engineering: Mechanical\n",
      "1 Science: Physics\n",
      "2 Science: Chemistry\n",
      "3 Engineering: Biomedical\n",
      "4 Other\n",
      "5 Statistics\n",
      "6 Mathematics/AMEP\n",
      "7 Engineering: Biomedical\n",
      "8 Data Science\n",
      "9 Business: Finance\n",
      "10 Engineering: Mechanical\n"
     ]
    }
   ],
   "source": [
    "# TODO: Write the same code as above using a while loop!\n",
    "i = 0\n",
    "while i <= 10:\n",
    "    print(i, project.get_primary_major(i))\n",
    "    i += 1"
   ]
  },
  {
   "cell_type": "code",
   "execution_count": 10,
   "metadata": {},
   "outputs": [
    {
     "name": "stdout",
     "output_type": "stream",
     "text": [
      "637 out of 717 are non-cs!\n"
     ]
    }
   ],
   "source": [
    "# Example 2: How many students are not in Computer Science?\n",
    "non_cs = 0\n",
    "for i in range(project.count()):\n",
    "    major = project.get_primary_major(i)\n",
    "    if major == \"Computer Science\":\n",
    "        continue\n",
    "    non_cs += 1\n",
    "print(non_cs, \"out of\", project.count(), \"are non-cs!\")"
   ]
  },
  {
   "cell_type": "code",
   "execution_count": 11,
   "metadata": {},
   "outputs": [
    {
     "name": "stdout",
     "output_type": "stream",
     "text": [
      "116\n",
      "16.18\n"
     ]
    }
   ],
   "source": [
    "# TODO:   How many students are in Data Science or Statistics?\n",
    "# BONUS:  Can you express this as a percentage?\n",
    "# BONUS+: ...rounded to 2 decimal places?\n",
    "num_stats_or_ds = 0\n",
    "for i in range(project.count()):\n",
    "    major = project.get_primary_major(i)\n",
    "    if major == \"Data Science\" or major == \"Statistics\":\n",
    "        num_stats_or_ds += 1\n",
    "print(num_stats_or_ds)\n",
    "percent_dsstats = (num_stats_or_ds / project.count()) * 100\n",
    "print(round(percent_dsstats, 2))"
   ]
  },
  {
   "cell_type": "code",
   "execution_count": 12,
   "metadata": {},
   "outputs": [
    {
     "name": "stdout",
     "output_type": "stream",
     "text": [
      "Help on module project:\n",
      "\n",
      "NAME\n",
      "    project\n",
      "\n",
      "FUNCTIONS\n",
      "    __init__()\n",
      "    \n",
      "    count()\n",
      "        This function will return the number of records in the dataset\n",
      "    \n",
      "    get_age(idx)\n",
      "        get_age(idx) returns the age of the student in row idx as a string\n",
      "    \n",
      "    get_lecture(idx)\n",
      "        get_lecture(idx) returns the lecture of the student in row idx\n",
      "    \n",
      "    get_other_majors(idx)\n",
      "        get_other_majors(idx) returns the secondary major of the student in row idx\n",
      "    \n",
      "    get_pet_owner(idx)\n",
      "        get_pet_owner(idx) returns whether student in row idx is a pet owner\n",
      "    \n",
      "    get_piazza_topping(idx)\n",
      "        get_piazza_topping(idx) returns the preferred pizza toppings of the student in row idx\n",
      "    \n",
      "    get_primary_major(idx)\n",
      "        get_primary_major(idx) returns the primary major of the student in row idx\n",
      "    \n",
      "    get_procrastinator(idx)\n",
      "        get_procrastinator(idx) returns whether student in row idx is a procrastinator\n",
      "    \n",
      "    get_runner(idx)\n",
      "        get_runner(idx) returns whether student in row idx is a runner\n",
      "    \n",
      "    get_sleep_habit(idx)\n",
      "        get_sleep_habit(idx) returns the sleep habit of the student in row idx\n",
      "    \n",
      "    get_zip_code(idx)\n",
      "        get_zip_code(idx) returns the residential zip code of the student in row idx\n",
      "    \n",
      "    reload()\n",
      "        This function reloads the CSV file, you must run it if you make any changes.\n",
      "\n",
      "DATA\n",
      "    __student__ = [{'Age': '19', 'Lecture': 'LEC002', 'Other majors': '', ...\n",
      "\n",
      "FILE\n",
      "    c:\\users\\colenelson\\desktop\\cs220\\s22\\lectures\\lec12\\project.py\n",
      "\n",
      "\n"
     ]
    }
   ],
   "source": [
    "help(project)"
   ]
  },
  {
   "cell_type": "code",
   "execution_count": 13,
   "metadata": {},
   "outputs": [],
   "source": [
    "project.reload()"
   ]
  },
  {
   "cell_type": "code",
   "execution_count": 14,
   "metadata": {},
   "outputs": [
    {
     "name": "stdout",
     "output_type": "stream",
     "text": [
      "The oldest student is 36\n"
     ]
    }
   ],
   "source": [
    "# max = 0 # don't use built-in function names as variables\n",
    "\n",
    "# DATA FIX: In the CSV file, change the student's age from \"Senior\" to 22.\n",
    "\n",
    "max_age = 0\n",
    "for i in range(project.count()):\n",
    "    student_age = project.get_age(i)\n",
    "    if student_age == '':\n",
    "        continue\n",
    "    student_age = int(student_age)\n",
    "    if student_age > max_age:\n",
    "            max_age = student_age        \n",
    "print(\"The oldest student is\", max_age)\n",
    "\n",
    "# HINT: Did everyone fill out an age?\n",
    "# HINT: We may have to change the data and run project.reload()"
   ]
  },
  {
   "cell_type": "code",
   "execution_count": 15,
   "metadata": {},
   "outputs": [
    {
     "name": "stdout",
     "output_type": "stream",
     "text": [
      "The youngest student is 17\n"
     ]
    }
   ],
   "source": [
    "# TODO: What is the age of the youngest student?\n",
    "# max = 0 # don't use built-in function names as variables\n",
    "min_age = int(project.get_age(0))\n",
    "for i in range(project.count()):\n",
    "    student_age = project.get_age(i)\n",
    "    if student_age == '':\n",
    "        continue\n",
    "    student_age = int(student_age)\n",
    "    if student_age < min_age:\n",
    "            min_age = student_age        \n",
    "print(\"The youngest student is\", min_age)"
   ]
  },
  {
   "cell_type": "code",
   "execution_count": 16,
   "metadata": {},
   "outputs": [
    {
     "name": "stdout",
     "output_type": "stream",
     "text": [
      "There are 103 early birds below the age of 21.\n",
      "There are 550 total students below the age of 21.\n"
     ]
    }
   ],
   "source": [
    "# Example 5: How many early birds are there below the age of 21?\n",
    "\n",
    "early_birds = 0\n",
    "total_students = 0\n",
    "for i in range(project.count()):\n",
    "    sleep_habit = project.get_sleep_habit(i)\n",
    "    age = project.get_age(i)\n",
    "    if age != \"\":\n",
    "        age = int(age)\n",
    "        if age < 21 : # TODO Complete this condition!\n",
    "            total_students += 1\n",
    "            if sleep_habit == \"early bird\":\n",
    "                early_birds += 1\n",
    "        \n",
    "            \n",
    "print(\"There are\", early_birds, \"early birds below the age of 21.\")\n",
    "print(\"There are\", total_students, \"total students below the age of 21.\")"
   ]
  },
  {
   "cell_type": "code",
   "execution_count": 17,
   "metadata": {},
   "outputs": [
    {
     "name": "stdout",
     "output_type": "stream",
     "text": [
      "There are 38 early birds that are 20.\n",
      "There are 144 total students that are 20.\n",
      "26.39% of 20 year olds are early birds\n"
     ]
    }
   ],
   "source": [
    "# TODO:   What percentage of 20-year-olds are early birds?\n",
    "# BOUNUS: How can we generalize our code to 'What percentage of x-year-olds are early birds?'\n",
    "# Example 5: How many early birds are there below the age of 21?\n",
    "\n",
    "def get_early_birds(target_age):\n",
    "    early_birds = 0\n",
    "    total_students = 0\n",
    "    for i in range(project.count()):\n",
    "        sleep_habit = project.get_sleep_habit(i)\n",
    "        age = project.get_age(i)\n",
    "        if age != \"\":\n",
    "            age = int(age)\n",
    "            if age == target_age:\n",
    "                total_students += 1\n",
    "                if sleep_habit == \"early bird\":\n",
    "                    early_birds += 1\n",
    "\n",
    "\n",
    "    print(\"There are\", early_birds, \"early birds that are 20.\")\n",
    "    print(\"There are\", total_students, \"total students that are 20.\")\n",
    "    per_early = round((early_birds / total_students) * 100, 2)\n",
    "    print(str(per_early) + \"% of \" + str(target_age) + \" year olds are early birds\")\n",
    "    \n",
    "    \n",
    "get_early_birds(20)"
   ]
  },
  {
   "cell_type": "code",
   "execution_count": null,
   "metadata": {},
   "outputs": [],
   "source": [
    "# Other tasks for you to try...\n",
    "#  - What is the average age of the class?\n",
    "#  - What is the class's favorite pizza topping?\n",
    "#  - What is th+e most popular major?\n",
    "#  - For all students that have another major, print out what it is.\n",
    "#  - What zip code do the majority of pineapple-eating night owls live in?"
   ]
  }
 ],
 "metadata": {
  "kernelspec": {
   "display_name": "Python 3 (ipykernel)",
   "language": "python",
   "name": "python3"
  },
  "language_info": {
   "codemirror_mode": {
    "name": "ipython",
    "version": 3
   },
   "file_extension": ".py",
   "mimetype": "text/x-python",
   "name": "python",
   "nbconvert_exporter": "python",
   "pygments_lexer": "ipython3",
   "version": "3.9.7"
  }
 },
 "nbformat": 4,
 "nbformat_minor": 4
}
