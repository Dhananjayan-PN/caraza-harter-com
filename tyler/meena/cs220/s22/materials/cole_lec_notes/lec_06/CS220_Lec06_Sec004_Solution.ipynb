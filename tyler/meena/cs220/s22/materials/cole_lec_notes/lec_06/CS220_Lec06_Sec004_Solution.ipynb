{
 "cells": [
  {
   "cell_type": "markdown",
   "metadata": {},
   "source": [
    "**TODO**: Run the cell below (click into it and press 'shift-enter') to make the tables left-aligned!"
   ]
  },
  {
   "cell_type": "code",
   "execution_count": 1,
   "metadata": {},
   "outputs": [
    {
     "data": {
      "text/html": [
       "<style>\n",
       "table {float:left}\n",
       "</style>\n"
      ],
      "text/plain": [
       "<IPython.core.display.HTML object>"
      ]
     },
     "metadata": {},
     "output_type": "display_data"
    }
   ],
   "source": [
    "%%html\n",
    "<style>\n",
    "table {float:left}\n",
    "</style>"
   ]
  },
  {
   "cell_type": "markdown",
   "metadata": {},
   "source": [
    "# CS220: Lecture 06\n",
    "\n",
    "\n",
    "## Learning Objectives\n",
    "After this lecture you will be able to...\n",
    "- Explain the syntax of a function header.\n",
    "- Write a function\n",
    " - with a correct header and indentation.\n",
    " - with a return value (fruitful function) or without (void function).\n",
    " - with one or more parameters that have default values\n",
    " - knowing the difference in outcomes of print and return statements.\n",
    "- Make function calls using positional, keyword, and default arguments and determine the result.\n",
    "- Explain how positional, keyword, and default arguments are copied into parameters\n",
    "- Trace function invocations to determine control flow"
   ]
  },
  {
   "cell_type": "markdown",
   "metadata": {},
   "source": [
    "## Warmup\n",
    "Let's try some problems covered in Friday's lecture!"
   ]
  },
  {
   "cell_type": "code",
   "execution_count": 2,
   "metadata": {},
   "outputs": [
    {
     "name": "stdout",
     "output_type": "stream",
     "text": [
      "1644263903.1338427\n",
      "1644263911.9729\n",
      "8.839057207107544\n"
     ]
    }
   ],
   "source": [
    "# On the line below, import the time module\n",
    "import time\n",
    "start_time = time.time()\n",
    "x = 2**1000000000 # a very long computation\n",
    "end_time = time.time()\n",
    "\n",
    "# Change the line below to compute the time difference\n",
    "difference = end_time - start_time\n",
    "\n",
    "# Seperate each time with a '\\n'\n",
    "print(start_time, end_time, difference, sep='\\n') "
   ]
  },
  {
   "cell_type": "code",
   "execution_count": 3,
   "metadata": {},
   "outputs": [
    {
     "data": {
      "text/plain": [
       "3.0"
      ]
     },
     "execution_count": 3,
     "metadata": {},
     "output_type": "execute_result"
    }
   ],
   "source": [
    "# From the math module, import only the log10 function\n",
    "from math import log10\n",
    "# Then, print the log base 10 of 1000\n",
    "log10(1000)"
   ]
  },
  {
   "cell_type": "code",
   "execution_count": 4,
   "metadata": {},
   "outputs": [
    {
     "name": "stdout",
     "output_type": "stream",
     "text": [
      "3.141592653589793\n"
     ]
    }
   ],
   "source": [
    "# This one is done for you as an example!\n",
    "# Note: importing with 'wildcard' * is generally considered bad practice\n",
    "from math import *  # allows us to use all functions without writing math\n",
    "print(pi)"
   ]
  },
  {
   "cell_type": "code",
   "execution_count": 5,
   "metadata": {},
   "outputs": [
    {
     "name": "stdout",
     "output_type": "stream",
     "text": [
      "3.141592653589793\n",
      "3.141592653589793\n"
     ]
    }
   ],
   "source": [
    "# Try importing and printing 'pi' the proper way!\n",
    "\n",
    "from math import pi\n",
    "print(pi)\n",
    "\n",
    "# or\n",
    "\n",
    "import math\n",
    "print(math.pi)"
   ]
  },
  {
   "cell_type": "markdown",
   "metadata": {},
   "source": [
    "## Functions"
   ]
  },
  {
   "cell_type": "code",
   "execution_count": 6,
   "metadata": {},
   "outputs": [],
   "source": [
    "# Write a function that cubes any number\n",
    "\n",
    "def cube(side):\n",
    "    return side ** 3\n",
    "\n",
    "# The first line is called the function header\n",
    "# Notice that all the other lines are indented the same amount (4 spaces)\n",
    "# The best practice in Jupyter Notebook is to press tab\n",
    "# If you don't run the cell, Jupyter Notebook won't know about the function\n",
    "\n",
    "# We'll use PythonTutor to help us out!\n",
    "# https://pythontutor.com/"
   ]
  },
  {
   "cell_type": "code",
   "execution_count": 7,
   "metadata": {},
   "outputs": [
    {
     "name": "stdout",
     "output_type": "stream",
     "text": [
      "125\n",
      "37\n",
      "512\n"
     ]
    }
   ],
   "source": [
    "# Now we call/invoke the cube function!\n",
    "print(cube(5))\n",
    "print(cube(4) + cube(-3))\n",
    "print(cube(cube(2)))"
   ]
  },
  {
   "cell_type": "code",
   "execution_count": 8,
   "metadata": {},
   "outputs": [],
   "source": [
    "# In the bad_cube function definition, use print instead of return\n",
    "def bad_cube(side):\n",
    "    print(side ** 3)\n"
   ]
  },
  {
   "cell_type": "code",
   "execution_count": 9,
   "metadata": {},
   "outputs": [
    {
     "name": "stdout",
     "output_type": "stream",
     "text": [
      "125\n",
      "None\n"
     ]
    }
   ],
   "source": [
    "# Explain what goes wrong in these function calls.\n",
    "# bad_cube does not return anything, it only prints to the screen\n",
    "# So we return None, and store it in x.\n",
    "x = bad_cube(5)\n",
    "print(x)"
   ]
  },
  {
   "cell_type": "markdown",
   "metadata": {},
   "source": [
    "## `return` vs `print`\n",
    "- `return` enables us to send output from a function to the calling place\n",
    "    - default `return` value is `None`\n",
    "    - that means, when you don't have a `return` statement, `None` will be returned\n",
    "- `print` function simply displays / prints something\n",
    "    - it cannot enable you to produce output from a function"
   ]
  },
  {
   "cell_type": "code",
   "execution_count": 10,
   "metadata": {},
   "outputs": [
    {
     "name": "stdout",
     "output_type": "stream",
     "text": [
      "True\n",
      "False\n",
      "True\n"
     ]
    }
   ],
   "source": [
    "# Write a function that determines if one number is between two other numbers\n",
    "# return a boolean ... True or False\n",
    "def is_between(lower, num, upper):\n",
    "    return lower <= num <= upper # also:  num >= lower and num <= upper\n",
    "\n",
    "# you can call a function in the same cell that you defined it\n",
    "print(is_between(3, 7, 21))\n",
    "print(is_between(2, 14, 5))\n",
    "print(is_between(100, cube(5), 200))"
   ]
  },
  {
   "cell_type": "code",
   "execution_count": 11,
   "metadata": {},
   "outputs": [
    {
     "name": "stdout",
     "output_type": "stream",
     "text": [
      "#####\n",
      "#####\n",
      "#####\n",
      "\n"
     ]
    }
   ],
   "source": [
    "# Example 3: write a function get_grid that works like this:\n",
    "# get_grid(5, 3, \"@\") returns the string \n",
    "# @@@@@\n",
    "# @@@@@\n",
    "# @@@@@\n",
    "\n",
    "# Let's practice Incremental Coding\n",
    "# first, try to do this with string operators and literals\n",
    "width = 5\n",
    "height = 3\n",
    "symbol = '#'\n",
    "print(((symbol * width) + '\\n') * height)"
   ]
  },
  {
   "cell_type": "code",
   "execution_count": 12,
   "metadata": {},
   "outputs": [
    {
     "name": "stdout",
     "output_type": "stream",
     "text": [
      "#####\n",
      "#####\n",
      "#####\n",
      "\n"
     ]
    }
   ],
   "source": [
    "# then, try to do this with variables\n",
    "width = 5\n",
    "height = 3\n",
    "symbol = '#'\n",
    "print(((symbol * width) + '\\n') * height)"
   ]
  },
  {
   "cell_type": "code",
   "execution_count": 13,
   "metadata": {},
   "outputs": [
    {
     "name": "stdout",
     "output_type": "stream",
     "text": [
      "*****\n",
      "*****\n",
      "*****\n",
      "\n"
     ]
    }
   ],
   "source": [
    "# now, try to write a function \n",
    "# think about what we should name the parameters\n",
    "\n",
    "def get_grid(width, height, symb):\n",
    "    return (((symb * width) + '\\n') * height)\n",
    "\n",
    "my_grid = get_grid(5, 3, \"*\");\n",
    "# do some code\n",
    "2**1000000000\n",
    "# ...\n",
    "print(my_grid)"
   ]
  },
  {
   "cell_type": "code",
   "execution_count": null,
   "metadata": {},
   "outputs": [],
   "source": [
    "# test again"
   ]
  },
  {
   "cell_type": "code",
   "execution_count": null,
   "metadata": {},
   "outputs": [],
   "source": [
    "# Finally, add in a parameter for a title that appears above the grid\n",
    "def get_grid_with_title(width, height, symb, title='My Grid'):\n",
    "    row = (symb * width) + '\\n'\n",
    "    grid = ((row) * height)\n",
    "    return title + '\\n' + grid"
   ]
  },
  {
   "cell_type": "code",
   "execution_count": null,
   "metadata": {},
   "outputs": [],
   "source": [
    "print(get_grid_with_title(7, 7, title='CS220 Grid', symb='&'))"
   ]
  },
  {
   "cell_type": "markdown",
   "metadata": {},
   "source": [
    "## Types of arguments\n",
    "- positional\n",
    "- keyword\n",
    "- default\n",
    "\n",
    "Python fills arguments in this order: positional, keyword, "
   ]
  },
  {
   "cell_type": "code",
   "execution_count": 15,
   "metadata": {},
   "outputs": [
    {
     "name": "stdout",
     "output_type": "stream",
     "text": [
      "x = 100\n",
      "y = 10\n",
      "z = 5\n",
      "115\n",
      "Help on function add3 in module __main__:\n",
      "\n",
      "add3(x, y=100, z=100)\n",
      "    adds three numbers\n",
      "\n"
     ]
    }
   ],
   "source": [
    "def add3(x, y = 100, z = 100): \n",
    "    \"\"\"adds three numbers\"\"\"       #documentation string\n",
    "    print (\"x = \" + str(x))\n",
    "    print (\"y = \" + str(y))\n",
    "    print (\"z = \" + str(z))\n",
    "    return x + y + z\n",
    "\n",
    "addition_of_3 = add3(100, 10, 5)\n",
    "print(addition_of_3)\n",
    "# TODO: 1. sum is a bad variable, discuss: why. What would be a better variable name?\n",
    "# TODO: 2. what type of arguments are 100, 10, and 5?\n",
    "help(add3)"
   ]
  },
  {
   "cell_type": "code",
   "execution_count": 16,
   "metadata": {},
   "outputs": [
    {
     "name": "stdout",
     "output_type": "stream",
     "text": [
      "x = 1\n",
      "y = 5\n",
      "z = 2\n",
      "8\n"
     ]
    }
   ],
   "source": [
    "print(add3(x = 1, z = 2, y = 5)) #TODO: what type of arguments are these?\n",
    "# These are keyword arguments"
   ]
  },
  {
   "cell_type": "code",
   "execution_count": 17,
   "metadata": {},
   "outputs": [
    {
     "name": "stdout",
     "output_type": "stream",
     "text": [
      "x = 5\n",
      "y = 6\n",
      "z = 100\n"
     ]
    },
    {
     "data": {
      "text/plain": [
       "111"
      ]
     },
     "execution_count": 17,
     "metadata": {},
     "output_type": "execute_result"
    }
   ],
   "source": [
    "add3(5, 6) # TODO: what type of argument gets filled for the parameter z?\n",
    "# 5 and 6 are positional arguments.\n",
    "# z has a default argument of 100."
   ]
  },
  {
   "cell_type": "markdown",
   "metadata": {},
   "source": [
    "Positional arguments need to be specified before keyword arguments."
   ]
  },
  {
   "cell_type": "code",
   "execution_count": 18,
   "metadata": {},
   "outputs": [
    {
     "ename": "SyntaxError",
     "evalue": "positional argument follows keyword argument (Temp/ipykernel_3624/1597961864.py, line 2)",
     "output_type": "error",
     "traceback": [
      "\u001b[1;36m  File \u001b[1;32m\"C:\\Users\\COLENE~1\\AppData\\Local\\Temp/ipykernel_3624/1597961864.py\"\u001b[1;36m, line \u001b[1;32m2\u001b[0m\n\u001b[1;33m    add3(z = 5, 2, 7)\u001b[0m\n\u001b[1;37m                    ^\u001b[0m\n\u001b[1;31mSyntaxError\u001b[0m\u001b[1;31m:\u001b[0m positional argument follows keyword argument\n"
     ]
    }
   ],
   "source": [
    "# Incorrect function call\n",
    "add3(z = 5, 2, 7) \n",
    "# TODO: what category of error is this?\n",
    "# Syntax Error"
   ]
  },
  {
   "cell_type": "code",
   "execution_count": 19,
   "metadata": {},
   "outputs": [
    {
     "ename": "SyntaxError",
     "evalue": "non-default argument follows default argument (Temp/ipykernel_3624/1327695115.py, line 2)",
     "output_type": "error",
     "traceback": [
      "\u001b[1;36m  File \u001b[1;32m\"C:\\Users\\COLENE~1\\AppData\\Local\\Temp/ipykernel_3624/1327695115.py\"\u001b[1;36m, line \u001b[1;32m2\u001b[0m\n\u001b[1;33m    def add3_bad_version(x = 10, y, z):\u001b[0m\n\u001b[1;37m                                    ^\u001b[0m\n\u001b[1;31mSyntaxError\u001b[0m\u001b[1;31m:\u001b[0m non-default argument follows default argument\n"
     ]
    }
   ],
   "source": [
    "# Incorrect function definition\n",
    "# We must specify non-default arguments first\n",
    "def add3_bad_version(x = 10, y, z): \n",
    "    \"\"\"adds three numbers\"\"\"              #documentation string\n",
    "    print (\"y = \" + str(y))\n",
    "    return x + y + z"
   ]
  },
  {
   "cell_type": "code",
   "execution_count": 20,
   "metadata": {},
   "outputs": [
    {
     "ename": "TypeError",
     "evalue": "add3() got multiple values for argument 'x'",
     "output_type": "error",
     "traceback": [
      "\u001b[1;31m---------------------------------------------------------------------------\u001b[0m",
      "\u001b[1;31mTypeError\u001b[0m                                 Traceback (most recent call last)",
      "\u001b[1;32mC:\\Users\\COLENE~1\\AppData\\Local\\Temp/ipykernel_3624/100225854.py\u001b[0m in \u001b[0;36m<module>\u001b[1;34m\u001b[0m\n\u001b[0;32m      1\u001b[0m \u001b[1;31m# Incorrect function call\u001b[0m\u001b[1;33m\u001b[0m\u001b[1;33m\u001b[0m\u001b[0m\n\u001b[1;32m----> 2\u001b[1;33m \u001b[0madd3\u001b[0m\u001b[1;33m(\u001b[0m\u001b[1;36m5\u001b[0m\u001b[1;33m,\u001b[0m \u001b[1;36m3\u001b[0m\u001b[1;33m,\u001b[0m \u001b[1;36m10\u001b[0m\u001b[1;33m,\u001b[0m \u001b[0mx\u001b[0m \u001b[1;33m=\u001b[0m \u001b[1;36m4\u001b[0m\u001b[1;33m)\u001b[0m\u001b[1;33m\u001b[0m\u001b[1;33m\u001b[0m\u001b[0m\n\u001b[0m\u001b[0;32m      3\u001b[0m \u001b[1;31m# TODO: what category of error is this?\u001b[0m\u001b[1;33m\u001b[0m\u001b[1;33m\u001b[0m\u001b[0m\n",
      "\u001b[1;31mTypeError\u001b[0m: add3() got multiple values for argument 'x'"
     ]
    }
   ],
   "source": [
    "# Incorrect function call\n",
    "add3(5, 3, 10, x = 4)\n",
    "# TODO: what category of error is this?\n",
    "# Runtime Error"
   ]
  },
  {
   "cell_type": "code",
   "execution_count": 21,
   "metadata": {},
   "outputs": [
    {
     "ename": "TypeError",
     "evalue": "add3() missing 1 required positional argument: 'x'",
     "output_type": "error",
     "traceback": [
      "\u001b[1;31m---------------------------------------------------------------------------\u001b[0m",
      "\u001b[1;31mTypeError\u001b[0m                                 Traceback (most recent call last)",
      "\u001b[1;32mC:\\Users\\COLENE~1\\AppData\\Local\\Temp/ipykernel_3624/2441706151.py\u001b[0m in \u001b[0;36m<module>\u001b[1;34m\u001b[0m\n\u001b[0;32m      1\u001b[0m \u001b[1;31m# TODO: will this function call work?\u001b[0m\u001b[1;33m\u001b[0m\u001b[1;33m\u001b[0m\u001b[0m\n\u001b[1;32m----> 2\u001b[1;33m \u001b[0madd3\u001b[0m\u001b[1;33m(\u001b[0m\u001b[0my\u001b[0m \u001b[1;33m=\u001b[0m \u001b[1;36m5\u001b[0m\u001b[1;33m,\u001b[0m \u001b[0mz\u001b[0m \u001b[1;33m=\u001b[0m \u001b[1;36m10\u001b[0m\u001b[1;33m)\u001b[0m\u001b[1;33m\u001b[0m\u001b[1;33m\u001b[0m\u001b[0m\n\u001b[0m",
      "\u001b[1;31mTypeError\u001b[0m: add3() missing 1 required positional argument: 'x'"
     ]
    }
   ],
   "source": [
    "# TODO: will this function call work?\n",
    "add3(y = 5, z = 10)\n",
    "# No, we are missing an argument for x"
   ]
  },
  {
   "cell_type": "code",
   "execution_count": 22,
   "metadata": {},
   "outputs": [
    {
     "ename": "TypeError",
     "evalue": "add3() missing 1 required positional argument: 'x'",
     "output_type": "error",
     "traceback": [
      "\u001b[1;31m---------------------------------------------------------------------------\u001b[0m",
      "\u001b[1;31mTypeError\u001b[0m                                 Traceback (most recent call last)",
      "\u001b[1;32mC:\\Users\\COLENE~1\\AppData\\Local\\Temp/ipykernel_3624/2146538074.py\u001b[0m in \u001b[0;36m<module>\u001b[1;34m\u001b[0m\n\u001b[0;32m      1\u001b[0m \u001b[1;31m# TODO: will this function call work?\u001b[0m\u001b[1;33m\u001b[0m\u001b[1;33m\u001b[0m\u001b[0m\n\u001b[1;32m----> 2\u001b[1;33m \u001b[0madd3\u001b[0m\u001b[1;33m(\u001b[0m\u001b[1;33m)\u001b[0m\u001b[1;33m\u001b[0m\u001b[1;33m\u001b[0m\u001b[0m\n\u001b[0m",
      "\u001b[1;31mTypeError\u001b[0m: add3() missing 1 required positional argument: 'x'"
     ]
    }
   ],
   "source": [
    "# TODO: will this function call work?\n",
    "add3()\n",
    "# No, we are missing an argument for x"
   ]
  },
  {
   "cell_type": "markdown",
   "metadata": {},
   "source": [
    "## fruitful function versus void function\n",
    "- fruitful function: returns something\n",
    "    - ex: add3\n",
    "- void function: doesn't return anything\n",
    "    - ex: bad_add3_v1"
   ]
  },
  {
   "cell_type": "code",
   "execution_count": 23,
   "metadata": {},
   "outputs": [
    {
     "name": "stdout",
     "output_type": "stream",
     "text": [
      "7\n",
      "None\n"
     ]
    }
   ],
   "source": [
    "# Example of void function\n",
    "def bad_add3_v1(x, y, z):\n",
    "    print(x + y + z)\n",
    "\n",
    "print(bad_add3_v1(4, 2, 1))"
   ]
  },
  {
   "cell_type": "code",
   "execution_count": 24,
   "metadata": {},
   "outputs": [
    {
     "name": "stdout",
     "output_type": "stream",
     "text": [
      "7\n"
     ]
    },
    {
     "ename": "TypeError",
     "evalue": "unsupported operand type(s) for ** or pow(): 'NoneType' and 'int'",
     "output_type": "error",
     "traceback": [
      "\u001b[1;31m---------------------------------------------------------------------------\u001b[0m",
      "\u001b[1;31mTypeError\u001b[0m                                 Traceback (most recent call last)",
      "\u001b[1;32mC:\\Users\\COLENE~1\\AppData\\Local\\Temp/ipykernel_3624/71664968.py\u001b[0m in \u001b[0;36m<module>\u001b[1;34m\u001b[0m\n\u001b[1;32m----> 1\u001b[1;33m \u001b[0mprint\u001b[0m\u001b[1;33m(\u001b[0m\u001b[0mbad_add3_v1\u001b[0m\u001b[1;33m(\u001b[0m\u001b[1;36m4\u001b[0m\u001b[1;33m,\u001b[0m \u001b[1;36m2\u001b[0m\u001b[1;33m,\u001b[0m \u001b[1;36m1\u001b[0m\u001b[1;33m)\u001b[0m \u001b[1;33m**\u001b[0m \u001b[1;36m2\u001b[0m\u001b[1;33m)\u001b[0m \u001b[1;31m# Cannot apply mathematical operator to None\u001b[0m\u001b[1;33m\u001b[0m\u001b[1;33m\u001b[0m\u001b[0m\n\u001b[0m",
      "\u001b[1;31mTypeError\u001b[0m: unsupported operand type(s) for ** or pow(): 'NoneType' and 'int'"
     ]
    }
   ],
   "source": [
    "print(bad_add3_v1(4, 2, 1) ** 2) # Cannot apply mathematical operator to None"
   ]
  },
  {
   "cell_type": "markdown",
   "metadata": {},
   "source": [
    "### `return` statement is final\n",
    "- exactly *one* `return` statement gets executed for a function call\n",
    "- immediately after encountering `return`, function execution terminates"
   ]
  },
  {
   "cell_type": "code",
   "execution_count": 25,
   "metadata": {},
   "outputs": [
    {
     "data": {
      "text/plain": [
       "50"
      ]
     },
     "execution_count": 25,
     "metadata": {},
     "output_type": "execute_result"
    }
   ],
   "source": [
    "def bad_add3_v2(x, y, z):\n",
    "    return x\n",
    "    return x + y + z      # will never execute\n",
    "\n",
    "bad_add3_v2(50, 60, 70)"
   ]
  },
  {
   "cell_type": "markdown",
   "metadata": {},
   "source": [
    "## Tracing\n",
    "- Try tracing this manually...\n",
    "- ...then use [PythonTutor](https://pythontutor.com/visualize.html#code=def%20func_c%28%29%3A%0A%20%20%20%20print%28%22C%22%29%0A%0Adef%20func_b%28%29%3A%0A%20%20%20%20print%28%22B1%22%29%0A%20%20%20%20func_c%28%29%0A%20%20%20%20print%28%22B2%22%29%0A%0Adef%20func_a%28%29%3A%0A%20%20%20%20print%28%22A1%22%29%0A%20%20%20%20func_b%28%29%0A%20%20%20%20print%28%22A2%22%29%0A%0Afunc_a%28%29&cumulative=false&heapPrimitives=nevernest&mode=edit&origin=opt-frontend.js&py=3&rawInputLstJSON=%5B%5D&textReferences=false)"
   ]
  },
  {
   "cell_type": "code",
   "execution_count": 26,
   "metadata": {},
   "outputs": [
    {
     "name": "stdout",
     "output_type": "stream",
     "text": [
      "A1\n",
      "B1\n",
      "C\n",
      "B2\n",
      "A2\n"
     ]
    }
   ],
   "source": [
    "def func_c():\n",
    "    print(\"C\")\n",
    "\n",
    "def func_b():\n",
    "    print(\"B1\")\n",
    "    func_c()\n",
    "    print(\"B2\")\n",
    "\n",
    "def func_a():\n",
    "    print(\"A1\")\n",
    "    func_b()\n",
    "    print(\"A2\")\n",
    "\n",
    "func_a()"
   ]
  },
  {
   "cell_type": "code",
   "execution_count": 27,
   "metadata": {},
   "outputs": [],
   "source": [
    "# Explain worksheet, start part one of each problem\n",
    "# This worksheet has questions that will be on your exam!"
   ]
  },
  {
   "cell_type": "code",
   "execution_count": null,
   "metadata": {},
   "outputs": [],
   "source": []
  }
 ],
 "metadata": {
  "kernelspec": {
   "display_name": "Python 3 (ipykernel)",
   "language": "python",
   "name": "python3"
  },
  "language_info": {
   "codemirror_mode": {
    "name": "ipython",
    "version": 3
   },
   "file_extension": ".py",
   "mimetype": "text/x-python",
   "name": "python",
   "nbconvert_exporter": "python",
   "pygments_lexer": "ipython3",
   "version": "3.9.7"
  }
 },
 "nbformat": 4,
 "nbformat_minor": 2
}
