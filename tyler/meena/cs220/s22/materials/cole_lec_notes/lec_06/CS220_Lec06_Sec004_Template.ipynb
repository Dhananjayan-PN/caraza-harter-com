{
 "cells": [
  {
   "cell_type": "markdown",
   "metadata": {},
   "source": [
    "**TODO**: Run the cell below (click into it and press 'shift-enter') to make the tables left-aligned!"
   ]
  },
  {
   "cell_type": "code",
   "execution_count": null,
   "metadata": {},
   "outputs": [],
   "source": [
    "%%html\n",
    "<style>\n",
    "table {float:left}\n",
    "</style>"
   ]
  },
  {
   "cell_type": "markdown",
   "metadata": {},
   "source": [
    "# CS220: Lecture 06\n",
    "\n",
    "\n",
    "## Learning Objectives\n",
    "After this lecture you will be able to...\n",
    "- Explain the syntax of a function header.\n",
    "- Write a function\n",
    " - with a correct header and indentation.\n",
    " - with a return value (fruitful function) or without (void function).\n",
    " - with one or more parameters that have default values\n",
    " - knowing the difference in outcomes of print and return statements.\n",
    "- Make function calls using positional, keyword, and default arguments and determine the result.\n",
    "- Explain how positional, keyword, and default arguments are copied into parameters\n",
    "- Trace function invocations to determine control flow"
   ]
  },
  {
   "cell_type": "markdown",
   "metadata": {},
   "source": [
    "## Warmup\n",
    "Let's try some problems covered in Friday's lecture!"
   ]
  },
  {
   "cell_type": "code",
   "execution_count": null,
   "metadata": {},
   "outputs": [],
   "source": [
    "# On the line below, import the time module\n",
    "\n",
    "start_time = time.time()\n",
    "x = 2**1000000000\n",
    "end_time = time.time()\n",
    "\n",
    "# Change the line below to compute the time difference\n",
    "difference = 0\n",
    "\n",
    "# Seperate each time with a '\\n'\n",
    "print(start_time, end_time, difference) "
   ]
  },
  {
   "cell_type": "code",
   "execution_count": null,
   "metadata": {},
   "outputs": [],
   "source": [
    "# From the math module, import only the log10 function\n",
    "\n",
    "# Then, print the log base 10 of 1000\n"
   ]
  },
  {
   "cell_type": "code",
   "execution_count": null,
   "metadata": {},
   "outputs": [],
   "source": [
    "# This one is done for you as an example!\n",
    "# Note: importing with 'wildcard' * is generally considered bad practice\n",
    "from math import *  # allows us to use all functions without writing math\n",
    "print(pi)"
   ]
  },
  {
   "cell_type": "code",
   "execution_count": null,
   "metadata": {},
   "outputs": [],
   "source": [
    "# Try importing and printing 'pi' the proper way!\n",
    "\n",
    "# import ?????\n",
    "# print(???)"
   ]
  },
  {
   "cell_type": "markdown",
   "metadata": {},
   "source": [
    "## Functions"
   ]
  },
  {
   "cell_type": "code",
   "execution_count": null,
   "metadata": {},
   "outputs": [],
   "source": [
    "# Write a function that cubes any number\n",
    "\n",
    "def cube(side):\n",
    "    pass\n",
    "\n",
    "# The first line is called the function header\n",
    "# Notice that all the other lines are indented the same amount (4 spaces)\n",
    "# The best practice in Jupyter Notebook is to press tab\n",
    "# If you don't run the cell, Jupyter Notebook won't know about the function\n",
    "\n",
    "# We'll use PythonTutor to help us out!\n",
    "# https://pythontutor.com/"
   ]
  },
  {
   "cell_type": "code",
   "execution_count": null,
   "metadata": {},
   "outputs": [],
   "source": [
    "# Now we call/invoke the cube function!\n",
    "print(cube(5))\n",
    "print(cube(4) + cube(-3))\n",
    "print(cube(cube(2)))"
   ]
  },
  {
   "cell_type": "code",
   "execution_count": null,
   "metadata": {},
   "outputs": [],
   "source": [
    "# In the bad_cube function definition, use print instead of return\n",
    "def bad_cube(side):\n",
    "    pass\n"
   ]
  },
  {
   "cell_type": "code",
   "execution_count": null,
   "metadata": {},
   "outputs": [],
   "source": [
    "# Explain what goes wrong in these function calls.\n",
    "print(bad_cube(5))\n",
    "print(bad_cube(4) + bad_cube(-3))\n",
    "print(bad_cube(bad_cube(2)))"
   ]
  },
  {
   "cell_type": "markdown",
   "metadata": {},
   "source": [
    "## `return` vs `print`\n",
    "- `return` enables us to send output from a function to the calling place\n",
    "    - default `return` value is `None`\n",
    "    - that means, when you don't have a `return` statement, `None` will be returned\n",
    "- `print` function simply displays / prints something\n",
    "    - it cannot enable you to produce output from a function"
   ]
  },
  {
   "cell_type": "code",
   "execution_count": null,
   "metadata": {},
   "outputs": [],
   "source": [
    "# Write a function that determines if one number is between two other numbers\n",
    "# return a boolean ... True or False\n",
    "def is_between(lower, num, upper):\n",
    "    pass\n",
    "\n",
    "# you can call a function in the same cell that you defined it\n",
    "print(is_between(3, 7, 21))\n",
    "print(is_between(2, 14, 5))\n",
    "print(is_between(100, cube(5), 200))"
   ]
  },
  {
   "cell_type": "code",
   "execution_count": null,
   "metadata": {},
   "outputs": [],
   "source": [
    "# Example 3: write a function get_grid that works like this:\n",
    "# get_grid(5, 3, \"@\") returns the string \n",
    "# @@@@@\n",
    "# @@@@@\n",
    "# @@@@@\n",
    "\n",
    "# Let's practice Incremental Coding\n",
    "# first, try to do this with string operators and literals\n"
   ]
  },
  {
   "cell_type": "code",
   "execution_count": null,
   "metadata": {},
   "outputs": [],
   "source": [
    "# then, try to do this with variables\n"
   ]
  },
  {
   "cell_type": "code",
   "execution_count": null,
   "metadata": {},
   "outputs": [],
   "source": [
    "# now, try to write a function \n",
    "# think about what we should name the parameters\n",
    "\n",
    "def get_grid(width, height, symb):\n",
    "    pass\n",
    "\n",
    "print(get_grid(3, 5, \"*\"))"
   ]
  },
  {
   "cell_type": "code",
   "execution_count": null,
   "metadata": {},
   "outputs": [],
   "source": [
    "# test again"
   ]
  },
  {
   "cell_type": "code",
   "execution_count": null,
   "metadata": {},
   "outputs": [],
   "source": [
    "# Finally, add in a parameter for a title that appears above the grid\n",
    "def get_grid_with_title(width, height, symp, title):\n",
    "    pass"
   ]
  },
  {
   "cell_type": "markdown",
   "metadata": {},
   "source": [
    "## Types of arguments\n",
    "- positional\n",
    "- keyword\n",
    "- default\n",
    "\n",
    "Python fills arguments in this order: positional, keyword, "
   ]
  },
  {
   "cell_type": "code",
   "execution_count": null,
   "metadata": {},
   "outputs": [],
   "source": [
    "def add3(x, y = 100, z = 100): \n",
    "    \"\"\"adds three numbers\"\"\"       #documentation string\n",
    "    print (\"x = \" + str(x))\n",
    "    print (\"y = \" + str(y))\n",
    "    print (\"z = \" + str(z))\n",
    "    return x + y + z\n",
    "\n",
    "sum = add3(100, 10, 5) \n",
    "# TODO: 1. sum is a bad variable, discuss: why. What would be a better variable name?\n",
    "# TODO: 2. what type of arguments are 100, 10, and 5?"
   ]
  },
  {
   "cell_type": "code",
   "execution_count": null,
   "metadata": {},
   "outputs": [],
   "source": [
    "print(add3(x = 1, z = 2, y = 5)) #TODO: what type of arguments are these?"
   ]
  },
  {
   "cell_type": "code",
   "execution_count": null,
   "metadata": {},
   "outputs": [],
   "source": [
    "add3(5, 6) # TODO: what type of argument gets filled for the parameter z?"
   ]
  },
  {
   "cell_type": "markdown",
   "metadata": {},
   "source": [
    "Positional arguments need to be specified before keyword arguments."
   ]
  },
  {
   "cell_type": "code",
   "execution_count": null,
   "metadata": {},
   "outputs": [],
   "source": [
    "# Incorrect function call\n",
    "add3(z = 5, 2, 7) \n",
    "# TODO: what category of error is this?"
   ]
  },
  {
   "cell_type": "code",
   "execution_count": null,
   "metadata": {},
   "outputs": [],
   "source": [
    "# Incorrect function definition\n",
    "def add3_bad_version(x = 10, y, z): \n",
    "    \"\"\"adds three numbers\"\"\"              #documentation string\n",
    "    print (\"y = \" + str(y))\n",
    "    return x + y + z"
   ]
  },
  {
   "cell_type": "code",
   "execution_count": null,
   "metadata": {},
   "outputs": [],
   "source": [
    "# Incorrect function call\n",
    "add3(5, 3, 10, x = 4)\n",
    "# TODO: what category of error is this?"
   ]
  },
  {
   "cell_type": "code",
   "execution_count": null,
   "metadata": {},
   "outputs": [],
   "source": [
    "# TODO: will this function call work?\n",
    "add3(y = 5, z = 10)"
   ]
  },
  {
   "cell_type": "code",
   "execution_count": null,
   "metadata": {},
   "outputs": [],
   "source": [
    "# TODO: will this function call work?\n",
    "add3()"
   ]
  },
  {
   "cell_type": "markdown",
   "metadata": {},
   "source": [
    "## fruitful function versus void function\n",
    "- fruitful function: returns something\n",
    "    - ex: add3\n",
    "- void function: doesn't return anything\n",
    "    - ex: bad_add3_v1"
   ]
  },
  {
   "cell_type": "code",
   "execution_count": null,
   "metadata": {},
   "outputs": [],
   "source": [
    "# Example of void function\n",
    "def bad_add3_v1(x, y, z):\n",
    "    pass\n",
    "\n",
    "print(bad_add3_v1(4, 2, 1))"
   ]
  },
  {
   "cell_type": "code",
   "execution_count": null,
   "metadata": {},
   "outputs": [],
   "source": [
    "print(bad_add3_v1(4, 2, 1) ** 2) # Cannot apply mathematical operator to None"
   ]
  },
  {
   "cell_type": "markdown",
   "metadata": {},
   "source": [
    "### `return` statement is final\n",
    "- exactly *one* `return` statement gets executed for a function call\n",
    "- immediately after encountering `return`, function execution terminates"
   ]
  },
  {
   "cell_type": "code",
   "execution_count": null,
   "metadata": {},
   "outputs": [],
   "source": [
    "def bad_add3_v2(x, y, z): \n",
    "    return x\n",
    "    return x + y + z      # will never execute\n",
    "\n",
    "bad_add3_v2(50, 60, 70)"
   ]
  },
  {
   "cell_type": "markdown",
   "metadata": {},
   "source": [
    "## Tracing\n",
    "- Try tracing this manually...\n",
    "- ...then use [PythonTutor](https://pythontutor.com/visualize.html#code=def%20func_c%28%29%3A%0A%20%20%20%20print%28%22C%22%29%0A%0Adef%20func_b%28%29%3A%0A%20%20%20%20print%28%22B1%22%29%0A%20%20%20%20func_c%28%29%0A%20%20%20%20print%28%22B2%22%29%0A%0Adef%20func_a%28%29%3A%0A%20%20%20%20print%28%22A1%22%29%0A%20%20%20%20func_b%28%29%0A%20%20%20%20print%28%22A2%22%29%0A%0Afunc_a%28%29&cumulative=false&heapPrimitives=nevernest&mode=edit&origin=opt-frontend.js&py=3&rawInputLstJSON=%5B%5D&textReferences=false)"
   ]
  },
  {
   "cell_type": "code",
   "execution_count": null,
   "metadata": {},
   "outputs": [],
   "source": [
    "def func_c():\n",
    "    print(\"C\")\n",
    "\n",
    "def func_b():\n",
    "    print(\"B1\")\n",
    "    func_c()\n",
    "    print(\"B2\")\n",
    "\n",
    "def func_a():\n",
    "    print(\"A1\")\n",
    "    func_b()\n",
    "    print(\"A2\")\n",
    "\n",
    "func_a()"
   ]
  },
  {
   "cell_type": "code",
   "execution_count": null,
   "metadata": {},
   "outputs": [],
   "source": [
    "# Explain worksheet, start part one of each problem\n",
    "# This worksheet has questions that will be on your exam!"
   ]
  }
 ],
 "metadata": {
  "kernelspec": {
   "display_name": "Python 3 (ipykernel)",
   "language": "python",
   "name": "python3"
  },
  "language_info": {
   "codemirror_mode": {
    "name": "ipython",
    "version": 3
   },
   "file_extension": ".py",
   "mimetype": "text/x-python",
   "name": "python",
   "nbconvert_exporter": "python",
   "pygments_lexer": "ipython3",
   "version": "3.9.7"
  }
 },
 "nbformat": 4,
 "nbformat_minor": 2
}
