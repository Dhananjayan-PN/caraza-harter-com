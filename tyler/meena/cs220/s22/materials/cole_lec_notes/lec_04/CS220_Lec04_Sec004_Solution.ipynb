{
 "cells": [
  {
   "cell_type": "markdown",
   "id": "58a5ee15",
   "metadata": {},
   "source": [
    "**TODO**: Run the cell below (click into it and press 'shift-enter') to make the tables left-aligned!"
   ]
  },
  {
   "cell_type": "code",
   "execution_count": 1,
   "id": "dab56cba",
   "metadata": {
    "scrolled": true
   },
   "outputs": [
    {
     "data": {
      "text/html": [
       "<style>\n",
       "table {float:left}\n",
       "</style>\n"
      ],
      "text/plain": [
       "<IPython.core.display.HTML object>"
      ]
     },
     "metadata": {},
     "output_type": "display_data"
    }
   ],
   "source": [
    "%%html\n",
    "<style>\n",
    "table {float:left}\n",
    "</style>"
   ]
  },
  {
   "cell_type": "markdown",
   "id": "770fc416",
   "metadata": {},
   "source": [
    "# CS220: Lecture 04\n",
    "\n",
    "\n",
    "## Learning Objectives\n",
    "After this lecture you will be able to...\n",
    " - Evaluate Expressions\n",
    "   - by identifying operators and operands\n",
    "   - by identifying literal values and variables\n",
    "   - by identifying the correct order of operations\n",
    " - Write assignment statements with proper syntax\n",
    "   - Start with a variable name that follows proper rules for variables\n",
    "   - Use a single equals sign\n",
    "   - Finish with an expression\n",
    " - Define, give examples of, and identify 3 kinds of errors\n",
    "   - Syntax error\n",
    "   - Runtime error\n",
    "   - Semantic error\n",
    " - Write Python code that computes with strings ints, floats, and Boolean types"
   ]
  },
  {
   "cell_type": "markdown",
   "id": "7fc69ce6",
   "metadata": {},
   "source": [
    "## Let's begin!\n",
    "### Definitions"
   ]
  },
  {
   "cell_type": "markdown",
   "id": "043f2dbb",
   "metadata": {},
   "source": [
    "An **operator** is one of the symbols from our order of operations table (\\*\\*, /, +, -, and, not, etc.).\n",
    "\n",
    "An **operand** is the value that an operator operates on.\n",
    "\n",
    "An **expression** is the combination of **operator(s)** and **operand(s)**."
   ]
  },
  {
   "cell_type": "markdown",
   "id": "479a050a",
   "metadata": {},
   "source": [
    "### Operators, Operands, and Expressions"
   ]
  },
  {
   "cell_type": "markdown",
   "id": "91cc3d92",
   "metadata": {},
   "source": [
    "Let's look at some examples of operators, operands, and expressions."
   ]
  },
  {
   "cell_type": "code",
   "execution_count": 2,
   "id": "ff67454f",
   "metadata": {},
   "outputs": [
    {
     "data": {
      "text/plain": [
       "False"
      ]
     },
     "execution_count": 2,
     "metadata": {},
     "output_type": "execute_result"
    }
   ],
   "source": [
    "# Operators:  +, ==\n",
    "# Operands:   1, 1, 3 \n",
    "# Expression: 1 + 1 == 3\n",
    "1 + 1 == 3\n",
    "\n",
    "# What does the expression evaluate to? Think first, then run to find out!"
   ]
  },
  {
   "cell_type": "code",
   "execution_count": 3,
   "id": "5451cc99",
   "metadata": {},
   "outputs": [
    {
     "data": {
      "text/plain": [
       "True"
      ]
     },
     "execution_count": 3,
     "metadata": {},
     "output_type": "execute_result"
    }
   ],
   "source": [
    "# Operators:  not\n",
    "# Operands:   false \n",
    "# Expression: not false\n",
    "\n",
    "not False\n",
    "\n",
    "# What does the expression evaluate to? Think first, then run to find out!"
   ]
  },
  {
   "cell_type": "code",
   "execution_count": 4,
   "id": "672b4c7d",
   "metadata": {},
   "outputs": [
    {
     "data": {
      "text/plain": [
       "False"
      ]
     },
     "execution_count": 4,
     "metadata": {},
     "output_type": "execute_result"
    }
   ],
   "source": [
    "# Operators:  ==, and, not, %, <\n",
    "# Operands:   \"hello\", \"hello\", 4, 2, 3 \n",
    "# Expression: not false\n",
    "\n",
    "\"hello\" == \"hello\" and not (4 % 2 < 3)\n",
    "\n",
    "# What does the expression evaluate to? Think first, then run to find out!"
   ]
  },
  {
   "cell_type": "code",
   "execution_count": 5,
   "id": "886eeb60",
   "metadata": {},
   "outputs": [
    {
     "data": {
      "text/plain": [
       "1"
      ]
     },
     "execution_count": 5,
     "metadata": {},
     "output_type": "execute_result"
    }
   ],
   "source": [
    "# Operators:  \n",
    "# Operands:   1 \n",
    "# Expression: 1\n",
    "\n",
    "1\n",
    "\n",
    "# What does the expression evaluate to? Think first, then run to find out!"
   ]
  },
  {
   "cell_type": "markdown",
   "id": "8b7b34ef",
   "metadata": {},
   "source": [
    "## Variables"
   ]
  },
  {
   "cell_type": "markdown",
   "id": "c9f9bdbb",
   "metadata": {},
   "source": [
    "The above operands are examples of **literals**. **Literals** are *literal values*, such as 0, 4, False, and \"hello\" (with quotes!). This is opposed to **variables** which store a value. Variables are named by the programmer, such as x, count, dogs, and num_cookies.\n",
    "\n",
    "We can use a **variable** as an operand inside of an expression.\n",
    "\n",
    "We can assign a value to a **variable** using the `=` operator.\n",
    "\n",
    "Let's look at some examples."
   ]
  },
  {
   "cell_type": "code",
   "execution_count": 6,
   "id": "00492fa6",
   "metadata": {},
   "outputs": [
    {
     "name": "stdout",
     "output_type": "stream",
     "text": [
      "1.5\n",
      "4.5\n",
      "6.0\n"
     ]
    }
   ],
   "source": [
    "# We create a variable called \"x\" and assign it the value 1.5.\n",
    "x = 1.5\n",
    "\n",
    "# We create a new variable called \"y\" and assign the value of x * 3 to it.\n",
    "y = x * 3.\n",
    "\n",
    "# We print the values of x, y, and x + y. What do you think these will be?\n",
    "print(x)\n",
    "print(y)\n",
    "print(x + y)"
   ]
  },
  {
   "cell_type": "markdown",
   "id": "db6ccbaa",
   "metadata": {},
   "source": [
    "In practice, we should give variables a meaningful name based on what they do. Refer to the slides for exact details on naming requirements (what Python will allow you to do) and conventions (best practices to follow)."
   ]
  },
  {
   "cell_type": "code",
   "execution_count": 7,
   "id": "f8376108",
   "metadata": {},
   "outputs": [
    {
     "name": "stdout",
     "output_type": "stream",
     "text": [
      "All Cookies\n",
      "60\n",
      "\n",
      "Burned Cookies\n",
      "15.0\n",
      "\n",
      "Good Cookies\n",
      "45.0\n",
      "\n"
     ]
    }
   ],
   "source": [
    "# Notice how we give meaningful variable names!\n",
    "# It would be confusing to have variable names such as v, w, x, y, and z.\n",
    "\n",
    "percent_burn = 0.25\n",
    "sheets_of_cookie_dough = 5\n",
    "\n",
    "all_cookies = sheets_of_cookie_dough * 12\n",
    "burned_cookies = all_cookies * percent_burn\n",
    "good_cookies = all_cookies - burned_cookies\n",
    "\n",
    "# Int because we multiplied two ints!\n",
    "print('All Cookies')\n",
    "print(all_cookies)\n",
    "print()\n",
    "\n",
    "# Float because we multiplied it by a float!\n",
    "print('Burned Cookies')\n",
    "print(burned_cookies)\n",
    "print()\n",
    "\n",
    "# Float because we multiplied it by a float!\n",
    "print('Good Cookies')\n",
    "print(good_cookies)\n",
    "print()"
   ]
  },
  {
   "cell_type": "markdown",
   "id": "5cb2f337",
   "metadata": {},
   "source": [
    "### You try!\n",
    "Try to complete these problems on your own or with someone sitting next to you."
   ]
  },
  {
   "cell_type": "code",
   "execution_count": 8,
   "id": "5973e0e6",
   "metadata": {},
   "outputs": [
    {
     "name": "stdout",
     "output_type": "stream",
     "text": [
      "420.0\n"
     ]
    }
   ],
   "source": [
    "# Notice we can change these variables to change the overall paycheck\n",
    "hours = 40\n",
    "pay_rate = 10.50\n",
    "\n",
    "# Uncomment the line below and complete the paycheck calculation!\n",
    "paycheck = hours * pay_rate\n",
    "\n",
    "print(paycheck)"
   ]
  },
  {
   "cell_type": "code",
   "execution_count": 9,
   "id": "b9fe54f5",
   "metadata": {},
   "outputs": [
    {
     "name": "stdout",
     "output_type": "stream",
     "text": [
      "True\n"
     ]
    }
   ],
   "source": [
    "# Notice we can change this variable to change the overall eligibility to vote.\n",
    "student_age = 19\n",
    "\n",
    "# Create a variable called old_enough_to_vote.\n",
    "# If the student's age is >= 18, the value of this variable should be True.\n",
    "# If the student's age is < 18, the value of this variable should be False.\n",
    "\n",
    "# Write your code here...\n",
    "old_enough_to_vote = student_age >= 18\n",
    "\n",
    "print(old_enough_to_vote)"
   ]
  },
  {
   "cell_type": "code",
   "execution_count": 10,
   "id": "6619efe0",
   "metadata": {},
   "outputs": [
    {
     "name": "stdout",
     "output_type": "stream",
     "text": [
      "7612.255042662042\n"
     ]
    }
   ],
   "source": [
    "# Calculate the compound growth of the with the given interest over the given time of years\n",
    "# and assign it to a variable called final_amount.\n",
    "# Recall the formula for compound interest is principal*(1+rate)^time\n",
    "principal = 1000\n",
    "rate = 0.07\n",
    "time = 30\n",
    "\n",
    "# Write your code here...\n",
    "final_amount = principal*(1+rate) ** time # notice we use ** instead of ^\n",
    "\n",
    "print(final_amount)"
   ]
  },
  {
   "cell_type": "markdown",
   "id": "6f5418bc",
   "metadata": {},
   "source": [
    "### We'll do this one together."
   ]
  },
  {
   "cell_type": "markdown",
   "id": "9154f5ed",
   "metadata": {},
   "source": [
    "If you have the time, write the *pseudocode* for the algorithim."
   ]
  },
  {
   "cell_type": "code",
   "execution_count": 11,
   "id": "46d66315",
   "metadata": {},
   "outputs": [
    {
     "name": "stdout",
     "output_type": "stream",
     "text": [
      "1\n",
      "2\n",
      "19\n"
     ]
    }
   ],
   "source": [
    "# Given the number of seconds, compute the number of hours, minutes, and seconds.\n",
    "#  e.g. if seconds is 65, the correct output (with \\n in-between) is 0 1 5\n",
    "#  e.g. if seconds is 192, the correct output (with \\n in-between) is 0 3 12\n",
    "#  e.g. if seconds is 3739, the correct output (with \\n in-between) is 1 2 19\n",
    "\n",
    "seconds = 3739\n",
    "\n",
    "# First, we have to get the number of hours.\n",
    "# There are 60 * 60 = 3600 seconds in an hour, so\n",
    "# we use integer division to get the whole number of hours.\n",
    "hours = seconds // 3600\n",
    "\n",
    "# What we have left over is the remainder of seconds.\n",
    "# We use the modulos operator to get the remainder.\n",
    "seconds = seconds % 3600\n",
    "\n",
    "# Same thing for minutes!\n",
    "# We use integer division to get the whole number of minutes.\n",
    "minutes = seconds // 60\n",
    "\n",
    "# What we have left over is the remainder of seconds.\n",
    "seconds = seconds % 60\n",
    "\n",
    "# Print out our results\n",
    "print(hours)\n",
    "print(minutes)\n",
    "print(seconds)"
   ]
  },
  {
   "cell_type": "markdown",
   "id": "ca34955f",
   "metadata": {},
   "source": [
    "### Errors"
   ]
  },
  {
   "cell_type": "markdown",
   "id": "3b6d988d",
   "metadata": {},
   "source": [
    "| Error Type | Definition | Example |\n",
    "| :- | :- | :- |\n",
    "| Syntax Error | word soup, not grammatically sensible | `5 = x` |\n",
    "| Runtime Error | need to run the program to encounter | `x = 5 / 0` |\n",
    "| Semantic Error | runs but produces the wrong answer | `square_area = square_side * 2` |"
   ]
  },
  {
   "cell_type": "markdown",
   "id": "7b8fe8c7",
   "metadata": {},
   "source": [
    "Bob runs a community bakery. Every day, he recieves a shipment of dough balls, each of which bakes 4 loaves of bread, and he evenly splits the bread among his customers. Some days he may recieve 10 customers, 20 customers, and some days none at all! Below is the code that tells Bob how much bread he gave to each customer.\n",
    "\n",
    "Identify and correct a syntactic error, a runtime error, and a semantic error in his code."
   ]
  },
  {
   "cell_type": "code",
   "execution_count": 12,
   "id": "446d964a",
   "metadata": {},
   "outputs": [
    {
     "name": "stdout",
     "output_type": "stream",
     "text": [
      "Customer's loaves of bread:\n",
      "5.333333333333333\n"
     ]
    }
   ],
   "source": [
    "# These two variables can change based on the day!\n",
    "balls_of_dough = 20\n",
    "num_customers = 15\n",
    "\n",
    "# There was a syntax and semantic error here!\n",
    "# bread_baked has to be on the left hand side. (syntax)\n",
    "# One doughball produces 4 loaves of bread, not 2 (semantics)\n",
    "bread_baked = balls_of_dough * 4\n",
    "\n",
    "# This can run into a runtime error if num_customers is 0!\n",
    "# In the future, we'll learn how to use an if statement\n",
    "# to avoid this.\n",
    "bread_per_customer = bread_baked / num_customers\n",
    "\n",
    "print('Customer\\'s loaves of bread:')\n",
    "print(bread_per_customer)"
   ]
  },
  {
   "cell_type": "markdown",
   "id": "64101a15",
   "metadata": {},
   "source": [
    "### Miscellaneous\n",
    "Some other things that are good to know!"
   ]
  },
  {
   "cell_type": "code",
   "execution_count": 13,
   "id": "f41f2c3f",
   "metadata": {},
   "outputs": [
    {
     "name": "stdout",
     "output_type": "stream",
     "text": [
      "6\n",
      "3\n"
     ]
    }
   ],
   "source": [
    "# The len function finds the length of some thing, if it has a length\n",
    "name = 'Sam'\n",
    "print(len(\"Stevie\"))\n",
    "print(len(name))"
   ]
  },
  {
   "cell_type": "code",
   "execution_count": 14,
   "id": "65764d66",
   "metadata": {},
   "outputs": [
    {
     "name": "stdout",
     "output_type": "stream",
     "text": [
      "Alice: ||||||||||\n",
      "bob: ||||||||\n",
      "Alice:     ||||||||||\n",
      "bob:       ||||||||\n"
     ]
    }
   ],
   "source": [
    "# Using this len function, we can align strings more easily!\n",
    "player1_name = 'Alice'\n",
    "player2_name = 'bob'\n",
    "\n",
    "player1_score = 10\n",
    "player2_score = 8\n",
    "\n",
    "#Scores are difficult to compare\n",
    "print(player1_name + ': ' + '|' * player1_score)\n",
    "print(player2_name + ': ' + '|' * player2_score)\n",
    "\n",
    "#Assuming name has a maximum of 9 characters\n",
    "#Now scores are easier to read and compare\n",
    "print(player1_name + ': ' + \" \" * (9 - len(player1_name)) + '|' * player1_score)\n",
    "print(player2_name + ': ' + \" \" * (9 - len(player2_name)) + '|' * player2_score)"
   ]
  },
  {
   "cell_type": "code",
   "execution_count": null,
   "id": "c160c54e",
   "metadata": {},
   "outputs": [],
   "source": []
  }
 ],
 "metadata": {
  "kernelspec": {
   "display_name": "Python 3 (ipykernel)",
   "language": "python",
   "name": "python3"
  },
  "language_info": {
   "codemirror_mode": {
    "name": "ipython",
    "version": 3
   },
   "file_extension": ".py",
   "mimetype": "text/x-python",
   "name": "python",
   "nbconvert_exporter": "python",
   "pygments_lexer": "ipython3",
   "version": "3.9.7"
  }
 },
 "nbformat": 4,
 "nbformat_minor": 5
}
