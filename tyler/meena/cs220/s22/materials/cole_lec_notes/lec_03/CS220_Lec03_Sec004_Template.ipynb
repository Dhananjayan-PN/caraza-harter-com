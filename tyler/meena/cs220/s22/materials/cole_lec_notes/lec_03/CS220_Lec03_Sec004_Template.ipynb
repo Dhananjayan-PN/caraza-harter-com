{
 "cells": [
  {
   "cell_type": "markdown",
   "id": "58a5ee15",
   "metadata": {},
   "source": [
    "**TODO**: Run the cell below (click into it and press 'shift-enter') to make the tables left-aligned!"
   ]
  },
  {
   "cell_type": "code",
   "execution_count": null,
   "id": "dab56cba",
   "metadata": {
    "scrolled": true
   },
   "outputs": [],
   "source": [
    "%%html\n",
    "<style>\n",
    "table {float:left}\n",
    "</style>"
   ]
  },
  {
   "cell_type": "markdown",
   "id": "770fc416",
   "metadata": {},
   "source": [
    "# CS220: Lecture 03\n",
    "\n",
    "\n",
    "## Learning Objectives\n",
    "After this lecture you will be able to...\n",
    "- Recognize examples of different Python data types: int, float, str, bool\n",
    "- Explain the different behavior of the /, //, and % operators\n",
    "- Evaluate numeric expressions containing mathematical operators using correct precedence\n",
    "- Determine the correct order of operations in Python\n",
    "- Evaluate string expressions containing string operators and escape characters\n",
    "- Evaluate expressions containing comparison operators\n",
    "- Evaluate boolean expressions that contain the operators and, or, not\n",
    "\n",
    "## Plan\n",
    "1. Complete slides 1-21.\n",
    "2. Demo \"interactive\", \"script\", and \"notebook\" modes.\n",
    "3. Demo operators in Jupyter Notebook.\n",
    "4. Questions"
   ]
  },
  {
   "cell_type": "markdown",
   "id": "7fc69ce6",
   "metadata": {},
   "source": [
    "## Let's begin!\n",
    "### Introduction to Operators"
   ]
  },
  {
   "cell_type": "markdown",
   "id": "7ce28513",
   "metadata": {},
   "source": [
    "If multiple lines of code are entered, **only the last line** is displayed."
   ]
  },
  {
   "cell_type": "code",
   "execution_count": null,
   "id": "77126fe5",
   "metadata": {},
   "outputs": [],
   "source": [
    "# TODO: Enter 3 expressions on 3 seperate lines (such as 3*2)"
   ]
  },
  {
   "cell_type": "markdown",
   "id": "caf07216",
   "metadata": {},
   "source": [
    "However, **every print statement** is displayed."
   ]
  },
  {
   "cell_type": "code",
   "execution_count": null,
   "id": "530b2b8c",
   "metadata": {},
   "outputs": [],
   "source": [
    "# TODO: Take those same 3 expressions and use the print() function on each.\n",
    "#   In a couple of lectures we will learn what functions are.\n",
    "#   For now you can just use the functions that we introduce in this lecture."
   ]
  },
  {
   "cell_type": "markdown",
   "id": "59a5b41a",
   "metadata": {},
   "source": [
    "In Python, every value has a type. We will look at four types: **bool, int, float, str**"
   ]
  },
  {
   "cell_type": "code",
   "execution_count": null,
   "id": "89594a38",
   "metadata": {},
   "outputs": [],
   "source": [
    "# We use the type() function on each of the following values: before running what type do you think they will be?\n",
    "print(type(4.5))\n",
    "print(type(\"hello\"))\n",
    "print(type(2))\n",
    "print(type(True))"
   ]
  },
  {
   "cell_type": "markdown",
   "id": "2516f39f",
   "metadata": {},
   "source": [
    "The next cell is for us to experiment with operators. Try **multipying an integer and a float.**"
   ]
  },
  {
   "cell_type": "code",
   "execution_count": null,
   "id": "368796de",
   "metadata": {},
   "outputs": [],
   "source": [
    "# TODO: Write an expression that multiplies an integer and a float. What is its type?"
   ]
  },
  {
   "cell_type": "markdown",
   "id": "6417044e",
   "metadata": {},
   "source": [
    "There are *three* division operators in Python!\n",
    "\n",
    "| Operator | Name | Purpose | Example |\n",
    "| :- | :- | :- | :- |\n",
    "| / | Float Divisor | Gives you the answer to the division. | 11 */* 4 results in 2.75 |\n",
    "| // | Integer Divisor | Gives you the quotient of the division. | 11 *//* 4 results in 2 |\n",
    "| % | Modulus | Gives you the remainder of the division. | 11 *%* 4 results in 3 |"
   ]
  },
  {
   "cell_type": "code",
   "execution_count": null,
   "id": "4332c941",
   "metadata": {},
   "outputs": [],
   "source": [
    "# Try it yourself!\n",
    "print(11/4)\n",
    "print(11//4)\n",
    "print(11%4)"
   ]
  },
  {
   "cell_type": "markdown",
   "id": "f2ff879e",
   "metadata": {},
   "source": [
    "#### Important Use Cases of // and %"
   ]
  },
  {
   "cell_type": "markdown",
   "id": "938c62ce",
   "metadata": {},
   "source": [
    "We can *get* the last digit of a number by performing `% 10`"
   ]
  },
  {
   "cell_type": "code",
   "execution_count": null,
   "id": "9f7ea35a",
   "metadata": {},
   "outputs": [],
   "source": [
    "print(3912%10)"
   ]
  },
  {
   "cell_type": "markdown",
   "id": "050b47e4",
   "metadata": {},
   "source": [
    "We can *remove* the last digit of a number by performing `// 10` "
   ]
  },
  {
   "cell_type": "code",
   "execution_count": null,
   "id": "6e1eb853",
   "metadata": {},
   "outputs": [],
   "source": [
    "print(3912//10)"
   ]
  },
  {
   "cell_type": "markdown",
   "id": "259bad72",
   "metadata": {},
   "source": [
    "### Order of Operations\n",
    "Ordered from highest to lowest precedence.\n",
    "\n",
    "Notice that the exponent operator is \\*\\* and *not* ^.\n",
    "\n",
    "| Name | Operators |\n",
    "| :- | :- |\n",
    "| Exponents | \\*\\* |\n",
    "| Signs | +x, -x |\n",
    "| Multiply/Divide | \\*, /, //, % |\n",
    "| Add/Subtract | +,- |\n",
    "| Comparison | ==, !=, <, <=, >, >= |\n",
    "| Boolean | not |\n",
    "| Boolean | and |\n",
    "| Boolean | or |"
   ]
  },
  {
   "cell_type": "code",
   "execution_count": null,
   "id": "84ae6b03",
   "metadata": {},
   "outputs": [],
   "source": [
    "# TODO Based on the order of operations, what do you think the value will be?\n",
    "# How could we use parentheses to change the order of operations?\n",
    "print(-2**4)"
   ]
  },
  {
   "cell_type": "markdown",
   "id": "fd276b24",
   "metadata": {},
   "source": [
    "#### Other Things to Know"
   ]
  },
  {
   "cell_type": "markdown",
   "id": "0b3bcd58",
   "metadata": {},
   "source": [
    "Repeated exponentiation is done from right to left (notice we can do square roots by `x ** (1/2)`)."
   ]
  },
  {
   "cell_type": "code",
   "execution_count": null,
   "id": "9ddcf1ad",
   "metadata": {},
   "outputs": [],
   "source": [
    "print(2 ** 9 ** (1/2))"
   ]
  },
  {
   "cell_type": "markdown",
   "id": "29475d03",
   "metadata": {},
   "source": [
    "If our number is too small, Python will represent it in scientific notation."
   ]
  },
  {
   "cell_type": "code",
   "execution_count": null,
   "id": "850660c9",
   "metadata": {},
   "outputs": [],
   "source": [
    "# 1 / 2^256 is a very small number.\n",
    "# It's also the chance that your password can be cracked!\n",
    "print(2**-256)"
   ]
  },
  {
   "cell_type": "markdown",
   "id": "34efdb88",
   "metadata": {},
   "source": [
    "### Strings\n",
    "Strings are the *text* of Python. They are enclosed in `''` or `\"\"` (but don't mix and match them!)."
   ]
  },
  {
   "cell_type": "code",
   "execution_count": null,
   "id": "bfa43bcd",
   "metadata": {},
   "outputs": [],
   "source": [
    "# These will both produce the same output!\n",
    "print('hello world')\n",
    "print(\"hello world\")"
   ]
  },
  {
   "cell_type": "markdown",
   "id": "db24acef",
   "metadata": {},
   "source": [
    "A string can contain special escape characters that start with \\\n",
    " - `\\n` is for a newline character\n",
    " - `\\t` is for a tab character\n",
    " - `\\'` is for a literal single quotation mark\n",
    " - `\\\"` is for a literal double quotation mark\n",
    " - `\\\\` is for a literal slash"
   ]
  },
  {
   "cell_type": "code",
   "execution_count": null,
   "id": "9a7ce154",
   "metadata": {},
   "outputs": [],
   "source": [
    "# TODO Write code to print the following messages!\n",
    "\n",
    "# Hey \"Carl\"!\n",
    "\n",
    "# Hello World \\till next time\n",
    "\n",
    "# With regards,\n",
    "#         Alice (notice the tab!)\n"
   ]
  },
  {
   "cell_type": "markdown",
   "id": "99967c83",
   "metadata": {},
   "source": [
    "Furthermore, we can 'add' (concatenate) and 'multiply' (repeat) strings!"
   ]
  },
  {
   "cell_type": "code",
   "execution_count": null,
   "id": "f88273ea",
   "metadata": {},
   "outputs": [],
   "source": [
    "print('hello'+' '+'world')\n",
    "print('ha'*10)"
   ]
  },
  {
   "cell_type": "markdown",
   "id": "713c94df",
   "metadata": {},
   "source": [
    "### Booleans\n",
    "Booleans are the logic of `True` and `False` (case matters in Python!). We can evaluate whether a statement is `True` or `False` using comparison operators `==`, `!=`, `<`, `<=`, `>`, and `>=`."
   ]
  },
  {
   "cell_type": "code",
   "execution_count": null,
   "id": "ce8a460e",
   "metadata": {},
   "outputs": [],
   "source": [
    "# Try these out on your own!\n",
    "print(4 < 17)\n",
    "print(72 >= 98)\n",
    "print(1 == 1)\n",
    "print(1 != 1)\n"
   ]
  },
  {
   "cell_type": "code",
   "execution_count": null,
   "id": "8449891e",
   "metadata": {},
   "outputs": [],
   "source": [
    "# TODO: Write and print expressions for the following...\n",
    "\n",
    "# Is 2 greater than 4?\n",
    "\n",
    "# Is 12 not equal to 13?\n",
    "\n"
   ]
  },
  {
   "cell_type": "markdown",
   "id": "9f1cd566",
   "metadata": {},
   "source": [
    "### Truth Tables\n",
    "Furthermore, we can compound boolean statements with boolean operators `not`, `and`, and `or`.\n",
    "\n",
    "Below we construct what are known as \"truth tables.\" See Slide 42 for further details.\n",
    "\n",
    "The `str` function converts a `bool` to a `str`. Don't worry about it for now -- we'll learn more about this later!"
   ]
  },
  {
   "cell_type": "markdown",
   "id": "9406c52b",
   "metadata": {},
   "source": [
    "#### Truth Table - Not\n",
    "The `not` operator flips the value of the boolean."
   ]
  },
  {
   "cell_type": "code",
   "execution_count": null,
   "id": "c333a077",
   "metadata": {},
   "outputs": [],
   "source": [
    "print('not True  -> ' + str(not True))\n",
    "print('not False -> ' + str(not False))"
   ]
  },
  {
   "cell_type": "markdown",
   "id": "e66dcc31",
   "metadata": {},
   "source": [
    "#### Truth Table - And\n",
    "The `and` operator requires both booleans to be `True` in order to be `True`, otherwise it is `False`."
   ]
  },
  {
   "cell_type": "code",
   "execution_count": null,
   "id": "4cd7e2de",
   "metadata": {},
   "outputs": [],
   "source": [
    "print('True  and True  -> ' + str(True and True))\n",
    "print('True  and False -> ' + str(True and False))\n",
    "print('False and True  -> ' + str(False and True))\n",
    "print('False and False -> ' + str(False and False))"
   ]
  },
  {
   "cell_type": "markdown",
   "id": "3a2ec283",
   "metadata": {},
   "source": [
    "#### Truth Table - Or\n",
    "The `or` operator requires *atleast* one of the booleans to be `True` in order to be `True`, otherwise it is `False`."
   ]
  },
  {
   "cell_type": "code",
   "execution_count": null,
   "id": "fed6bd84",
   "metadata": {},
   "outputs": [],
   "source": [
    "print('True  or True  -> ' + str(True or True))\n",
    "print('True  or False -> ' + str(True or False))\n",
    "print('False or True  -> ' + str(False or True))\n",
    "print('False or False -> ' + str(False or False))"
   ]
  },
  {
   "cell_type": "code",
   "execution_count": null,
   "id": "e6f9a4b4",
   "metadata": {},
   "outputs": [],
   "source": [
    "# TODO: Write and print expressions for the following...\n",
    "\n",
    "# Is 7 greater than 8 and less than 6?\n",
    "\n",
    "# Is 1 not equal to 2, but greater than -12?\n",
    "\n",
    "# Is 7 - 22 greater than 88 - 11^2?\n"
   ]
  },
  {
   "cell_type": "markdown",
   "id": "6b50f918",
   "metadata": {},
   "source": [
    "### Other References\n",
    "The slides will be a good reference, but you may also find [this resource](https://www.w3schools.com/python/python_operators.asp) to be helpful. It has more than you need to know! :)"
   ]
  }
 ],
 "metadata": {
  "kernelspec": {
   "display_name": "Python 3 (ipykernel)",
   "language": "python",
   "name": "python3"
  },
  "language_info": {
   "codemirror_mode": {
    "name": "ipython",
    "version": 3
   },
   "file_extension": ".py",
   "mimetype": "text/x-python",
   "name": "python",
   "nbconvert_exporter": "python",
   "pygments_lexer": "ipython3",
   "version": "3.9.7"
  }
 },
 "nbformat": 4,
 "nbformat_minor": 5
}
