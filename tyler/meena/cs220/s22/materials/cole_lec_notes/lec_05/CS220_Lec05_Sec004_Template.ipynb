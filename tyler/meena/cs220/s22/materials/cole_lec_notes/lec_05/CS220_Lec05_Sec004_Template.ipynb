{
 "cells": [
  {
   "cell_type": "markdown",
   "metadata": {},
   "source": [
    "**TODO**: Run the cell below (click into it and press 'shift-enter') to make the tables left-aligned!"
   ]
  },
  {
   "cell_type": "code",
   "execution_count": null,
   "metadata": {},
   "outputs": [],
   "source": [
    "%%html\n",
    "<style>\n",
    "table {float:left}\n",
    "</style>"
   ]
  },
  {
   "cell_type": "markdown",
   "metadata": {},
   "source": [
    "# CS220: Lecture 04\n",
    "\n",
    "\n",
    "## Learning Objectives\n",
    "After this lecture you will be able to...\n",
    "- Call `input()`, `int()`, and `float()` to accept and process string input\n",
    "- Concatenate values onto strings within a print function by converting to `str()`\n",
    "- Using correct vocabulary, explain a function call\n",
    " - call/invoke, argument, keyword arguments, return value\n",
    "- Use named keyword arguments with the `print()` function. \n",
    "- Use some common built-in functions such as `round()`, `abs()`\n",
    "- Import functions from a built-in module using `import`, `from`\n",
    "- Call functions in modules using the attribute operator (`.`) "
   ]
  },
  {
   "cell_type": "markdown",
   "metadata": {},
   "source": [
    "## Extension of Last Lecture\n",
    "Below are topics that we didn't make (enough) time for last lecture!"
   ]
  },
  {
   "cell_type": "markdown",
   "metadata": {},
   "source": [
    "### `//` operator"
   ]
  },
  {
   "cell_type": "markdown",
   "metadata": {},
   "source": [
    "Oops! This is the *floor divisor* rather than the integer divisor. Let's try out some more examples."
   ]
  },
  {
   "cell_type": "code",
   "execution_count": null,
   "metadata": {},
   "outputs": [],
   "source": [
    "print(7 // 3)\n",
    "print(19.5 // 6)\n",
    "print(-1 // 3)"
   ]
  },
  {
   "attachments": {},
   "cell_type": "markdown",
   "metadata": {},
   "source": [
    "### Python Variable Names\n",
    "*Python* requires that variables...\n",
    " - Only use letters a-z (upper and lower), numbers, and underscores.\n",
    " - Don’t start with a number\n",
    " - Don’t use Python keywords (e.g., `and`, `False`, etc)\n",
    " \n",
    "In addition, *CS220 Course Staff* ask that variables...\n",
    " - Only use the English alphabet and numbers\n",
    " - Use snake_case for variable names (as opposed to camelCase or PascalCase)\n",
    " - Make variable names *meaningful*\n",
    " \n",
    "Python won't compile for the first set of rules; CS220 course staff will take off points for the second set of rules."
   ]
  },
  {
   "cell_type": "code",
   "execution_count": null,
   "metadata": {},
   "outputs": [],
   "source": [
    "# This is a possible quiz / exam question\n",
    "# Decide if the following variables are valid in Python\n",
    "\n",
    "#my.name = \"Meena\"\n",
    "#1st_place = \"Andy\"\n",
    "#stop&go = False             \n",
    "#False = 100                  \n",
    "#end_game = True"
   ]
  },
  {
   "cell_type": "markdown",
   "metadata": {},
   "source": [
    "### Short-circuiting with `and`, `or`\n",
    "\n",
    "If the left expression of an `and` is `False`, skip evaluating the right expression.\n",
    "\n",
    "If the left expression of an `or` is `True`, skip evaluating the right expression. "
   ]
  },
  {
   "cell_type": "code",
   "execution_count": null,
   "metadata": {},
   "outputs": [],
   "source": [
    "# Predict the output of each expression and then uncomment and run the expression, to validate.\n",
    "# 7 + 3 == 9 and 4 / 0 == 0                 # False\n",
    "# 4 / 0 == 0 and 7 + 3 == 9                 # ZeroDivisionError\n",
    "# 4 + 5 == 9 or 5 ** 10000000 < 10000000    # True"
   ]
  },
  {
   "cell_type": "markdown",
   "metadata": {},
   "source": [
    "## Using Functions\n",
    "Let's begin!"
   ]
  },
  {
   "cell_type": "markdown",
   "metadata": {},
   "source": [
    "### Vocabulary\n",
    "\n",
    "| Term | Definition |\n",
    "| :- | :- |\n",
    "| function definition | a grouping of lines of code; a way for us to tell our program to run that entire group of code |\n",
    "| call / invoke | a statement that instructs the program to run all the lines of code in a function definition, and then come back afterward |\n",
    "| parameter | variable that receives input to function |\n",
    "| argument | value sent to a function (lines up with parameter) |\n",
    "| keyword argument | argument explicitly tied to a parameter |\n",
    "| return value | function output sent back to calling code |"
   ]
  },
  {
   "cell_type": "markdown",
   "metadata": {},
   "source": [
    "### Previously Used Functions.\n",
    "We have used functions before! Namely `print`, `type`, and `len`.\n",
    "\n",
    "What parameters did they have; what arguments did we send them?"
   ]
  },
  {
   "cell_type": "code",
   "execution_count": null,
   "metadata": {},
   "outputs": [],
   "source": [
    "print(\"hello world\")\n",
    "print(len(\"apples\"))\n",
    "print(type(1 < 2))"
   ]
  },
  {
   "cell_type": "markdown",
   "metadata": {},
   "source": [
    "Let's take a closer look at the `print` function.\n",
    " 1. Use the [official Python reference](https://docs.python.org/3/library/functions.html#print)\n",
    " 2. Use the [w3schools reference](https://www.w3schools.com/python/ref_func_print.asp)\n",
    " 3. Use the `help` function"
   ]
  },
  {
   "cell_type": "code",
   "execution_count": null,
   "metadata": {},
   "outputs": [],
   "source": [
    "help(print)"
   ]
  },
  {
   "cell_type": "code",
   "execution_count": null,
   "metadata": {},
   "outputs": [],
   "source": [
    "print(\"1\", \"two\", \"3!\")"
   ]
  },
  {
   "cell_type": "code",
   "execution_count": null,
   "metadata": {},
   "outputs": [],
   "source": [
    "# Can you add a keyword argument that will connect the names with the word 'and'?\n",
    "print('Bob', 'Alice', 'Dylan', 'Gretchen')"
   ]
  },
  {
   "cell_type": "code",
   "execution_count": null,
   "metadata": {},
   "outputs": [],
   "source": [
    "# Can you add a keyword argument that will make the output appear on a single line?\n",
    "\n",
    "print('Good')\n",
    "print('Morning!')"
   ]
  },
  {
   "cell_type": "code",
   "execution_count": null,
   "metadata": {},
   "outputs": [],
   "source": [
    "# Guess what will get printed\n",
    "print(\"hello\", \"world\", sep = \"|\", end = \";\\n\")\n",
    "print(\"its\", \"so\", \"cold\", sep = \"^\", end = \"...\\n\")\n",
    "\n",
    "print(\"*\" * 4, \"#\" * 6, sep = \"||\", end = \"<END>\")\n",
    "print(\"*\" * 6, \"#\" * 8, sep = \"||\", end = \"<END>\")\n",
    "\n",
    "print(\"\\n\", end = \"\")"
   ]
  },
  {
   "cell_type": "markdown",
   "metadata": {},
   "source": [
    "### Type Conversion Functions\n",
    "\n",
    "| Function | Purpose |\n",
    "| :- | :- |\n",
    "| `int(value)` | Turns `value` into an integer |\n",
    "| `float(value)` | Turns `value` into a float |\n",
    "| `str(value)` | Turns `value` into a string |\n",
    "| `bool(value)` | Turns `value` into a boolean |"
   ]
  },
  {
   "cell_type": "code",
   "execution_count": null,
   "metadata": {},
   "outputs": [],
   "source": [
    "# This code works!\n",
    "name = input(\"Enter your name: \")\n",
    "print(type(name))\n",
    "print(\"Hello \" + name + \"!\")"
   ]
  },
  {
   "cell_type": "code",
   "execution_count": null,
   "metadata": {},
   "outputs": [],
   "source": [
    "# This code doesn't work! Try to fix it.\n",
    "age = input(\"Enter your age: \")\n",
    "print(type(age))\n",
    "age = age + 10 # we can shorten this to age += 10\n",
    "print(\"In 10 years, you will be \" + age)"
   ]
  },
  {
   "cell_type": "code",
   "execution_count": null,
   "metadata": {},
   "outputs": [],
   "source": [
    "# This code doesn't work! Try to fix it.\n",
    "temp = input(\"Enter your temperature: \")\n",
    "print(type(temp))\n",
    "temp_ok = temp < 101.1\n",
    "print(\"You can enter lab: \" + temp_ok)"
   ]
  },
  {
   "cell_type": "markdown",
   "metadata": {},
   "source": [
    "### Other Built-In Functions\n",
    "We can refer to [this resource](https://www.w3schools.com/python/python_ref_functions.asp) to see other built-in functions in Python. Let's practice using `round` and `abs`."
   ]
  },
  {
   "cell_type": "code",
   "execution_count": null,
   "metadata": {},
   "outputs": [],
   "source": [
    "# Print the help documentation for the round function\n",
    "\n",
    "# Print the help documentation for the abs function\n"
   ]
  },
  {
   "cell_type": "code",
   "execution_count": null,
   "metadata": {},
   "outputs": [],
   "source": [
    "# Round the number 84.7"
   ]
  },
  {
   "cell_type": "code",
   "execution_count": null,
   "metadata": {},
   "outputs": [],
   "source": [
    "# Round the number 19.74812 to the second decimal place"
   ]
  },
  {
   "cell_type": "code",
   "execution_count": null,
   "metadata": {},
   "outputs": [],
   "source": [
    "# Get the absolute value of -12"
   ]
  },
  {
   "cell_type": "code",
   "execution_count": null,
   "metadata": {},
   "outputs": [],
   "source": [
    "# Get the square root of 81"
   ]
  },
  {
   "cell_type": "markdown",
   "metadata": {},
   "source": [
    "### Importing From Other Modules\n",
    "We'll look at two other common modules (collections of functions): `math` and `random`.\n",
    "\n",
    "There are a few ways we can do this...\n",
    " - We can write `import <module_name>` and use a function by `<module_name>.<function_name>`.\n",
    " - We can write `from <module_name> import <function_name>` and use a function(s) directly by its name.\n",
    " - We can write `from <module_name> import *` and directly use any function by name."
   ]
  },
  {
   "cell_type": "code",
   "execution_count": null,
   "metadata": {},
   "outputs": [],
   "source": [
    "# Normally we like to have our imports at the top of our notebook\n",
    "import math\n",
    "import random"
   ]
  },
  {
   "cell_type": "code",
   "execution_count": null,
   "metadata": {},
   "outputs": [],
   "source": [
    "# Use the . (attribute accessor)\n",
    "math.sqrt(17)"
   ]
  },
  {
   "cell_type": "code",
   "execution_count": null,
   "metadata": {},
   "outputs": [],
   "source": [
    "# Import the function directly\n",
    "from math import sqrt\n",
    "sqrt(17)"
   ]
  },
  {
   "cell_type": "code",
   "execution_count": null,
   "metadata": {},
   "outputs": [],
   "source": [
    "from random import randint\n",
    "print(randint(1,10))\n",
    "\n",
    "# wrong way to call randint\n",
    "#print(random.randint(1,10))"
   ]
  }
 ],
 "metadata": {
  "kernelspec": {
   "display_name": "Python 3 (ipykernel)",
   "language": "python",
   "name": "python3"
  },
  "language_info": {
   "codemirror_mode": {
    "name": "ipython",
    "version": 3
   },
   "file_extension": ".py",
   "mimetype": "text/x-python",
   "name": "python",
   "nbconvert_exporter": "python",
   "pygments_lexer": "ipython3",
   "version": "3.9.7"
  }
 },
 "nbformat": 4,
 "nbformat_minor": 2
}
