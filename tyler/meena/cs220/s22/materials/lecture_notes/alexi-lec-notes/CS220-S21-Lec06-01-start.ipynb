{
 "cells": [
  {
   "cell_type": "markdown",
   "metadata": {},
   "source": [
    "**Outline for Friday, February 5**\n",
    "\n",
    "You will be able to:\n",
    " - Call existing Python functions\n",
    " - Collect user input and produce output to the screen\n",
    " - Import common Python modules\n",
    "\n",
    "Definitions\n",
    " - Function\n",
    " - Call/Invoke\n",
    " - Parameter\n",
    " - Argument\n",
    " - Return value\n",
    " - Refactor\n",
    " - Default argument\n",
    " - Named argument (or Keyword argument)"
   ]
  },
  {
   "cell_type": "markdown",
   "metadata": {},
   "source": [
    "**Calling (\"Invoking\") a Function in Python**\n",
    "\n",
    "`print(\"hi\")`\n",
    "\n",
    "- ALWAYS:\n",
    "- ALWAYS:\n",
    "- SOMETIMES:\n",
    "- SOMETIMES:"
   ]
  },
  {
   "cell_type": "code",
   "execution_count": 1,
   "metadata": {},
   "outputs": [
    {
     "name": "stdout",
     "output_type": "stream",
     "text": [
      "What is your name?Alexi\n",
      "Alexi\n"
     ]
    }
   ],
   "source": [
    "#Functions that we've seen before:\n",
    "\n",
    "#print()\n",
    "\n",
    "#type()\n",
    "\n",
    "#New functions:\n",
    "\n",
    "#input()\n",
    "\n",
    "#float()\n",
    "\n",
    "#int()"
   ]
  },
  {
   "cell_type": "markdown",
   "metadata": {},
   "source": [
    "**Modules**\n",
    "\n",
    "- Math\n",
    "- Random\n",
    "- Time\n",
    "- Add <-- a custom module we just created!"
   ]
  },
  {
   "cell_type": "code",
   "execution_count": null,
   "metadata": {},
   "outputs": [],
   "source": []
  }
 ],
 "metadata": {
  "kernelspec": {
   "display_name": "Python 3",
   "language": "python",
   "name": "python3"
  },
  "language_info": {
   "codemirror_mode": {
    "name": "ipython",
    "version": 3
   },
   "file_extension": ".py",
   "mimetype": "text/x-python",
   "name": "python",
   "nbconvert_exporter": "python",
   "pygments_lexer": "ipython3",
   "version": "3.7.4"
  }
 },
 "nbformat": 4,
 "nbformat_minor": 4
}
