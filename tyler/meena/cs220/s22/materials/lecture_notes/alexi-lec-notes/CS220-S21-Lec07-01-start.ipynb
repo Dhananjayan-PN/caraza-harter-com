{
 "cells": [
  {
   "cell_type": "markdown",
   "metadata": {},
   "source": [
    "**Outline for Monday, February 8**\n",
    "\n",
    "Reading reminder:\n",
    " - Downey Ch 3\n",
    " - \"Creating Fruitful Functions\" (See schedule)\n",
    "\n",
    "You will be able to:\n",
    " - Write your own functions using...\n",
    "  - Correct basic syntax\n",
    "  - The `return` statement\n",
    "  - Parameters\n",
    " - Decide when to use `print` vs `return`\n",
    " - Begin practicing code **tracing**\n",
    "\n",
    "Definitions:\n",
    " - Positional arguments\n",
    " - Keyword arguments\n",
    " - Default arguments\n",
    " - `return`\n",
    " - Fruitful function"
   ]
  },
  {
   "cell_type": "markdown",
   "metadata": {},
   "source": [
    "**Function Syntax Basics**"
   ]
  },
  {
   "cell_type": "code",
   "execution_count": null,
   "metadata": {},
   "outputs": [],
   "source": []
  },
  {
   "cell_type": "markdown",
   "metadata": {},
   "source": [
    "**Types of functions**\n",
    "\n",
    "*Void*\n",
    "\n",
    "*Fruitful*"
   ]
  },
  {
   "cell_type": "markdown",
   "metadata": {},
   "source": [
    "**Types of input to functions**"
   ]
  },
  {
   "cell_type": "markdown",
   "metadata": {},
   "source": [
    "**Print vs Return**"
   ]
  }
 ],
 "metadata": {
  "kernelspec": {
   "display_name": "Python 3",
   "language": "python",
   "name": "python3"
  },
  "language_info": {
   "codemirror_mode": {
    "name": "ipython",
    "version": 3
   },
   "file_extension": ".py",
   "mimetype": "text/x-python",
   "name": "python",
   "nbconvert_exporter": "python",
   "pygments_lexer": "ipython3",
   "version": "3.7.4"
  }
 },
 "nbformat": 4,
 "nbformat_minor": 4
}
