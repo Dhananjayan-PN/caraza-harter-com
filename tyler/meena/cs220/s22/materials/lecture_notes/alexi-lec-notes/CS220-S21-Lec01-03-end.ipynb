{
 "cells": [
  {
   "cell_type": "markdown",
   "metadata": {},
   "source": [
    "**Parts of a Computer**"
   ]
  },
  {
   "cell_type": "markdown",
   "metadata": {},
   "source": [
    "- Input/Output (\"I/O\")\n",
    "- Processor (\"Central Processing Unit\" or \"CPU\")\n",
    "- Memory (\"Random Access Memory\" or \"RAM\")\n",
    "- Storage\n",
    "- Network Interface (\"Network Interface Controller\" or \"NIC\")"
   ]
  },
  {
   "cell_type": "markdown",
   "metadata": {},
   "source": [
    "*I/O*\n",
    "\n",
    "Examples of Input Devices\n",
    " - Keyboard\n",
    " - Microphone\n",
    " - Webcam\n",
    "\n",
    "Examples of Output Devices\n",
    " - Monitor\n",
    " - Speakers"
   ]
  },
  {
   "cell_type": "markdown",
   "metadata": {},
   "source": [
    "*CPU*\n",
    "Processor / Central Processing Unit / CPU\n",
    "\n",
    "The Brain!\n",
    "\n",
    "May have several!"
   ]
  },
  {
   "cell_type": "markdown",
   "metadata": {},
   "source": [
    "*RAM*\n",
    "\n",
    "Random Access Memory\n",
    "\n",
    "Short term memory\n",
    " - Fast to access\n",
    " - Relatively little of it (~10 gigabytes)\n",
    " \n",
    "A gigabyte = 1 billion bytes\n",
    "A byte = 1 letter\n",
    "\n",
    "\"Volatile\" - When I turn off my computer, it goes away"
   ]
  },
  {
   "cell_type": "markdown",
   "metadata": {},
   "source": [
    "*Storage*\n",
    "\n",
    "Long term memory\n",
    " - Slower to access\n",
    " - Lots of it (1+ terabytes)\n",
    " \n",
    "A terabyte 1000 gigabytes\n",
    "\n",
    "\"Persistent\" - data stored is still present after I turn off my computer\n",
    "\n",
    "HDD / Hard Disk / Hard Drive\n",
    " - Old, cheap, relatively slow, has moving parts\n",
    "SSD / Solid State Drive\n",
    " - New, expensive, faster, has NO moving parts"
   ]
  },
  {
   "cell_type": "markdown",
   "metadata": {},
   "source": [
    "*Network Interface*\n",
    "\n",
    "Wired or Wireless\n",
    "\n",
    "\"Client\" and \"Server\"\n",
    "- Client is (usually) you\n",
    "- Server is what has the data that you're trying to access"
   ]
  }
 ],
 "metadata": {
  "kernelspec": {
   "display_name": "Python 3",
   "language": "python",
   "name": "python3"
  },
  "language_info": {
   "codemirror_mode": {
    "name": "ipython",
    "version": 3
   },
   "file_extension": ".py",
   "mimetype": "text/x-python",
   "name": "python",
   "nbconvert_exporter": "python",
   "pygments_lexer": "ipython3",
   "version": "3.7.4"
  }
 },
 "nbformat": 4,
 "nbformat_minor": 4
}
