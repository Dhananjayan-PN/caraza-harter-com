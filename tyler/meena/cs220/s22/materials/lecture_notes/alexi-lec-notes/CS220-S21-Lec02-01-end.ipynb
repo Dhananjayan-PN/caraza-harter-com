{
 "cells": [
  {
   "cell_type": "markdown",
   "metadata": {},
   "source": [
    "**History of the Terminal**\n",
    "\n",
    "Refer to: https://en.wikipedia.org/wiki/Computer_terminal\n",
    "\n",
    "Terminal : endpoint of a large computing network \n",
    "\n",
    "One computer\n",
    " - At the center, a mainframe\n",
    " - At each endpoint of the network, a terminal\n",
    " "
   ]
  },
  {
   "cell_type": "markdown",
   "metadata": {},
   "source": [
    "**Why use a Terminal (Emulator)?**\n",
    "\n",
    "- Command line interface / command line\n",
    "\n",
    "Fully text-based interface\n",
    "BUT because of that, it is very fast\n",
    "And can connect to remote computers very easily\n",
    "And can run a lot of useful commands\n",
    "\n",
    "*List of common terminals*\n",
    "- Windows: \"cmd\" or Powershell\n",
    "- Mac: \"Terminal\"\n",
    "- Linux: \"Terminal\""
   ]
  },
  {
   "cell_type": "markdown",
   "metadata": {},
   "source": [
    "**Terminal Terms** (sorry)\n",
    "\n",
    "- Shell: Terminal emulator\n",
    "- Directory\n",
    "    A folder\n",
    "- Prompt\n",
    "    Appears to the left of the cursor\n",
    "    Shows some info about where we are\n",
    "    Sits to left of any commands we type\n",
    "- Path\n",
    "    Chain of directories leading up to (maybe) a filename\n",
    "    (Could just be directories)\n",
    "    Absolute\n",
    "        AAALLLLL the way from the root (wherever that is)\n",
    "    Relative\n",
    "        Relative to where we are now\n",
    "        . (current directory)\n",
    "        .. (parent directory)\n",
    "- Filename\n",
    "    Name of the file (not including the path leading up to it).\n",
    "- Extension\n",
    "    The part after the period in the filename.\n",
    "    \".ipynb\"\n",
    "    \".txt\"\n",
    "    \".exe\"\n",
    "- Command\n",
    "    Something that we type into the terminal emulator to tell it to do something"
   ]
  },
  {
   "cell_type": "markdown",
   "metadata": {},
   "source": [
    "**Common Commands**\n",
    "Windows : Mac/Linux\n",
    "- dir : ls (the letter, not a one!)\n",
    "- cd : cd (\"Change directory\")\n",
    "- mkdir : mkdir (\"make directory\") (\"rmdir\" = \"remove directory\")\n",
    "- type : cat (print out the text contents of a file)\n",
    "- echo : echo (put whatever text I supply into the terminal window)\n",
    "- > : > (Used along with some other command to send output to a file instead of sending it to the screen.)"
   ]
  }
 ],
 "metadata": {
  "kernelspec": {
   "display_name": "Python 3",
   "language": "python",
   "name": "python3"
  },
  "language_info": {
   "codemirror_mode": {
    "name": "ipython",
    "version": 3
   },
   "file_extension": ".py",
   "mimetype": "text/x-python",
   "name": "python",
   "nbconvert_exporter": "python",
   "pygments_lexer": "ipython3",
   "version": "3.7.4"
  }
 },
 "nbformat": 4,
 "nbformat_minor": 4
}
