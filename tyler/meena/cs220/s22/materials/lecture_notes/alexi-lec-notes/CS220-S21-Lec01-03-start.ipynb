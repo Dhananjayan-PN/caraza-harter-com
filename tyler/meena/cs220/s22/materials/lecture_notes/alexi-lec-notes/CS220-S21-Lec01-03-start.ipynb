{
 "cells": [
  {
   "cell_type": "markdown",
   "metadata": {},
   "source": [
    "**Parts of a Computer**"
   ]
  },
  {
   "cell_type": "markdown",
   "metadata": {},
   "source": [
    "- Input/Output (\"I/O\")\n",
    "- Processor (\"Central Processing Unit\" or \"CPU\")\n",
    "- Memory (\"Random Access Memory\" or \"RAM\")\n",
    "- Storage\n",
    "- Network Interface (\"Network Interface Controller\" or \"NIC\")"
   ]
  },
  {
   "cell_type": "markdown",
   "metadata": {},
   "source": [
    "*I/O*"
   ]
  },
  {
   "cell_type": "markdown",
   "metadata": {},
   "source": [
    "*CPU*"
   ]
  },
  {
   "cell_type": "markdown",
   "metadata": {},
   "source": [
    "*RAM*"
   ]
  },
  {
   "cell_type": "markdown",
   "metadata": {},
   "source": [
    "*Storage*"
   ]
  },
  {
   "cell_type": "markdown",
   "metadata": {},
   "source": [
    "*Network Interface*"
   ]
  }
 ],
 "metadata": {
  "kernelspec": {
   "display_name": "Python 3",
   "language": "python",
   "name": "python3"
  },
  "language_info": {
   "codemirror_mode": {
    "name": "ipython",
    "version": 3
   },
   "file_extension": ".py",
   "mimetype": "text/x-python",
   "name": "python",
   "nbconvert_exporter": "python",
   "pygments_lexer": "ipython3",
   "version": "3.7.4"
  }
 },
 "nbformat": 4,
 "nbformat_minor": 4
}
