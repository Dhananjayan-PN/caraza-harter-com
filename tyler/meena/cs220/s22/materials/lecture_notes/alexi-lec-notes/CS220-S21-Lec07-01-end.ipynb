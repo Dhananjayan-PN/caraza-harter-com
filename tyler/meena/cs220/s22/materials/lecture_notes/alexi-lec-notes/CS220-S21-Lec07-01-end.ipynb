{
 "cells": [
  {
   "cell_type": "markdown",
   "metadata": {},
   "source": [
    "**Outline for Monday, February 8**\n",
    "\n",
    "Reading reminder:\n",
    " - Downey Ch 3\n",
    " - \"Creating Fruitful Functions\" (See schedule)\n",
    "\n",
    "You will be able to:\n",
    " - Write your own functions using...\n",
    "  - Correct basic syntax\n",
    "  - The `return` statement\n",
    "  - Parameters\n",
    " - Decide when to use `print` vs `return`\n",
    " - Begin practicing code **tracing**\n",
    "\n",
    "Definitions:\n",
    " - Positional arguments\n",
    " - Keyword arguments\n",
    " - Default arguments\n",
    " - `return`\n",
    " - Fruitful function\n",
    "\n"
   ]
  },
  {
   "cell_type": "markdown",
   "metadata": {},
   "source": [
    "**Function Syntax Basics**\n",
    "\n",
    "\"def\" short for \"define\"\n",
    "\n",
    "\"def\" (fn name) \"(\" (parameters separated by commas) \"):\" <-- first line\n",
    "\n",
    "All following lines of code must be indented (the same amount)\n",
    "\n",
    "Notes\n",
    " - Function is like a cookbook recipe.\n",
    "     Example: a recipe for a cake\n",
    "     When I define it, that means I know how to make a cake\n",
    "     That doesn't actually mean that I have made a cake yet\n",
    "     When I INVOKE the function, the cake is made"
   ]
  },
  {
   "cell_type": "code",
   "execution_count": 3,
   "metadata": {},
   "outputs": [],
   "source": [
    "# Let's write a function that calculates the square of a given value and returns it\n",
    "def square(x):\n",
    "    #Python REALLY cares about indentation. Make sure the follow lines all get indented\n",
    "    #indentation means the code is \"inside\" the function definition\n",
    "    #print(x**2)\n",
    "    return x**2"
   ]
  },
  {
   "cell_type": "code",
   "execution_count": 6,
   "metadata": {},
   "outputs": [
    {
     "name": "stdout",
     "output_type": "stream",
     "text": [
      "30\n",
      "25 disappeared!\n"
     ]
    }
   ],
   "source": [
    "print(square(5) + 5) #fn invocation can be part of a larger expression!\n",
    "print(\"25 disappeared!\")"
   ]
  },
  {
   "cell_type": "markdown",
   "metadata": {},
   "source": [
    "**Types of functions**\n",
    "\n",
    "*Void*\n",
    " - Does not return anything (None is the default return value)\n",
    " - Generally designed to DO something\n",
    "\n",
    "*Fruitful*\n",
    " - Returns something\n",
    " - Generally designed around that return value. (Example: a math calculation)\n",
    " - Can also be \"side effects\""
   ]
  },
  {
   "cell_type": "markdown",
   "metadata": {},
   "source": [
    "**Types of input to functions**\n",
    " - Positional arguments\n",
    "  - First parameter gets the first argument, second the second argument, etc\n",
    "  - MUST go before Keyword arguments\n",
    " - Keyword arguments\n",
    "  - The argument is matched up with the parameter it got assigned to, regardless of order in the call\n",
    " - Default arguments\n",
    "  - In the function definition, we set a value that the parameter will get if there is no matching argument\n",
    "  - Must come after any parameters that don't have a default\n"
   ]
  },
  {
   "cell_type": "code",
   "execution_count": 20,
   "metadata": {},
   "outputs": [],
   "source": [
    "def f(x,y=\"220 Student!\"):\n",
    "    print(\"x got\",x)\n",
    "    print(\"y got\",y)"
   ]
  },
  {
   "cell_type": "code",
   "execution_count": 21,
   "metadata": {},
   "outputs": [
    {
     "name": "stdout",
     "output_type": "stream",
     "text": [
      "x got hi\n",
      "y got Alexi\n",
      "x got hi\n",
      "y got Meena\n",
      "x got hi\n",
      "y got Andy\n",
      "x got hi\n",
      "y got 220 Student!\n"
     ]
    }
   ],
   "source": [
    "f(\"hi\",\"Alexi\")\n",
    "f(x=\"hi\",y=\"Meena\")\n",
    "f(y=\"Andy\",x=\"hi\")\n",
    "#f(x=\"hi\",\"Alexi\") #<-- this produces a syntax error\n",
    "f(\"hi\")"
   ]
  },
  {
   "cell_type": "code",
   "execution_count": 27,
   "metadata": {},
   "outputs": [
    {
     "name": "stdout",
     "output_type": "stream",
     "text": [
      "This|is|an|example!\n",
      "...Example part 2!\n"
     ]
    }
   ],
   "source": [
    "#sep \"separator\" controls what goes between our position arguments to print(), default \" \"\n",
    "#end controls what goes at the end of the print statement, default \"\\n\"\n",
    "#Caution: \\n should work in Jupyter on any machine, but Mac and Windows use different newline characters\n",
    "# In the files.\n",
    "print(\"This\",\"is\",\"an\",\"example!\",sep=\"|\",end=\"\\n...\")\n",
    "print(\"Example part 2!\")"
   ]
  },
  {
   "cell_type": "markdown",
   "metadata": {},
   "source": [
    "**Print vs Return**\n",
    "\n"
   ]
  },
  {
   "cell_type": "code",
   "execution_count": 9,
   "metadata": {},
   "outputs": [],
   "source": [
    "#Define a \"countdown\" function\n",
    "def countdown_print():\n",
    "    \"\"\"I am automatically documentation for this function! I countdown 3,2,1,GO!\"\"\"\n",
    "    print(3)\n",
    "    print(2)\n",
    "    print(1)\n",
    "    print('GO!')\n",
    "\n",
    "def countdown_return():\n",
    "    \"\"\"I am automatically documentation for this function! I countdown 3,2,1,GO!\"\"\"\n",
    "    return 3 #Whenever we reach a return statement, that's the END of the function. We \"return\" to the fn call\n",
    "    return 2\n",
    "    return 1\n",
    "    return \"GO!\""
   ]
  },
  {
   "cell_type": "code",
   "execution_count": 10,
   "metadata": {},
   "outputs": [
    {
     "name": "stdout",
     "output_type": "stream",
     "text": [
      "3\n",
      "2\n",
      "1\n",
      "GO!\n"
     ]
    },
    {
     "data": {
      "text/plain": [
       "3"
      ]
     },
     "execution_count": 10,
     "metadata": {},
     "output_type": "execute_result"
    }
   ],
   "source": [
    "countdown_print()\n",
    "countdown_return()"
   ]
  },
  {
   "cell_type": "code",
   "execution_count": null,
   "metadata": {},
   "outputs": [],
   "source": []
  }
 ],
 "metadata": {
  "kernelspec": {
   "display_name": "Python 3",
   "language": "python",
   "name": "python3"
  },
  "language_info": {
   "codemirror_mode": {
    "name": "ipython",
    "version": 3
   },
   "file_extension": ".py",
   "mimetype": "text/x-python",
   "name": "python",
   "nbconvert_exporter": "python",
   "pygments_lexer": "ipython3",
   "version": "3.7.4"
  }
 },
 "nbformat": 4,
 "nbformat_minor": 4
}
