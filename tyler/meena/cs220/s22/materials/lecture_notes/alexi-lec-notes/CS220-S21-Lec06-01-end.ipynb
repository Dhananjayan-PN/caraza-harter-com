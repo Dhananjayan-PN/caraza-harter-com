{
 "cells": [
  {
   "cell_type": "markdown",
   "metadata": {},
   "source": [
    "**Outline for Friday, February 5**\n",
    "\n",
    "You will be able to:\n",
    " - Call existing Python functions\n",
    " - Collect user input and produce output to the screen\n",
    " - Import common Python modules\n",
    "\n",
    "Definitions\n",
    " - Function: A grouping of code, a way for us to tell our program to run that entire group of code.\n",
    " - Call/Invoke: A statement in Python code that instructs the program to go run all the lines of code in a function, and then come back afterward.\n",
    " - Parameter: A variable, defined inside the function (so don't try to use it outside of the function!), gets a value just once. When the function is called, it is assigned the argument as its value\n",
    " - Argument: A value that I provide to a function. Placed within the parentheses when I call the function\n",
    " - Return value\n",
    " - Refactor\n",
    " - Default argument\n",
    " - Named argument (or Keyword argument)"
   ]
  },
  {
   "cell_type": "markdown",
   "metadata": {},
   "source": [
    "- What is it? What is a Function?\n",
    "- Why are we talking about this? Why might I want to use a Function?\n",
    " - \"Abstraction\" I don't need to know how all of the inner parts of a function works. (Example: I don't need to know how print() works, I just need to know what it does and how to use it.)\n",
    " - Avoid writing repeated code.\n",
    "- How does it work? What are the parts of a Function? How do I write my own Functions?\n",
    "- Where are existing resources? Where are there existing Functions I can use?"
   ]
  },
  {
   "cell_type": "markdown",
   "metadata": {},
   "source": [
    "**Calling (\"Invoking\") a Function in Python**\n",
    "\n",
    "`print(\"hi\")`\n",
    "`type(4)`\n",
    "\n",
    "- ALWAYS: Name of the function\n",
    "- ALWAYS: Parentheses\n",
    "- SOMETIMES: Supply an argument to each function parameter\n",
    "- SOMETIMES: When the function is done computing, it may **return** a value\n",
    "\n",
    "`type_that_is_int = type(4)`"
   ]
  },
  {
   "cell_type": "code",
   "execution_count": 1,
   "metadata": {},
   "outputs": [
    {
     "name": "stdout",
     "output_type": "stream",
     "text": [
      "Hello my name is Inigo Montoya\n",
      "None\n",
      "<class 'int'>\n",
      "What is your name?A\n",
      "Hello. My name is A\n",
      "Number to square: 4\n",
      "16.0\n",
      "4\n"
     ]
    }
   ],
   "source": [
    "#Functions that we've seen before:\n",
    "\n",
    "#print()\n",
    "x = print(\"Hello\",\"my name is Inigo Montoya\") #Arguments are separated by commas, print can take any number of arguments\n",
    "print(x) #print does NOT return a value. If I try to assign some variable equal to it, I get \"None\"\n",
    "\n",
    "#type()\n",
    "type_that_is_int = type(4) #Type returns a value\n",
    "print(type_that_is_int)\n",
    "\n",
    "#New functions:\n",
    "\n",
    "#input()\n",
    "ans = input(\"What is your name?\") #Gets user input, argument is a prompt to the user\n",
    "print(\"Hello. My name is\",ans)\n",
    "\n",
    "#float()\n",
    "x = input(\"Number to square: \") #input returns a str\n",
    "x = float(x)\n",
    "print(x**2)\n",
    "#int()\n",
    "y = 4.7\n",
    "y = int(y)\n",
    "print(y)"
   ]
  },
  {
   "cell_type": "markdown",
   "metadata": {},
   "source": [
    "**Modules**\n",
    "\n",
    "- Math\n",
    "- Random\n",
    "- Time\n",
    "- Guess <-- a custom module we just created!\n",
    "\n",
    "A module is a collection of functions (and sometimes other resources) that we can **import**."
   ]
  },
  {
   "cell_type": "code",
   "execution_count": 5,
   "metadata": {},
   "outputs": [
    {
     "name": "stdout",
     "output_type": "stream",
     "text": [
      "4.0\n",
      "We're about to time how fast Python prints things!\n",
      "Printing took 0.0 seconds.\n",
      "14\n",
      "Help on module guess:\n",
      "\n",
      "NAME\n",
      "    guess\n",
      "\n",
      "FUNCTIONS\n",
      "    add(x, y)\n",
      "    \n",
      "    f(x)\n",
      "    \n",
      "    mult(x, y)\n",
      "\n",
      "FILE\n",
      "    e:\\programming\\cs220-s21\\alexi\\lecture-notes\\guess.py\n",
      "\n",
      "\n",
      "Called add: 12\n",
      "Called f: -215\n"
     ]
    }
   ],
   "source": [
    "import math\n",
    "import random\n",
    "from time import time #time is the name of a function inside the time module\n",
    "import guess as g\n",
    "\n",
    "#Step 1: (above) IMPORT the module\n",
    "#Step 2: call one of the module's functions\n",
    "\n",
    "#Example: sqrt() \"square root\" in math\n",
    "print(math.sqrt(16)) # I have to call module.f_name()\n",
    "\n",
    "#Example: If I used the \"from\" approach, just call the function directly\n",
    "start_time = time()\n",
    "print(\"We're about to time how fast Python prints things!\")\n",
    "end_time = time()\n",
    "print(\"Printing took\",end_time-start_time,\"seconds.\")\n",
    "\n",
    "#Example: randint()\n",
    "x = random.randint(1,10)\n",
    "y = random.randint(1,10)\n",
    "print(x*y)\n",
    "\n",
    "    #Question to think about: randint() gives a random integer \"between\" its first argument and its second argument.\n",
    "    #Inclusive? Exclusive?\n",
    "    \n",
    "#To research a module, look up its documentation online\n",
    "#BUT can also use the \"help\" function\n",
    "help(g)\n",
    "z = g.add(5,7)\n",
    "print(\"Called add:\",z)\n",
    "print(\"Called f:\",g.f(6))"
   ]
  },
  {
   "cell_type": "code",
   "execution_count": null,
   "metadata": {},
   "outputs": [],
   "source": []
  }
 ],
 "metadata": {
  "kernelspec": {
   "display_name": "Python 3",
   "language": "python",
   "name": "python3"
  },
  "language_info": {
   "codemirror_mode": {
    "name": "ipython",
    "version": 3
   },
   "file_extension": ".py",
   "mimetype": "text/x-python",
   "name": "python",
   "nbconvert_exporter": "python",
   "pygments_lexer": "ipython3",
   "version": "3.7.4"
  }
 },
 "nbformat": 4,
 "nbformat_minor": 4
}
