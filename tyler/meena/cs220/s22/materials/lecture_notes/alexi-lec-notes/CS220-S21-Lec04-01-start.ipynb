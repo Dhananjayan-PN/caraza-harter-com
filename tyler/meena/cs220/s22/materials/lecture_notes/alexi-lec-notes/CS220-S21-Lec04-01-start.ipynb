{
 "cells": [
  {
   "cell_type": "markdown",
   "metadata": {},
   "source": [
    "**Outline for Monday, February 1**\n",
    "\n",
    "You will be able to:\n",
    " - Run Python code\n",
    " - Launch Jupyter Notebooks\n",
    " - Write valid Python expressions using\n",
    "  - Mathematical operators\n",
    "  - Comparison operators\n",
    "  - Logical operators\n",
    "  - int, float, str, and bool data types\n",
    " - Make and test your own theories about what Python code does"
   ]
  },
  {
   "cell_type": "code",
   "execution_count": 2,
   "metadata": {},
   "outputs": [
    {
     "name": "stdout",
     "output_type": "stream",
     "text": [
      "I am a code cell\n"
     ]
    },
    {
     "data": {
      "text/plain": [
       "2"
      ]
     },
     "execution_count": 2,
     "metadata": {},
     "output_type": "execute_result"
    }
   ],
   "source": [
    "print(\"I am a code cell\")\n",
    "1 + 1"
   ]
  },
  {
   "cell_type": "code",
   "execution_count": 10,
   "metadata": {},
   "outputs": [
    {
     "name": "stdout",
     "output_type": "stream",
     "text": [
      "<class 'int'>\n",
      "<class 'float'>\n",
      "<class 'str'>\n",
      "<class 'bool'>\n",
      "<class 'bool'>\n"
     ]
    },
    {
     "ename": "NameError",
     "evalue": "name 'false' is not defined",
     "output_type": "error",
     "traceback": [
      "\u001b[1;31m---------------------------------------------------------------------------\u001b[0m",
      "\u001b[1;31mNameError\u001b[0m                                 Traceback (most recent call last)",
      "\u001b[1;32m<ipython-input-10-b918181bbc0b>\u001b[0m in \u001b[0;36m<module>\u001b[1;34m\u001b[0m\n\u001b[0;32m      4\u001b[0m \u001b[0mprint\u001b[0m\u001b[1;33m(\u001b[0m\u001b[0mtype\u001b[0m\u001b[1;33m(\u001b[0m\u001b[1;32mTrue\u001b[0m\u001b[1;33m)\u001b[0m\u001b[1;33m)\u001b[0m\u001b[1;33m\u001b[0m\u001b[1;33m\u001b[0m\u001b[0m\n\u001b[0;32m      5\u001b[0m \u001b[0mprint\u001b[0m\u001b[1;33m(\u001b[0m\u001b[0mtype\u001b[0m\u001b[1;33m(\u001b[0m\u001b[1;32mFalse\u001b[0m\u001b[1;33m)\u001b[0m\u001b[1;33m)\u001b[0m\u001b[1;33m\u001b[0m\u001b[1;33m\u001b[0m\u001b[0m\n\u001b[1;32m----> 6\u001b[1;33m \u001b[0mprint\u001b[0m\u001b[1;33m(\u001b[0m\u001b[0mtype\u001b[0m\u001b[1;33m(\u001b[0m\u001b[0mfalse\u001b[0m\u001b[1;33m)\u001b[0m\u001b[1;33m)\u001b[0m\u001b[1;33m\u001b[0m\u001b[1;33m\u001b[0m\u001b[0m\n\u001b[0m",
      "\u001b[1;31mNameError\u001b[0m: name 'false' is not defined"
     ]
    }
   ],
   "source": [
    "print(type(1)) #int\n",
    "print(type(2.5)) #float\n",
    "print(type(\"Hello world!\")) #str\n",
    "print(type(True))\n",
    "print(type(False))\n",
    "print(type(false))"
   ]
  },
  {
   "cell_type": "markdown",
   "metadata": {},
   "source": [
    "**Operators**\n",
    "\n",
    "Mathematical: +,-,/,%,* (NOT AN EXHAUSTIVE LIST)\n",
    "Logical: and, or, not\n",
    "Comparison: >, <, >=, <=, !=, =="
   ]
  },
  {
   "cell_type": "code",
   "execution_count": 20,
   "metadata": {},
   "outputs": [
    {
     "name": "stdout",
     "output_type": "stream",
     "text": [
      "6\n",
      "6\n",
      "2\n",
      "0\n",
      "3.0\n",
      "3\n",
      "2\n"
     ]
    }
   ],
   "source": [
    "#2 x 3\n",
    "#Gave a syntax error!\n",
    "\n",
    "print(2 * 3)\n",
    "print((2)*(3)) #This is ok as long as we include the asterisk\n",
    "# Or another operator, like the %\n",
    "print((2)%(3))\n",
    "print(6%2)\n",
    "print(12/4)\n",
    "print(12//4)\n",
    "print(11//4)"
   ]
  },
  {
   "cell_type": "code",
   "execution_count": 26,
   "metadata": {},
   "outputs": [
    {
     "name": "stdout",
     "output_type": "stream",
     "text": [
      "False\n",
      "1\n",
      "0\n",
      "False\n",
      "True\n",
      "True\n"
     ]
    }
   ],
   "source": [
    "print(not True)\n",
    "print(1 and 1)\n",
    "print(1 and 0)\n",
    "print(not \"Hi\")\n",
    "print(not not \"Hi\")\n",
    "print(not \"\")"
   ]
  },
  {
   "cell_type": "code",
   "execution_count": 28,
   "metadata": {},
   "outputs": [
    {
     "name": "stdout",
     "output_type": "stream",
     "text": [
      "False\n",
      "False\n",
      "True\n"
     ]
    }
   ],
   "source": [
    "print(2 == 3)\n",
    "print(2 > 3)\n",
    "print(5 <= 15.2)"
   ]
  },
  {
   "cell_type": "code",
   "execution_count": 31,
   "metadata": {},
   "outputs": [
    {
     "name": "stdout",
     "output_type": "stream",
     "text": [
      "3\n",
      "0\n",
      "0\n"
     ]
    }
   ],
   "source": [
    "print(1 and 3)\n",
    "print(0 and 1)\n",
    "print(1 - 1 and 3)\n",
    "#Should either get 0 if the math operator goes first\n",
    "#OR get -2 if the logical operator goes first\n",
    "#Hypothesis: get 0\n",
    "#Result: did get 0, so math operators > logical operators"
   ]
  },
  {
   "cell_type": "code",
   "execution_count": 32,
   "metadata": {},
   "outputs": [
    {
     "name": "stdout",
     "output_type": "stream",
     "text": [
      "the dog said \"roof\"\n",
      "the dog said \"roof\"\n",
      "I'm an escape character \\!\n"
     ]
    }
   ],
   "source": [
    "#print(the dog said \"roof\")\n",
    "#print(\"the dog said \"roof\"\")\n",
    "print('the dog said \"roof\"')\n",
    "print(\"the dog said \\\"roof\\\"\") #escape character: \\\n",
    "print('I\\'m an escape character \\\\!')\n"
   ]
  },
  {
   "cell_type": "code",
   "execution_count": null,
   "metadata": {},
   "outputs": [],
   "source": []
  }
 ],
 "metadata": {
  "kernelspec": {
   "display_name": "Python 3",
   "language": "python",
   "name": "python3"
  },
  "language_info": {
   "codemirror_mode": {
    "name": "ipython",
    "version": 3
   },
   "file_extension": ".py",
   "mimetype": "text/x-python",
   "name": "python",
   "nbconvert_exporter": "python",
   "pygments_lexer": "ipython3",
   "version": "3.7.4"
  }
 },
 "nbformat": 4,
 "nbformat_minor": 4
}
