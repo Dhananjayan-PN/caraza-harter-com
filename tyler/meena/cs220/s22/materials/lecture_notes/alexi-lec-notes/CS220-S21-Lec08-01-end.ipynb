{
 "cells": [
  {
   "cell_type": "markdown",
   "metadata": {},
   "source": [
    "**Outline for Wednesday, February 10**\n",
    "\n",
    "You will be able to:\n",
    " - Identify properties of *local* and *global* variables\n",
    "  - When are they created?\n",
    "  - When do they \"die\"?\n",
    "  - When are they shared?\n",
    "  - Where are they stored?\n",
    "  - How are they accessed?\n",
    "\n",
    "Definitions:\n",
    " - Frame\n",
    " - Scope\n",
    " - Local variable\n",
    " - Global variable\n",
    " - Pass by value"
   ]
  },
  {
   "cell_type": "markdown",
   "metadata": {},
   "source": [
    "**Context Matters**\n",
    "- Name: In my lecture videos, \"Alexi\" refers to me. (But there are other Alexis in the world!)\n",
    "- Street address: State St might refer to the road between campus and downtown Madison (but there are other State Sts)\n",
    "- Functions: A `speak` function for a cat module is different from one for a parrot module\n",
    "- Files: Each of you submitted main.ipynb--I need to tell them apart!\n",
    "\n",
    "- How do we organize our variables? (How do we deal with multiple variables in our code that might have the same name?)\n",
    "- How do we know what a variable name refers to?"
   ]
  },
  {
   "cell_type": "markdown",
   "metadata": {},
   "source": [
    "**Frame**\n",
    "\n",
    "When I invoke a function, that function invocation is assigned a new frame.\n",
    " - This frame holds variables\n",
    " - Or function definitions\n",
    " \n",
    "I also have a single \"global\" frame that always exists\n",
    "\n",
    "If I ask for variable \"foo\", python looks in two places:\n",
    "1. in the frame of the function that I asked for foo in\n",
    "2. in the global frame\n",
    "\n",
    "A variable's **scope** is the frame where it can be found/accessed"
   ]
  },
  {
   "cell_type": "code",
   "execution_count": 1,
   "metadata": {},
   "outputs": [
    {
     "name": "stdout",
     "output_type": "stream",
     "text": [
      "Is this real lifeIs this just fantasy\n",
      "Is this real lifeIs this just fantasy\n"
     ]
    }
   ],
   "source": [
    "def print_twice(text):\n",
    "    print(text)\n",
    "    print(text)\n",
    "    \n",
    "def print_abab(a,b):\n",
    "    combo = a + b #should be strings, so we'll concatenate\n",
    "    print_twice(combo)\n",
    "    \n",
    "line1 = \"Is this real life\"\n",
    "line2 = \"Is this just fantasy\"\n",
    "print_abab(line1,line2)"
   ]
  },
  {
   "cell_type": "markdown",
   "metadata": {},
   "source": [
    "**Local Variables - Principles**\n",
    "\n",
    "(Defined inside a function - NOT in the global frame)\n",
    "1. Functions don't execute unless they're called\n",
    "2. Variables created inside a function (local variables) \"die\" after the function call completes/returns\n",
    "3. Variables are created \"fresh\" every time a function is invoked again\n",
    "4. You can't see variables in other functions' frames (even if it was a function that called you!) (This is called a variable being \"out of scope\")"
   ]
  },
  {
   "cell_type": "code",
   "execution_count": 4,
   "metadata": {},
   "outputs": [
    {
     "name": "stdout",
     "output_type": "stream",
     "text": [
      "Hi\n"
     ]
    },
    {
     "ename": "NameError",
     "evalue": "name 'x' is not defined",
     "output_type": "error",
     "traceback": [
      "\u001b[1;31m---------------------------------------------------------------------------\u001b[0m",
      "\u001b[1;31mNameError\u001b[0m                                 Traceback (most recent call last)",
      "\u001b[1;32m<ipython-input-4-97cb9d492758>\u001b[0m in \u001b[0;36m<module>\u001b[1;34m\u001b[0m\n\u001b[0;32m      4\u001b[0m \u001b[1;33m\u001b[0m\u001b[0m\n\u001b[0;32m      5\u001b[0m \u001b[0mset_x\u001b[0m\u001b[1;33m(\u001b[0m\u001b[1;33m)\u001b[0m\u001b[1;33m\u001b[0m\u001b[1;33m\u001b[0m\u001b[0m\n\u001b[1;32m----> 6\u001b[1;33m \u001b[0mprint\u001b[0m\u001b[1;33m(\u001b[0m\u001b[0mx\u001b[0m\u001b[1;33m)\u001b[0m\u001b[1;33m\u001b[0m\u001b[1;33m\u001b[0m\u001b[0m\n\u001b[0m",
      "\u001b[1;31mNameError\u001b[0m: name 'x' is not defined"
     ]
    }
   ],
   "source": [
    "def set_x():\n",
    "    print(\"Hi\")\n",
    "    x = 10\n",
    "\n",
    "set_x()\n",
    "print(x)"
   ]
  },
  {
   "cell_type": "code",
   "execution_count": 6,
   "metadata": {},
   "outputs": [
    {
     "name": "stdout",
     "output_type": "stream",
     "text": [
      "2\n",
      "2\n",
      "2\n"
     ]
    }
   ],
   "source": [
    "def count_up():\n",
    "    x = 1\n",
    "    x += 1\n",
    "    print(x)\n",
    "    \n",
    "count_up()\n",
    "count_up()\n",
    "count_up()"
   ]
  },
  {
   "cell_type": "code",
   "execution_count": 7,
   "metadata": {},
   "outputs": [
    {
     "ename": "NameError",
     "evalue": "name 'x' is not defined",
     "output_type": "error",
     "traceback": [
      "\u001b[1;31m---------------------------------------------------------------------------\u001b[0m",
      "\u001b[1;31mNameError\u001b[0m                                 Traceback (most recent call last)",
      "\u001b[1;32m<ipython-input-7-8badce4903eb>\u001b[0m in \u001b[0;36m<module>\u001b[1;34m\u001b[0m\n\u001b[0;32m      6\u001b[0m     \u001b[0mdisplay_x\u001b[0m\u001b[1;33m(\u001b[0m\u001b[1;33m)\u001b[0m\u001b[1;33m\u001b[0m\u001b[1;33m\u001b[0m\u001b[0m\n\u001b[0;32m      7\u001b[0m \u001b[1;33m\u001b[0m\u001b[0m\n\u001b[1;32m----> 8\u001b[1;33m \u001b[0mmain\u001b[0m\u001b[1;33m(\u001b[0m\u001b[1;33m)\u001b[0m\u001b[1;33m\u001b[0m\u001b[1;33m\u001b[0m\u001b[0m\n\u001b[0m",
      "\u001b[1;32m<ipython-input-7-8badce4903eb>\u001b[0m in \u001b[0;36mmain\u001b[1;34m()\u001b[0m\n\u001b[0;32m      4\u001b[0m \u001b[1;32mdef\u001b[0m \u001b[0mmain\u001b[0m\u001b[1;33m(\u001b[0m\u001b[1;33m)\u001b[0m\u001b[1;33m:\u001b[0m\u001b[1;33m\u001b[0m\u001b[1;33m\u001b[0m\u001b[0m\n\u001b[0;32m      5\u001b[0m     \u001b[0mx\u001b[0m \u001b[1;33m=\u001b[0m \u001b[1;36m10\u001b[0m\u001b[1;33m\u001b[0m\u001b[1;33m\u001b[0m\u001b[0m\n\u001b[1;32m----> 6\u001b[1;33m     \u001b[0mdisplay_x\u001b[0m\u001b[1;33m(\u001b[0m\u001b[1;33m)\u001b[0m\u001b[1;33m\u001b[0m\u001b[1;33m\u001b[0m\u001b[0m\n\u001b[0m\u001b[0;32m      7\u001b[0m \u001b[1;33m\u001b[0m\u001b[0m\n\u001b[0;32m      8\u001b[0m \u001b[0mmain\u001b[0m\u001b[1;33m(\u001b[0m\u001b[1;33m)\u001b[0m\u001b[1;33m\u001b[0m\u001b[1;33m\u001b[0m\u001b[0m\n",
      "\u001b[1;32m<ipython-input-7-8badce4903eb>\u001b[0m in \u001b[0;36mdisplay_x\u001b[1;34m()\u001b[0m\n\u001b[0;32m      1\u001b[0m \u001b[1;32mdef\u001b[0m \u001b[0mdisplay_x\u001b[0m\u001b[1;33m(\u001b[0m\u001b[1;33m)\u001b[0m\u001b[1;33m:\u001b[0m\u001b[1;33m\u001b[0m\u001b[1;33m\u001b[0m\u001b[0m\n\u001b[1;32m----> 2\u001b[1;33m     \u001b[0mprint\u001b[0m\u001b[1;33m(\u001b[0m\u001b[0mx\u001b[0m\u001b[1;33m)\u001b[0m\u001b[1;33m\u001b[0m\u001b[1;33m\u001b[0m\u001b[0m\n\u001b[0m\u001b[0;32m      3\u001b[0m \u001b[1;33m\u001b[0m\u001b[0m\n\u001b[0;32m      4\u001b[0m \u001b[1;32mdef\u001b[0m \u001b[0mmain\u001b[0m\u001b[1;33m(\u001b[0m\u001b[1;33m)\u001b[0m\u001b[1;33m:\u001b[0m\u001b[1;33m\u001b[0m\u001b[1;33m\u001b[0m\u001b[0m\n\u001b[0;32m      5\u001b[0m     \u001b[0mx\u001b[0m \u001b[1;33m=\u001b[0m \u001b[1;36m10\u001b[0m\u001b[1;33m\u001b[0m\u001b[1;33m\u001b[0m\u001b[0m\n",
      "\u001b[1;31mNameError\u001b[0m: name 'x' is not defined"
     ]
    }
   ],
   "source": [
    "def display_x():\n",
    "    print(x)\n",
    "    \n",
    "def main():\n",
    "    x = 10\n",
    "    display_x()\n",
    "    \n",
    "main()"
   ]
  },
  {
   "cell_type": "markdown",
   "metadata": {},
   "source": [
    "**Global Variables**\n",
    "\n",
    "Good coding practice: Avoid global variables as much as possible!\n",
    "5. Global variables can generally just be used anywhere (in or out of a function)\n",
    "6. If you assign to a variable name inside a function, Python assumes you want a local variable (even if there's a global variable with the same name!)\n",
    "  - Example of a \"name collision\". Remember, Python checks for a local variable first.\n",
    "7. MUST assign a value to a local variable before using it in a function, even if there's a global variable with the same name. (Can't use the global variable as a \"backup\".)\n",
    "8. Use a `global` declaration to prevent the function frame from creating a local variable (use this when you want to use the global variable instead)"
   ]
  },
  {
   "cell_type": "code",
   "execution_count": 11,
   "metadata": {},
   "outputs": [
    {
     "name": "stdout",
     "output_type": "stream",
     "text": [
      "before:  hello\n",
      "hello\n",
      "after:  welcome!\n"
     ]
    }
   ],
   "source": [
    "msg = \"hello\"\n",
    "\n",
    "def greet():\n",
    "    global msg\n",
    "    print(msg)\n",
    "    msg = \"welcome!\"\n",
    "    \n",
    "print(\"before: \",msg)\n",
    "greet()\n",
    "print(\"after: \",msg)"
   ]
  },
  {
   "cell_type": "markdown",
   "metadata": {},
   "source": [
    "**Argument Passing**\n",
    "9. In Python, arguments are \"passed by value\" meaning if we change the parameter inside the function call, that doesn't change the variable that was the argument outside. (The argument's value is passed to the parameter, not the the argument itself being passed.)\n",
    "10. It doesn't matter at all, whether the argument (outside) has the same name as the parameter (inside)."
   ]
  },
  {
   "cell_type": "code",
   "execution_count": 13,
   "metadata": {},
   "outputs": [
    {
     "name": "stdout",
     "output_type": "stream",
     "text": [
      "val-before A\n",
      "inside-before A\n",
      "inside-after B\n",
      "val-after A\n"
     ]
    }
   ],
   "source": [
    "def f(x):\n",
    "    print(\"inside-before\",x)\n",
    "    x = \"B\"\n",
    "    print(\"inside-after\",x)\n",
    "    \n",
    "val = \"A\"\n",
    "print(\"val-before\",val)\n",
    "f(val)\n",
    "print(\"val-after\",val)"
   ]
  },
  {
   "cell_type": "code",
   "execution_count": 14,
   "metadata": {},
   "outputs": [
    {
     "name": "stdout",
     "output_type": "stream",
     "text": [
      "val-before A\n",
      "inside-before A\n",
      "inside-after B\n",
      "val-after A\n"
     ]
    }
   ],
   "source": [
    "def f(x):\n",
    "    print(\"inside-before\",x)\n",
    "    x = \"B\"\n",
    "    print(\"inside-after\",x)\n",
    "    \n",
    "x = \"A\"\n",
    "print(\"val-before\",x)\n",
    "f(x)\n",
    "print(\"val-after\",x)"
   ]
  },
  {
   "cell_type": "code",
   "execution_count": null,
   "metadata": {},
   "outputs": [],
   "source": []
  }
 ],
 "metadata": {
  "kernelspec": {
   "display_name": "Python 3",
   "language": "python",
   "name": "python3"
  },
  "language_info": {
   "codemirror_mode": {
    "name": "ipython",
    "version": 3
   },
   "file_extension": ".py",
   "mimetype": "text/x-python",
   "name": "python",
   "nbconvert_exporter": "python",
   "pygments_lexer": "ipython3",
   "version": "3.7.4"
  }
 },
 "nbformat": 4,
 "nbformat_minor": 4
}
