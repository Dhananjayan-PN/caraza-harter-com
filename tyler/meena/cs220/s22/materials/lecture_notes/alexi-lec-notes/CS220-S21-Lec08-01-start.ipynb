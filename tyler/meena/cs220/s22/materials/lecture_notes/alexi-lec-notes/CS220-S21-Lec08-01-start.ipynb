{
 "cells": [
  {
   "cell_type": "markdown",
   "metadata": {},
   "source": [
    "**Outline for Wednesday, February 10**\n",
    "\n",
    "You will be able to:\n",
    " - Identify properties of *local* and *global* variables\n",
    "  - When are they created?\n",
    "  - When do they \"die\"?\n",
    "  - When are they shared?\n",
    "  - Where are they stored?\n",
    "  - How are they accessed?\n",
    "\n",
    "Definitions:\n",
    " - Frame\n",
    " - **Scope**\n",
    " - Local variable\n",
    " - Global variable\n",
    " - Pass by value"
   ]
  },
  {
   "cell_type": "markdown",
   "metadata": {},
   "source": [
    "**Context Matters**\n",
    "- Name: In my lecture videos, \"Alexi\" refers to me. (But there are other Alexis in the world!)\n",
    "- Street address: State St might refer to the road between campus and downtown Madison (but there are other State Sts)\n",
    "- Functions: A `speak` function for a cat module is different from one for a parrot module\n",
    "- Files: Each of you submitted main.ipynb--I need to tell them apart!\n",
    "\n"
   ]
  },
  {
   "cell_type": "markdown",
   "metadata": {},
   "source": [
    "**Frame**"
   ]
  },
  {
   "cell_type": "code",
   "execution_count": null,
   "metadata": {},
   "outputs": [],
   "source": []
  },
  {
   "cell_type": "markdown",
   "metadata": {},
   "source": [
    "**Local Variables - Principles**\n",
    "1. \n",
    "2. \n",
    "3. \n",
    "4. "
   ]
  },
  {
   "cell_type": "code",
   "execution_count": null,
   "metadata": {},
   "outputs": [],
   "source": []
  },
  {
   "cell_type": "markdown",
   "metadata": {},
   "source": [
    "**Global Variables**\n",
    "5. \n",
    "6. \n",
    "7. \n",
    "8. "
   ]
  },
  {
   "cell_type": "code",
   "execution_count": null,
   "metadata": {},
   "outputs": [],
   "source": []
  },
  {
   "cell_type": "markdown",
   "metadata": {},
   "source": [
    "**Argument Passing**\n",
    "9. \n",
    "10. "
   ]
  },
  {
   "cell_type": "code",
   "execution_count": null,
   "metadata": {},
   "outputs": [],
   "source": []
  }
 ],
 "metadata": {
  "kernelspec": {
   "display_name": "Python 3",
   "language": "python",
   "name": "python3"
  },
  "language_info": {
   "codemirror_mode": {
    "name": "ipython",
    "version": 3
   },
   "file_extension": ".py",
   "mimetype": "text/x-python",
   "name": "python",
   "nbconvert_exporter": "python",
   "pygments_lexer": "ipython3",
   "version": "3.7.4"
  }
 },
 "nbformat": 4,
 "nbformat_minor": 4
}
