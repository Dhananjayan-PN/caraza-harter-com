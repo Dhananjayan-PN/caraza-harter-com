{
 "cells": [
  {
   "cell_type": "markdown",
   "metadata": {},
   "source": [
    "**Outline for Wednesday, February 3**\n",
    "\n",
    "You will be able to:\n",
    " - Assign values to variables\n",
    " - Access the values currently held by variables\n",
    " - Categorize errors based on common characteristics\n",
    " - Select good variable names (and identify bad ones)\n",
    " \n",
    "Definitions\n",
    " - Expression: Combination of operators and operands\n",
    " - Evaluate: To simplify an expression down to the simplest possible value\n",
    " - Operator vs Operand\n",
    "  - Operator: +, -, and, or, not, <, ==, etc\n",
    "  - Operand: Some thing with some value? Basically everything that isn't an operator\n",
    " - Variable vs Literal\n",
    "  - Literal: Something that just *is* its value. example: 5, \"hi\", True, False\n",
    "  - Variable: A label that may take on multiple different values over time\n",
    " - Categories of errors\n",
    "  1. ???\n",
    "  2. ???\n",
    "  3. ???"
   ]
  },
  {
   "cell_type": "code",
   "execution_count": 1,
   "metadata": {},
   "outputs": [
    {
     "data": {
      "text/plain": [
       "10"
      ]
     },
     "execution_count": 1,
     "metadata": {},
     "output_type": "execute_result"
    }
   ],
   "source": [
    "5 + 5 #An expression\n",
    "#+ is the operator\n",
    "#It expects two operands (numbers usually, strings work too!)\n",
    "#It combines them, either mathematically or through concatenation"
   ]
  },
  {
   "cell_type": "code",
   "execution_count": null,
   "metadata": {},
   "outputs": [],
   "source": [
    "(8/2) ** 2 * 3.14\n",
    "3 * 3 > 4 + 4 #Evaluates to True\n",
    "3 % 2 == 0 or 3 % 2 == 1 #Whole expression evaluates to True as well"
   ]
  },
  {
   "cell_type": "code",
   "execution_count": 5,
   "metadata": {},
   "outputs": [
    {
     "name": "stdout",
     "output_type": "stream",
     "text": [
      "10\n",
      "I'm a string now!\n",
      "I'm a string now!\n",
      "I'm a string now! Too!\n",
      "I'm a string now! Too!\n"
     ]
    }
   ],
   "source": [
    "x = 5 + 5 # = is the \"assignment operator\"\n",
    "# [name of a variable] = [expression]\n",
    "# Assign the value that the expression evaluates to as the new value of that variable\n",
    "print(x)\n",
    "x = \"I'm a string now!\"\n",
    "print(x)\n",
    "y = x + \" Too!\"\n",
    "print(x) #x is unchanged\n",
    "print(y)\n",
    "x = True\n",
    "print(y)"
   ]
  },
  {
   "cell_type": "markdown",
   "metadata": {},
   "source": [
    "*Two applied code demos*\n",
    " - Given the radius of a sphere $r$, calculate the volume of the sphere.\n",
    "  - Recall the formula for the volume of a sphere is: $V = \\frac{4}{3}\\pi r^3$\n",
    " - Given a quadratic equation $ax^2 + bx + c = 0$, use the quadratic formula to calculate $x$.\n",
    "  - Recall the quadratic formula is: $x = \\frac{-b \\pm \\sqrt{b^2 - 4ac}}{2a}$"
   ]
  },
  {
   "cell_type": "code",
   "execution_count": 7,
   "metadata": {},
   "outputs": [
    {
     "name": "stdout",
     "output_type": "stream",
     "text": [
      "33.49333333333333\n"
     ]
    }
   ],
   "source": [
    "r = 2 #Radius\n",
    "#Calculate the volume of the sphere!\n",
    "pi = 3.14\n",
    "volume = 4/3*pi*r**3\n",
    "print(volume)"
   ]
  },
  {
   "cell_type": "markdown",
   "metadata": {},
   "source": [
    "**Categories of Errors**\n",
    "\n",
    "Here are some examples of code which produces errors:"
   ]
  },
  {
   "cell_type": "code",
   "execution_count": 8,
   "metadata": {},
   "outputs": [
    {
     "ename": "SyntaxError",
     "evalue": "can't assign to literal (<ipython-input-8-7f1a2e2f9b1f>, line 1)",
     "output_type": "error",
     "traceback": [
      "\u001b[1;36m  File \u001b[1;32m\"<ipython-input-8-7f1a2e2f9b1f>\"\u001b[1;36m, line \u001b[1;32m1\u001b[0m\n\u001b[1;33m    5 = x\u001b[0m\n\u001b[1;37m         ^\u001b[0m\n\u001b[1;31mSyntaxError\u001b[0m\u001b[1;31m:\u001b[0m can't assign to literal\n"
     ]
    }
   ],
   "source": [
    "5 = x"
   ]
  },
  {
   "cell_type": "code",
   "execution_count": 9,
   "metadata": {},
   "outputs": [
    {
     "ename": "ZeroDivisionError",
     "evalue": "division by zero",
     "output_type": "error",
     "traceback": [
      "\u001b[1;31m---------------------------------------------------------------------------\u001b[0m",
      "\u001b[1;31mZeroDivisionError\u001b[0m                         Traceback (most recent call last)",
      "\u001b[1;32m<ipython-input-9-663c7a933a87>\u001b[0m in \u001b[0;36m<module>\u001b[1;34m\u001b[0m\n\u001b[1;32m----> 1\u001b[1;33m \u001b[0mx\u001b[0m \u001b[1;33m=\u001b[0m \u001b[1;36m5\u001b[0m \u001b[1;33m/\u001b[0m \u001b[1;36m0\u001b[0m\u001b[1;33m\u001b[0m\u001b[1;33m\u001b[0m\u001b[0m\n\u001b[0m",
      "\u001b[1;31mZeroDivisionError\u001b[0m: division by zero"
     ]
    }
   ],
   "source": [
    "x = 5 / 0"
   ]
  },
  {
   "cell_type": "code",
   "execution_count": 10,
   "metadata": {},
   "outputs": [
    {
     "ename": "NameError",
     "evalue": "name 'square_side' is not defined",
     "output_type": "error",
     "traceback": [
      "\u001b[1;31m---------------------------------------------------------------------------\u001b[0m",
      "\u001b[1;31mNameError\u001b[0m                                 Traceback (most recent call last)",
      "\u001b[1;32m<ipython-input-10-16d663758cad>\u001b[0m in \u001b[0;36m<module>\u001b[1;34m\u001b[0m\n\u001b[1;32m----> 1\u001b[1;33m \u001b[0msquare_area\u001b[0m \u001b[1;33m=\u001b[0m \u001b[0msquare_side\u001b[0m \u001b[1;33m*\u001b[0m \u001b[1;36m2\u001b[0m\u001b[1;33m\u001b[0m\u001b[1;33m\u001b[0m\u001b[0m\n\u001b[0m",
      "\u001b[1;31mNameError\u001b[0m: name 'square_side' is not defined"
     ]
    }
   ],
   "source": [
    "square_area = square_side * 2"
   ]
  },
  {
   "cell_type": "code",
   "execution_count": 11,
   "metadata": {},
   "outputs": [],
   "source": [
    "square_side = 4\n",
    "square_area = square_side * 2"
   ]
  },
  {
   "cell_type": "markdown",
   "metadata": {},
   "source": [
    " - What are our error categories?\n",
    "  - Syntax Error\n",
    "   - Detectable just from looking at the code itself\n",
    "  - Runtime Error\n",
    "   - May not be detectable until the code actually runs\n",
    "   - Causes an Error (crash)\n",
    "  - Semantic Error\n",
    "   - May not be detectable even after we've run the code\n",
    "   - We get the wrong answer, but Python doesn't actually know that.\n",
    " - What do errors of each category have in common?\n",
    " - Which category does each error type above belong to?\n",
    "  - Syntax Errors: SyntaxError\n",
    "  - Runtime Errors: ZeroDivisionError, NameError\n",
    "  - Semantic Errors: These don't have formal Python error types because Python cannot detect them.\n",
    " - What other error types have you seen? (And where do they belong?)"
   ]
  },
  {
   "cell_type": "markdown",
   "metadata": {},
   "source": [
    "**Naming Variables**\n",
    "\n",
    " - Rules\n",
    "  - Don't start a variable name with a number\n",
    "  - No spaces is variable names\n",
    " - Standards\n",
    "  - Use letters (uppercase or lowercase), numbers, and underscore characters only\n",
    "  - Variable name should be *descriptive*. Should give us an idea of what values it might have, what it means\n",
    "  - Don't use Python keywords as variable names\n",
    "  - Brief history aside: https://www.python.org/dev/peps/pep-3131"
   ]
  },
  {
   "cell_type": "code",
   "execution_count": null,
   "metadata": {},
   "outputs": [],
   "source": [
    "#Good variable names\n",
    "square_side # <--- Python standard\n",
    "squareSide # <--- Called \"camel case\", is standard in many programming language, but NOT in Python\n",
    "\n",
    "#Bad variable names\n",
    "square side\n",
    "1square_area\n",
    "myFavoriteVariable!\n",
    "True"
   ]
  }
 ],
 "metadata": {
  "kernelspec": {
   "display_name": "Python 3",
   "language": "python",
   "name": "python3"
  },
  "language_info": {
   "codemirror_mode": {
    "name": "ipython",
    "version": 3
   },
   "file_extension": ".py",
   "mimetype": "text/x-python",
   "name": "python",
   "nbconvert_exporter": "python",
   "pygments_lexer": "ipython3",
   "version": "3.7.4"
  }
 },
 "nbformat": 4,
 "nbformat_minor": 4
}
