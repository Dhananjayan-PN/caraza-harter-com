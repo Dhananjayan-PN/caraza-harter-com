{
 "cells": [
  {
   "cell_type": "code",
   "execution_count": 1,
   "metadata": {},
   "outputs": [],
   "source": [
    "# Warmup 1: what module allows us to work with random numbers?  Import it.\n"
   ]
  },
  {
   "cell_type": "code",
   "execution_count": 2,
   "metadata": {},
   "outputs": [],
   "source": [
    "import pandas as pd\n",
    "from pandas import DataFrame, Series\n",
    "import matplotlib\n",
    "from matplotlib import pyplot as plt\n",
    "matplotlib.rcParams[\"font.size\"] = 15 \n"
   ]
  },
  {
   "cell_type": "markdown",
   "metadata": {},
   "source": [
    "### Lecture 39:  Plotting Applications\n",
    "\n",
    "**Learning Objectives**\n",
    "\n",
    "39.1 Use data from a dataframe to generate random simulations\n",
    "\n",
    "39.2 Apply features of line plots and bar plots to visualize results of data investigations\n",
    "\n",
    "39.3 Clean Series data with dropNa() and str.upper()\n",
    "\n",
    "39.4 Make a stacked bar plot"
   ]
  },
  {
   "cell_type": "markdown",
   "metadata": {},
   "source": [
    "### Using Stock Market Data to Generate Random Simulations"
   ]
  },
  {
   "cell_type": "code",
   "execution_count": 5,
   "metadata": {},
   "outputs": [
    {
     "data": {
      "text/html": [
       "<div>\n",
       "<style scoped>\n",
       "    .dataframe tbody tr th:only-of-type {\n",
       "        vertical-align: middle;\n",
       "    }\n",
       "\n",
       "    .dataframe tbody tr th {\n",
       "        vertical-align: top;\n",
       "    }\n",
       "\n",
       "    .dataframe thead th {\n",
       "        text-align: right;\n",
       "    }\n",
       "</style>\n",
       "<table border=\"1\" class=\"dataframe\">\n",
       "  <thead>\n",
       "    <tr style=\"text-align: right;\">\n",
       "      <th></th>\n",
       "      <th>year</th>\n",
       "      <th>return</th>\n",
       "    </tr>\n",
       "  </thead>\n",
       "  <tbody>\n",
       "    <tr>\n",
       "      <th>47</th>\n",
       "      <td>2017</td>\n",
       "      <td>1.2183</td>\n",
       "    </tr>\n",
       "    <tr>\n",
       "      <th>48</th>\n",
       "      <td>2018</td>\n",
       "      <td>0.9557</td>\n",
       "    </tr>\n",
       "    <tr>\n",
       "      <th>49</th>\n",
       "      <td>2019</td>\n",
       "      <td>1.3149</td>\n",
       "    </tr>\n",
       "    <tr>\n",
       "      <th>50</th>\n",
       "      <td>2020</td>\n",
       "      <td>1.1840</td>\n",
       "    </tr>\n",
       "    <tr>\n",
       "      <th>51</th>\n",
       "      <td>2021</td>\n",
       "      <td>1.1059</td>\n",
       "    </tr>\n",
       "  </tbody>\n",
       "</table>\n",
       "</div>"
      ],
      "text/plain": [
       "    year  return\n",
       "47  2017  1.2183\n",
       "48  2018  0.9557\n",
       "49  2019  1.3149\n",
       "50  2020  1.1840\n",
       "51  2021  1.1059"
      ]
     },
     "execution_count": 5,
     "metadata": {},
     "output_type": "execute_result"
    }
   ],
   "source": [
    "# this file should be in your directory\n",
    "df = pd.read_csv(\"sp500.csv\") \n",
    "df.tail()"
   ]
  },
  {
   "cell_type": "markdown",
   "metadata": {},
   "source": [
    "### Add a column to your dataframe"
   ]
  },
  {
   "cell_type": "code",
   "execution_count": 8,
   "metadata": {},
   "outputs": [
    {
     "data": {
      "text/html": [
       "<div>\n",
       "<style scoped>\n",
       "    .dataframe tbody tr th:only-of-type {\n",
       "        vertical-align: middle;\n",
       "    }\n",
       "\n",
       "    .dataframe tbody tr th {\n",
       "        vertical-align: top;\n",
       "    }\n",
       "\n",
       "    .dataframe thead th {\n",
       "        text-align: right;\n",
       "    }\n",
       "</style>\n",
       "<table border=\"1\" class=\"dataframe\">\n",
       "  <thead>\n",
       "    <tr style=\"text-align: right;\">\n",
       "      <th></th>\n",
       "      <th>year</th>\n",
       "      <th>return</th>\n",
       "      <th>total</th>\n",
       "    </tr>\n",
       "  </thead>\n",
       "  <tbody>\n",
       "    <tr>\n",
       "      <th>0</th>\n",
       "      <td>1970</td>\n",
       "      <td>1.0401</td>\n",
       "      <td>1.040100</td>\n",
       "    </tr>\n",
       "    <tr>\n",
       "      <th>1</th>\n",
       "      <td>1971</td>\n",
       "      <td>1.1431</td>\n",
       "      <td>1.188938</td>\n",
       "    </tr>\n",
       "    <tr>\n",
       "      <th>2</th>\n",
       "      <td>1972</td>\n",
       "      <td>1.1898</td>\n",
       "      <td>1.414599</td>\n",
       "    </tr>\n",
       "    <tr>\n",
       "      <th>3</th>\n",
       "      <td>1973</td>\n",
       "      <td>0.8534</td>\n",
       "      <td>1.207219</td>\n",
       "    </tr>\n",
       "    <tr>\n",
       "      <th>4</th>\n",
       "      <td>1974</td>\n",
       "      <td>0.7353</td>\n",
       "      <td>0.887668</td>\n",
       "    </tr>\n",
       "  </tbody>\n",
       "</table>\n",
       "</div>"
      ],
      "text/plain": [
       "   year  return     total\n",
       "0  1970  1.0401  1.040100\n",
       "1  1971  1.1431  1.188938\n",
       "2  1972  1.1898  1.414599\n",
       "3  1973  0.8534  1.207219\n",
       "4  1974  0.7353  0.887668"
      ]
     },
     "execution_count": 8,
     "metadata": {},
     "output_type": "execute_result"
    }
   ],
   "source": [
    "# add an extra column called \"total\" to the dataframe\n",
    "# the value for the \"total column will be :  df[\"return\"].cumprod()\n",
    "# cumprod stands for 'cumulative product'\n",
    "\n",
    "# ???? =   df[\"return\"].cumprod()\n",
    "\n",
    "df.head()"
   ]
  },
  {
   "cell_type": "markdown",
   "metadata": {},
   "source": [
    "### Add another column to your dataframe, and set the indices of each row"
   ]
  },
  {
   "cell_type": "code",
   "execution_count": 9,
   "metadata": {},
   "outputs": [
    {
     "data": {
      "text/html": [
       "<div>\n",
       "<style scoped>\n",
       "    .dataframe tbody tr th:only-of-type {\n",
       "        vertical-align: middle;\n",
       "    }\n",
       "\n",
       "    .dataframe tbody tr th {\n",
       "        vertical-align: top;\n",
       "    }\n",
       "\n",
       "    .dataframe thead th {\n",
       "        text-align: right;\n",
       "    }\n",
       "</style>\n",
       "<table border=\"1\" class=\"dataframe\">\n",
       "  <thead>\n",
       "    <tr style=\"text-align: right;\">\n",
       "      <th></th>\n",
       "      <th>year</th>\n",
       "      <th>return</th>\n",
       "      <th>total</th>\n",
       "      <th>wealth</th>\n",
       "    </tr>\n",
       "  </thead>\n",
       "  <tbody>\n",
       "    <tr>\n",
       "      <th>47</th>\n",
       "      <td>2017</td>\n",
       "      <td>1.2183</td>\n",
       "      <td>122.296742</td>\n",
       "      <td>122296.741896</td>\n",
       "    </tr>\n",
       "    <tr>\n",
       "      <th>48</th>\n",
       "      <td>2018</td>\n",
       "      <td>0.9557</td>\n",
       "      <td>116.878996</td>\n",
       "      <td>116878.996230</td>\n",
       "    </tr>\n",
       "    <tr>\n",
       "      <th>49</th>\n",
       "      <td>2019</td>\n",
       "      <td>1.3149</td>\n",
       "      <td>153.684192</td>\n",
       "      <td>153684.192143</td>\n",
       "    </tr>\n",
       "    <tr>\n",
       "      <th>50</th>\n",
       "      <td>2020</td>\n",
       "      <td>1.1840</td>\n",
       "      <td>181.962083</td>\n",
       "      <td>181962.083497</td>\n",
       "    </tr>\n",
       "    <tr>\n",
       "      <th>51</th>\n",
       "      <td>2021</td>\n",
       "      <td>1.1059</td>\n",
       "      <td>201.231868</td>\n",
       "      <td>201231.868140</td>\n",
       "    </tr>\n",
       "  </tbody>\n",
       "</table>\n",
       "</div>"
      ],
      "text/plain": [
       "    year  return       total         wealth\n",
       "47  2017  1.2183  122.296742  122296.741896\n",
       "48  2018  0.9557  116.878996  116878.996230\n",
       "49  2019  1.3149  153.684192  153684.192143\n",
       "50  2020  1.1840  181.962083  181962.083497\n",
       "51  2021  1.1059  201.231868  201231.868140"
      ]
     },
     "execution_count": 9,
     "metadata": {},
     "output_type": "execute_result"
    }
   ],
   "source": [
    "starting = 1000\n",
    " \n",
    "df[\"wealth\"] = df[\"total\"] * starting\n",
    "\n",
    "# set the index to be 'year'....but just run this cell once\n",
    "\n",
    "df.tail()"
   ]
  },
  {
   "cell_type": "markdown",
   "metadata": {},
   "source": [
    "### Make a line plot for the wealth column"
   ]
  },
  {
   "cell_type": "code",
   "execution_count": 1,
   "metadata": {},
   "outputs": [],
   "source": [
    "# make a line plot for just the wealth column\n",
    "# store the result in the variable ax\n",
    "ax = None\n",
    "\n",
    "\n",
    "# set the y=label to be \"Total wealth ($)\"\n"
   ]
  },
  {
   "cell_type": "markdown",
   "metadata": {},
   "source": [
    "## Random.choices can randomly select a number of values from a list"
   ]
  },
  {
   "cell_type": "code",
   "execution_count": 3,
   "metadata": {},
   "outputs": [
    {
     "data": {
      "text/plain": [
       "3"
      ]
     },
     "execution_count": 3,
     "metadata": {},
     "output_type": "execute_result"
    }
   ],
   "source": [
    "import random\n",
    "random.choice([3, 5, 9]) # selects one"
   ]
  },
  {
   "cell_type": "code",
   "execution_count": 7,
   "metadata": {},
   "outputs": [],
   "source": []
  },
  {
   "cell_type": "code",
   "execution_count": 12,
   "metadata": {},
   "outputs": [
    {
     "data": {
      "text/plain": [
       "['cherry']"
      ]
     },
     "execution_count": 12,
     "metadata": {},
     "output_type": "execute_result"
    }
   ],
   "source": [
    "fruits = ['apple', 'banana', 'cherry']\n",
    "\n",
    "# random.choices( list, k=howmany)\n",
    "# change the value of k\n",
    "random.choices(fruits, None ) # make a list of 10 random choices from this list, with replacement"
   ]
  },
  {
   "cell_type": "markdown",
   "metadata": {},
   "source": [
    "### Simulating stock market returns using past results\n",
    "### Approach:\n",
    "1. First, Run one simulation by randomly choosing previous returns, store the result in a Series\n",
    "2. Then, Run many simulations, storing all the Series in a dataframe"
   ]
  },
  {
   "cell_type": "code",
   "execution_count": null,
   "metadata": {},
   "outputs": [],
   "source": [
    "# Step 1  Run one simulation by randomly choosing previous returns\n",
    "def run_sim(years = 10, starting = 1000):\n",
    "    # choose random choices from the 'return' column of our dataframe\n",
    "    rand_returns = random.choices(df[\"return\"], k = None)       # TODO: WHAT IS K? \n",
    "    rand_returns = Series(rand_returns).cumprod() * starting\n",
    "    return rand_returns\n",
    "\n",
    "run_sim(5)"
   ]
  },
  {
   "cell_type": "code",
   "execution_count": null,
   "metadata": {},
   "outputs": [],
   "source": [
    "\n",
    "\n",
    "# Step 2 run many simulations and collect all the results into a dataframe\n",
    "# the columns will have the names 'sim0', 'sim1', 'sim2', ....\n",
    "def run_n_sims(n, years = 10, starting = 1000):\n",
    "    s = pd.DataFrame()\n",
    "    for i in range(n):\n",
    "        # this builds a dataframe one column (Series) at a time\n",
    "        s[\"sim\" + str(i)] = run_sim(???, ???) \n",
    "    return s\n",
    "\n",
    "# small simulation to understand how it works\n",
    "run_n_sims(3, 5)"
   ]
  },
  {
   "cell_type": "code",
   "execution_count": null,
   "metadata": {},
   "outputs": [],
   "source": [
    "# run 20 simulations, each lasting 30 years \n",
    "sims = None\n",
    "sims.tail()"
   ]
  },
  {
   "cell_type": "code",
   "execution_count": null,
   "metadata": {},
   "outputs": [],
   "source": [
    "# line plot on a dataframe\n",
    "# what happens when you set legend to True?\n",
    "# sims.plot.line(legend = False)"
   ]
  },
  {
   "cell_type": "code",
   "execution_count": null,
   "metadata": {},
   "outputs": [],
   "source": []
  },
  {
   "cell_type": "markdown",
   "metadata": {},
   "source": [
    "### Use the Quantile function to get a particular percentile\n",
    "- defaults to 50th percentile\n",
    "- defaults to calculating on all rows down each column and returning a Series"
   ]
  },
  {
   "cell_type": "code",
   "execution_count": null,
   "metadata": {},
   "outputs": [],
   "source": [
    "sims.quantile()\n"
   ]
  },
  {
   "cell_type": "code",
   "execution_count": null,
   "metadata": {},
   "outputs": [],
   "source": [
    "# axis is the keyword argument that tells quantile how to make one calculation\n",
    "# the default is axis='index'....this df matches the one above\n",
    "sims.quantile(axis='index')"
   ]
  },
  {
   "cell_type": "code",
   "execution_count": null,
   "metadata": {},
   "outputs": [],
   "source": []
  },
  {
   "cell_type": "markdown",
   "metadata": {},
   "source": [
    "### axis='columns' computes any calculation *across* the columns\n",
    "- to change to iterating over each column of a single row, use axis = 'columns'\n",
    "- axis works for many functions like mean, std, etc.,"
   ]
  },
  {
   "cell_type": "code",
   "execution_count": null,
   "metadata": {},
   "outputs": [],
   "source": [
    "run_n_sims(3, 5)\n",
    "sims"
   ]
  },
  {
   "cell_type": "code",
   "execution_count": null,
   "metadata": {},
   "outputs": [],
   "source": [
    "sims.quantile(0.5, axis = 'columns')"
   ]
  },
  {
   "cell_type": "code",
   "execution_count": null,
   "metadata": {},
   "outputs": [],
   "source": [
    "# run a sim with 250 simulations, each lasting 10 years\n",
    "# this is what financial planners do for their clients\n",
    "sims = run_n_sims(250, 10)"
   ]
  },
  {
   "cell_type": "code",
   "execution_count": null,
   "metadata": {},
   "outputs": [],
   "source": [
    "df = DataFrame({   # TODO: CHANGE THE QUANTILE VALUES\n",
    "    \"10th percentile\": sims.quantile(0.00, axis = 'columns'),\n",
    "    \"median\": sims.quantile(0.00, axis = 'columns'),\n",
    "    \"90th percentile\": sims.quantile(0.00, axis = 'columns')\n",
    "})\n",
    "df"
   ]
  },
  {
   "cell_type": "code",
   "execution_count": null,
   "metadata": {},
   "outputs": [],
   "source": [
    "\n",
    "df.plot.line()"
   ]
  },
  {
   "cell_type": "markdown",
   "metadata": {},
   "source": [
    "# Bar Plot Example w/ Fire Hydrants"
   ]
  },
  {
   "cell_type": "code",
   "execution_count": null,
   "metadata": {},
   "outputs": [],
   "source": [
    "hdf = pd.read_csv(\"Fire_Hydrants.csv\")\n",
    "hdf.tail()"
   ]
  },
  {
   "cell_type": "code",
   "execution_count": null,
   "metadata": {},
   "outputs": [],
   "source": [
    "# grab just the column names\n",
    "hdf.columns"
   ]
  },
  {
   "cell_type": "markdown",
   "metadata": {},
   "source": [
    "### Let's create a *bar plot* to visualize *colors* of fire hydrants."
   ]
  },
  {
   "cell_type": "code",
   "execution_count": null,
   "metadata": {},
   "outputs": [],
   "source": []
  },
  {
   "cell_type": "code",
   "execution_count": null,
   "metadata": {},
   "outputs": [],
   "source": [
    "# make a series called counts_series which stores the value_counts() of the \"nozzle_color\"\n",
    "color_counts = hdf[\"nozzle_color\"] # TODO:  FIND THE VALUE COUNTS\n",
    "color_counts # what type is this? "
   ]
  },
  {
   "cell_type": "code",
   "execution_count": null,
   "metadata": {},
   "outputs": [],
   "source": [
    "# TODO:  clean the data ......use str.upper()\n",
    "# NOTE:  str.upper() is called on a Series....not on a string\n",
    "\n",
    "color_counts= hdf[\"nozzle_color\"] \n",
    "color_counts"
   ]
  },
  {
   "cell_type": "code",
   "execution_count": null,
   "metadata": {},
   "outputs": [],
   "source": [
    "# make a horizontal bar plot of counts of colors and have the colors match\n",
    "# use color list: [\"b\", \"g\", \"darkorange\", \"r\", \"c\", \"0.5\"]\n",
    "ax = color_counts.plot.barh()\n",
    "ax.set_ylabel(\"Fire hydrant count\")"
   ]
  },
  {
   "cell_type": "code",
   "execution_count": null,
   "metadata": {},
   "outputs": [],
   "source": []
  },
  {
   "cell_type": "markdown",
   "metadata": {},
   "source": [
    "### Let's create a *bar plot* to visualize *style* of fire hydrants."
   ]
  },
  {
   "cell_type": "code",
   "execution_count": null,
   "metadata": {},
   "outputs": [],
   "source": [
    "# Do the same thing as we did for the colors but this time for the \"Style\"\n",
    "style_counts = None\n",
    "style_counts.plot.bar()"
   ]
  },
  {
   "cell_type": "code",
   "execution_count": null,
   "metadata": {},
   "outputs": [],
   "source": [
    "# let's just grab the top 12 \n",
    "top12 = style_counts.iloc[:12]"
   ]
  },
  {
   "cell_type": "code",
   "execution_count": null,
   "metadata": {},
   "outputs": [],
   "source": [
    "\n",
    "\n",
    "# and them add an index to our Series for the sum of all the \"other\"  \n",
    "top12[\"other\"] = style_counts     # TODO: add onto this\n",
    "ax = top12.plot.bar(color=\"r\")\n",
    "ax.set_ylabel(\"Hydrant count\")\n",
    "ax.set_xlabel(\"Hydrant count\")"
   ]
  },
  {
   "cell_type": "code",
   "execution_count": null,
   "metadata": {},
   "outputs": [],
   "source": []
  },
  {
   "cell_type": "markdown",
   "metadata": {},
   "source": [
    "### Finally:  Let's find out how many Pacers were installed per decade compared to other Styles"
   ]
  },
  {
   "cell_type": "code",
   "execution_count": null,
   "metadata": {},
   "outputs": [],
   "source": [
    "# let's look at the \"year_manufactured\" for just the Pacer \"Style\" and put that in a series\n",
    "\n",
    "pacer_years = None # TODO\n",
    "\n",
    "pacer_years"
   ]
  },
  {
   "cell_type": "code",
   "execution_count": null,
   "metadata": {},
   "outputs": [],
   "source": [
    "# then do the same for all the other data\n",
    "other_years = None  # TODO\n",
    "other_years"
   ]
  },
  {
   "cell_type": "code",
   "execution_count": null,
   "metadata": {},
   "outputs": [],
   "source": [
    "# let's do some arithmetic on this series to round each year down to the previous 10\n",
    "# 1987 --> 1980,   2003 --> 2000\n",
    "pacer_decades = (pacer_years // 10 * 10)\n",
    "pacer_decades"
   ]
  },
  {
   "cell_type": "code",
   "execution_count": null,
   "metadata": {},
   "outputs": [],
   "source": [
    "# now let's drop the NaN values, convert to int, and do value counts\n",
    "pacer_decade_counts = (pacer_years // 10 * 10).dropna().astype(int).value_counts()\n",
    "pacer_decade_counts"
   ]
  },
  {
   "cell_type": "code",
   "execution_count": null,
   "metadata": {},
   "outputs": [],
   "source": [
    "# TODO:  do the same for other_years\n",
    "other_decade_counts = None\n",
    "other_decade_counts"
   ]
  },
  {
   "cell_type": "code",
   "execution_count": null,
   "metadata": {},
   "outputs": [],
   "source": [
    "# Build a DataFrame from a dictionary of key, Series\n",
    "plot_df = DataFrame({   # change the lists for each\n",
    "    \"pacer\": [],\n",
    "    \"other\": []\n",
    "})\n",
    "plot_df"
   ]
  },
  {
   "cell_type": "code",
   "execution_count": null,
   "metadata": {},
   "outputs": [],
   "source": [
    "# make a bar plot\n",
    "\n",
    "ax = plot_df.plot.bar()\n",
    "ax.set_xlabel(\"Decade\")\n",
    "ax.set_ylabel(\"Hydrant Count\")"
   ]
  },
  {
   "cell_type": "code",
   "execution_count": null,
   "metadata": {},
   "outputs": [],
   "source": [
    "# change the x axis for data that we don't care about\n",
    "\n",
    "ax = plot_df[plot_df.index >= 1950].plot.bar()\n",
    "ax.set_xlabel(\"Decade\")\n",
    "ax.set_ylabel(\"Hydrant Count\")"
   ]
  },
  {
   "cell_type": "code",
   "execution_count": null,
   "metadata": {},
   "outputs": [],
   "source": [
    "# make a Stacked Bar Chart!  \n",
    "ax = plot_df[plot_df.index >= 1950].plot.bar(stacked=True)\n",
    "ax.set_xlabel(\"Decade\")\n",
    "ax.set_ylabel(\"Hydrant Count\")\n",
    "None"
   ]
  },
  {
   "cell_type": "code",
   "execution_count": 9,
   "metadata": {},
   "outputs": [],
   "source": [
    "### BE sure you know how to make a stacked bar chart .... quiz/exam question"
   ]
  },
  {
   "cell_type": "markdown",
   "metadata": {},
   "source": [
    "\n",
    "**Learning Objectives: Can you do this?**\n",
    "\n",
    "39.1 Use data from a dataframe to generate random simulations\n",
    "\n",
    "39.2 Apply features of line plots and bar plots to visualize results of data investigations\n",
    "\n",
    "39.3 Clean Series data by dropping NaN valuues, and converting to upper\n",
    "\n",
    "39.4 Make a stacked bar plot"
   ]
  },
  {
   "cell_type": "code",
   "execution_count": null,
   "metadata": {},
   "outputs": [],
   "source": []
  }
 ],
 "metadata": {
  "kernelspec": {
   "display_name": "Python 3",
   "language": "python",
   "name": "python3"
  },
  "language_info": {
   "codemirror_mode": {
    "name": "ipython",
    "version": 3
   },
   "file_extension": ".py",
   "mimetype": "text/x-python",
   "name": "python",
   "nbconvert_exporter": "python",
   "pygments_lexer": "ipython3",
   "version": "3.9.1"
  }
 },
 "nbformat": 4,
 "nbformat_minor": 2
}
