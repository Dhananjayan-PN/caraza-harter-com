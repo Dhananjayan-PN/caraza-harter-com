{
 "cells": [
  {
   "cell_type": "code",
   "execution_count": 1,
   "metadata": {},
   "outputs": [],
   "source": [
    "# you need to download 'hurricane.csv' and 'restaurants.csv'\n",
    "\n",
    "# Also remember that you are expected to read the slides for every lecture\n"
   ]
  },
  {
   "cell_type": "code",
   "execution_count": 2,
   "metadata": {},
   "outputs": [
    {
     "name": "stdout",
     "output_type": "stream",
     "text": [
      "1\n"
     ]
    },
    {
     "ename": "ValueError",
     "evalue": "'donuts' is not in list",
     "output_type": "error",
     "traceback": [
      "\u001b[0;31m---------------------------------------------------------------------------\u001b[0m",
      "\u001b[0;31mValueError\u001b[0m                                Traceback (most recent call last)",
      "\u001b[0;32m<ipython-input-2-3c5e29c5e4b3>\u001b[0m in \u001b[0;36m<module>\u001b[0;34m\u001b[0m\n\u001b[1;32m      5\u001b[0m \u001b[0;31m#use the .index() method to get the index of \"ice cream\"\u001b[0m\u001b[0;34m\u001b[0m\u001b[0;34m\u001b[0m\u001b[0;34m\u001b[0m\u001b[0m\n\u001b[1;32m      6\u001b[0m \u001b[0mprint\u001b[0m\u001b[0;34m(\u001b[0m\u001b[0mdairy\u001b[0m\u001b[0;34m.\u001b[0m\u001b[0mindex\u001b[0m\u001b[0;34m(\u001b[0m\u001b[0;34m\"ice cream\"\u001b[0m\u001b[0;34m)\u001b[0m\u001b[0;34m)\u001b[0m\u001b[0;34m\u001b[0m\u001b[0;34m\u001b[0m\u001b[0m\n\u001b[0;32m----> 7\u001b[0;31m \u001b[0mprint\u001b[0m\u001b[0;34m(\u001b[0m\u001b[0mdairy\u001b[0m\u001b[0;34m.\u001b[0m\u001b[0mindex\u001b[0m\u001b[0;34m(\u001b[0m\u001b[0;34m\"donuts\"\u001b[0m\u001b[0;34m)\u001b[0m\u001b[0;34m)\u001b[0m    \u001b[0;31m# Runtime Error\u001b[0m\u001b[0;34m\u001b[0m\u001b[0;34m\u001b[0m\u001b[0m\n\u001b[0m",
      "\u001b[0;31mValueError\u001b[0m: 'donuts' is not in list"
     ]
    }
   ],
   "source": [
    "# Warmup #1: Take a look at these list methods \n",
    "# https://www.w3schools.com/python/python_ref_list.asp\n",
    "dairy = [\"milk\", \"ice cream\", \"cheese\", \"yogurt\" ]\n",
    "\n",
    "#use the .index() method to get the index of \"ice cream\"\n",
    "print(dairy.index(\"ice cream\"))\n",
    "print(dairy.index(\"donuts\"))    # Runtime Error"
   ]
  },
  {
   "cell_type": "code",
   "execution_count": 4,
   "metadata": {},
   "outputs": [
    {
     "data": {
      "text/plain": [
       "['milk',\n",
       " 'ice cream',\n",
       " 'cheese',\n",
       " 'yogurt',\n",
       " 'nuts',\n",
       " 'meat',\n",
       " 'soy',\n",
       " 'whole grains',\n",
       " 'quinoa']"
      ]
     },
     "execution_count": 4,
     "metadata": {},
     "output_type": "execute_result"
    }
   ],
   "source": [
    "# Warmup #2: the '+' operator will concatenate two lists \n",
    "\n",
    "dairy = [\"milk\", \"ice cream\", \"cheese\", \"yogurt\" ]\n",
    "protein = [\"nuts\", \"meat\", \"soy\", \"whole grains\", \"quinoa\"]\n",
    "\n",
    "# concatenate dairy and protein\n",
    "combo = dairy + protein\n",
    "combo"
   ]
  },
  {
   "cell_type": "code",
   "execution_count": 5,
   "metadata": {},
   "outputs": [
    {
     "name": "stdout",
     "output_type": "stream",
     "text": [
      "peanut butter not in protein\n",
      "bread not in protein\n",
      "cheese in dairy\n",
      "cheese not in protein\n"
     ]
    }
   ],
   "source": [
    "# Warmup #3:  Because a list is a sequence, we can use the 'in' operator\n",
    "\n",
    "# use the list dairy and the list protein\n",
    "for item in [\"peanut butter\", \"bread\", \"cheese\"]:\n",
    "    if item in dairy:\n",
    "        print(item, \"in dairy\")\n",
    "    if item not in protein:\n",
    "        print(item , \"not in protein\")"
   ]
  },
  {
   "cell_type": "code",
   "execution_count": null,
   "metadata": {},
   "outputs": [],
   "source": []
  },
  {
   "cell_type": "markdown",
   "metadata": {},
   "source": [
    "## Lecture 15: Comma Separated Value files\n",
    "\n",
    "Learning Objectives: \n",
    "- Open an Excel file and export it to a Comma Separated Value file.\n",
    "\n",
    "- Open a CSV file in TextEditor/Jupyter and connect the elements of the CSV file to the rows and columns in the spreadsheet.\n",
    "\n",
    "- Use pre-written Python code to read a CSV file into a list of lists.\n",
    "\n",
    "- Write Python statements with double list indexing to access any element of a CSV file via a list of lists.\n",
    "\n",
    "- Write code that answers questions about CSV data by writing for loops on lists of lists.\n",
    "\n",
    "- Identify in code how sys.argv is used to read arguments into a command-line Python script.\n"
   ]
  },
  {
   "cell_type": "code",
   "execution_count": 6,
   "metadata": {},
   "outputs": [],
   "source": [
    "# before we get to coding.....\n",
    "\n",
    "# 1. open h10.xls as a spreadsheet\n",
    "# 2. cat ht10.xls\n",
    "# 3. convert h10.xls to h10.csv\n",
    "# 4. cat h10.csv\n",
    "# 5. open h10.csv in Jupyter"
   ]
  },
  {
   "cell_type": "code",
   "execution_count": 7,
   "metadata": {},
   "outputs": [],
   "source": [
    "# Now lets store the contents of the CSV file into Python lists\n",
    "\n",
    "\n",
    "# copied from https://automatetheboringstuff.com/chapter14/\n",
    "import csv\n",
    "\n",
    "def process_csv(filename):\n",
    "    # open the file, its a text file utf-8\n",
    "    exampleFile = open(filename, encoding=\"utf-8\")  \n",
    "    \n",
    "    # prepare it for reading as a CSV object\n",
    "    exampleReader = csv.reader(exampleFile) \n",
    "    \n",
    "    # use the built-in list function to convert this into a list of lists\n",
    "    exampleData = list(exampleReader)        \n",
    "    \n",
    "    # close the file to tidy up our workspace\n",
    "    exampleFile.close()  \n",
    "    \n",
    "    # return the list of lists\n",
    "    return exampleData\n"
   ]
  },
  {
   "cell_type": "code",
   "execution_count": 8,
   "metadata": {},
   "outputs": [
    {
     "data": {
      "text/plain": [
       "11"
      ]
     },
     "execution_count": 8,
     "metadata": {},
     "output_type": "execute_result"
    }
   ],
   "source": [
    "# Call the function and store the list of lists in a variable \n",
    "hurricane_data = process_csv('h10.csv')\n",
    "\n",
    "# Q1 find the length of hurricane_data\n",
    "len(hurricane_data)"
   ]
  },
  {
   "cell_type": "code",
   "execution_count": 9,
   "metadata": {},
   "outputs": [
    {
     "data": {
      "text/plain": [
       "['name', 'formed', 'dissipated', 'mph', 'damage', 'deaths']"
      ]
     },
     "execution_count": 9,
     "metadata": {},
     "output_type": "execute_result"
    }
   ],
   "source": [
    "#Q2 set header to be the first row of data with the column headings\n",
    "header = hurricane_data[0] \n",
    "header"
   ]
  },
  {
   "cell_type": "code",
   "execution_count": 10,
   "metadata": {},
   "outputs": [
    {
     "data": {
      "text/plain": [
       "['Baker', '8/18/50', '9/1/50', '105', '2.55M', '38']"
      ]
     },
     "execution_count": 10,
     "metadata": {},
     "output_type": "execute_result"
    }
   ],
   "source": [
    "#Q3 show the next row of data that has the info about Baker\n",
    "hurricane_data[1]"
   ]
  },
  {
   "cell_type": "code",
   "execution_count": 11,
   "metadata": {},
   "outputs": [
    {
     "data": {
      "text/plain": [
       "[['name', 'formed', 'dissipated', 'mph', 'damage', 'deaths'],\n",
       " ['Baker', '8/18/50', '9/1/50', '105', '2.55M', '38'],\n",
       " ['Camille', '8/14/69', '8/22/69', '175', '1.42B', '259'],\n",
       " ['Eloise', '9/13/75', '9/24/75', '125', '560M', '80'],\n",
       " ['Frederic', '8/29/79', '9/15/79', '130', '1.77B', '12'],\n",
       " ['Elena', '8/28/85', '9/4/85', '125', '1.3B', '9'],\n",
       " ['Opal', '9/27/95', '10/6/95', '150', '4.7B', '63'],\n",
       " ['Danny', '7/16/97', '7/27/97', '80', '100M', '4'],\n",
       " ['Ivan', '9/2/04', '9/25/04', '165', '26.1B', '92'],\n",
       " ['Dennis', '7/4/05', '7/18/05', '150', '3.98B', '76'],\n",
       " ['Katrina', '8/23/05', '8/31/05', '175', '125B', '1245']]"
      ]
     },
     "execution_count": 11,
     "metadata": {},
     "output_type": "execute_result"
    }
   ],
   "source": [
    "#Q4 show all the data...hint use no []\n",
    "hurricane_data  # this is a list of lists"
   ]
  },
  {
   "cell_type": "code",
   "execution_count": 12,
   "metadata": {},
   "outputs": [
    {
     "data": {
      "text/plain": [
       "'175'"
      ]
     },
     "execution_count": 12,
     "metadata": {},
     "output_type": "execute_result"
    }
   ],
   "source": [
    "#Q5 print out the mph for Camille...by hardcoding its row and column....\n",
    "hurricane_data[2][3]   # [row][col]"
   ]
  },
  {
   "cell_type": "code",
   "execution_count": 13,
   "metadata": {},
   "outputs": [
    {
     "data": {
      "text/plain": [
       "'150'"
      ]
     },
     "execution_count": 13,
     "metadata": {},
     "output_type": "execute_result"
    }
   ],
   "source": [
    "#Q6 print out the mph for Opal...by hardcoding its row and column....\n",
    "hurricane_data[6][3]"
   ]
  },
  {
   "cell_type": "code",
   "execution_count": 14,
   "metadata": {},
   "outputs": [
    {
     "data": {
      "text/plain": [
       "'9/2/04'"
      ]
     },
     "execution_count": 14,
     "metadata": {},
     "output_type": "execute_result"
    }
   ],
   "source": [
    "#Q7 print out the formed date for Ivan..by hardcoding its row and column\n",
    "hurricane_data[8][1]"
   ]
  },
  {
   "cell_type": "code",
   "execution_count": 15,
   "metadata": {},
   "outputs": [
    {
     "data": {
      "text/plain": [
       "'97'"
      ]
     },
     "execution_count": 15,
     "metadata": {},
     "output_type": "execute_result"
    }
   ],
   "source": [
    "#Q8 use slicing to print out just the 97 from Danny's formed date\n",
    "hurricane_data[7][1][-2:]  # row, col, slicing"
   ]
  },
  {
   "cell_type": "code",
   "execution_count": 16,
   "metadata": {},
   "outputs": [
    {
     "name": "stdout",
     "output_type": "stream",
     "text": [
      "Baker\n",
      "Camille\n",
      "Eloise\n",
      "Frederic\n",
      "Elena\n",
      "Opal\n",
      "Danny\n",
      "Ivan\n",
      "Dennis\n",
      "Katrina\n"
     ]
    }
   ],
   "source": [
    "# slice the hurricane_data to get rid of the header row\n",
    "# hurricane_data_nh is the list of lists with \"no header\"\n",
    "rows = hurricane_data[1:]\n",
    "\n",
    "#Q9 Write a for loop to print out the names of the hurricanes\n",
    "for row in rows:\n",
    "    #print(row[0])                   # hardcoding\n",
    "    print(row[header.index('name')]) # not hardcoding"
   ]
  },
  {
   "cell_type": "code",
   "execution_count": 17,
   "metadata": {},
   "outputs": [
    {
     "data": {
      "text/plain": [
       "[['Baker', '8/18/50', '9/1/50', '105', '2.55M', '38'],\n",
       " ['Camille', '8/14/69', '8/22/69', '175', '1.42B', '259'],\n",
       " ['Eloise', '9/13/75', '9/24/75', '125', '560M', '80'],\n",
       " ['Frederic', '8/29/79', '9/15/79', '130', '1.77B', '12'],\n",
       " ['Elena', '8/28/85', '9/4/85', '125', '1.3B', '9'],\n",
       " ['Opal', '9/27/95', '10/6/95', '150', '4.7B', '63'],\n",
       " ['Danny', '7/16/97', '7/27/97', '80', '100M', '4'],\n",
       " ['Ivan', '9/2/04', '9/25/04', '165', '26.1B', '92'],\n",
       " ['Dennis', '7/4/05', '7/18/05', '150', '3.98B', '76'],\n",
       " ['Katrina', '8/23/05', '8/31/05', '175', '125B', '1245']]"
      ]
     },
     "execution_count": 17,
     "metadata": {},
     "output_type": "execute_result"
    }
   ],
   "source": [
    "rows"
   ]
  },
  {
   "cell_type": "code",
   "execution_count": 18,
   "metadata": {},
   "outputs": [
    {
     "name": "stdout",
     "output_type": "stream",
     "text": [
      "Camille 175\n",
      "Ivan 165\n",
      "Katrina 175\n"
     ]
    }
   ],
   "source": [
    "#Q10 print out the names of all hurricanes with a max wind speed >= threshold\n",
    "def hurricanes_with_speed(threshold):\n",
    "    for row in rows:\n",
    "        if int(row[3]) >= threshold:     # complete this line\n",
    "            print(row[0], row[3])\n",
    "            \n",
    "hurricanes_with_speed(160)\n"
   ]
  },
  {
   "cell_type": "code",
   "execution_count": 19,
   "metadata": {},
   "outputs": [
    {
     "data": {
      "text/plain": [
       "5"
      ]
     },
     "execution_count": 19,
     "metadata": {},
     "output_type": "execute_result"
    }
   ],
   "source": [
    "#Q11  return the count of hurricanes with speed >= threshold\n",
    "# Practice\n",
    "def count_hurricanes_speed_over(threshold):\n",
    "    count = 0\n",
    "    for row in rows:\n",
    "        if int(row[3]) >= threshold:    # hardcoding\n",
    "            count += 1\n",
    "    return count\n",
    "    \n",
    "\n",
    "count_hurricanes_speed_over(140) # should return 5"
   ]
  },
  {
   "cell_type": "code",
   "execution_count": 20,
   "metadata": {},
   "outputs": [
    {
     "data": {
      "text/plain": [
       "[['McDonalds', '4', '-3'],\n",
       " ['Subway', '1', '0'],\n",
       " ['Steenbocks', '0', '1'],\n",
       " ['Greenbush Donuts', '0', '-3'],\n",
       " ['The Sett', '-1', '0']]"
      ]
     },
     "execution_count": 20,
     "metadata": {},
     "output_type": "execute_result"
    }
   ],
   "source": [
    "#Q11 Open up the file restaurants.csv and store it in restaurant_data\n",
    "restaurant_data = process_csv('restaurants.csv') \n",
    "restaurant_data # does not have a header"
   ]
  },
  {
   "cell_type": "code",
   "execution_count": 21,
   "metadata": {},
   "outputs": [],
   "source": [
    "# note that the above data has no header line"
   ]
  },
  {
   "cell_type": "code",
   "execution_count": null,
   "metadata": {},
   "outputs": [],
   "source": []
  },
  {
   "cell_type": "code",
   "execution_count": 22,
   "metadata": {},
   "outputs": [
    {
     "data": {
      "text/plain": [
       "'x=0 y=-3'"
      ]
     },
     "execution_count": 22,
     "metadata": {},
     "output_type": "execute_result"
    }
   ],
   "source": [
    "#Q12 write a function that is sent the name of a restaurant and prints out the \n",
    "# x and y coordinates, or return \"_____ not found\"\n",
    "# note:  even though we don't need to we convert x and y to int\n",
    "\n",
    "def get_coordinates(restaurant_name):\n",
    "    for row in restaurant_data:\n",
    "        if row[0] == restaurant_name: \n",
    "            return \"x={} y={}\".format(int(row[1]), int(row[2]))\n",
    "    return  restaurant_name + \" not found\"\n",
    "get_coordinates(\"Greenbush Donuts\")"
   ]
  },
  {
   "cell_type": "code",
   "execution_count": 23,
   "metadata": {},
   "outputs": [
    {
     "name": "stdout",
     "output_type": "stream",
     "text": [
      "5.0\n",
      "1.4142135623730951\n"
     ]
    }
   ],
   "source": [
    "#Q13 write a distance formula function\n",
    "import math\n",
    "def distance(x1, y1, x2, y2):\n",
    "    return math.sqrt((x1-x2)**2 + (y1-y2)**2)\n",
    "\n",
    "print(distance(0, 0, 3, 4)) #should be 5\n",
    "print(distance(1, 2, 2, 3)) # should be square root of 2"
   ]
  },
  {
   "cell_type": "code",
   "execution_count": 24,
   "metadata": {},
   "outputs": [
    {
     "name": "stdout",
     "output_type": "stream",
     "text": [
      "Steenbocks\n",
      "Subway\n",
      "McDonalds\n",
      "Greenbush Donuts\n"
     ]
    }
   ],
   "source": [
    "#Q14 write a function that is sent x and y coordinates and returns the name\n",
    "# of the closest restaurant to those coordinates\n",
    "# use the distance formula to calculate distance\n",
    "\n",
    "\n",
    "def closest_restaurant(current_x, current_y):\n",
    "    '''return the name of the closest restaurant to the parameters given'''\n",
    "    closest = None # start with no value, to be clear if no result found\n",
    "    min_dist = None\n",
    "    \n",
    "    for row in restaurant_data:\n",
    "        # note: there is no header for this file, so we have to hardcode\n",
    "        x1 = int(row[1])\n",
    "        y1 = int(row[2])\n",
    "        dist = distance(x1, y1, current_x, current_y)\n",
    "        if closest == None or dist < min_dist:\n",
    "            min_dist = dist\n",
    "            closest = row[0] # this is the name of the restaurant\n",
    "    return closest\n",
    "\n",
    "\n",
    "print(closest_restaurant(3, 4))\n",
    "print(closest_restaurant(0, 0))\n",
    "print(closest_restaurant(5, -2))\n",
    "print(closest_restaurant(1, -2))"
   ]
  },
  {
   "cell_type": "code",
   "execution_count": null,
   "metadata": {},
   "outputs": [],
   "source": [
    "\n",
    "\n"
   ]
  },
  {
   "cell_type": "code",
   "execution_count": 25,
   "metadata": {},
   "outputs": [],
   "source": [
    "# NOTE: in this lecture we used the row and column index a lot, \n",
    "#       which is an example of hardcoding\n",
    "#       but in your project you will access a column by name"
   ]
  },
  {
   "cell_type": "code",
   "execution_count": 26,
   "metadata": {},
   "outputs": [],
   "source": [
    "# After Lecture Practice:\n",
    "\n",
    "# 1. Read the lecture slides\n",
    "\n",
    "# 2. Go to the lecture notes directory on GitHub\n",
    "#  Run the .py files as shown in the lecture slides\n",
    "#  example:  >>>python rlookup.py Subway\n",
    "#  Then use cat to view the code"
   ]
  },
  {
   "cell_type": "code",
   "execution_count": null,
   "metadata": {},
   "outputs": [],
   "source": []
  }
 ],
 "metadata": {
  "kernelspec": {
   "display_name": "Python 3",
   "language": "python",
   "name": "python3"
  },
  "language_info": {
   "codemirror_mode": {
    "name": "ipython",
    "version": 3
   },
   "file_extension": ".py",
   "mimetype": "text/x-python",
   "name": "python",
   "nbconvert_exporter": "python",
   "pygments_lexer": "ipython3",
   "version": "3.9.1"
  }
 },
 "nbformat": 4,
 "nbformat_minor": 4
}
