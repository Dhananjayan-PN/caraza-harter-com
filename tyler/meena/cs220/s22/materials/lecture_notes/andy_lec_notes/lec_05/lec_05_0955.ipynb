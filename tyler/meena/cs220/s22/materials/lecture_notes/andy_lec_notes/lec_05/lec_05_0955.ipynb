{
 "cells": [
  {
   "cell_type": "code",
   "execution_count": 1,
   "metadata": {},
   "outputs": [
    {
     "name": "stdout",
     "output_type": "stream",
     "text": [
      "4.123105625617661\n"
     ]
    },
    {
     "data": {
      "text/plain": [
       "float"
      ]
     },
     "execution_count": 1,
     "metadata": {},
     "output_type": "execute_result"
    }
   ],
   "source": [
    "# Warmup:\n",
    "\n",
    "# Use the ** operator to calculate the square root of 17\n",
    "\n",
    "print(17 ** (1/2))\n",
    "\n",
    "# Use type to print out the type of the answer\n",
    "type(17 ** (1/2))\n",
    "\n"
   ]
  },
  {
   "cell_type": "markdown",
   "metadata": {},
   "source": [
    "### September 17: Expressions and Variables\n",
    "Learning Objectives:\n",
    "- 5.1 Evaluate Expressions\n",
    "- by identifying operators and operands\n",
    "- by identifying literal values and variables\n",
    "- by identifying the correct order of operations\n",
    "\n",
    "\n",
    "5.2 Write assignment statements with proper syntax\n",
    "- Start with a variable name that follows proper rules for variables\n",
    "- Use a single equals sign\n",
    "- Finish with an expression\n",
    "  \n",
    "  \n",
    "5.3 Define, give examples of, and identify 3 kinds of errors\n",
    "- Syntax error\n",
    "- Runtime error\n",
    "- Semantic error\n",
    "  \n",
    "  \n",
    "5.4 Write Python code that computes with strings ints, floats, and Boolean types"
   ]
  },
  {
   "cell_type": "code",
   "execution_count": null,
   "metadata": {},
   "outputs": [],
   "source": []
  },
  {
   "cell_type": "code",
   "execution_count": null,
   "metadata": {},
   "outputs": [],
   "source": []
  },
  {
   "cell_type": "code",
   "execution_count": null,
   "metadata": {},
   "outputs": [],
   "source": []
  },
  {
   "cell_type": "code",
   "execution_count": 2,
   "metadata": {},
   "outputs": [
    {
     "data": {
      "text/plain": [
       "True"
      ]
     },
     "execution_count": 2,
     "metadata": {},
     "output_type": "execute_result"
    }
   ],
   "source": [
    "# Trick expression #1:  What will this evaluate to:\n",
    "1+1 ==2 or 3 ** 10000000 > 2 ** 20000000"
   ]
  },
  {
   "cell_type": "code",
   "execution_count": 3,
   "metadata": {},
   "outputs": [
    {
     "ename": "KeyboardInterrupt",
     "evalue": "",
     "output_type": "error",
     "traceback": [
      "\u001b[0;31m------------------------------------------\u001b[0m",
      "\u001b[0;31mKeyboardInterrupt\u001b[0mTraceback (most recent call last)",
      "\u001b[0;32m<ipython-input-3-96e0c4506bad>\u001b[0m in \u001b[0;36m<module>\u001b[0;34m\u001b[0m\n\u001b[0;32m----> 1\u001b[0;31m \u001b[0;36m3\u001b[0m \u001b[0;34m**\u001b[0m \u001b[0;36m100000000\u001b[0m \u001b[0;34m>\u001b[0m \u001b[0;36m2\u001b[0m \u001b[0;34m**\u001b[0m \u001b[0;36m20000000\u001b[0m\u001b[0;34m\u001b[0m\u001b[0;34m\u001b[0m\u001b[0m\n\u001b[0m",
      "\u001b[0;31mKeyboardInterrupt\u001b[0m: "
     ]
    }
   ],
   "source": [
    "3 ** 10000 > 2 ** 2000"
   ]
  },
  {
   "cell_type": "code",
   "execution_count": null,
   "metadata": {},
   "outputs": [],
   "source": [
    "1 + 1 == 2 or 4 / 0\n",
    "# True or anything evaluates to True\n",
    "# this is an example of 'short circuiting'\n",
    "# read this page for a deeper explanation\n",
    "# https://eng.libretexts.org/Courses/Delta_College/Introduction_to_Programming_Concepts_-_Python/03%3A_Conditional_Execution/3.08%3A_Short-Circuit_Evaluation_of_Logical_Expressions\n"
   ]
  },
  {
   "cell_type": "code",
   "execution_count": null,
   "metadata": {},
   "outputs": [],
   "source": [
    "4 / 0 or 1 + 1 == 2 \n",
    "# short circuiting did not work because the first part had an error"
   ]
  },
  {
   "cell_type": "code",
   "execution_count": null,
   "metadata": {},
   "outputs": [],
   "source": [
    "False or True"
   ]
  },
  {
   "cell_type": "code",
   "execution_count": null,
   "metadata": {},
   "outputs": [],
   "source": [
    "# These examples might seem weird but they preview the kinds of errors\n",
    "# students make in their code"
   ]
  },
  {
   "cell_type": "code",
   "execution_count": null,
   "metadata": {},
   "outputs": [],
   "source": [
    "True or \"hi\"\n",
    "# the 2nd part did not make sense, \n",
    "# short circuiting told Python to just use the first part\n",
    "# True or anything will evalauate to True"
   ]
  },
  {
   "cell_type": "code",
   "execution_count": null,
   "metadata": {},
   "outputs": [],
   "source": [
    "False or \"hi\"\n",
    "# the 2nd part did not make sense, \n",
    "# the or operator knows the first part is false so it knows that\n",
    "# the result will be the 2nd part"
   ]
  },
  {
   "cell_type": "code",
   "execution_count": null,
   "metadata": {},
   "outputs": [],
   "source": [
    "3 + 4 == 7 or 6 \n",
    "# True or 6 evaluates to True\n"
   ]
  },
  {
   "cell_type": "code",
   "execution_count": null,
   "metadata": {},
   "outputs": [],
   "source": [
    "3 + 4 == 6 or 7\n",
    "# False or 7 evaluates to 7\n"
   ]
  },
  {
   "cell_type": "code",
   "execution_count": null,
   "metadata": {},
   "outputs": [],
   "source": []
  },
  {
   "cell_type": "code",
   "execution_count": null,
   "metadata": {},
   "outputs": [],
   "source": [
    "3 + 4 == 6 or 3 + 4 == 7 #Correct conditions"
   ]
  },
  {
   "cell_type": "code",
   "execution_count": null,
   "metadata": {},
   "outputs": [],
   "source": [
    "x = 10\n",
    "print(x)"
   ]
  },
  {
   "cell_type": "code",
   "execution_count": null,
   "metadata": {},
   "outputs": [],
   "source": [
    "# this is an expression but does not change the value of x\n",
    "x + 1"
   ]
  },
  {
   "cell_type": "code",
   "execution_count": null,
   "metadata": {},
   "outputs": [],
   "source": [
    "x = x + 3 # increase the value of x by 3 and store in x\n",
    "print(x)"
   ]
  },
  {
   "cell_type": "code",
   "execution_count": null,
   "metadata": {},
   "outputs": [],
   "source": [
    "x += 3 # another way to the same thing as above\n",
    "print(x)"
   ]
  },
  {
   "cell_type": "code",
   "execution_count": null,
   "metadata": {},
   "outputs": [],
   "source": [
    "x -= 1 # decrease the value of x by 1 nd store in x\n",
    "print(x)"
   ]
  },
  {
   "cell_type": "code",
   "execution_count": null,
   "metadata": {},
   "outputs": [],
   "source": [
    "# 5 = x # Syntax error"
   ]
  },
  {
   "cell_type": "code",
   "execution_count": null,
   "metadata": {},
   "outputs": [],
   "source": []
  },
  {
   "cell_type": "code",
   "execution_count": null,
   "metadata": {},
   "outputs": [],
   "source": []
  },
  {
   "cell_type": "code",
   "execution_count": null,
   "metadata": {},
   "outputs": [],
   "source": [
    "# int example\n",
    "# Print out hours, minutes, and seconds \n",
    "seconds = 12345\n",
    "\n",
    "hours = seconds // 3600\n",
    "print(hours)\n",
    "\n",
    "seconds = seconds - hours * 3600\n",
    "\n",
    "minutes = seconds // 60\n",
    "print(minutes)\n",
    "\n",
    "seconds = seconds - minutes * 60\n",
    "print(seconds)"
   ]
  },
  {
   "cell_type": "code",
   "execution_count": null,
   "metadata": {},
   "outputs": [],
   "source": [
    "# float example\n",
    "# Compound growth\n",
    "start = 1000\n",
    "interest = 7 #per year\n",
    "years = 30\n",
    "\n",
    "yearly_mult = 1 + interest / 100      # growth factor\n",
    "final = start * yearly_mult ** years\n",
    "print(final)"
   ]
  },
  {
   "cell_type": "code",
   "execution_count": null,
   "metadata": {},
   "outputs": [],
   "source": [
    "# str example\n",
    "# Alice vs Bob\n",
    "\n",
    "player1_name = 'Alice'\n",
    "player2_name = 'bob'\n",
    "\n",
    "player1_score = 10\n",
    "player2_score = 8\n",
    "\n",
    "#Scores are difficult to compare\n",
    "print(player1_name + ': ' + '|' * player1_score)\n",
    "print(player2_name + ': ' + '|' * player2_score)\n",
    "\n",
    "#Assuming name has a maximum of 9 characters\n",
    "#Now scores are easier to read and compare\n",
    "print(player1_name + ': ' + \" \" * (9 - len(player1_name)) + '|' * player1_score)\n",
    "print(player2_name + ': ' + \" \" * (9 - len(player2_name)) + '|' * player2_score)\n"
   ]
  },
  {
   "cell_type": "code",
   "execution_count": null,
   "metadata": {},
   "outputs": [],
   "source": [
    "# bool example\n",
    "age = 10\n",
    "valid = 0 <= age <= 100\n",
    "print(type(valid))\n",
    "print(\"you may continue: \" + str(valid))"
   ]
  },
  {
   "cell_type": "code",
   "execution_count": null,
   "metadata": {},
   "outputs": [],
   "source": [
    "# bool example\n",
    "age = 110\n",
    "valid = 0 <= age <= 100\n",
    "print(\"you may continue: \" + str(valid))"
   ]
  },
  {
   "cell_type": "code",
   "execution_count": null,
   "metadata": {},
   "outputs": [],
   "source": [
    "# Practice 1: Volume of a Sphere\n",
    "radius = 5\n",
    "volume = (4/3) * 3.14 * radius ** 2\n",
    "print(volume)"
   ]
  },
  {
   "cell_type": "code",
   "execution_count": null,
   "metadata": {},
   "outputs": [],
   "source": [
    "# Practice 2: print out character art\n",
    "\n",
    "width = 7\n",
    "height = 4\n",
    "row = \"#\" * width + \"\\n\"\n",
    "print(row) #notice that a blank line prints out below the row"
   ]
  },
  {
   "cell_type": "code",
   "execution_count": null,
   "metadata": {},
   "outputs": [],
   "source": [
    "# we can put our code in separate blocks\n",
    "block = row * height\n",
    "print(block)  "
   ]
  },
  {
   "cell_type": "code",
   "execution_count": null,
   "metadata": {},
   "outputs": [],
   "source": [
    "# try changing the value of width and height in the cells above\n",
    "# and then re-run the cells above this cell to get a different block"
   ]
  },
  {
   "cell_type": "code",
   "execution_count": null,
   "metadata": {},
   "outputs": [],
   "source": [
    "# Practice #3 Quadratic formula\n",
    "a = 2\n",
    "b = -3\n",
    "c = 7\n",
    "discriminant = b ** 2 - 4 * a * c\n",
    "print(discriminant)\n",
    "# notice the use of ()...needed for numerator/denominator\n",
    "# do you recall doing something similar in high school algebra?\n",
    "root1 = (-b + discriminant**(1/2)) / (2 * a)\n",
    "root2 = (-b - discriminant**(1/2)) / (2 * a)\n",
    "print(root1)\n",
    "print(root2)"
   ]
  },
  {
   "cell_type": "code",
   "execution_count": null,
   "metadata": {},
   "outputs": [],
   "source": [
    "# because the discriminant is less than zero\n",
    "# python automatically reports the answer as a Complex number\n",
    "# not sure what this means? check out\n",
    "# https://mathbitsnotebook.com/Algebra2/Quadratics/QDQuadratics.html\n",
    "\n",
    "# also note the slight rounding error in the 2nd solution 0.74999...\n",
    "# Python, like many programming languages, can have roundoff errors"
   ]
  },
  {
   "cell_type": "code",
   "execution_count": null,
   "metadata": {},
   "outputs": [],
   "source": [
    "# Challenge Problems:\n",
    "# At the end of the slides, you see challenge problems\n",
    "# These are not tested and we do not provide solutions\n",
    "# They are optional\n",
    "# If you want to talk to someone about them, \n",
    "# go to office hours (when its not busy) and ask someone"
   ]
  },
  {
   "cell_type": "code",
   "execution_count": null,
   "metadata": {},
   "outputs": [],
   "source": []
  }
 ],
 "metadata": {
  "kernelspec": {
   "display_name": "Python 3",
   "language": "python",
   "name": "python3"
  },
  "language_info": {
   "codemirror_mode": {
    "name": "ipython",
    "version": 3
   },
   "file_extension": ".py",
   "mimetype": "text/x-python",
   "name": "python",
   "nbconvert_exporter": "python",
   "pygments_lexer": "ipython3",
   "version": "3.8.5"
  }
 },
 "nbformat": 4,
 "nbformat_minor": 2
}
