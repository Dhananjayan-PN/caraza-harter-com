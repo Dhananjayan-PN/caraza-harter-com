{
 "cells": [
  {
   "cell_type": "markdown",
   "metadata": {},
   "source": [
    "# pytorch Gradients\n",
    "\n",
    "In this reading, we'll introduce pytorch.  It is similar to numpy (with `tensor`s instead of `array`s),  but with two additional very important features:\n",
    "\n",
    "1. ability to run on a GPU\n",
    "2. ability to compute gradients automatically\n",
    "\n",
    "We'll give a brief intro to tensors, then focus on that second functionality.\n",
    "\n",
    "Let's look at some tensors.  A tensor might be a simple scalar..."
   ]
  },
  {
   "cell_type": "code",
   "execution_count": 1,
   "metadata": {},
   "outputs": [
    {
     "data": {
      "text/plain": [
       "tensor(6.)"
      ]
     },
     "execution_count": 1,
     "metadata": {},
     "output_type": "execute_result"
    }
   ],
   "source": [
    "import matplotlib.pyplot as plt\n",
    "import numpy as np\n",
    "from torch import tensor, cuda\n",
    "\n",
    "x = tensor(3.0)\n",
    "x * 2"
   ]
  },
  {
   "cell_type": "markdown",
   "metadata": {},
   "source": [
    "Or a matrix or vector (or other multi-dimensional structure):"
   ]
  },
  {
   "cell_type": "code",
   "execution_count": 2,
   "metadata": {},
   "outputs": [
    {
     "data": {
      "text/plain": [
       "tensor([[1, 2],\n",
       "        [3, 4]])"
      ]
     },
     "execution_count": 2,
     "metadata": {},
     "output_type": "execute_result"
    }
   ],
   "source": [
    "X = tensor([[1,2], [3,4]])\n",
    "c = tensor([10, 1])\n",
    "X"
   ]
  },
  {
   "cell_type": "code",
   "execution_count": 3,
   "metadata": {},
   "outputs": [
    {
     "data": {
      "text/plain": [
       "tensor([[1, 2],\n",
       "        [3, 4]])"
      ]
     },
     "execution_count": 3,
     "metadata": {},
     "output_type": "execute_result"
    }
   ],
   "source": [
    "X"
   ]
  },
  {
   "cell_type": "code",
   "execution_count": 4,
   "metadata": {},
   "outputs": [
    {
     "data": {
      "text/plain": [
       "tensor([10,  1])"
      ]
     },
     "execution_count": 4,
     "metadata": {},
     "output_type": "execute_result"
    }
   ],
   "source": [
    "c"
   ]
  },
  {
   "cell_type": "markdown",
   "metadata": {},
   "source": [
    "We can do element-wise operations and dot products, just like with numpy arrays."
   ]
  },
  {
   "cell_type": "code",
   "execution_count": 5,
   "metadata": {},
   "outputs": [
    {
     "data": {
      "text/plain": [
       "tensor([[10, 20],\n",
       "        [30, 40]])"
      ]
     },
     "execution_count": 5,
     "metadata": {},
     "output_type": "execute_result"
    }
   ],
   "source": [
    "X * 10"
   ]
  },
  {
   "cell_type": "code",
   "execution_count": 6,
   "metadata": {},
   "outputs": [
    {
     "data": {
      "text/plain": [
       "tensor([[12],\n",
       "        [34]])"
      ]
     },
     "execution_count": 6,
     "metadata": {},
     "output_type": "execute_result"
    }
   ],
   "source": [
    "X @ c.reshape(-1,1)"
   ]
  },
  {
   "cell_type": "markdown",
   "metadata": {},
   "source": [
    "We can convert any numpy array to a pytorch tensor:"
   ]
  },
  {
   "cell_type": "code",
   "execution_count": 7,
   "metadata": {},
   "outputs": [
    {
     "data": {
      "text/plain": [
       "array([[1, 2],\n",
       "       [3, 4]])"
      ]
     },
     "execution_count": 7,
     "metadata": {},
     "output_type": "execute_result"
    }
   ],
   "source": [
    "X = np.array([[1,2], [3,4]])\n",
    "X"
   ]
  },
  {
   "cell_type": "code",
   "execution_count": 8,
   "metadata": {},
   "outputs": [
    {
     "data": {
      "text/plain": [
       "tensor([[1, 2],\n",
       "        [3, 4]])"
      ]
     },
     "execution_count": 8,
     "metadata": {},
     "output_type": "execute_result"
    }
   ],
   "source": [
    "X = tensor(X)\n",
    "X"
   ]
  },
  {
   "cell_type": "markdown",
   "metadata": {},
   "source": [
    "Unlike numpy arrays, which always reside in main memory, directly accessible by the CPU, tensors can belong either to the CPU, or GPU:"
   ]
  },
  {
   "cell_type": "code",
   "execution_count": 9,
   "metadata": {},
   "outputs": [
    {
     "data": {
      "text/plain": [
       "device(type='cpu')"
      ]
     },
     "execution_count": 9,
     "metadata": {},
     "output_type": "execute_result"
    }
   ],
   "source": [
    "X.device"
   ]
  },
  {
   "cell_type": "markdown",
   "metadata": {},
   "source": [
    "We won't do it in this reading, but when available, we can move our matrices to a compatible GPU.  This will make certain operations (like dot product of very large matrices) much faster."
   ]
  },
  {
   "cell_type": "code",
   "execution_count": 10,
   "metadata": {},
   "outputs": [
    {
     "name": "stdout",
     "output_type": "stream",
     "text": [
      "no GPU available for our tensors :(\n"
     ]
    }
   ],
   "source": [
    "if cuda.is_available():\n",
    "    print(\"move to GPU\")\n",
    "    X = X.to(\"cuda\")\n",
    "else:\n",
    "    print(\"no GPU available for our tensors :(\")"
   ]
  },
  {
   "cell_type": "markdown",
   "metadata": {},
   "source": [
    "## Gradients\n",
    "\n",
    "A *gradient* is a term for the slope at a particular point on a curve.  If you've taken a calculus class, you will have learned how to take the derivative of a function; a derivative is itself a function that can give a gradient at a particular point.  Gradients can be used for optimizations, such as maximization or minimization.  When we're creating a machine learning model, we'll want to minimize the mistakes it makes, for example.\n",
    "\n",
    "Let's create `plot_func`, which can be used to visualize a function, such as `f`:"
   ]
  },
  {
   "cell_type": "code",
   "execution_count": 11,
   "metadata": {},
   "outputs": [
    {
     "data": {
      "image/png": "[encoded data removed]",
      "text/plain": [
       "<Figure size 432x288 with 1 Axes>"
      ]
     },
     "metadata": {
      "needs_background": "light"
     },
     "output_type": "display_data"
    }
   ],
   "source": [
    "def plot_func(func, color=\"red\"):\n",
    "    x_vals = np.arange(-3, 3, 0.1)\n",
    "    y_vals = func(x_vals)\n",
    "    plt.plot(x_vals, y_vals, color)\n",
    "\n",
    "def f(x):\n",
    "    return x ** 3 + 3 * x ** 2 - 5 * x + 4\n",
    "\n",
    "plot_func(f)"
   ]
  },
  {
   "cell_type": "markdown",
   "metadata": {},
   "source": [
    "Let's also create a function to draw a line indicating the gradient at a particular point."
   ]
  },
  {
   "cell_type": "code",
   "execution_count": 12,
   "metadata": {},
   "outputs": [
    {
     "data": {
      "image/png": "[encoded data removed]",
      "text/plain": [
       "<Figure size 432x288 with 1 Axes>"
      ]
     },
     "metadata": {
      "needs_background": "light"
     },
     "output_type": "display_data"
    }
   ],
   "source": [
    "def plot_gradient(x, y, slope):\n",
    "    x, y, slope = map(float, (x, y, slope))\n",
    "    dx = 2\n",
    "    dy = dx*slope\n",
    "    plt.arrow(x-dx/2, y-dy/2, dx, dy, linewidth=2)\n",
    "    \n",
    "plot_func(f)\n",
    "plot_gradient(x=-2, y=f(-2), slope=-9)"
   ]
  },
  {
   "cell_type": "markdown",
   "metadata": {},
   "source": [
    "-9 was my guesstimate, and clearly it's a little off.  pytorch can calculate it for us if we use a scalar tensor for the x value instead of an int or float."
   ]
  },
  {
   "cell_type": "code",
   "execution_count": 13,
   "metadata": {},
   "outputs": [
    {
     "data": {
      "text/plain": [
       "tensor(-2.)"
      ]
     },
     "execution_count": 13,
     "metadata": {},
     "output_type": "execute_result"
    }
   ],
   "source": [
    "x = tensor(-2.0)\n",
    "x"
   ]
  },
  {
   "cell_type": "code",
   "execution_count": 14,
   "metadata": {},
   "outputs": [
    {
     "data": {
      "text/plain": [
       "tensor(18.)"
      ]
     },
     "execution_count": 14,
     "metadata": {},
     "output_type": "execute_result"
    }
   ],
   "source": [
    "y = f(x)\n",
    "y"
   ]
  },
  {
   "cell_type": "markdown",
   "metadata": {},
   "source": [
    "We should be able to get the gradient with `.grad`, as follows, but it's not currently set:"
   ]
  },
  {
   "cell_type": "code",
   "execution_count": 15,
   "metadata": {},
   "outputs": [
    {
     "name": "stdout",
     "output_type": "stream",
     "text": [
      "None\n"
     ]
    }
   ],
   "source": [
    "print(x.grad)"
   ]
  },
  {
   "cell_type": "markdown",
   "metadata": {},
   "source": [
    "To have that attribute set, we need to (1) tell pytorch to start doing some extra tracking for calculations based on x (using `.requires_grad`) and (2) at the end tell it to compute the slope with respect to y (using `.backward`).  The idea of the second part is that there may be situations where we could compute both `y = f(x)` and `z = g(x)` -- we would need to clarify whether we want `x.grad` to be the `y/x` slope or the `z/x` slope."
   ]
  },
  {
   "cell_type": "code",
   "execution_count": 16,
   "metadata": {},
   "outputs": [
    {
     "data": {
      "text/plain": [
       "tensor(-5.)"
      ]
     },
     "execution_count": 16,
     "metadata": {},
     "output_type": "execute_result"
    }
   ],
   "source": [
    "x = tensor(-2.0).requires_grad_()\n",
    "y = f(x)\n",
    "y.backward()\n",
    "slope = x.grad\n",
    "slope"
   ]
  },
  {
   "cell_type": "code",
   "execution_count": 17,
   "metadata": {},
   "outputs": [
    {
     "data": {
      "image/png": "[encoded data removed]",
      "text/plain": [
       "<Figure size 432x288 with 1 Axes>"
      ]
     },
     "metadata": {
      "needs_background": "light"
     },
     "output_type": "display_data"
    }
   ],
   "source": [
    "plot_func(f)\n",
    "plot_gradient(x=x, y=y, slope=slope)"
   ]
  },
  {
   "cell_type": "markdown",
   "metadata": {},
   "source": [
    "Besides `.requires_grad()`, `.backward()`, and `.grad`, one last thing we'll often use when working with gradients is `.grad.zero_()`.\n",
    "\n",
    "This is sometimes necessary because `.backward()` doesn't just set `.grad` equal to the gradient, it adds the gradient to `.grad` (this is useful in some situations we won't cover in 320).\n",
    "\n",
    "Here's an example of `.grad` being misused (with `.grad.zero_()`):"
   ]
  },
  {
   "cell_type": "code",
   "execution_count": 18,
   "metadata": {},
   "outputs": [
    {
     "data": {
      "image/png": "[encoded data removed]",
      "text/plain": [
       "<Figure size 432x288 with 1 Axes>"
      ]
     },
     "metadata": {
      "needs_background": "light"
     },
     "output_type": "display_data"
    }
   ],
   "source": [
    "# plot both f + g\n",
    "def g(x):\n",
    "    return x ** 2\n",
    "\n",
    "plot_func(f)\n",
    "plot_func(g)\n",
    "\n",
    "# draw the tangent line at x=-2 for f\n",
    "x = tensor(-2.0).requires_grad_()\n",
    "y = f(x)\n",
    "y.backward()\n",
    "plot_gradient(x=x, y=y, slope=x.grad)\n",
    "\n",
    "# TODO: uncomment the following to correctly compute the slope for the g line\n",
    "# x.grad.zero_()\n",
    "\n",
    "# draw the tangent line at x=-2 for g\n",
    "y = g(x)\n",
    "y.backward()\n",
    "plot_gradient(x=x, y=y, slope=x.grad)"
   ]
  },
  {
   "cell_type": "code",
   "execution_count": 19,
   "metadata": {},
   "outputs": [
    {
     "name": "stdout",
     "output_type": "stream",
     "text": [
      "tensor(-5.)\n",
      "tensor(-4.)\n"
     ]
    },
    {
     "data": {
      "image/png": "[encoded data removed]",
      "text/plain": [
       "<Figure size 432x288 with 1 Axes>"
      ]
     },
     "metadata": {
      "needs_background": "light"
     },
     "output_type": "display_data"
    }
   ],
   "source": [
    "# plot both f + g\n",
    "def g(x):\n",
    "    return x ** 2\n",
    "\n",
    "plot_func(f)\n",
    "plot_func(g)\n",
    "\n",
    "# draw the tangent line at x=-2 for f\n",
    "x = tensor(-2.0).requires_grad_()\n",
    "y = f(x)\n",
    "y.backward()\n",
    "print(x.grad)\n",
    "plot_gradient(x=x, y=y, slope=x.grad)\n",
    "\n",
    "x.grad.zero_()\n",
    "\n",
    "# draw the tangent line at x=-2 for g\n",
    "y = g(x)\n",
    "y.backward()\n",
    "print(x.grad)\n",
    "plot_gradient(x=x, y=y, slope=x.grad)"
   ]
  },
  {
   "cell_type": "markdown",
   "metadata": {},
   "source": [
    "# Conclusion\n",
    "\n",
    "If you know from calculus how to compute a derivative, then you can plug in an x value and get a gradient.  pytorch can compute the gradient directly for us, as long as we make some extra method calls (`.requires_grad` on the input variable and `.backward()` on the output variable).\n",
    "\n",
    "Gradients tell us the relation between two variables, which can help us optimize by slowly tweaking an input variable.  For example, if we're trying to minimize y, then a negative y/x gradient for a specific x value would tell us that making that x value a little bigger would help us make y a little smaller."
   ]
  }
 ],
 "metadata": {
  "kernelspec": {
   "display_name": "Python 3",
   "language": "python",
   "name": "python3"
  },
  "language_info": {
   "codemirror_mode": {
    "name": "ipython",
    "version": 3
   },
   "file_extension": ".py",
   "mimetype": "text/x-python",
   "name": "python",
   "nbconvert_exporter": "python",
   "pygments_lexer": "ipython3",
   "version": "3.7.2"
  }
 },
 "nbformat": 4,
 "nbformat_minor": 4
}
