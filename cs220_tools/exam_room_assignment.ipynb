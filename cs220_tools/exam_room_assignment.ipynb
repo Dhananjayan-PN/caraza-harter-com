{
 "cells": [
  {
   "cell_type": "markdown",
   "id": "d867fe30",
   "metadata": {},
   "source": [
    "# Exam room assignment\n",
    "- roster.json is expected to be in ../tools/\n",
    "- alternate_wisc_emails file is expected to be in ../tools (just wisc email of students taking the alternate exam)\n",
    "- mcburney_wisc_emails file is expected to be in ../tools (just netids of students taking the alternate exam)\n",
    "- Writes updated roster to ../tools/exam\\<number\\>_roster.json\n",
    "- Check that and replace roster.json with that version"
   ]
  },
  {
   "cell_type": "code",
   "execution_count": 1,
   "id": "fe5f8676",
   "metadata": {},
   "outputs": [],
   "source": [
    "import json\n",
    "import sys"
   ]
  },
  {
   "cell_type": "code",
   "execution_count": 2,
   "id": "8cffea3a",
   "metadata": {},
   "outputs": [],
   "source": [
    "def read_json(path):\n",
    "    with open(path, encoding = \"utf-8\") as f:\n",
    "        return json.load(f)\n",
    "\n",
    "def write_json(path, data):\n",
    "    with open(path, 'w', encoding = \"utf-8\") as f:\n",
    "        json.dump(data, f, indent = 2)"
   ]
  },
  {
   "cell_type": "code",
   "execution_count": 3,
   "id": "00110116",
   "metadata": {},
   "outputs": [
    {
     "name": "stdout",
     "output_type": "stream",
     "text": [
      "Number of alternate exam students: 42\n"
     ]
    },
    {
     "data": {
      "text/plain": [
       "{'luzney': 1,\n",
       " 'jjhunt2': 1,\n",
       " 'dllang': 1,\n",
       " 'bmlandrum': 1,\n",
       " 'cdarling3': 1,\n",
       " 'mguo62': 1,\n",
       " 'lgansen': 1,\n",
       " 'svossen': 1,\n",
       " 'eplamann': 1,\n",
       " 'nbutera': 1,\n",
       " 'poor2': 1,\n",
       " 'mesegal': 1,\n",
       " 'vhacker': 1,\n",
       " 'castagnozzi': 1,\n",
       " 'elkim3': 1,\n",
       " 'bmlewis6': 1,\n",
       " 'aihassan': 1,\n",
       " 'rnie4': 1,\n",
       " 'efrerks': 1,\n",
       " 'yzhang2337': 1,\n",
       " 'mdhanke': 1,\n",
       " 'stan68': 1,\n",
       " 'dregan4': 1,\n",
       " 'mjknight': 1,\n",
       " 'ehannon': 1,\n",
       " 'ali263': 1,\n",
       " 'cdong45': 1,\n",
       " 'ihsu3': 1,\n",
       " 'ckfessenden': 1,\n",
       " 'sspeece': 1,\n",
       " 'wdegoey': 1,\n",
       " 'jerouse': 1,\n",
       " 'lschmelzer': 1,\n",
       " 'jzeeb': 1,\n",
       " 'nmallick': 1,\n",
       " 'prfisher': 1,\n",
       " 'aklieu': 1,\n",
       " 'pbaumhardt': 1,\n",
       " 'hzhang928': 1,\n",
       " 'ahdesai2': 1,\n",
       " 'kchang68': 1,\n",
       " 'agupta269': 1}"
      ]
     },
     "execution_count": 3,
     "metadata": {},
     "output_type": "execute_result"
    }
   ],
   "source": [
    "alternate_netIDs = {} # KEY: netid; VALUE: 1\n",
    "with open(\"alternate_wisc_emails\") as FH:\n",
    "    for line in FH:\n",
    "        line = line.strip()\n",
    "        line = line.replace(\"@wisc.edu\", \"\")\n",
    "        if line not in alternate_netIDs:\n",
    "            alternate_netIDs[line] = 1\n",
    "        else:\n",
    "            print(\"Duplicate (alternate):\", line)\n",
    "\n",
    "print(\"Number of alternate exam students:\", len(alternate_netIDs))\n",
    "alternate_netIDs"
   ]
  },
  {
   "cell_type": "code",
   "execution_count": 4,
   "id": "ef9e50d4",
   "metadata": {},
   "outputs": [
    {
     "name": "stdout",
     "output_type": "stream",
     "text": [
      "Number of McBurney students: 35\n"
     ]
    },
    {
     "data": {
      "text/plain": [
       "{'weclark2': 1,\n",
       " 'inowacki': 1,\n",
       " 'nasiedlak': 1,\n",
       " 'tatelbaum': 1,\n",
       " 'nlesser': 1,\n",
       " 'eouyang': 1,\n",
       " 'ohene': 1,\n",
       " 'asweiss3': 1,\n",
       " 'nennigkniaz': 1,\n",
       " 'cari': 1,\n",
       " 'burczak': 1,\n",
       " 'amoussa2': 1,\n",
       " 'akondi': 1,\n",
       " 'abstark': 1,\n",
       " 'ajleonard4': 1,\n",
       " 'obizal': 1,\n",
       " 'dmwatson3': 1,\n",
       " 'jyfu2': 1,\n",
       " 'sliss2': 1,\n",
       " 'radecki2': 1,\n",
       " 'bglazier': 1,\n",
       " 'jkdawson2': 1,\n",
       " 'jarussell3': 1,\n",
       " 'knguyen34': 1,\n",
       " 'ankhan4': 1,\n",
       " 'mclarose': 1,\n",
       " 'semelendez': 1,\n",
       " 'bcao33': 1,\n",
       " 'mllaskowski': 1,\n",
       " 'tjfreeman': 1,\n",
       " 'gjkorn': 1,\n",
       " 'lstockhausen': 1,\n",
       " 'balara': 1,\n",
       " 'lkerrigan': 1,\n",
       " 'asteffensen': 1}"
      ]
     },
     "execution_count": 4,
     "metadata": {},
     "output_type": "execute_result"
    }
   ],
   "source": [
    "mcburney_netIDs = {}\n",
    "with open(\"mcburney_wisc_emails\") as FH:\n",
    "    for line in FH:\n",
    "        line = line.strip()\n",
    "        line = line.replace(\"@wisc.edu\", \"\")\n",
    "        if line not in mcburney_netIDs:\n",
    "            mcburney_netIDs[line] = 1\n",
    "        else:\n",
    "            print(\"Duplicate (mcburney):\", line)\n",
    "\n",
    "print(\"Number of McBurney students:\", len(mcburney_netIDs))\n",
    "mcburney_netIDs"
   ]
  },
  {
   "cell_type": "code",
   "execution_count": 5,
   "id": "c63c8165",
   "metadata": {},
   "outputs": [],
   "source": [
    "roster = read_json(\"../tools/roster.json\")\n",
    "section1_count = 0\n",
    "section2_count = 0\n",
    "section3_count = 0\n",
    "section4_count = 0\n",
    "section5_count = 0\n",
    "\n",
    "section_counts = {}\n",
    "\n",
    "# LEC001: 178 (Bascom 272 475)\n",
    "# LEC002: 167 (Humanities 3650 479)\n",
    "# LEC003: 215 (Ingraham B10 484)\n",
    "# LEC004: 135 (Humanities 2650 265)\n",
    "\n",
    "locations = {\n",
    "    1: \"Bascom 272; 7:30 to 9:30 pm on Wednesday, February 23rd\",\n",
    "    2: \"Humanities 3650; 7:30 to 9:30 pm on Wednesday, February 23rd\",\n",
    "    3: \"Ingraham B10; 7:30 to 9:30 pm on Wednesday, February 23rd\",\n",
    "    4: \"Humanities 2650; 7:30 to 9:30 pm on Wednesday, February 23rd\",\n",
    "    \"alternate\": \"Psychology 113; 7:30 to 9:30 pm on Thursday, February 24th\",\n",
    "    \"mcburney\": \"Comp Sci 1221; 5:30 to 9:30 pm on Wednesday, February 23rd\",\n",
    "}"
   ]
  },
  {
   "cell_type": "code",
   "execution_count": 6,
   "id": "30a0f8af",
   "metadata": {},
   "outputs": [
    {
     "name": "stdout",
     "output_type": "stream",
     "text": [
      "Enter exam name: exam1 or exam2 or final: exam1\n"
     ]
    }
   ],
   "source": [
    "exam_name = input(\"Enter exam name: exam1 or exam2 or final: \")"
   ]
  },
  {
   "cell_type": "code",
   "execution_count": 7,
   "id": "5f79cc7b",
   "metadata": {},
   "outputs": [
    {
     "name": "stdout",
     "output_type": "stream",
     "text": [
      "SEC004 student count: 119\n",
      "SEC002 student count: 150\n",
      "SEC001 student count: 160\n",
      "mcburney student count: 35\n",
      "SEC003 student count: 189\n",
      "alternate student count: 42\n"
     ]
    }
   ],
   "source": [
    "for student_dict in roster:\n",
    "    if not student_dict['enrolled']:\n",
    "        continue\n",
    "\n",
    "    #Alternate exam\n",
    "    if student_dict['net_id'] in alternate_netIDs:\n",
    "        if student_dict['section'] == 5:\n",
    "            print(\"Online section student filled alternate form:\", student_dict['net_id'])\n",
    "        alternate_netIDs[student_dict['net_id']] = 0\n",
    "        student_dict[exam_name] = locations['alternate']\n",
    "        if 'alternate' not in section_counts:\n",
    "            section_counts['alternate'] = 0\n",
    "        section_counts['alternate'] += 1\n",
    "        continue\n",
    "    \n",
    "    # McBurney exam\n",
    "    if student_dict['net_id'] in mcburney_netIDs:\n",
    "        mcburney_netIDs[student_dict['net_id']] = 0\n",
    "        student_dict[exam_name] = locations['mcburney']\n",
    "        if 'mcburney' not in section_counts:\n",
    "            section_counts['mcburney'] = 0\n",
    "        section_counts['mcburney'] += 1\n",
    "        continue\n",
    "\n",
    "\n",
    "    #Regular exam\n",
    "    if student_dict['section'] not in section_counts:\n",
    "        section_counts[student_dict['section']] = 0\n",
    "    section_counts[student_dict['section']] += 1\n",
    "    \n",
    "    student_dict[exam_name] = locations[student_dict['section']]\n",
    "\n",
    "for section in section_counts:\n",
    "    if type(section) == int:\n",
    "        print(\"SEC00{} student count: {}\".format(section, section_counts[section]))\n",
    "    else:\n",
    "        print(\"{} student count: {}\".format(section, section_counts[section]))\n",
    "            \n",
    "write_json(\"../tools/{}_roster.json\".format(exam_name), roster)"
   ]
  },
  {
   "cell_type": "code",
   "execution_count": 8,
   "id": "8beda0b3",
   "metadata": {},
   "outputs": [
    {
     "data": {
      "text/plain": [
       "77"
      ]
     },
     "execution_count": 8,
     "metadata": {},
     "output_type": "execute_result"
    }
   ],
   "source": [
    "# LEC001: 178 (Bascom 272 475)\n",
    "# LEC002: 167 (Humanities 3650 479)\n",
    "# LEC003: 215 (Ingraham B10 484)\n",
    "# LEC004: 135 (Humanities 2650 265)\n",
    "(178 - 160) + (167 - 150) + (215 - 189) + (135 - 119)"
   ]
  },
  {
   "cell_type": "code",
   "execution_count": 6,
   "id": "f30c4f0c",
   "metadata": {},
   "outputs": [
    {
     "data": {
      "text/plain": [
       "43.25"
      ]
     },
     "execution_count": 6,
     "metadata": {},
     "output_type": "execute_result"
    }
   ],
   "source": [
    "# LEC001: 178 (Bascom 272 475)\n",
    "157 / 4 + 4"
   ]
  },
  {
   "cell_type": "code",
   "execution_count": 9,
   "id": "2f156f27",
   "metadata": {},
   "outputs": [
    {
     "data": {
      "text/plain": [
       "41.25"
      ]
     },
     "execution_count": 9,
     "metadata": {},
     "output_type": "execute_result"
    }
   ],
   "source": [
    "# LEC002: 167 (Humanities 3650 479)\n",
    "149 / 4 + 4"
   ]
  },
  {
   "cell_type": "code",
   "execution_count": 13,
   "id": "92807d98",
   "metadata": {},
   "outputs": [
    {
     "data": {
      "text/plain": [
       "51.25"
      ]
     },
     "execution_count": 13,
     "metadata": {},
     "output_type": "execute_result"
    }
   ],
   "source": [
    "# LEC003: 215 (Ingraham B10 484)\n",
    "189 / 4 + 4"
   ]
  },
  {
   "cell_type": "code",
   "execution_count": 15,
   "id": "69d4f4bd",
   "metadata": {},
   "outputs": [
    {
     "data": {
      "text/plain": [
       "33.25"
      ]
     },
     "execution_count": 15,
     "metadata": {},
     "output_type": "execute_result"
    }
   ],
   "source": [
    "# LEC004: 135 (Humanities 2650 265)\n",
    "117 / 4 + 4"
   ]
  },
  {
   "cell_type": "code",
   "execution_count": 17,
   "id": "cc60b58a",
   "metadata": {},
   "outputs": [
    {
     "data": {
      "text/plain": [
       "12.0"
      ]
     },
     "execution_count": 17,
     "metadata": {},
     "output_type": "execute_result"
    }
   ],
   "source": [
    "# Alternate (Psychology 113)\n",
    "36 / 4 + 3"
   ]
  },
  {
   "cell_type": "code",
   "execution_count": 19,
   "id": "2608d05d",
   "metadata": {},
   "outputs": [
    {
     "data": {
      "text/plain": [
       "8.75"
      ]
     },
     "execution_count": 19,
     "metadata": {},
     "output_type": "execute_result"
    }
   ],
   "source": [
    "# McBurney exam (Comp Sci 1221)\n",
    "\n",
    "31 / 4 + 1"
   ]
  },
  {
   "cell_type": "code",
   "execution_count": null,
   "id": "0039680b",
   "metadata": {},
   "outputs": [],
   "source": []
  }
 ],
 "metadata": {
  "kernelspec": {
   "display_name": "Python 3 (ipykernel)",
   "language": "python",
   "name": "python3"
  },
  "language_info": {
   "codemirror_mode": {
    "name": "ipython",
    "version": 3
   },
   "file_extension": ".py",
   "mimetype": "text/x-python",
   "name": "python",
   "nbconvert_exporter": "python",
   "pygments_lexer": "ipython3",
   "version": "3.9.7"
  }
 },
 "nbformat": 4,
 "nbformat_minor": 5
}
